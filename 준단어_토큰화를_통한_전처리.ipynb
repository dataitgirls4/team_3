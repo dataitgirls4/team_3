{
  "nbformat": 4,
  "nbformat_minor": 0,
  "metadata": {
    "colab": {
      "name": "준단어 토큰화를 통한 전처리.ipynb",
      "provenance": [],
      "authorship_tag": "ABX9TyPmXBI7wIBKSALM/7MYgxTM",
      "include_colab_link": true
    },
    "kernelspec": {
      "name": "python3",
      "display_name": "Python 3"
    }
  },
  "cells": [
    {
      "cell_type": "markdown",
      "metadata": {
        "id": "view-in-github",
        "colab_type": "text"
      },
      "source": [
        "<a href=\"https://colab.research.google.com/github/dataitgirls4/team_3/blob/miree/%EC%A4%80%EB%8B%A8%EC%96%B4_%ED%86%A0%ED%81%B0%ED%99%94%EB%A5%BC_%ED%86%B5%ED%95%9C_%EC%A0%84%EC%B2%98%EB%A6%AC.ipynb\" target=\"_parent\"><img src=\"https://colab.research.google.com/assets/colab-badge.svg\" alt=\"Open In Colab\"/></a>"
      ]
    },
    {
      "cell_type": "markdown",
      "metadata": {
        "id": "8O4NROBmX-GW"
      },
      "source": [
        "# 데이터 열기"
      ]
    },
    {
      "cell_type": "markdown",
      "metadata": {
        "id": "XXWM_GJiYCCD"
      },
      "source": [
        "네이버 영화평 데이터를 연다."
      ]
    },
    {
      "cell_type": "code",
      "metadata": {
        "id": "22UpGNeUX2_4"
      },
      "source": [
        "import pandas as pd\n"
      ],
      "execution_count": 1,
      "outputs": []
    },
    {
      "cell_type": "markdown",
      "metadata": {
        "id": "0jAlPxF9YFjG"
      },
      "source": [
        "# 파일 열기"
      ]
    },
    {
      "cell_type": "code",
      "metadata": {
        "id": "4rdoBZA1YErT"
      },
      "source": [
        "nsmc = pd.read_csv('https://github.com/e9t/nsmc/raw/master/ratings_train.txt', sep='\\t')\n"
      ],
      "execution_count": 2,
      "outputs": []
    },
    {
      "cell_type": "markdown",
      "metadata": {
        "id": "92ZMchNEYOCi"
      },
      "source": [
        "데이터의 초반 5개를 확인한다."
      ]
    },
    {
      "cell_type": "code",
      "metadata": {
        "colab": {
          "base_uri": "https://localhost:8080/",
          "height": 202
        },
        "id": "mGZ03gIbYKik",
        "outputId": "142c044c-a9c8-480b-d23a-a6176b1042d4"
      },
      "source": [
        "nsmc.head()"
      ],
      "execution_count": 3,
      "outputs": [
        {
          "output_type": "execute_result",
          "data": {
            "text/html": [
              "<div>\n",
              "<style scoped>\n",
              "    .dataframe tbody tr th:only-of-type {\n",
              "        vertical-align: middle;\n",
              "    }\n",
              "\n",
              "    .dataframe tbody tr th {\n",
              "        vertical-align: top;\n",
              "    }\n",
              "\n",
              "    .dataframe thead th {\n",
              "        text-align: right;\n",
              "    }\n",
              "</style>\n",
              "<table border=\"1\" class=\"dataframe\">\n",
              "  <thead>\n",
              "    <tr style=\"text-align: right;\">\n",
              "      <th></th>\n",
              "      <th>id</th>\n",
              "      <th>document</th>\n",
              "      <th>label</th>\n",
              "    </tr>\n",
              "  </thead>\n",
              "  <tbody>\n",
              "    <tr>\n",
              "      <th>0</th>\n",
              "      <td>9976970</td>\n",
              "      <td>아 더빙.. 진짜 짜증나네요 목소리</td>\n",
              "      <td>0</td>\n",
              "    </tr>\n",
              "    <tr>\n",
              "      <th>1</th>\n",
              "      <td>3819312</td>\n",
              "      <td>흠...포스터보고 초딩영화줄....오버연기조차 가볍지 않구나</td>\n",
              "      <td>1</td>\n",
              "    </tr>\n",
              "    <tr>\n",
              "      <th>2</th>\n",
              "      <td>10265843</td>\n",
              "      <td>너무재밓었다그래서보는것을추천한다</td>\n",
              "      <td>0</td>\n",
              "    </tr>\n",
              "    <tr>\n",
              "      <th>3</th>\n",
              "      <td>9045019</td>\n",
              "      <td>교도소 이야기구먼 ..솔직히 재미는 없다..평점 조정</td>\n",
              "      <td>0</td>\n",
              "    </tr>\n",
              "    <tr>\n",
              "      <th>4</th>\n",
              "      <td>6483659</td>\n",
              "      <td>사이몬페그의 익살스런 연기가 돋보였던 영화!스파이더맨에서 늙어보이기만 했던 커스틴 ...</td>\n",
              "      <td>1</td>\n",
              "    </tr>\n",
              "  </tbody>\n",
              "</table>\n",
              "</div>"
            ],
            "text/plain": [
              "         id                                           document  label\n",
              "0   9976970                                아 더빙.. 진짜 짜증나네요 목소리      0\n",
              "1   3819312                  흠...포스터보고 초딩영화줄....오버연기조차 가볍지 않구나      1\n",
              "2  10265843                                  너무재밓었다그래서보는것을추천한다      0\n",
              "3   9045019                      교도소 이야기구먼 ..솔직히 재미는 없다..평점 조정      0\n",
              "4   6483659  사이몬페그의 익살스런 연기가 돋보였던 영화!스파이더맨에서 늙어보이기만 했던 커스틴 ...      1"
            ]
          },
          "metadata": {
            "tags": []
          },
          "execution_count": 3
        }
      ]
    },
    {
      "cell_type": "markdown",
      "metadata": {
        "id": "R1tBO_cxYiDU"
      },
      "source": [
        "데이터의 크기를 확인한다."
      ]
    },
    {
      "cell_type": "code",
      "metadata": {
        "colab": {
          "base_uri": "https://localhost:8080/"
        },
        "id": "te6m2xo-Ye2o",
        "outputId": "786dd015-613a-4cdd-bd44-d8c4bd934cb5"
      },
      "source": [
        "nsmc.shape"
      ],
      "execution_count": 4,
      "outputs": [
        {
          "output_type": "execute_result",
          "data": {
            "text/plain": [
              "(150000, 3)"
            ]
          },
          "metadata": {
            "tags": []
          },
          "execution_count": 4
        }
      ]
    },
    {
      "cell_type": "markdown",
      "metadata": {
        "id": "d3c5jU3DYmG5"
      },
      "source": [
        "여기서는 2000개만으로 감성분석 실습을 진행한다."
      ]
    },
    {
      "cell_type": "code",
      "metadata": {
        "id": "jpxXWfDSYkjH"
      },
      "source": [
        "nsmc = nsmc.loc[:1999]"
      ],
      "execution_count": 5,
      "outputs": []
    },
    {
      "cell_type": "markdown",
      "metadata": {
        "id": "iNvG5vyBYpU2"
      },
      "source": [
        "# 준단어 토큰화"
      ]
    },
    {
      "cell_type": "markdown",
      "metadata": {
        "id": "lIonR8FmZNPc"
      },
      "source": [
        "인터넷 글들은 맞춤법이나 띄어쓰기를 잘 지키지 않으므로 형태소 분석 대신 `sentencepiece`를 이용해서 준단어 토큰화를 한다.\n",
        "영화평을 `nsmc.txt` 파일로 저장합니다."
      ]
    },
    {
      "cell_type": "code",
      "metadata": {
        "id": "UhPTQDJoYoJt"
      },
      "source": [
        "with open('nsmc.txt', 'w', encoding='utf8') as f:\n",
        "    f.write('\\n'.join(nsmc['document']))"
      ],
      "execution_count": 7,
      "outputs": []
    },
    {
      "cell_type": "markdown",
      "metadata": {
        "id": "G9wM1fc8ZS74"
      },
      "source": [
        "준단어 토큰을 학습한다. 토큰의 종류는 총 3000개로 한다."
      ]
    },
    {
      "cell_type": "code",
      "metadata": {
        "colab": {
          "base_uri": "https://localhost:8080/"
        },
        "id": "5xQUwYwFZgDD",
        "outputId": "e4d827aa-408a-4f08-8561-a9a50d807fdc"
      },
      "source": [
        "pip install sentencepiece"
      ],
      "execution_count": 10,
      "outputs": [
        {
          "output_type": "stream",
          "text": [
            "Collecting sentencepiece\n",
            "\u001b[?25l  Downloading https://files.pythonhosted.org/packages/e5/2d/6d4ca4bef9a67070fa1cac508606328329152b1df10bdf31fb6e4e727894/sentencepiece-0.1.94-cp36-cp36m-manylinux2014_x86_64.whl (1.1MB)\n",
            "\u001b[K     |████████████████████████████████| 1.1MB 6.7MB/s \n",
            "\u001b[?25hInstalling collected packages: sentencepiece\n",
            "Successfully installed sentencepiece-0.1.94\n"
          ],
          "name": "stdout"
        }
      ]
    },
    {
      "cell_type": "code",
      "metadata": {
        "id": "ENfQE0v4ZKTS"
      },
      "source": [
        "from sentencepiece import SentencePieceTrainer\n",
        "SentencePieceTrainer.Train('--input=nsmc.txt --model_prefix=nsmc --vocab_size=3000')"
      ],
      "execution_count": 15,
      "outputs": []
    },
    {
      "cell_type": "code",
      "metadata": {
        "colab": {
          "base_uri": "https://localhost:8080/"
        },
        "id": "-cgBoOqVaAX2",
        "outputId": "7f7576be-8420-4a77-bba7-01914de2f25f"
      },
      "source": [
        "from sentencepiece import SentencePieceProcessor\n",
        "sp = SentencePieceProcessor()\n",
        "sp.Load(\"nsmc.model\")"
      ],
      "execution_count": 14,
      "outputs": [
        {
          "output_type": "execute_result",
          "data": {
            "text/plain": [
              "True"
            ]
          },
          "metadata": {
            "tags": []
          },
          "execution_count": 14
        }
      ]
    },
    {
      "cell_type": "code",
      "metadata": {
        "colab": {
          "base_uri": "https://localhost:8080/"
        },
        "id": "QlU2_JmTZWjK",
        "outputId": "eec5d330-8222-4810-ffe6-5257d64824cd"
      },
      "source": [
        "sp.encode_as_pieces(nsmc.loc[0, 'document'])"
      ],
      "execution_count": 16,
      "outputs": [
        {
          "output_type": "execute_result",
          "data": {
            "text/plain": [
              "['▁아', '▁더빙', '..', '▁진짜', '▁짜증나', '네요', '▁목소리']"
            ]
          },
          "metadata": {
            "tags": []
          },
          "execution_count": 16
        }
      ]
    },
    {
      "cell_type": "markdown",
      "metadata": {
        "id": "hXTZB1qtauVr"
      },
      "source": [
        "# 단어 문서 행렬(TDM) 만들기"
      ]
    },
    {
      "cell_type": "code",
      "metadata": {
        "id": "koEVBeD0Z9rV"
      },
      "source": [
        "from sklearn.feature_extraction.text import CountVectorizer"
      ],
      "execution_count": 17,
      "outputs": []
    },
    {
      "cell_type": "markdown",
      "metadata": {
        "id": "6gT5GvaNa1KU"
      },
      "source": [
        "옵션 가운데 `lowercase=False`로 설정하면 영어의 대문자를 소문자로 변환을 하지 않는다.\n"
      ]
    },
    {
      "cell_type": "code",
      "metadata": {
        "id": "TUpsSbCYazzH"
      },
      "source": [
        "cv = CountVectorizer(lowercase=False, tokenizer=sp.encode_as_pieces)"
      ],
      "execution_count": 18,
      "outputs": []
    },
    {
      "cell_type": "code",
      "metadata": {
        "id": "IvxKEjDna7Mk"
      },
      "source": [
        "tdm = cv.fit_transform(nsmc['document'])"
      ],
      "execution_count": 19,
      "outputs": []
    },
    {
      "cell_type": "markdown",
      "metadata": {
        "id": "fxKdhkjma-t3"
      },
      "source": [
        "# 훈련용 데이터와 테스트용 데이터 나누기"
      ]
    },
    {
      "cell_type": "markdown",
      "metadata": {
        "id": "2uKICRmxbJUR"
      },
      "source": [
        "새로운 데이터가 얼마나 일반화되어 있는지 측정하기 위해 훈련용과 테스트용 데이터를 나눈다.\n",
        "- `x_train` : 훈련용 데이터 (리뷰)\n",
        "- `y_train` : 훈련용 데이터 (0, 1로 분류된 감정)\n",
        "- `x_test` : 테스트용 데이터 (리뷰)\n",
        "- `y_test` : 테스트용 데이터 (0, 1로 분류된 감정)\n",
        "`sklearn.model_selection`의 `train_test_split` 모듈을 사용한다.\n",
        "\n"
      ]
    },
    {
      "cell_type": "code",
      "metadata": {
        "id": "eI0ckoywa8y7"
      },
      "source": [
        "from sklearn.model_selection import train_test_split"
      ],
      "execution_count": 20,
      "outputs": []
    },
    {
      "cell_type": "code",
      "metadata": {
        "id": "dYfY7ucHcqPG"
      },
      "source": [
        "x = tdm\n",
        "y = nsmc['label']"
      ],
      "execution_count": 21,
      "outputs": []
    },
    {
      "cell_type": "markdown",
      "metadata": {
        "id": "b9Phe8uNctm4"
      },
      "source": [
        "전체 데이터의 20%를 테스트용 데이터로 분할한다."
      ]
    },
    {
      "cell_type": "code",
      "metadata": {
        "id": "mQu6Ljr9csXp"
      },
      "source": [
        "x_train, x_test, y_train, y_test = train_test_split(x, y, test_size=0.2, random_state=42)"
      ],
      "execution_count": 22,
      "outputs": []
    },
    {
      "cell_type": "markdown",
      "metadata": {
        "id": "7rqj0_cwcw9k"
      },
      "source": [
        "# 저장"
      ]
    },
    {
      "cell_type": "markdown",
      "metadata": {
        "id": "RY35xfIHczY9"
      },
      "source": [
        "전처리 결과를 저장한다."
      ]
    },
    {
      "cell_type": "code",
      "metadata": {
        "id": "e4Nvc7jPcv6K"
      },
      "source": [
        "import joblib"
      ],
      "execution_count": 23,
      "outputs": []
    },
    {
      "cell_type": "markdown",
      "metadata": {
        "id": "ALlWaTXIc5hI"
      },
      "source": [
        "`cv`에서 `tokenizer`로 사용하고 있는 `sp.encode_as_pieces`는 C++ 언어로 작성된 함수를 Python에서 불러와 사용하는 것으로 `joblib`으로 저장할 수 없다. 따라서 여기서는 빈 값(`None`)으로 바꾸어놓는다."
      ]
    },
    {
      "cell_type": "code",
      "metadata": {
        "id": "AsP4Zfw4c2om"
      },
      "source": [
        "cv.tokenizer = None"
      ],
      "execution_count": 24,
      "outputs": []
    },
    {
      "cell_type": "markdown",
      "metadata": {
        "id": "QKPwaNQ_dDpq"
      },
      "source": [
        "`joblib`으로 저장한다."
      ]
    },
    {
      "cell_type": "code",
      "metadata": {
        "colab": {
          "base_uri": "https://localhost:8080/"
        },
        "id": "2-MI-bPHdCbQ",
        "outputId": "ce3da651-6100-49ce-e9dc-e817bed69070"
      },
      "source": [
        "joblib.dump((cv, x_train, x_test, y_train, y_test), 'nsmc.pkl')"
      ],
      "execution_count": 25,
      "outputs": [
        {
          "output_type": "execute_result",
          "data": {
            "text/plain": [
              "['nsmc.pkl']"
            ]
          },
          "metadata": {
            "tags": []
          },
          "execution_count": 25
        }
      ]
    },
    {
      "cell_type": "code",
      "metadata": {
        "id": "HZp5OvZOdHUt"
      },
      "source": [
        ""
      ],
      "execution_count": null,
      "outputs": []
    }
  ]
}