{
 "cells": [
  {
   "cell_type": "code",
   "execution_count": 173,
   "metadata": {},
   "outputs": [],
   "source": [
    "nickname = []\n",
    "created = []\n",
    "review = []\n",
    "title = []\n",
    "voice = []\n",
    "author = []"
   ]
  },
  {
   "cell_type": "code",
   "execution_count": 2,
   "metadata": {},
   "outputs": [],
   "source": [
    "from selenium import webdriver\n",
    "from bs4 import BeautifulSoup\n",
    "import pandas as pd\n",
    "import time\n",
    "from selenium.webdriver.support.ui import WebDriverWait"
   ]
  },
  {
   "cell_type": "code",
   "execution_count": 74,
   "metadata": {},
   "outputs": [],
   "source": [
    "driver = webdriver.Chrome('C:/Users/USER/Desktop/데잇걸즈/파이썬/[어수웅] 파이썬 프로그래밍/chromedriver') #각자 chromedriver가 설치되어있는 주소를 입력해주세요\n",
    "driver.implicitly_wait(5)\n",
    "driver.get(\"https://audioclip.naver.com/audiobooks/067EFEED58\") #각자 맡은 카테고리 페이지 url을 입력해주세요\n",
    "html = driver.page_source\n",
    "soup = BeautifulSoup(html, 'html.parser')\n",
    "댓글 = driver.find_element_by_xpath('//*[@id=\"content\"]/div/section/div[3]/div[1]/button[2]/span')\n",
    "댓글.click()"
   ]
  },
  {
   "cell_type": "code",
   "execution_count": 75,
   "metadata": {},
   "outputs": [
    {
     "ename": "IndexError",
     "evalue": "list index out of range",
     "output_type": "error",
     "traceback": [
      "\u001b[1;31m---------------------------------------------------------------------------\u001b[0m",
      "\u001b[1;31mIndexError\u001b[0m                                Traceback (most recent call last)",
      "\u001b[1;32m<ipython-input-75-bc3b22b8f810>\u001b[0m in \u001b[0;36m<module>\u001b[1;34m\u001b[0m\n\u001b[0;32m      8\u001b[0m     \u001b[0msoup3\u001b[0m \u001b[1;33m=\u001b[0m \u001b[0mBeautifulSoup\u001b[0m\u001b[1;33m(\u001b[0m\u001b[0mhtml\u001b[0m\u001b[1;33m,\u001b[0m \u001b[1;34m'html.parser'\u001b[0m\u001b[1;33m)\u001b[0m\u001b[1;33m\u001b[0m\u001b[1;33m\u001b[0m\u001b[0m\n\u001b[0;32m      9\u001b[0m     \u001b[1;32mfor\u001b[0m \u001b[0mj\u001b[0m \u001b[1;32min\u001b[0m \u001b[0mrange\u001b[0m\u001b[1;33m(\u001b[0m\u001b[1;36m20\u001b[0m\u001b[1;33m)\u001b[0m\u001b[1;33m:\u001b[0m\u001b[1;33m\u001b[0m\u001b[1;33m\u001b[0m\u001b[0m\n\u001b[1;32m---> 10\u001b[1;33m         \u001b[0ma\u001b[0m\u001b[1;33m=\u001b[0m\u001b[0msoup3\u001b[0m\u001b[1;33m.\u001b[0m\u001b[0mselect\u001b[0m\u001b[1;33m(\u001b[0m\u001b[1;34m'span.u_cbox_nick'\u001b[0m\u001b[1;33m)\u001b[0m\u001b[1;33m[\u001b[0m\u001b[0mj\u001b[0m\u001b[1;33m]\u001b[0m\u001b[1;33m.\u001b[0m\u001b[0mtext\u001b[0m\u001b[1;33m\u001b[0m\u001b[1;33m\u001b[0m\u001b[0m\n\u001b[0m\u001b[0;32m     11\u001b[0m         \u001b[0mb\u001b[0m\u001b[1;33m=\u001b[0m\u001b[0msoup3\u001b[0m\u001b[1;33m.\u001b[0m\u001b[0mselect\u001b[0m\u001b[1;33m(\u001b[0m\u001b[1;34m'span.u_cbox_date'\u001b[0m\u001b[1;33m)\u001b[0m\u001b[1;33m[\u001b[0m\u001b[0mj\u001b[0m\u001b[1;33m]\u001b[0m\u001b[1;33m.\u001b[0m\u001b[0mtext\u001b[0m\u001b[1;33m\u001b[0m\u001b[1;33m\u001b[0m\u001b[0m\n\u001b[0;32m     12\u001b[0m         \u001b[0mc\u001b[0m\u001b[1;33m=\u001b[0m\u001b[0msoup3\u001b[0m\u001b[1;33m.\u001b[0m\u001b[0mselect\u001b[0m\u001b[1;33m(\u001b[0m\u001b[1;34m'span.u_cbox_contents'\u001b[0m\u001b[1;33m)\u001b[0m\u001b[1;33m[\u001b[0m\u001b[0mj\u001b[0m\u001b[1;33m]\u001b[0m\u001b[1;33m.\u001b[0m\u001b[0mtext\u001b[0m\u001b[1;33m\u001b[0m\u001b[1;33m\u001b[0m\u001b[0m\n",
      "\u001b[1;31mIndexError\u001b[0m: list index out of range"
     ]
    }
   ],
   "source": [
    "html = driver.page_source\n",
    "soup2 = BeautifulSoup(html, 'html.parser')\n",
    "n = int(soup2.select('span.num')[1].text)\n",
    "for i in range(1,n//20 + 1):\n",
    "    다음페이지 = driver.find_element_by_xpath(f'//*[@id=\"cbox_module\"]/div/div[7]/div/a[{i}]')\n",
    "    다음페이지.click()\n",
    "    html = driver.page_source\n",
    "    soup3 = BeautifulSoup(html, 'html.parser')\n",
    "    for j in range(20):\n",
    "        a=soup3.select('span.u_cbox_nick')[j].text\n",
    "        b=soup3.select('span.u_cbox_date')[j].text\n",
    "        c=soup3.select('span.u_cbox_contents')[j].text\n",
    "        d=soup3.select('div.title')[0].text\n",
    "        e=soup3.select('div.detail_author>span')[0].text[:-2]\n",
    "        f=soup3.select('div.detail_author>span')[1].text[:-3]\n",
    "        nickname.append(a)\n",
    "        created.append(b)\n",
    "        review.append(c)\n",
    "        title.append(d)\n",
    "        author.append(e)\n",
    "        voice.append(f)\n",
    "다음페이지 = driver.find_element_by_xpath(f'//*[@id=\"cbox_module\"]/div/div[7]/div/a[{n//20+1}]')\n",
    "다음페이지.click()\n",
    "html = driver.page_source\n",
    "soup4 = BeautifulSoup(html, 'html.parser')\n",
    "a=soup3.select('span.u_cbox_nick')[j].text\n",
    "b=soup3.select('span.u_cbox_date')[j].text\n",
    "c=soup3.select('span.u_cbox_contents')[j].text\n",
    "d=soup3.select('div.title')[0].text\n",
    "e=soup3.select('div.detail_author>span')[0].text[:-2]\n",
    "f=soup3.select('div.detail_author>span')[1].text[:-3]\n",
    "nickname.append(a)\n",
    "created.append(b)\n",
    "review.append(c)\n",
    "title.append(d)\n",
    "author.append(e)\n",
    "voice.append(f)"
   ]
  },
  {
   "cell_type": "code",
   "execution_count": 120,
   "metadata": {},
   "outputs": [
    {
     "name": "stdout",
     "output_type": "stream",
     "text": [
      "1\n",
      "2\n",
      "3\n",
      "4\n",
      "5\n",
      "6\n"
     ]
    }
   ],
   "source": [
    "for i in range(1,n//20 + 2):\n",
    "    print(i)"
   ]
  },
  {
   "cell_type": "code",
   "execution_count": 168,
   "metadata": {},
   "outputs": [],
   "source": [
    "def scroll(driver, timeout):\n",
    "    scroll_pause_time = timeout\n",
    "\n",
    "    # Get scroll height\n",
    "    last_height = driver.execute_script(\"return document.body.scrollHeight\")\n",
    "\n",
    "    while True:\n",
    "        # Scroll down to bottom\n",
    "        driver.execute_script(\"window.scrollTo(0, document.body.scrollHeight);\")\n",
    "\n",
    "        # Wait to load page\n",
    "        time.sleep(scroll_pause_time)\n",
    "\n",
    "        # Calculate new scroll height and compare with last scroll height\n",
    "        new_height = driver.execute_script(\"return document.body.scrollHeight\")\n",
    "        if new_height == last_height:\n",
    "            # If heights are the same it will exit the function\n",
    "            break\n",
    "        last_height = new_height"
   ]
  },
  {
   "cell_type": "code",
   "execution_count": 174,
   "metadata": {},
   "outputs": [],
   "source": [
    "driver = webdriver.Chrome('C:/Users/USER/Desktop/데잇걸즈/파이썬/[어수웅] 파이썬 프로그래밍/chromedriver') #각자 chromedriver가 설치되어있는 주소를 입력해주세요\n",
    "driver.implicitly_wait(5)\n",
    "driver.get(\"https://audioclip.naver.com/audiobooks/067EFEED58\") #각자 맡은 카테고리 페이지 url을 입력해주세요\n",
    "html = driver.page_source\n",
    "soup = BeautifulSoup(html, 'html.parser')\n",
    "댓글 = driver.find_element_by_xpath('//*[@id=\"content\"]/div/section/div[3]/div[1]/button[2]/span')\n",
    "댓글.click()\n",
    "scroll(driver,1)\n",
    "time.sleep(1)"
   ]
  },
  {
   "cell_type": "code",
   "execution_count": 175,
   "metadata": {},
   "outputs": [],
   "source": [
    "html = driver.page_source\n",
    "soup2 = BeautifulSoup(html, 'html.parser')\n",
    "n = int(soup2.select('span.num')[1].text)\n",
    "a=soup2.select('span.u_cbox_nick')\n",
    "b=soup2.select('span.u_cbox_date')\n",
    "c=soup2.select('span.u_cbox_contents')\n",
    "nickname.append(a)\n",
    "created.append(b)\n",
    "review.append(c)\n",
    "for i in range(2,n//20 + 2):\n",
    "    다음페이지 = driver.find_element_by_xpath(f'//*[@id=\"cbox_module\"]/div/div[7]/div/a[{i}]')\n",
    "    다음페이지.click()\n",
    "    scroll(driver,1)\n",
    "    html = driver.page_source\n",
    "    soup3 = BeautifulSoup(html, 'html.parser')\n",
    "    a=soup3.select('span.u_cbox_nick')\n",
    "    b=soup3.select('span.u_cbox_date')\n",
    "    c=soup3.select('span.u_cbox_contents')\n",
    "    nickname.append(a)\n",
    "    created.append(b)\n",
    "    review.append(c)"
   ]
  },
  {
   "cell_type": "code",
   "execution_count": 207,
   "metadata": {},
   "outputs": [],
   "source": [
    "nickname = []\n",
    "created = []\n",
    "review = []\n",
    "title = []\n",
    "voice = []\n",
    "author = []"
   ]
  },
  {
   "cell_type": "code",
   "execution_count": 208,
   "metadata": {},
   "outputs": [],
   "source": [
    "driver = webdriver.Chrome('C:/Users/USER/Desktop/데잇걸즈/파이썬/[어수웅] 파이썬 프로그래밍/chromedriver') #각자 chromedriver가 설치되어있는 주소를 입력해주세요\n",
    "driver.implicitly_wait(5)\n",
    "driver.get(\"https://audioclip.naver.com/audiobooks/067EFEED58\") #각자 맡은 카테고리 페이지 url을 입력해주세요\n",
    "html = driver.page_source\n",
    "soup = BeautifulSoup(html, 'html.parser')\n",
    "댓글 = driver.find_element_by_xpath('//*[@id=\"content\"]/div/section/div[3]/div[1]/button[2]/span')\n",
    "댓글.click()\n",
    "scroll(driver,1)\n",
    "time.sleep(1)\n",
    "\n",
    "html = driver.page_source\n",
    "soup2 = BeautifulSoup(html, 'html.parser')\n",
    "n = int(soup2.select('span.num')[1].text)\n",
    "a=soup2.select('span.u_cbox_nick')\n",
    "b=soup2.select('span.u_cbox_date')\n",
    "c=soup2.select('span.u_cbox_contents')\n",
    "nickname.append(a)\n",
    "created.append(b)\n",
    "review.append(c)\n",
    "for i in range(2,n//20 + 2):\n",
    "    다음페이지 = driver.find_element_by_xpath(f'//*[@id=\"cbox_module\"]/div/div[7]/div/a[{i}]')\n",
    "    다음페이지.click()\n",
    "    scroll(driver,1)\n",
    "    time.sleep(1)\n",
    "    html = driver.page_source\n",
    "    soup3 = BeautifulSoup(html, 'html.parser')\n",
    "    a=soup3.select('span.u_cbox_nick')\n",
    "    b=soup3.select('span.u_cbox_date')\n",
    "    c=soup3.select('span.u_cbox_contents')\n",
    "    nickname.append(a)\n",
    "    created.append(b)\n",
    "    review.append(c)"
   ]
  },
  {
   "cell_type": "code",
   "execution_count": 206,
   "metadata": {},
   "outputs": [
    {
     "data": {
      "text/plain": [
       "116"
      ]
     },
     "execution_count": 206,
     "metadata": {},
     "output_type": "execute_result"
    }
   ],
   "source": [
    "n"
   ]
  },
  {
   "cell_type": "code",
   "execution_count": 209,
   "metadata": {},
   "outputs": [
    {
     "data": {
      "text/plain": [
       "6"
      ]
     },
     "execution_count": 209,
     "metadata": {},
     "output_type": "execute_result"
    }
   ],
   "source": [
    "len(nickname)"
   ]
  },
  {
   "cell_type": "code",
   "execution_count": 211,
   "metadata": {},
   "outputs": [
    {
     "data": {
      "text/plain": [
       "114"
      ]
     },
     "execution_count": 211,
     "metadata": {},
     "output_type": "execute_result"
    }
   ],
   "source": [
    "len(nickname[0])+len(nickname[1])+len(nickname[2])+len(nickname[3])+len(nickname[4])+len(nickname[5])"
   ]
  },
  {
   "cell_type": "code",
   "execution_count": 218,
   "metadata": {},
   "outputs": [
    {
     "data": {
      "text/plain": [
       "20"
      ]
     },
     "execution_count": 218,
     "metadata": {},
     "output_type": "execute_result"
    }
   ],
   "source": [
    "len(nickname[0])"
   ]
  },
  {
   "cell_type": "code",
   "execution_count": 219,
   "metadata": {},
   "outputs": [
    {
     "data": {
      "text/plain": [
       "20"
      ]
     },
     "execution_count": 219,
     "metadata": {},
     "output_type": "execute_result"
    }
   ],
   "source": [
    "len(nickname[1])"
   ]
  },
  {
   "cell_type": "code",
   "execution_count": 220,
   "metadata": {},
   "outputs": [
    {
     "data": {
      "text/plain": [
       "20"
      ]
     },
     "execution_count": 220,
     "metadata": {},
     "output_type": "execute_result"
    }
   ],
   "source": [
    "len(nickname[2])"
   ]
  },
  {
   "cell_type": "code",
   "execution_count": 221,
   "metadata": {},
   "outputs": [
    {
     "data": {
      "text/plain": [
       "20"
      ]
     },
     "execution_count": 221,
     "metadata": {},
     "output_type": "execute_result"
    }
   ],
   "source": [
    "len(nickname[3])"
   ]
  },
  {
   "cell_type": "code",
   "execution_count": 223,
   "metadata": {},
   "outputs": [
    {
     "data": {
      "text/plain": [
       "20"
      ]
     },
     "execution_count": 223,
     "metadata": {},
     "output_type": "execute_result"
    }
   ],
   "source": [
    "len(nickname[4])"
   ]
  },
  {
   "cell_type": "code",
   "execution_count": 225,
   "metadata": {},
   "outputs": [
    {
     "data": {
      "text/plain": [
       "[<span class=\"u_cbox_nick\">헤공</span>,\n",
       " <span class=\"u_cbox_nick\">김윤희</span>,\n",
       " <span class=\"u_cbox_nick\">fv3uo19y</span>,\n",
       " <span class=\"u_cbox_nick\">고공비행</span>,\n",
       " <span class=\"u_cbox_nick\">혜수맘</span>,\n",
       " <span class=\"u_cbox_nick\">올벋</span>,\n",
       " <span class=\"u_cbox_nick\">산들바람</span>,\n",
       " <span class=\"u_cbox_nick\">최고봉</span>,\n",
       " <span class=\"u_cbox_nick\">donkey34</span>,\n",
       " <span class=\"u_cbox_nick\">지혜</span>,\n",
       " <span class=\"u_cbox_nick\">혼자인게좋아</span>,\n",
       " <span class=\"u_cbox_nick\">이승현</span>,\n",
       " <span class=\"u_cbox_nick\">박진용</span>,\n",
       " <span class=\"u_cbox_nick\">Summer</span>]"
      ]
     },
     "execution_count": 225,
     "metadata": {},
     "output_type": "execute_result"
    }
   ],
   "source": [
    "nickname[5]"
   ]
  },
  {
   "cell_type": "code",
   "execution_count": null,
   "metadata": {},
   "outputs": [],
   "source": []
  },
  {
   "cell_type": "code",
   "execution_count": 155,
   "metadata": {},
   "outputs": [
    {
     "data": {
      "text/plain": [
       "[<span class=\"u_cbox_nick\">푸른꿈</span>,\n",
       " <span class=\"u_cbox_nick\">제바</span>,\n",
       " <span class=\"u_cbox_nick\">imhj****</span>,\n",
       " <span class=\"u_cbox_nick\">부레드피트</span>,\n",
       " <span class=\"u_cbox_nick\">뽀롱뽀롱뽀로로</span>,\n",
       " <span class=\"u_cbox_nick\">hoho_nk</span>,\n",
       " <span class=\"u_cbox_nick\">그녀</span>,\n",
       " <span class=\"u_cbox_nick\">topp****</span>,\n",
       " <span class=\"u_cbox_nick\">나나</span>,\n",
       " <span class=\"u_cbox_nick\">푸름이</span>,\n",
       " <span class=\"u_cbox_nick\">쭈야</span>,\n",
       " <span class=\"u_cbox_nick\">neoc****</span>,\n",
       " <span class=\"u_cbox_nick\">미음</span>,\n",
       " <span class=\"u_cbox_nick\">나후</span>,\n",
       " <span class=\"u_cbox_nick\">알or유</span>,\n",
       " <span class=\"u_cbox_nick\">MISTIC</span>,\n",
       " <span class=\"u_cbox_nick\">choi****</span>,\n",
       " <span class=\"u_cbox_nick\">밍크</span>,\n",
       " <span class=\"u_cbox_nick\">김주연</span>,\n",
       " <span class=\"u_cbox_nick\">쭈</span>]"
      ]
     },
     "execution_count": 155,
     "metadata": {},
     "output_type": "execute_result"
    }
   ],
   "source": [
    "nickname[2]"
   ]
  },
  {
   "cell_type": "code",
   "execution_count": 156,
   "metadata": {},
   "outputs": [
    {
     "data": {
      "text/plain": [
       "[<span class=\"u_cbox_nick\">ㅈㅈ</span>,\n",
       " <span class=\"u_cbox_nick\">haha****</span>,\n",
       " <span class=\"u_cbox_nick\">오늘이야</span>,\n",
       " <span class=\"u_cbox_nick\">ssel</span>,\n",
       " <span class=\"u_cbox_nick\">최혜리</span>,\n",
       " <span class=\"u_cbox_nick\">광우주둥이</span>,\n",
       " <span class=\"u_cbox_nick\">아스날팬임</span>,\n",
       " <span class=\"u_cbox_nick\">소정</span>,\n",
       " <span class=\"u_cbox_nick\">얼지마죽지마페니</span>,\n",
       " <span class=\"u_cbox_nick\">뜯어먹는밤빵</span>,\n",
       " <span class=\"u_cbox_nick\">rich****</span>,\n",
       " <span class=\"u_cbox_nick\">똥숫간</span>,\n",
       " <span class=\"u_cbox_nick\">초코바</span>,\n",
       " <span class=\"u_cbox_nick\">좋은날</span>,\n",
       " <span class=\"u_cbox_nick\">ㅇㅇ</span>,\n",
       " <span class=\"u_cbox_nick\">감자</span>,\n",
       " <span class=\"u_cbox_nick\">김천재</span>,\n",
       " <span class=\"u_cbox_nick\">MISTIC</span>,\n",
       " <span class=\"u_cbox_nick\">sosohan</span>,\n",
       " <span class=\"u_cbox_nick\">hjpe****</span>]"
      ]
     },
     "execution_count": 156,
     "metadata": {},
     "output_type": "execute_result"
    }
   ],
   "source": [
    "nickname[3]"
   ]
  },
  {
   "cell_type": "code",
   "execution_count": 157,
   "metadata": {},
   "outputs": [
    {
     "data": {
      "text/plain": [
       "[<span class=\"u_cbox_nick\">ㅈㅈ</span>,\n",
       " <span class=\"u_cbox_nick\">haha****</span>,\n",
       " <span class=\"u_cbox_nick\">오늘이야</span>,\n",
       " <span class=\"u_cbox_nick\">ssel</span>,\n",
       " <span class=\"u_cbox_nick\">최혜리</span>,\n",
       " <span class=\"u_cbox_nick\">광우주둥이</span>,\n",
       " <span class=\"u_cbox_nick\">아스날팬임</span>,\n",
       " <span class=\"u_cbox_nick\">소정</span>,\n",
       " <span class=\"u_cbox_nick\">얼지마죽지마페니</span>,\n",
       " <span class=\"u_cbox_nick\">뜯어먹는밤빵</span>,\n",
       " <span class=\"u_cbox_nick\">rich****</span>,\n",
       " <span class=\"u_cbox_nick\">똥숫간</span>,\n",
       " <span class=\"u_cbox_nick\">초코바</span>,\n",
       " <span class=\"u_cbox_nick\">좋은날</span>,\n",
       " <span class=\"u_cbox_nick\">ㅇㅇ</span>,\n",
       " <span class=\"u_cbox_nick\">감자</span>,\n",
       " <span class=\"u_cbox_nick\">김천재</span>,\n",
       " <span class=\"u_cbox_nick\">MISTIC</span>,\n",
       " <span class=\"u_cbox_nick\">sosohan</span>,\n",
       " <span class=\"u_cbox_nick\">hjpe****</span>]"
      ]
     },
     "execution_count": 157,
     "metadata": {},
     "output_type": "execute_result"
    }
   ],
   "source": [
    "nickname[4]"
   ]
  },
  {
   "cell_type": "code",
   "execution_count": 158,
   "metadata": {},
   "outputs": [
    {
     "data": {
      "text/plain": [
       "[<span class=\"u_cbox_nick\">jjoung</span>,\n",
       " <span class=\"u_cbox_nick\">샤미누</span>,\n",
       " <span class=\"u_cbox_nick\">눈먼멜론</span>,\n",
       " <span class=\"u_cbox_nick\">눈먼멜론</span>,\n",
       " <span class=\"u_cbox_nick\">K리그잘하더라</span>,\n",
       " <span class=\"u_cbox_nick\">읏짜</span>,\n",
       " <span class=\"u_cbox_nick\">잠</span>,\n",
       " <span class=\"u_cbox_nick\">지비</span>,\n",
       " <span class=\"u_cbox_nick\">clea****</span>,\n",
       " <span class=\"u_cbox_nick\">펜티엄</span>,\n",
       " <span class=\"u_cbox_nick\">로미</span>,\n",
       " <span class=\"u_cbox_nick\">Seo</span>,\n",
       " <span class=\"u_cbox_nick\">jiyu****</span>,\n",
       " <span class=\"u_cbox_nick\">이인하</span>,\n",
       " <span class=\"u_cbox_nick\">Cri04</span>,\n",
       " <span class=\"u_cbox_nick\">까때이로</span>,\n",
       " <span class=\"u_cbox_nick\">8252****</span>,\n",
       " <span class=\"u_cbox_nick\">9찌</span>,\n",
       " <span class=\"u_cbox_nick\">노홍</span>,\n",
       " <span class=\"u_cbox_nick\">몬디</span>]"
      ]
     },
     "execution_count": 158,
     "metadata": {},
     "output_type": "execute_result"
    }
   ],
   "source": [
    "nickname[5]"
   ]
  },
  {
   "cell_type": "code",
   "execution_count": 159,
   "metadata": {},
   "outputs": [
    {
     "data": {
      "text/plain": [
       "[<span class=\"u_cbox_nick\">ㅈㅈ</span>,\n",
       " <span class=\"u_cbox_nick\">haha****</span>,\n",
       " <span class=\"u_cbox_nick\">오늘이야</span>,\n",
       " <span class=\"u_cbox_nick\">ssel</span>,\n",
       " <span class=\"u_cbox_nick\">최혜리</span>,\n",
       " <span class=\"u_cbox_nick\">광우주둥이</span>,\n",
       " <span class=\"u_cbox_nick\">아스날팬임</span>,\n",
       " <span class=\"u_cbox_nick\">소정</span>,\n",
       " <span class=\"u_cbox_nick\">얼지마죽지마페니</span>,\n",
       " <span class=\"u_cbox_nick\">뜯어먹는밤빵</span>,\n",
       " <span class=\"u_cbox_nick\">rich****</span>,\n",
       " <span class=\"u_cbox_nick\">똥숫간</span>,\n",
       " <span class=\"u_cbox_nick\">초코바</span>,\n",
       " <span class=\"u_cbox_nick\">좋은날</span>,\n",
       " <span class=\"u_cbox_nick\">ㅇㅇ</span>,\n",
       " <span class=\"u_cbox_nick\">감자</span>,\n",
       " <span class=\"u_cbox_nick\">김천재</span>,\n",
       " <span class=\"u_cbox_nick\">MISTIC</span>,\n",
       " <span class=\"u_cbox_nick\">sosohan</span>,\n",
       " <span class=\"u_cbox_nick\">hjpe****</span>]"
      ]
     },
     "execution_count": 159,
     "metadata": {},
     "output_type": "execute_result"
    }
   ],
   "source": [
    "nickname[4] #4"
   ]
  },
  {
   "cell_type": "code",
   "execution_count": 160,
   "metadata": {},
   "outputs": [
    {
     "data": {
      "text/plain": [
       "[<span class=\"u_cbox_nick\">jjoung</span>,\n",
       " <span class=\"u_cbox_nick\">샤미누</span>,\n",
       " <span class=\"u_cbox_nick\">눈먼멜론</span>,\n",
       " <span class=\"u_cbox_nick\">눈먼멜론</span>,\n",
       " <span class=\"u_cbox_nick\">K리그잘하더라</span>,\n",
       " <span class=\"u_cbox_nick\">읏짜</span>,\n",
       " <span class=\"u_cbox_nick\">잠</span>,\n",
       " <span class=\"u_cbox_nick\">지비</span>,\n",
       " <span class=\"u_cbox_nick\">clea****</span>,\n",
       " <span class=\"u_cbox_nick\">펜티엄</span>,\n",
       " <span class=\"u_cbox_nick\">로미</span>,\n",
       " <span class=\"u_cbox_nick\">Seo</span>,\n",
       " <span class=\"u_cbox_nick\">jiyu****</span>,\n",
       " <span class=\"u_cbox_nick\">이인하</span>,\n",
       " <span class=\"u_cbox_nick\">Cri04</span>,\n",
       " <span class=\"u_cbox_nick\">까때이로</span>,\n",
       " <span class=\"u_cbox_nick\">8252****</span>,\n",
       " <span class=\"u_cbox_nick\">9찌</span>,\n",
       " <span class=\"u_cbox_nick\">노홍</span>,\n",
       " <span class=\"u_cbox_nick\">몬디</span>]"
      ]
     },
     "execution_count": 160,
     "metadata": {},
     "output_type": "execute_result"
    }
   ],
   "source": [
    "nickname[5] #5"
   ]
  },
  {
   "cell_type": "code",
   "execution_count": 161,
   "metadata": {},
   "outputs": [],
   "source": [
    "driver.find_element_by_xpath('//*[@id=\"cbox_module\"]/div/div[7]/div/a[6]').click()"
   ]
  },
  {
   "cell_type": "code",
   "execution_count": null,
   "metadata": {},
   "outputs": [],
   "source": []
  },
  {
   "cell_type": "code",
   "execution_count": null,
   "metadata": {},
   "outputs": [],
   "source": []
  }
 ],
 "metadata": {
  "kernelspec": {
   "display_name": "Python 3",
   "language": "python",
   "name": "python3"
  },
  "language_info": {
   "codemirror_mode": {
    "name": "ipython",
    "version": 3
   },
   "file_extension": ".py",
   "mimetype": "text/x-python",
   "name": "python",
   "nbconvert_exporter": "python",
   "pygments_lexer": "ipython3",
   "version": "3.8.3"
  }
 },
 "nbformat": 4,
 "nbformat_minor": 4
}
