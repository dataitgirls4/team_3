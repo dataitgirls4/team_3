{
 "cells": [
  {
   "cell_type": "code",
   "execution_count": 1,
   "metadata": {},
   "outputs": [],
   "source": [
    "from selenium import webdriver\n",
    "from bs4 import BeautifulSoup\n",
    "import pandas as pd\n",
    "import time\n",
    "from selenium.webdriver.support.ui import WebDriverWait"
   ]
  },
  {
   "cell_type": "markdown",
   "metadata": {},
   "source": [
    "- 소설) https://audioclip.naver.com/audiobook-categories/3/audiobooks (연)\n",
    "- 시에세이) https://audioclip.naver.com/audiobook-categories/4/audiobooks (연)\n",
    "- 인문) https://audioclip.naver.com/audiobook-categories/5/audiobooks (연)\n",
    "- 사회역사문화) https://audioclip.naver.com/audiobook-categories/6/audiobooks (연)\n",
    "- 경제경영) https://audioclip.naver.com/audiobook-categories/7/audiobooks (한)\n",
    "- 자기계발) https://audioclip.naver.com/audiobook-categories/8/audiobooks (한)\n",
    "- 가정육아) https://audioclip.naver.com/audiobook-categories/14/audiobooks (한)\n",
    "- 건강취미실용) https://audioclip.naver.com/audiobook-categories/9/audiobooks (한)\n",
    "- 과학) https://audioclip.naver.com/audiobook-categories/15/audiobooks (미)\n",
    "- 아동청소년) https://audioclip.naver.com/audiobook-categories/10/audiobooks (미)\n",
    "- 예술대중문화) https://audioclip.naver.com/audiobook-categories/16/audiobooks (미)\n",
    "- 종교) https://audioclip.naver.com/audiobook-categories/18/audiobooks (미)\n",
    "- 외국어) https://audioclip.naver.com/audiobook-categories/12/audiobooks (현)\n",
    "- 해외 오디오북) https://audioclip.naver.com/audiobook-categories/11/audiobooks (현)\n",
    "- 무료 오디오북) https://audioclip.naver.com/audiobook-categories/13/audiobooks (현)\n",
    "- 전집) https://audioclip.naver.com/audiobook-categories/95/audiobooks (현)\n",
    "- 유료 강연) https://audioclip.naver.com/audiobook-categories/87/audiobooks (현)"
   ]
  },
  {
   "cell_type": "code",
   "execution_count": 2,
   "metadata": {},
   "outputs": [],
   "source": [
    "def scroll(driver, timeout):\n",
    "    scroll_pause_time = timeout\n",
    "\n",
    "    # Get scroll height\n",
    "    last_height = driver.execute_script(\"return document.body.scrollHeight\")\n",
    "\n",
    "    while True:\n",
    "        # Scroll down to bottom\n",
    "        driver.execute_script(\"window.scrollTo(0, document.body.scrollHeight);\")\n",
    "\n",
    "        # Wait to load page\n",
    "        time.sleep(scroll_pause_time)\n",
    "\n",
    "        # Calculate new scroll height and compare with last scroll height\n",
    "        new_height = driver.execute_script(\"return document.body.scrollHeight\")\n",
    "        if new_height == last_height:\n",
    "            # If heights are the same it will exit the function\n",
    "            break\n",
    "        last_height = new_height"
   ]
  },
  {
   "cell_type": "code",
   "execution_count": null,
   "metadata": {},
   "outputs": [],
   "source": [
    "driver = webdriver.Chrome('C:/Users/USER/Desktop/데잇걸즈/파이썬/[어수웅] 파이썬 프로그래밍/chromedriver') #각자 chromedriver가 설치되어있는 주소를 입력해주세요\n",
    "driver.implicitly_wait(2)\n",
    "driver.get('https://audioclip.naver.com/audiobook-categories/3/audiobooks') #여러분들은 여기의 주소만 입력해주시면 됩니다..!!! 다른건 건들일 필요 ㄴㄴ\n",
    "scroll(driver,1) #스크롤\n",
    "time.sleep(3)\n",
    "html = driver.page_source\n",
    "soup = BeautifulSoup(html, 'html.parser') #soup에 저장\n",
    "time.sleep(3)\n",
    "\n",
    "url=[]\n",
    "for i in range(len(soup.select('div.audiobook_info > div.audiobook_title'))): #카테고리별 페이지에 있는 제목의 개수만큼의 i\n",
    "    a = soup.select('div.list_item>a.link')[i].get('href') #i번째 주소 가져오기\n",
    "    b = f'https://audioclip.naver.com{a}'\n",
    "    url.append(b) #url에 저장\n",
    "\n",
    "b=[]\n",
    "\n",
    "for i in url: #url에 있는 주소를 순서대로 실행시켜서 comment 개수를 가져와보자\n",
    "    driver.get(f'{i}'+'#comment')\n",
    "    scroll(driver,1)\n",
    "    html = driver.page_source\n",
    "    soup = BeautifulSoup(html, 'html.parser') #soup에 저장\n",
    "    if soup.select('button.tab>span.text')[1].text[3:] == '':\n",
    "        pass\n",
    "    else:\n",
    "        a = int(soup.select('span.text>span.num')[0].text)\n",
    "        b.append(a)"
   ]
  },
  {
   "cell_type": "code",
   "execution_count": null,
   "metadata": {},
   "outputs": [],
   "source": [
    "sum(b)"
   ]
  },
  {
   "cell_type": "code",
   "execution_count": null,
   "metadata": {},
   "outputs": [],
   "source": []
  }
 ],
 "metadata": {
  "kernelspec": {
   "display_name": "Python 3",
   "language": "python",
   "name": "python3"
  },
  "language_info": {
   "codemirror_mode": {
    "name": "ipython",
    "version": 3
   },
   "file_extension": ".py",
   "mimetype": "text/x-python",
   "name": "python",
   "nbconvert_exporter": "python",
   "pygments_lexer": "ipython3",
   "version": "3.8.3"
  }
 },
 "nbformat": 4,
 "nbformat_minor": 4
}
