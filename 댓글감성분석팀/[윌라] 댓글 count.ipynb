{
 "cells": [
  {
   "cell_type": "code",
   "execution_count": 1,
   "metadata": {},
   "outputs": [],
   "source": [
    "from selenium import webdriver\n",
    "from bs4 import BeautifulSoup\n",
    "import pandas as pd\n",
    "import time\n",
    "from selenium.webdriver.support.ui import WebDriverWait\n",
    "from selenium.webdriver.support import expected_conditions as EC\n",
    "from selenium.webdriver.common.by import By\n",
    "from selenium.webdriver.common.action_chains import ActionChains"
   ]
  },
  {
   "cell_type": "code",
   "execution_count": 2,
   "metadata": {},
   "outputs": [],
   "source": [
    "def scroll(driver, timeout):\n",
    "    scroll_pause_time = timeout\n",
    "\n",
    "    # Get scroll height\n",
    "    last_height = driver.execute_script(\"return document.body.scrollHeight\")\n",
    "\n",
    "    while True:\n",
    "        # Scroll down to bottom\n",
    "        driver.execute_script(\"window.scrollTo(0, document.body.scrollHeight);\")\n",
    "\n",
    "        # Wait to load page\n",
    "        time.sleep(scroll_pause_time)\n",
    "\n",
    "        # Calculate new scroll height and compare with last scroll height\n",
    "        new_height = driver.execute_script(\"return document.body.scrollHeight\")\n",
    "        if new_height == last_height:\n",
    "            # If heights are the same it will exit the function\n",
    "            break\n",
    "        last_height = new_height"
   ]
  },
  {
   "cell_type": "code",
   "execution_count": 3,
   "metadata": {},
   "outputs": [],
   "source": [
    "driver = webdriver.Chrome('C:/Users/USER/Desktop/데잇걸즈/파이썬/[어수웅] 파이썬 프로그래밍/chromedriver') #각자 chromedriver가 설치되어있는 주소를 입력해주세요\n",
    "driver.implicitly_wait(2)\n",
    "driver.get('https://www.welaaa.com/audio/list?ccode=800') #여러분들은 여기의 주소만 입력해주시면 됩니다..!!! 다른건 건들일 필요 ㄴㄴ\n",
    "scroll(driver,2) #스크롤\n",
    "time.sleep(3)\n",
    "html = driver.page_source\n",
    "soup = BeautifulSoup(html, 'html.parser') #soup에 저장"
   ]
  },
  {
   "cell_type": "code",
   "execution_count": 4,
   "metadata": {},
   "outputs": [],
   "source": [
    "for i in range(11):\n",
    "    WebDriverWait(driver, 5)\n",
    "    더보기=driver.find_element_by_xpath('//*[@id=\"__next\"]/div/div[2]/div[2]/div[3]/div[2]/button')\n",
    "    더보기.click()"
   ]
  },
  {
   "cell_type": "code",
   "execution_count": 5,
   "metadata": {},
   "outputs": [],
   "source": [
    "scroll(driver,2)\n",
    "html = driver.page_source\n",
    "soup2 = BeautifulSoup(html, 'html.parser')"
   ]
  },
  {
   "cell_type": "code",
   "execution_count": 47,
   "metadata": {},
   "outputs": [],
   "source": [
    "a=[]\n",
    "for n in range(134):\n",
    "    a.append(int(soup2.select('span.w-btn-group__count')[4*n+2].text))"
   ]
  },
  {
   "cell_type": "code",
   "execution_count": 48,
   "metadata": {},
   "outputs": [
    {
     "data": {
      "text/plain": [
       "134"
      ]
     },
     "execution_count": 48,
     "metadata": {},
     "output_type": "execute_result"
    }
   ],
   "source": [
    "len(a)"
   ]
  },
  {
   "cell_type": "code",
   "execution_count": 49,
   "metadata": {},
   "outputs": [
    {
     "data": {
      "text/plain": [
       "4433"
      ]
     },
     "execution_count": 49,
     "metadata": {},
     "output_type": "execute_result"
    }
   ],
   "source": [
    "sum(a)"
   ]
  },
  {
   "cell_type": "code",
   "execution_count": 50,
   "metadata": {},
   "outputs": [
    {
     "data": {
      "text/html": [
       "<div>\n",
       "<style scoped>\n",
       "    .dataframe tbody tr th:only-of-type {\n",
       "        vertical-align: middle;\n",
       "    }\n",
       "\n",
       "    .dataframe tbody tr th {\n",
       "        vertical-align: top;\n",
       "    }\n",
       "\n",
       "    .dataframe thead th {\n",
       "        text-align: right;\n",
       "    }\n",
       "</style>\n",
       "<table border=\"1\" class=\"dataframe\">\n",
       "  <thead>\n",
       "    <tr style=\"text-align: right;\">\n",
       "      <th></th>\n",
       "      <th>Unnamed: 0</th>\n",
       "      <th>nickname</th>\n",
       "      <th>created</th>\n",
       "      <th>review</th>\n",
       "    </tr>\n",
       "  </thead>\n",
       "  <tbody>\n",
       "    <tr>\n",
       "      <th>0</th>\n",
       "      <td>0</td>\n",
       "      <td>김소연</td>\n",
       "      <td>2020.11.27 12:17</td>\n",
       "      <td>중간중간 알란의 과거 회상 파트는 약간 지루했지만 전체적으로 가볍게 듣기 좋았어요!...</td>\n",
       "    </tr>\n",
       "    <tr>\n",
       "      <th>1</th>\n",
       "      <td>1</td>\n",
       "      <td>유영미</td>\n",
       "      <td>2020.11.29 10:44</td>\n",
       "      <td>4</td>\n",
       "    </tr>\n",
       "    <tr>\n",
       "      <th>2</th>\n",
       "      <td>2</td>\n",
       "      <td>전미선</td>\n",
       "      <td>2020.11.28 23:32</td>\n",
       "      <td>잘들었습니다 \\n</td>\n",
       "    </tr>\n",
       "    <tr>\n",
       "      <th>3</th>\n",
       "      <td>3</td>\n",
       "      <td>임종민</td>\n",
       "      <td>2020.11.26 16:43</td>\n",
       "      <td>다시 들어도 여전히 유익합니다.</td>\n",
       "    </tr>\n",
       "    <tr>\n",
       "      <th>4</th>\n",
       "      <td>4</td>\n",
       "      <td>김경용</td>\n",
       "      <td>2020.11.25 20:39</td>\n",
       "      <td>내용이 편안하고 유익하네요.\\n잘 들었습니다.</td>\n",
       "    </tr>\n",
       "    <tr>\n",
       "      <th>...</th>\n",
       "      <td>...</td>\n",
       "      <td>...</td>\n",
       "      <td>...</td>\n",
       "      <td>...</td>\n",
       "    </tr>\n",
       "    <tr>\n",
       "      <th>4036</th>\n",
       "      <td>4036</td>\n",
       "      <td>강선희</td>\n",
       "      <td>2020.08.02 14:21</td>\n",
       "      <td>4장과 6장 매우 흥미롭게 들었습니다 \\n작가님 다른 책도 보고 있는데, 문체가 간...</td>\n",
       "    </tr>\n",
       "    <tr>\n",
       "      <th>4037</th>\n",
       "      <td>4037</td>\n",
       "      <td>이현진</td>\n",
       "      <td>2020.07.27 22:18</td>\n",
       "      <td>...</td>\n",
       "    </tr>\n",
       "    <tr>\n",
       "      <th>4038</th>\n",
       "      <td>4038</td>\n",
       "      <td>이승현</td>\n",
       "      <td>2020.07.23 13:12</td>\n",
       "      <td>재밌게 듣다가 리뷰보고 식겁...</td>\n",
       "    </tr>\n",
       "    <tr>\n",
       "      <th>4039</th>\n",
       "      <td>4039</td>\n",
       "      <td>오Mi남</td>\n",
       "      <td>2020.07.18 16:17</td>\n",
       "      <td>어우 성소수자 얘기는 듣기 정말 힘들었다. 결론이 뭔지. 뭐 어쩌라는건지</td>\n",
       "    </tr>\n",
       "    <tr>\n",
       "      <th>4040</th>\n",
       "      <td>4040</td>\n",
       "      <td>리플러스 / 재혁</td>\n",
       "      <td>2020.07.15 20:27</td>\n",
       "      <td>글 너무 잘쓴다...</td>\n",
       "    </tr>\n",
       "  </tbody>\n",
       "</table>\n",
       "<p>4041 rows × 4 columns</p>\n",
       "</div>"
      ],
      "text/plain": [
       "      Unnamed: 0   nickname           created  \\\n",
       "0              0        김소연  2020.11.27 12:17   \n",
       "1              1        유영미  2020.11.29 10:44   \n",
       "2              2        전미선  2020.11.28 23:32   \n",
       "3              3        임종민  2020.11.26 16:43   \n",
       "4              4        김경용  2020.11.25 20:39   \n",
       "...          ...        ...               ...   \n",
       "4036        4036        강선희  2020.08.02 14:21   \n",
       "4037        4037        이현진  2020.07.27 22:18   \n",
       "4038        4038        이승현  2020.07.23 13:12   \n",
       "4039        4039       오Mi남  2020.07.18 16:17   \n",
       "4040        4040  리플러스 / 재혁  2020.07.15 20:27   \n",
       "\n",
       "                                                 review  \n",
       "0     중간중간 알란의 과거 회상 파트는 약간 지루했지만 전체적으로 가볍게 듣기 좋았어요!...  \n",
       "1                                                     4  \n",
       "2                                             잘들었습니다 \\n  \n",
       "3                                     다시 들어도 여전히 유익합니다.  \n",
       "4                             내용이 편안하고 유익하네요.\\n잘 들었습니다.  \n",
       "...                                                 ...  \n",
       "4036  4장과 6장 매우 흥미롭게 들었습니다 \\n작가님 다른 책도 보고 있는데, 문체가 간...  \n",
       "4037                                                ...  \n",
       "4038                                 재밌게 듣다가 리뷰보고 식겁...  \n",
       "4039           어우 성소수자 얘기는 듣기 정말 힘들었다. 결론이 뭔지. 뭐 어쩌라는건지  \n",
       "4040                                        글 너무 잘쓴다...  \n",
       "\n",
       "[4041 rows x 4 columns]"
      ]
     },
     "execution_count": 50,
     "metadata": {},
     "output_type": "execute_result"
    }
   ],
   "source": [
    "pd.read_csv('C:/Users/USER/Desktop/깃헙코웤/team_3/data/welaa_review.csv', encoding='utf-8')"
   ]
  },
  {
   "cell_type": "code",
   "execution_count": null,
   "metadata": {},
   "outputs": [],
   "source": []
  }
 ],
 "metadata": {
  "kernelspec": {
   "display_name": "Python 3",
   "language": "python",
   "name": "python3"
  },
  "language_info": {
   "codemirror_mode": {
    "name": "ipython",
    "version": 3
   },
   "file_extension": ".py",
   "mimetype": "text/x-python",
   "name": "python",
   "nbconvert_exporter": "python",
   "pygments_lexer": "ipython3",
   "version": "3.8.3"
  }
 },
 "nbformat": 4,
 "nbformat_minor": 4
}
