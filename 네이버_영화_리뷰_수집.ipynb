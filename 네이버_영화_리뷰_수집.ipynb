{
  "nbformat": 4,
  "nbformat_minor": 0,
  "metadata": {
    "colab": {
      "name": "네이버 영화 리뷰 수집.ipynb",
      "provenance": [],
      "authorship_tag": "ABX9TyPY9z9QezsnNk/YrhLN6cMc",
      "include_colab_link": true
    },
    "kernelspec": {
      "name": "python3",
      "display_name": "Python 3"
    }
  },
  "cells": [
    {
      "cell_type": "markdown",
      "metadata": {
        "id": "view-in-github",
        "colab_type": "text"
      },
      "source": [
        "<a href=\"https://colab.research.google.com/github/dataitgirls4/team_3/blob/miree/%EB%84%A4%EC%9D%B4%EB%B2%84_%EC%98%81%ED%99%94_%EB%A6%AC%EB%B7%B0_%EC%88%98%EC%A7%91.ipynb\" target=\"_parent\"><img src=\"https://colab.research.google.com/assets/colab-badge.svg\" alt=\"Open In Colab\"/></a>"
      ]
    },
    {
      "cell_type": "code",
      "metadata": {
        "id": "eT6P9SlBUDwo"
      },
      "source": [
        "import requests\n",
        "import lxml.html"
      ],
      "execution_count": 1,
      "outputs": []
    },
    {
      "cell_type": "markdown",
      "metadata": {
        "id": "Qtr8JIoBUWpP"
      },
      "source": [
        "네이버 영화의 관객 리뷰는 프레임 안에 들어있으므로, 프레임의 주소를 받아와야 한다.\n",
        "\n"
      ]
    },
    {
      "cell_type": "code",
      "metadata": {
        "id": "cY7_dAbrUL_Y"
      },
      "source": [
        "res = requests.get('https://movie.naver.com/movie/bi/mi/pointWriteFormList.nhn?code=169349&type=after&isActualPointWriteExecute=false&isMileageSubscriptionAlready=false&isMileageSubscriptionReject=false')\n"
      ],
      "execution_count": 2,
      "outputs": []
    },
    {
      "cell_type": "markdown",
      "metadata": {
        "id": "bxBgcXArUZqT"
      },
      "source": [
        "HTML을 처리한다.\n",
        "\n"
      ]
    },
    {
      "cell_type": "code",
      "metadata": {
        "id": "qg8UHPAVUUoH"
      },
      "source": [
        "root = lxml.html.fromstring(res.text)\n"
      ],
      "execution_count": 3,
      "outputs": []
    },
    {
      "cell_type": "markdown",
      "metadata": {
        "id": "i3oupieuUfaE"
      },
      "source": [
        "관객 리뷰와 별점을 수집한다.\n",
        "\n"
      ]
    },
    {
      "cell_type": "code",
      "metadata": {
        "colab": {
          "base_uri": "https://localhost:8080/"
        },
        "id": "qsbYnOaSWqlZ",
        "outputId": "02dfa990-a78d-48bf-b7ed-8a8bbb08fe3d"
      },
      "source": [
        "pip install cssselect"
      ],
      "execution_count": 9,
      "outputs": [
        {
          "output_type": "stream",
          "text": [
            "Collecting cssselect\n",
            "  Downloading https://files.pythonhosted.org/packages/3b/d4/3b5c17f00cce85b9a1e6f91096e1cc8e8ede2e1be8e96b87ce1ed09e92c5/cssselect-1.1.0-py2.py3-none-any.whl\n",
            "Installing collected packages: cssselect\n",
            "Successfully installed cssselect-1.1.0\n"
          ],
          "name": "stdout"
        }
      ]
    },
    {
      "cell_type": "code",
      "metadata": {
        "id": "NFY2BUrKUdmS"
      },
      "source": [
        "reviews = root.cssselect('.score_reple p')\n",
        "stars = root.cssselect('.star_score')"
      ],
      "execution_count": 10,
      "outputs": []
    },
    {
      "cell_type": "markdown",
      "metadata": {
        "id": "VIQlLWC5W1p7"
      },
      "source": [
        "리뷰 텍스트를 추출하고, 별점은 정수(int)로 변환 후 5점을 넘으면 긍정(1), 5점 이하는 부정(0)으로 처리한다.\n",
        "\n"
      ]
    },
    {
      "cell_type": "code",
      "metadata": {
        "id": "dlw-uTYAUoOg"
      },
      "source": [
        "data = []\n",
        "for review, star in zip(reviews, stars):\n",
        "    text = review.text_content().strip()\n",
        "    score = int(star.text_content().strip())\n",
        "    sentiment = 1 if score > 5 else 0\n",
        "    data.append((text, sentiment))"
      ],
      "execution_count": 11,
      "outputs": []
    },
    {
      "cell_type": "markdown",
      "metadata": {
        "id": "_NNU8RRCW6_E"
      },
      "source": [
        "pandas의 데이터 프레임으로 변환한다.\n",
        "\n"
      ]
    },
    {
      "cell_type": "code",
      "metadata": {
        "id": "bOuYy2VSW5NH"
      },
      "source": [
        "import pandas as pd\n",
        "df = pd.DataFrame(data, columns=['document', 'label'])"
      ],
      "execution_count": 12,
      "outputs": []
    },
    {
      "cell_type": "code",
      "metadata": {
        "colab": {
          "base_uri": "https://localhost:8080/",
          "height": 355
        },
        "id": "MMXx-z5pW81x",
        "outputId": "f0a14953-19bc-4a77-ec45-8b4b7dec2d8b"
      },
      "source": [
        "df"
      ],
      "execution_count": 13,
      "outputs": [
        {
          "output_type": "execute_result",
          "data": {
            "text/html": [
              "<div>\n",
              "<style scoped>\n",
              "    .dataframe tbody tr th:only-of-type {\n",
              "        vertical-align: middle;\n",
              "    }\n",
              "\n",
              "    .dataframe tbody tr th {\n",
              "        vertical-align: top;\n",
              "    }\n",
              "\n",
              "    .dataframe thead th {\n",
              "        text-align: right;\n",
              "    }\n",
              "</style>\n",
              "<table border=\"1\" class=\"dataframe\">\n",
              "  <thead>\n",
              "    <tr style=\"text-align: right;\">\n",
              "      <th></th>\n",
              "      <th>document</th>\n",
              "      <th>label</th>\n",
              "    </tr>\n",
              "  </thead>\n",
              "  <tbody>\n",
              "    <tr>\n",
              "      <th>0</th>\n",
              "      <td>자네가 어린이들의 대통령인가?</td>\n",
              "      <td>1</td>\n",
              "    </tr>\n",
              "    <tr>\n",
              "      <th>1</th>\n",
              "      <td>조카 데리고 갔다가 내가 더 빠져서 봄ㅋㅋㅋㅋ 뽀통령 장기집권 가능할듯..ㅋㅋㅋㅋ</td>\n",
              "      <td>1</td>\n",
              "    </tr>\n",
              "    <tr>\n",
              "      <th>2</th>\n",
              "      <td>애들보다 내가 더 재밌게 봤네....</td>\n",
              "      <td>1</td>\n",
              "    </tr>\n",
              "    <tr>\n",
              "      <th>3</th>\n",
              "      <td>어린이들 방학이라 그래요</td>\n",
              "      <td>1</td>\n",
              "    </tr>\n",
              "    <tr>\n",
              "      <th>4</th>\n",
              "      <td>일단 10점 박고 시작하자</td>\n",
              "      <td>1</td>\n",
              "    </tr>\n",
              "    <tr>\n",
              "      <th>5</th>\n",
              "      <td>3선에 성공하신 뽀통령님. 4선도 무난 하실듯.</td>\n",
              "      <td>1</td>\n",
              "    </tr>\n",
              "    <tr>\n",
              "      <th>6</th>\n",
              "      <td>뽀로로는 언제나 정답 이다^^</td>\n",
              "      <td>1</td>\n",
              "    </tr>\n",
              "    <tr>\n",
              "      <th>7</th>\n",
              "      <td>역시 뽀통령... 뽀통령의 위엄은 여전히 대단하군요!!!</td>\n",
              "      <td>1</td>\n",
              "    </tr>\n",
              "    <tr>\n",
              "      <th>8</th>\n",
              "      <td>진짜 정말 재밌어요 !!!</td>\n",
              "      <td>1</td>\n",
              "    </tr>\n",
              "    <tr>\n",
              "      <th>9</th>\n",
              "      <td>미친...조용하던 우리딸래미 난리났다...</td>\n",
              "      <td>1</td>\n",
              "    </tr>\n",
              "  </tbody>\n",
              "</table>\n",
              "</div>"
            ],
            "text/plain": [
              "                                        document  label\n",
              "0                               자네가 어린이들의 대통령인가?      1\n",
              "1  조카 데리고 갔다가 내가 더 빠져서 봄ㅋㅋㅋㅋ 뽀통령 장기집권 가능할듯..ㅋㅋㅋㅋ      1\n",
              "2                           애들보다 내가 더 재밌게 봤네....      1\n",
              "3                                  어린이들 방학이라 그래요      1\n",
              "4                                 일단 10점 박고 시작하자      1\n",
              "5                     3선에 성공하신 뽀통령님. 4선도 무난 하실듯.      1\n",
              "6                               뽀로로는 언제나 정답 이다^^      1\n",
              "7                역시 뽀통령... 뽀통령의 위엄은 여전히 대단하군요!!!      1\n",
              "8                                 진짜 정말 재밌어요 !!!      1\n",
              "9                        미친...조용하던 우리딸래미 난리났다...      1"
            ]
          },
          "metadata": {
            "tags": []
          },
          "execution_count": 13
        }
      ]
    },
    {
      "cell_type": "markdown",
      "metadata": {
        "id": "WFirrmQzXBag"
      },
      "source": [
        "csv 파일로 저장한다.\n",
        "\n"
      ]
    },
    {
      "cell_type": "code",
      "metadata": {
        "id": "rqWa9BnfW9mT"
      },
      "source": [
        "df.to_csv('naver-review.csv')\n"
      ],
      "execution_count": 14,
      "outputs": []
    },
    {
      "cell_type": "code",
      "metadata": {
        "id": "CWRxNoSoXDuw"
      },
      "source": [
        ""
      ],
      "execution_count": null,
      "outputs": []
    }
  ]
}