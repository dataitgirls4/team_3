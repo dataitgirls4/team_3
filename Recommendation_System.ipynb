{
 "cells": [
  {
   "cell_type": "markdown",
   "metadata": {},
   "source": [
    "2020년 11월 30일  ver."
   ]
  },
  {
   "cell_type": "markdown",
   "metadata": {},
   "source": [
    "table of contents <br>\n",
    "[1. 필요한 파일 불러오기 및 정리](#bullet1)<br>\n",
    "[2. 데이터 EDA](#bullet2)<br>\n",
    "[3. Prediction With Surprise](#bullet3)<br>"
   ]
  },
  {
   "cell_type": "markdown",
   "metadata": {},
   "source": [
    "# 필요한 파일 불러오기 및 정리<a class=\"anchor\" id=\"bullet1\"></a>\n"
   ]
  },
  {
   "cell_type": "code",
   "execution_count": 21,
   "metadata": {},
   "outputs": [],
   "source": [
    "from scipy.stats import pearsonr\n",
    "from datetime import datetime\n",
    "import pandas as pd\n",
    "import numpy as np\n",
    "import seaborn as sns\n",
    "import os\n",
    "import random\n",
    "import matplotlib\n",
    "import matplotlib.pyplot as plt\n",
    "from scipy import sparse\n",
    "from sklearn.metrics.pairwise import cosine_similarity\n",
    "from sklearn.metrics import mean_squared_error\n",
    "%matplotlib inline\n",
    "from matplotlib import font_manager, rc\n",
    "font_name = font_manager.FontProperties(fname=\"c:/Windows/Fonts/malgun.ttf\").get_name()\n",
    "rc('font', family=font_name)"
   ]
  },
  {
   "cell_type": "code",
   "execution_count": 2,
   "metadata": {},
   "outputs": [
    {
     "data": {
      "text/html": [
       "<div>\n",
       "<style scoped>\n",
       "    .dataframe tbody tr th:only-of-type {\n",
       "        vertical-align: middle;\n",
       "    }\n",
       "\n",
       "    .dataframe tbody tr th {\n",
       "        vertical-align: top;\n",
       "    }\n",
       "\n",
       "    .dataframe thead th {\n",
       "        text-align: right;\n",
       "    }\n",
       "</style>\n",
       "<table border=\"1\" class=\"dataframe\">\n",
       "  <thead>\n",
       "    <tr style=\"text-align: right;\">\n",
       "      <th></th>\n",
       "      <th>nickname</th>\n",
       "      <th>rating</th>\n",
       "      <th>title</th>\n",
       "      <th>voice</th>\n",
       "      <th>author</th>\n",
       "      <th>review</th>\n",
       "      <th>created</th>\n",
       "      <th>publish</th>\n",
       "      <th>genre</th>\n",
       "    </tr>\n",
       "  </thead>\n",
       "  <tbody>\n",
       "    <tr>\n",
       "      <th>7190</th>\n",
       "      <td>catnap</td>\n",
       "      <td>100</td>\n",
       "      <td>당신의 슬픔을 훔칠게요</td>\n",
       "      <td>김현</td>\n",
       "      <td>김현</td>\n",
       "      <td>잘 들었어요</td>\n",
       "      <td>2020.10.02</td>\n",
       "      <td>미디어창비</td>\n",
       "      <td>소설문학</td>\n",
       "    </tr>\n",
       "  </tbody>\n",
       "</table>\n",
       "</div>"
      ],
      "text/plain": [
       "     nickname  rating         title voice author  review     created publish  \\\n",
       "7190   catnap     100  당신의 슬픔을 훔칠게요    김현     김현  잘 들었어요  2020.10.02   미디어창비   \n",
       "\n",
       "     genre  \n",
       "7190  소설문학  "
      ]
     },
     "execution_count": 2,
     "metadata": {},
     "output_type": "execute_result"
    }
   ],
   "source": [
    "all_review = pd.read_csv('data/댓글합.csv',index_col = 0)\n",
    "all_review.drop_duplicates(inplace=True)\n",
    "all_review.sample()"
   ]
  },
  {
   "cell_type": "code",
   "execution_count": 3,
   "metadata": {},
   "outputs": [
    {
     "data": {
      "text/html": [
       "<div>\n",
       "<style scoped>\n",
       "    .dataframe tbody tr th:only-of-type {\n",
       "        vertical-align: middle;\n",
       "    }\n",
       "\n",
       "    .dataframe tbody tr th {\n",
       "        vertical-align: top;\n",
       "    }\n",
       "\n",
       "    .dataframe thead th {\n",
       "        text-align: right;\n",
       "    }\n",
       "</style>\n",
       "<table border=\"1\" class=\"dataframe\">\n",
       "  <thead>\n",
       "    <tr style=\"text-align: right;\">\n",
       "      <th></th>\n",
       "      <th>title</th>\n",
       "      <th>voice</th>\n",
       "      <th>author</th>\n",
       "      <th>publish</th>\n",
       "      <th>genre</th>\n",
       "    </tr>\n",
       "  </thead>\n",
       "  <tbody>\n",
       "    <tr>\n",
       "      <th>950</th>\n",
       "      <td>왕의 재정 2</td>\n",
       "      <td>신송이</td>\n",
       "      <td>김미진</td>\n",
       "      <td>규장</td>\n",
       "      <td>인문교양</td>\n",
       "    </tr>\n",
       "  </tbody>\n",
       "</table>\n",
       "</div>"
      ],
      "text/plain": [
       "       title voice author publish genre\n",
       "950  왕의 재정 2   신송이    김미진      규장  인문교양"
      ]
     },
     "execution_count": 3,
     "metadata": {},
     "output_type": "execute_result"
    }
   ],
   "source": [
    "all_book = pd.read_csv('data/전체합.csv', index_col = 0)\n",
    "all_book.sample()"
   ]
  },
  {
   "cell_type": "code",
   "execution_count": 25,
   "metadata": {},
   "outputs": [
    {
     "data": {
      "text/html": [
       "<div>\n",
       "<style scoped>\n",
       "    .dataframe tbody tr th:only-of-type {\n",
       "        vertical-align: middle;\n",
       "    }\n",
       "\n",
       "    .dataframe tbody tr th {\n",
       "        vertical-align: top;\n",
       "    }\n",
       "\n",
       "    .dataframe thead th {\n",
       "        text-align: right;\n",
       "    }\n",
       "</style>\n",
       "<table border=\"1\" class=\"dataframe\">\n",
       "  <thead>\n",
       "    <tr style=\"text-align: right;\">\n",
       "      <th></th>\n",
       "      <th>nickname</th>\n",
       "      <th>rating</th>\n",
       "      <th>title</th>\n",
       "      <th>voice</th>\n",
       "      <th>author</th>\n",
       "      <th>review</th>\n",
       "      <th>created</th>\n",
       "      <th>publish</th>\n",
       "      <th>genre</th>\n",
       "      <th>read_by</th>\n",
       "    </tr>\n",
       "  </thead>\n",
       "  <tbody>\n",
       "    <tr>\n",
       "      <th>9322</th>\n",
       "      <td>boomboomsu</td>\n",
       "      <td>8.0</td>\n",
       "      <td>최민식이 읽는 이범선의 오발탄</td>\n",
       "      <td>최민식</td>\n",
       "      <td>이범선</td>\n",
       "      <td>기획이 너무참신하고  좋네요</td>\n",
       "      <td>2018.12.24</td>\n",
       "      <td>커뮤니케이션북스</td>\n",
       "      <td>오디오북스</td>\n",
       "      <td>celeb</td>\n",
       "    </tr>\n",
       "  </tbody>\n",
       "</table>\n",
       "</div>"
      ],
      "text/plain": [
       "        nickname  rating             title voice author           review  \\\n",
       "9322  boomboomsu     8.0  최민식이 읽는 이범선의 오발탄   최민식    이범선  기획이 너무참신하고  좋네요   \n",
       "\n",
       "         created   publish  genre read_by  \n",
       "9322  2018.12.24  커뮤니케이션북스  오디오북스   celeb  "
      ]
     },
     "execution_count": 25,
     "metadata": {},
     "output_type": "execute_result"
    }
   ],
   "source": [
    "all_review['rating'] = all_review['rating'].apply(lambda x : x/10)\n",
    "all_review.sample()"
   ]
  },
  {
   "cell_type": "markdown",
   "metadata": {},
   "source": [
    "## title_df, user_df 만들기<a class=\"anchor\" id=\"bullet1.1\"></a>"
   ]
  },
  {
   "cell_type": "code",
   "execution_count": 13,
   "metadata": {},
   "outputs": [],
   "source": [
    "# user_df = pd.DataFrame(list(df.nickname\t.unique()), columns = ['nickname'])\n",
    "# user_df['usr_id'] = random.sample(range(1,len(user_df)+1), len(user_df))\n",
    "\n",
    "# title_df = pd.DataFrame(list(df.title.unique()), columns = ['title'])\n",
    "# title_df['ttl_id'] = random.sample(range(1,len(title_df)+1), len(title_df))\n",
    "\n",
    "# df = df.merge(user_df, how = 'left' )\n",
    "# df = df.merge(title_df, how = 'left' )\n",
    "# df.columns = ['user', 'title', 'rating', 'usr_id', 'ttl_id']\n",
    "# df.sample()"
   ]
  },
  {
   "cell_type": "code",
   "execution_count": 14,
   "metadata": {},
   "outputs": [],
   "source": [
    "# pivot_df = df.pivot_table('rating', index = 'user', columns = 'title')\n",
    "# pivot_df.sample(4)"
   ]
  },
  {
   "cell_type": "markdown",
   "metadata": {},
   "source": [
    "# 데이터 EDA<a class=\"anchor\" id=\"bullet2\"></a>"
   ]
  },
  {
   "cell_type": "markdown",
   "metadata": {},
   "source": [
    "[현진] **장르의 평점 많은 순 정렬, (평점 개수와 함께) 평점 높은 순 정렬**<br>\n",
    "[현진] **팟빵 오디오북 유저들의 장르 취향 파악: 한 우물형 vs 포도송이형**<br>\n",
    "[한나] **별점의 분포가 넓은 유저들의 특징과 리뷰를 많이 작성하는 유저들의 별점 분포**<br>\n",
    "**기간에 따른 리뷰 댓글 수 차이 비교 (시계열 분석**<br>\n",
    "[한나] **책 내용을 녹음한 목소리의 주인이 누구인지에 따라 평점 수, 평균 비교**<br>"
   ]
  },
  {
   "cell_type": "markdown",
   "metadata": {},
   "source": [
    "## 유명인이 읽어주는 경우 vs 작가가 읽어주는 경우 vs 일반성우"
   ]
  },
  {
   "cell_type": "markdown",
   "metadata": {},
   "source": [
    "**null값을 찾자**"
   ]
  },
  {
   "cell_type": "code",
   "execution_count": 4,
   "metadata": {},
   "outputs": [
    {
     "name": "stdout",
     "output_type": "stream",
     "text": [
      "전체 책 수는 : 1719\n"
     ]
    }
   ],
   "source": [
    "print(f\"전체 책 수는 : {len(all_book.title.unique())}\")"
   ]
  },
  {
   "cell_type": "markdown",
   "metadata": {},
   "source": [
    "작가가 없는 책 찾기"
   ]
  },
  {
   "cell_type": "code",
   "execution_count": 5,
   "metadata": {},
   "outputs": [
    {
     "data": {
      "text/plain": [
       "array(['우리나라 삼국지 5권', '[김동식 단편] 흐르는 물이 되어', '100인의 배우, 우리 문학을 읽다'],\n",
       "      dtype=object)"
      ]
     },
     "execution_count": 5,
     "metadata": {},
     "output_type": "execute_result"
    }
   ],
   "source": [
    "all_book[all_book['author'].isnull()].title.unique()"
   ]
  },
  {
   "cell_type": "markdown",
   "metadata": {},
   "source": [
    "**왜 작가가 없을까**<br>\n",
    "1) 우리나라 삼국지 5권: 저자 - 임동주. 시리즈 1-4권 까지는 임동주로 나와있음. <br>\n",
    "2) 흐르는 물이 되어: 작가 - 김동식. <br>\n",
    "1,2번은 오류로 빠진듯. 데이터에 추가해야 함 <br>\n",
    "\n",
    "3) 100인의 배우, 우리 문학을 읽다: 여러 책을 함께 담은 시리즈이기 때문에 한 명의 작가는 없음 <br>\n",
    "[100인 책 페이지](http://m.podbbang.com/audiobook/channel?id=1769055)를 들어가보면 목차 안으로 들어가야 각 책의 제목, 목소리, 작가를 알 수 있음 <br>\n",
    "그런데 이 목차 안의 콘텐츠를 따로 빼서 제공하는 중이기도 함"
   ]
  },
  {
   "cell_type": "code",
   "execution_count": 6,
   "metadata": {},
   "outputs": [
    {
     "data": {
      "text/plain": [
       "array(['우리나라 삼국지 5권', '[김동식 단편] 흐르는 물이 되어', '100인의 배우, 우리 문학을 읽다'],\n",
       "      dtype=object)"
      ]
     },
     "execution_count": 6,
     "metadata": {},
     "output_type": "execute_result"
    }
   ],
   "source": [
    "all_book[all_book['author'].isnull()].title.unique()"
   ]
  },
  {
   "cell_type": "code",
   "execution_count": 7,
   "metadata": {},
   "outputs": [
    {
     "data": {
      "text/html": [
       "<div>\n",
       "<style scoped>\n",
       "    .dataframe tbody tr th:only-of-type {\n",
       "        vertical-align: middle;\n",
       "    }\n",
       "\n",
       "    .dataframe tbody tr th {\n",
       "        vertical-align: top;\n",
       "    }\n",
       "\n",
       "    .dataframe thead th {\n",
       "        text-align: right;\n",
       "    }\n",
       "</style>\n",
       "<table border=\"1\" class=\"dataframe\">\n",
       "  <thead>\n",
       "    <tr style=\"text-align: right;\">\n",
       "      <th></th>\n",
       "      <th>title</th>\n",
       "      <th>voice</th>\n",
       "      <th>author</th>\n",
       "      <th>publish</th>\n",
       "      <th>genre</th>\n",
       "    </tr>\n",
       "  </thead>\n",
       "  <tbody>\n",
       "    <tr>\n",
       "      <th>171</th>\n",
       "      <td>우리나라 삼국지 5권</td>\n",
       "      <td>NaN</td>\n",
       "      <td>NaN</td>\n",
       "      <td>임동주</td>\n",
       "      <td>소설문학</td>\n",
       "    </tr>\n",
       "    <tr>\n",
       "      <th>455</th>\n",
       "      <td>[김동식 단편] 흐르는 물이 되어</td>\n",
       "      <td>이준우</td>\n",
       "      <td>NaN</td>\n",
       "      <td>김동식</td>\n",
       "      <td>소설문학</td>\n",
       "    </tr>\n",
       "  </tbody>\n",
       "</table>\n",
       "</div>"
      ],
      "text/plain": [
       "                  title voice author publish genre\n",
       "171         우리나라 삼국지 5권   NaN    NaN     임동주  소설문학\n",
       "455  [김동식 단편] 흐르는 물이 되어   이준우    NaN     김동식  소설문학"
      ]
     },
     "execution_count": 7,
     "metadata": {},
     "output_type": "execute_result"
    }
   ],
   "source": [
    "all_book[all_book['title'].isin(['우리나라 삼국지 5권', '[김동식 단편] 흐르는 물이 되어'])]"
   ]
  },
  {
   "cell_type": "code",
   "execution_count": 8,
   "metadata": {},
   "outputs": [],
   "source": [
    "all_book.iloc[171, 3] = \"임동주\"\n",
    "all_book.iloc[455, 3] = \"김동식\""
   ]
  },
  {
   "cell_type": "code",
   "execution_count": 9,
   "metadata": {},
   "outputs": [
    {
     "data": {
      "text/html": [
       "<div>\n",
       "<style scoped>\n",
       "    .dataframe tbody tr th:only-of-type {\n",
       "        vertical-align: middle;\n",
       "    }\n",
       "\n",
       "    .dataframe tbody tr th {\n",
       "        vertical-align: top;\n",
       "    }\n",
       "\n",
       "    .dataframe thead th {\n",
       "        text-align: right;\n",
       "    }\n",
       "</style>\n",
       "<table border=\"1\" class=\"dataframe\">\n",
       "  <thead>\n",
       "    <tr style=\"text-align: right;\">\n",
       "      <th></th>\n",
       "      <th>title</th>\n",
       "      <th>voice</th>\n",
       "      <th>author</th>\n",
       "      <th>publish</th>\n",
       "      <th>genre</th>\n",
       "    </tr>\n",
       "  </thead>\n",
       "  <tbody>\n",
       "    <tr>\n",
       "      <th>171</th>\n",
       "      <td>우리나라 삼국지 5권</td>\n",
       "      <td>NaN</td>\n",
       "      <td>NaN</td>\n",
       "      <td>임동주</td>\n",
       "      <td>소설문학</td>\n",
       "    </tr>\n",
       "    <tr>\n",
       "      <th>455</th>\n",
       "      <td>[김동식 단편] 흐르는 물이 되어</td>\n",
       "      <td>이준우</td>\n",
       "      <td>NaN</td>\n",
       "      <td>김동식</td>\n",
       "      <td>소설문학</td>\n",
       "    </tr>\n",
       "  </tbody>\n",
       "</table>\n",
       "</div>"
      ],
      "text/plain": [
       "                  title voice author publish genre\n",
       "171         우리나라 삼국지 5권   NaN    NaN     임동주  소설문학\n",
       "455  [김동식 단편] 흐르는 물이 되어   이준우    NaN     김동식  소설문학"
      ]
     },
     "execution_count": 9,
     "metadata": {},
     "output_type": "execute_result"
    }
   ],
   "source": [
    "all_book[all_book['title'].isin(['우리나라 삼국지 5권', '[김동식 단편] 흐르는 물이 되어'])]"
   ]
  },
  {
   "cell_type": "markdown",
   "metadata": {},
   "source": [
    "목소리가 잘 들어간 걸 볼 수 있다!"
   ]
  },
  {
   "cell_type": "code",
   "execution_count": null,
   "metadata": {},
   "outputs": [],
   "source": []
  },
  {
   "cell_type": "markdown",
   "metadata": {},
   "source": [
    "다시 3번으로 돌아와서, 100권 시리즈 외에 한 권씩 따로 서비스 하는 중인지 확인해봤음"
   ]
  },
  {
   "cell_type": "code",
   "execution_count": 21,
   "metadata": {},
   "outputs": [
    {
     "data": {
      "text/html": [
       "<div>\n",
       "<style scoped>\n",
       "    .dataframe tbody tr th:only-of-type {\n",
       "        vertical-align: middle;\n",
       "    }\n",
       "\n",
       "    .dataframe tbody tr th {\n",
       "        vertical-align: top;\n",
       "    }\n",
       "\n",
       "    .dataframe thead th {\n",
       "        text-align: right;\n",
       "    }\n",
       "</style>\n",
       "<table border=\"1\" class=\"dataframe\">\n",
       "  <thead>\n",
       "    <tr style=\"text-align: right;\">\n",
       "      <th></th>\n",
       "      <th>title</th>\n",
       "      <th>voice</th>\n",
       "      <th>author</th>\n",
       "      <th>publish</th>\n",
       "      <th>genre</th>\n",
       "    </tr>\n",
       "  </thead>\n",
       "  <tbody>\n",
       "    <tr>\n",
       "      <th>724</th>\n",
       "      <td>길해연이 읽는 양귀자의 원미동 시인</td>\n",
       "      <td>길해연</td>\n",
       "      <td>양귀자</td>\n",
       "      <td>커뮤니케이션북스</td>\n",
       "      <td>오디오북스</td>\n",
       "    </tr>\n",
       "  </tbody>\n",
       "</table>\n",
       "</div>"
      ],
      "text/plain": [
       "                   title voice author   publish  genre\n",
       "724  길해연이 읽는 양귀자의 원미동 시인   길해연    양귀자  커뮤니케이션북스  오디오북스"
      ]
     },
     "execution_count": 21,
     "metadata": {},
     "output_type": "execute_result"
    }
   ],
   "source": [
    "all_book[all_book['title'].str.contains('원미동')]"
   ]
  },
  {
   "cell_type": "markdown",
   "metadata": {},
   "source": [
    "그러면 이 오디오북 시리즈에 대한 리뷰 따로, 특정 책에 대한 리뷰는 따로 해야할 듯"
   ]
  },
  {
   "cell_type": "markdown",
   "metadata": {},
   "source": [
    "**voice가 없는 책 찾기**"
   ]
  },
  {
   "cell_type": "code",
   "execution_count": 10,
   "metadata": {},
   "outputs": [
    {
     "name": "stdout",
     "output_type": "stream",
     "text": [
      "전체 책 수는 : 1719\n",
      "voice가 없는 책 수는 : 846\n"
     ]
    }
   ],
   "source": [
    "print(f\"전체 책 수는 : {len(all_book.title.unique())}\")\n",
    "print(f\"voice가 없는 책 수는 : {len(all_book[all_book['voice'].isnull()].title.unique())}\")"
   ]
  },
  {
   "cell_type": "markdown",
   "metadata": {},
   "source": [
    "<div class=\"alert alert-warning\">\n",
    "기계가 녹음한 경우 voice가 없을 수 있는데 과연 그게 다일지는 모르겠음 <br>\n",
    "어떻게 우리가 확인할 수 있을까? -> 일단 나중에 고민하고 우선은 Nan == 기계음 으로 생각하자\n",
    "</div>"
   ]
  },
  {
   "cell_type": "markdown",
   "metadata": {},
   "source": [
    "**voice tag를 구분하자!**"
   ]
  },
  {
   "cell_type": "code",
   "execution_count": 23,
   "metadata": {},
   "outputs": [
    {
     "data": {
      "text/html": [
       "<div>\n",
       "<style scoped>\n",
       "    .dataframe tbody tr th:only-of-type {\n",
       "        vertical-align: middle;\n",
       "    }\n",
       "\n",
       "    .dataframe tbody tr th {\n",
       "        vertical-align: top;\n",
       "    }\n",
       "\n",
       "    .dataframe thead th {\n",
       "        text-align: right;\n",
       "    }\n",
       "</style>\n",
       "<table border=\"1\" class=\"dataframe\">\n",
       "  <thead>\n",
       "    <tr style=\"text-align: right;\">\n",
       "      <th></th>\n",
       "      <th>title</th>\n",
       "      <th>voice</th>\n",
       "      <th>author</th>\n",
       "      <th>publish</th>\n",
       "      <th>genre</th>\n",
       "    </tr>\n",
       "  </thead>\n",
       "  <tbody>\n",
       "    <tr>\n",
       "      <th>1253</th>\n",
       "      <td>저듸, 곰새기</td>\n",
       "      <td>NaN</td>\n",
       "      <td>장수진</td>\n",
       "      <td>아이들은자연이다</td>\n",
       "      <td>어린이동화</td>\n",
       "    </tr>\n",
       "  </tbody>\n",
       "</table>\n",
       "</div>"
      ],
      "text/plain": [
       "        title voice author   publish  genre\n",
       "1253  저듸, 곰새기   NaN    장수진  아이들은자연이다  어린이동화"
      ]
     },
     "execution_count": 23,
     "metadata": {},
     "output_type": "execute_result"
    }
   ],
   "source": [
    "all_book.sample()"
   ]
  },
  {
   "cell_type": "code",
   "execution_count": 11,
   "metadata": {},
   "outputs": [],
   "source": [
    "titles = all_book.title.unique() #모든 책 제목을 titles 리스트에 담아서 아래와 같이 구분"
   ]
  },
  {
   "cell_type": "code",
   "execution_count": 12,
   "metadata": {},
   "outputs": [],
   "source": [
    "read_by_none = all_book[all_book['voice'].isnull()].title.unique()\n",
    "read_by_author = list(all_book.query('voice == author').title.unique())\n",
    "read_by_celeb = [title for title in titles if (\"낭독\" in title) or (\"읽는\" in title) or (\"배우\" in title)]\n",
    "read_by_someone = [title for title in titles if title not in read_by_celeb and title not in read_by_author and title not in read_by_none]"
   ]
  },
  {
   "cell_type": "code",
   "execution_count": 13,
   "metadata": {},
   "outputs": [
    {
     "data": {
      "text/html": [
       "<div>\n",
       "<style scoped>\n",
       "    .dataframe tbody tr th:only-of-type {\n",
       "        vertical-align: middle;\n",
       "    }\n",
       "\n",
       "    .dataframe tbody tr th {\n",
       "        vertical-align: top;\n",
       "    }\n",
       "\n",
       "    .dataframe thead th {\n",
       "        text-align: right;\n",
       "    }\n",
       "</style>\n",
       "<table border=\"1\" class=\"dataframe\">\n",
       "  <thead>\n",
       "    <tr style=\"text-align: right;\">\n",
       "      <th></th>\n",
       "      <th>title</th>\n",
       "      <th>voice</th>\n",
       "      <th>author</th>\n",
       "      <th>publish</th>\n",
       "      <th>genre</th>\n",
       "      <th>read_by</th>\n",
       "    </tr>\n",
       "  </thead>\n",
       "  <tbody>\n",
       "    <tr>\n",
       "      <th>177</th>\n",
       "      <td>[이성종 낭독] 바람의 독서법 (단편)</td>\n",
       "      <td>이성종 (인피니트)</td>\n",
       "      <td>김선영</td>\n",
       "      <td>자음과 모음</td>\n",
       "      <td>소설문학</td>\n",
       "      <td>celeb</td>\n",
       "    </tr>\n",
       "    <tr>\n",
       "      <th>714</th>\n",
       "      <td>[세계환상문학선] 만리장성을 쌓을 때</td>\n",
       "      <td>박창순</td>\n",
       "      <td>프란츠 카프카</td>\n",
       "      <td>커뮤니케이션북스 &amp;　 　　　바다출판사</td>\n",
       "      <td>오디오북스</td>\n",
       "      <td>someone</td>\n",
       "    </tr>\n",
       "    <tr>\n",
       "      <th>225</th>\n",
       "      <td>[한예리 낭독] 안락 _ 작은책</td>\n",
       "      <td>한예리</td>\n",
       "      <td>은모든</td>\n",
       "      <td>아르테</td>\n",
       "      <td>소설문학</td>\n",
       "      <td>celeb</td>\n",
       "    </tr>\n",
       "    <tr>\n",
       "      <th>215</th>\n",
       "      <td>위대한 유산(요약본)</td>\n",
       "      <td>김은정</td>\n",
       "      <td>찰스디킨스</td>\n",
       "      <td>북코스모스</td>\n",
       "      <td>소설문학</td>\n",
       "      <td>someone</td>\n",
       "    </tr>\n",
       "    <tr>\n",
       "      <th>785</th>\n",
       "      <td>박웅이 읽는 유진오의 창랑정기</td>\n",
       "      <td>박웅</td>\n",
       "      <td>유진오</td>\n",
       "      <td>커뮤니케이션북스</td>\n",
       "      <td>오디오북스</td>\n",
       "      <td>celeb</td>\n",
       "    </tr>\n",
       "  </tbody>\n",
       "</table>\n",
       "</div>"
      ],
      "text/plain": [
       "                     title       voice   author               publish  genre  \\\n",
       "177  [이성종 낭독] 바람의 독서법 (단편)  이성종 (인피니트)      김선영                자음과 모음   소설문학   \n",
       "714   [세계환상문학선] 만리장성을 쌓을 때         박창순  프란츠 카프카  커뮤니케이션북스 &　 　　　바다출판사  오디오북스   \n",
       "225      [한예리 낭독] 안락 _ 작은책         한예리      은모든                   아르테   소설문학   \n",
       "215            위대한 유산(요약본)         김은정    찰스디킨스                 북코스모스   소설문학   \n",
       "785       박웅이 읽는 유진오의 창랑정기          박웅      유진오              커뮤니케이션북스  오디오북스   \n",
       "\n",
       "     read_by  \n",
       "177    celeb  \n",
       "714  someone  \n",
       "225    celeb  \n",
       "215  someone  \n",
       "785    celeb  "
      ]
     },
     "execution_count": 13,
     "metadata": {},
     "output_type": "execute_result"
    }
   ],
   "source": [
    "all_book['read_by'] = \"\"\n",
    "\n",
    "all_book['read_by'] = all_book['title'].apply(lambda x : \"celeb\" if x in read_by_celeb else (\"author\" if x in read_by_author else (\"someone\" if x in read_by_someone else \"robot\")))\n",
    "\n",
    "all_book.sample(5)"
   ]
  },
  {
   "cell_type": "markdown",
   "metadata": {},
   "source": [
    "### 목소리별 책 수"
   ]
  },
  {
   "cell_type": "code",
   "execution_count": 82,
   "metadata": {},
   "outputs": [
    {
     "data": {
      "text/html": [
       "<div>\n",
       "<style scoped>\n",
       "    .dataframe tbody tr th:only-of-type {\n",
       "        vertical-align: middle;\n",
       "    }\n",
       "\n",
       "    .dataframe tbody tr th {\n",
       "        vertical-align: top;\n",
       "    }\n",
       "\n",
       "    .dataframe thead th {\n",
       "        text-align: right;\n",
       "    }\n",
       "</style>\n",
       "<table border=\"1\" class=\"dataframe\">\n",
       "  <thead>\n",
       "    <tr style=\"text-align: right;\">\n",
       "      <th></th>\n",
       "      <th>read_by</th>\n",
       "      <th>title</th>\n",
       "    </tr>\n",
       "  </thead>\n",
       "  <tbody>\n",
       "    <tr>\n",
       "      <th>0</th>\n",
       "      <td>author</td>\n",
       "      <td>265</td>\n",
       "    </tr>\n",
       "    <tr>\n",
       "      <th>1</th>\n",
       "      <td>celeb</td>\n",
       "      <td>189</td>\n",
       "    </tr>\n",
       "    <tr>\n",
       "      <th>2</th>\n",
       "      <td>robot</td>\n",
       "      <td>842</td>\n",
       "    </tr>\n",
       "    <tr>\n",
       "      <th>3</th>\n",
       "      <td>someone</td>\n",
       "      <td>425</td>\n",
       "    </tr>\n",
       "  </tbody>\n",
       "</table>\n",
       "</div>"
      ],
      "text/plain": [
       "   read_by  title\n",
       "0   author    265\n",
       "1    celeb    189\n",
       "2    robot    842\n",
       "3  someone    425"
      ]
     },
     "execution_count": 82,
     "metadata": {},
     "output_type": "execute_result"
    }
   ],
   "source": [
    "all_book.groupby('read_by')['title'].count().to_frame().reset_index()\n"
   ]
  },
  {
   "cell_type": "code",
   "execution_count": null,
   "metadata": {},
   "outputs": [],
   "source": []
  },
  {
   "cell_type": "markdown",
   "metadata": {},
   "source": [
    "### 목소리별 평점 분포"
   ]
  },
  {
   "cell_type": "code",
   "execution_count": 14,
   "metadata": {},
   "outputs": [
    {
     "data": {
      "text/html": [
       "<div>\n",
       "<style scoped>\n",
       "    .dataframe tbody tr th:only-of-type {\n",
       "        vertical-align: middle;\n",
       "    }\n",
       "\n",
       "    .dataframe tbody tr th {\n",
       "        vertical-align: top;\n",
       "    }\n",
       "\n",
       "    .dataframe thead th {\n",
       "        text-align: right;\n",
       "    }\n",
       "</style>\n",
       "<table border=\"1\" class=\"dataframe\">\n",
       "  <thead>\n",
       "    <tr style=\"text-align: right;\">\n",
       "      <th></th>\n",
       "      <th>title</th>\n",
       "      <th>voice</th>\n",
       "      <th>author</th>\n",
       "      <th>publish</th>\n",
       "      <th>genre</th>\n",
       "      <th>read_by</th>\n",
       "    </tr>\n",
       "  </thead>\n",
       "  <tbody>\n",
       "    <tr>\n",
       "      <th>1176</th>\n",
       "      <td>운명을 바꾼 가믄장아기</td>\n",
       "      <td>NaN</td>\n",
       "      <td>이상교</td>\n",
       "      <td>국민서관(주)</td>\n",
       "      <td>어린이동화</td>\n",
       "      <td>robot</td>\n",
       "    </tr>\n",
       "  </tbody>\n",
       "</table>\n",
       "</div>"
      ],
      "text/plain": [
       "             title voice author  publish  genre read_by\n",
       "1176  운명을 바꾼 가믄장아기   NaN    이상교  국민서관(주)  어린이동화   robot"
      ]
     },
     "execution_count": 14,
     "metadata": {},
     "output_type": "execute_result"
    }
   ],
   "source": [
    "all_book.sample()"
   ]
  },
  {
   "cell_type": "code",
   "execution_count": 26,
   "metadata": {},
   "outputs": [
    {
     "data": {
      "text/html": [
       "<div>\n",
       "<style scoped>\n",
       "    .dataframe tbody tr th:only-of-type {\n",
       "        vertical-align: middle;\n",
       "    }\n",
       "\n",
       "    .dataframe tbody tr th {\n",
       "        vertical-align: top;\n",
       "    }\n",
       "\n",
       "    .dataframe thead th {\n",
       "        text-align: right;\n",
       "    }\n",
       "</style>\n",
       "<table border=\"1\" class=\"dataframe\">\n",
       "  <thead>\n",
       "    <tr style=\"text-align: right;\">\n",
       "      <th>read_by</th>\n",
       "      <th>author</th>\n",
       "      <th>celeb</th>\n",
       "      <th>robot</th>\n",
       "      <th>someone</th>\n",
       "    </tr>\n",
       "    <tr>\n",
       "      <th>nickname</th>\n",
       "      <th></th>\n",
       "      <th></th>\n",
       "      <th></th>\n",
       "      <th></th>\n",
       "    </tr>\n",
       "  </thead>\n",
       "  <tbody>\n",
       "    <tr>\n",
       "      <th>수제로로</th>\n",
       "      <td>10.0</td>\n",
       "      <td>NaN</td>\n",
       "      <td>NaN</td>\n",
       "      <td>NaN</td>\n",
       "    </tr>\n",
       "  </tbody>\n",
       "</table>\n",
       "</div>"
      ],
      "text/plain": [
       "read_by   author  celeb  robot  someone\n",
       "nickname                               \n",
       "수제로로        10.0    NaN    NaN      NaN"
      ]
     },
     "execution_count": 26,
     "metadata": {},
     "output_type": "execute_result"
    }
   ],
   "source": [
    "review_by_voice = all_review.merge(all_book[['title', 'read_by']], how='left').pivot_table(index = \"nickname\", columns = 'read_by', values = \"rating\", aggfunc = \"mean\")\n",
    "review_by_voice.sample()"
   ]
  },
  {
   "cell_type": "code",
   "execution_count": 27,
   "metadata": {
    "scrolled": true
   },
   "outputs": [
    {
     "data": {
      "text/plain": [
       "count    2007.000000\n",
       "mean        9.789736\n",
       "std         0.835190\n",
       "min         1.000000\n",
       "25%        10.000000\n",
       "50%        10.000000\n",
       "75%        10.000000\n",
       "max        10.000000\n",
       "Name: rating, dtype: float64"
      ]
     },
     "execution_count": 27,
     "metadata": {},
     "output_type": "execute_result"
    }
   ],
   "source": [
    "all_review[all_review['title'].isin(read_by_author)].rating.describe()"
   ]
  },
  {
   "cell_type": "code",
   "execution_count": 28,
   "metadata": {
    "scrolled": true
   },
   "outputs": [
    {
     "data": {
      "text/plain": [
       "count    4273.000000\n",
       "mean        9.385912\n",
       "std         1.227097\n",
       "min         1.000000\n",
       "25%         9.000000\n",
       "50%        10.000000\n",
       "75%        10.000000\n",
       "max        10.000000\n",
       "Name: rating, dtype: float64"
      ]
     },
     "execution_count": 28,
     "metadata": {},
     "output_type": "execute_result"
    }
   ],
   "source": [
    "all_review[all_review['title'].isin(read_by_celeb)].rating.describe()"
   ]
  },
  {
   "cell_type": "code",
   "execution_count": 29,
   "metadata": {},
   "outputs": [
    {
     "data": {
      "text/plain": [
       "count    6967.000000\n",
       "mean        9.497775\n",
       "std         1.212418\n",
       "min         1.000000\n",
       "25%        10.000000\n",
       "50%        10.000000\n",
       "75%        10.000000\n",
       "max        10.000000\n",
       "Name: rating, dtype: float64"
      ]
     },
     "execution_count": 29,
     "metadata": {},
     "output_type": "execute_result"
    }
   ],
   "source": [
    "all_review[all_review['title'].isin(read_by_someone)].rating.describe()"
   ]
  },
  {
   "cell_type": "code",
   "execution_count": 30,
   "metadata": {},
   "outputs": [
    {
     "data": {
      "text/plain": [
       "count    2283.000000\n",
       "mean        9.375821\n",
       "std         1.235174\n",
       "min         1.000000\n",
       "25%         9.000000\n",
       "50%        10.000000\n",
       "75%        10.000000\n",
       "max        10.000000\n",
       "Name: rating, dtype: float64"
      ]
     },
     "execution_count": 30,
     "metadata": {},
     "output_type": "execute_result"
    }
   ],
   "source": [
    "all_review[all_review['title'].isin(read_by_none)].rating.describe()"
   ]
  },
  {
   "cell_type": "code",
   "execution_count": 17,
   "metadata": {},
   "outputs": [
    {
     "data": {
      "text/plain": [
       "array(['100인의 배우, 우리 문학을 읽다'], dtype=object)"
      ]
     },
     "execution_count": 17,
     "metadata": {},
     "output_type": "execute_result"
    }
   ],
   "source": [
    "all_review[all_review.author.isnull()].title.unique()"
   ]
  },
  {
   "cell_type": "code",
   "execution_count": 31,
   "metadata": {},
   "outputs": [],
   "source": [
    "all_review = all_review.merge(all_book[['title', 'read_by']], how='left')"
   ]
  },
  {
   "cell_type": "code",
   "execution_count": 48,
   "metadata": {},
   "outputs": [
    {
     "data": {
      "text/html": [
       "<div>\n",
       "<style scoped>\n",
       "    .dataframe tbody tr th:only-of-type {\n",
       "        vertical-align: middle;\n",
       "    }\n",
       "\n",
       "    .dataframe tbody tr th {\n",
       "        vertical-align: top;\n",
       "    }\n",
       "\n",
       "    .dataframe thead th {\n",
       "        text-align: right;\n",
       "    }\n",
       "</style>\n",
       "<table border=\"1\" class=\"dataframe\">\n",
       "  <thead>\n",
       "    <tr style=\"text-align: right;\">\n",
       "      <th></th>\n",
       "      <th>nickname</th>\n",
       "      <th>rating</th>\n",
       "      <th>title</th>\n",
       "      <th>voice</th>\n",
       "      <th>author</th>\n",
       "      <th>review</th>\n",
       "      <th>created</th>\n",
       "      <th>publish</th>\n",
       "      <th>genre</th>\n",
       "      <th>read_by</th>\n",
       "    </tr>\n",
       "  </thead>\n",
       "  <tbody>\n",
       "    <tr>\n",
       "      <th>5334</th>\n",
       "      <td>소잃고뇌약간고치다</td>\n",
       "      <td>10.0</td>\n",
       "      <td>[공포괴담집] 저승에서 돌아온 남자</td>\n",
       "      <td>왓섭</td>\n",
       "      <td>문화류씨</td>\n",
       "      <td>오...이거 재미나겠네요 나중에라도 구매해서 들어봐야겠네요</td>\n",
       "      <td>2019.07.12</td>\n",
       "      <td>요다</td>\n",
       "      <td>소설문학</td>\n",
       "      <td>someone</td>\n",
       "    </tr>\n",
       "  </tbody>\n",
       "</table>\n",
       "</div>"
      ],
      "text/plain": [
       "       nickname  rating                title voice author  \\\n",
       "5334  소잃고뇌약간고치다    10.0  [공포괴담집] 저승에서 돌아온 남자    왓섭   문화류씨   \n",
       "\n",
       "                                review     created publish genre  read_by  \n",
       "5334  오...이거 재미나겠네요 나중에라도 구매해서 들어봐야겠네요  2019.07.12      요다  소설문학  someone  "
      ]
     },
     "execution_count": 48,
     "metadata": {},
     "output_type": "execute_result"
    }
   ],
   "source": [
    "all_review.sample()"
   ]
  },
  {
   "cell_type": "code",
   "execution_count": 103,
   "metadata": {},
   "outputs": [],
   "source": [
    "review_count_read_by = all_review.pivot_table(index = \"rating\", columns = \"read_by\", values = \"review\", aggfunc = \"count\")\n",
    "review_count_read_by.replace(np.NaN, 0, inplace=True)"
   ]
  },
  {
   "cell_type": "code",
   "execution_count": 110,
   "metadata": {},
   "outputs": [],
   "source": [
    "review_count_read_by['author_%'] = round(review_count_read_by['author'] / review_count_read_by['author'].sum(),3)*100\n",
    "\n",
    "review_count_read_by['celeb_%'] = round(review_count_read_by['celeb'] / review_count_read_by['celeb'].sum(),3)*100\n",
    "\n",
    "review_count_read_by['robot_%'] = round(review_count_read_by['robot'] / review_count_read_by['robot'].sum(),3)*100\n",
    "\n",
    "review_count_read_by['someone_%'] = round(review_count_read_by['someone'] / review_count_read_by['someone'].sum(), 3)*100"
   ]
  },
  {
   "cell_type": "code",
   "execution_count": 111,
   "metadata": {},
   "outputs": [
    {
     "data": {
      "text/html": [
       "<div>\n",
       "<style scoped>\n",
       "    .dataframe tbody tr th:only-of-type {\n",
       "        vertical-align: middle;\n",
       "    }\n",
       "\n",
       "    .dataframe tbody tr th {\n",
       "        vertical-align: top;\n",
       "    }\n",
       "\n",
       "    .dataframe thead th {\n",
       "        text-align: right;\n",
       "    }\n",
       "</style>\n",
       "<table border=\"1\" class=\"dataframe\">\n",
       "  <thead>\n",
       "    <tr style=\"text-align: right;\">\n",
       "      <th>read_by</th>\n",
       "      <th>author</th>\n",
       "      <th>celeb</th>\n",
       "      <th>robot</th>\n",
       "      <th>someone</th>\n",
       "      <th>author_%</th>\n",
       "      <th>celeb_%</th>\n",
       "      <th>robot_%</th>\n",
       "      <th>someone_%</th>\n",
       "    </tr>\n",
       "    <tr>\n",
       "      <th>rating</th>\n",
       "      <th></th>\n",
       "      <th></th>\n",
       "      <th></th>\n",
       "      <th></th>\n",
       "      <th></th>\n",
       "      <th></th>\n",
       "      <th></th>\n",
       "      <th></th>\n",
       "    </tr>\n",
       "  </thead>\n",
       "  <tbody>\n",
       "    <tr>\n",
       "      <th>1.0</th>\n",
       "      <td>5.0</td>\n",
       "      <td>5.0</td>\n",
       "      <td>9.0</td>\n",
       "      <td>44.0</td>\n",
       "      <td>0.2</td>\n",
       "      <td>0.1</td>\n",
       "      <td>0.4</td>\n",
       "      <td>0.6</td>\n",
       "    </tr>\n",
       "    <tr>\n",
       "      <th>2.0</th>\n",
       "      <td>2.0</td>\n",
       "      <td>17.0</td>\n",
       "      <td>6.0</td>\n",
       "      <td>12.0</td>\n",
       "      <td>0.1</td>\n",
       "      <td>0.4</td>\n",
       "      <td>0.3</td>\n",
       "      <td>0.2</td>\n",
       "    </tr>\n",
       "    <tr>\n",
       "      <th>3.0</th>\n",
       "      <td>0.0</td>\n",
       "      <td>2.0</td>\n",
       "      <td>5.0</td>\n",
       "      <td>7.0</td>\n",
       "      <td>0.0</td>\n",
       "      <td>0.0</td>\n",
       "      <td>0.2</td>\n",
       "      <td>0.1</td>\n",
       "    </tr>\n",
       "    <tr>\n",
       "      <th>4.0</th>\n",
       "      <td>2.0</td>\n",
       "      <td>16.0</td>\n",
       "      <td>5.0</td>\n",
       "      <td>15.0</td>\n",
       "      <td>0.1</td>\n",
       "      <td>0.4</td>\n",
       "      <td>0.2</td>\n",
       "      <td>0.2</td>\n",
       "    </tr>\n",
       "    <tr>\n",
       "      <th>5.0</th>\n",
       "      <td>7.0</td>\n",
       "      <td>10.0</td>\n",
       "      <td>9.0</td>\n",
       "      <td>29.0</td>\n",
       "      <td>0.3</td>\n",
       "      <td>0.2</td>\n",
       "      <td>0.4</td>\n",
       "      <td>0.4</td>\n",
       "    </tr>\n",
       "    <tr>\n",
       "      <th>6.0</th>\n",
       "      <td>12.0</td>\n",
       "      <td>131.0</td>\n",
       "      <td>39.0</td>\n",
       "      <td>109.0</td>\n",
       "      <td>0.6</td>\n",
       "      <td>3.1</td>\n",
       "      <td>1.7</td>\n",
       "      <td>1.6</td>\n",
       "    </tr>\n",
       "    <tr>\n",
       "      <th>7.0</th>\n",
       "      <td>17.0</td>\n",
       "      <td>83.0</td>\n",
       "      <td>66.0</td>\n",
       "      <td>149.0</td>\n",
       "      <td>0.8</td>\n",
       "      <td>2.0</td>\n",
       "      <td>2.9</td>\n",
       "      <td>2.1</td>\n",
       "    </tr>\n",
       "    <tr>\n",
       "      <th>8.0</th>\n",
       "      <td>74.0</td>\n",
       "      <td>615.0</td>\n",
       "      <td>278.0</td>\n",
       "      <td>586.0</td>\n",
       "      <td>3.7</td>\n",
       "      <td>14.5</td>\n",
       "      <td>12.2</td>\n",
       "      <td>8.4</td>\n",
       "    </tr>\n",
       "    <tr>\n",
       "      <th>9.0</th>\n",
       "      <td>67.0</td>\n",
       "      <td>260.0</td>\n",
       "      <td>274.0</td>\n",
       "      <td>678.0</td>\n",
       "      <td>3.3</td>\n",
       "      <td>6.1</td>\n",
       "      <td>12.0</td>\n",
       "      <td>9.7</td>\n",
       "    </tr>\n",
       "    <tr>\n",
       "      <th>10.0</th>\n",
       "      <td>1817.0</td>\n",
       "      <td>3098.0</td>\n",
       "      <td>1590.0</td>\n",
       "      <td>5333.0</td>\n",
       "      <td>90.7</td>\n",
       "      <td>73.1</td>\n",
       "      <td>69.7</td>\n",
       "      <td>76.6</td>\n",
       "    </tr>\n",
       "  </tbody>\n",
       "</table>\n",
       "</div>"
      ],
      "text/plain": [
       "read_by  author   celeb   robot  someone  author_%  celeb_%  robot_%  \\\n",
       "rating                                                                 \n",
       "1.0         5.0     5.0     9.0     44.0       0.2      0.1      0.4   \n",
       "2.0         2.0    17.0     6.0     12.0       0.1      0.4      0.3   \n",
       "3.0         0.0     2.0     5.0      7.0       0.0      0.0      0.2   \n",
       "4.0         2.0    16.0     5.0     15.0       0.1      0.4      0.2   \n",
       "5.0         7.0    10.0     9.0     29.0       0.3      0.2      0.4   \n",
       "6.0        12.0   131.0    39.0    109.0       0.6      3.1      1.7   \n",
       "7.0        17.0    83.0    66.0    149.0       0.8      2.0      2.9   \n",
       "8.0        74.0   615.0   278.0    586.0       3.7     14.5     12.2   \n",
       "9.0        67.0   260.0   274.0    678.0       3.3      6.1     12.0   \n",
       "10.0     1817.0  3098.0  1590.0   5333.0      90.7     73.1     69.7   \n",
       "\n",
       "read_by  someone_%  \n",
       "rating              \n",
       "1.0            0.6  \n",
       "2.0            0.2  \n",
       "3.0            0.1  \n",
       "4.0            0.2  \n",
       "5.0            0.4  \n",
       "6.0            1.6  \n",
       "7.0            2.1  \n",
       "8.0            8.4  \n",
       "9.0            9.7  \n",
       "10.0          76.6  "
      ]
     },
     "execution_count": 111,
     "metadata": {},
     "output_type": "execute_result"
    }
   ],
   "source": [
    "review_count_read_by"
   ]
  },
  {
   "cell_type": "markdown",
   "metadata": {},
   "source": [
    "- celeb이 읽은 책에 대한 평점의 14%가 8점\n",
    "- 작가가 읽어준 경우가 10점 비중이 가장 높은데 이게 정말 컨텐츠가 좋아서일까?\n",
    "- 연예인/기계가 읽은 경우의 평점이 가장 다양하게 분포"
   ]
  },
  {
   "cell_type": "markdown",
   "metadata": {},
   "source": [
    "### 목소리별 평점 분포 시각화"
   ]
  },
  {
   "cell_type": "code",
   "execution_count": 33,
   "metadata": {},
   "outputs": [
    {
     "data": {
      "text/plain": [
       "Text(0.5, 1.0, '유명인이 읽어준 책에 대한 평점 분포')"
      ]
     },
     "execution_count": 33,
     "metadata": {},
     "output_type": "execute_result"
    },
    {
     "data": {
      "image/png": "[encoded data removed]",
      "text/plain": [
       "<Figure size 432x288 with 1 Axes>"
      ]
     },
     "metadata": {
      "needs_background": "light"
     },
     "output_type": "display_data"
    }
   ],
   "source": [
    "plt.hist(all_review.query('read_by == \"celeb\"')['rating'], alpha = 0.5, color = \"r\")\n",
    "plt.title(\"유명인이 읽어준 책에 대한 평점 분포\", fontsize=18)"
   ]
  },
  {
   "cell_type": "code",
   "execution_count": 34,
   "metadata": {},
   "outputs": [
    {
     "data": {
      "text/plain": [
       "Text(0.5, 1.0, '작가가 읽어준 책에 대한 평점 분포')"
      ]
     },
     "execution_count": 34,
     "metadata": {},
     "output_type": "execute_result"
    },
    {
     "data": {
      "image/png": "[encoded data removed]",
      "text/plain": [
       "<Figure size 432x288 with 1 Axes>"
      ]
     },
     "metadata": {
      "needs_background": "light"
     },
     "output_type": "display_data"
    }
   ],
   "source": [
    "plt.hist(all_review.query('read_by == \"author\"')['rating'], alpha = 0.5, color = \"r\")\n",
    "plt.title(\"작가가 읽어준 책에 대한 평점 분포\", fontsize=18)"
   ]
  },
  {
   "cell_type": "code",
   "execution_count": 72,
   "metadata": {
    "scrolled": true
   },
   "outputs": [
    {
     "data": {
      "text/plain": [
       "Text(0.5, 1.0, '비연예인/비작가/비기계가 읽어준 책에 대한 평점 분포')"
      ]
     },
     "execution_count": 72,
     "metadata": {},
     "output_type": "execute_result"
    },
    {
     "data": {
      "image/png": "[encoded data removed]",
      "text/plain": [
       "<Figure size 432x288 with 1 Axes>"
      ]
     },
     "metadata": {
      "needs_background": "light"
     },
     "output_type": "display_data"
    }
   ],
   "source": [
    "plt.hist(all_review.query('read_by == \"someone\"')['rating'], alpha = 0.5, color = \"r\")\n",
    "plt.title(\"비연예인/비작가/비기계가 읽어준 책에 대한 평점 분포\", fontsize=15)"
   ]
  },
  {
   "cell_type": "code",
   "execution_count": 36,
   "metadata": {},
   "outputs": [
    {
     "data": {
      "text/plain": [
       "Text(0.5, 1.0, '기계가 읽어준 책에 대한 평점 분포')"
      ]
     },
     "execution_count": 36,
     "metadata": {},
     "output_type": "execute_result"
    },
    {
     "data": {
      "image/png": "[encoded data removed]",
      "text/plain": [
       "<Figure size 432x288 with 1 Axes>"
      ]
     },
     "metadata": {
      "needs_background": "light"
     },
     "output_type": "display_data"
    }
   ],
   "source": [
    "plt.hist(all_review.query('read_by == \"robot\"')['rating'], alpha = 0.5, color = \"r\")\n",
    "plt.title(\"기계가 읽어준 책에 대한 평점 분포\", fontsize=18)"
   ]
  },
  {
   "cell_type": "code",
   "execution_count": 285,
   "metadata": {
    "scrolled": true
   },
   "outputs": [
    {
     "data": {
      "text/plain": [
       "(array([  10.,    6.,    5.,    5.,    9.,   39.,   66.,  279.,  276.,\n",
       "        1594.]),\n",
       " array([ 10.,  19.,  28.,  37.,  46.,  55.,  64.,  73.,  82.,  91., 100.]),\n",
       " <BarContainer object of 10 artists>)"
      ]
     },
     "execution_count": 285,
     "metadata": {},
     "output_type": "execute_result"
    },
    {
     "data": {
      "image/png": "[encoded data removed]",
      "text/plain": [
       "<Figure size 432x288 with 1 Axes>"
      ]
     },
     "metadata": {
      "needs_background": "light"
     },
     "output_type": "display_data"
    }
   ],
   "source": [
    "# 따로 그리고 싶다.. 그러나 한 셀 안에..\n",
    "plt.hist(all_review.query('read_by == \"celeb\"')['rating'], alpha = 0.5, color = \"r\")\n",
    "plt.hist(all_review.query('read_by == \"author\"')['rating'], alpha = 0.5)\n",
    "plt.hist(all_review.query('read_by == \"someone\"')['rating'], alpha = 0.5)\n",
    "plt.hist(all_review.query('read_by == \"robot\"')['rating'], alpha = 0.5)"
   ]
  },
  {
   "cell_type": "markdown",
   "metadata": {},
   "source": [
    "### 목소리별 평점 회귀분석"
   ]
  },
  {
   "cell_type": "code",
   "execution_count": 37,
   "metadata": {},
   "outputs": [],
   "source": [
    "from statsmodels.formula.api import ols"
   ]
  },
  {
   "cell_type": "code",
   "execution_count": 38,
   "metadata": {},
   "outputs": [
    {
     "data": {
      "text/html": [
       "<table class=\"simpletable\">\n",
       "<caption>OLS Regression Results</caption>\n",
       "<tr>\n",
       "  <th>Dep. Variable:</th>         <td>rating</td>      <th>  R-squared:         </th> <td>   0.012</td> \n",
       "</tr>\n",
       "<tr>\n",
       "  <th>Model:</th>                   <td>OLS</td>       <th>  Adj. R-squared:    </th> <td>   0.012</td> \n",
       "</tr>\n",
       "<tr>\n",
       "  <th>Method:</th>             <td>Least Squares</td>  <th>  F-statistic:       </th> <td>   61.48</td> \n",
       "</tr>\n",
       "<tr>\n",
       "  <th>Date:</th>             <td>Mon, 30 Nov 2020</td> <th>  Prob (F-statistic):</th> <td>1.66e-39</td> \n",
       "</tr>\n",
       "<tr>\n",
       "  <th>Time:</th>                 <td>20:52:22</td>     <th>  Log-Likelihood:    </th> <td> -24600.</td> \n",
       "</tr>\n",
       "<tr>\n",
       "  <th>No. Observations:</th>      <td> 15534</td>      <th>  AIC:               </th> <td>4.921e+04</td>\n",
       "</tr>\n",
       "<tr>\n",
       "  <th>Df Residuals:</th>          <td> 15530</td>      <th>  BIC:               </th> <td>4.924e+04</td>\n",
       "</tr>\n",
       "<tr>\n",
       "  <th>Df Model:</th>              <td>     3</td>      <th>                     </th>     <td> </td>    \n",
       "</tr>\n",
       "<tr>\n",
       "  <th>Covariance Type:</th>      <td>nonrobust</td>    <th>                     </th>     <td> </td>    \n",
       "</tr>\n",
       "</table>\n",
       "<table class=\"simpletable\">\n",
       "<tr>\n",
       "           <td></td>             <th>coef</th>     <th>std err</th>      <th>t</th>      <th>P>|t|</th>  <th>[0.025</th>    <th>0.975]</th>  \n",
       "</tr>\n",
       "<tr>\n",
       "  <th>Intercept</th>          <td>    9.7897</td> <td>    0.026</td> <td>  371.931</td> <td> 0.000</td> <td>    9.738</td> <td>    9.841</td>\n",
       "</tr>\n",
       "<tr>\n",
       "  <th>read_by[T.celeb]</th>   <td>   -0.4038</td> <td>    0.032</td> <td>  -12.655</td> <td> 0.000</td> <td>   -0.466</td> <td>   -0.341</td>\n",
       "</tr>\n",
       "<tr>\n",
       "  <th>read_by[T.robot]</th>   <td>   -0.4139</td> <td>    0.036</td> <td>  -11.472</td> <td> 0.000</td> <td>   -0.485</td> <td>   -0.343</td>\n",
       "</tr>\n",
       "<tr>\n",
       "  <th>read_by[T.someone]</th> <td>   -0.2931</td> <td>    0.030</td> <td>   -9.812</td> <td> 0.000</td> <td>   -0.352</td> <td>   -0.235</td>\n",
       "</tr>\n",
       "</table>\n",
       "<table class=\"simpletable\">\n",
       "<tr>\n",
       "  <th>Omnibus:</th>       <td>11522.735</td> <th>  Durbin-Watson:     </th>  <td>   1.650</td> \n",
       "</tr>\n",
       "<tr>\n",
       "  <th>Prob(Omnibus):</th>  <td> 0.000</td>   <th>  Jarque-Bera (JB):  </th> <td>206333.499</td>\n",
       "</tr>\n",
       "<tr>\n",
       "  <th>Skew:</th>           <td>-3.481</td>   <th>  Prob(JB):          </th>  <td>    0.00</td> \n",
       "</tr>\n",
       "<tr>\n",
       "  <th>Kurtosis:</th>       <td>19.441</td>   <th>  Cond. No.          </th>  <td>    6.74</td> \n",
       "</tr>\n",
       "</table><br/><br/>Notes:<br/>[1] Standard Errors assume that the covariance matrix of the errors is correctly specified."
      ],
      "text/plain": [
       "<class 'statsmodels.iolib.summary.Summary'>\n",
       "\"\"\"\n",
       "                            OLS Regression Results                            \n",
       "==============================================================================\n",
       "Dep. Variable:                 rating   R-squared:                       0.012\n",
       "Model:                            OLS   Adj. R-squared:                  0.012\n",
       "Method:                 Least Squares   F-statistic:                     61.48\n",
       "Date:                Mon, 30 Nov 2020   Prob (F-statistic):           1.66e-39\n",
       "Time:                        20:52:22   Log-Likelihood:                -24600.\n",
       "No. Observations:               15534   AIC:                         4.921e+04\n",
       "Df Residuals:                   15530   BIC:                         4.924e+04\n",
       "Df Model:                           3                                         \n",
       "Covariance Type:            nonrobust                                         \n",
       "======================================================================================\n",
       "                         coef    std err          t      P>|t|      [0.025      0.975]\n",
       "--------------------------------------------------------------------------------------\n",
       "Intercept              9.7897      0.026    371.931      0.000       9.738       9.841\n",
       "read_by[T.celeb]      -0.4038      0.032    -12.655      0.000      -0.466      -0.341\n",
       "read_by[T.robot]      -0.4139      0.036    -11.472      0.000      -0.485      -0.343\n",
       "read_by[T.someone]    -0.2931      0.030     -9.812      0.000      -0.352      -0.235\n",
       "==============================================================================\n",
       "Omnibus:                    11522.735   Durbin-Watson:                   1.650\n",
       "Prob(Omnibus):                  0.000   Jarque-Bera (JB):           206333.499\n",
       "Skew:                          -3.481   Prob(JB):                         0.00\n",
       "Kurtosis:                      19.441   Cond. No.                         6.74\n",
       "==============================================================================\n",
       "\n",
       "Notes:\n",
       "[1] Standard Errors assume that the covariance matrix of the errors is correctly specified.\n",
       "\"\"\""
      ]
     },
     "execution_count": 38,
     "metadata": {},
     "output_type": "execute_result"
    }
   ],
   "source": [
    "ols('rating ~ read_by', data = all_review).fit().summary()"
   ]
  },
  {
   "cell_type": "markdown",
   "metadata": {},
   "source": [
    "일반적으로 작가가 읽었을 때 가장 평점이 높음<br>\n",
    "근데 r제곱이 1퍼센트..^^"
   ]
  },
  {
   "cell_type": "markdown",
   "metadata": {},
   "source": [
    "## 전체 평점 분포"
   ]
  },
  {
   "cell_type": "markdown",
   "metadata": {},
   "source": [
    "위의 회귀분석 결과에 따르면 읽어주는 목소리에 따른 점수 차이는 최대 0.4점<br>\n",
    "그러나 우리 데이터의 분포를 생각할 때 0.4점 차이도 크다고 할 수 있음"
   ]
  },
  {
   "cell_type": "code",
   "execution_count": 40,
   "metadata": {},
   "outputs": [],
   "source": [
    "for_plot = all_review['rating'].quantile(np.arange(0, 1, 0.025)).to_frame().reset_index()\n",
    "\n",
    "for_plot.columns = ['percentage', 'rating_value']\n",
    "\n",
    "for_plot['percentage'] = for_plot['percentage'].apply(lambda x : round(x, 3)).apply(str)"
   ]
  },
  {
   "cell_type": "code",
   "execution_count": 42,
   "metadata": {
    "scrolled": true
   },
   "outputs": [
    {
     "data": {
      "text/plain": [
       "Text(0.5, 1.0, '평점 분포 (1/4분위까지)')"
      ]
     },
     "execution_count": 42,
     "metadata": {},
     "output_type": "execute_result"
    },
    {
     "data": {
      "image/png": "[encoded data removed]",
      "text/plain": [
       "<Figure size 432x288 with 1 Axes>"
      ]
     },
     "metadata": {
      "needs_background": "light"
     },
     "output_type": "display_data"
    }
   ],
   "source": [
    "plt.bar(for_plot.iloc[:11, :]['percentage'], for_plot.iloc[:11, :]['rating_value'], align = 'edge')\n",
    "plt.xticks(rotation = 45)\n",
    "plt.title(\"평점 분포 (1/4분위까지)\", fontsize = 18)"
   ]
  },
  {
   "cell_type": "code",
   "execution_count": 46,
   "metadata": {},
   "outputs": [
    {
     "data": {
      "text/plain": [
       "Text(0.5, 1.0, '평점 분포 (전체)')"
      ]
     },
     "execution_count": 46,
     "metadata": {},
     "output_type": "execute_result"
    },
    {
     "data": {
      "image/png": "[encoded data removed]",
      "text/plain": [
       "<Figure size 432x288 with 1 Axes>"
      ]
     },
     "metadata": {
      "needs_background": "light"
     },
     "output_type": "display_data"
    }
   ],
   "source": [
    "plt.bar(for_plot['percentage'], for_plot['rating_value'], align = 'edge',color = \"c\", width = 1)\n",
    "plt.axvline(x=9.9)\n",
    "plt.xticks([])\n",
    "plt.title(\"평점 분포 (전체)\", fontsize = 18)"
   ]
  },
  {
   "cell_type": "markdown",
   "metadata": {},
   "source": [
    "## 리뷰 길이"
   ]
  },
  {
   "cell_type": "code",
   "execution_count": 80,
   "metadata": {},
   "outputs": [],
   "source": [
    "with_review = all_review.dropna(how = 'any',subset=[\"review\"], axis = 0) #rating만 있는 경우 drop"
   ]
  },
  {
   "cell_type": "code",
   "execution_count": 81,
   "metadata": {},
   "outputs": [
    {
     "name": "stderr",
     "output_type": "stream",
     "text": [
      "C:\\Users\\Hanna Kim\\Anaconda3\\lib\\site-packages\\ipykernel_launcher.py:1: SettingWithCopyWarning: \n",
      "A value is trying to be set on a copy of a slice from a DataFrame.\n",
      "Try using .loc[row_indexer,col_indexer] = value instead\n",
      "\n",
      "See the caveats in the documentation: https://pandas.pydata.org/pandas-docs/stable/user_guide/indexing.html#returning-a-view-versus-a-copy\n",
      "  \"\"\"Entry point for launching an IPython kernel.\n"
     ]
    },
    {
     "data": {
      "text/html": [
       "<div>\n",
       "<style scoped>\n",
       "    .dataframe tbody tr th:only-of-type {\n",
       "        vertical-align: middle;\n",
       "    }\n",
       "\n",
       "    .dataframe tbody tr th {\n",
       "        vertical-align: top;\n",
       "    }\n",
       "\n",
       "    .dataframe thead th {\n",
       "        text-align: right;\n",
       "    }\n",
       "</style>\n",
       "<table border=\"1\" class=\"dataframe\">\n",
       "  <thead>\n",
       "    <tr style=\"text-align: right;\">\n",
       "      <th></th>\n",
       "      <th>nickname</th>\n",
       "      <th>rating</th>\n",
       "      <th>title</th>\n",
       "      <th>voice</th>\n",
       "      <th>author</th>\n",
       "      <th>review</th>\n",
       "      <th>created</th>\n",
       "      <th>publish</th>\n",
       "      <th>genre</th>\n",
       "      <th>read_by</th>\n",
       "      <th>length</th>\n",
       "    </tr>\n",
       "  </thead>\n",
       "  <tbody>\n",
       "    <tr>\n",
       "      <th>2100</th>\n",
       "      <td>단밭빵퉷</td>\n",
       "      <td>80</td>\n",
       "      <td>담배만이 우리 세상</td>\n",
       "      <td>남도형</td>\n",
       "      <td>류연웅</td>\n",
       "      <td>학창시절 생각나네요 \\r\\n재밌게 잘들었습니다.</td>\n",
       "      <td>2019.09.29</td>\n",
       "      <td>안전가옥</td>\n",
       "      <td>소설문학</td>\n",
       "      <td>someone</td>\n",
       "      <td>24</td>\n",
       "    </tr>\n",
       "  </tbody>\n",
       "</table>\n",
       "</div>"
      ],
      "text/plain": [
       "     nickname  rating       title voice author                      review  \\\n",
       "2100     단밭빵퉷      80  담배만이 우리 세상   남도형    류연웅  학창시절 생각나네요 \\r\\n재밌게 잘들었습니다.   \n",
       "\n",
       "         created publish genre  read_by  length  \n",
       "2100  2019.09.29    안전가옥  소설문학  someone      24  "
      ]
     },
     "execution_count": 81,
     "metadata": {},
     "output_type": "execute_result"
    }
   ],
   "source": [
    "with_review[\"length\"] = with_review['review'].apply(len)\n",
    "with_review.sample()"
   ]
  },
  {
   "cell_type": "code",
   "execution_count": 142,
   "metadata": {},
   "outputs": [
    {
     "data": {
      "text/plain": [
       "array(['잘들었습니다.', '잘들었습니다', '잘 들었습니다'], dtype=object)"
      ]
     },
     "execution_count": 142,
     "metadata": {},
     "output_type": "execute_result"
    }
   ],
   "source": [
    "with_review[(with_review['review'].str.contains('들었습니다')) & (with_review['length'] < 10)].review.unique()[:3] #세개만 샘플로 뽑아봤어요"
   ]
  },
  {
   "cell_type": "markdown",
   "metadata": {},
   "source": [
    "## 유저별 평점 variance "
   ]
  },
  {
   "cell_type": "code",
   "execution_count": 50,
   "metadata": {},
   "outputs": [
    {
     "data": {
      "text/html": [
       "<div>\n",
       "<style scoped>\n",
       "    .dataframe tbody tr th:only-of-type {\n",
       "        vertical-align: middle;\n",
       "    }\n",
       "\n",
       "    .dataframe tbody tr th {\n",
       "        vertical-align: top;\n",
       "    }\n",
       "\n",
       "    .dataframe thead th {\n",
       "        text-align: right;\n",
       "    }\n",
       "</style>\n",
       "<table border=\"1\" class=\"dataframe\">\n",
       "  <thead>\n",
       "    <tr style=\"text-align: right;\">\n",
       "      <th></th>\n",
       "      <th>nickname</th>\n",
       "      <th>title</th>\n",
       "      <th>rating</th>\n",
       "    </tr>\n",
       "  </thead>\n",
       "  <tbody>\n",
       "    <tr>\n",
       "      <th>11776</th>\n",
       "      <td>웅크린냥이</td>\n",
       "      <td>인간에 대한 예의</td>\n",
       "      <td>10.0</td>\n",
       "    </tr>\n",
       "  </tbody>\n",
       "</table>\n",
       "</div>"
      ],
      "text/plain": [
       "      nickname      title  rating\n",
       "11776    웅크린냥이  인간에 대한 예의    10.0"
      ]
     },
     "execution_count": 50,
     "metadata": {},
     "output_type": "execute_result"
    }
   ],
   "source": [
    "review_per_user = all_review.groupby(['nickname', 'title'])['rating'].first().to_frame().reset_index()\n",
    "review_per_user.sample()"
   ]
  },
  {
   "cell_type": "markdown",
   "metadata": {},
   "source": [
    "책 한권에 대한 리뷰만 남긴 유저는 제외하고 분산을 살펴보려 함"
   ]
  },
  {
   "cell_type": "code",
   "execution_count": 52,
   "metadata": {},
   "outputs": [],
   "source": [
    "review_count = review_per_user.groupby('nickname')['rating'].count().to_frame()\n",
    "review_one = list(review_count.query('rating == 1').index)"
   ]
  },
  {
   "cell_type": "code",
   "execution_count": 53,
   "metadata": {},
   "outputs": [
    {
     "data": {
      "text/html": [
       "<div>\n",
       "<style scoped>\n",
       "    .dataframe tbody tr th:only-of-type {\n",
       "        vertical-align: middle;\n",
       "    }\n",
       "\n",
       "    .dataframe tbody tr th {\n",
       "        vertical-align: top;\n",
       "    }\n",
       "\n",
       "    .dataframe thead th {\n",
       "        text-align: right;\n",
       "    }\n",
       "</style>\n",
       "<table border=\"1\" class=\"dataframe\">\n",
       "  <thead>\n",
       "    <tr style=\"text-align: right;\">\n",
       "      <th></th>\n",
       "      <th>rating_variance</th>\n",
       "    </tr>\n",
       "    <tr>\n",
       "      <th>nickname</th>\n",
       "      <th></th>\n",
       "    </tr>\n",
       "  </thead>\n",
       "  <tbody>\n",
       "    <tr>\n",
       "      <th>legacykh</th>\n",
       "      <td>0.25</td>\n",
       "    </tr>\n",
       "  </tbody>\n",
       "</table>\n",
       "</div>"
      ],
      "text/plain": [
       "          rating_variance\n",
       "nickname                 \n",
       "legacykh             0.25"
      ]
     },
     "execution_count": 53,
     "metadata": {},
     "output_type": "execute_result"
    }
   ],
   "source": [
    "review_var = review_per_user[~review_per_user['nickname'].isin(review_one)].groupby('nickname')['rating'].var(ddof = 0).to_frame()\n",
    "review_var.columns = ['rating_variance']\n",
    "review_var.sample()"
   ]
  },
  {
   "cell_type": "code",
   "execution_count": 54,
   "metadata": {},
   "outputs": [
    {
     "data": {
      "text/plain": [
       "0"
      ]
     },
     "execution_count": 54,
     "metadata": {},
     "output_type": "execute_result"
    }
   ],
   "source": [
    "review_var[review_var['rating_variance'].isnull()].shape[0]"
   ]
  },
  {
   "cell_type": "code",
   "execution_count": 55,
   "metadata": {},
   "outputs": [
    {
     "data": {
      "text/html": [
       "<div>\n",
       "<style scoped>\n",
       "    .dataframe tbody tr th:only-of-type {\n",
       "        vertical-align: middle;\n",
       "    }\n",
       "\n",
       "    .dataframe tbody tr th {\n",
       "        vertical-align: top;\n",
       "    }\n",
       "\n",
       "    .dataframe thead th {\n",
       "        text-align: right;\n",
       "    }\n",
       "</style>\n",
       "<table border=\"1\" class=\"dataframe\">\n",
       "  <thead>\n",
       "    <tr style=\"text-align: right;\">\n",
       "      <th></th>\n",
       "      <th>rating_variance</th>\n",
       "    </tr>\n",
       "    <tr>\n",
       "      <th>nickname</th>\n",
       "      <th></th>\n",
       "    </tr>\n",
       "  </thead>\n",
       "  <tbody>\n",
       "    <tr>\n",
       "      <th>amartia</th>\n",
       "      <td>0.25</td>\n",
       "    </tr>\n",
       "  </tbody>\n",
       "</table>\n",
       "</div>"
      ],
      "text/plain": [
       "          rating_variance\n",
       "nickname                 \n",
       "amartia              0.25"
      ]
     },
     "execution_count": 55,
     "metadata": {},
     "output_type": "execute_result"
    }
   ],
   "source": [
    "review_var.query('nickname == \"amartia\"')"
   ]
  },
  {
   "cell_type": "code",
   "execution_count": 56,
   "metadata": {},
   "outputs": [
    {
     "data": {
      "text/html": [
       "<div>\n",
       "<style scoped>\n",
       "    .dataframe tbody tr th:only-of-type {\n",
       "        vertical-align: middle;\n",
       "    }\n",
       "\n",
       "    .dataframe tbody tr th {\n",
       "        vertical-align: top;\n",
       "    }\n",
       "\n",
       "    .dataframe thead th {\n",
       "        text-align: right;\n",
       "    }\n",
       "</style>\n",
       "<table border=\"1\" class=\"dataframe\">\n",
       "  <thead>\n",
       "    <tr style=\"text-align: right;\">\n",
       "      <th></th>\n",
       "      <th>nickname</th>\n",
       "      <th>title</th>\n",
       "      <th>rating</th>\n",
       "    </tr>\n",
       "  </thead>\n",
       "  <tbody>\n",
       "    <tr>\n",
       "      <th>954</th>\n",
       "      <td>amartia</td>\n",
       "      <td>모두 거짓말을 한다</td>\n",
       "      <td>8.0</td>\n",
       "    </tr>\n",
       "    <tr>\n",
       "      <th>955</th>\n",
       "      <td>amartia</td>\n",
       "      <td>아몬드</td>\n",
       "      <td>9.0</td>\n",
       "    </tr>\n",
       "  </tbody>\n",
       "</table>\n",
       "</div>"
      ],
      "text/plain": [
       "    nickname       title  rating\n",
       "954  amartia  모두 거짓말을 한다     8.0\n",
       "955  amartia         아몬드     9.0"
      ]
     },
     "execution_count": 56,
     "metadata": {},
     "output_type": "execute_result"
    }
   ],
   "source": [
    "review_per_user.query('nickname == \"amartia\"')"
   ]
  },
  {
   "cell_type": "code",
   "execution_count": 57,
   "metadata": {},
   "outputs": [
    {
     "data": {
      "text/html": [
       "<div>\n",
       "<style scoped>\n",
       "    .dataframe tbody tr th:only-of-type {\n",
       "        vertical-align: middle;\n",
       "    }\n",
       "\n",
       "    .dataframe tbody tr th {\n",
       "        vertical-align: top;\n",
       "    }\n",
       "\n",
       "    .dataframe thead th {\n",
       "        text-align: right;\n",
       "    }\n",
       "</style>\n",
       "<table border=\"1\" class=\"dataframe\">\n",
       "  <thead>\n",
       "    <tr style=\"text-align: right;\">\n",
       "      <th></th>\n",
       "      <th>rating_variance</th>\n",
       "    </tr>\n",
       "    <tr>\n",
       "      <th>nickname</th>\n",
       "      <th></th>\n",
       "    </tr>\n",
       "  </thead>\n",
       "  <tbody>\n",
       "    <tr>\n",
       "      <th>벙직</th>\n",
       "      <td>0.000000</td>\n",
       "    </tr>\n",
       "    <tr>\n",
       "      <th>2018YBM</th>\n",
       "      <td>0.250000</td>\n",
       "    </tr>\n",
       "    <tr>\n",
       "      <th>이좃까야</th>\n",
       "      <td>0.052469</td>\n",
       "    </tr>\n",
       "  </tbody>\n",
       "</table>\n",
       "</div>"
      ],
      "text/plain": [
       "          rating_variance\n",
       "nickname                 \n",
       "벙직               0.000000\n",
       "2018YBM          0.250000\n",
       "이좃까야             0.052469"
      ]
     },
     "execution_count": 57,
     "metadata": {},
     "output_type": "execute_result"
    }
   ],
   "source": [
    "review_var.sample(3)"
   ]
  },
  {
   "cell_type": "code",
   "execution_count": 58,
   "metadata": {},
   "outputs": [
    {
     "data": {
      "text/plain": [
       "6.6942148760330555"
      ]
     },
     "execution_count": 58,
     "metadata": {},
     "output_type": "execute_result"
    }
   ],
   "source": [
    "np.var(review_per_user.query(\"nickname == 'djsjsjss'\")['rating'])"
   ]
  },
  {
   "cell_type": "markdown",
   "metadata": {},
   "source": [
    "### 유저당 평점 분산 시각화"
   ]
  },
  {
   "cell_type": "code",
   "execution_count": 62,
   "metadata": {},
   "outputs": [
    {
     "data": {
      "text/plain": [
       "Text(0.5, 1.0, '유저당 평점 분산')"
      ]
     },
     "execution_count": 62,
     "metadata": {},
     "output_type": "execute_result"
    },
    {
     "data": {
      "image/png": "[encoded data removed]",
      "text/plain": [
       "<Figure size 432x288 with 1 Axes>"
      ]
     },
     "metadata": {
      "needs_background": "light"
     },
     "output_type": "display_data"
    }
   ],
   "source": [
    "plt.boxplot(review_var)\n",
    "plt.title(\"유저당 평점 분산\",fontsize=18)"
   ]
  },
  {
   "cell_type": "code",
   "execution_count": 63,
   "metadata": {
    "scrolled": true
   },
   "outputs": [
    {
     "data": {
      "text/plain": [
       "Text(0.5, 1.0, '유저당 평점 분산 (아웃라이어 제외)')"
      ]
     },
     "execution_count": 63,
     "metadata": {},
     "output_type": "execute_result"
    },
    {
     "data": {
      "image/png": "[encoded data removed]",
      "text/plain": [
       "<Figure size 432x288 with 1 Axes>"
      ]
     },
     "metadata": {
      "needs_background": "light"
     },
     "output_type": "display_data"
    }
   ],
   "source": [
    "plt.boxplot(review_var, showfliers=False)\n",
    "plt.title(\"유저당 평점 분산 (아웃라이어 제외)\",fontsize=18)"
   ]
  },
  {
   "cell_type": "markdown",
   "metadata": {},
   "source": [
    "### heavy user의 평점 분산"
   ]
  },
  {
   "cell_type": "code",
   "execution_count": 64,
   "metadata": {},
   "outputs": [
    {
     "data": {
      "text/html": [
       "<div>\n",
       "<style scoped>\n",
       "    .dataframe tbody tr th:only-of-type {\n",
       "        vertical-align: middle;\n",
       "    }\n",
       "\n",
       "    .dataframe tbody tr th {\n",
       "        vertical-align: top;\n",
       "    }\n",
       "\n",
       "    .dataframe thead th {\n",
       "        text-align: right;\n",
       "    }\n",
       "</style>\n",
       "<table border=\"1\" class=\"dataframe\">\n",
       "  <thead>\n",
       "    <tr style=\"text-align: right;\">\n",
       "      <th></th>\n",
       "      <th>rating_variance</th>\n",
       "      <th>rating_count</th>\n",
       "    </tr>\n",
       "    <tr>\n",
       "      <th>nickname</th>\n",
       "      <th></th>\n",
       "      <th></th>\n",
       "    </tr>\n",
       "  </thead>\n",
       "  <tbody>\n",
       "    <tr>\n",
       "      <th>슬로우볼</th>\n",
       "      <td>0.0</td>\n",
       "      <td>14</td>\n",
       "    </tr>\n",
       "  </tbody>\n",
       "</table>\n",
       "</div>"
      ],
      "text/plain": [
       "          rating_variance  rating_count\n",
       "nickname                               \n",
       "슬로우볼                  0.0            14"
      ]
     },
     "execution_count": 64,
     "metadata": {},
     "output_type": "execute_result"
    }
   ],
   "source": [
    "review_var_count = review_var.merge(review_count, left_index = True, right_index = True)\n",
    "review_var_count.columns = ['rating_variance', 'rating_count']\n",
    "review_var_count.sample()"
   ]
  },
  {
   "cell_type": "code",
   "execution_count": 113,
   "metadata": {},
   "outputs": [
    {
     "data": {
      "text/html": [
       "<div>\n",
       "<style scoped>\n",
       "    .dataframe tbody tr th:only-of-type {\n",
       "        vertical-align: middle;\n",
       "    }\n",
       "\n",
       "    .dataframe tbody tr th {\n",
       "        vertical-align: top;\n",
       "    }\n",
       "\n",
       "    .dataframe thead th {\n",
       "        text-align: right;\n",
       "    }\n",
       "</style>\n",
       "<table border=\"1\" class=\"dataframe\">\n",
       "  <thead>\n",
       "    <tr style=\"text-align: right;\">\n",
       "      <th></th>\n",
       "      <th>rating</th>\n",
       "    </tr>\n",
       "  </thead>\n",
       "  <tbody>\n",
       "    <tr>\n",
       "      <th>count</th>\n",
       "      <td>4450.000000</td>\n",
       "    </tr>\n",
       "    <tr>\n",
       "      <th>mean</th>\n",
       "      <td>3.489213</td>\n",
       "    </tr>\n",
       "    <tr>\n",
       "      <th>std</th>\n",
       "      <td>6.100897</td>\n",
       "    </tr>\n",
       "    <tr>\n",
       "      <th>min</th>\n",
       "      <td>1.000000</td>\n",
       "    </tr>\n",
       "    <tr>\n",
       "      <th>25%</th>\n",
       "      <td>1.000000</td>\n",
       "    </tr>\n",
       "    <tr>\n",
       "      <th>50%</th>\n",
       "      <td>1.000000</td>\n",
       "    </tr>\n",
       "    <tr>\n",
       "      <th>75%</th>\n",
       "      <td>3.000000</td>\n",
       "    </tr>\n",
       "    <tr>\n",
       "      <th>max</th>\n",
       "      <td>65.000000</td>\n",
       "    </tr>\n",
       "  </tbody>\n",
       "</table>\n",
       "</div>"
      ],
      "text/plain": [
       "            rating\n",
       "count  4450.000000\n",
       "mean      3.489213\n",
       "std       6.100897\n",
       "min       1.000000\n",
       "25%       1.000000\n",
       "50%       1.000000\n",
       "75%       3.000000\n",
       "max      65.000000"
      ]
     },
     "execution_count": 113,
     "metadata": {},
     "output_type": "execute_result"
    }
   ],
   "source": [
    "review_count.describe()"
   ]
  },
  {
   "cell_type": "code",
   "execution_count": 114,
   "metadata": {},
   "outputs": [
    {
     "data": {
      "text/html": [
       "<div>\n",
       "<style scoped>\n",
       "    .dataframe tbody tr th:only-of-type {\n",
       "        vertical-align: middle;\n",
       "    }\n",
       "\n",
       "    .dataframe tbody tr th {\n",
       "        vertical-align: top;\n",
       "    }\n",
       "\n",
       "    .dataframe thead th {\n",
       "        text-align: right;\n",
       "    }\n",
       "</style>\n",
       "<table border=\"1\" class=\"dataframe\">\n",
       "  <thead>\n",
       "    <tr style=\"text-align: right;\">\n",
       "      <th></th>\n",
       "      <th>rating</th>\n",
       "    </tr>\n",
       "  </thead>\n",
       "  <tbody>\n",
       "    <tr>\n",
       "      <th>0.75</th>\n",
       "      <td>3.0</td>\n",
       "    </tr>\n",
       "    <tr>\n",
       "      <th>0.80</th>\n",
       "      <td>4.0</td>\n",
       "    </tr>\n",
       "    <tr>\n",
       "      <th>0.85</th>\n",
       "      <td>5.0</td>\n",
       "    </tr>\n",
       "    <tr>\n",
       "      <th>0.90</th>\n",
       "      <td>9.0</td>\n",
       "    </tr>\n",
       "    <tr>\n",
       "      <th>0.95</th>\n",
       "      <td>16.0</td>\n",
       "    </tr>\n",
       "  </tbody>\n",
       "</table>\n",
       "</div>"
      ],
      "text/plain": [
       "      rating\n",
       "0.75     3.0\n",
       "0.80     4.0\n",
       "0.85     5.0\n",
       "0.90     9.0\n",
       "0.95    16.0"
      ]
     },
     "execution_count": 114,
     "metadata": {},
     "output_type": "execute_result"
    }
   ],
   "source": [
    "review_count.quantile(np.arange(0.75, 1, 0.05))"
   ]
  },
  {
   "cell_type": "code",
   "execution_count": 116,
   "metadata": {},
   "outputs": [
    {
     "data": {
      "text/html": [
       "<div>\n",
       "<style scoped>\n",
       "    .dataframe tbody tr th:only-of-type {\n",
       "        vertical-align: middle;\n",
       "    }\n",
       "\n",
       "    .dataframe tbody tr th {\n",
       "        vertical-align: top;\n",
       "    }\n",
       "\n",
       "    .dataframe thead th {\n",
       "        text-align: right;\n",
       "    }\n",
       "</style>\n",
       "<table border=\"1\" class=\"dataframe\">\n",
       "  <thead>\n",
       "    <tr style=\"text-align: right;\">\n",
       "      <th></th>\n",
       "      <th>rating</th>\n",
       "    </tr>\n",
       "  </thead>\n",
       "  <tbody>\n",
       "    <tr>\n",
       "      <th>0.900</th>\n",
       "      <td>9.000</td>\n",
       "    </tr>\n",
       "    <tr>\n",
       "      <th>0.925</th>\n",
       "      <td>12.000</td>\n",
       "    </tr>\n",
       "    <tr>\n",
       "      <th>0.950</th>\n",
       "      <td>16.000</td>\n",
       "    </tr>\n",
       "    <tr>\n",
       "      <th>0.975</th>\n",
       "      <td>21.775</td>\n",
       "    </tr>\n",
       "  </tbody>\n",
       "</table>\n",
       "</div>"
      ],
      "text/plain": [
       "       rating\n",
       "0.900   9.000\n",
       "0.925  12.000\n",
       "0.950  16.000\n",
       "0.975  21.775"
      ]
     },
     "execution_count": 116,
     "metadata": {},
     "output_type": "execute_result"
    }
   ],
   "source": [
    "review_count.quantile(np.arange(0.9, 1, 0.025))"
   ]
  },
  {
   "cell_type": "code",
   "execution_count": 119,
   "metadata": {},
   "outputs": [
    {
     "data": {
      "text/plain": [
       "Text(0.5, 1.0, 'Heavy User의 유저당 평점 분산 (Flier 포함)')"
      ]
     },
     "execution_count": 119,
     "metadata": {},
     "output_type": "execute_result"
    },
    {
     "data": {
      "image/png": "[encoded data removed]",
      "text/plain": [
       "<Figure size 432x288 with 1 Axes>"
      ]
     },
     "metadata": {
      "needs_background": "light"
     },
     "output_type": "display_data"
    }
   ],
   "source": [
    "for_plot = review_var_count[review_var_count['rating_count'] >= 12]['rating_variance']\n",
    "plt.boxplot(for_plot)\n",
    "plt.title(\"Heavy User의 유저당 평점 분산 (Flier 포함)\",fontsize=18)"
   ]
  },
  {
   "cell_type": "code",
   "execution_count": 120,
   "metadata": {
    "scrolled": true
   },
   "outputs": [
    {
     "data": {
      "text/plain": [
       "Text(0.5, 1.0, 'Heavy User의 유저당 평점 분산 (Flier 제외)')"
      ]
     },
     "execution_count": 120,
     "metadata": {},
     "output_type": "execute_result"
    },
    {
     "data": {
      "image/png": "[encoded data removed]",
      "text/plain": [
       "<Figure size 432x288 with 1 Axes>"
      ]
     },
     "metadata": {
      "needs_background": "light"
     },
     "output_type": "display_data"
    }
   ],
   "source": [
    "for_plot = review_var_count[review_var_count['rating_count'] >= 12]['rating_variance']\n",
    "plt.boxplot(for_plot, showfliers=False)\n",
    "plt.title(\"Heavy User의 유저당 평점 분산 (Flier 제외)\",fontsize=18)"
   ]
  },
  {
   "cell_type": "markdown",
   "metadata": {},
   "source": [
    "### 별점 분포가 넓은 유저들의 특징"
   ]
  },
  {
   "cell_type": "code",
   "execution_count": 130,
   "metadata": {},
   "outputs": [
    {
     "data": {
      "text/plain": [
       "count    1646.000000\n",
       "mean        0.527955\n",
       "std         1.652693\n",
       "min         0.000000\n",
       "25%         0.000000\n",
       "50%         0.000000\n",
       "75%         0.359844\n",
       "max        20.250000\n",
       "Name: rating_variance, dtype: float64"
      ]
     },
     "execution_count": 130,
     "metadata": {},
     "output_type": "execute_result"
    }
   ],
   "source": [
    "review_var_count['rating_variance'].describe()"
   ]
  },
  {
   "cell_type": "code",
   "execution_count": 132,
   "metadata": {},
   "outputs": [
    {
     "data": {
      "text/plain": [
       "0.75    0.359844\n",
       "0.80    0.634615\n",
       "0.85    0.888889\n",
       "0.90    1.018988\n",
       "0.95    2.250000\n",
       "Name: rating_variance, dtype: float64"
      ]
     },
     "execution_count": 132,
     "metadata": {},
     "output_type": "execute_result"
    }
   ],
   "source": [
    "review_var_count['rating_variance'].quantile(np.arange(0.75, 1, 0.05))"
   ]
  },
  {
   "cell_type": "code",
   "execution_count": 139,
   "metadata": {},
   "outputs": [],
   "source": [
    "var_over_2 = list(review_var_count[review_var_count['rating_variance'] >= 2].index)"
   ]
  },
  {
   "cell_type": "markdown",
   "metadata": {},
   "source": [
    "평점 분산이 2 이상인 user들만 모아서 리스트로 만들었음"
   ]
  },
  {
   "cell_type": "code",
   "execution_count": 149,
   "metadata": {},
   "outputs": [
    {
     "data": {
      "text/plain": [
       "count    97.000000\n",
       "mean     10.855670\n",
       "std      12.792405\n",
       "min       2.000000\n",
       "25%       2.000000\n",
       "50%       5.000000\n",
       "75%      13.000000\n",
       "max      54.000000\n",
       "Name: rating_count, dtype: float64"
      ]
     },
     "execution_count": 149,
     "metadata": {},
     "output_type": "execute_result"
    }
   ],
   "source": [
    "review_var_count.loc[var_over_2].rating_count.describe()"
   ]
  },
  {
   "cell_type": "code",
   "execution_count": 171,
   "metadata": {
    "scrolled": true
   },
   "outputs": [
    {
     "data": {
      "text/plain": [
       "Text(0.5, 1.0, '평점 분산이 2 이상의 유저의 평가 횟수')"
      ]
     },
     "execution_count": 171,
     "metadata": {},
     "output_type": "execute_result"
    },
    {
     "data": {
      "image/png": "[encoded data removed]",
      "text/plain": [
       "<Figure size 432x288 with 1 Axes>"
      ]
     },
     "metadata": {
      "needs_background": "light"
     },
     "output_type": "display_data"
    }
   ],
   "source": [
    "plt.hist(review_var_count.loc[var_over_2].rating_count, bins = np.arange(0,60,5), color = 'c', alpha = 0.7)\n",
    "plt.title('평점 분산이 2 이상의 유저의 평가 횟수', fontsize=18)"
   ]
  },
  {
   "cell_type": "code",
   "execution_count": 186,
   "metadata": {},
   "outputs": [],
   "source": [
    "df = all_review[all_review['nickname'].isin(var_over_2)].pivot_table(index='nickname', columns = 'genre', values ='title', aggfunc = 'count')"
   ]
  },
  {
   "cell_type": "code",
   "execution_count": 188,
   "metadata": {},
   "outputs": [
    {
     "data": {
      "text/html": [
       "<div>\n",
       "<style scoped>\n",
       "    .dataframe tbody tr th:only-of-type {\n",
       "        vertical-align: middle;\n",
       "    }\n",
       "\n",
       "    .dataframe tbody tr th {\n",
       "        vertical-align: top;\n",
       "    }\n",
       "\n",
       "    .dataframe thead th {\n",
       "        text-align: right;\n",
       "    }\n",
       "</style>\n",
       "<table border=\"1\" class=\"dataframe\">\n",
       "  <thead>\n",
       "    <tr style=\"text-align: right;\">\n",
       "      <th>genre</th>\n",
       "      <th>경제경영</th>\n",
       "      <th>소설문학</th>\n",
       "      <th>어린이동화</th>\n",
       "      <th>오디오북스</th>\n",
       "      <th>인문교양</th>\n",
       "      <th>자기계발</th>\n",
       "    </tr>\n",
       "    <tr>\n",
       "      <th>nickname</th>\n",
       "      <th></th>\n",
       "      <th></th>\n",
       "      <th></th>\n",
       "      <th></th>\n",
       "      <th></th>\n",
       "      <th></th>\n",
       "    </tr>\n",
       "  </thead>\n",
       "  <tbody>\n",
       "    <tr>\n",
       "      <th>새벽3</th>\n",
       "      <td>NaN</td>\n",
       "      <td>4.0</td>\n",
       "      <td>NaN</td>\n",
       "      <td>NaN</td>\n",
       "      <td>NaN</td>\n",
       "      <td>NaN</td>\n",
       "    </tr>\n",
       "  </tbody>\n",
       "</table>\n",
       "</div>"
      ],
      "text/plain": [
       "genre     경제경영  소설문학  어린이동화  오디오북스  인문교양  자기계발\n",
       "nickname                                      \n",
       "새벽3        NaN   4.0    NaN    NaN   NaN   NaN"
      ]
     },
     "execution_count": 188,
     "metadata": {},
     "output_type": "execute_result"
    }
   ],
   "source": [
    "# df.replace(np.NaN, 0, inplace=True)\n",
    "df.sample()"
   ]
  },
  {
   "cell_type": "code",
   "execution_count": 252,
   "metadata": {},
   "outputs": [
    {
     "data": {
      "text/html": [
       "<div>\n",
       "<style scoped>\n",
       "    .dataframe tbody tr th:only-of-type {\n",
       "        vertical-align: middle;\n",
       "    }\n",
       "\n",
       "    .dataframe tbody tr th {\n",
       "        vertical-align: top;\n",
       "    }\n",
       "\n",
       "    .dataframe thead th {\n",
       "        text-align: right;\n",
       "    }\n",
       "</style>\n",
       "<table border=\"1\" class=\"dataframe\">\n",
       "  <thead>\n",
       "    <tr style=\"text-align: right;\">\n",
       "      <th></th>\n",
       "      <th>review_length</th>\n",
       "    </tr>\n",
       "    <tr>\n",
       "      <th>nickname</th>\n",
       "      <th></th>\n",
       "    </tr>\n",
       "  </thead>\n",
       "  <tbody>\n",
       "    <tr>\n",
       "      <th>고두림</th>\n",
       "      <td>6.0</td>\n",
       "    </tr>\n",
       "  </tbody>\n",
       "</table>\n",
       "</div>"
      ],
      "text/plain": [
       "          review_length\n",
       "nickname               \n",
       "고두림                 6.0"
      ]
     },
     "execution_count": 252,
     "metadata": {},
     "output_type": "execute_result"
    }
   ],
   "source": [
    "df1 = all_review[all_review['nickname'].isin(var_over_2)][['nickname', 'review']]\n",
    "df1['review_length'] = df1['review'].apply(str).apply(lambda x :len(x))\n",
    "df1 = df1.groupby('nickname')['review_length'].mean().to_frame()\n",
    "df1.sample()"
   ]
  },
  {
   "cell_type": "code",
   "execution_count": 253,
   "metadata": {},
   "outputs": [
    {
     "data": {
      "text/plain": [
       "count     97.000000\n",
       "mean      21.401105\n",
       "std       27.124205\n",
       "min        2.000000\n",
       "25%        6.000000\n",
       "50%       12.142857\n",
       "75%       25.333333\n",
       "max      167.000000\n",
       "Name: review_length, dtype: float64"
      ]
     },
     "execution_count": 253,
     "metadata": {},
     "output_type": "execute_result"
    }
   ],
   "source": [
    "df1.review_length.describe()"
   ]
  },
  {
   "cell_type": "code",
   "execution_count": 254,
   "metadata": {},
   "outputs": [
    {
     "name": "stderr",
     "output_type": "stream",
     "text": [
      "C:\\Users\\Hanna Kim\\Anaconda3\\lib\\site-packages\\ipykernel_launcher.py:2: SettingWithCopyWarning:\n",
      "\n",
      "\n",
      "A value is trying to be set on a copy of a slice from a DataFrame.\n",
      "Try using .loc[row_indexer,col_indexer] = value instead\n",
      "\n",
      "See the caveats in the documentation: https://pandas.pydata.org/pandas-docs/stable/user_guide/indexing.html#returning-a-view-versus-a-copy\n",
      "\n"
     ]
    },
    {
     "data": {
      "text/plain": [
       "count    4450.000000\n",
       "mean       19.444578\n",
       "std        28.390729\n",
       "min         1.000000\n",
       "25%         6.000000\n",
       "50%        11.225000\n",
       "75%        21.000000\n",
       "max       590.000000\n",
       "Name: review_length, dtype: float64"
      ]
     },
     "execution_count": 254,
     "metadata": {},
     "output_type": "execute_result"
    }
   ],
   "source": [
    "df2 = all_review[['nickname', 'review']]\n",
    "df2['review_length'] = df2['review'].apply(str).apply(lambda x :len(x))\n",
    "df2 = df2.groupby('nickname')['review_length'].mean().to_frame()\n",
    "df2.review_length.describe()"
   ]
  },
  {
   "cell_type": "code",
   "execution_count": 258,
   "metadata": {},
   "outputs": [
    {
     "data": {
      "text/plain": [
       "Text(0.5, 1.0, '평점 분산이 2 이상인 유저들의 평균 댓글 길이')"
      ]
     },
     "execution_count": 258,
     "metadata": {},
     "output_type": "execute_result"
    },
    {
     "data": {
      "image/png": "[encoded data removed]",
      "text/plain": [
       "<Figure size 1800x576 with 1 Axes>"
      ]
     },
     "metadata": {
      "needs_background": "light"
     },
     "output_type": "display_data"
    }
   ],
   "source": [
    "plt.figure(figsize = (25, 8))\n",
    "plt.hist(df1.review_length)\n",
    "plt.title(\"평점 분산이 2 이상인 유저들의 평균 댓글 길이\", fontsize = 35)"
   ]
  },
  {
   "cell_type": "code",
   "execution_count": 259,
   "metadata": {},
   "outputs": [
    {
     "data": {
      "text/plain": [
       "Text(0.5, 1.0, '모든 유저들의 평균 댓글 길이')"
      ]
     },
     "execution_count": 259,
     "metadata": {},
     "output_type": "execute_result"
    },
    {
     "data": {
      "image/png": "[encoded data removed]",
      "text/plain": [
       "<Figure size 1800x576 with 1 Axes>"
      ]
     },
     "metadata": {
      "needs_background": "light"
     },
     "output_type": "display_data"
    }
   ],
   "source": [
    "plt.figure(figsize = (25, 8))\n",
    "plt.hist(df2.review_length)\n",
    "plt.title(\"모든 유저들의 평균 댓글 길이\", fontsize = 35)"
   ]
  },
  {
   "cell_type": "markdown",
   "metadata": {},
   "source": [
    "분산이 클 수록 평균 댓글 길이가 길 줄 알았는데 그건 아님"
   ]
  },
  {
   "cell_type": "code",
   "execution_count": null,
   "metadata": {},
   "outputs": [],
   "source": []
  },
  {
   "cell_type": "markdown",
   "metadata": {},
   "source": [
    "이 이상으론 텍스트분석 필요"
   ]
  },
  {
   "cell_type": "code",
   "execution_count": null,
   "metadata": {},
   "outputs": [],
   "source": []
  },
  {
   "cell_type": "code",
   "execution_count": null,
   "metadata": {},
   "outputs": [],
   "source": []
  },
  {
   "cell_type": "markdown",
   "metadata": {},
   "source": [
    "## general EDA"
   ]
  },
  {
   "cell_type": "code",
   "execution_count": 330,
   "metadata": {},
   "outputs": [
    {
     "name": "stdout",
     "output_type": "stream",
     "text": [
      "리뷰데이터의 크기는             : (15533, 11)\n",
      "리뷰데이터에 포함된 유저의 수는 : 4450 명\n",
      "리뷰데이터에 포함된 책의 수는   : 195 권\n"
     ]
    }
   ],
   "source": [
    "print(f\"리뷰데이터의 크기는             : {all_review.shape}\")\n",
    "print(f\"리뷰데이터에 포함된 유저의 수는 : {len(all_review['nickname'].unique())} 명\")\n",
    "print(f\"리뷰데이터에 포함된 책의 수는   : {len(all_review['title'].unique())} 권\")"
   ]
  },
  {
   "cell_type": "code",
   "execution_count": 122,
   "metadata": {},
   "outputs": [],
   "source": [
    "sns.countplot?"
   ]
  },
  {
   "cell_type": "code",
   "execution_count": 127,
   "metadata": {
    "scrolled": true
   },
   "outputs": [
    {
     "name": "stderr",
     "output_type": "stream",
     "text": [
      "C:\\Users\\Hanna Kim\\Anaconda3\\lib\\site-packages\\ipykernel_launcher.py:3: UserWarning:\n",
      "\n",
      "FixedFormatter should only be used together with FixedLocator\n",
      "\n"
     ]
    },
    {
     "data": {
      "image/png": "[encoded data removed]",
      "text/plain": [
       "<Figure size 864x576 with 1 Axes>"
      ]
     },
     "metadata": {
      "needs_background": "light"
     },
     "output_type": "display_data"
    }
   ],
   "source": [
    "plt.figure(figsize = (12, 8))\n",
    "ax = sns.countplot(x=\"rating\", data=all_review, palette = 'crest')\n",
    "ax.set_yticklabels([num for num in ax.get_yticks()])\n",
    "plt.tick_params(labelsize = 15)\n",
    "plt.title(\"Count Ratings\", fontsize = 20)\n",
    "plt.xlabel(\"Ratings\", fontsize = 20)\n",
    "plt.ylabel(\"Number of Ratings\", fontsize = 20)\n",
    "plt.show()"
   ]
  },
  {
   "cell_type": "markdown",
   "metadata": {},
   "source": [
    "일단 가장 높은 n개의 값만 보여주는 함수를 만듭니다."
   ]
  },
  {
   "cell_type": "code",
   "execution_count": 336,
   "metadata": {},
   "outputs": [],
   "source": [
    "def return_best_n(statistics, n):\n",
    "    # statistics: array of size review.shape[1] containing one statistic calculated from the dataset\n",
    "    # n: number of indices to be returned\n",
    "    # returns: array of size *n* containing the indices of the best scored statistics\n",
    "    statistics = pd.DataFrame({'statistic':statistics})\n",
    "    return statistics.sort_values('statistic', ascending = False).iloc[:n]"
   ]
  },
  {
   "cell_type": "markdown",
   "metadata": {},
   "source": [
    "### Mean Rating <a class=\"anchor\" id=\"bullet2.1\"></a>\n"
   ]
  },
  {
   "cell_type": "code",
   "execution_count": 337,
   "metadata": {},
   "outputs": [
    {
     "data": {
      "text/html": [
       "<div>\n",
       "<style scoped>\n",
       "    .dataframe tbody tr th:only-of-type {\n",
       "        vertical-align: middle;\n",
       "    }\n",
       "\n",
       "    .dataframe tbody tr th {\n",
       "        vertical-align: top;\n",
       "    }\n",
       "\n",
       "    .dataframe thead th {\n",
       "        text-align: right;\n",
       "    }\n",
       "</style>\n",
       "<table border=\"1\" class=\"dataframe\">\n",
       "  <thead>\n",
       "    <tr style=\"text-align: right;\">\n",
       "      <th></th>\n",
       "      <th>statistic</th>\n",
       "    </tr>\n",
       "    <tr>\n",
       "      <th>title</th>\n",
       "      <th></th>\n",
       "    </tr>\n",
       "  </thead>\n",
       "  <tbody>\n",
       "    <tr>\n",
       "      <th>달려라, 아비</th>\n",
       "      <td>100.0</td>\n",
       "    </tr>\n",
       "    <tr>\n",
       "      <th>[와우 낭독] 지금 아니면 못 할 일 (단편)</th>\n",
       "      <td>100.0</td>\n",
       "    </tr>\n",
       "    <tr>\n",
       "      <th>이원승이 읽는 현진건의 운수 좋은 날</th>\n",
       "      <td>100.0</td>\n",
       "    </tr>\n",
       "    <tr>\n",
       "      <th>김의성이 읽는 최인호의 타인의 방</th>\n",
       "      <td>100.0</td>\n",
       "    </tr>\n",
       "    <tr>\n",
       "      <th>김용 대하역사무협 신조협려 하이라이트</th>\n",
       "      <td>100.0</td>\n",
       "    </tr>\n",
       "    <tr>\n",
       "      <th>김영민이 읽는 현경준의 탁류</th>\n",
       "      <td>100.0</td>\n",
       "    </tr>\n",
       "    <tr>\n",
       "      <th>길해연이 읽는 양귀자의 원미동 시인</th>\n",
       "      <td>100.0</td>\n",
       "    </tr>\n",
       "    <tr>\n",
       "      <th>기주봉이 읽는 하근찬의 수난이대</th>\n",
       "      <td>100.0</td>\n",
       "    </tr>\n",
       "    <tr>\n",
       "      <th>공룡 이야기 마을_고집 센 벨로키랍토르(영어)</th>\n",
       "      <td>100.0</td>\n",
       "    </tr>\n",
       "    <tr>\n",
       "      <th>강신일이 읽는 최서해의 탈출기</th>\n",
       "      <td>100.0</td>\n",
       "    </tr>\n",
       "  </tbody>\n",
       "</table>\n",
       "</div>"
      ],
      "text/plain": [
       "                           statistic\n",
       "title                               \n",
       "달려라, 아비                        100.0\n",
       "[와우 낭독] 지금 아니면 못 할 일 (단편)      100.0\n",
       "이원승이 읽는 현진건의 운수 좋은 날           100.0\n",
       "김의성이 읽는 최인호의 타인의 방             100.0\n",
       "김용 대하역사무협 신조협려 하이라이트           100.0\n",
       "김영민이 읽는 현경준의 탁류                100.0\n",
       "길해연이 읽는 양귀자의 원미동 시인            100.0\n",
       "기주봉이 읽는 하근찬의 수난이대              100.0\n",
       "공룡 이야기 마을_고집 센 벨로키랍토르(영어)      100.0\n",
       "강신일이 읽는 최서해의 탈출기               100.0"
      ]
     },
     "execution_count": 337,
     "metadata": {},
     "output_type": "execute_result"
    }
   ],
   "source": [
    "means = all_review.pivot_table(columns='title', index = 'nickname', values = 'rating').iloc[:,2:].apply(np.mean)\n",
    "return_best_n(means,10)"
   ]
  },
  {
   "cell_type": "code",
   "execution_count": null,
   "metadata": {},
   "outputs": [],
   "source": []
  },
  {
   "cell_type": "markdown",
   "metadata": {},
   "source": [
    "### Rating Count<a class=\"anchor\" id=\"bullet2.2\"></a>\n"
   ]
  },
  {
   "cell_type": "code",
   "execution_count": 223,
   "metadata": {},
   "outputs": [
    {
     "ename": "NameError",
     "evalue": "name 'return_best_n' is not defined",
     "output_type": "error",
     "traceback": [
      "\u001b[1;31m---------------------------------------------------------------------------\u001b[0m",
      "\u001b[1;31mNameError\u001b[0m                                 Traceback (most recent call last)",
      "\u001b[1;32m<ipython-input-223-06a2e1401455>\u001b[0m in \u001b[0;36m<module>\u001b[1;34m\u001b[0m\n\u001b[0;32m      2\u001b[0m \u001b[1;33m\u001b[0m\u001b[0m\n\u001b[0;32m      3\u001b[0m \u001b[1;31m# return_best_n(count,10).index 를 구하면 제목만 뽑을 수 있음\u001b[0m\u001b[1;33m\u001b[0m\u001b[1;33m\u001b[0m\u001b[1;33m\u001b[0m\u001b[0m\n\u001b[1;32m----> 4\u001b[1;33m \u001b[0mreturn_best_n\u001b[0m\u001b[1;33m(\u001b[0m\u001b[0mcount\u001b[0m\u001b[1;33m,\u001b[0m\u001b[1;36m10\u001b[0m\u001b[1;33m)\u001b[0m\u001b[1;33m\u001b[0m\u001b[1;33m\u001b[0m\u001b[0m\n\u001b[0m",
      "\u001b[1;31mNameError\u001b[0m: name 'return_best_n' is not defined"
     ]
    }
   ],
   "source": [
    "count = all_review.pivot_table(columns='title', index = 'nickname', values = 'rating').iloc[:,2:].apply(lambda col : np.sum(~np.isnan(col)))\n",
    "\n",
    "# return_best_n(count,10).index 를 구하면 제목만 뽑을 수 있음\n",
    "return_best_n(count,10)"
   ]
  },
  {
   "cell_type": "code",
   "execution_count": 222,
   "metadata": {},
   "outputs": [
    {
     "ename": "NameError",
     "evalue": "name 'count' is not defined",
     "output_type": "error",
     "traceback": [
      "\u001b[1;31m---------------------------------------------------------------------------\u001b[0m",
      "\u001b[1;31mNameError\u001b[0m                                 Traceback (most recent call last)",
      "\u001b[1;32m<ipython-input-222-26780ddf2751>\u001b[0m in \u001b[0;36m<module>\u001b[1;34m\u001b[0m\n\u001b[1;32m----> 1\u001b[1;33m \u001b[0mcount\u001b[0m\u001b[1;33m\u001b[0m\u001b[1;33m\u001b[0m\u001b[0m\n\u001b[0m",
      "\u001b[1;31mNameError\u001b[0m: name 'count' is not defined"
     ]
    }
   ],
   "source": [
    "count"
   ]
  },
  {
   "cell_type": "markdown",
   "metadata": {},
   "source": [
    "평균 평점 top10의 책은 몇개의 리뷰가 있을까?"
   ]
  },
  {
   "cell_type": "code",
   "execution_count": 339,
   "metadata": {},
   "outputs": [
    {
     "data": {
      "text/plain": [
       "title\n",
       "달려라, 아비                      1\n",
       "[와우 낭독] 지금 아니면 못 할 일 (단편)    1\n",
       "이원승이 읽는 현진건의 운수 좋은 날         2\n",
       "김의성이 읽는 최인호의 타인의 방           5\n",
       "김용 대하역사무협 신조협려 하이라이트         2\n",
       "김영민이 읽는 현경준의 탁류              1\n",
       "길해연이 읽는 양귀자의 원미동 시인          1\n",
       "기주봉이 읽는 하근찬의 수난이대            1\n",
       "공룡 이야기 마을_고집 센 벨로키랍토르(영어)    1\n",
       "강신일이 읽는 최서해의 탈출기             1\n",
       "dtype: int64"
      ]
     },
     "execution_count": 339,
     "metadata": {},
     "output_type": "execute_result"
    }
   ],
   "source": [
    "top10_avg_ratings = return_best_n(means,10).index\n",
    "count.loc[top10_avg_ratings]"
   ]
  },
  {
   "cell_type": "markdown",
   "metadata": {},
   "source": [
    "### Percentage of Good Ratings<a class=\"anchor\" id=\"bullet2.3\"></a>\n"
   ]
  },
  {
   "cell_type": "markdown",
   "metadata": {},
   "source": [
    " "
   ]
  },
  {
   "cell_type": "code",
   "execution_count": 340,
   "metadata": {},
   "outputs": [
    {
     "data": {
      "text/html": [
       "<div>\n",
       "<style scoped>\n",
       "    .dataframe tbody tr th:only-of-type {\n",
       "        vertical-align: middle;\n",
       "    }\n",
       "\n",
       "    .dataframe tbody tr th {\n",
       "        vertical-align: top;\n",
       "    }\n",
       "\n",
       "    .dataframe thead th {\n",
       "        text-align: right;\n",
       "    }\n",
       "</style>\n",
       "<table border=\"1\" class=\"dataframe\">\n",
       "  <thead>\n",
       "    <tr style=\"text-align: right;\">\n",
       "      <th></th>\n",
       "      <th>statistic</th>\n",
       "    </tr>\n",
       "    <tr>\n",
       "      <th>title</th>\n",
       "      <th></th>\n",
       "    </tr>\n",
       "  </thead>\n",
       "  <tbody>\n",
       "    <tr>\n",
       "      <th>&lt;테이크아웃 오디오북&gt; 목견</th>\n",
       "      <td>1.0</td>\n",
       "    </tr>\n",
       "    <tr>\n",
       "      <th>눈물을 자르는 눈꺼풀처럼(시 10편)</th>\n",
       "      <td>1.0</td>\n",
       "    </tr>\n",
       "    <tr>\n",
       "      <th>신경 끄기의 기술 (완독)</th>\n",
       "      <td>1.0</td>\n",
       "    </tr>\n",
       "  </tbody>\n",
       "</table>\n",
       "</div>"
      ],
      "text/plain": [
       "                      statistic\n",
       "title                          \n",
       "<테이크아웃 오디오북> 목견             1.0\n",
       "눈물을 자르는 눈꺼풀처럼(시 10편)        1.0\n",
       "신경 끄기의 기술 (완독)              1.0"
      ]
     },
     "execution_count": 340,
     "metadata": {},
     "output_type": "execute_result"
    }
   ],
   "source": [
    "good_count = all_review.pivot_table(columns='title', index = 'nickname', values = 'rating').iloc[:,2:].apply(lambda col : np.sum(col >=  80)/np.sum(~np.isnan(col)))\n",
    "return_best_n(good_count,3)"
   ]
  },
  {
   "cell_type": "code",
   "execution_count": 13,
   "metadata": {},
   "outputs": [
    {
     "name": "stdout",
     "output_type": "stream",
     "text": [
      "387\n",
      "391\n"
     ]
    }
   ],
   "source": [
    "#위 코드 이해하기\n",
    "col = pivot_df.iloc[:,2:]['나는 왠지 대박날 것만 같아!']\n",
    "print(np.sum(col >= 80))\n",
    "print(np.sum(~np.isnan(col)))"
   ]
  },
  {
   "cell_type": "markdown",
   "metadata": {},
   "source": [
    "애초에 리뷰가 한개인 경우는 리뷰 수 대비 좋은 리뷰 값이 1로 나옴<br>\n",
    "이걸 해결하기 위해서 리뷰 숫자가 충분한 경우만 확인"
   ]
  },
  {
   "cell_type": "code",
   "execution_count": 341,
   "metadata": {},
   "outputs": [
    {
     "data": {
      "text/html": [
       "<div>\n",
       "<style scoped>\n",
       "    .dataframe tbody tr th:only-of-type {\n",
       "        vertical-align: middle;\n",
       "    }\n",
       "\n",
       "    .dataframe tbody tr th {\n",
       "        vertical-align: top;\n",
       "    }\n",
       "\n",
       "    .dataframe thead th {\n",
       "        text-align: right;\n",
       "    }\n",
       "</style>\n",
       "<table border=\"1\" class=\"dataframe\">\n",
       "  <thead>\n",
       "    <tr style=\"text-align: right;\">\n",
       "      <th></th>\n",
       "      <th>rating_avg</th>\n",
       "      <th>no_of_ratings</th>\n",
       "      <th>over_80_ratio</th>\n",
       "    </tr>\n",
       "    <tr>\n",
       "      <th>title</th>\n",
       "      <th></th>\n",
       "      <th></th>\n",
       "      <th></th>\n",
       "    </tr>\n",
       "  </thead>\n",
       "  <tbody>\n",
       "    <tr>\n",
       "      <th>[김병관 낭독] 못 먹어도 go! (단편)</th>\n",
       "      <td>100.000000</td>\n",
       "      <td>1</td>\n",
       "      <td>1.000000</td>\n",
       "    </tr>\n",
       "    <tr>\n",
       "      <th>남편을 죽이는 서른 가지 방법</th>\n",
       "      <td>55.000000</td>\n",
       "      <td>2</td>\n",
       "      <td>0.500000</td>\n",
       "    </tr>\n",
       "    <tr>\n",
       "      <th>[세계환상문학선] 아서 새빌 경의 범죄</th>\n",
       "      <td>89.142857</td>\n",
       "      <td>35</td>\n",
       "      <td>0.885714</td>\n",
       "    </tr>\n",
       "  </tbody>\n",
       "</table>\n",
       "</div>"
      ],
      "text/plain": [
       "                         rating_avg  no_of_ratings  over_80_ratio\n",
       "title                                                            \n",
       "[김병관 낭독] 못 먹어도 go! (단편)  100.000000              1       1.000000\n",
       "남편을 죽이는 서른 가지 방법          55.000000              2       0.500000\n",
       "[세계환상문학선] 아서 새빌 경의 범죄     89.142857             35       0.885714"
      ]
     },
     "execution_count": 341,
     "metadata": {},
     "output_type": "execute_result"
    }
   ],
   "source": [
    "means = pd.DataFrame(means, columns = ['rating_avg'])\n",
    "count = pd.DataFrame(count, columns = ['no_of_ratings'])\n",
    "rating_pct = pd.DataFrame(good_count, columns = ['over_80_ratio'])\n",
    "\n",
    "ratings = pd.merge(left=means, right=count, how='left',left_index=True,right_index=True)\n",
    "\n",
    "ratings = ratings.merge(rating_pct, how='left',left_index=True,right_index=True)\n",
    "\n",
    "ratings.sample(3)"
   ]
  },
  {
   "cell_type": "code",
   "execution_count": 342,
   "metadata": {},
   "outputs": [
    {
     "data": {
      "text/html": [
       "<div>\n",
       "<style scoped>\n",
       "    .dataframe tbody tr th:only-of-type {\n",
       "        vertical-align: middle;\n",
       "    }\n",
       "\n",
       "    .dataframe tbody tr th {\n",
       "        vertical-align: top;\n",
       "    }\n",
       "\n",
       "    .dataframe thead th {\n",
       "        text-align: right;\n",
       "    }\n",
       "</style>\n",
       "<table border=\"1\" class=\"dataframe\">\n",
       "  <thead>\n",
       "    <tr style=\"text-align: right;\">\n",
       "      <th></th>\n",
       "      <th>rating_avg</th>\n",
       "      <th>no_of_ratings</th>\n",
       "      <th>over_80_ratio</th>\n",
       "    </tr>\n",
       "    <tr>\n",
       "      <th>title</th>\n",
       "      <th></th>\n",
       "      <th></th>\n",
       "      <th></th>\n",
       "    </tr>\n",
       "  </thead>\n",
       "  <tbody>\n",
       "    <tr>\n",
       "      <th>오만과 편견(요약본)</th>\n",
       "      <td>99.339623</td>\n",
       "      <td>106</td>\n",
       "      <td>1.000000</td>\n",
       "    </tr>\n",
       "    <tr>\n",
       "      <th>열하일기 첫걸음</th>\n",
       "      <td>99.545455</td>\n",
       "      <td>352</td>\n",
       "      <td>0.997159</td>\n",
       "    </tr>\n",
       "    <tr>\n",
       "      <th>세계는 왜 싸우는가</th>\n",
       "      <td>99.171975</td>\n",
       "      <td>314</td>\n",
       "      <td>0.996815</td>\n",
       "    </tr>\n",
       "  </tbody>\n",
       "</table>\n",
       "</div>"
      ],
      "text/plain": [
       "             rating_avg  no_of_ratings  over_80_ratio\n",
       "title                                                \n",
       "오만과 편견(요약본)   99.339623            106       1.000000\n",
       "열하일기 첫걸음      99.545455            352       0.997159\n",
       "세계는 왜 싸우는가    99.171975            314       0.996815"
      ]
     },
     "execution_count": 342,
     "metadata": {},
     "output_type": "execute_result"
    }
   ],
   "source": [
    "ratings.query('no_of_ratings > 100').sort_values(by='over_80_ratio', ascending=False).head(3)"
   ]
  },
  {
   "cell_type": "code",
   "execution_count": 343,
   "metadata": {},
   "outputs": [
    {
     "data": {
      "text/plain": [
       "<AxesSubplot:>"
      ]
     },
     "execution_count": 343,
     "metadata": {},
     "output_type": "execute_result"
    },
    {
     "data": {
      "image/png": "[encoded data removed]",
      "text/plain": [
       "<Figure size 1440x288 with 1 Axes>"
      ]
     },
     "metadata": {
      "needs_background": "light"
     },
     "output_type": "display_data"
    }
   ],
   "source": [
    "plt.figure(figsize = (20,4))\n",
    "ratings['no_of_ratings'].hist(bins=100,color='c')"
   ]
  },
  {
   "cell_type": "code",
   "execution_count": 344,
   "metadata": {},
   "outputs": [
    {
     "data": {
      "text/plain": [
       "<AxesSubplot:>"
      ]
     },
     "execution_count": 344,
     "metadata": {},
     "output_type": "execute_result"
    },
    {
     "data": {
      "image/png": "[encoded data removed]",
      "text/plain": [
       "<Figure size 1440x288 with 1 Axes>"
      ]
     },
     "metadata": {
      "needs_background": "light"
     },
     "output_type": "display_data"
    }
   ],
   "source": [
    "plt.figure(figsize = (20,4))\n",
    "ratings['rating_avg'].hist(bins=20,color='c')"
   ]
  },
  {
   "cell_type": "code",
   "execution_count": 345,
   "metadata": {},
   "outputs": [
    {
     "data": {
      "text/plain": [
       "<seaborn.axisgrid.JointGrid at 0x2be3c260e08>"
      ]
     },
     "execution_count": 345,
     "metadata": {},
     "output_type": "execute_result"
    },
    {
     "data": {
      "image/png": "[encoded data removed]",
      "text/plain": [
       "<Figure size 432x432 with 3 Axes>"
      ]
     },
     "metadata": {
      "needs_background": "light"
     },
     "output_type": "display_data"
    }
   ],
   "source": [
    "sns.jointplot(x='rating_avg', y='no_of_ratings', data= ratings, alpha = 0.5, color='c')"
   ]
  },
  {
   "cell_type": "markdown",
   "metadata": {},
   "source": [
    "<div class=\"alert alert-warning\">\n",
    "분석에서 아래와 같이 rating이 몇개 이상인 책만 뽑아서 봐도 되는것...?\n",
    "</div>"
   ]
  },
  {
   "cell_type": "code",
   "execution_count": 346,
   "metadata": {},
   "outputs": [
    {
     "data": {
      "text/plain": [
       "count     193.000000\n",
       "mean       79.528497\n",
       "std       157.730190\n",
       "min         1.000000\n",
       "25%         1.000000\n",
       "50%         4.000000\n",
       "75%        86.000000\n",
       "max      1445.000000\n",
       "Name: no_of_ratings, dtype: float64"
      ]
     },
     "execution_count": 346,
     "metadata": {},
     "output_type": "execute_result"
    }
   ],
   "source": [
    "ratings['no_of_ratings'].describe()"
   ]
  },
  {
   "cell_type": "markdown",
   "metadata": {},
   "source": [
    "하위 50%의 분포를 살펴보면: 1~4정도임"
   ]
  },
  {
   "cell_type": "code",
   "execution_count": 347,
   "metadata": {},
   "outputs": [
    {
     "data": {
      "text/plain": [
       "0.00    1.0\n",
       "0.05    1.0\n",
       "0.10    1.0\n",
       "0.15    1.0\n",
       "0.20    1.0\n",
       "0.25    1.0\n",
       "0.30    1.0\n",
       "0.35    2.0\n",
       "0.40    2.0\n",
       "0.45    2.0\n",
       "Name: no_of_ratings, dtype: float64"
      ]
     },
     "execution_count": 347,
     "metadata": {},
     "output_type": "execute_result"
    }
   ],
   "source": [
    "ratings['no_of_ratings'].quantile(np.arange(0, 0.5, 0.05))"
   ]
  },
  {
   "cell_type": "markdown",
   "metadata": {},
   "source": [
    "그렇다면 평가를 n개 이하 했던 inactive user 에 대해서도?"
   ]
  },
  {
   "cell_type": "code",
   "execution_count": 348,
   "metadata": {},
   "outputs": [
    {
     "data": {
      "text/html": [
       "<div>\n",
       "<style scoped>\n",
       "    .dataframe tbody tr th:only-of-type {\n",
       "        vertical-align: middle;\n",
       "    }\n",
       "\n",
       "    .dataframe tbody tr th {\n",
       "        vertical-align: top;\n",
       "    }\n",
       "\n",
       "    .dataframe thead th {\n",
       "        text-align: right;\n",
       "    }\n",
       "</style>\n",
       "<table border=\"1\" class=\"dataframe\">\n",
       "  <thead>\n",
       "    <tr style=\"text-align: right;\">\n",
       "      <th></th>\n",
       "      <th>statistic</th>\n",
       "    </tr>\n",
       "    <tr>\n",
       "      <th>nickname</th>\n",
       "      <th></th>\n",
       "    </tr>\n",
       "  </thead>\n",
       "  <tbody>\n",
       "    <tr>\n",
       "      <th>마임</th>\n",
       "      <td>65</td>\n",
       "    </tr>\n",
       "    <tr>\n",
       "      <th>대룡리말바위</th>\n",
       "      <td>54</td>\n",
       "    </tr>\n",
       "    <tr>\n",
       "      <th>고트프리트</th>\n",
       "      <td>52</td>\n",
       "    </tr>\n",
       "    <tr>\n",
       "      <th>swagger</th>\n",
       "      <td>51</td>\n",
       "    </tr>\n",
       "    <tr>\n",
       "      <th>kwonjkim</th>\n",
       "      <td>47</td>\n",
       "    </tr>\n",
       "    <tr>\n",
       "      <th>코끼리311</th>\n",
       "      <td>46</td>\n",
       "    </tr>\n",
       "    <tr>\n",
       "      <th>initialj</th>\n",
       "      <td>46</td>\n",
       "    </tr>\n",
       "    <tr>\n",
       "      <th>미다진구</th>\n",
       "      <td>46</td>\n",
       "    </tr>\n",
       "    <tr>\n",
       "      <th>던힐발란스</th>\n",
       "      <td>45</td>\n",
       "    </tr>\n",
       "    <tr>\n",
       "      <th>쌀까마</th>\n",
       "      <td>45</td>\n",
       "    </tr>\n",
       "  </tbody>\n",
       "</table>\n",
       "</div>"
      ],
      "text/plain": [
       "          statistic\n",
       "nickname           \n",
       "마임               65\n",
       "대룡리말바위           54\n",
       "고트프리트            52\n",
       "swagger          51\n",
       "kwonjkim         47\n",
       "코끼리311           46\n",
       "initialj         46\n",
       "미다진구             46\n",
       "던힐발란스            45\n",
       "쌀까마              45"
      ]
     },
     "execution_count": 348,
     "metadata": {},
     "output_type": "execute_result"
    }
   ],
   "source": [
    "count_user_rating = all_review.pivot_table(index='title', columns = 'nickname', values = 'rating').iloc[:,2:].apply(lambda col : np.sum(~np.isnan(col)))\n",
    "\n",
    "# return_best_n(count,10).index 를 구하면 제목만 뽑을 수 있음\n",
    "return_best_n(count_user_rating,10)"
   ]
  },
  {
   "cell_type": "code",
   "execution_count": 354,
   "metadata": {},
   "outputs": [],
   "source": [
    "count_user_rating = pd.DataFrame(count_user_rating)\n",
    "count_user_rating.columns = ['user_rating_cnt']"
   ]
  },
  {
   "cell_type": "code",
   "execution_count": 357,
   "metadata": {},
   "outputs": [
    {
     "data": {
      "text/plain": [
       "count    4448.000000\n",
       "mean        3.490333\n",
       "std         6.102040\n",
       "min         1.000000\n",
       "25%         1.000000\n",
       "50%         1.000000\n",
       "75%         3.000000\n",
       "max        65.000000\n",
       "Name: user_rating_cnt, dtype: float64"
      ]
     },
     "execution_count": 357,
     "metadata": {},
     "output_type": "execute_result"
    }
   ],
   "source": [
    "count_user_rating['user_rating_cnt'].describe()"
   ]
  },
  {
   "cell_type": "code",
   "execution_count": 356,
   "metadata": {},
   "outputs": [
    {
     "data": {
      "text/plain": [
       "0.00    1.0\n",
       "0.05    1.0\n",
       "0.10    1.0\n",
       "0.15    1.0\n",
       "0.20    1.0\n",
       "0.25    1.0\n",
       "0.30    1.0\n",
       "0.35    1.0\n",
       "0.40    1.0\n",
       "0.45    1.0\n",
       "Name: user_rating_cnt, dtype: float64"
      ]
     },
     "execution_count": 356,
     "metadata": {},
     "output_type": "execute_result"
    }
   ],
   "source": [
    "count_user_rating['user_rating_cnt'].quantile(np.arange(0, 0.5, 0.05))"
   ]
  },
  {
   "cell_type": "code",
   "execution_count": 358,
   "metadata": {},
   "outputs": [
    {
     "data": {
      "text/plain": [
       "(array([3.934e+03, 2.360e+02, 1.460e+02, 5.700e+01, 2.700e+01, 2.100e+01,\n",
       "        1.900e+01, 6.000e+00, 1.000e+00, 1.000e+00]),\n",
       " array([ 1. ,  7.4, 13.8, 20.2, 26.6, 33. , 39.4, 45.8, 52.2, 58.6, 65. ]),\n",
       " <BarContainer object of 10 artists>)"
      ]
     },
     "execution_count": 358,
     "metadata": {},
     "output_type": "execute_result"
    },
    {
     "data": {
      "image/png": "[encoded data removed]",
      "text/plain": [
       "<Figure size 432x288 with 1 Axes>"
      ]
     },
     "metadata": {
      "needs_background": "light"
     },
     "output_type": "display_data"
    }
   ],
   "source": [
    "plt.hist(count_user_rating)"
   ]
  },
  {
   "cell_type": "code",
   "execution_count": 361,
   "metadata": {},
   "outputs": [
    {
     "data": {
      "text/plain": [
       "{'whiskers': [<matplotlib.lines.Line2D at 0x2be3a174948>,\n",
       "  <matplotlib.lines.Line2D at 0x2be3cc69f08>],\n",
       " 'caps': [<matplotlib.lines.Line2D at 0x2be3cc69e88>,\n",
       "  <matplotlib.lines.Line2D at 0x2be3cc79848>],\n",
       " 'boxes': [<matplotlib.lines.Line2D at 0x2be3cc695c8>],\n",
       " 'medians': [<matplotlib.lines.Line2D at 0x2be3cc79d08>],\n",
       " 'fliers': [<matplotlib.lines.Line2D at 0x2be3cc79cc8>],\n",
       " 'means': []}"
      ]
     },
     "execution_count": 361,
     "metadata": {},
     "output_type": "execute_result"
    },
    {
     "data": {
      "image/png": "[encoded data removed]",
      "text/plain": [
       "<Figure size 432x288 with 1 Axes>"
      ]
     },
     "metadata": {
      "needs_background": "light"
     },
     "output_type": "display_data"
    }
   ],
   "source": [
    "plt.boxplot(data = count_user_rating, x='user_rating_cnt')"
   ]
  },
  {
   "cell_type": "code",
   "execution_count": 21,
   "metadata": {},
   "outputs": [
    {
     "data": {
      "text/html": [
       "<div>\n",
       "<style scoped>\n",
       "    .dataframe tbody tr th:only-of-type {\n",
       "        vertical-align: middle;\n",
       "    }\n",
       "\n",
       "    .dataframe tbody tr th {\n",
       "        vertical-align: top;\n",
       "    }\n",
       "\n",
       "    .dataframe thead th {\n",
       "        text-align: right;\n",
       "    }\n",
       "</style>\n",
       "<table border=\"1\" class=\"dataframe\">\n",
       "  <thead>\n",
       "    <tr style=\"text-align: right;\">\n",
       "      <th></th>\n",
       "      <th>rating_avg</th>\n",
       "      <th>no_of_ratings</th>\n",
       "      <th>over_80_ratio</th>\n",
       "    </tr>\n",
       "    <tr>\n",
       "      <th>title</th>\n",
       "      <th></th>\n",
       "      <th></th>\n",
       "      <th></th>\n",
       "    </tr>\n",
       "  </thead>\n",
       "  <tbody>\n",
       "    <tr>\n",
       "      <th>[강연형] 제국대학의 조센징</th>\n",
       "      <td>95.441767</td>\n",
       "      <td>498</td>\n",
       "      <td>0.945783</td>\n",
       "    </tr>\n",
       "    <tr>\n",
       "      <th>[공포괴담집] 무조건 모르는 척하세요</th>\n",
       "      <td>93.908629</td>\n",
       "      <td>197</td>\n",
       "      <td>0.949239</td>\n",
       "    </tr>\n",
       "    <tr>\n",
       "      <th>[공포괴담집] 저승에서 돌아온 남자</th>\n",
       "      <td>94.405286</td>\n",
       "      <td>227</td>\n",
       "      <td>0.964758</td>\n",
       "    </tr>\n",
       "  </tbody>\n",
       "</table>\n",
       "</div>"
      ],
      "text/plain": [
       "                      rating_avg  no_of_ratings  over_80_ratio\n",
       "title                                                         \n",
       "[강연형] 제국대학의 조센징        95.441767            498       0.945783\n",
       "[공포괴담집] 무조건 모르는 척하세요   93.908629            197       0.949239\n",
       "[공포괴담집] 저승에서 돌아온 남자    94.405286            227       0.964758"
      ]
     },
     "execution_count": 21,
     "metadata": {},
     "output_type": "execute_result"
    }
   ],
   "source": [
    "ratings_min_6 = ratings.query('no_of_ratings >= 6')\n",
    "ratings_min_6.head(3)"
   ]
  },
  {
   "cell_type": "markdown",
   "metadata": {},
   "source": [
    "<div class=\"alert alert-warning\">\n",
    "근본적으로 우리가 책이 200권 정도밖에 없는데, <br>\n",
    "리뷰 5개 이상인 책으로 바꾸면 그게 반토막 나게됨<br>\n",
    "그렇게 데이터 수를 희생하면서 봐도 되는 것인지..?<br>\n",
    "</div>"
   ]
  },
  {
   "cell_type": "code",
   "execution_count": null,
   "metadata": {},
   "outputs": [],
   "source": []
  },
  {
   "cell_type": "markdown",
   "metadata": {},
   "source": [
    "# Prediction With Surprise<a class=\"anchor\" id=\"bullet3\"></a>"
   ]
  },
  {
   "cell_type": "markdown",
   "metadata": {},
   "source": [
    "## 분석 준비 및 연습"
   ]
  },
  {
   "cell_type": "code",
   "execution_count": 270,
   "metadata": {},
   "outputs": [],
   "source": [
    "from surprise import Reader\n",
    "from surprise import Dataset\n",
    "from surprise import accuracy\n",
    "from surprise.model_selection import KFold\n",
    "from surprise import SVD\n",
    "from surprise import NMF\n",
    "from surprise import KNNBasic\n",
    "from surprise import KNNBaseline\n",
    "from surprise.model_selection import cross_validate"
   ]
  },
  {
   "cell_type": "code",
   "execution_count": 447,
   "metadata": {},
   "outputs": [
    {
     "data": {
      "text/html": [
       "<div>\n",
       "<style scoped>\n",
       "    .dataframe tbody tr th:only-of-type {\n",
       "        vertical-align: middle;\n",
       "    }\n",
       "\n",
       "    .dataframe tbody tr th {\n",
       "        vertical-align: top;\n",
       "    }\n",
       "\n",
       "    .dataframe thead th {\n",
       "        text-align: right;\n",
       "    }\n",
       "</style>\n",
       "<table border=\"1\" class=\"dataframe\">\n",
       "  <thead>\n",
       "    <tr style=\"text-align: right;\">\n",
       "      <th></th>\n",
       "      <th>nickname</th>\n",
       "      <th>rating</th>\n",
       "      <th>title</th>\n",
       "      <th>voice</th>\n",
       "      <th>author</th>\n",
       "      <th>review</th>\n",
       "      <th>created</th>\n",
       "      <th>publish</th>\n",
       "      <th>genre</th>\n",
       "      <th>read_by</th>\n",
       "    </tr>\n",
       "  </thead>\n",
       "  <tbody>\n",
       "    <tr>\n",
       "      <th>8793</th>\n",
       "      <td>Rosaparks</td>\n",
       "      <td>10.0</td>\n",
       "      <td>최민식이 읽는 이범선의 오발탄</td>\n",
       "      <td>최민식</td>\n",
       "      <td>이범선</td>\n",
       "      <td>좋네요</td>\n",
       "      <td>2018.12.31</td>\n",
       "      <td>커뮤니케이션북스</td>\n",
       "      <td>오디오북스</td>\n",
       "      <td>celeb</td>\n",
       "    </tr>\n",
       "  </tbody>\n",
       "</table>\n",
       "</div>"
      ],
      "text/plain": [
       "       nickname  rating             title voice author review     created  \\\n",
       "8793  Rosaparks    10.0  최민식이 읽는 이범선의 오발탄   최민식    이범선    좋네요  2018.12.31   \n",
       "\n",
       "       publish  genre read_by  \n",
       "8793  커뮤니케이션북스  오디오북스   celeb  "
      ]
     },
     "execution_count": 447,
     "metadata": {},
     "output_type": "execute_result"
    }
   ],
   "source": [
    "all_review.sample()"
   ]
  },
  {
   "cell_type": "code",
   "execution_count": 448,
   "metadata": {},
   "outputs": [
    {
     "data": {
      "text/plain": [
       "array([10.,  6.,  8.,  9.,  7.,  2.,  3.,  1.,  4.,  5.])"
      ]
     },
     "execution_count": 448,
     "metadata": {},
     "output_type": "execute_result"
    }
   ],
   "source": [
    "all_review['rating'].unique()"
   ]
  },
  {
   "cell_type": "code",
   "execution_count": 181,
   "metadata": {},
   "outputs": [],
   "source": [
    "reader = Reader(rating_scale=(1, 10))\n",
    "data = Dataset.load_from_df(all_review[['nickname', 'title', 'new_rating']], reader)"
   ]
  },
  {
   "cell_type": "code",
   "execution_count": 450,
   "metadata": {},
   "outputs": [],
   "source": [
    "# for algo in [SVD(), NMF(), KNNBasic(), KNNBaseline()]:\n",
    "#     cross_validate(algo, data, measures=['RMSE', 'MAE'], cv=5, verbose=True)"
   ]
  },
  {
   "cell_type": "markdown",
   "metadata": {},
   "source": [
    "<div class=\"alert alert-warning\">\n",
    "아래는 cosine similarity로 kNN 구하기<br>\n",
    "안해도됨\n",
    "</div>"
   ]
  },
  {
   "cell_type": "code",
   "execution_count": null,
   "metadata": {},
   "outputs": [],
   "source": [
    "# sim_options = {'name': 'cosine',\n",
    "#                'user_based': False  # compute  similarities between items\n",
    "#                }\n",
    "# algo = KNNBasic(sim_options=sim_options)\n",
    "# cross_validate(algo, data, measures=['RMSE', 'MAE'], cv=5, verbose=True)"
   ]
  },
  {
   "cell_type": "code",
   "execution_count": 183,
   "metadata": {},
   "outputs": [
    {
     "name": "stdout",
     "output_type": "stream",
     "text": [
      "Computing the msd similarity matrix...\n",
      "Done computing similarity matrix.\n",
      "Computing the msd similarity matrix...\n",
      "Done computing similarity matrix.\n",
      "Computing the msd similarity matrix...\n",
      "Done computing similarity matrix.\n"
     ]
    },
    {
     "data": {
      "text/html": [
       "<div>\n",
       "<style scoped>\n",
       "    .dataframe tbody tr th:only-of-type {\n",
       "        vertical-align: middle;\n",
       "    }\n",
       "\n",
       "    .dataframe tbody tr th {\n",
       "        vertical-align: top;\n",
       "    }\n",
       "\n",
       "    .dataframe thead th {\n",
       "        text-align: right;\n",
       "    }\n",
       "</style>\n",
       "<table border=\"1\" class=\"dataframe\">\n",
       "  <thead>\n",
       "    <tr style=\"text-align: right;\">\n",
       "      <th></th>\n",
       "      <th>test_rmse</th>\n",
       "      <th>test_mae</th>\n",
       "      <th>fit_time</th>\n",
       "      <th>test_time</th>\n",
       "    </tr>\n",
       "    <tr>\n",
       "      <th>Algorithm</th>\n",
       "      <th></th>\n",
       "      <th></th>\n",
       "      <th></th>\n",
       "      <th></th>\n",
       "    </tr>\n",
       "  </thead>\n",
       "  <tbody>\n",
       "    <tr>\n",
       "      <th>SVD</th>\n",
       "      <td>1.047612</td>\n",
       "      <td>0.605319</td>\n",
       "      <td>1.642606</td>\n",
       "      <td>0.143283</td>\n",
       "    </tr>\n",
       "    <tr>\n",
       "      <th>KNNBasic</th>\n",
       "      <td>1.090485</td>\n",
       "      <td>0.560712</td>\n",
       "      <td>0.990017</td>\n",
       "      <td>2.791874</td>\n",
       "    </tr>\n",
       "    <tr>\n",
       "      <th>NMF</th>\n",
       "      <td>3.120457</td>\n",
       "      <td>2.825224</td>\n",
       "      <td>2.614339</td>\n",
       "      <td>0.071487</td>\n",
       "    </tr>\n",
       "  </tbody>\n",
       "</table>\n",
       "</div>"
      ],
      "text/plain": [
       "           test_rmse  test_mae  fit_time  test_time\n",
       "Algorithm                                          \n",
       "SVD         1.047612  0.605319  1.642606   0.143283\n",
       "KNNBasic    1.090485  0.560712  0.990017   2.791874\n",
       "NMF         3.120457  2.825224  2.614339   0.071487"
      ]
     },
     "execution_count": 183,
     "metadata": {},
     "output_type": "execute_result"
    }
   ],
   "source": []
  },
  {
   "cell_type": "markdown",
   "metadata": {},
   "source": [
    "<div class=\"alert alert-warning\">\n",
    "아래는 우리만의 알고리즘 만들떄 필요한거<br>\n",
    "안해도됨\n",
    "</div>"
   ]
  },
  {
   "cell_type": "code",
   "execution_count": 393,
   "metadata": {},
   "outputs": [],
   "source": [
    "# from __future__ import (absolute_import, division, print_function,\n",
    "#                         unicode_literals)\n",
    "# import numpy as np\n",
    "# from six import iteritems\n",
    "# import heapq\n",
    "\n",
    "# from surprise.prediction_algorithms.predictions import PredictionImpossible\n",
    "# from surprise.prediction_algorithms.algo_base import AlgoBase"
   ]
  },
  {
   "cell_type": "code",
   "execution_count": null,
   "metadata": {},
   "outputs": [],
   "source": []
  },
  {
   "cell_type": "code",
   "execution_count": 316,
   "metadata": {},
   "outputs": [
    {
     "name": "stdout",
     "output_type": "stream",
     "text": [
      "RMSE: 76.8622\n",
      "RMSE: 76.8241\n",
      "RMSE: 76.8932\n"
     ]
    }
   ],
   "source": [
    "# kf = KFold(n_splits=3)\n",
    "\n",
    "# algo = NMF() #이걸 SVD, KNNBasic으로 바꿔가며 결과 비교\n",
    "\n",
    "# for trainset, testset in kf.split(data):\n",
    "#     # train and test algorithm.\n",
    "#     algo.fit(trainset)\n",
    "#     predictions = algo.test(testset)\n",
    "\n",
    "#     # Compute and print Root Mean Squared Error\n",
    "#     accuracy.rmse(predictions, verbose=True)"
   ]
  },
  {
   "cell_type": "code",
   "execution_count": 395,
   "metadata": {},
   "outputs": [],
   "source": [
    "def get_Iu(uid):\n",
    "    \"\"\"Return the number of items rated by given user\n",
    "    \n",
    "    Args:\n",
    "        uid: The raw id of the user.\n",
    "    Returns:\n",
    "        The number of items rated by the user.\n",
    "    \"\"\"\n",
    "    \n",
    "    try:\n",
    "        return len(trainset.ur[trainset.to_inner_uid(uid)])\n",
    "    except ValueError:  # user was not part of the trainset\n",
    "        return 0\n",
    "    \n",
    "def get_Ui(iid):\n",
    "    \"\"\"Return the number of users that have rated given item\n",
    "    \n",
    "    Args:\n",
    "        iid: The raw id of the item.\n",
    "    Returns:\n",
    "        The number of users that have rated the item.\n",
    "    \"\"\"\n",
    "    \n",
    "    try:\n",
    "        return len(trainset.ir[trainset.to_inner_iid(iid)])\n",
    "    except ValueError:  # item was not part of the trainset\n",
    "        return 0\n",
    "\n",
    "df = pd.DataFrame(predictions, columns=['uid', 'iid', 'rui', 'est', 'details'])    \n",
    "df['Iu'] = df.uid.apply(get_Iu)\n",
    "df['Ui'] = df.iid.apply(get_Ui)\n",
    "df['err'] = abs(df.est - df.rui)"
   ]
  },
  {
   "cell_type": "markdown",
   "metadata": {},
   "source": [
    "## 분석_POD"
   ]
  },
  {
   "cell_type": "code",
   "execution_count": 451,
   "metadata": {},
   "outputs": [
    {
     "name": "stdout",
     "output_type": "stream",
     "text": [
      "Computing the msd similarity matrix...\n",
      "Done computing similarity matrix.\n",
      "Computing the msd similarity matrix...\n",
      "Done computing similarity matrix.\n",
      "Computing the msd similarity matrix...\n",
      "Done computing similarity matrix.\n"
     ]
    },
    {
     "data": {
      "text/html": [
       "<div>\n",
       "<style scoped>\n",
       "    .dataframe tbody tr th:only-of-type {\n",
       "        vertical-align: middle;\n",
       "    }\n",
       "\n",
       "    .dataframe tbody tr th {\n",
       "        vertical-align: top;\n",
       "    }\n",
       "\n",
       "    .dataframe thead th {\n",
       "        text-align: right;\n",
       "    }\n",
       "</style>\n",
       "<table border=\"1\" class=\"dataframe\">\n",
       "  <thead>\n",
       "    <tr style=\"text-align: right;\">\n",
       "      <th></th>\n",
       "      <th>test_rmse</th>\n",
       "      <th>test_mae</th>\n",
       "      <th>fit_time</th>\n",
       "      <th>test_time</th>\n",
       "    </tr>\n",
       "    <tr>\n",
       "      <th>Algorithm</th>\n",
       "      <th></th>\n",
       "      <th></th>\n",
       "      <th></th>\n",
       "      <th></th>\n",
       "    </tr>\n",
       "  </thead>\n",
       "  <tbody>\n",
       "    <tr>\n",
       "      <th>SVD</th>\n",
       "      <td>1.044225</td>\n",
       "      <td>0.605218</td>\n",
       "      <td>1.754307</td>\n",
       "      <td>0.096075</td>\n",
       "    </tr>\n",
       "    <tr>\n",
       "      <th>KNNBasic</th>\n",
       "      <td>1.094358</td>\n",
       "      <td>0.559481</td>\n",
       "      <td>1.157902</td>\n",
       "      <td>3.234350</td>\n",
       "    </tr>\n",
       "    <tr>\n",
       "      <th>NMF</th>\n",
       "      <td>3.030852</td>\n",
       "      <td>2.740114</td>\n",
       "      <td>3.140597</td>\n",
       "      <td>0.085107</td>\n",
       "    </tr>\n",
       "  </tbody>\n",
       "</table>\n",
       "</div>"
      ],
      "text/plain": [
       "           test_rmse  test_mae  fit_time  test_time\n",
       "Algorithm                                          \n",
       "SVD         1.044225  0.605218  1.754307   0.096075\n",
       "KNNBasic    1.094358  0.559481  1.157902   3.234350\n",
       "NMF         3.030852  2.740114  3.140597   0.085107"
      ]
     },
     "execution_count": 451,
     "metadata": {},
     "output_type": "execute_result"
    }
   ],
   "source": [
    "reader = Reader(rating_scale=(1, 10))\n",
    "data = Dataset.load_from_df(all_review[['nickname', 'title', 'rating']], reader)\n",
    "\n",
    "calc = []\n",
    "# Iterate over all algorithms\n",
    "for algorithm in [SVD(), NMF(), KNNBasic()]:\n",
    "    # Perform cross validation\n",
    "    results = cross_validate(algorithm, data, measures=['RMSE', 'MAE'], cv=3, verbose=False)\n",
    "    \n",
    "    # Get results & append algorithm name\n",
    "    tmp = pd.DataFrame.from_dict(results).mean(axis=0)\n",
    "    tmp = tmp.append(pd.Series([str(algorithm).split(' ')[0].split('.')[-1]], index=['Algorithm']))\n",
    "    calc.append(tmp)\n",
    "    \n",
    "pod_SVD = pd.DataFrame(calc).set_index('Algorithm').sort_values('test_rmse') \n",
    "pod_SVD"
   ]
  },
  {
   "cell_type": "markdown",
   "metadata": {},
   "source": [
    "## 분석_MDL"
   ]
  },
  {
   "cell_type": "code",
   "execution_count": 461,
   "metadata": {},
   "outputs": [],
   "source": [
    "mydramalist = pd.read_csv('C:/Users/Hanna Kim/Desktop/drama_recommendation/reviews_to_top_40.csv', index_col = 0)"
   ]
  },
  {
   "cell_type": "code",
   "execution_count": 462,
   "metadata": {},
   "outputs": [
    {
     "data": {
      "text/html": [
       "<div>\n",
       "<style scoped>\n",
       "    .dataframe tbody tr th:only-of-type {\n",
       "        vertical-align: middle;\n",
       "    }\n",
       "\n",
       "    .dataframe tbody tr th {\n",
       "        vertical-align: top;\n",
       "    }\n",
       "\n",
       "    .dataframe thead th {\n",
       "        text-align: right;\n",
       "    }\n",
       "</style>\n",
       "<table border=\"1\" class=\"dataframe\">\n",
       "  <thead>\n",
       "    <tr style=\"text-align: right;\">\n",
       "      <th></th>\n",
       "      <th>title</th>\n",
       "      <th>reviewer</th>\n",
       "      <th>overall</th>\n",
       "      <th>story</th>\n",
       "      <th>acting</th>\n",
       "      <th>music</th>\n",
       "      <th>rewatch</th>\n",
       "    </tr>\n",
       "  </thead>\n",
       "  <tbody>\n",
       "    <tr>\n",
       "      <th>26498</th>\n",
       "      <td>Familyhood</td>\n",
       "      <td>NoobieFan</td>\n",
       "      <td>8.0</td>\n",
       "      <td>8.0</td>\n",
       "      <td>7.5</td>\n",
       "      <td>8.0</td>\n",
       "      <td>8.0</td>\n",
       "    </tr>\n",
       "  </tbody>\n",
       "</table>\n",
       "</div>"
      ],
      "text/plain": [
       "            title   reviewer  overall  story  acting  music  rewatch\n",
       "26498  Familyhood  NoobieFan      8.0    8.0     7.5    8.0      8.0"
      ]
     },
     "execution_count": 462,
     "metadata": {},
     "output_type": "execute_result"
    }
   ],
   "source": [
    "mydramalist.sample()"
   ]
  },
  {
   "cell_type": "code",
   "execution_count": null,
   "metadata": {},
   "outputs": [],
   "source": []
  },
  {
   "cell_type": "code",
   "execution_count": 463,
   "metadata": {},
   "outputs": [
    {
     "name": "stdout",
     "output_type": "stream",
     "text": [
      "Computing the msd similarity matrix...\n",
      "Done computing similarity matrix.\n",
      "Computing the msd similarity matrix...\n",
      "Done computing similarity matrix.\n",
      "Computing the msd similarity matrix...\n",
      "Done computing similarity matrix.\n"
     ]
    },
    {
     "data": {
      "text/html": [
       "<div>\n",
       "<style scoped>\n",
       "    .dataframe tbody tr th:only-of-type {\n",
       "        vertical-align: middle;\n",
       "    }\n",
       "\n",
       "    .dataframe tbody tr th {\n",
       "        vertical-align: top;\n",
       "    }\n",
       "\n",
       "    .dataframe thead th {\n",
       "        text-align: right;\n",
       "    }\n",
       "</style>\n",
       "<table border=\"1\" class=\"dataframe\">\n",
       "  <thead>\n",
       "    <tr style=\"text-align: right;\">\n",
       "      <th></th>\n",
       "      <th>test_rmse</th>\n",
       "      <th>test_mae</th>\n",
       "      <th>fit_time</th>\n",
       "      <th>test_time</th>\n",
       "    </tr>\n",
       "    <tr>\n",
       "      <th>Algorithm</th>\n",
       "      <th></th>\n",
       "      <th></th>\n",
       "      <th></th>\n",
       "      <th></th>\n",
       "    </tr>\n",
       "  </thead>\n",
       "  <tbody>\n",
       "    <tr>\n",
       "      <th>SVD</th>\n",
       "      <td>1.445626</td>\n",
       "      <td>1.041427</td>\n",
       "      <td>3.491996</td>\n",
       "      <td>0.351724</td>\n",
       "    </tr>\n",
       "    <tr>\n",
       "      <th>KNNBasic</th>\n",
       "      <td>1.643193</td>\n",
       "      <td>1.139554</td>\n",
       "      <td>0.422867</td>\n",
       "      <td>2.018601</td>\n",
       "    </tr>\n",
       "    <tr>\n",
       "      <th>NMF</th>\n",
       "      <td>2.572611</td>\n",
       "      <td>2.257866</td>\n",
       "      <td>5.302153</td>\n",
       "      <td>0.272935</td>\n",
       "    </tr>\n",
       "  </tbody>\n",
       "</table>\n",
       "</div>"
      ],
      "text/plain": [
       "           test_rmse  test_mae  fit_time  test_time\n",
       "Algorithm                                          \n",
       "SVD         1.445626  1.041427  3.491996   0.351724\n",
       "KNNBasic    1.643193  1.139554  0.422867   2.018601\n",
       "NMF         2.572611  2.257866  5.302153   0.272935"
      ]
     },
     "execution_count": 463,
     "metadata": {},
     "output_type": "execute_result"
    }
   ],
   "source": [
    "reader = Reader(rating_scale=(1, 10))\n",
    "data = Dataset.load_from_df(mydramalist[['reviewer', 'title', 'overall']], reader)\n",
    "\n",
    "calc = []\n",
    "# Iterate over all algorithms\n",
    "for algorithm in [SVD(), NMF(), KNNBasic()]:\n",
    "    # Perform cross validation\n",
    "    results = cross_validate(algorithm, data, measures=['RMSE', 'MAE'], cv=3, verbose=False)\n",
    "    \n",
    "    # Get results & append algorithm name\n",
    "    tmp = pd.DataFrame.from_dict(results).mean(axis=0)\n",
    "    tmp = tmp.append(pd.Series([str(algorithm).split(' ')[0].split('.')[-1]], index=['Algorithm']))\n",
    "    calc.append(tmp)\n",
    "    \n",
    "mdl_overall = pd.DataFrame(calc).set_index('Algorithm').sort_values('test_rmse') \n",
    "mdl_overall"
   ]
  },
  {
   "cell_type": "code",
   "execution_count": 464,
   "metadata": {},
   "outputs": [
    {
     "name": "stdout",
     "output_type": "stream",
     "text": [
      "Computing the msd similarity matrix...\n",
      "Done computing similarity matrix.\n",
      "Computing the msd similarity matrix...\n",
      "Done computing similarity matrix.\n",
      "Computing the msd similarity matrix...\n",
      "Done computing similarity matrix.\n"
     ]
    },
    {
     "data": {
      "text/html": [
       "<div>\n",
       "<style scoped>\n",
       "    .dataframe tbody tr th:only-of-type {\n",
       "        vertical-align: middle;\n",
       "    }\n",
       "\n",
       "    .dataframe tbody tr th {\n",
       "        vertical-align: top;\n",
       "    }\n",
       "\n",
       "    .dataframe thead th {\n",
       "        text-align: right;\n",
       "    }\n",
       "</style>\n",
       "<table border=\"1\" class=\"dataframe\">\n",
       "  <thead>\n",
       "    <tr style=\"text-align: right;\">\n",
       "      <th></th>\n",
       "      <th>test_rmse</th>\n",
       "      <th>test_mae</th>\n",
       "      <th>fit_time</th>\n",
       "      <th>test_time</th>\n",
       "    </tr>\n",
       "    <tr>\n",
       "      <th>Algorithm</th>\n",
       "      <th></th>\n",
       "      <th></th>\n",
       "      <th></th>\n",
       "      <th></th>\n",
       "    </tr>\n",
       "  </thead>\n",
       "  <tbody>\n",
       "    <tr>\n",
       "      <th>SVD</th>\n",
       "      <td>1.499345</td>\n",
       "      <td>1.084395</td>\n",
       "      <td>4.176495</td>\n",
       "      <td>0.263630</td>\n",
       "    </tr>\n",
       "    <tr>\n",
       "      <th>KNNBasic</th>\n",
       "      <td>1.686498</td>\n",
       "      <td>1.173574</td>\n",
       "      <td>0.298202</td>\n",
       "      <td>1.556503</td>\n",
       "    </tr>\n",
       "    <tr>\n",
       "      <th>NMF</th>\n",
       "      <td>2.539696</td>\n",
       "      <td>2.212542</td>\n",
       "      <td>6.430136</td>\n",
       "      <td>0.158907</td>\n",
       "    </tr>\n",
       "  </tbody>\n",
       "</table>\n",
       "</div>"
      ],
      "text/plain": [
       "           test_rmse  test_mae  fit_time  test_time\n",
       "Algorithm                                          \n",
       "SVD         1.499345  1.084395  4.176495   0.263630\n",
       "KNNBasic    1.686498  1.173574  0.298202   1.556503\n",
       "NMF         2.539696  2.212542  6.430136   0.158907"
      ]
     },
     "execution_count": 464,
     "metadata": {},
     "output_type": "execute_result"
    }
   ],
   "source": [
    "data = Dataset.load_from_df(mydramalist[['reviewer', 'title', 'story']], reader)\n",
    "\n",
    "calc = []\n",
    "# Iterate over all algorithms\n",
    "for algorithm in [SVD(), NMF(), KNNBasic()]:\n",
    "    # Perform cross validation\n",
    "    results = cross_validate(algorithm, data, measures=['RMSE', 'MAE'], cv=3, verbose=False)\n",
    "    \n",
    "    # Get results & append algorithm name\n",
    "    tmp = pd.DataFrame.from_dict(results).mean(axis=0)\n",
    "    tmp = tmp.append(pd.Series([str(algorithm).split(' ')[0].split('.')[-1]], index=['Algorithm']))\n",
    "    calc.append(tmp)\n",
    "    \n",
    "mdl_story = pd.DataFrame(calc).set_index('Algorithm').sort_values('test_rmse') \n",
    "mdl_story"
   ]
  },
  {
   "cell_type": "code",
   "execution_count": 465,
   "metadata": {},
   "outputs": [
    {
     "name": "stdout",
     "output_type": "stream",
     "text": [
      "Computing the msd similarity matrix...\n",
      "Done computing similarity matrix.\n",
      "Computing the msd similarity matrix...\n",
      "Done computing similarity matrix.\n",
      "Computing the msd similarity matrix...\n",
      "Done computing similarity matrix.\n"
     ]
    },
    {
     "data": {
      "text/html": [
       "<div>\n",
       "<style scoped>\n",
       "    .dataframe tbody tr th:only-of-type {\n",
       "        vertical-align: middle;\n",
       "    }\n",
       "\n",
       "    .dataframe tbody tr th {\n",
       "        vertical-align: top;\n",
       "    }\n",
       "\n",
       "    .dataframe thead th {\n",
       "        text-align: right;\n",
       "    }\n",
       "</style>\n",
       "<table border=\"1\" class=\"dataframe\">\n",
       "  <thead>\n",
       "    <tr style=\"text-align: right;\">\n",
       "      <th></th>\n",
       "      <th>test_rmse</th>\n",
       "      <th>test_mae</th>\n",
       "      <th>fit_time</th>\n",
       "      <th>test_time</th>\n",
       "    </tr>\n",
       "    <tr>\n",
       "      <th>Algorithm</th>\n",
       "      <th></th>\n",
       "      <th></th>\n",
       "      <th></th>\n",
       "      <th></th>\n",
       "    </tr>\n",
       "  </thead>\n",
       "  <tbody>\n",
       "    <tr>\n",
       "      <th>SVD</th>\n",
       "      <td>1.521209</td>\n",
       "      <td>1.114127</td>\n",
       "      <td>4.018252</td>\n",
       "      <td>0.553520</td>\n",
       "    </tr>\n",
       "    <tr>\n",
       "      <th>KNNBasic</th>\n",
       "      <td>1.835846</td>\n",
       "      <td>1.292237</td>\n",
       "      <td>0.404250</td>\n",
       "      <td>1.642275</td>\n",
       "    </tr>\n",
       "    <tr>\n",
       "      <th>NMF</th>\n",
       "      <td>2.564468</td>\n",
       "      <td>2.215694</td>\n",
       "      <td>7.228006</td>\n",
       "      <td>0.145272</td>\n",
       "    </tr>\n",
       "  </tbody>\n",
       "</table>\n",
       "</div>"
      ],
      "text/plain": [
       "           test_rmse  test_mae  fit_time  test_time\n",
       "Algorithm                                          \n",
       "SVD         1.521209  1.114127  4.018252   0.553520\n",
       "KNNBasic    1.835846  1.292237  0.404250   1.642275\n",
       "NMF         2.564468  2.215694  7.228006   0.145272"
      ]
     },
     "execution_count": 465,
     "metadata": {},
     "output_type": "execute_result"
    }
   ],
   "source": [
    "data = Dataset.load_from_df(mydramalist[['reviewer', 'title', 'music']], reader)\n",
    "\n",
    "calc = []\n",
    "# Iterate over all algorithms\n",
    "for algorithm in [SVD(), NMF(), KNNBasic()]:\n",
    "    # Perform cross validation\n",
    "    results = cross_validate(algorithm, data, measures=['RMSE', 'MAE'], cv=3, verbose=False)\n",
    "    \n",
    "    # Get results & append algorithm name\n",
    "    tmp = pd.DataFrame.from_dict(results).mean(axis=0)\n",
    "    tmp = tmp.append(pd.Series([str(algorithm).split(' ')[0].split('.')[-1]], index=['Algorithm']))\n",
    "    calc.append(tmp)\n",
    "    \n",
    "mdl_music = pd.DataFrame(calc).set_index('Algorithm').sort_values('test_rmse') \n",
    "mdl_music"
   ]
  },
  {
   "cell_type": "code",
   "execution_count": 466,
   "metadata": {},
   "outputs": [
    {
     "name": "stdout",
     "output_type": "stream",
     "text": [
      "Computing the msd similarity matrix...\n",
      "Done computing similarity matrix.\n",
      "Computing the msd similarity matrix...\n",
      "Done computing similarity matrix.\n",
      "Computing the msd similarity matrix...\n",
      "Done computing similarity matrix.\n"
     ]
    },
    {
     "data": {
      "text/html": [
       "<div>\n",
       "<style scoped>\n",
       "    .dataframe tbody tr th:only-of-type {\n",
       "        vertical-align: middle;\n",
       "    }\n",
       "\n",
       "    .dataframe tbody tr th {\n",
       "        vertical-align: top;\n",
       "    }\n",
       "\n",
       "    .dataframe thead th {\n",
       "        text-align: right;\n",
       "    }\n",
       "</style>\n",
       "<table border=\"1\" class=\"dataframe\">\n",
       "  <thead>\n",
       "    <tr style=\"text-align: right;\">\n",
       "      <th></th>\n",
       "      <th>test_rmse</th>\n",
       "      <th>test_mae</th>\n",
       "      <th>fit_time</th>\n",
       "      <th>test_time</th>\n",
       "    </tr>\n",
       "    <tr>\n",
       "      <th>Algorithm</th>\n",
       "      <th></th>\n",
       "      <th></th>\n",
       "      <th></th>\n",
       "      <th></th>\n",
       "    </tr>\n",
       "  </thead>\n",
       "  <tbody>\n",
       "    <tr>\n",
       "      <th>SVD</th>\n",
       "      <td>1.258419</td>\n",
       "      <td>0.882337</td>\n",
       "      <td>3.454425</td>\n",
       "      <td>0.428188</td>\n",
       "    </tr>\n",
       "    <tr>\n",
       "      <th>KNNBasic</th>\n",
       "      <td>1.409659</td>\n",
       "      <td>0.956341</td>\n",
       "      <td>0.428188</td>\n",
       "      <td>1.830104</td>\n",
       "    </tr>\n",
       "    <tr>\n",
       "      <th>NMF</th>\n",
       "      <td>2.789891</td>\n",
       "      <td>2.529618</td>\n",
       "      <td>5.230676</td>\n",
       "      <td>0.175862</td>\n",
       "    </tr>\n",
       "  </tbody>\n",
       "</table>\n",
       "</div>"
      ],
      "text/plain": [
       "           test_rmse  test_mae  fit_time  test_time\n",
       "Algorithm                                          \n",
       "SVD         1.258419  0.882337  3.454425   0.428188\n",
       "KNNBasic    1.409659  0.956341  0.428188   1.830104\n",
       "NMF         2.789891  2.529618  5.230676   0.175862"
      ]
     },
     "execution_count": 466,
     "metadata": {},
     "output_type": "execute_result"
    }
   ],
   "source": [
    "data = Dataset.load_from_df(mydramalist[['reviewer', 'title', 'acting']], reader)\n",
    "\n",
    "calc = []\n",
    "# Iterate over all algorithms\n",
    "for algorithm in [SVD(), NMF(), KNNBasic()]:\n",
    "    # Perform cross validation\n",
    "    results = cross_validate(algorithm, data, measures=['RMSE', 'MAE'], cv=3, verbose=False)\n",
    "    \n",
    "    # Get results & append algorithm name\n",
    "    tmp = pd.DataFrame.from_dict(results).mean(axis=0)\n",
    "    tmp = tmp.append(pd.Series([str(algorithm).split(' ')[0].split('.')[-1]], index=['Algorithm']))\n",
    "    calc.append(tmp)\n",
    "    \n",
    "mdl_acting = pd.DataFrame(calc).set_index('Algorithm').sort_values('test_rmse') \n",
    "mdl_acting"
   ]
  },
  {
   "cell_type": "code",
   "execution_count": 467,
   "metadata": {},
   "outputs": [
    {
     "name": "stdout",
     "output_type": "stream",
     "text": [
      "Computing the msd similarity matrix...\n",
      "Done computing similarity matrix.\n",
      "Computing the msd similarity matrix...\n",
      "Done computing similarity matrix.\n",
      "Computing the msd similarity matrix...\n",
      "Done computing similarity matrix.\n"
     ]
    },
    {
     "data": {
      "text/html": [
       "<div>\n",
       "<style scoped>\n",
       "    .dataframe tbody tr th:only-of-type {\n",
       "        vertical-align: middle;\n",
       "    }\n",
       "\n",
       "    .dataframe tbody tr th {\n",
       "        vertical-align: top;\n",
       "    }\n",
       "\n",
       "    .dataframe thead th {\n",
       "        text-align: right;\n",
       "    }\n",
       "</style>\n",
       "<table border=\"1\" class=\"dataframe\">\n",
       "  <thead>\n",
       "    <tr style=\"text-align: right;\">\n",
       "      <th></th>\n",
       "      <th>test_rmse</th>\n",
       "      <th>test_mae</th>\n",
       "      <th>fit_time</th>\n",
       "      <th>test_time</th>\n",
       "    </tr>\n",
       "    <tr>\n",
       "      <th>Algorithm</th>\n",
       "      <th></th>\n",
       "      <th></th>\n",
       "      <th></th>\n",
       "      <th></th>\n",
       "    </tr>\n",
       "  </thead>\n",
       "  <tbody>\n",
       "    <tr>\n",
       "      <th>SVD</th>\n",
       "      <td>2.183483</td>\n",
       "      <td>1.633894</td>\n",
       "      <td>2.992994</td>\n",
       "      <td>0.203458</td>\n",
       "    </tr>\n",
       "    <tr>\n",
       "      <th>KNNBasic</th>\n",
       "      <td>2.524493</td>\n",
       "      <td>1.816171</td>\n",
       "      <td>0.319479</td>\n",
       "      <td>1.793542</td>\n",
       "    </tr>\n",
       "  </tbody>\n",
       "</table>\n",
       "</div>"
      ],
      "text/plain": [
       "           test_rmse  test_mae  fit_time  test_time\n",
       "Algorithm                                          \n",
       "SVD         2.183483  1.633894  2.992994   0.203458\n",
       "KNNBasic    2.524493  1.816171  0.319479   1.793542"
      ]
     },
     "execution_count": 467,
     "metadata": {},
     "output_type": "execute_result"
    }
   ],
   "source": [
    "data = Dataset.load_from_df(mydramalist[['reviewer', 'title', 'rewatch']], reader)\n",
    "\n",
    "calc = []\n",
    "# Iterate over all algorithms\n",
    "for algorithm in [SVD(), KNNBasic()]:\n",
    "    # Perform cross validation\n",
    "    results = cross_validate(algorithm, data, measures=['RMSE', 'MAE'], cv=3, verbose=False)\n",
    "    \n",
    "    # Get results & append algorithm name\n",
    "    tmp = pd.DataFrame.from_dict(results).mean(axis=0)\n",
    "    tmp = tmp.append(pd.Series([str(algorithm).split(' ')[0].split('.')[-1]], index=['Algorithm']))\n",
    "    calc.append(tmp)\n",
    "    \n",
    "mdl_rewatch = pd.DataFrame(calc).set_index('Algorithm').sort_values('test_rmse') \n",
    "mdl_rewatch"
   ]
  },
  {
   "cell_type": "code",
   "execution_count": 194,
   "metadata": {},
   "outputs": [
    {
     "data": {
      "text/html": [
       "<div>\n",
       "<style scoped>\n",
       "    .dataframe tbody tr th:only-of-type {\n",
       "        vertical-align: middle;\n",
       "    }\n",
       "\n",
       "    .dataframe tbody tr th {\n",
       "        vertical-align: top;\n",
       "    }\n",
       "\n",
       "    .dataframe thead th {\n",
       "        text-align: right;\n",
       "    }\n",
       "</style>\n",
       "<table border=\"1\" class=\"dataframe\">\n",
       "  <thead>\n",
       "    <tr style=\"text-align: right;\">\n",
       "      <th></th>\n",
       "      <th>title</th>\n",
       "      <th>reviewer</th>\n",
       "      <th>overall</th>\n",
       "      <th>story</th>\n",
       "      <th>acting</th>\n",
       "      <th>music</th>\n",
       "      <th>rewatch</th>\n",
       "    </tr>\n",
       "  </thead>\n",
       "  <tbody>\n",
       "  </tbody>\n",
       "</table>\n",
       "</div>"
      ],
      "text/plain": [
       "Empty DataFrame\n",
       "Columns: [title, reviewer, overall, story, acting, music, rewatch]\n",
       "Index: []"
      ]
     },
     "execution_count": 194,
     "metadata": {},
     "output_type": "execute_result"
    }
   ],
   "source": [
    "mydramalist[mydramalist.isna().any(axis=1)]"
   ]
  },
  {
   "cell_type": "code",
   "execution_count": 468,
   "metadata": {},
   "outputs": [],
   "source": [
    "mydramalist['mean'] = (mydramalist.iloc[:, 2:]).apply(np.mean, axis=1)"
   ]
  },
  {
   "cell_type": "code",
   "execution_count": 469,
   "metadata": {},
   "outputs": [
    {
     "data": {
      "text/html": [
       "<div>\n",
       "<style scoped>\n",
       "    .dataframe tbody tr th:only-of-type {\n",
       "        vertical-align: middle;\n",
       "    }\n",
       "\n",
       "    .dataframe tbody tr th {\n",
       "        vertical-align: top;\n",
       "    }\n",
       "\n",
       "    .dataframe thead th {\n",
       "        text-align: right;\n",
       "    }\n",
       "</style>\n",
       "<table border=\"1\" class=\"dataframe\">\n",
       "  <thead>\n",
       "    <tr style=\"text-align: right;\">\n",
       "      <th></th>\n",
       "      <th>title</th>\n",
       "      <th>reviewer</th>\n",
       "      <th>overall</th>\n",
       "      <th>story</th>\n",
       "      <th>acting</th>\n",
       "      <th>music</th>\n",
       "      <th>rewatch</th>\n",
       "      <th>mean</th>\n",
       "    </tr>\n",
       "  </thead>\n",
       "  <tbody>\n",
       "    <tr>\n",
       "      <th>15601</th>\n",
       "      <td>Castaway on the Moon</td>\n",
       "      <td>Jia M</td>\n",
       "      <td>9.0</td>\n",
       "      <td>9.0</td>\n",
       "      <td>10.0</td>\n",
       "      <td>8.0</td>\n",
       "      <td>10.0</td>\n",
       "      <td>9.2</td>\n",
       "    </tr>\n",
       "  </tbody>\n",
       "</table>\n",
       "</div>"
      ],
      "text/plain": [
       "                      title reviewer  overall  story  acting  music  rewatch  \\\n",
       "15601  Castaway on the Moon    Jia M      9.0    9.0    10.0    8.0     10.0   \n",
       "\n",
       "       mean  \n",
       "15601   9.2  "
      ]
     },
     "execution_count": 469,
     "metadata": {},
     "output_type": "execute_result"
    }
   ],
   "source": [
    "mydramalist.sample()"
   ]
  },
  {
   "cell_type": "code",
   "execution_count": 470,
   "metadata": {},
   "outputs": [
    {
     "name": "stdout",
     "output_type": "stream",
     "text": [
      "Computing the msd similarity matrix...\n",
      "Done computing similarity matrix.\n",
      "Computing the msd similarity matrix...\n",
      "Done computing similarity matrix.\n",
      "Computing the msd similarity matrix...\n",
      "Done computing similarity matrix.\n"
     ]
    },
    {
     "data": {
      "text/html": [
       "<div>\n",
       "<style scoped>\n",
       "    .dataframe tbody tr th:only-of-type {\n",
       "        vertical-align: middle;\n",
       "    }\n",
       "\n",
       "    .dataframe tbody tr th {\n",
       "        vertical-align: top;\n",
       "    }\n",
       "\n",
       "    .dataframe thead th {\n",
       "        text-align: right;\n",
       "    }\n",
       "</style>\n",
       "<table border=\"1\" class=\"dataframe\">\n",
       "  <thead>\n",
       "    <tr style=\"text-align: right;\">\n",
       "      <th></th>\n",
       "      <th>test_rmse</th>\n",
       "      <th>test_mae</th>\n",
       "      <th>fit_time</th>\n",
       "      <th>test_time</th>\n",
       "    </tr>\n",
       "    <tr>\n",
       "      <th>Algorithm</th>\n",
       "      <th></th>\n",
       "      <th></th>\n",
       "      <th></th>\n",
       "      <th></th>\n",
       "    </tr>\n",
       "  </thead>\n",
       "  <tbody>\n",
       "    <tr>\n",
       "      <th>SVD</th>\n",
       "      <td>1.358417</td>\n",
       "      <td>0.999815</td>\n",
       "      <td>2.775909</td>\n",
       "      <td>0.250330</td>\n",
       "    </tr>\n",
       "    <tr>\n",
       "      <th>KNNBasic</th>\n",
       "      <td>1.584936</td>\n",
       "      <td>1.135069</td>\n",
       "      <td>0.341752</td>\n",
       "      <td>1.690811</td>\n",
       "    </tr>\n",
       "  </tbody>\n",
       "</table>\n",
       "</div>"
      ],
      "text/plain": [
       "           test_rmse  test_mae  fit_time  test_time\n",
       "Algorithm                                          \n",
       "SVD         1.358417  0.999815  2.775909   0.250330\n",
       "KNNBasic    1.584936  1.135069  0.341752   1.690811"
      ]
     },
     "execution_count": 470,
     "metadata": {},
     "output_type": "execute_result"
    }
   ],
   "source": [
    "mydramalist['mean'] = (mydramalist.iloc[:, 2:]).apply(np.mean, axis=1)\n",
    "data = Dataset.load_from_df(mydramalist[['reviewer', 'title', 'mean']], reader)\n",
    "\n",
    "calc = []\n",
    "# Iterate over all algorithms\n",
    "for algorithm in [SVD(), KNNBasic()]:\n",
    "    # Perform cross validation\n",
    "    results = cross_validate(algorithm, data, measures=['RMSE', 'MAE'], cv=3, verbose=False)\n",
    "    \n",
    "    # Get results & append algorithm name\n",
    "    tmp = pd.DataFrame.from_dict(results).mean(axis=0)\n",
    "    tmp = tmp.append(pd.Series([str(algorithm).split(' ')[0].split('.')[-1]], index=['Algorithm']))\n",
    "    calc.append(tmp)\n",
    "    \n",
    "mdl_mean = pd.DataFrame(calc).set_index('Algorithm').sort_values('test_rmse') \n",
    "mdl_mean"
   ]
  },
  {
   "cell_type": "markdown",
   "metadata": {},
   "source": [
    "## 난 너무 화가 난다 POD vs. MDL"
   ]
  },
  {
   "cell_type": "markdown",
   "metadata": {},
   "source": [
    "직관적으로는 팟빵 평점 데이터가 별로일 것 같은데, `"
   ]
  },
  {
   "cell_type": "code",
   "execution_count": 33,
   "metadata": {},
   "outputs": [
    {
     "data": {
      "text/plain": [
       "Text(0.5, 1.0, 'MyDramaList Ratings')"
      ]
     },
     "execution_count": 33,
     "metadata": {},
     "output_type": "execute_result"
    },
    {
     "data": {
      "image/png": "[encoded data removed]",
      "text/plain": [
       "<Figure size 432x288 with 1 Axes>"
      ]
     },
     "metadata": {
      "needs_background": "light"
     },
     "output_type": "display_data"
    }
   ],
   "source": [
    "plt.hist(mydramalist['overall'], bins = 10)\n",
    "plt.title(\"MyDramaList Ratings\", fontsize = 20)"
   ]
  },
  {
   "cell_type": "code",
   "execution_count": 31,
   "metadata": {},
   "outputs": [
    {
     "data": {
      "text/plain": [
       "Text(0.5, 1.0, 'Podbbang Ratings')"
      ]
     },
     "execution_count": 31,
     "metadata": {},
     "output_type": "execute_result"
    },
    {
     "data": {
      "image/png": "[encoded data removed]",
      "text/plain": [
       "<Figure size 432x288 with 1 Axes>"
      ]
     },
     "metadata": {
      "needs_background": "light"
     },
     "output_type": "display_data"
    }
   ],
   "source": [
    "plt.hist(all_review['new_rating'], bins = 10)\n",
    "plt.title(\"Podbbang Ratings\", fontsize = 20)"
   ]
  },
  {
   "cell_type": "markdown",
   "metadata": {},
   "source": [
    "## 개선해볼까"
   ]
  },
  {
   "cell_type": "markdown",
   "metadata": {},
   "source": [
    "이럴거면 그냥 다 10점 주는 알고리즘 만들자"
   ]
  },
  {
   "cell_type": "code",
   "execution_count": 471,
   "metadata": {},
   "outputs": [],
   "source": [
    "from surprise import AlgoBase\n",
    "from surprise import Dataset\n",
    "from surprise.model_selection import cross_validate\n",
    "\n",
    "\n",
    "class all_10(AlgoBase):\n",
    "\n",
    "    def __init__(self):\n",
    "\n",
    "        # Always call base method before doing anything.\n",
    "        AlgoBase.__init__(self)\n",
    "\n",
    "    def estimate(self, u, i):\n",
    "\n",
    "        return 10"
   ]
  },
  {
   "cell_type": "markdown",
   "metadata": {},
   "source": [
    "all_10으로 팟빵 예측한 결과는"
   ]
  },
  {
   "cell_type": "code",
   "execution_count": 472,
   "metadata": {},
   "outputs": [
    {
     "data": {
      "text/html": [
       "<div>\n",
       "<style scoped>\n",
       "    .dataframe tbody tr th:only-of-type {\n",
       "        vertical-align: middle;\n",
       "    }\n",
       "\n",
       "    .dataframe tbody tr th {\n",
       "        vertical-align: top;\n",
       "    }\n",
       "\n",
       "    .dataframe thead th {\n",
       "        text-align: right;\n",
       "    }\n",
       "</style>\n",
       "<table border=\"1\" class=\"dataframe\">\n",
       "  <thead>\n",
       "    <tr style=\"text-align: right;\">\n",
       "      <th></th>\n",
       "      <th>test_rmse</th>\n",
       "      <th>test_mae</th>\n",
       "      <th>fit_time</th>\n",
       "      <th>test_time</th>\n",
       "    </tr>\n",
       "    <tr>\n",
       "      <th>Algorithm</th>\n",
       "      <th></th>\n",
       "      <th></th>\n",
       "      <th></th>\n",
       "      <th></th>\n",
       "    </tr>\n",
       "  </thead>\n",
       "  <tbody>\n",
       "    <tr>\n",
       "      <th>all_10</th>\n",
       "      <td>2.735204</td>\n",
       "      <td>2.098702</td>\n",
       "      <td>0.005983</td>\n",
       "      <td>0.094081</td>\n",
       "    </tr>\n",
       "  </tbody>\n",
       "</table>\n",
       "</div>"
      ],
      "text/plain": [
       "           test_rmse  test_mae  fit_time  test_time\n",
       "Algorithm                                          \n",
       "all_10      2.735204  2.098702  0.005983   0.094081"
      ]
     },
     "execution_count": 472,
     "metadata": {},
     "output_type": "execute_result"
    }
   ],
   "source": [
    "calc = []\n",
    "# Perform cross validation\n",
    "algorithm = all_10()\n",
    "results = cross_validate(algorithm, data, measures=['RMSE', 'MAE'], cv=3, verbose=False)\n",
    "\n",
    "# Get results & append algorithm name\n",
    "tmp = pd.DataFrame.from_dict(results).mean(axis=0)\n",
    "tmp = tmp.append(pd.Series([str(algorithm).split(' ')[0].split('.')[-1]], index=['Algorithm']))\n",
    "calc.append(tmp)\n",
    "    \n",
    "pod_all_10 = pd.DataFrame(calc).set_index('Algorithm').sort_values('test_rmse') \n",
    "pod_all_10"
   ]
  },
  {
   "cell_type": "markdown",
   "metadata": {},
   "source": [
    "근데 그래도 pod_SVD가 예측 더 잘함...why"
   ]
  },
  {
   "cell_type": "code",
   "execution_count": 569,
   "metadata": {},
   "outputs": [],
   "source": []
  },
  {
   "cell_type": "markdown",
   "metadata": {},
   "source": [
    "팟빵 데이터에도 10점이 아닌게 있으니 다 10점을 때려버리면 안될듯 <br>\n",
    "그러면 전체 데이터의 평균(global mean)을 사용해서 예측한다면?"
   ]
  },
  {
   "cell_type": "code",
   "execution_count": 473,
   "metadata": {},
   "outputs": [],
   "source": [
    "class GlobalMean(AlgoBase):\n",
    "\n",
    "    def __init__(self):\n",
    "\n",
    "        # Always call base method before doing anything.\n",
    "        AlgoBase.__init__(self)\n",
    "\n",
    "    def fit(self, trainset):\n",
    "\n",
    "        # Here again: call base method before doing anything.\n",
    "        AlgoBase.fit(self, trainset)\n",
    "\n",
    "        # Compute the average rating. We might as well use the\n",
    "        # trainset.global_mean attribute ;)\n",
    "        self.the_mean = np.mean([r for (_, _, r) in\n",
    "                                 self.trainset.all_ratings()])\n",
    "\n",
    "        return self\n",
    "\n",
    "    def estimate(self, u, i):\n",
    "\n",
    "        return self.the_mean"
   ]
  },
  {
   "cell_type": "code",
   "execution_count": 474,
   "metadata": {},
   "outputs": [
    {
     "data": {
      "text/html": [
       "<div>\n",
       "<style scoped>\n",
       "    .dataframe tbody tr th:only-of-type {\n",
       "        vertical-align: middle;\n",
       "    }\n",
       "\n",
       "    .dataframe tbody tr th {\n",
       "        vertical-align: top;\n",
       "    }\n",
       "\n",
       "    .dataframe thead th {\n",
       "        text-align: right;\n",
       "    }\n",
       "</style>\n",
       "<table border=\"1\" class=\"dataframe\">\n",
       "  <thead>\n",
       "    <tr style=\"text-align: right;\">\n",
       "      <th></th>\n",
       "      <th>test_rmse</th>\n",
       "      <th>test_mae</th>\n",
       "      <th>fit_time</th>\n",
       "      <th>test_time</th>\n",
       "    </tr>\n",
       "    <tr>\n",
       "      <th>Algorithm</th>\n",
       "      <th></th>\n",
       "      <th></th>\n",
       "      <th></th>\n",
       "      <th></th>\n",
       "    </tr>\n",
       "  </thead>\n",
       "  <tbody>\n",
       "    <tr>\n",
       "      <th>GlobalMean</th>\n",
       "      <td>1.185976</td>\n",
       "      <td>0.785805</td>\n",
       "      <td>0.020607</td>\n",
       "      <td>0.072473</td>\n",
       "    </tr>\n",
       "  </tbody>\n",
       "</table>\n",
       "</div>"
      ],
      "text/plain": [
       "            test_rmse  test_mae  fit_time  test_time\n",
       "Algorithm                                           \n",
       "GlobalMean   1.185976  0.785805  0.020607   0.072473"
      ]
     },
     "execution_count": 474,
     "metadata": {},
     "output_type": "execute_result"
    }
   ],
   "source": [
    "data = Dataset.load_from_df(all_review[['nickname', 'title', 'rating']], reader)\n",
    "\n",
    "\n",
    "calc = []\n",
    "# Perform cross validation\n",
    "algorithm = GlobalMean()\n",
    "results = cross_validate(algorithm, data, measures=['RMSE', 'MAE'], cv=3, verbose=False)\n",
    "\n",
    "# Get results & append algorithm name\n",
    "tmp = pd.DataFrame.from_dict(results).mean(axis=0)\n",
    "tmp = tmp.append(pd.Series([str(algorithm).split(' ')[0].split('.')[-1]], index=['Algorithm']))\n",
    "calc.append(tmp)\n",
    "    \n",
    "pod_global_mean = pd.DataFrame(calc).set_index('Algorithm').sort_values('test_rmse') \n",
    "pod_global_mean"
   ]
  },
  {
   "cell_type": "code",
   "execution_count": 457,
   "metadata": {},
   "outputs": [
    {
     "data": {
      "text/html": [
       "<div>\n",
       "<style scoped>\n",
       "    .dataframe tbody tr th:only-of-type {\n",
       "        vertical-align: middle;\n",
       "    }\n",
       "\n",
       "    .dataframe tbody tr th {\n",
       "        vertical-align: top;\n",
       "    }\n",
       "\n",
       "    .dataframe thead th {\n",
       "        text-align: right;\n",
       "    }\n",
       "</style>\n",
       "<table border=\"1\" class=\"dataframe\">\n",
       "  <thead>\n",
       "    <tr style=\"text-align: right;\">\n",
       "      <th></th>\n",
       "      <th>title</th>\n",
       "      <th>reviewer</th>\n",
       "      <th>overall</th>\n",
       "      <th>story</th>\n",
       "      <th>acting</th>\n",
       "      <th>music</th>\n",
       "      <th>rewatch</th>\n",
       "    </tr>\n",
       "  </thead>\n",
       "  <tbody>\n",
       "    <tr>\n",
       "      <th>3912</th>\n",
       "      <td>49 Days</td>\n",
       "      <td>BAsfaw</td>\n",
       "      <td>7.0</td>\n",
       "      <td>9.0</td>\n",
       "      <td>8.5</td>\n",
       "      <td>6.5</td>\n",
       "      <td>6.5</td>\n",
       "    </tr>\n",
       "  </tbody>\n",
       "</table>\n",
       "</div>"
      ],
      "text/plain": [
       "        title reviewer  overall  story  acting  music  rewatch\n",
       "3912  49 Days   BAsfaw      7.0    9.0     8.5    6.5      6.5"
      ]
     },
     "execution_count": 457,
     "metadata": {},
     "output_type": "execute_result"
    }
   ],
   "source": [
    "mydramalist.sample()"
   ]
  },
  {
   "cell_type": "code",
   "execution_count": 475,
   "metadata": {},
   "outputs": [
    {
     "data": {
      "text/html": [
       "<div>\n",
       "<style scoped>\n",
       "    .dataframe tbody tr th:only-of-type {\n",
       "        vertical-align: middle;\n",
       "    }\n",
       "\n",
       "    .dataframe tbody tr th {\n",
       "        vertical-align: top;\n",
       "    }\n",
       "\n",
       "    .dataframe thead th {\n",
       "        text-align: right;\n",
       "    }\n",
       "</style>\n",
       "<table border=\"1\" class=\"dataframe\">\n",
       "  <thead>\n",
       "    <tr style=\"text-align: right;\">\n",
       "      <th></th>\n",
       "      <th>test_rmse</th>\n",
       "      <th>test_mae</th>\n",
       "      <th>fit_time</th>\n",
       "      <th>test_time</th>\n",
       "    </tr>\n",
       "    <tr>\n",
       "      <th>Algorithm</th>\n",
       "      <th></th>\n",
       "      <th></th>\n",
       "      <th></th>\n",
       "      <th></th>\n",
       "    </tr>\n",
       "  </thead>\n",
       "  <tbody>\n",
       "    <tr>\n",
       "      <th>GlobalMean</th>\n",
       "      <td>1.830655</td>\n",
       "      <td>1.400377</td>\n",
       "      <td>0.031582</td>\n",
       "      <td>0.17021</td>\n",
       "    </tr>\n",
       "  </tbody>\n",
       "</table>\n",
       "</div>"
      ],
      "text/plain": [
       "            test_rmse  test_mae  fit_time  test_time\n",
       "Algorithm                                           \n",
       "GlobalMean   1.830655  1.400377  0.031582    0.17021"
      ]
     },
     "execution_count": 475,
     "metadata": {},
     "output_type": "execute_result"
    }
   ],
   "source": [
    "data = Dataset.load_from_df(mydramalist[['reviewer', 'title', 'overall']], reader)\n",
    "\n",
    "\n",
    "calc = []\n",
    "# Perform cross validation\n",
    "algorithm = GlobalMean()\n",
    "results = cross_validate(algorithm, data, measures=['RMSE', 'MAE'], cv=3, verbose=False)\n",
    "\n",
    "# Get results & append algorithm name\n",
    "tmp = pd.DataFrame.from_dict(results).mean(axis=0)\n",
    "tmp = tmp.append(pd.Series([str(algorithm).split(' ')[0].split('.')[-1]], index=['Algorithm']))\n",
    "calc.append(tmp)\n",
    "    \n",
    "mdl_global_mean = pd.DataFrame(calc).set_index('Algorithm').sort_values('test_rmse') \n",
    "mdl_global_mean"
   ]
  },
  {
   "cell_type": "code",
   "execution_count": 476,
   "metadata": {},
   "outputs": [],
   "source": [
    "a = pd.DataFrame(np.array([mdl_acting.iloc[0, :]]), columns = mdl_acting.iloc[0, :].index, index = ['mdl_acting_SVD'])\n",
    "\n",
    "b = pd.DataFrame(np.array([mdl_story.iloc[0, :]]), columns = mdl_acting.iloc[0, :].index, index = ['mdl_story_SVD'])\n",
    "\n",
    "c = pd.DataFrame(np.array([mdl_mean.iloc[0, :]]), columns = mdl_acting.iloc[0, :].index, index = ['mdl_mean_SVD'])\n",
    "\n",
    "d = pd.DataFrame(np.array([pod_SVD.iloc[0, :]]), columns = mdl_acting.iloc[0, :].index, index = ['pod_SVD'])\n",
    "\n",
    "e = pd.DataFrame(np.array([pod_all_10.iloc[0, :]]), columns = mdl_acting.iloc[0, :].index, index = ['pod_all_10'])\n",
    "\n",
    "f = pd.DataFrame(np.array([pod_global_mean.iloc[0, :]]), columns = mdl_acting.iloc[0, :].index, index = ['pod_global_mean'])\n",
    "\n",
    "g = pd.DataFrame(np.array([mdl_global_mean.iloc[0, :]]), columns = mdl_acting.iloc[0, :].index, index = ['mdl_global_mean'])"
   ]
  },
  {
   "cell_type": "code",
   "execution_count": 477,
   "metadata": {},
   "outputs": [
    {
     "data": {
      "text/html": [
       "<div>\n",
       "<style scoped>\n",
       "    .dataframe tbody tr th:only-of-type {\n",
       "        vertical-align: middle;\n",
       "    }\n",
       "\n",
       "    .dataframe tbody tr th {\n",
       "        vertical-align: top;\n",
       "    }\n",
       "\n",
       "    .dataframe thead th {\n",
       "        text-align: right;\n",
       "    }\n",
       "</style>\n",
       "<table border=\"1\" class=\"dataframe\">\n",
       "  <thead>\n",
       "    <tr style=\"text-align: right;\">\n",
       "      <th></th>\n",
       "      <th>test_rmse</th>\n",
       "      <th>test_mae</th>\n",
       "      <th>fit_time</th>\n",
       "      <th>test_time</th>\n",
       "    </tr>\n",
       "  </thead>\n",
       "  <tbody>\n",
       "    <tr>\n",
       "      <th>mdl_acting_SVD</th>\n",
       "      <td>1.258419</td>\n",
       "      <td>0.882337</td>\n",
       "      <td>3.454425</td>\n",
       "      <td>0.428188</td>\n",
       "    </tr>\n",
       "    <tr>\n",
       "      <th>mdl_story_SVD</th>\n",
       "      <td>1.499345</td>\n",
       "      <td>1.084395</td>\n",
       "      <td>4.176495</td>\n",
       "      <td>0.263630</td>\n",
       "    </tr>\n",
       "    <tr>\n",
       "      <th>mdl_mean_SVD</th>\n",
       "      <td>1.358417</td>\n",
       "      <td>0.999815</td>\n",
       "      <td>2.775909</td>\n",
       "      <td>0.250330</td>\n",
       "    </tr>\n",
       "    <tr>\n",
       "      <th>pod_SVD</th>\n",
       "      <td>1.044225</td>\n",
       "      <td>0.605218</td>\n",
       "      <td>1.754307</td>\n",
       "      <td>0.096075</td>\n",
       "    </tr>\n",
       "    <tr>\n",
       "      <th>pod_all_10</th>\n",
       "      <td>2.735204</td>\n",
       "      <td>2.098702</td>\n",
       "      <td>0.005983</td>\n",
       "      <td>0.094081</td>\n",
       "    </tr>\n",
       "    <tr>\n",
       "      <th>pod_global_mean</th>\n",
       "      <td>1.185976</td>\n",
       "      <td>0.785805</td>\n",
       "      <td>0.020607</td>\n",
       "      <td>0.072473</td>\n",
       "    </tr>\n",
       "    <tr>\n",
       "      <th>mdl_global_mean</th>\n",
       "      <td>1.830655</td>\n",
       "      <td>1.400377</td>\n",
       "      <td>0.031582</td>\n",
       "      <td>0.170210</td>\n",
       "    </tr>\n",
       "  </tbody>\n",
       "</table>\n",
       "</div>"
      ],
      "text/plain": [
       "                 test_rmse  test_mae  fit_time  test_time\n",
       "mdl_acting_SVD    1.258419  0.882337  3.454425   0.428188\n",
       "mdl_story_SVD     1.499345  1.084395  4.176495   0.263630\n",
       "mdl_mean_SVD      1.358417  0.999815  2.775909   0.250330\n",
       "pod_SVD           1.044225  0.605218  1.754307   0.096075\n",
       "pod_all_10        2.735204  2.098702  0.005983   0.094081\n",
       "pod_global_mean   1.185976  0.785805  0.020607   0.072473\n",
       "mdl_global_mean   1.830655  1.400377  0.031582   0.170210"
      ]
     },
     "execution_count": 477,
     "metadata": {},
     "output_type": "execute_result"
    }
   ],
   "source": [
    "all_algo = pd.concat([a,b,c,d,e,f,g], axis = 0)\n",
    "all_algo"
   ]
  },
  {
   "cell_type": "code",
   "execution_count": 478,
   "metadata": {},
   "outputs": [
    {
     "data": {
      "text/html": [
       "<div>\n",
       "<style scoped>\n",
       "    .dataframe tbody tr th:only-of-type {\n",
       "        vertical-align: middle;\n",
       "    }\n",
       "\n",
       "    .dataframe tbody tr th {\n",
       "        vertical-align: top;\n",
       "    }\n",
       "\n",
       "    .dataframe thead th {\n",
       "        text-align: right;\n",
       "    }\n",
       "</style>\n",
       "<table border=\"1\" class=\"dataframe\">\n",
       "  <thead>\n",
       "    <tr style=\"text-align: right;\">\n",
       "      <th></th>\n",
       "      <th>test_rmse</th>\n",
       "      <th>test_mae</th>\n",
       "      <th>fit_time</th>\n",
       "      <th>test_time</th>\n",
       "    </tr>\n",
       "  </thead>\n",
       "  <tbody>\n",
       "    <tr>\n",
       "      <th>mdl_global_mean</th>\n",
       "      <td>1.830655</td>\n",
       "      <td>1.400377</td>\n",
       "      <td>0.031582</td>\n",
       "      <td>0.170210</td>\n",
       "    </tr>\n",
       "    <tr>\n",
       "      <th>mdl_acting_SVD</th>\n",
       "      <td>1.258419</td>\n",
       "      <td>0.882337</td>\n",
       "      <td>3.454425</td>\n",
       "      <td>0.428188</td>\n",
       "    </tr>\n",
       "  </tbody>\n",
       "</table>\n",
       "</div>"
      ],
      "text/plain": [
       "                 test_rmse  test_mae  fit_time  test_time\n",
       "mdl_global_mean   1.830655  1.400377  0.031582   0.170210\n",
       "mdl_acting_SVD    1.258419  0.882337  3.454425   0.428188"
      ]
     },
     "execution_count": 478,
     "metadata": {},
     "output_type": "execute_result"
    }
   ],
   "source": [
    "all_algo.loc[['mdl_global_mean', 'mdl_acting_SVD']]"
   ]
  },
  {
   "cell_type": "code",
   "execution_count": null,
   "metadata": {},
   "outputs": [],
   "source": []
  },
  {
   "cell_type": "code",
   "execution_count": 479,
   "metadata": {},
   "outputs": [
    {
     "data": {
      "text/html": [
       "<div>\n",
       "<style scoped>\n",
       "    .dataframe tbody tr th:only-of-type {\n",
       "        vertical-align: middle;\n",
       "    }\n",
       "\n",
       "    .dataframe tbody tr th {\n",
       "        vertical-align: top;\n",
       "    }\n",
       "\n",
       "    .dataframe thead th {\n",
       "        text-align: right;\n",
       "    }\n",
       "</style>\n",
       "<table border=\"1\" class=\"dataframe\">\n",
       "  <thead>\n",
       "    <tr style=\"text-align: right;\">\n",
       "      <th></th>\n",
       "      <th>test_rmse</th>\n",
       "      <th>test_mae</th>\n",
       "      <th>fit_time</th>\n",
       "      <th>test_time</th>\n",
       "    </tr>\n",
       "  </thead>\n",
       "  <tbody>\n",
       "    <tr>\n",
       "      <th>pod_global_mean</th>\n",
       "      <td>1.185976</td>\n",
       "      <td>0.785805</td>\n",
       "      <td>0.020607</td>\n",
       "      <td>0.072473</td>\n",
       "    </tr>\n",
       "    <tr>\n",
       "      <th>pod_SVD</th>\n",
       "      <td>1.044225</td>\n",
       "      <td>0.605218</td>\n",
       "      <td>1.754307</td>\n",
       "      <td>0.096075</td>\n",
       "    </tr>\n",
       "  </tbody>\n",
       "</table>\n",
       "</div>"
      ],
      "text/plain": [
       "                 test_rmse  test_mae  fit_time  test_time\n",
       "pod_global_mean   1.185976  0.785805  0.020607   0.072473\n",
       "pod_SVD           1.044225  0.605218  1.754307   0.096075"
      ]
     },
     "execution_count": 479,
     "metadata": {},
     "output_type": "execute_result"
    }
   ],
   "source": [
    "all_algo.loc[['pod_global_mean', 'pod_SVD']]"
   ]
  },
  {
   "cell_type": "markdown",
   "metadata": {},
   "source": [
    "mdl과 다르게 pod은 바보같아 보이는 global_mean을 적용하나 똑똑한 SVD를 적용하나 error의 차이가 크지 않아요.<br>\n",
    "애초에 데이터가 10점에 몰려있으니 그게 그거겟죠? <br>\n",
    "**그러면 우리는 팟빵의 오디오북 퀄리티가 높아서 이런 결과가 나왔다고 할 수 있을까?**<br>\n",
    "### 놉"
   ]
  },
  {
   "cell_type": "code",
   "execution_count": 480,
   "metadata": {},
   "outputs": [
    {
     "data": {
      "text/plain": [
       "0.0"
      ]
     },
     "execution_count": 480,
     "metadata": {},
     "output_type": "execute_result"
    }
   ],
   "source": [
    "all_algo.iloc[6,0] - all_algo.iloc[6,0]"
   ]
  },
  {
   "cell_type": "code",
   "execution_count": 221,
   "metadata": {},
   "outputs": [
    {
     "data": {
      "text/html": [
       "<div>\n",
       "<style scoped>\n",
       "    .dataframe tbody tr th:only-of-type {\n",
       "        vertical-align: middle;\n",
       "    }\n",
       "\n",
       "    .dataframe tbody tr th {\n",
       "        vertical-align: top;\n",
       "    }\n",
       "\n",
       "    .dataframe thead th {\n",
       "        text-align: right;\n",
       "    }\n",
       "</style>\n",
       "<table border=\"1\" class=\"dataframe\">\n",
       "  <thead>\n",
       "    <tr style=\"text-align: right;\">\n",
       "      <th></th>\n",
       "      <th>test_rmse</th>\n",
       "      <th>test_mae</th>\n",
       "      <th>fit_time</th>\n",
       "      <th>test_time</th>\n",
       "    </tr>\n",
       "  </thead>\n",
       "  <tbody>\n",
       "    <tr>\n",
       "      <th>mdl_acting_SVD</th>\n",
       "      <td>1.260538</td>\n",
       "      <td>0.884254</td>\n",
       "      <td>3.702428</td>\n",
       "      <td>0.355718</td>\n",
       "    </tr>\n",
       "    <tr>\n",
       "      <th>mdl_story_SVD</th>\n",
       "      <td>1.499974</td>\n",
       "      <td>1.084920</td>\n",
       "      <td>2.927170</td>\n",
       "      <td>0.244683</td>\n",
       "    </tr>\n",
       "    <tr>\n",
       "      <th>mdl_mean_SVD</th>\n",
       "      <td>1.362060</td>\n",
       "      <td>1.000769</td>\n",
       "      <td>2.817463</td>\n",
       "      <td>0.176194</td>\n",
       "    </tr>\n",
       "    <tr>\n",
       "      <th>pod_SVD</th>\n",
       "      <td>1.047612</td>\n",
       "      <td>0.605319</td>\n",
       "      <td>1.642606</td>\n",
       "      <td>0.143283</td>\n",
       "    </tr>\n",
       "    <tr>\n",
       "      <th>pod_all_10</th>\n",
       "      <td>2.735595</td>\n",
       "      <td>2.098703</td>\n",
       "      <td>0.003991</td>\n",
       "      <td>0.085447</td>\n",
       "    </tr>\n",
       "    <tr>\n",
       "      <th>pod_global_mean</th>\n",
       "      <td>1.186410</td>\n",
       "      <td>0.786285</td>\n",
       "      <td>0.012964</td>\n",
       "      <td>0.043550</td>\n",
       "    </tr>\n",
       "    <tr>\n",
       "      <th>mdl_global_mean</th>\n",
       "      <td>1.830818</td>\n",
       "      <td>1.400521</td>\n",
       "      <td>0.018617</td>\n",
       "      <td>0.101727</td>\n",
       "    </tr>\n",
       "  </tbody>\n",
       "</table>\n",
       "</div>"
      ],
      "text/plain": [
       "                 test_rmse  test_mae  fit_time  test_time\n",
       "mdl_acting_SVD    1.260538  0.884254  3.702428   0.355718\n",
       "mdl_story_SVD     1.499974  1.084920  2.927170   0.244683\n",
       "mdl_mean_SVD      1.362060  1.000769  2.817463   0.176194\n",
       "pod_SVD           1.047612  0.605319  1.642606   0.143283\n",
       "pod_all_10        2.735595  2.098703  0.003991   0.085447\n",
       "pod_global_mean   1.186410  0.786285  0.012964   0.043550\n",
       "mdl_global_mean   1.830818  1.400521  0.018617   0.101727"
      ]
     },
     "execution_count": 221,
     "metadata": {},
     "output_type": "execute_result"
    }
   ],
   "source": [
    "all_algo"
   ]
  },
  {
   "cell_type": "markdown",
   "metadata": {},
   "source": [
    "# 2020-11-30의 시도들"
   ]
  },
  {
   "cell_type": "markdown",
   "metadata": {},
   "source": [
    "## 데이터 정리"
   ]
  },
  {
   "cell_type": "code",
   "execution_count": 263,
   "metadata": {},
   "outputs": [
    {
     "data": {
      "text/html": [
       "<div>\n",
       "<style scoped>\n",
       "    .dataframe tbody tr th:only-of-type {\n",
       "        vertical-align: middle;\n",
       "    }\n",
       "\n",
       "    .dataframe tbody tr th {\n",
       "        vertical-align: top;\n",
       "    }\n",
       "\n",
       "    .dataframe thead th {\n",
       "        text-align: right;\n",
       "    }\n",
       "</style>\n",
       "<table border=\"1\" class=\"dataframe\">\n",
       "  <thead>\n",
       "    <tr style=\"text-align: right;\">\n",
       "      <th></th>\n",
       "      <th>nickname</th>\n",
       "      <th>rating</th>\n",
       "      <th>title</th>\n",
       "      <th>voice</th>\n",
       "      <th>author</th>\n",
       "      <th>review</th>\n",
       "      <th>created</th>\n",
       "      <th>publish</th>\n",
       "      <th>genre</th>\n",
       "      <th>read_by</th>\n",
       "    </tr>\n",
       "  </thead>\n",
       "  <tbody>\n",
       "    <tr>\n",
       "      <th>15452</th>\n",
       "      <td>kwonjkim</td>\n",
       "      <td>9.0</td>\n",
       "      <td>까칠한 아이(성우 낭독 버전)</td>\n",
       "      <td>김하루,김유림,가빈,박민기</td>\n",
       "      <td>남찬숙</td>\n",
       "      <td>아주좋아요</td>\n",
       "      <td>2019.09.08</td>\n",
       "      <td>NaN</td>\n",
       "      <td>어린이동화</td>\n",
       "      <td>celeb</td>\n",
       "    </tr>\n",
       "  </tbody>\n",
       "</table>\n",
       "</div>"
      ],
      "text/plain": [
       "       nickname  rating             title           voice author review  \\\n",
       "15452  kwonjkim     9.0  까칠한 아이(성우 낭독 버전)  김하루,김유림,가빈,박민기    남찬숙  아주좋아요   \n",
       "\n",
       "          created publish  genre read_by  \n",
       "15452  2019.09.08     NaN  어린이동화   celeb  "
      ]
     },
     "execution_count": 263,
     "metadata": {},
     "output_type": "execute_result"
    }
   ],
   "source": [
    "all_review.sample()"
   ]
  },
  {
   "cell_type": "code",
   "execution_count": 264,
   "metadata": {},
   "outputs": [],
   "source": [
    "pivot_review = all_review.pivot_table(index= 'nickname', columns = 'title', values = 'rating')"
   ]
  },
  {
   "cell_type": "code",
   "execution_count": 265,
   "metadata": {},
   "outputs": [
    {
     "name": "stdout",
     "output_type": "stream",
     "text": [
      "데이터 sparsity : 0.9821065975223279\n"
     ]
    }
   ],
   "source": [
    "#sparsity\n",
    "print(f\"데이터 sparsity : {1 - (pivot_review.count().sum() / (pivot_review.shape[0]*pivot_review.shape[1]))}\")"
   ]
  },
  {
   "cell_type": "code",
   "execution_count": 296,
   "metadata": {},
   "outputs": [
    {
     "data": {
      "text/html": [
       "<div>\n",
       "<style scoped>\n",
       "    .dataframe tbody tr th:only-of-type {\n",
       "        vertical-align: middle;\n",
       "    }\n",
       "\n",
       "    .dataframe tbody tr th {\n",
       "        vertical-align: top;\n",
       "    }\n",
       "\n",
       "    .dataframe thead th {\n",
       "        text-align: right;\n",
       "    }\n",
       "</style>\n",
       "<table border=\"1\" class=\"dataframe\">\n",
       "  <thead>\n",
       "    <tr style=\"text-align: right;\">\n",
       "      <th></th>\n",
       "      <th>nickname</th>\n",
       "      <th>title</th>\n",
       "      <th>rating</th>\n",
       "    </tr>\n",
       "  </thead>\n",
       "  <tbody>\n",
       "    <tr>\n",
       "      <th>5252</th>\n",
       "      <td>방눌이</td>\n",
       "      <td>[공포괴담집] 저승에서 돌아온 남자</td>\n",
       "      <td>10.0</td>\n",
       "    </tr>\n",
       "    <tr>\n",
       "      <th>5568</th>\n",
       "      <td>별그리고별</td>\n",
       "      <td>[한예리 낭독] 안락 _ 작은책</td>\n",
       "      <td>10.0</td>\n",
       "    </tr>\n",
       "    <tr>\n",
       "      <th>11981</th>\n",
       "      <td>리틀축구감독</td>\n",
       "      <td>초등 감정 사용법</td>\n",
       "      <td>10.0</td>\n",
       "    </tr>\n",
       "  </tbody>\n",
       "</table>\n",
       "</div>"
      ],
      "text/plain": [
       "      nickname                title  rating\n",
       "5252       방눌이  [공포괴담집] 저승에서 돌아온 남자    10.0\n",
       "5568     별그리고별    [한예리 낭독] 안락 _ 작은책    10.0\n",
       "11981   리틀축구감독            초등 감정 사용법    10.0"
      ]
     },
     "execution_count": 296,
     "metadata": {},
     "output_type": "execute_result"
    }
   ],
   "source": [
    "rate = all_review[['nickname', 'title', 'rating']]\n",
    "rate.sample(3)"
   ]
  },
  {
   "cell_type": "code",
   "execution_count": 297,
   "metadata": {},
   "outputs": [
    {
     "data": {
      "text/html": [
       "<div>\n",
       "<style scoped>\n",
       "    .dataframe tbody tr th:only-of-type {\n",
       "        vertical-align: middle;\n",
       "    }\n",
       "\n",
       "    .dataframe tbody tr th {\n",
       "        vertical-align: top;\n",
       "    }\n",
       "\n",
       "    .dataframe thead th {\n",
       "        text-align: right;\n",
       "    }\n",
       "</style>\n",
       "<table border=\"1\" class=\"dataframe\">\n",
       "  <thead>\n",
       "    <tr style=\"text-align: right;\">\n",
       "      <th></th>\n",
       "      <th>user</th>\n",
       "      <th>title</th>\n",
       "      <th>rating</th>\n",
       "      <th>usr_id</th>\n",
       "      <th>ttl_id</th>\n",
       "    </tr>\n",
       "  </thead>\n",
       "  <tbody>\n",
       "    <tr>\n",
       "      <th>8048</th>\n",
       "      <td>차군아커피</td>\n",
       "      <td>빨강머리 앤 : 초록지붕 집 이야기</td>\n",
       "      <td>9.0</td>\n",
       "      <td>910</td>\n",
       "      <td>83</td>\n",
       "    </tr>\n",
       "  </tbody>\n",
       "</table>\n",
       "</div>"
      ],
      "text/plain": [
       "       user                title  rating  usr_id  ttl_id\n",
       "8048  차군아커피  빨강머리 앤 : 초록지붕 집 이야기     9.0     910      83"
      ]
     },
     "execution_count": 297,
     "metadata": {},
     "output_type": "execute_result"
    }
   ],
   "source": [
    "user_df = pd.DataFrame(list(rate.nickname\t.unique()), columns = ['nickname'])\n",
    "user_df['usr_id'] = random.sample(range(1,len(user_df)+1), len(user_df))\n",
    "\n",
    "title_df = pd.DataFrame(list(rate.title.unique()), columns = ['title'])\n",
    "title_df['ttl_id'] = random.sample(range(1,len(title_df)+1), len(title_df))\n",
    "\n",
    "rate = rate.merge(user_df, how = 'left' )\n",
    "rate = rate.merge(title_df, how = 'left' )\n",
    "rate.columns = ['user', 'title', 'rating', 'usr_id', 'ttl_id']\n",
    "rate.sample()"
   ]
  },
  {
   "cell_type": "markdown",
   "metadata": {},
   "source": [
    "## 예측하고 검증하기 (for heavy user)"
   ]
  },
  {
   "cell_type": "code",
   "execution_count": 377,
   "metadata": {},
   "outputs": [],
   "source": [
    "heavy_user = list(review_count[review_count['rating'] >= 12].index)"
   ]
  },
  {
   "cell_type": "code",
   "execution_count": 423,
   "metadata": {},
   "outputs": [
    {
     "data": {
      "text/html": [
       "<div>\n",
       "<style scoped>\n",
       "    .dataframe tbody tr th:only-of-type {\n",
       "        vertical-align: middle;\n",
       "    }\n",
       "\n",
       "    .dataframe tbody tr th {\n",
       "        vertical-align: top;\n",
       "    }\n",
       "\n",
       "    .dataframe thead th {\n",
       "        text-align: right;\n",
       "    }\n",
       "</style>\n",
       "<table border=\"1\" class=\"dataframe\">\n",
       "  <thead>\n",
       "    <tr style=\"text-align: right;\">\n",
       "      <th></th>\n",
       "      <th>user</th>\n",
       "      <th>title</th>\n",
       "      <th>rating</th>\n",
       "      <th>usr_id</th>\n",
       "      <th>ttl_id</th>\n",
       "    </tr>\n",
       "  </thead>\n",
       "  <tbody>\n",
       "    <tr>\n",
       "      <th>963</th>\n",
       "      <td>꿈을먹는아이</td>\n",
       "      <td>좀머 씨 이야기</td>\n",
       "      <td>10.0</td>\n",
       "      <td>1854</td>\n",
       "      <td>172</td>\n",
       "    </tr>\n",
       "  </tbody>\n",
       "</table>\n",
       "</div>"
      ],
      "text/plain": [
       "       user     title  rating  usr_id  ttl_id\n",
       "963  꿈을먹는아이  좀머 씨 이야기    10.0    1854     172"
      ]
     },
     "execution_count": 423,
     "metadata": {},
     "output_type": "execute_result"
    }
   ],
   "source": [
    "rate.sample()"
   ]
  },
  {
   "cell_type": "code",
   "execution_count": 426,
   "metadata": {},
   "outputs": [
    {
     "data": {
      "text/html": [
       "<div>\n",
       "<style scoped>\n",
       "    .dataframe tbody tr th:only-of-type {\n",
       "        vertical-align: middle;\n",
       "    }\n",
       "\n",
       "    .dataframe tbody tr th {\n",
       "        vertical-align: top;\n",
       "    }\n",
       "\n",
       "    .dataframe thead th {\n",
       "        text-align: right;\n",
       "    }\n",
       "</style>\n",
       "<table border=\"1\" class=\"dataframe\">\n",
       "  <thead>\n",
       "    <tr style=\"text-align: right;\">\n",
       "      <th></th>\n",
       "      <th>uid</th>\n",
       "      <th>iid</th>\n",
       "      <th>rui</th>\n",
       "      <th>est</th>\n",
       "      <th>details</th>\n",
       "      <th>Iu</th>\n",
       "      <th>Ui</th>\n",
       "      <th>err</th>\n",
       "    </tr>\n",
       "  </thead>\n",
       "  <tbody>\n",
       "    <tr>\n",
       "      <th>2875</th>\n",
       "      <td>bombi</td>\n",
       "      <td>100인의 배우, 우리 문학을 읽다</td>\n",
       "      <td>10.0</td>\n",
       "      <td>8.207686</td>\n",
       "      <td>{'was_impossible': False}</td>\n",
       "      <td>0</td>\n",
       "      <td>72</td>\n",
       "      <td>1.792314</td>\n",
       "    </tr>\n",
       "    <tr>\n",
       "      <th>4964</th>\n",
       "      <td>리버피닉스93</td>\n",
       "      <td>사기를 읽다</td>\n",
       "      <td>10.0</td>\n",
       "      <td>9.502224</td>\n",
       "      <td>{'was_impossible': False}</td>\n",
       "      <td>1</td>\n",
       "      <td>119</td>\n",
       "      <td>0.497776</td>\n",
       "    </tr>\n",
       "    <tr>\n",
       "      <th>2449</th>\n",
       "      <td>마임</td>\n",
       "      <td>[청하 낭독] 환한 밤 (단편)</td>\n",
       "      <td>9.0</td>\n",
       "      <td>9.472841</td>\n",
       "      <td>{'was_impossible': False}</td>\n",
       "      <td>42</td>\n",
       "      <td>41</td>\n",
       "      <td>0.472841</td>\n",
       "    </tr>\n",
       "  </tbody>\n",
       "</table>\n",
       "</div>"
      ],
      "text/plain": [
       "          uid                  iid   rui       est                    details  \\\n",
       "2875    bombi  100인의 배우, 우리 문학을 읽다  10.0  8.207686  {'was_impossible': False}   \n",
       "4964  리버피닉스93               사기를 읽다  10.0  9.502224  {'was_impossible': False}   \n",
       "2449       마임    [청하 낭독] 환한 밤 (단편)   9.0  9.472841  {'was_impossible': False}   \n",
       "\n",
       "      Iu   Ui       err  \n",
       "2875   0   72  1.792314  \n",
       "4964   1  119  0.497776  \n",
       "2449  42   41  0.472841  "
      ]
     },
     "execution_count": 426,
     "metadata": {},
     "output_type": "execute_result"
    }
   ],
   "source": [
    "reader = Reader(rating_scale=(1, 10))\n",
    "data = Dataset.load_from_df(rate[['user', 'title', 'rating']], reader)\n",
    "\n",
    "# Build an algorithm, and train it.\n",
    "algo = SVD()\n",
    "\n",
    "kf = KFold(n_splits=3)\n",
    "\n",
    "for trainset, testset in kf.split(data):\n",
    "    # train and test algorithm.\n",
    "    algo.fit(trainset)\n",
    "    predictions = algo.test(testset)\n",
    "\n",
    "df = pd.DataFrame(predictions, columns=['uid', 'iid', 'rui', 'est', 'details'])    \n",
    "df['Iu'] = df.uid.apply(get_Iu)\n",
    "df['Ui'] = df.iid.apply(get_Ui)\n",
    "df['err'] = abs(df.est - df.rui)\n",
    "df.sample(3)"
   ]
  },
  {
   "cell_type": "code",
   "execution_count": 442,
   "metadata": {},
   "outputs": [],
   "source": [
    "from sklearn.metrics import mean_squared_error"
   ]
  },
  {
   "cell_type": "code",
   "execution_count": 445,
   "metadata": {},
   "outputs": [
    {
     "data": {
      "text/plain": [
       "0.8228289694122438"
      ]
     },
     "execution_count": 445,
     "metadata": {},
     "output_type": "execute_result"
    }
   ],
   "source": [
    "y_true = df[df['uid'].isin(heavy_user)]['rui']\n",
    "y_pred = df[df['uid'].isin(heavy_user)]['est']\n",
    "RMSE = mean_squared_error(y_true, y_pred)**0.5\n",
    "RMSE"
   ]
  }
 ],
 "metadata": {
  "kernelspec": {
   "display_name": "Python 3",
   "language": "python",
   "name": "python3"
  },
  "language_info": {
   "codemirror_mode": {
    "name": "ipython",
    "version": 3
   },
   "file_extension": ".py",
   "mimetype": "text/x-python",
   "name": "python",
   "nbconvert_exporter": "python",
   "pygments_lexer": "ipython3",
   "version": "3.7.4"
  },
  "toc": {
   "base_numbering": 1,
   "nav_menu": {},
   "number_sections": true,
   "sideBar": true,
   "skip_h1_title": false,
   "title_cell": "Table of Contents",
   "title_sidebar": "Contents",
   "toc_cell": false,
   "toc_position": {
    "height": "calc(100% - 180px)",
    "left": "10px",
    "top": "150px",
    "width": "180px"
   },
   "toc_section_display": true,
   "toc_window_display": true
  }
 },
 "nbformat": 4,
 "nbformat_minor": 2
}
