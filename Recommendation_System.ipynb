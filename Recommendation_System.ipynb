{
 "cells": [
  {
   "cell_type": "markdown",
   "metadata": {},
   "source": [
    "# table of contents\n",
    "[1. 필요한 파일 불러오기 및 정리](#bullet1)<br>\n",
    "[2. 데이터 EDA](#bullet2)<br>\n",
    "[3. Prediction With Surprise](#bullet3)<br>"
   ]
  },
  {
   "cell_type": "markdown",
   "metadata": {},
   "source": [
    "# 1. 필요한 파일 불러오기 및 정리<a class=\"anchor\" id=\"bullet1\"></a>\n"
   ]
  },
  {
   "cell_type": "code",
   "execution_count": 25,
   "metadata": {},
   "outputs": [],
   "source": [
    "from scipy.stats import pearsonr\n",
    "from datetime import datetime\n",
    "import pandas as pd\n",
    "import numpy as np\n",
    "import seaborn as sns\n",
    "import os\n",
    "import random\n",
    "import matplotlib\n",
    "import matplotlib.pyplot as plt\n",
    "from scipy import sparse\n",
    "from sklearn.metrics.pairwise import cosine_similarity\n",
    "from sklearn.metrics import mean_squared_error\n",
    "%matplotlib inline"
   ]
  },
  {
   "cell_type": "code",
   "execution_count": 191,
   "metadata": {},
   "outputs": [],
   "source": [
    "all_review = pd.read_csv('data/댓글합.csv', index_col = False)\n",
    "all_book = pd.read_csv('data/전체합.csv', index_col = False)\n"
   ]
  },
  {
   "cell_type": "code",
   "execution_count": 12,
   "metadata": {},
   "outputs": [],
   "source": [
    "# df = raw[['nickname', 'title',  'rating']]\n",
    "\n",
    "# df.sample(5)"
   ]
  },
  {
   "cell_type": "markdown",
   "metadata": {},
   "source": [
    "## 1.1 title_df, user_df 만들기<a class=\"anchor\" id=\"bullet1.1\"></a>"
   ]
  },
  {
   "cell_type": "code",
   "execution_count": 13,
   "metadata": {},
   "outputs": [],
   "source": [
    "# user_df = pd.DataFrame(list(df.nickname\t.unique()), columns = ['nickname'])\n",
    "# user_df['usr_id'] = random.sample(range(1,len(user_df)+1), len(user_df))\n",
    "\n",
    "# title_df = pd.DataFrame(list(df.title.unique()), columns = ['title'])\n",
    "# title_df['ttl_id'] = random.sample(range(1,len(title_df)+1), len(title_df))\n",
    "\n",
    "# df = df.merge(user_df, how = 'left' )\n",
    "# df = df.merge(title_df, how = 'left' )\n",
    "# df.columns = ['user', 'title', 'rating', 'usr_id', 'ttl_id']\n",
    "# df.sample()"
   ]
  },
  {
   "cell_type": "code",
   "execution_count": 14,
   "metadata": {},
   "outputs": [],
   "source": [
    "# pivot_df = df.pivot_table('rating', index = 'user', columns = 'title')\n",
    "# pivot_df.sample(4)"
   ]
  },
  {
   "cell_type": "markdown",
   "metadata": {},
   "source": [
    "### 어떤 책이 폎ㅇ점이 높은지\n",
    "### 회귀분석...!\n",
    "추천시스템의 문제는 왜 추천했는지를 모른다는것!\n",
    "고생을했는데 티가안난다는 문제\n",
    "1. 팟빵에 추천시스템을 도입한다면...\n",
    "2. 실패하면.. 약팔기 -> 사람들의 취향이 의외로 다양하지 않다! 의외로 취향이 균일해서 개인화 추천이 필요하지 않다! 이때 그 사람들의 취향이 어떤지 EDA로 보여주기\n"
   ]
  },
  {
   "cell_type": "markdown",
   "metadata": {},
   "source": [
    "# 2. 데이터 EDA<a class=\"anchor\" id=\"bullet2\"></a>"
   ]
  },
  {
   "cell_type": "markdown",
   "metadata": {},
   "source": [
    "### 유명인이 읽어주는 경우 vs 작가가 읽어주는 경우 vs 일반성우"
   ]
  },
  {
   "cell_type": "markdown",
   "metadata": {},
   "source": [
    "null값을 찾자"
   ]
  },
  {
   "cell_type": "code",
   "execution_count": 322,
   "metadata": {},
   "outputs": [
    {
     "name": "stdout",
     "output_type": "stream",
     "text": [
      "전체 책 수는 : 1719\n"
     ]
    }
   ],
   "source": [
    "print(f\"전체 책 수는 : {len(all_book.title.unique())}\")"
   ]
  },
  {
   "cell_type": "code",
   "execution_count": 193,
   "metadata": {},
   "outputs": [
    {
     "data": {
      "text/plain": [
       "array(['우리나라 삼국지 5권', '[김동식 단편] 흐르는 물이 되어', '100인의 배우, 우리 문학을 읽다'],\n",
       "      dtype=object)"
      ]
     },
     "execution_count": 193,
     "metadata": {},
     "output_type": "execute_result"
    }
   ],
   "source": [
    "# 작가가 없는 책 찾기\n",
    "all_book[all_book['author'].isnull()].title.unique()"
   ]
  },
  {
   "cell_type": "markdown",
   "metadata": {},
   "source": [
    "[페이지](http://m.podbbang.com/audiobook/channel?id=1769055)를 들어가보면 목차 안으로 들어가야 각 책의 제목, 목소리, 작가를 알 수 있음 <br>\n",
    "그런데 이 목차 안의 콘텐츠를 따로 빼서 제공하는 중이기도 함"
   ]
  },
  {
   "cell_type": "code",
   "execution_count": 194,
   "metadata": {},
   "outputs": [
    {
     "data": {
      "text/html": [
       "<div>\n",
       "<style scoped>\n",
       "    .dataframe tbody tr th:only-of-type {\n",
       "        vertical-align: middle;\n",
       "    }\n",
       "\n",
       "    .dataframe tbody tr th {\n",
       "        vertical-align: top;\n",
       "    }\n",
       "\n",
       "    .dataframe thead th {\n",
       "        text-align: right;\n",
       "    }\n",
       "</style>\n",
       "<table border=\"1\" class=\"dataframe\">\n",
       "  <thead>\n",
       "    <tr style=\"text-align: right;\">\n",
       "      <th></th>\n",
       "      <th>Unnamed: 0</th>\n",
       "      <th>title</th>\n",
       "      <th>voice</th>\n",
       "      <th>author</th>\n",
       "      <th>publish</th>\n",
       "      <th>genre</th>\n",
       "    </tr>\n",
       "  </thead>\n",
       "  <tbody>\n",
       "    <tr>\n",
       "      <th>724</th>\n",
       "      <td>724</td>\n",
       "      <td>길해연이 읽는 양귀자의 원미동 시인</td>\n",
       "      <td>길해연</td>\n",
       "      <td>양귀자</td>\n",
       "      <td>커뮤니케이션북스</td>\n",
       "      <td>오디오북스</td>\n",
       "    </tr>\n",
       "  </tbody>\n",
       "</table>\n",
       "</div>"
      ],
      "text/plain": [
       "     Unnamed: 0                title voice author   publish  genre\n",
       "724         724  길해연이 읽는 양귀자의 원미동 시인   길해연    양귀자  커뮤니케이션북스  오디오북스"
      ]
     },
     "execution_count": 194,
     "metadata": {},
     "output_type": "execute_result"
    }
   ],
   "source": [
    "all_book[all_book['title'].str.contains('원미동')]"
   ]
  },
  {
   "cell_type": "markdown",
   "metadata": {},
   "source": [
    "그러면 이 오디오북 시리즈에 대한 리뷰 따로, 특정 책에 대한 리뷰는 따로 해야할 듯"
   ]
  },
  {
   "cell_type": "code",
   "execution_count": 205,
   "metadata": {},
   "outputs": [
    {
     "name": "stdout",
     "output_type": "stream",
     "text": [
      "전체 책 수는 : 1719\n",
      "voice가 없는 책 수는 : 846\n"
     ]
    }
   ],
   "source": [
    "# voice가 없는 책 찾기\n",
    "print(f\"전체 책 수는 : {len(all_book.title.unique())}\")\n",
    "print(f\"voice가 없는 책 수는 : {len(all_book[all_book['voice'].isnull()].title.unique())}\")"
   ]
  },
  {
   "cell_type": "code",
   "execution_count": null,
   "metadata": {},
   "outputs": [],
   "source": []
  },
  {
   "cell_type": "markdown",
   "metadata": {},
   "source": [
    "voice tag를 구분하자!"
   ]
  },
  {
   "cell_type": "code",
   "execution_count": 206,
   "metadata": {},
   "outputs": [
    {
     "data": {
      "text/html": [
       "<div>\n",
       "<style scoped>\n",
       "    .dataframe tbody tr th:only-of-type {\n",
       "        vertical-align: middle;\n",
       "    }\n",
       "\n",
       "    .dataframe tbody tr th {\n",
       "        vertical-align: top;\n",
       "    }\n",
       "\n",
       "    .dataframe thead th {\n",
       "        text-align: right;\n",
       "    }\n",
       "</style>\n",
       "<table border=\"1\" class=\"dataframe\">\n",
       "  <thead>\n",
       "    <tr style=\"text-align: right;\">\n",
       "      <th></th>\n",
       "      <th>Unnamed: 0</th>\n",
       "      <th>title</th>\n",
       "      <th>voice</th>\n",
       "      <th>author</th>\n",
       "      <th>publish</th>\n",
       "      <th>genre</th>\n",
       "    </tr>\n",
       "  </thead>\n",
       "  <tbody>\n",
       "    <tr>\n",
       "      <th>0</th>\n",
       "      <td>0</td>\n",
       "      <td>매향리, 평화가 오다</td>\n",
       "      <td>이미나</td>\n",
       "      <td>화성시(기획),전혜진(글),김준현(사진)</td>\n",
       "      <td>화성시</td>\n",
       "      <td>소설문학</td>\n",
       "    </tr>\n",
       "    <tr>\n",
       "      <th>1</th>\n",
       "      <td>1</td>\n",
       "      <td>[이유영 낭독] 다정한 유전 _작은책</td>\n",
       "      <td>이유영</td>\n",
       "      <td>강화길</td>\n",
       "      <td>아르테</td>\n",
       "      <td>소설문학</td>\n",
       "    </tr>\n",
       "    <tr>\n",
       "      <th>2</th>\n",
       "      <td>2</td>\n",
       "      <td>저스트 어 모멘트</td>\n",
       "      <td>이나리</td>\n",
       "      <td>이경화</td>\n",
       "      <td>탐</td>\n",
       "      <td>소설문학</td>\n",
       "    </tr>\n",
       "    <tr>\n",
       "      <th>3</th>\n",
       "      <td>3</td>\n",
       "      <td>사춘기라서 그래</td>\n",
       "      <td>조현정</td>\n",
       "      <td>이명랑</td>\n",
       "      <td>탐</td>\n",
       "      <td>소설문학</td>\n",
       "    </tr>\n",
       "    <tr>\n",
       "      <th>4</th>\n",
       "      <td>4</td>\n",
       "      <td>[단편] 헤엄치는 밤</td>\n",
       "      <td>최인영</td>\n",
       "      <td>한유주</td>\n",
       "      <td>미디어창비</td>\n",
       "      <td>소설문학</td>\n",
       "    </tr>\n",
       "    <tr>\n",
       "      <th>...</th>\n",
       "      <td>...</td>\n",
       "      <td>...</td>\n",
       "      <td>...</td>\n",
       "      <td>...</td>\n",
       "      <td>...</td>\n",
       "      <td>...</td>\n",
       "    </tr>\n",
       "    <tr>\n",
       "      <th>1718</th>\n",
       "      <td>1718</td>\n",
       "      <td>땍때굴</td>\n",
       "      <td>NaN</td>\n",
       "      <td>김이구</td>\n",
       "      <td>창비</td>\n",
       "      <td>어린이동화</td>\n",
       "    </tr>\n",
       "    <tr>\n",
       "      <th>1719</th>\n",
       "      <td>1719</td>\n",
       "      <td>꿈틀꿈틀</td>\n",
       "      <td>NaN</td>\n",
       "      <td>김이구</td>\n",
       "      <td>창비</td>\n",
       "      <td>어린이동화</td>\n",
       "    </tr>\n",
       "    <tr>\n",
       "      <th>1720</th>\n",
       "      <td>1720</td>\n",
       "      <td>어린이를 위한 안데르센 영어동화</td>\n",
       "      <td>NaN</td>\n",
       "      <td>한스 크리스티안 안데르센</td>\n",
       "      <td>팟빵북스</td>\n",
       "      <td>어린이동화</td>\n",
       "    </tr>\n",
       "    <tr>\n",
       "      <th>1721</th>\n",
       "      <td>1721</td>\n",
       "      <td>7년 동안의 잠</td>\n",
       "      <td>유경선</td>\n",
       "      <td>박완서</td>\n",
       "      <td>어린이작가정신</td>\n",
       "      <td>어린이동화</td>\n",
       "    </tr>\n",
       "    <tr>\n",
       "      <th>1722</th>\n",
       "      <td>1722</td>\n",
       "      <td>잠자고 싶은 토끼</td>\n",
       "      <td>은정</td>\n",
       "      <td>칼요한포셴엘린</td>\n",
       "      <td>쌤앤파커스</td>\n",
       "      <td>어린이동화</td>\n",
       "    </tr>\n",
       "  </tbody>\n",
       "</table>\n",
       "<p>1723 rows × 6 columns</p>\n",
       "</div>"
      ],
      "text/plain": [
       "      Unnamed: 0                 title voice                  author  publish  \\\n",
       "0              0           매향리, 평화가 오다   이미나  화성시(기획),전혜진(글),김준현(사진)      화성시   \n",
       "1              1  [이유영 낭독] 다정한 유전 _작은책   이유영                     강화길      아르테   \n",
       "2              2             저스트 어 모멘트   이나리                     이경화        탐   \n",
       "3              3              사춘기라서 그래   조현정                     이명랑        탐   \n",
       "4              4           [단편] 헤엄치는 밤   최인영                     한유주    미디어창비   \n",
       "...          ...                   ...   ...                     ...      ...   \n",
       "1718        1718                   땍때굴   NaN                     김이구       창비   \n",
       "1719        1719                  꿈틀꿈틀   NaN                     김이구       창비   \n",
       "1720        1720     어린이를 위한 안데르센 영어동화   NaN           한스 크리스티안 안데르센     팟빵북스   \n",
       "1721        1721              7년 동안의 잠   유경선                     박완서  어린이작가정신   \n",
       "1722        1722             잠자고 싶은 토끼    은정                 칼요한포셴엘린    쌤앤파커스   \n",
       "\n",
       "      genre  \n",
       "0      소설문학  \n",
       "1      소설문학  \n",
       "2      소설문학  \n",
       "3      소설문학  \n",
       "4      소설문학  \n",
       "...     ...  \n",
       "1718  어린이동화  \n",
       "1719  어린이동화  \n",
       "1720  어린이동화  \n",
       "1721  어린이동화  \n",
       "1722  어린이동화  \n",
       "\n",
       "[1723 rows x 6 columns]"
      ]
     },
     "execution_count": 206,
     "metadata": {},
     "output_type": "execute_result"
    }
   ],
   "source": [
    "all_book"
   ]
  },
  {
   "cell_type": "code",
   "execution_count": 209,
   "metadata": {},
   "outputs": [],
   "source": [
    "read_by_none = all_book[all_book['voice'].isnull()]\n",
    "read_by_none = read_by_none.title.unique()\n",
    "read_by_author = list(raw.query('voice == author').title.unique())\n",
    "read_by_celeb = [title for title in titles if (\"낭독\" in title) or (\"읽는\" in title)]\n",
    "read_by_someone = [title for title in titles if title not in read_by_celeb and title not in read_by_author and title not in read_by_none]"
   ]
  },
  {
   "cell_type": "code",
   "execution_count": null,
   "metadata": {},
   "outputs": [],
   "source": []
  },
  {
   "cell_type": "code",
   "execution_count": 257,
   "metadata": {},
   "outputs": [
    {
     "data": {
      "text/html": [
       "<div>\n",
       "<style scoped>\n",
       "    .dataframe tbody tr th:only-of-type {\n",
       "        vertical-align: middle;\n",
       "    }\n",
       "\n",
       "    .dataframe tbody tr th {\n",
       "        vertical-align: top;\n",
       "    }\n",
       "\n",
       "    .dataframe thead th {\n",
       "        text-align: right;\n",
       "    }\n",
       "</style>\n",
       "<table border=\"1\" class=\"dataframe\">\n",
       "  <thead>\n",
       "    <tr style=\"text-align: right;\">\n",
       "      <th></th>\n",
       "      <th>Unnamed: 0</th>\n",
       "      <th>title</th>\n",
       "      <th>voice</th>\n",
       "      <th>author</th>\n",
       "      <th>publish</th>\n",
       "      <th>genre</th>\n",
       "      <th>read_by</th>\n",
       "    </tr>\n",
       "  </thead>\n",
       "  <tbody>\n",
       "    <tr>\n",
       "      <th>906</th>\n",
       "      <td>906</td>\n",
       "      <td>군주론</td>\n",
       "      <td>인공지능성우 타입캐스트</td>\n",
       "      <td>니콜로 마키아벨리</td>\n",
       "      <td>펭귄클래식</td>\n",
       "      <td>인문교양</td>\n",
       "      <td>robot</td>\n",
       "    </tr>\n",
       "    <tr>\n",
       "      <th>1303</th>\n",
       "      <td>1303</td>\n",
       "      <td>[단편] 호랑이 생일</td>\n",
       "      <td>NaN</td>\n",
       "      <td>임선영</td>\n",
       "      <td>창비</td>\n",
       "      <td>어린이동화</td>\n",
       "      <td>robot</td>\n",
       "    </tr>\n",
       "    <tr>\n",
       "      <th>179</th>\n",
       "      <td>179</td>\n",
       "      <td>에도가와 란포 소년탐정단 시리즈 2 - 소년탐정단</td>\n",
       "      <td>김명철</td>\n",
       "      <td>에도가와 란포,역자 문지영</td>\n",
       "      <td>왓북</td>\n",
       "      <td>소설문학</td>\n",
       "      <td>robot</td>\n",
       "    </tr>\n",
       "    <tr>\n",
       "      <th>1712</th>\n",
       "      <td>1712</td>\n",
       "      <td>누구야?</td>\n",
       "      <td>NaN</td>\n",
       "      <td>정순희</td>\n",
       "      <td>창비</td>\n",
       "      <td>어린이동화</td>\n",
       "      <td>robot</td>\n",
       "    </tr>\n",
       "    <tr>\n",
       "      <th>441</th>\n",
       "      <td>441</td>\n",
       "      <td>&lt;테이크아웃 오디오북&gt; 우리집 강아지</td>\n",
       "      <td>낭만서점</td>\n",
       "      <td>김학찬</td>\n",
       "      <td>미메시스</td>\n",
       "      <td>소설문학</td>\n",
       "      <td>robot</td>\n",
       "    </tr>\n",
       "  </tbody>\n",
       "</table>\n",
       "</div>"
      ],
      "text/plain": [
       "      Unnamed: 0                        title         voice          author  \\\n",
       "906          906                          군주론  인공지능성우 타입캐스트       니콜로 마키아벨리   \n",
       "1303        1303                  [단편] 호랑이 생일           NaN             임선영   \n",
       "179          179  에도가와 란포 소년탐정단 시리즈 2 - 소년탐정단           김명철  에도가와 란포,역자 문지영   \n",
       "1712        1712                         누구야?           NaN             정순희   \n",
       "441          441         <테이크아웃 오디오북> 우리집 강아지          낭만서점             김학찬   \n",
       "\n",
       "     publish  genre read_by  \n",
       "906    펭귄클래식   인문교양   robot  \n",
       "1303      창비  어린이동화   robot  \n",
       "179       왓북   소설문학   robot  \n",
       "1712      창비  어린이동화   robot  \n",
       "441     미메시스   소설문학   robot  "
      ]
     },
     "execution_count": 257,
     "metadata": {},
     "output_type": "execute_result"
    }
   ],
   "source": [
    "all_book['read_by'] = \"\"\n",
    "\n",
    "all_book['read_by'] = all_book['title'].apply(lambda x : \"celeb\" if x in read_by_celeb else (\"author\" if x in read_by_author else (\"someone\" if x in read_by_someone else \"robot\")))\n",
    "\n",
    "all_book.sample(5)"
   ]
  },
  {
   "cell_type": "code",
   "execution_count": 124,
   "metadata": {},
   "outputs": [],
   "source": []
  },
  {
   "cell_type": "markdown",
   "metadata": {},
   "source": [
    "### 목소리별 평점 "
   ]
  },
  {
   "cell_type": "code",
   "execution_count": null,
   "metadata": {},
   "outputs": [],
   "source": []
  },
  {
   "cell_type": "code",
   "execution_count": 260,
   "metadata": {},
   "outputs": [
    {
     "data": {
      "text/plain": [
       "count    2007.000000\n",
       "mean       97.897359\n",
       "std         8.351896\n",
       "min        10.000000\n",
       "25%       100.000000\n",
       "50%       100.000000\n",
       "75%       100.000000\n",
       "max       100.000000\n",
       "Name: rating, dtype: float64"
      ]
     },
     "execution_count": 260,
     "metadata": {},
     "output_type": "execute_result"
    }
   ],
   "source": [
    "all_review[all_review['title'].isin(read_by_author)].rating.describe()"
   ]
  },
  {
   "cell_type": "code",
   "execution_count": 261,
   "metadata": {},
   "outputs": [
    {
     "data": {
      "text/plain": [
       "count    4157.000000\n",
       "mean       94.166466\n",
       "std        11.585528\n",
       "min        10.000000\n",
       "25%        90.000000\n",
       "50%       100.000000\n",
       "75%       100.000000\n",
       "max       100.000000\n",
       "Name: rating, dtype: float64"
      ]
     },
     "execution_count": 261,
     "metadata": {},
     "output_type": "execute_result"
    }
   ],
   "source": [
    "all_review[all_review['title'].isin(read_by_celeb)].rating.describe()"
   ]
  },
  {
   "cell_type": "code",
   "execution_count": 262,
   "metadata": {},
   "outputs": [
    {
     "data": {
      "text/plain": [
       "count    7078.000000\n",
       "mean       94.776773\n",
       "std        12.532830\n",
       "min        10.000000\n",
       "25%       100.000000\n",
       "50%       100.000000\n",
       "75%       100.000000\n",
       "max       100.000000\n",
       "Name: rating, dtype: float64"
      ]
     },
     "execution_count": 262,
     "metadata": {},
     "output_type": "execute_result"
    }
   ],
   "source": [
    "all_review[all_review['title'].isin(read_by_someone)].rating.describe()"
   ]
  },
  {
   "cell_type": "code",
   "execution_count": 266,
   "metadata": {},
   "outputs": [],
   "source": [
    "all_review = all_review.merge(all_book[['title', 'read_by']], how='left')"
   ]
  },
  {
   "cell_type": "code",
   "execution_count": 267,
   "metadata": {},
   "outputs": [
    {
     "data": {
      "text/html": [
       "<div>\n",
       "<style scoped>\n",
       "    .dataframe tbody tr th:only-of-type {\n",
       "        vertical-align: middle;\n",
       "    }\n",
       "\n",
       "    .dataframe tbody tr th {\n",
       "        vertical-align: top;\n",
       "    }\n",
       "\n",
       "    .dataframe thead th {\n",
       "        text-align: right;\n",
       "    }\n",
       "</style>\n",
       "<table border=\"1\" class=\"dataframe\">\n",
       "  <thead>\n",
       "    <tr style=\"text-align: right;\">\n",
       "      <th></th>\n",
       "      <th>Unnamed: 0</th>\n",
       "      <th>nickname</th>\n",
       "      <th>rating</th>\n",
       "      <th>title</th>\n",
       "      <th>voice</th>\n",
       "      <th>author</th>\n",
       "      <th>review</th>\n",
       "      <th>created</th>\n",
       "      <th>publish</th>\n",
       "      <th>genre</th>\n",
       "      <th>read_by</th>\n",
       "    </tr>\n",
       "  </thead>\n",
       "  <tbody>\n",
       "    <tr>\n",
       "      <th>0</th>\n",
       "      <td>0</td>\n",
       "      <td>유노창민</td>\n",
       "      <td>100</td>\n",
       "      <td>저스트 어 모멘트</td>\n",
       "      <td>이나리</td>\n",
       "      <td>이경화</td>\n",
       "      <td>잘들었습니다.</td>\n",
       "      <td>2020.11.06</td>\n",
       "      <td>탐</td>\n",
       "      <td>소설문학</td>\n",
       "      <td>someone</td>\n",
       "    </tr>\n",
       "    <tr>\n",
       "      <th>1</th>\n",
       "      <td>1</td>\n",
       "      <td>나이스가이72</td>\n",
       "      <td>100</td>\n",
       "      <td>[단편] 헤엄치는 밤</td>\n",
       "      <td>최인영</td>\n",
       "      <td>한유주</td>\n",
       "      <td>내용 목소리 넘 좋습니다.</td>\n",
       "      <td>2020.10.29</td>\n",
       "      <td>미디어창비</td>\n",
       "      <td>소설문학</td>\n",
       "      <td>someone</td>\n",
       "    </tr>\n",
       "    <tr>\n",
       "      <th>2</th>\n",
       "      <td>2</td>\n",
       "      <td>하브</td>\n",
       "      <td>100</td>\n",
       "      <td>[단편] 헤엄치는 밤</td>\n",
       "      <td>최인영</td>\n",
       "      <td>한유주</td>\n",
       "      <td>완전 내용도 장난 아니게 좋네요!! 그리고 목소리도 너무 좋아 집중해서 잘 들을 수...</td>\n",
       "      <td>2020.10.29</td>\n",
       "      <td>미디어창비</td>\n",
       "      <td>소설문학</td>\n",
       "      <td>someone</td>\n",
       "    </tr>\n",
       "    <tr>\n",
       "      <th>3</th>\n",
       "      <td>3</td>\n",
       "      <td>양수</td>\n",
       "      <td>100</td>\n",
       "      <td>[단편] 헤엄치는 밤</td>\n",
       "      <td>최인영</td>\n",
       "      <td>한유주</td>\n",
       "      <td>빠져드는 목소리입니다^^</td>\n",
       "      <td>2020.10.29</td>\n",
       "      <td>미디어창비</td>\n",
       "      <td>소설문학</td>\n",
       "      <td>someone</td>\n",
       "    </tr>\n",
       "    <tr>\n",
       "      <th>4</th>\n",
       "      <td>4</td>\n",
       "      <td>티씨지는부산더락</td>\n",
       "      <td>100</td>\n",
       "      <td>[단편] 헤엄치는 밤</td>\n",
       "      <td>최인영</td>\n",
       "      <td>한유주</td>\n",
       "      <td>목소리 너무 좋아요</td>\n",
       "      <td>2020.10.28</td>\n",
       "      <td>미디어창비</td>\n",
       "      <td>소설문학</td>\n",
       "      <td>someone</td>\n",
       "    </tr>\n",
       "    <tr>\n",
       "      <th>...</th>\n",
       "      <td>...</td>\n",
       "      <td>...</td>\n",
       "      <td>...</td>\n",
       "      <td>...</td>\n",
       "      <td>...</td>\n",
       "      <td>...</td>\n",
       "      <td>...</td>\n",
       "      <td>...</td>\n",
       "      <td>...</td>\n",
       "      <td>...</td>\n",
       "      <td>...</td>\n",
       "    </tr>\n",
       "    <tr>\n",
       "      <th>15528</th>\n",
       "      <td>15526</td>\n",
       "      <td>후후후크</td>\n",
       "      <td>90</td>\n",
       "      <td>[단편] 햇볕 동동 구리 동동</td>\n",
       "      <td>NaN</td>\n",
       "      <td>윤기현</td>\n",
       "      <td>애들 재울때 들으려고 샀는데\\r\\n아빠가 더 재밌네요 옛날 생각도 나고</td>\n",
       "      <td>2020.01.19</td>\n",
       "      <td>창비</td>\n",
       "      <td>어린이동화</td>\n",
       "      <td>robot</td>\n",
       "    </tr>\n",
       "    <tr>\n",
       "      <th>15529</th>\n",
       "      <td>15527</td>\n",
       "      <td>하루유</td>\n",
       "      <td>10</td>\n",
       "      <td>임진록</td>\n",
       "      <td>NaN</td>\n",
       "      <td>김종광</td>\n",
       "      <td>설마 2시간 8분짜리가 9,900원은 아닌거죠? 구매해서 듣고나니 너무 허무하네요</td>\n",
       "      <td>2019.04.08</td>\n",
       "      <td>창비</td>\n",
       "      <td>어린이동화</td>\n",
       "      <td>robot</td>\n",
       "    </tr>\n",
       "    <tr>\n",
       "      <th>15530</th>\n",
       "      <td>15528</td>\n",
       "      <td>pink9964</td>\n",
       "      <td>90</td>\n",
       "      <td>오세암</td>\n",
       "      <td>NaN</td>\n",
       "      <td>정채봉</td>\n",
       "      <td>영화로 본적 있는데 보는 동안 눈물이 나오는 영화 오디오 북으로도 나왔네요 감동이었어요</td>\n",
       "      <td>2019.04.02</td>\n",
       "      <td>창비</td>\n",
       "      <td>어린이동화</td>\n",
       "      <td>robot</td>\n",
       "    </tr>\n",
       "    <tr>\n",
       "      <th>15531</th>\n",
       "      <td>15529</td>\n",
       "      <td>소민맘</td>\n",
       "      <td>100</td>\n",
       "      <td>마법사 똥맨</td>\n",
       "      <td>NaN</td>\n",
       "      <td>송언</td>\n",
       "      <td>재밌어요</td>\n",
       "      <td>2019.12.19</td>\n",
       "      <td>창비</td>\n",
       "      <td>어린이동화</td>\n",
       "      <td>robot</td>\n",
       "    </tr>\n",
       "    <tr>\n",
       "      <th>15532</th>\n",
       "      <td>15530</td>\n",
       "      <td>유노창민</td>\n",
       "      <td>100</td>\n",
       "      <td>어린이를 위한 안데르센 영어동화</td>\n",
       "      <td>NaN</td>\n",
       "      <td>한스 크리스티안 안데르센</td>\n",
       "      <td>잘들었습니다</td>\n",
       "      <td>2020.11.05</td>\n",
       "      <td>팟빵북스</td>\n",
       "      <td>어린이동화</td>\n",
       "      <td>robot</td>\n",
       "    </tr>\n",
       "  </tbody>\n",
       "</table>\n",
       "<p>15533 rows × 11 columns</p>\n",
       "</div>"
      ],
      "text/plain": [
       "       Unnamed: 0  nickname  rating              title voice         author  \\\n",
       "0               0      유노창민     100          저스트 어 모멘트   이나리            이경화   \n",
       "1               1   나이스가이72     100        [단편] 헤엄치는 밤   최인영            한유주   \n",
       "2               2        하브     100        [단편] 헤엄치는 밤   최인영            한유주   \n",
       "3               3        양수     100        [단편] 헤엄치는 밤   최인영            한유주   \n",
       "4               4  티씨지는부산더락     100        [단편] 헤엄치는 밤   최인영            한유주   \n",
       "...           ...       ...     ...                ...   ...            ...   \n",
       "15528       15526      후후후크      90   [단편] 햇볕 동동 구리 동동   NaN            윤기현   \n",
       "15529       15527       하루유      10                임진록   NaN            김종광   \n",
       "15530       15528  pink9964      90                오세암   NaN            정채봉   \n",
       "15531       15529       소민맘     100             마법사 똥맨   NaN             송언   \n",
       "15532       15530      유노창민     100  어린이를 위한 안데르센 영어동화   NaN  한스 크리스티안 안데르센   \n",
       "\n",
       "                                                  review     created publish  \\\n",
       "0                                                잘들었습니다.  2020.11.06       탐   \n",
       "1                                         내용 목소리 넘 좋습니다.  2020.10.29   미디어창비   \n",
       "2      완전 내용도 장난 아니게 좋네요!! 그리고 목소리도 너무 좋아 집중해서 잘 들을 수...  2020.10.29   미디어창비   \n",
       "3                                          빠져드는 목소리입니다^^  2020.10.29   미디어창비   \n",
       "4                                             목소리 너무 좋아요  2020.10.28   미디어창비   \n",
       "...                                                  ...         ...     ...   \n",
       "15528            애들 재울때 들으려고 샀는데\\r\\n아빠가 더 재밌네요 옛날 생각도 나고  2020.01.19      창비   \n",
       "15529      설마 2시간 8분짜리가 9,900원은 아닌거죠? 구매해서 듣고나니 너무 허무하네요  2019.04.08      창비   \n",
       "15530   영화로 본적 있는데 보는 동안 눈물이 나오는 영화 오디오 북으로도 나왔네요 감동이었어요  2019.04.02      창비   \n",
       "15531                                               재밌어요  2019.12.19      창비   \n",
       "15532                                             잘들었습니다  2020.11.05    팟빵북스   \n",
       "\n",
       "       genre  read_by  \n",
       "0       소설문학  someone  \n",
       "1       소설문학  someone  \n",
       "2       소설문학  someone  \n",
       "3       소설문학  someone  \n",
       "4       소설문학  someone  \n",
       "...      ...      ...  \n",
       "15528  어린이동화    robot  \n",
       "15529  어린이동화    robot  \n",
       "15530  어린이동화    robot  \n",
       "15531  어린이동화    robot  \n",
       "15532  어린이동화    robot  \n",
       "\n",
       "[15533 rows x 11 columns]"
      ]
     },
     "execution_count": 267,
     "metadata": {},
     "output_type": "execute_result"
    }
   ],
   "source": [
    "all_review"
   ]
  },
  {
   "cell_type": "code",
   "execution_count": 285,
   "metadata": {},
   "outputs": [
    {
     "data": {
      "text/plain": [
       "(array([  10.,    6.,    5.,    5.,    9.,   39.,   66.,  279.,  276.,\n",
       "        1594.]),\n",
       " array([ 10.,  19.,  28.,  37.,  46.,  55.,  64.,  73.,  82.,  91., 100.]),\n",
       " <BarContainer object of 10 artists>)"
      ]
     },
     "execution_count": 285,
     "metadata": {},
     "output_type": "execute_result"
    },
    {
     "data": {
      "image/png": "[encoded data removed]",
      "text/plain": [
       "<Figure size 432x288 with 1 Axes>"
      ]
     },
     "metadata": {
      "needs_background": "light"
     },
     "output_type": "display_data"
    }
   ],
   "source": [
    "# 따로 그리고 싶다.. 그러나 한 셀 안에..\n",
    "plt.hist(all_review.query('read_by == \"celeb\"')['rating'], alpha = 0.5, color = \"r\")\n",
    "plt.hist(all_review.query('read_by == \"author\"')['rating'], alpha = 0.5)\n",
    "plt.hist(all_review.query('read_by == \"someone\"')['rating'], alpha = 0.5)\n",
    "plt.hist(all_review.query('read_by == \"robot\"')['rating'], alpha = 0.5)"
   ]
  },
  {
   "cell_type": "code",
   "execution_count": null,
   "metadata": {},
   "outputs": [],
   "source": []
  },
  {
   "cell_type": "code",
   "execution_count": null,
   "metadata": {},
   "outputs": [],
   "source": []
  },
  {
   "cell_type": "code",
   "execution_count": null,
   "metadata": {},
   "outputs": [],
   "source": []
  },
  {
   "cell_type": "code",
   "execution_count": null,
   "metadata": {},
   "outputs": [],
   "source": []
  },
  {
   "cell_type": "code",
   "execution_count": 237,
   "metadata": {},
   "outputs": [
    {
     "data": {
      "text/plain": [
       "array(['잘들었습니다.', '잘들었습니다', '잘 들었습니다', '잘 들었습니다  응원합니다♥♥♥', '잘 들었습니다.',\n",
       "       '가슴에 울리는 내용 잘들었습니다', '잘 들었습니다.\\r\\n좋습니다.',\n",
       "       '목소리가 너무너무 좋으셔서 즐겁게 들었습니더', '잠들어질 정도로 잘들었습니다',\n",
       "       '잘 들었습니다  좋아요   응원합니다♥♥♥', '재미있게 잘 들었습니다',\n",
       "       '너무 좋고 잘들었습니다 또  내었으면 좋겠네요 다음에 기대 하겠습니다 화이팅!!!!!!',\n",
       "       '위저드베이커리 읽었었는데ᆢ잘들었습니다', '너무 잘들었습니다 감사합니다', '잘 들었습니다!!',\n",
       "       '감사합니다 잘들었습니다', '잘들었습니다~', '잠이 깨 새벽에 조용히 들으니 좋으네요\\r\\n잘들었습니다',\n",
       "       '잘들었습니다 목소리좋아서 듣기편하네요  미풍을타는 나비가', '장 들었습니다', '정들었습니다!',\n",
       "       '소여, 좋네요 잘들었습니다', '재밌게 들었습니다', '잘 들었습니다.\\r\\n감사합니다.', '잘들었습니다~~',\n",
       "       '좋네요 잘들었습니다', '잘들었습니다!!', '절 들었습니다\\r\\n감사합니다 ~',\n",
       "       '건강하게 돌아오셔서 다행이네요 \\r\\n재미있게 잘들었습니다', '좋은글 잘들었습니다', '자류들었습니다',\n",
       "       '잘들었습니다 공감가네요', '잘 들었습니다 고맙습니다♥', '재밌게 잘 들었습니다.',\n",
       "       '눈물나네요.ㅠ 정말 절절하게 공감하며 잘 들었습니다,', '잘 들었습니다~^^', '잘들었습니다! 화이팅입니다',\n",
       "       '이 책이 베스트셀러이던 시절에도 안 읽고 지나갔는데 오디오북으로 들으니 편하군요. 잘 들었습니다. 감사해요. 유석 성우님 목소리  차분하니 좋아요. 건강하세요~.',\n",
       "       '잘들었습니다!', '흥미진진하고 재미있게 들었습니다', '좋은 내용 잘들었습니다',\n",
       "       '차분한 목소리라 집중도 잘되고 듣기좋네요.\\r\\n잘 들었습니다.', '잘들었습니다. 목소리가 인상적입니다.',\n",
       "       '듣기 좋은 목소리네요. 잘들었습니다.', '목소리 깔끔하고  잘들었습니다', '잘 들었습니다 감사합니다',\n",
       "       '좋은내용 잘 들었습니다', '재밌습니다. 잘 들었습니다.', '아주 잘 들었습니다', '잘 들었습니다~!',\n",
       "       '재미있게 들었습니다.', '스윗스로우때 좋아하는 분이었는데 잘 들었습니다', '잘 들었습니다~',\n",
       "       '유익한 내용 잘들었습니다.', '잘 들었습니다~~', '좋은 내용 잘 들었습니다', '잘들었습나다~',\n",
       "       '흥미롭습니다. 잘 들었습니다.', '목소리가 좋네요 잘 들었습니다', '추석에ㄹ잘들었습니다',\n",
       "       '잘들었습니다~~~~~~', '좋은 방송 잘 들었습니다', '재미있게 들었습니다', '감사합니다 잘 들었습니다',\n",
       "       '유병재님 잘들었습니다.', '잘 들었습니다~!!', '잘들었습나다', '잘 들었습니다. 웃겨요.',\n",
       "       '잘들었습니다..',\n",
       "       '그냥가기가 미안해서...\\r\\n본 에피소드는 유료 컨텐츠 입니다.를\\r\\n끝까지 들었습니다.\\r\\n머리가 띵하고 구토가 쏠립니다.\\r\\n잘 들었습니다.',\n",
       "       '내용도 참신하고 처음에 메리가 왜 남자들에게 고백을 했을까에 대한 의문을 던져줬고 이야기를 들으면서 그 해답을 찾아내는것이 재미있었습니다 또한 전개도 깔끔하고 군더더기가 없어서 더욱 모던하고 심플하게 들었던것같아요!!마지막으로 동한군의 깔끔한 딕션으로 더욱 집중할 수 있었고 책과 목소리가 함께 어우러져 더욱 흥미롭게 들었던 것 같습니다!! 작가님 좋은 책 잘 들었습니다 감사합니다!',\n",
       "       '구입해서 들었습니다. 스포일러가 제일 재밌네요.',\n",
       "       '먼가 독특 하면서 유쾌한 문체와 맛깔라는 성우님의 연기가 아주 좋아서 처음부터 끝 까지 재미 있게 들었습니다! 좋은 콘텐츠 같아요!!',\n",
       "       '귀에 쏙쏙들어오네요 잘들었습니다', '뻥산 재미있게 들었습니다',\n",
       "       '중간중간 들어가는 효과음이 몰입을 방해하네요 내용은 재밌게 잘 들었습니다',\n",
       "       '목소리는 kbs문학관에서 자주 듣는 목소리네요. 내용도 무겁지 않고 좋아요. 잘 들었습니다.',\n",
       "       '재밌게 잘 들었습니다! 목소리 연기가 생생하고 흥미진진해서 한번에 다 들었어요ㅋㅋ', '재미있게 잘 들었습니다 ^^',\n",
       "       '잘들었습니다 감사합니다', '잘들었습니다~감사함니다~^^', '재밋게 잘 들었습니다.\\r\\n민우 이녀석 ㅋㅋ',\n",
       "       '잘 들었습니다. 또 기대할게요', '재밌네요...잘들었습니다...',\n",
       "       '우연한 기회에 좋은 방송 잘 들었습니다. 목소리가 너무 좋아요~',\n",
       "       '캐쉬준다해서ㅜ들어봤어요. \\r\\n성우분 흡입력 있는 스피치에 끝까지 들었습니다.\\r\\n마무리를 빵상과 발음이 비슷한 빵산에서 비행접시로 마무리하는 이해하기힘든 결말이라 끝이 좀 아쉽더군요.\\r\\n더 좋은 작품 기대하겠습니다. 잘 들었습니다.',\n",
       "       '성우님이 정말 재밌게 읽어주시네요! 잘 들었습니다!', '명쾌한  목소리  ~  잘  들었습니다',\n",
       "       '재미있게 들었습니다 담배끊었는데 옜날생각나네요',\n",
       "       '재미나게 들었습니다\\r\\n생활부장이 주머니에 손을 넣었을때 나도 모르게 `안돼~`라고 하면서ㅋㅋㅋ',\n",
       "       '재밌게들었습니다', '내용도 재미도 유용하고 잘들었습니다.',\n",
       "       '담배는 끊는게 아니라 평생 참는것이라던데\\r\\n즐겁게 잘 들었습니다',\n",
       "       '몰입도 잘되고 인물들이 선명하게 떠올라 더 재밌게 잘 들었습니다.', '잘들었습니다. 너무 좋네요',\n",
       "       '너무 좋네요 너무 잼있게 잘들었습니다 앞으로도 쭉 잘 들을게요',\n",
       "       '너무 좋게 잘들었습니다!\\r\\n연기도 좋고 효과음도 좋았습니다ㅎㅎ',\n",
       "       '잘 들었습니다.  빵산과 사이렌...승자의 여유', '잘 들었습니다\\r\\n성우분들 목소리 전달력 너무 좋았습니다',\n",
       "       '잘 들었습니다!', '잘 들었습니다. 목소리 좋네요',\n",
       "       '재미있게 잘 들었습니다. 마지막 부분에서 잘 이해가 안되었지만 그래도 재미있었습니다',\n",
       "       '재밌게 들었습니다^^담배 냄새가 정말 싫은 1인으로서 담배만이 우리 세상이라는 게 좀 슬프네요..다른 건강한 해방구를 찾게 되시길!!',\n",
       "       '잘 들었습니다. 목소리 좋아요', '오디오북 처음인데 잘들었습니다.',\n",
       "       '학창시절 생각나네요 \\r\\n재밌게 잘들었습니다.', '잘들었습니다 성우님 목소리 좋아요',\n",
       "       '생동감있는 연기와 깔끔한 음질이 좋습니다.\\r\\n단편이라 지루하지도 않구요. 잘 들었습니다.',\n",
       "       '그시절의 아련한 추억 잘들었습니다', '재밌게 들었습니다.',\n",
       "       '상황이 눈앞에서 일어나는것같네요 \\r\\n잼나게 잘들었습니다',\n",
       "       '공공연하게 금기된 소재로 흥미와 예측되지 않는 전개에 재미있게 들었습니다!!!^^',\n",
       "       '재밌게 잘 들었습니다 목소리가 너무 좋으십니다', '웃으면서 들었습니다^^ 재밌네요', '감동적으로 잘 들었습니다',\n",
       "       '재미나게 잘들었습니다!', '잘들었습니다아',\n",
       "       '정말 잘 들었습니다. 저 또한 정형화된 책장 넘기는 소리가 조금은 불편 했네요',\n",
       "       '발랄한 소극이에요. 재밌게 들었습니다.', '소재가 참 참신하네요 ㅋㅋㅋ 재밌게 잘 들었습니다~',\n",
       "       '잘~ 들었습니다.',\n",
       "       '오디오로 책을 듣는다는게 엄청 집중해야돼서 별로였는데 이 책은 화면이 그려지는것 같네요. 재밌게 들었습니다.',\n",
       "       'ㅈㅐ미있게. 들었습니다', '재미 있게 들었습니다~~~~',\n",
       "       '잘들었습니다 담배는 몸에 해롭지만\\r\\n성우님 목소리는 정말 좋네요', '잘들었습니다 넘 재밌어요 ㅠㅠㅠ',\n",
       "       '담배ᆢ평소 혐오식품이라 생각했는데 성우분 리딩도 그렇고 경쾌한소재일수도 있구나 싶네요 잘들었습니다',\n",
       "       '잘 들었습니다.  구독하고 갑니다~', '잘들었습니다 담배끊어야될텐데', '잘 들었습니다. ^^',\n",
       "       '재밌게 잘들었습니다', '추억이 새록새록 해지네요 잘 들었습니다', '재밌게 잘들었습니다.',\n",
       "       '잘 들었습니다 \\r\\n성우분 연기가 좋았어요', '성운분께서 연기를 너무 잘하셔서 즐겁게 잘들었습니다',\n",
       "       '어릴때 생각나네요 ㅋㅋ 잘들었습니다', '잘들었습니다^^♡', '잘 들었습니다 좋은컨텐츠 더 많이 들려주세요',\n",
       "       '쉬는시간에 망보면서 담배피던 고등학교 친구들 모습이 떠올라 웃으면서 들었습니다.',\n",
       "       '선생과 학생의 전쟁 ㅋ  학생을 프락지로 만들다니...편의점 아저씨도..부끄럽고 치사한 어른.. 게다가 이간질에 함정수사까지 칫 ㅎ 그렇지만 판타지스런 마지막까지 재밌게 들었습니다',\n",
       "       '집중될수 밖에 없네요 잘 들었습니다', '담배는....잘들었습니다.',\n",
       "       '처음 듣는 책이  동현이의 목소리여서 다행이네요. 덕분에 듣는책에 대해 거부감 없었고 너무 재미있고 흥미롭게 들었습니다. 항상 선행에  앞장서는 동현이라 저도 동참하고 싶었는데 오디오북 구매 만으로도기부가 된다니 책도듣고 좋은일도 함께할 수 있게되어 기쁩니다. 다음에 다시한번 동현이가 들려주는 책 듣고싶습니다. 꼭 다시 불러주세요',\n",
       "       \"잘 들었습니다.\\r\\n작은 오류 하나 수정 바랍니다.\\r\\n\\r\\n민태원 청춘예찬 \\r\\n4분 43초 구간 편집 오류 - 앞문장 반복삽입\\r\\n4분 50초 구간 어휘 오독 - '착일'아닌 '착목'\\r\\n\\r\\n    그들은 앞이 긴자라 (전염이 적은지라 죄악에 병들지 아니하였고) (착일)하는 것이 원대하고\",\n",
       "       '담담한 목소리에  정확한  밝음  또박또박  잘들었습니다',\n",
       "       '마치 주인공이 된듯 감정 이입하며 푹 빠져서 들었습니다.우현님의 좋은 목소리로 들을 수 있어서 더욱 좋았습니다.수익금의 일부는 기부에도 쓰인다니 매우  뜻깊은 일인것 같습니다.',\n",
       "       '기다리고 기다렸습니다. 적절히  호흡하며 글 인물의 목소리 변화도 주면서 낭독을 하니 더욱 집중할수 있었습니다.낭독으로  듣는건 처음였는데  책의내용에 따라 머릿속으로 그려지니 더욱 빠져들었습니다.남우현  덕분에 책도 구입하여 [ 어느날 갑자기  ]부터 읽기 시작했어요. 이처럼 좋은기회에 감사합니다.낭독덕분에  아이의 관점에서 생각하고 마음을 느껴볼러구요.남우현의 낭독은 정말 최고입니다',\n",
       "       '레몬사탕  잘  들었습니다', '이야기 잘 들었습니다',\n",
       "       '팟캐스트하시던때부터 챙겨들었습니다, 직접 쓴 책으로 이렇게 봉배우님 목소리를 들을수 있다니 정말 기쁘네요!',\n",
       "       '좋은내용 잘들었습니다', '오랫만입니다ㅎㅎ 잘들었습니다', '유댕이  귀엽게  잘들었습니다',\n",
       "       '잘들었습니다   감사합니다', '위키미키  잘들었습니다',\n",
       "       '어쩌면  내가 가장 듣고 싶었던 말♥♥♥\\r\\n잘 들었습니다♥  성우님 목소리가 실감 납니다',\n",
       "       '유익한 내용. 잘들었습니다.', '좋아요 잘들었습니다 ㅎㅎ', '마음의 위안을 받네요.\\r\\n잘 들었습니다.',\n",
       "       '잘 들었습니다^^', '잘들었습니다ㅎㅎ 굿', '잘들었습니다.  감사합니다',\n",
       "       '담담한 목소리의 하성운씨가 낭독하는 공선옥 작가의 라면은 맛있다 편은 눈으로 읽는 것과는 다른 느낌이네 잘 들었습니다',\n",
       "       '책 내용도 좋고 민수의 마음이 생생하게 느껴지게끔 낭독해 주는 하성운 님의 목소리도 좋아요! 40분 가까이가 5분처럼 지나가네요. 약간 마음 저리면서도 재미있게 잘 들었습니다.',\n",
       "       '좋은 작품 잘 들었습니다', '잘들었습니다!!^^', '잘들었습니다^^', '좋아요^^\\r\\n잘들었습니다',\n",
       "       '잘들었습니다 . 목소리 참좋고 울림이 있어요', '너무 잘 들었습니다~~~', '음 로마니...잘들었습니다',\n",
       "       '목소리 ㄷㄷ~\\r\\n잘들었습니다.', '잘들었습니다 ~~', '꿀 보이스 잘 들었습니다^^',\n",
       "       '목소리 좋네요 잘 들었습니다', '잘 들었습니다.좋아요', '잘들었습니다  감사해요',\n",
       "       '정말 잘들었습니다\\r\\n목소리가 빠져드네요', '브로콜리너마저 팬입니다. 잘 들었습니다.',\n",
       "       '윤덕원 씨 목소리라 정말 생생하게 잘 들었습니다!', '목소리 좋으시네요~\\r\\n잘들었습니다.',\n",
       "       '잘들었습니다 좋네요', '명랑  발랄  잘들었습니다',\n",
       "       '일년에 책한권 안읽는 내가 논스톱으로 들었습니다.너무 재미있어요.추천합니다.',\n",
       "       '상상력이 이렇게좋다니~~~\\r\\n잘들었습니다!!', '서늘하게 잘 들었습니다♥', '궁금했는데 잘 들었습니다!',\n",
       "       '너무너무 재밋게들었습니다 \\r\\n왓섭님 팬으로써 너무 너무 듣고 싶어서 구매했어요  믿고 듣는 라디오 너무 재미난 글에 좋은 보이스 덕에 한번 더 듣고 리뷰를 씁니다 \\r\\n마지막에 기획자의말 이 참 인상 깊었네요\\r\\n왠지 저도 그런마음 같아서 듣고 읽는거 같았거든요  아무튼  작가님 조은글 마니 작성해주세요 ~~~',\n",
       "       '잘 들었습니다. 감사합니다.',\n",
       "       '작가님의 덤덤한 고백이 듣기 편안한 성우님의 목소리와 참 잘 어우러지네요 잘 들었습니다', '잘들었습니다ㅎㅎ',\n",
       "       '잘 들었습니다 좋네여', '좋은 내용과 좋은 목소리로 전달해주셔서\\r\\n기분좋게 들었습니다', '잘들었습니다  감사',\n",
       "       '남도형 성우의 차분한 목소리와 박민규 작가의 기발하면서 예측할 수 없는 스토리 전개가 듣는내내 한편의 영화를 보는듯한 기분이 들었어요 재밌게 잘 들었습니다',\n",
       "       '성우분 목소리가 좋네요\\r\\n잘 들었습니다', '잘들었습니\\r\\nㅏ', '잘들었습니다.ㅎㅎㅎ',\n",
       "       '잘들었습니다 좋네요~', '이제 오디오북이 대세인가 봅니다 잘 들었습니다',\n",
       "       '좋은 내용 잘 들었습니다\\r\\n빠져드네요', '좋아여  잘들었습니다목소리조음', '잘 들었습니다 재밌어요',\n",
       "       '듣기 편하고 좋네요~~잘들었습니다.', '잘\\r\\n들었습니다', '책으로 읽으라면 안읽었을텐데 잘 들었습니다',\n",
       "       '중학생 딸아이와 잘 들었습니다~', '잘들었습나다 너무 듣고 싶었는데 \\r\\n오디오북으로 들으니 좋네요^^',\n",
       "       '잘 들었습니다. 누구든 듣기 좋을 것 같네요.', '좋은내용 잘들었습니다\\r\\n감사합니다',\n",
       "       '정말 좋아하는 작품인데 잘 들었습니다', '흥미진진하네요 잘 들었습니다 추천',\n",
       "       '몰입도가 넘좋네요! 감사히잘들었습니다~~', '호러물 잘들었습니다', '잘들었습니다   ㅜㅜ',\n",
       "       '잘들었습니다 새벽에 들으니깐\\r\\n더소름이네요 ㄷㄷ', '이걸 왜 자려고 하는데 들었을까..잘 들었습니다..ㅜㅜ',\n",
       "       '잘 들었습니당 ㅎㅎㅎ',\n",
       "       '정말 처음부터 끊지 못하고 다 들었어요!! 특히 마지막 에피소드는 공포도 공포지만 귀신에 대한 공포보다 사회상에 대한 공포가 더 컸을 만큼 한 번 보고 끝날 이야기가 아닌 갓 같아요.\\r\\n\\r\\n얕게 들으면 그냥 공포소설로 끝나는데 한 번 더 생각해보면 그 이야기속에 다양한 생각할거리와 주제가 있어서 더 곱씹어보게 합니다.\\r\\n\\r\\n게다가 왓섭님과의 콜라보로 찰떡궁합이!!ㅎㅎ\\r\\n\\r\\n정말 잘 들었습니다. 벌써부터 다음 권이 기대됩니다!:-)',\n",
       "       '잔잔하면서 슬픈 파도같은 이야기 잘 들었습니다',\n",
       "       '작가님 목소리랑 이야기가 잘 어울러져서 편하게 들었습니다 돌아가신 할머님이 보고싶어요', '재미있게 들었습니다^^',\n",
       "       '밤에 듣기 딱 좋은 차분한 목소리네요:) 잘 들었습니다~',\n",
       "       '시간도  길지않아  듣기도  편하고,  차분한  목소리에  또박또박  소설을  편하게  잘들었습니다',\n",
       "       '역시 배우 목소리 클라스ㅠㅠ잠자면서 잘들었습니다', '잘 들었습니다\\r\\n목소리 좋아요',\n",
       "       '예리씨목소리짱  잘들었습닏ㄱㆍ', '잘들었습니다\\r\\n한예리배우님 목소리 듣기 참 좋네요', '안락. 잘들었습니다',\n",
       "       '잘 들었습니다! 고맙습니다!', '잘 들었습니다.  목소리 너무 좋습니다.~',\n",
       "       '잘들었습니다 내용이 하나하나\\r\\n잘들어오네요 ^^', '잘 들었습니다!^^', '좋아요\\r\\n잘 들었습니다',\n",
       "       '잘 들었습니다. 너무 좋아요.', '차분한목소리에~~~ 차분하게 잘들었습니다', '새벽님~\\r\\n잘들었습니다.',\n",
       "       '유익한 내용 잘 들었습니다.', '잘들었습니다 ^^', '추석에잘들었습니다', '절들었습니다',\n",
       "       '제미있게 잘들었습니다!', '목소리가 잘 어울리네요^^\\r\\n이야기에 집중되며 시간가는줄 모르고 들었습니다ㅎㅎ',\n",
       "       '귀를 쫑긋하게 만드는 잔잔한 매력이 있으세요~~ 잘 들었습니다 ^^', '잘 들었습니다 좋네요',\n",
       "       '잘들었습니다 목소리가 좋았어요', '추억의 아름다운 이야기~ 좋은 음성에 잘들었습니다.',\n",
       "       '잘들었습니다  번창하시길 좋아여', '목소리가 너무 좋아서 잘 들었습니다.',\n",
       "       '어릴때 책으로 봤던 기억이\\r\\n잼있게 잘들었습니다 ^^', '잘들었습니다~^^',\n",
       "       '목소리가 너무 좋은듯.. 잘들었습니다~', '잘들었습니다  조으네여', '잘 들었습니다 ^^',\n",
       "       '무미건조하게 읽는게 아니라 감정이 들어있어 듣기 너무 좋아요. 잘 들었습니다^^',\n",
       "       '좋은내용 좋은목소리 잘들었습니다', '잘 들었습니다 참 좋네요', '잘들었습니다 감동적입니다',\n",
       "       '잘들었습니다 목소리 연기 굿!!', '어렸을 때 읽었던 기억이 나네요. 잘들었습니다',\n",
       "       '잘들었습니다 듣기편하네요 어린시절보던책',\n",
       "       '재밌게 들었습니다. 2권은 언제 나오나요? 그리고 1인 다역 저렇게 해내시는 게 신기ㅋㅋ 앤 목소리 이상하다는 의견은 잘 몰겠네여 전 귀엽기만 하던데..',\n",
       "       '좋은글 잘들었습니다 감사합니다', '즐겁게 들었습니다^^', '역시 명배우다운 목소리 집중하여 들었습니다',\n",
       "       '너무 잘들었습니다',\n",
       "       '생생하게 상황이 그려졌습니다. 좋은 책을 좋은 목소리로 들으니 지루할 새도 없네요!잘 들었습니다~',\n",
       "       '잘들었습니다 감사합니다ㅎㅎ', '오발탄.. 많은생각이 들었습니다', '잘들었습니다 ㅎ',\n",
       "       '좋은 목소리로 잘 들었습니다',\n",
       "       '그저 읽는 것이 아니라 연기를 해주시네요. 최민식 배우님의 오발탄 무척 흡입력있게 잘 들었습니다.',\n",
       "       '편하게 읽히는 작품이 아니었는데 예지원씨가 감정 살려 읽어주시니 영화를 보는 듯 편하게 다가오네요. 잘 들었습니다.',\n",
       "       '잘 들었습니다. 목소리 좋아요..', '목소리가 좋아요! 잘들었습니다.', '잘 들었습니다. 재밌네요',\n",
       "       '배우가 아니고 성우인줄 알았습니다. 이런게 낭독이지요. 잘 들었습니다.', '크 너무 재밌게 들었습니다 ^^',\n",
       "       '이지혜배우님 [빨간머리앤] 오디오북도 듣고 팬되었는데 [사랑방손님과 어머니]도 정말 멋지게 소화하시네요. 목소리가 보물이신 것 같아요. 편안하게 잘들었습니다.',\n",
       "       '배우이시기도 하지만 목소리도 정말 좋으세요. 정말 잘 들었습니다!!!', '너무 잘들었습니다~ 고마워요~',\n",
       "       '몰입이 잘 되었어요! 편안하고도 애절한 목소리로 잘 들었습니다!', '소설을 너무 재밋게들었습니다 감사합니다',\n",
       "       '아다다의 사랑을 지키고자하는 마음이 얼마나 큰지 느꼈습니다. 역시 대배우 강부자님의 좋은연기 잘들었습니다.',\n",
       "       '항상 응원합니다. 잘 들었습니다.', '잘들었습니다..!', '잘 들었습니다 ㅎㅎ',\n",
       "       '역시 목소리 좋네요 잘들었습니다', '개인적으로 좋아하는 문학작품인데 문성근씨의 목소리가 더해져 재밌게 들었습니다.',\n",
       "       '참신한 내용 잘 들었습니다', '잘 들었습니다, 참신한 내용이라 더더욱 재밌게 들었네요 ㅎㅎ',\n",
       "       '감사합니다  잘 들었습니다', '굿 잘들었습니다', 'ㅋㅋㅋㅋ 재밌네요. 잘 들었습니다 ㅎㅎ',\n",
       "       '재미있고 흠미롭게 잘들었습니다.', '즐겁게 잘들었습니다', '새로운 시도.잘 들었습니다',\n",
       "       '잘 들었습니다. 도움이 되네요', '드라마작가를 꿈꾸는 분들에게 참고할만한 내용이네요 잘 들었습니다',\n",
       "       '재미있네요.\\r\\n잘 들었습니다.', '흥미있는 내용입니다 잘 들었습니다', '재밌어요 잘 들었습니다',\n",
       "       '관심있게 잘 들었습니다.', '잘 들었습니다.내용이 너무 좋습니다.', '재밌어요 잘들었습니다', '잘들었습니다 .',\n",
       "       '좋아요! 잘 들었습니다.', '잘들었습니다. 감사합니다.', '잘들었습니다~~~^^', '잘 들었습니다 ^^*',\n",
       "       '인상깊었습니다 잘들었습니다', '잘 들었습니다.\\r\\n앞으로 정독 할게요~~(^^',\n",
       "       '잘들었습니다 인간관계발전을위해서 화이팅', '프롤로그 잘 들었습니다', '잘 들었습니다!! *^^*',\n",
       "       '좋은 글 잘들었습니다♥', '이런거 좋아요 잘들었습니다', '매우 잘 들었습니다 ~~', '정말 잘들었습니다',\n",
       "       '좋아요. 잘 들었습니다~', '잠들었습니다 ㅎ',\n",
       "       '우와~* 좋네요~^^\\r\\n잘들었습니다^^\\r\\n종이책으로도 읽어보고싶어요~^^!!', '잘들었습니다 좋아요',\n",
       "       '오디오북 너무 잘 들었습니다~ 책으로도 읽고 싶네요ㅎㅎ', '잘들었습니다 ㅎㅎ', '유익한 글 잘 들었습니다.',\n",
       "       '잘들었습니다~^^좋아요', '저자님과의 대화 너무재미있게 들었습니다ㅠ', '목소리  넘좋습니다.  잘들었습니다',\n",
       "       'YTN 세계를 만나는 시간, NOW에서 듣는 김영미 국제분쟁지역 전문PD님. 제 기억으로는 시사인 편집위원이신데...잘 들었습니다.',\n",
       "       '생각이 많아지네요\\r\\n잘들었습니다', '작가님이 직접 얘기해주시니 좋네요 잘 들었습니다',\n",
       "       '평소 전쟁에 대해 관심이 많았는데 재밌게 들었습니다', '잘들었습니나', '잘 들었습니다 책을 구매해서 보고싶네요',\n",
       "       '유익하네요 잘 들었습니다',\n",
       "       '탁피디 여행수다 나오셔서 코로나  조심하기 말씀해주셨던 내용 감사히 들었습니다.\\r\\n책도 잘듣겠습니다',\n",
       "       '잘들었습니다~*^^*', '감사히 잘 들었습니다',\n",
       "       '잘 들었습니다.\\r\\n마음이 먹먹하지만 \\r\\n우리가 꼭 알아야 할 내용이네요.',\n",
       "       '생생한 현장의 이야기 잘 들었습니다', '너무 잘 들었습니다', '잘 들었습니다 ~',\n",
       "       '잘 들었습니다\\r\\n도움이 되었습니다', '잘 들었습니다 도움되네요', '들었습니다',\n",
       "       '잘 들었습니다 저자분 목소리가 편안하고 듣기 좋네요', '잘들었습니다. 감사합니다', '정말 잘 들었습니다',\n",
       "       '잘들었습니다\\r\\n힘든 세상살이\\r\\n잠시 쉬어가는 느낌이네요', '잘들었습니다 유용한 것 같습니다!',\n",
       "       '잘들었습니다. 고맙습니다.', '잘들었습니다 앞으로도 화이팅하세용', '기대되네요 잘들었습니다', '잘들었습ㄴ대',\n",
       "       '좋은내용입니다 잘들었습니다', '어른이 되면 달라질 줄 알았었죠 ㅜㅜ 잘 들었습니다',\n",
       "       '4부까지들었습니다. 오디오북이라고 해서 책 읽어주는 건줄 알았는데..라디오 방송처럼해서 훨씬 편하네요. 출퇴근길 잘 듣겠습니다.',\n",
       "       '잘들었습니다:)', '잘들었습니다. 지금 시기에 좋네요',\n",
       "       '잘 들었습니다\\r\\n기대 많이 합니다  \\r\\n좋은 방송 부탁해요\\r\\n응원합니다♥♥♥♥',\n",
       "       '잘들었습니다 에피소드가2개네요', '방송 재밌게 들었습니다 ㅎㅎ', '편안하게 잘들었습니다',\n",
       "       '재미있게 잘 들었습니다.', '잘 들었습니다 목소리가 너무 좋으십니다', '매우 잘 들었습니다.',\n",
       "       '잘듣들었습니다 고맙습니다', '오디오북 참 좋아요! 잘 들었습니다!', '잘 들었습니다. 감사합니다.^^',\n",
       "       '잘들었습니다 감사해요', '짧아서 아쉬울정도로 재미있게 잘 들었습니다', '재미있게 잘들었습니다',\n",
       "       '잘 들었습니다 \\r\\n재밌네요', '너무재미있게 잘들었습니다', '매우 잘 들었습니다',\n",
       "       '빅토르위고 동방의 작은불빛이라한국을 지칭했었지요 잘들었습니다', '아이와 함께 즐겁게 들었습니다',\n",
       "       '영화 보고 꼭 다시 읽어봐야지 생각 중이었는데 이렇게 듣는 것도 참 좋네요! 잘 들었습니다!',\n",
       "       '중학생 딸과 같이 잘 들었습니다~~~작은아씨들도 듣고 싶다 하네요^^', '레비제라블 좋습니다ㅎㅎ 잘 들었습니다',\n",
       "       '잘들었습니당 좋네요~', '우왕~ 잘들었습니다~^-^', '괘안해요 잘 들었습니다', '편하게 들었습니다',\n",
       "       '편안하게 들었습니다', '목소리 너무 좋아서  잘 들었습니다.', '너무 잘 들었습니다 감사합니다',\n",
       "       '잘 들었습니다\\r\\n목소리가 매우 좋아요', '이렇게 들으니 좋네요. 잘들었습니다', '재밌어요! 잘 들었습니다!',\n",
       "       '편안한 목소리 잘 들었습니다', '아이와 함께 잘 들었습니다', '15소년 표류기   재미있게 들었습니다',\n",
       "       '잘 들었습니다 유료버전도 들어야 겠습니다\\r\\n너무 좋네여^^', '잘 들었습니다\\r\\n감사합니다',\n",
       "       '15소년 표류기. 오랜만이네요. 잘 들었습니다', '원작과 다른 느낌이네요. 잘 들었습니다',\n",
       "       '잘들었습니다^^ 목소리가 너무 좋아요', '재밌게 잘 들었습니다~',\n",
       "       '전집으로 봤던 표류기 ㅎ~ 재밌게 들었습니다 ^^', '잘들었습니다 점점 오디오북 수준이 높아지네요',\n",
       "       '저는 성우 낭독 버전을 통하여서 까칠한 아이 작품을 들어보았는데, 성우 분들의 생생하고 리얼한 목소리 연기와 정확한 딕션, 딜리버리를 통한 귀에 쏙쏙 박히는 열연 덕분에 전달이 잘되어서 참 감명 깊게 들었습니다. 성우 분들의 면면들을 하나, 하나 확인하여서 보니까 정말 경력들이 대단하고, 어마 무시한 스타 성우군단들의 총출동이로군요. 대교 어린이TV를 통하여서 수많은 화제의 애니메이션 만화영화 작품들 성우를 하시었던 김유림, 가빈, 박민기 님 등의 성우 분들이 열연을 해주신 덕분에 재미있게 들을 수 있었던 작품이었네요. 특히나 제가 아주 많이 좋아라 하는 애니메이션인 신비 아파트에서 구미호 역할을 하시었던 김하루 성우님의 목소리가 너무 좋았습니다. 작품의 이야기 자체로서 주목하여서 말씀을 드려 보자면은, 고양이의 입지에서, 고양이가 인간을 대상화하여 교감하는 방식을 통하여서 주인공인 지현이와 엄마의 관계 등을 바라본다는 그 시선, 시각 자체의 발상이 참으로 신선하게 느껴졌습니다. “전지적 고양이 시점!” 까칠한 아이 지현이가 어머님과 화해하고, 가족애를 회복해가는 과정을 고양이의 시각으로써 바라본다는 발상 하에서 순수하고 창의적인 발상과 문체로서 읽혀지는 이야기의 서사가 참으로 흥미롭게 느껴지었습니다.',\n",
       "       'AIㅂㅓ전도   잘들었습니다,  담백하니  유익하고  좋습니다',\n",
       "       '에이아이 음성도 듣기 편하네요\\r\\n내용도 좋ㅇ구요\\r\\n잘 들었습니다',\n",
       "       '어릴때 한번씩 우리집에 오시던 외할머니 생각이나네요 ㅠ ㅠ\\r\\n동네 돌아다니는 길냥이 모습이 ㅠ\\r\\n잘들었습니다'],\n",
       "      dtype=object)"
      ]
     },
     "execution_count": 237,
     "metadata": {},
     "output_type": "execute_result"
    }
   ],
   "source": [
    "with_review = all_review.dropna(how = 'any', axis = 0)\n",
    "with_review[with_review['review'].str.contains('들었습')].review.unique()"
   ]
  },
  {
   "cell_type": "code",
   "execution_count": 222,
   "metadata": {},
   "outputs": [
    {
     "name": "stdout",
     "output_type": "stream",
     "text": [
      "데이터의 크기는             : (15965, 3)\n",
      "데이터에 포함된 유저의 수는 : 4951\n",
      "데이터에 포함된 책의 수는   : 200\n"
     ]
    }
   ],
   "source": [
    "print(f\"데이터의 크기는             : {df.shape}\")\n",
    "print(f\"데이터에 포함된 유저의 수는 : {len(user_df)}\")\n",
    "print(f\"데이터에 포함된 책의 수는   : {len(title_df)}\")"
   ]
  },
  {
   "cell_type": "code",
   "execution_count": 7,
   "metadata": {},
   "outputs": [
    {
     "name": "stderr",
     "output_type": "stream",
     "text": [
      "C:\\Users\\Hanna Kim\\Anaconda3\\lib\\site-packages\\ipykernel_launcher.py:3: UserWarning: FixedFormatter should only be used together with FixedLocator\n",
      "  This is separate from the ipykernel package so we can avoid doing imports until\n"
     ]
    },
    {
     "data": {
      "image/png": "[encoded data removed]",
      "text/plain": [
       "<Figure size 864x576 with 1 Axes>"
      ]
     },
     "metadata": {
      "needs_background": "light"
     },
     "output_type": "display_data"
    }
   ],
   "source": [
    "plt.figure(figsize = (12, 8))\n",
    "ax = sns.countplot(x=\"rating\", data=df)\n",
    "ax.set_yticklabels([num for num in ax.get_yticks()])\n",
    "plt.tick_params(labelsize = 15)\n",
    "plt.title(\"Count Ratings in  data\", fontsize = 20)\n",
    "plt.xlabel(\"Ratings\", fontsize = 20)\n",
    "plt.ylabel(\"Number of Ratings\", fontsize = 20)\n",
    "plt.show()"
   ]
  },
  {
   "cell_type": "markdown",
   "metadata": {},
   "source": [
    "일단 가장 높은 n개의 값만 보여주는 함수를 만듭니다."
   ]
  },
  {
   "cell_type": "code",
   "execution_count": 8,
   "metadata": {},
   "outputs": [],
   "source": [
    "def return_best_n(statistics, n):\n",
    "    # statistics: array of size review.shape[1] containing one statistic calculated from the dataset\n",
    "    # n: number of indices to be returned\n",
    "    # returns: array of size *n* containing the indices of the best scored statistics\n",
    "    statistics = pd.DataFrame({'statistic':statistics})\n",
    "    return statistics.sort_values('statistic', ascending = False).iloc[:n]"
   ]
  },
  {
   "cell_type": "markdown",
   "metadata": {},
   "source": [
    "## 2.1 Mean Rating <a class=\"anchor\" id=\"bullet2.1\"></a>\n"
   ]
  },
  {
   "cell_type": "code",
   "execution_count": 9,
   "metadata": {},
   "outputs": [
    {
     "data": {
      "text/html": [
       "<div>\n",
       "<style scoped>\n",
       "    .dataframe tbody tr th:only-of-type {\n",
       "        vertical-align: middle;\n",
       "    }\n",
       "\n",
       "    .dataframe tbody tr th {\n",
       "        vertical-align: top;\n",
       "    }\n",
       "\n",
       "    .dataframe thead th {\n",
       "        text-align: right;\n",
       "    }\n",
       "</style>\n",
       "<table border=\"1\" class=\"dataframe\">\n",
       "  <thead>\n",
       "    <tr style=\"text-align: right;\">\n",
       "      <th></th>\n",
       "      <th>statistic</th>\n",
       "    </tr>\n",
       "    <tr>\n",
       "      <th>title</th>\n",
       "      <th></th>\n",
       "    </tr>\n",
       "  </thead>\n",
       "  <tbody>\n",
       "    <tr>\n",
       "      <th>김의성이 읽는 최인호의 타인의 방</th>\n",
       "      <td>100.0</td>\n",
       "    </tr>\n",
       "    <tr>\n",
       "      <th>경제 읽어주는 남자 김광석의 [디지털 경제의 미래]</th>\n",
       "      <td>100.0</td>\n",
       "    </tr>\n",
       "    <tr>\n",
       "      <th>너의 거기는 작고 나의 여기는 커서 우리들은 헤어지는 중입니다</th>\n",
       "      <td>100.0</td>\n",
       "    </tr>\n",
       "    <tr>\n",
       "      <th>정진영이 읽는 김기진의 젊은 이상주의자의 사</th>\n",
       "      <td>100.0</td>\n",
       "    </tr>\n",
       "    <tr>\n",
       "      <th>중국식 룰렛</th>\n",
       "      <td>100.0</td>\n",
       "    </tr>\n",
       "    <tr>\n",
       "      <th>나만 몰랐던 이야기</th>\n",
       "      <td>100.0</td>\n",
       "    </tr>\n",
       "    <tr>\n",
       "      <th>어린이 성경 : 알기 쉬운 성경이야기</th>\n",
       "      <td>100.0</td>\n",
       "    </tr>\n",
       "    <tr>\n",
       "      <th>김용 대하역사무협 신조협려 하이라이트</th>\n",
       "      <td>100.0</td>\n",
       "    </tr>\n",
       "    <tr>\n",
       "      <th>김영민이 읽는 현경준의 탁류</th>\n",
       "      <td>100.0</td>\n",
       "    </tr>\n",
       "    <tr>\n",
       "      <th>길해연이 읽는 양귀자의 원미동 시인</th>\n",
       "      <td>100.0</td>\n",
       "    </tr>\n",
       "  </tbody>\n",
       "</table>\n",
       "</div>"
      ],
      "text/plain": [
       "                                    statistic\n",
       "title                                        \n",
       "김의성이 읽는 최인호의 타인의 방                      100.0\n",
       "경제 읽어주는 남자 김광석의 [디지털 경제의 미래]            100.0\n",
       "너의 거기는 작고 나의 여기는 커서 우리들은 헤어지는 중입니다      100.0\n",
       "정진영이 읽는 김기진의 젊은 이상주의자의 사                100.0\n",
       "중국식 룰렛                                  100.0\n",
       "나만 몰랐던 이야기                              100.0\n",
       "어린이 성경 : 알기 쉬운 성경이야기                    100.0\n",
       "김용 대하역사무협 신조협려 하이라이트                    100.0\n",
       "김영민이 읽는 현경준의 탁류                         100.0\n",
       "길해연이 읽는 양귀자의 원미동 시인                     100.0"
      ]
     },
     "execution_count": 9,
     "metadata": {},
     "output_type": "execute_result"
    }
   ],
   "source": [
    "means = pivot_df.iloc[:,2:].apply(np.mean)\n",
    "return_best_n(means,10)"
   ]
  },
  {
   "cell_type": "markdown",
   "metadata": {},
   "source": [
    "## 2.2 Rating Count<a class=\"anchor\" id=\"bullet2.2\"></a>\n"
   ]
  },
  {
   "cell_type": "code",
   "execution_count": 10,
   "metadata": {},
   "outputs": [
    {
     "data": {
      "text/html": [
       "<div>\n",
       "<style scoped>\n",
       "    .dataframe tbody tr th:only-of-type {\n",
       "        vertical-align: middle;\n",
       "    }\n",
       "\n",
       "    .dataframe tbody tr th {\n",
       "        vertical-align: top;\n",
       "    }\n",
       "\n",
       "    .dataframe thead th {\n",
       "        text-align: right;\n",
       "    }\n",
       "</style>\n",
       "<table border=\"1\" class=\"dataframe\">\n",
       "  <thead>\n",
       "    <tr style=\"text-align: right;\">\n",
       "      <th></th>\n",
       "      <th>statistic</th>\n",
       "    </tr>\n",
       "    <tr>\n",
       "      <th>title</th>\n",
       "      <th></th>\n",
       "    </tr>\n",
       "  </thead>\n",
       "  <tbody>\n",
       "    <tr>\n",
       "      <th>최민식이 읽는 이범선의 오발탄</th>\n",
       "      <td>1445</td>\n",
       "    </tr>\n",
       "    <tr>\n",
       "      <th>운명이다</th>\n",
       "      <td>598</td>\n",
       "    </tr>\n",
       "    <tr>\n",
       "      <th>어른이 되면 괜찮을 줄 알았다</th>\n",
       "      <td>530</td>\n",
       "    </tr>\n",
       "    <tr>\n",
       "      <th>딜리트</th>\n",
       "      <td>521</td>\n",
       "    </tr>\n",
       "    <tr>\n",
       "      <th>[강연형] 제국대학의 조센징</th>\n",
       "      <td>498</td>\n",
       "    </tr>\n",
       "    <tr>\n",
       "      <th>담배만이 우리 세상</th>\n",
       "      <td>480</td>\n",
       "    </tr>\n",
       "    <tr>\n",
       "      <th>[한예리 낭독] 안락 _ 작은책</th>\n",
       "      <td>407</td>\n",
       "    </tr>\n",
       "    <tr>\n",
       "      <th>살고 싶다는 농담</th>\n",
       "      <td>392</td>\n",
       "    </tr>\n",
       "    <tr>\n",
       "      <th>나는 왠지 대박날 것만 같아!</th>\n",
       "      <td>391</td>\n",
       "    </tr>\n",
       "    <tr>\n",
       "      <th>초등 감정 사용법</th>\n",
       "      <td>362</td>\n",
       "    </tr>\n",
       "  </tbody>\n",
       "</table>\n",
       "</div>"
      ],
      "text/plain": [
       "                   statistic\n",
       "title                       \n",
       "최민식이 읽는 이범선의 오발탄        1445\n",
       "운명이다                     598\n",
       "어른이 되면 괜찮을 줄 알았다         530\n",
       "딜리트                      521\n",
       "[강연형] 제국대학의 조센징          498\n",
       "담배만이 우리 세상               480\n",
       "[한예리 낭독] 안락 _ 작은책        407\n",
       "살고 싶다는 농담                392\n",
       "나는 왠지 대박날 것만 같아!         391\n",
       "초등 감정 사용법                362"
      ]
     },
     "execution_count": 10,
     "metadata": {},
     "output_type": "execute_result"
    }
   ],
   "source": [
    "count = pivot_df.iloc[:,2:].apply(lambda col : np.sum(~np.isnan(col)))\n",
    "\n",
    "# return_best_n(count,10).index 를 구하면 제목만 뽑을 수 있음\n",
    "return_best_n(count,10)"
   ]
  },
  {
   "cell_type": "markdown",
   "metadata": {},
   "source": [
    "평균 평점 top10의 책은 몇개의 리뷰가 있을까?"
   ]
  },
  {
   "cell_type": "code",
   "execution_count": 11,
   "metadata": {},
   "outputs": [
    {
     "data": {
      "text/plain": [
       "title\n",
       "김의성이 읽는 최인호의 타인의 방                    5\n",
       "경제 읽어주는 남자 김광석의 [디지털 경제의 미래]          1\n",
       "너의 거기는 작고 나의 여기는 커서 우리들은 헤어지는 중입니다    2\n",
       "정진영이 읽는 김기진의 젊은 이상주의자의 사              2\n",
       "중국식 룰렛                                1\n",
       "나만 몰랐던 이야기                            1\n",
       "어린이 성경 : 알기 쉬운 성경이야기                  4\n",
       "김용 대하역사무협 신조협려 하이라이트                  2\n",
       "김영민이 읽는 현경준의 탁류                       1\n",
       "길해연이 읽는 양귀자의 원미동 시인                   1\n",
       "dtype: int64"
      ]
     },
     "execution_count": 11,
     "metadata": {},
     "output_type": "execute_result"
    }
   ],
   "source": [
    "top10_avg_ratings = return_best_n(means,10).index\n",
    "count.loc[top10_avg_ratings]"
   ]
  },
  {
   "cell_type": "markdown",
   "metadata": {},
   "source": [
    "## 2.3 Percentage of Good Ratings<a class=\"anchor\" id=\"bullet2.3\"></a>\n"
   ]
  },
  {
   "cell_type": "markdown",
   "metadata": {},
   "source": [
    " "
   ]
  },
  {
   "cell_type": "code",
   "execution_count": 12,
   "metadata": {},
   "outputs": [
    {
     "data": {
      "text/html": [
       "<div>\n",
       "<style scoped>\n",
       "    .dataframe tbody tr th:only-of-type {\n",
       "        vertical-align: middle;\n",
       "    }\n",
       "\n",
       "    .dataframe tbody tr th {\n",
       "        vertical-align: top;\n",
       "    }\n",
       "\n",
       "    .dataframe thead th {\n",
       "        text-align: right;\n",
       "    }\n",
       "</style>\n",
       "<table border=\"1\" class=\"dataframe\">\n",
       "  <thead>\n",
       "    <tr style=\"text-align: right;\">\n",
       "      <th></th>\n",
       "      <th>statistic</th>\n",
       "    </tr>\n",
       "    <tr>\n",
       "      <th>title</th>\n",
       "      <th></th>\n",
       "    </tr>\n",
       "  </thead>\n",
       "  <tbody>\n",
       "    <tr>\n",
       "      <th>&lt;테이크아웃 오디오북&gt; 목견</th>\n",
       "      <td>1.0</td>\n",
       "    </tr>\n",
       "    <tr>\n",
       "      <th>김의성이 읽는 최인호의 타인의 방</th>\n",
       "      <td>1.0</td>\n",
       "    </tr>\n",
       "    <tr>\n",
       "      <th>두 도시 이야기(요약본)</th>\n",
       "      <td>1.0</td>\n",
       "    </tr>\n",
       "  </tbody>\n",
       "</table>\n",
       "</div>"
      ],
      "text/plain": [
       "                    statistic\n",
       "title                        \n",
       "<테이크아웃 오디오북> 목견           1.0\n",
       "김의성이 읽는 최인호의 타인의 방        1.0\n",
       "두 도시 이야기(요약본)             1.0"
      ]
     },
     "execution_count": 12,
     "metadata": {},
     "output_type": "execute_result"
    }
   ],
   "source": [
    "good_count = pivot_df.iloc[:,2:].apply(lambda col : np.sum(col >=  80)/np.sum(~np.isnan(col)))\n",
    "return_best_n(good_count,3)"
   ]
  },
  {
   "cell_type": "code",
   "execution_count": 13,
   "metadata": {},
   "outputs": [
    {
     "name": "stdout",
     "output_type": "stream",
     "text": [
      "387\n",
      "391\n"
     ]
    }
   ],
   "source": [
    "#위 코드 이해하기\n",
    "col = pivot_df.iloc[:,2:]['나는 왠지 대박날 것만 같아!']\n",
    "print(np.sum(col >= 80))\n",
    "print(np.sum(~np.isnan(col)))"
   ]
  },
  {
   "cell_type": "markdown",
   "metadata": {},
   "source": [
    "애초에 리뷰가 한개인 경우는 리뷰 수 대비 좋은 리뷰 값이 1로 나옴<br>\n",
    "이걸 해결하기 위해서 리뷰 숫자가 충분한 경우만 확인"
   ]
  },
  {
   "cell_type": "code",
   "execution_count": 14,
   "metadata": {},
   "outputs": [
    {
     "data": {
      "text/html": [
       "<div>\n",
       "<style scoped>\n",
       "    .dataframe tbody tr th:only-of-type {\n",
       "        vertical-align: middle;\n",
       "    }\n",
       "\n",
       "    .dataframe tbody tr th {\n",
       "        vertical-align: top;\n",
       "    }\n",
       "\n",
       "    .dataframe thead th {\n",
       "        text-align: right;\n",
       "    }\n",
       "</style>\n",
       "<table border=\"1\" class=\"dataframe\">\n",
       "  <thead>\n",
       "    <tr style=\"text-align: right;\">\n",
       "      <th></th>\n",
       "      <th>rating_avg</th>\n",
       "      <th>no_of_ratings</th>\n",
       "      <th>over_80_ratio</th>\n",
       "    </tr>\n",
       "    <tr>\n",
       "      <th>title</th>\n",
       "      <th></th>\n",
       "      <th></th>\n",
       "      <th></th>\n",
       "    </tr>\n",
       "  </thead>\n",
       "  <tbody>\n",
       "    <tr>\n",
       "      <th>편의점으로 먹고살기</th>\n",
       "      <td>100.0</td>\n",
       "      <td>3</td>\n",
       "      <td>1.0</td>\n",
       "    </tr>\n",
       "    <tr>\n",
       "      <th>[김병관 낭독] 못 먹어도 go! (단편)</th>\n",
       "      <td>100.0</td>\n",
       "      <td>1</td>\n",
       "      <td>1.0</td>\n",
       "    </tr>\n",
       "    <tr>\n",
       "      <th>신안진이 읽는 이문열의 필론과 돼지</th>\n",
       "      <td>100.0</td>\n",
       "      <td>1</td>\n",
       "      <td>1.0</td>\n",
       "    </tr>\n",
       "  </tbody>\n",
       "</table>\n",
       "</div>"
      ],
      "text/plain": [
       "                         rating_avg  no_of_ratings  over_80_ratio\n",
       "title                                                            \n",
       "편의점으로 먹고살기                    100.0              3            1.0\n",
       "[김병관 낭독] 못 먹어도 go! (단편)       100.0              1            1.0\n",
       "신안진이 읽는 이문열의 필론과 돼지           100.0              1            1.0"
      ]
     },
     "execution_count": 14,
     "metadata": {},
     "output_type": "execute_result"
    }
   ],
   "source": [
    "means = pd.DataFrame(means, columns = ['rating_avg'])\n",
    "count = pd.DataFrame(count, columns = ['no_of_ratings'])\n",
    "rating_pct = pd.DataFrame(good_count, columns = ['over_80_ratio'])\n",
    "\n",
    "ratings = pd.merge(left=means, right=count, how='left',left_index=True,right_index=True)\n",
    "\n",
    "ratings = ratings.merge(rating_pct, how='left',left_index=True,right_index=True)\n",
    "\n",
    "ratings.sample(3)"
   ]
  },
  {
   "cell_type": "code",
   "execution_count": 15,
   "metadata": {},
   "outputs": [
    {
     "data": {
      "text/html": [
       "<div>\n",
       "<style scoped>\n",
       "    .dataframe tbody tr th:only-of-type {\n",
       "        vertical-align: middle;\n",
       "    }\n",
       "\n",
       "    .dataframe tbody tr th {\n",
       "        vertical-align: top;\n",
       "    }\n",
       "\n",
       "    .dataframe thead th {\n",
       "        text-align: right;\n",
       "    }\n",
       "</style>\n",
       "<table border=\"1\" class=\"dataframe\">\n",
       "  <thead>\n",
       "    <tr style=\"text-align: right;\">\n",
       "      <th></th>\n",
       "      <th>rating_avg</th>\n",
       "      <th>no_of_ratings</th>\n",
       "      <th>over_80_ratio</th>\n",
       "    </tr>\n",
       "    <tr>\n",
       "      <th>title</th>\n",
       "      <th></th>\n",
       "      <th></th>\n",
       "      <th></th>\n",
       "    </tr>\n",
       "  </thead>\n",
       "  <tbody>\n",
       "    <tr>\n",
       "      <th>오만과 편견(요약본)</th>\n",
       "      <td>99.339623</td>\n",
       "      <td>106</td>\n",
       "      <td>1.000000</td>\n",
       "    </tr>\n",
       "    <tr>\n",
       "      <th>열하일기 첫걸음</th>\n",
       "      <td>99.545455</td>\n",
       "      <td>352</td>\n",
       "      <td>0.997159</td>\n",
       "    </tr>\n",
       "    <tr>\n",
       "      <th>세계는 왜 싸우는가</th>\n",
       "      <td>99.171975</td>\n",
       "      <td>314</td>\n",
       "      <td>0.996815</td>\n",
       "    </tr>\n",
       "  </tbody>\n",
       "</table>\n",
       "</div>"
      ],
      "text/plain": [
       "             rating_avg  no_of_ratings  over_80_ratio\n",
       "title                                                \n",
       "오만과 편견(요약본)   99.339623            106       1.000000\n",
       "열하일기 첫걸음      99.545455            352       0.997159\n",
       "세계는 왜 싸우는가    99.171975            314       0.996815"
      ]
     },
     "execution_count": 15,
     "metadata": {},
     "output_type": "execute_result"
    }
   ],
   "source": [
    "ratings.query('no_of_ratings > 100').sort_values(by='over_80_ratio', ascending=False).head(3)"
   ]
  },
  {
   "cell_type": "code",
   "execution_count": 16,
   "metadata": {},
   "outputs": [
    {
     "data": {
      "text/plain": [
       "<AxesSubplot:>"
      ]
     },
     "execution_count": 16,
     "metadata": {},
     "output_type": "execute_result"
    },
    {
     "data": {
      "image/png": "[encoded data removed]",
      "text/plain": [
       "<Figure size 1440x288 with 1 Axes>"
      ]
     },
     "metadata": {
      "needs_background": "light"
     },
     "output_type": "display_data"
    }
   ],
   "source": [
    "plt.figure(figsize = (20,4))\n",
    "ratings['no_of_ratings'].hist(bins=100,color='c')"
   ]
  },
  {
   "cell_type": "code",
   "execution_count": 17,
   "metadata": {},
   "outputs": [
    {
     "data": {
      "text/plain": [
       "<AxesSubplot:>"
      ]
     },
     "execution_count": 17,
     "metadata": {},
     "output_type": "execute_result"
    },
    {
     "data": {
      "image/png": "[encoded data removed]",
      "text/plain": [
       "<Figure size 1440x288 with 1 Axes>"
      ]
     },
     "metadata": {
      "needs_background": "light"
     },
     "output_type": "display_data"
    }
   ],
   "source": [
    "plt.figure(figsize = (20,4))\n",
    "ratings['rating_avg'].hist(bins=20,color='c')"
   ]
  },
  {
   "cell_type": "code",
   "execution_count": 18,
   "metadata": {},
   "outputs": [
    {
     "data": {
      "text/plain": [
       "<seaborn.axisgrid.JointGrid at 0x249da93c5c8>"
      ]
     },
     "execution_count": 18,
     "metadata": {},
     "output_type": "execute_result"
    },
    {
     "data": {
      "image/png": "[encoded data removed]",
      "text/plain": [
       "<Figure size 432x432 with 3 Axes>"
      ]
     },
     "metadata": {
      "needs_background": "light"
     },
     "output_type": "display_data"
    }
   ],
   "source": [
    "sns.jointplot(x='rating_avg', y='no_of_ratings', data= ratings, alpha = 0.5, color='c')"
   ]
  },
  {
   "cell_type": "markdown",
   "metadata": {},
   "source": [
    "<div class=\"alert alert-warning\">\n",
    "분석에서 아래와 같이 rating이 몇개 이상인 책만 뽑아서 봐도 되는것...?\n",
    "</div>"
   ]
  },
  {
   "cell_type": "code",
   "execution_count": 30,
   "metadata": {},
   "outputs": [
    {
     "data": {
      "text/plain": [
       "0            유노창민\n",
       "1         나이스가이72\n",
       "2              하브\n",
       "3              양수\n",
       "4        티씨지는부산더락\n",
       "           ...   \n",
       "17503        후후후크\n",
       "17504         하루유\n",
       "17505    pink9964\n",
       "17506         소민맘\n",
       "17507        유노창민\n",
       "Name: nickname, Length: 17508, dtype: object"
      ]
     },
     "execution_count": 30,
     "metadata": {},
     "output_type": "execute_result"
    }
   ],
   "source": [
    "df.nickname"
   ]
  },
  {
   "cell_type": "code",
   "execution_count": 19,
   "metadata": {},
   "outputs": [
    {
     "data": {
      "text/plain": [
       "count     198.000000\n",
       "mean       79.727273\n",
       "std       157.853708\n",
       "min         1.000000\n",
       "25%         1.000000\n",
       "50%         6.000000\n",
       "75%        86.750000\n",
       "max      1445.000000\n",
       "Name: no_of_ratings, dtype: float64"
      ]
     },
     "execution_count": 19,
     "metadata": {},
     "output_type": "execute_result"
    }
   ],
   "source": [
    "ratings['no_of_ratings'].describe()"
   ]
  },
  {
   "cell_type": "markdown",
   "metadata": {},
   "source": [
    "하위 50%의 분포를 살펴보면: 1~4정도임"
   ]
  },
  {
   "cell_type": "code",
   "execution_count": 20,
   "metadata": {},
   "outputs": [
    {
     "data": {
      "text/plain": [
       "0.00    1.0\n",
       "0.05    1.0\n",
       "0.10    1.0\n",
       "0.15    1.0\n",
       "0.20    1.0\n",
       "0.25    1.0\n",
       "0.30    2.0\n",
       "0.35    2.0\n",
       "0.40    2.0\n",
       "0.45    4.0\n",
       "Name: no_of_ratings, dtype: float64"
      ]
     },
     "execution_count": 20,
     "metadata": {},
     "output_type": "execute_result"
    }
   ],
   "source": [
    "ratings['no_of_ratings'].quantile(np.arange(0, 0.5, 0.05))"
   ]
  },
  {
   "cell_type": "code",
   "execution_count": 21,
   "metadata": {},
   "outputs": [
    {
     "data": {
      "text/html": [
       "<div>\n",
       "<style scoped>\n",
       "    .dataframe tbody tr th:only-of-type {\n",
       "        vertical-align: middle;\n",
       "    }\n",
       "\n",
       "    .dataframe tbody tr th {\n",
       "        vertical-align: top;\n",
       "    }\n",
       "\n",
       "    .dataframe thead th {\n",
       "        text-align: right;\n",
       "    }\n",
       "</style>\n",
       "<table border=\"1\" class=\"dataframe\">\n",
       "  <thead>\n",
       "    <tr style=\"text-align: right;\">\n",
       "      <th></th>\n",
       "      <th>rating_avg</th>\n",
       "      <th>no_of_ratings</th>\n",
       "      <th>over_80_ratio</th>\n",
       "    </tr>\n",
       "    <tr>\n",
       "      <th>title</th>\n",
       "      <th></th>\n",
       "      <th></th>\n",
       "      <th></th>\n",
       "    </tr>\n",
       "  </thead>\n",
       "  <tbody>\n",
       "    <tr>\n",
       "      <th>[강연형] 제국대학의 조센징</th>\n",
       "      <td>95.441767</td>\n",
       "      <td>498</td>\n",
       "      <td>0.945783</td>\n",
       "    </tr>\n",
       "    <tr>\n",
       "      <th>[공포괴담집] 무조건 모르는 척하세요</th>\n",
       "      <td>93.908629</td>\n",
       "      <td>197</td>\n",
       "      <td>0.949239</td>\n",
       "    </tr>\n",
       "    <tr>\n",
       "      <th>[공포괴담집] 저승에서 돌아온 남자</th>\n",
       "      <td>94.405286</td>\n",
       "      <td>227</td>\n",
       "      <td>0.964758</td>\n",
       "    </tr>\n",
       "  </tbody>\n",
       "</table>\n",
       "</div>"
      ],
      "text/plain": [
       "                      rating_avg  no_of_ratings  over_80_ratio\n",
       "title                                                         \n",
       "[강연형] 제국대학의 조센징        95.441767            498       0.945783\n",
       "[공포괴담집] 무조건 모르는 척하세요   93.908629            197       0.949239\n",
       "[공포괴담집] 저승에서 돌아온 남자    94.405286            227       0.964758"
      ]
     },
     "execution_count": 21,
     "metadata": {},
     "output_type": "execute_result"
    }
   ],
   "source": [
    "ratings_min_6 = ratings.query('no_of_ratings >= 6')\n",
    "ratings_min_6.head(3)"
   ]
  },
  {
   "cell_type": "markdown",
   "metadata": {},
   "source": [
    "<div class=\"alert alert-warning\">\n",
    "근본적으로 우리가 책이 200권 정도밖에 없는데, <br>\n",
    "리뷰 5개 이상인 책으로 바꾸면 그게 반토막 나게됨<br>\n",
    "그렇게 데이터 수를 희생하면서 봐도 되는 것인지..?<br>\n",
    "</div>"
   ]
  },
  {
   "cell_type": "code",
   "execution_count": null,
   "metadata": {},
   "outputs": [],
   "source": []
  },
  {
   "cell_type": "markdown",
   "metadata": {},
   "source": [
    "# 3. Prediction With Surprise<a class=\"anchor\" id=\"bullet3\"></a>"
   ]
  },
  {
   "cell_type": "code",
   "execution_count": null,
   "metadata": {},
   "outputs": [],
   "source": []
  },
  {
   "cell_type": "code",
   "execution_count": 321,
   "metadata": {},
   "outputs": [],
   "source": [
    "from surprise import Reader\n",
    "from surprise import Dataset\n",
    "from surprise import accuracy\n",
    "from surprise.model_selection import KFold\n",
    "from surprise import SVD\n",
    "from surprise import NMF\n",
    "from surprise import KNNBasic"
   ]
  },
  {
   "cell_type": "code",
   "execution_count": 291,
   "metadata": {},
   "outputs": [],
   "source": [
    "reader = Reader(rating_scale=(10, 100))\n",
    "data = Dataset.load_from_df(all_review[['nickname', 'title', 'rating']], reader)"
   ]
  },
  {
   "cell_type": "code",
   "execution_count": 312,
   "metadata": {},
   "outputs": [
    {
     "name": "stdout",
     "output_type": "stream",
     "text": [
      "RMSE: 10.8928\n",
      "RMSE: 9.7162\n",
      "RMSE: 10.1348\n"
     ]
    }
   ],
   "source": [
    "kf = KFold(n_splits=3)\n",
    "\n",
    "algo = SVD()\n",
    "\n",
    "for trainset, testset in kf.split(data):\n",
    "    # train and test algorithm.\n",
    "    algo.fit(trainset)\n",
    "    predictions = algo.test(testset)\n",
    "\n",
    "    # Compute and print Root Mean Squared Error\n",
    "    accuracy.rmse(predictions, verbose=True)"
   ]
  },
  {
   "cell_type": "code",
   "execution_count": 316,
   "metadata": {},
   "outputs": [
    {
     "name": "stdout",
     "output_type": "stream",
     "text": [
      "RMSE: 76.8622\n",
      "RMSE: 76.8241\n",
      "RMSE: 76.8932\n"
     ]
    }
   ],
   "source": [
    "kf = KFold(n_splits=3)\n",
    "\n",
    "algo = NMF()\n",
    "\n",
    "for trainset, testset in kf.split(data):\n",
    "    # train and test algorithm.\n",
    "    algo.fit(trainset)\n",
    "    predictions = algo.test(testset)\n",
    "\n",
    "    # Compute and print Root Mean Squared Error\n",
    "    accuracy.rmse(predictions, verbose=True)"
   ]
  },
  {
   "cell_type": "code",
   "execution_count": 320,
   "metadata": {},
   "outputs": [
    {
     "name": "stdout",
     "output_type": "stream",
     "text": [
      "Computing the msd similarity matrix...\n",
      "Done computing similarity matrix.\n",
      "RMSE: 10.8977\n",
      "Computing the msd similarity matrix...\n",
      "Done computing similarity matrix.\n",
      "RMSE: 11.1375\n",
      "Computing the msd similarity matrix...\n",
      "Done computing similarity matrix.\n",
      "RMSE: 11.0858\n"
     ]
    }
   ],
   "source": [
    "kf = KFold(n_splits=3)\n",
    "\n",
    "algo = KNNBasic()\n",
    "\n",
    "for trainset, testset in kf.split(data):\n",
    "    # train and test algorithm.\n",
    "    algo.fit(trainset)\n",
    "    predictions = algo.test(testset)\n",
    "\n",
    "    # Compute and print Root Mean Squared Error\n",
    "    accuracy.rmse(predictions, verbose=True)"
   ]
  },
  {
   "cell_type": "code",
   "execution_count": null,
   "metadata": {},
   "outputs": [],
   "source": []
  }
 ],
 "metadata": {
  "kernelspec": {
   "display_name": "Python 3",
   "language": "python",
   "name": "python3"
  },
  "language_info": {
   "codemirror_mode": {
    "name": "ipython",
    "version": 3
   },
   "file_extension": ".py",
   "mimetype": "text/x-python",
   "name": "python",
   "nbconvert_exporter": "python",
   "pygments_lexer": "ipython3",
   "version": "3.7.4"
  }
 },
 "nbformat": 4,
 "nbformat_minor": 2
}
