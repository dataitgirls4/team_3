{
 "cells": [
  {
   "cell_type": "markdown",
   "metadata": {},
   "source": [
    "# table of contents\n",
    "[1. 필요한 파일 불러오기 및 정리](#bullet1)<br>\n",
    "[2. 데이터 EDA](#bullet2)<br>\n",
    "[3. Split Data](#bullet3)<br>\n",
    "[4. Similarity - with kNN](#bullet4)<br>\n",
    "[5. Make Predictions](#bullet5)<br>"
   ]
  },
  {
   "cell_type": "markdown",
   "metadata": {},
   "source": [
    "# 1. 필요한 파일 불러오기 및 정리<a class=\"anchor\" id=\"bullet1\"></a>\n"
   ]
  },
  {
   "cell_type": "code",
   "execution_count": 13,
   "metadata": {},
   "outputs": [],
   "source": [
    "from scipy.stats import pearsonr\n",
    "from datetime import datetime\n",
    "import pandas as pd\n",
    "import numpy as np\n",
    "import seaborn as sns\n",
    "import os\n",
    "import random\n",
    "import matplotlib\n",
    "import matplotlib.pyplot as plt\n",
    "from scipy import sparse\n",
    "from sklearn.metrics.pairwise import cosine_similarity\n",
    "from sklearn.metrics import mean_squared_error\n"
   ]
  },
  {
   "cell_type": "code",
   "execution_count": 10,
   "metadata": {},
   "outputs": [
    {
     "data": {
      "text/html": [
       "<div>\n",
       "<style scoped>\n",
       "    .dataframe tbody tr th:only-of-type {\n",
       "        vertical-align: middle;\n",
       "    }\n",
       "\n",
       "    .dataframe tbody tr th {\n",
       "        vertical-align: top;\n",
       "    }\n",
       "\n",
       "    .dataframe thead th {\n",
       "        text-align: right;\n",
       "    }\n",
       "</style>\n",
       "<table border=\"1\" class=\"dataframe\">\n",
       "  <thead>\n",
       "    <tr style=\"text-align: right;\">\n",
       "      <th></th>\n",
       "      <th>nickname</th>\n",
       "      <th>title</th>\n",
       "      <th>rating</th>\n",
       "    </tr>\n",
       "  </thead>\n",
       "  <tbody>\n",
       "    <tr>\n",
       "      <th>14244</th>\n",
       "      <td>ddorg321</td>\n",
       "      <td>골든아워2</td>\n",
       "      <td>80</td>\n",
       "    </tr>\n",
       "    <tr>\n",
       "      <th>13507</th>\n",
       "      <td>날윤</td>\n",
       "      <td>열하일기 첫걸음</td>\n",
       "      <td>100</td>\n",
       "    </tr>\n",
       "    <tr>\n",
       "      <th>11054</th>\n",
       "      <td>힉스입자</td>\n",
       "      <td>딜리트</td>\n",
       "      <td>100</td>\n",
       "    </tr>\n",
       "    <tr>\n",
       "      <th>11926</th>\n",
       "      <td>완벽완전팟방</td>\n",
       "      <td>초등 감정 사용법</td>\n",
       "      <td>100</td>\n",
       "    </tr>\n",
       "    <tr>\n",
       "      <th>7660</th>\n",
       "      <td>kban</td>\n",
       "      <td>[세계환상문학선] 오스카 와일드의 환상문학선</td>\n",
       "      <td>90</td>\n",
       "    </tr>\n",
       "  </tbody>\n",
       "</table>\n",
       "</div>"
      ],
      "text/plain": [
       "       nickname                     title  rating\n",
       "14244  ddorg321                     골든아워2      80\n",
       "13507        날윤                  열하일기 첫걸음     100\n",
       "11054      힉스입자                       딜리트     100\n",
       "11926    완벽완전팟방                 초등 감정 사용법     100\n",
       "7660       kban  [세계환상문학선] 오스카 와일드의 환상문학선      90"
      ]
     },
     "execution_count": 10,
     "metadata": {},
     "output_type": "execute_result"
    }
   ],
   "source": [
    "raw = pd.read_csv('booklist.csv', encoding='cp949', index_col = False)\n",
    "\n",
    "df = raw[['nickname', 'title',  'rating']]\n",
    "\n",
    "df.sample(5)"
   ]
  },
  {
   "cell_type": "markdown",
   "metadata": {},
   "source": [
    "## 1.1 title_df, user_df 만들기<a class=\"anchor\" id=\"bullet1.1\"></a>"
   ]
  },
  {
   "cell_type": "code",
   "execution_count": 15,
   "metadata": {},
   "outputs": [
    {
     "data": {
      "text/html": [
       "<div>\n",
       "<style scoped>\n",
       "    .dataframe tbody tr th:only-of-type {\n",
       "        vertical-align: middle;\n",
       "    }\n",
       "\n",
       "    .dataframe tbody tr th {\n",
       "        vertical-align: top;\n",
       "    }\n",
       "\n",
       "    .dataframe thead th {\n",
       "        text-align: right;\n",
       "    }\n",
       "</style>\n",
       "<table border=\"1\" class=\"dataframe\">\n",
       "  <thead>\n",
       "    <tr style=\"text-align: right;\">\n",
       "      <th></th>\n",
       "      <th>nickname</th>\n",
       "      <th>title</th>\n",
       "      <th>rating</th>\n",
       "      <th>usr_id</th>\n",
       "      <th>ttl_id</th>\n",
       "    </tr>\n",
       "  </thead>\n",
       "  <tbody>\n",
       "    <tr>\n",
       "      <th>15245</th>\n",
       "      <td>meiting</td>\n",
       "      <td>운명이다</td>\n",
       "      <td>100</td>\n",
       "      <td>1590</td>\n",
       "      <td>63</td>\n",
       "    </tr>\n",
       "    <tr>\n",
       "      <th>7576</th>\n",
       "      <td>율리맘</td>\n",
       "      <td>빨강머리 앤 : 에이번리 이야기</td>\n",
       "      <td>100</td>\n",
       "      <td>4326</td>\n",
       "      <td>19</td>\n",
       "    </tr>\n",
       "    <tr>\n",
       "      <th>8300</th>\n",
       "      <td>노브레끼</td>\n",
       "      <td>100인의 배우, 우리 문학을 읽다</td>\n",
       "      <td>60</td>\n",
       "      <td>4125</td>\n",
       "      <td>104</td>\n",
       "    </tr>\n",
       "    <tr>\n",
       "      <th>5419</th>\n",
       "      <td>빛나라둥이둥둥이</td>\n",
       "      <td>[공포괴담집] 저승에서 돌아온 남자</td>\n",
       "      <td>100</td>\n",
       "      <td>2018</td>\n",
       "      <td>56</td>\n",
       "    </tr>\n",
       "    <tr>\n",
       "      <th>1918</th>\n",
       "      <td>퐁이퐁퐁</td>\n",
       "      <td>블랙코미디</td>\n",
       "      <td>60</td>\n",
       "      <td>4088</td>\n",
       "      <td>126</td>\n",
       "    </tr>\n",
       "  </tbody>\n",
       "</table>\n",
       "</div>"
      ],
      "text/plain": [
       "       nickname                title  rating  usr_id  ttl_id\n",
       "15245   meiting                 운명이다     100    1590      63\n",
       "7576        율리맘    빨강머리 앤 : 에이번리 이야기     100    4326      19\n",
       "8300       노브레끼  100인의 배우, 우리 문학을 읽다      60    4125     104\n",
       "5419   빛나라둥이둥둥이  [공포괴담집] 저승에서 돌아온 남자     100    2018      56\n",
       "1918       퐁이퐁퐁                블랙코미디      60    4088     126"
      ]
     },
     "execution_count": 15,
     "metadata": {},
     "output_type": "execute_result"
    }
   ],
   "source": [
    "user_df = pd.DataFrame(list(df.nickname\t.unique()), columns = ['nickname'])\n",
    "user_df['usr_id'] = random.sample(range(1,len(user_df)+1), len(user_df))\n",
    "\n",
    "title_df = pd.DataFrame(list(df.title.unique()), columns = ['title'])\n",
    "title_df['ttl_id'] = random.sample(range(1,len(title_df)+1), len(title_df))\n",
    "\n",
    "df = df.merge(user_df, how = 'left' )\n",
    "df = df.merge(title_df, how = 'left' )\n",
    "\n",
    "df.sample(5)"
   ]
  },
  {
   "cell_type": "code",
   "execution_count": 27,
   "metadata": {},
   "outputs": [
    {
     "data": {
      "text/html": [
       "<div>\n",
       "<style scoped>\n",
       "    .dataframe tbody tr th:only-of-type {\n",
       "        vertical-align: middle;\n",
       "    }\n",
       "\n",
       "    .dataframe tbody tr th {\n",
       "        vertical-align: top;\n",
       "    }\n",
       "\n",
       "    .dataframe thead th {\n",
       "        text-align: right;\n",
       "    }\n",
       "</style>\n",
       "<table border=\"1\" class=\"dataframe\">\n",
       "  <thead>\n",
       "    <tr style=\"text-align: right;\">\n",
       "      <th></th>\n",
       "      <th>user</th>\n",
       "      <th>title</th>\n",
       "      <th>rating</th>\n",
       "      <th>usr_id</th>\n",
       "      <th>ttl_id</th>\n",
       "    </tr>\n",
       "  </thead>\n",
       "  <tbody>\n",
       "    <tr>\n",
       "      <th>5250</th>\n",
       "      <td>korkor9657</td>\n",
       "      <td>[공포괴담집] 저승에서 돌아온 남자</td>\n",
       "      <td>80</td>\n",
       "      <td>3599</td>\n",
       "      <td>56</td>\n",
       "    </tr>\n",
       "  </tbody>\n",
       "</table>\n",
       "</div>"
      ],
      "text/plain": [
       "            user                title  rating  usr_id  ttl_id\n",
       "5250  korkor9657  [공포괴담집] 저승에서 돌아온 남자      80    3599      56"
      ]
     },
     "execution_count": 27,
     "metadata": {},
     "output_type": "execute_result"
    }
   ],
   "source": [
    "df.columns = ['user', 'title', 'rating', 'usr_id', 'ttl_id']\n",
    "df.sample()"
   ]
  },
  {
   "cell_type": "markdown",
   "metadata": {},
   "source": [
    "## 1.2 pivot_df 만들기<a class=\"anchor\" id=\"bullet1.2\"></a>\n",
    "user가 행, title이 id\n"
   ]
  },
  {
   "cell_type": "code",
   "execution_count": 30,
   "metadata": {},
   "outputs": [
    {
     "data": {
      "text/html": [
       "<div>\n",
       "<style scoped>\n",
       "    .dataframe tbody tr th:only-of-type {\n",
       "        vertical-align: middle;\n",
       "    }\n",
       "\n",
       "    .dataframe tbody tr th {\n",
       "        vertical-align: top;\n",
       "    }\n",
       "\n",
       "    .dataframe thead th {\n",
       "        text-align: right;\n",
       "    }\n",
       "</style>\n",
       "<table border=\"1\" class=\"dataframe\">\n",
       "  <thead>\n",
       "    <tr style=\"text-align: right;\">\n",
       "      <th>title</th>\n",
       "      <th>100인의 배우, 우리 문학을 읽다</th>\n",
       "      <th>1등은 당신처럼 공부하지 않았다</th>\n",
       "      <th>&lt;테이크아웃 오디오북&gt; 목견</th>\n",
       "      <th>[Young K 낭독] 페이퍼 컷 (단편)</th>\n",
       "      <th>[강연형] 제국대학의 조센징</th>\n",
       "      <th>[공포괴담집] 무조건 모르는 척하세요</th>\n",
       "      <th>[공포괴담집] 저승에서 돌아온 남자</th>\n",
       "      <th>[규빈 낭독] 배꼽 (단편)</th>\n",
       "      <th>[김대명 낭독] 세계의 호수 _ 작은책</th>\n",
       "      <th>[김도연 낭독] 림 로드 (단편)</th>\n",
       "      <th>...</th>\n",
       "      <th>출판번역가로 먹고살기</th>\n",
       "      <th>친애하는 내당신에게</th>\n",
       "      <th>투명인간</th>\n",
       "      <th>파씨의 입문</th>\n",
       "      <th>편안하게 호흡을 합니다</th>\n",
       "      <th>편의점으로 먹고살기</th>\n",
       "      <th>한마디면 충분하다</th>\n",
       "      <th>해외영업으로 먹고살기</th>\n",
       "      <th>회색 인간</th>\n",
       "      <th>후아유</th>\n",
       "    </tr>\n",
       "    <tr>\n",
       "      <th>user</th>\n",
       "      <th></th>\n",
       "      <th></th>\n",
       "      <th></th>\n",
       "      <th></th>\n",
       "      <th></th>\n",
       "      <th></th>\n",
       "      <th></th>\n",
       "      <th></th>\n",
       "      <th></th>\n",
       "      <th></th>\n",
       "      <th></th>\n",
       "      <th></th>\n",
       "      <th></th>\n",
       "      <th></th>\n",
       "      <th></th>\n",
       "      <th></th>\n",
       "      <th></th>\n",
       "      <th></th>\n",
       "      <th></th>\n",
       "      <th></th>\n",
       "      <th></th>\n",
       "    </tr>\n",
       "  </thead>\n",
       "  <tbody>\n",
       "    <tr>\n",
       "      <th>vicodin</th>\n",
       "      <td>NaN</td>\n",
       "      <td>NaN</td>\n",
       "      <td>NaN</td>\n",
       "      <td>NaN</td>\n",
       "      <td>NaN</td>\n",
       "      <td>NaN</td>\n",
       "      <td>NaN</td>\n",
       "      <td>NaN</td>\n",
       "      <td>NaN</td>\n",
       "      <td>NaN</td>\n",
       "      <td>...</td>\n",
       "      <td>NaN</td>\n",
       "      <td>NaN</td>\n",
       "      <td>NaN</td>\n",
       "      <td>NaN</td>\n",
       "      <td>NaN</td>\n",
       "      <td>NaN</td>\n",
       "      <td>NaN</td>\n",
       "      <td>NaN</td>\n",
       "      <td>NaN</td>\n",
       "      <td>NaN</td>\n",
       "    </tr>\n",
       "    <tr>\n",
       "      <th>피러미드박</th>\n",
       "      <td>NaN</td>\n",
       "      <td>NaN</td>\n",
       "      <td>NaN</td>\n",
       "      <td>NaN</td>\n",
       "      <td>NaN</td>\n",
       "      <td>NaN</td>\n",
       "      <td>NaN</td>\n",
       "      <td>NaN</td>\n",
       "      <td>NaN</td>\n",
       "      <td>NaN</td>\n",
       "      <td>...</td>\n",
       "      <td>NaN</td>\n",
       "      <td>NaN</td>\n",
       "      <td>NaN</td>\n",
       "      <td>NaN</td>\n",
       "      <td>NaN</td>\n",
       "      <td>NaN</td>\n",
       "      <td>NaN</td>\n",
       "      <td>NaN</td>\n",
       "      <td>NaN</td>\n",
       "      <td>NaN</td>\n",
       "    </tr>\n",
       "    <tr>\n",
       "      <th>enomi</th>\n",
       "      <td>NaN</td>\n",
       "      <td>NaN</td>\n",
       "      <td>NaN</td>\n",
       "      <td>NaN</td>\n",
       "      <td>NaN</td>\n",
       "      <td>NaN</td>\n",
       "      <td>NaN</td>\n",
       "      <td>NaN</td>\n",
       "      <td>NaN</td>\n",
       "      <td>NaN</td>\n",
       "      <td>...</td>\n",
       "      <td>NaN</td>\n",
       "      <td>NaN</td>\n",
       "      <td>NaN</td>\n",
       "      <td>NaN</td>\n",
       "      <td>NaN</td>\n",
       "      <td>NaN</td>\n",
       "      <td>NaN</td>\n",
       "      <td>NaN</td>\n",
       "      <td>NaN</td>\n",
       "      <td>NaN</td>\n",
       "    </tr>\n",
       "    <tr>\n",
       "      <th>LUCERE</th>\n",
       "      <td>NaN</td>\n",
       "      <td>NaN</td>\n",
       "      <td>NaN</td>\n",
       "      <td>NaN</td>\n",
       "      <td>NaN</td>\n",
       "      <td>NaN</td>\n",
       "      <td>NaN</td>\n",
       "      <td>NaN</td>\n",
       "      <td>NaN</td>\n",
       "      <td>NaN</td>\n",
       "      <td>...</td>\n",
       "      <td>NaN</td>\n",
       "      <td>NaN</td>\n",
       "      <td>NaN</td>\n",
       "      <td>NaN</td>\n",
       "      <td>NaN</td>\n",
       "      <td>NaN</td>\n",
       "      <td>NaN</td>\n",
       "      <td>NaN</td>\n",
       "      <td>NaN</td>\n",
       "      <td>NaN</td>\n",
       "    </tr>\n",
       "  </tbody>\n",
       "</table>\n",
       "<p>4 rows × 200 columns</p>\n",
       "</div>"
      ],
      "text/plain": [
       "title    100인의 배우, 우리 문학을 읽다  1등은 당신처럼 공부하지 않았다  <테이크아웃 오디오북> 목견  \\\n",
       "user                                                               \n",
       "vicodin                  NaN                NaN              NaN   \n",
       "피러미드박                    NaN                NaN              NaN   \n",
       "enomi                    NaN                NaN              NaN   \n",
       "LUCERE                   NaN                NaN              NaN   \n",
       "\n",
       "title    [Young K 낭독] 페이퍼 컷 (단편)  [강연형] 제국대학의 조센징  [공포괴담집] 무조건 모르는 척하세요  \\\n",
       "user                                                                      \n",
       "vicodin                      NaN              NaN                   NaN   \n",
       "피러미드박                        NaN              NaN                   NaN   \n",
       "enomi                        NaN              NaN                   NaN   \n",
       "LUCERE                       NaN              NaN                   NaN   \n",
       "\n",
       "title    [공포괴담집] 저승에서 돌아온 남자  [규빈 낭독] 배꼽 (단편)  [김대명 낭독] 세계의 호수 _ 작은책  \\\n",
       "user                                                                   \n",
       "vicodin                  NaN              NaN                    NaN   \n",
       "피러미드박                    NaN              NaN                    NaN   \n",
       "enomi                    NaN              NaN                    NaN   \n",
       "LUCERE                   NaN              NaN                    NaN   \n",
       "\n",
       "title    [김도연 낭독] 림 로드 (단편)  ...  출판번역가로 먹고살기  친애하는 내당신에게  투명인간  파씨의 입문  \\\n",
       "user                         ...                                          \n",
       "vicodin                 NaN  ...          NaN         NaN   NaN     NaN   \n",
       "피러미드박                   NaN  ...          NaN         NaN   NaN     NaN   \n",
       "enomi                   NaN  ...          NaN         NaN   NaN     NaN   \n",
       "LUCERE                  NaN  ...          NaN         NaN   NaN     NaN   \n",
       "\n",
       "title    편안하게 호흡을 합니다  편의점으로 먹고살기  한마디면 충분하다  해외영업으로 먹고살기  회색 인간  후아유  \n",
       "user                                                                   \n",
       "vicodin           NaN         NaN        NaN          NaN    NaN  NaN  \n",
       "피러미드박             NaN         NaN        NaN          NaN    NaN  NaN  \n",
       "enomi             NaN         NaN        NaN          NaN    NaN  NaN  \n",
       "LUCERE            NaN         NaN        NaN          NaN    NaN  NaN  \n",
       "\n",
       "[4 rows x 200 columns]"
      ]
     },
     "execution_count": 30,
     "metadata": {},
     "output_type": "execute_result"
    }
   ],
   "source": [
    "pivot_df = df.pivot_table('rating', index = 'user', columns = 'title')\n",
    "pivot_df.sample(4)"
   ]
  },
  {
   "cell_type": "code",
   "execution_count": null,
   "metadata": {},
   "outputs": [],
   "source": []
  },
  {
   "cell_type": "markdown",
   "metadata": {},
   "source": [
    "# 2. 데이터 EDA<a class=\"anchor\" id=\"bullet2\"></a>"
   ]
  },
  {
   "cell_type": "code",
   "execution_count": 73,
   "metadata": {},
   "outputs": [
    {
     "name": "stdout",
     "output_type": "stream",
     "text": [
      "데이터의 크기는             : (15965, 5)\n",
      "데이터에 포함된 유저의 수는 : 4951\n",
      "데이터에 포함된 책의 수는   : 200\n"
     ]
    }
   ],
   "source": [
    "print(f\"데이터의 크기는             : {df.shape}\")\n",
    "print(f\"데이터에 포함된 유저의 수는 : {len(user_df)}\")\n",
    "print(f\"데이터에 포함된 책의 수는   : {len(title_df)}\")"
   ]
  },
  {
   "cell_type": "code",
   "execution_count": 66,
   "metadata": {},
   "outputs": [
    {
     "name": "stderr",
     "output_type": "stream",
     "text": [
      "C:\\Users\\Hanna Kim\\Anaconda3\\lib\\site-packages\\ipykernel_launcher.py:3: UserWarning: FixedFormatter should only be used together with FixedLocator\n",
      "  This is separate from the ipykernel package so we can avoid doing imports until\n"
     ]
    },
    {
     "data": {
      "image/png": "[encoded data removed]",
      "text/plain": [
       "<Figure size 864x576 with 1 Axes>"
      ]
     },
     "metadata": {
      "needs_background": "light"
     },
     "output_type": "display_data"
    }
   ],
   "source": [
    "plt.figure(figsize = (12, 8))\n",
    "ax = sns.countplot(x=\"rating\", data=df)\n",
    "ax.set_yticklabels([num for num in ax.get_yticks()])\n",
    "plt.tick_params(labelsize = 15)\n",
    "plt.title(\"Count Ratings in  data\", fontsize = 20)\n",
    "plt.xlabel(\"Ratings\", fontsize = 20)\n",
    "plt.ylabel(\"Number of Ratings\", fontsize = 20)\n",
    "plt.show()"
   ]
  },
  {
   "cell_type": "markdown",
   "metadata": {},
   "source": [
    "일단 가장 높은 n개의 값만 보여주는 함수를 만듭니다."
   ]
  },
  {
   "cell_type": "code",
   "execution_count": 17,
   "metadata": {},
   "outputs": [],
   "source": [
    "def return_best_n(statistics, n):\n",
    "    # statistics: array of size review.shape[1] containing one statistic calculated from the dataset\n",
    "    # n: number of indices to be returned\n",
    "    # returns: array of size *n* containing the indices of the best scored statistics\n",
    "    statistics = pd.DataFrame({'statistic':statistics})\n",
    "    return statistics.sort_values('statistic', ascending = False).iloc[:n]"
   ]
  },
  {
   "cell_type": "markdown",
   "metadata": {},
   "source": [
    "## 2.1 Mean Rating <a class=\"anchor\" id=\"bullet2.1\"></a>\n"
   ]
  },
  {
   "cell_type": "code",
   "execution_count": 40,
   "metadata": {},
   "outputs": [
    {
     "data": {
      "text/html": [
       "<div>\n",
       "<style scoped>\n",
       "    .dataframe tbody tr th:only-of-type {\n",
       "        vertical-align: middle;\n",
       "    }\n",
       "\n",
       "    .dataframe tbody tr th {\n",
       "        vertical-align: top;\n",
       "    }\n",
       "\n",
       "    .dataframe thead th {\n",
       "        text-align: right;\n",
       "    }\n",
       "</style>\n",
       "<table border=\"1\" class=\"dataframe\">\n",
       "  <thead>\n",
       "    <tr style=\"text-align: right;\">\n",
       "      <th></th>\n",
       "      <th>statistic</th>\n",
       "    </tr>\n",
       "    <tr>\n",
       "      <th>title</th>\n",
       "      <th></th>\n",
       "    </tr>\n",
       "  </thead>\n",
       "  <tbody>\n",
       "    <tr>\n",
       "      <th>김의성이 읽는 최인호의 타인의 방</th>\n",
       "      <td>100.0</td>\n",
       "    </tr>\n",
       "    <tr>\n",
       "      <th>경제 읽어주는 남자 김광석의 [디지털 경제의 미래]</th>\n",
       "      <td>100.0</td>\n",
       "    </tr>\n",
       "    <tr>\n",
       "      <th>너의 거기는 작고 나의 여기는 커서 우리들은 헤어지는 중입니다</th>\n",
       "      <td>100.0</td>\n",
       "    </tr>\n",
       "    <tr>\n",
       "      <th>정진영이 읽는 김기진의 젊은 이상주의자의 사</th>\n",
       "      <td>100.0</td>\n",
       "    </tr>\n",
       "    <tr>\n",
       "      <th>중국식 룰렛</th>\n",
       "      <td>100.0</td>\n",
       "    </tr>\n",
       "    <tr>\n",
       "      <th>나만 몰랐던 이야기</th>\n",
       "      <td>100.0</td>\n",
       "    </tr>\n",
       "    <tr>\n",
       "      <th>어린이 성경 : 알기 쉬운 성경이야기</th>\n",
       "      <td>100.0</td>\n",
       "    </tr>\n",
       "    <tr>\n",
       "      <th>김용 대하역사무협 신조협려 하이라이트</th>\n",
       "      <td>100.0</td>\n",
       "    </tr>\n",
       "    <tr>\n",
       "      <th>김영민이 읽는 현경준의 탁류</th>\n",
       "      <td>100.0</td>\n",
       "    </tr>\n",
       "    <tr>\n",
       "      <th>길해연이 읽는 양귀자의 원미동 시인</th>\n",
       "      <td>100.0</td>\n",
       "    </tr>\n",
       "  </tbody>\n",
       "</table>\n",
       "</div>"
      ],
      "text/plain": [
       "                                    statistic\n",
       "title                                        \n",
       "김의성이 읽는 최인호의 타인의 방                      100.0\n",
       "경제 읽어주는 남자 김광석의 [디지털 경제의 미래]            100.0\n",
       "너의 거기는 작고 나의 여기는 커서 우리들은 헤어지는 중입니다      100.0\n",
       "정진영이 읽는 김기진의 젊은 이상주의자의 사                100.0\n",
       "중국식 룰렛                                  100.0\n",
       "나만 몰랐던 이야기                              100.0\n",
       "어린이 성경 : 알기 쉬운 성경이야기                    100.0\n",
       "김용 대하역사무협 신조협려 하이라이트                    100.0\n",
       "김영민이 읽는 현경준의 탁류                         100.0\n",
       "길해연이 읽는 양귀자의 원미동 시인                     100.0"
      ]
     },
     "execution_count": 40,
     "metadata": {},
     "output_type": "execute_result"
    }
   ],
   "source": [
    "means = pivot_df.iloc[:,2:].apply(np.mean)\n",
    "return_best_n(means,10)"
   ]
  },
  {
   "cell_type": "markdown",
   "metadata": {},
   "source": [
    "## 2.2 Rating Count<a class=\"anchor\" id=\"bullet2.2\"></a>\n"
   ]
  },
  {
   "cell_type": "code",
   "execution_count": 44,
   "metadata": {},
   "outputs": [
    {
     "data": {
      "text/html": [
       "<div>\n",
       "<style scoped>\n",
       "    .dataframe tbody tr th:only-of-type {\n",
       "        vertical-align: middle;\n",
       "    }\n",
       "\n",
       "    .dataframe tbody tr th {\n",
       "        vertical-align: top;\n",
       "    }\n",
       "\n",
       "    .dataframe thead th {\n",
       "        text-align: right;\n",
       "    }\n",
       "</style>\n",
       "<table border=\"1\" class=\"dataframe\">\n",
       "  <thead>\n",
       "    <tr style=\"text-align: right;\">\n",
       "      <th></th>\n",
       "      <th>statistic</th>\n",
       "    </tr>\n",
       "    <tr>\n",
       "      <th>title</th>\n",
       "      <th></th>\n",
       "    </tr>\n",
       "  </thead>\n",
       "  <tbody>\n",
       "    <tr>\n",
       "      <th>최민식이 읽는 이범선의 오발탄</th>\n",
       "      <td>1445</td>\n",
       "    </tr>\n",
       "    <tr>\n",
       "      <th>운명이다</th>\n",
       "      <td>598</td>\n",
       "    </tr>\n",
       "    <tr>\n",
       "      <th>어른이 되면 괜찮을 줄 알았다</th>\n",
       "      <td>530</td>\n",
       "    </tr>\n",
       "    <tr>\n",
       "      <th>딜리트</th>\n",
       "      <td>521</td>\n",
       "    </tr>\n",
       "    <tr>\n",
       "      <th>[강연형] 제국대학의 조센징</th>\n",
       "      <td>498</td>\n",
       "    </tr>\n",
       "    <tr>\n",
       "      <th>담배만이 우리 세상</th>\n",
       "      <td>480</td>\n",
       "    </tr>\n",
       "    <tr>\n",
       "      <th>[한예리 낭독] 안락 _ 작은책</th>\n",
       "      <td>407</td>\n",
       "    </tr>\n",
       "    <tr>\n",
       "      <th>살고 싶다는 농담</th>\n",
       "      <td>392</td>\n",
       "    </tr>\n",
       "    <tr>\n",
       "      <th>나는 왠지 대박날 것만 같아!</th>\n",
       "      <td>391</td>\n",
       "    </tr>\n",
       "    <tr>\n",
       "      <th>초등 감정 사용법</th>\n",
       "      <td>362</td>\n",
       "    </tr>\n",
       "  </tbody>\n",
       "</table>\n",
       "</div>"
      ],
      "text/plain": [
       "                   statistic\n",
       "title                       \n",
       "최민식이 읽는 이범선의 오발탄        1445\n",
       "운명이다                     598\n",
       "어른이 되면 괜찮을 줄 알았다         530\n",
       "딜리트                      521\n",
       "[강연형] 제국대학의 조센징          498\n",
       "담배만이 우리 세상               480\n",
       "[한예리 낭독] 안락 _ 작은책        407\n",
       "살고 싶다는 농담                392\n",
       "나는 왠지 대박날 것만 같아!         391\n",
       "초등 감정 사용법                362"
      ]
     },
     "execution_count": 44,
     "metadata": {},
     "output_type": "execute_result"
    }
   ],
   "source": [
    "count = pivot_df.iloc[:,2:].apply(lambda col : np.sum(~np.isnan(col)))\n",
    "\n",
    "# return_best_n(count,10).index 를 구하면 제목만 뽑을 수 있음\n",
    "return_best_n(count,10)"
   ]
  },
  {
   "cell_type": "markdown",
   "metadata": {},
   "source": [
    "평균 평점 top10의 책은 몇개의 리뷰가 있을까?"
   ]
  },
  {
   "cell_type": "code",
   "execution_count": 48,
   "metadata": {},
   "outputs": [
    {
     "data": {
      "text/plain": [
       "title\n",
       "김의성이 읽는 최인호의 타인의 방                    5\n",
       "경제 읽어주는 남자 김광석의 [디지털 경제의 미래]          1\n",
       "너의 거기는 작고 나의 여기는 커서 우리들은 헤어지는 중입니다    2\n",
       "정진영이 읽는 김기진의 젊은 이상주의자의 사              2\n",
       "중국식 룰렛                                1\n",
       "나만 몰랐던 이야기                            1\n",
       "어린이 성경 : 알기 쉬운 성경이야기                  4\n",
       "김용 대하역사무협 신조협려 하이라이트                  2\n",
       "김영민이 읽는 현경준의 탁류                       1\n",
       "길해연이 읽는 양귀자의 원미동 시인                   1\n",
       "dtype: int64"
      ]
     },
     "execution_count": 48,
     "metadata": {},
     "output_type": "execute_result"
    }
   ],
   "source": [
    "top10_avg_ratings = return_best_n(means,10).index\n",
    "count.loc[top10_avg_ratings]"
   ]
  },
  {
   "cell_type": "markdown",
   "metadata": {},
   "source": [
    "## 2.3 Percentage of Good Ratings<a class=\"anchor\" id=\"bullet2.3\"></a>\n"
   ]
  },
  {
   "cell_type": "markdown",
   "metadata": {},
   "source": [
    " "
   ]
  },
  {
   "cell_type": "code",
   "execution_count": 82,
   "metadata": {},
   "outputs": [
    {
     "data": {
      "text/html": [
       "<div>\n",
       "<style scoped>\n",
       "    .dataframe tbody tr th:only-of-type {\n",
       "        vertical-align: middle;\n",
       "    }\n",
       "\n",
       "    .dataframe tbody tr th {\n",
       "        vertical-align: top;\n",
       "    }\n",
       "\n",
       "    .dataframe thead th {\n",
       "        text-align: right;\n",
       "    }\n",
       "</style>\n",
       "<table border=\"1\" class=\"dataframe\">\n",
       "  <thead>\n",
       "    <tr style=\"text-align: right;\">\n",
       "      <th></th>\n",
       "      <th>statistic</th>\n",
       "    </tr>\n",
       "    <tr>\n",
       "      <th>title</th>\n",
       "      <th></th>\n",
       "    </tr>\n",
       "  </thead>\n",
       "  <tbody>\n",
       "    <tr>\n",
       "      <th>&lt;테이크아웃 오디오북&gt; 목견</th>\n",
       "      <td>1.0</td>\n",
       "    </tr>\n",
       "    <tr>\n",
       "      <th>김의성이 읽는 최인호의 타인의 방</th>\n",
       "      <td>1.0</td>\n",
       "    </tr>\n",
       "    <tr>\n",
       "      <th>두 도시 이야기(요약본)</th>\n",
       "      <td>1.0</td>\n",
       "    </tr>\n",
       "  </tbody>\n",
       "</table>\n",
       "</div>"
      ],
      "text/plain": [
       "                    statistic\n",
       "title                        \n",
       "<테이크아웃 오디오북> 목견           1.0\n",
       "김의성이 읽는 최인호의 타인의 방        1.0\n",
       "두 도시 이야기(요약본)             1.0"
      ]
     },
     "execution_count": 82,
     "metadata": {},
     "output_type": "execute_result"
    }
   ],
   "source": [
    "good_count = pivot_df.iloc[:,2:].apply(lambda col : np.sum(col >=  80)/np.sum(~np.isnan(col)))\n",
    "return_best_n(good_count,3)"
   ]
  },
  {
   "cell_type": "code",
   "execution_count": 81,
   "metadata": {},
   "outputs": [
    {
     "name": "stdout",
     "output_type": "stream",
     "text": [
      "387\n",
      "391\n"
     ]
    }
   ],
   "source": [
    "#위 코드 이해하기\n",
    "col = pivot_df.iloc[:,2:]['나는 왠지 대박날 것만 같아!']\n",
    "print(np.sum(col >= 80))\n",
    "print(np.sum(~np.isnan(col)))"
   ]
  },
  {
   "cell_type": "markdown",
   "metadata": {},
   "source": [
    "애초에 리뷰가 한개인 경우는 리뷰 수 대비 좋은 리뷰 값이 1로 나옴<br>\n",
    "이걸 해결하기 위해서 리뷰 숫자가 충분한 경우만 확인"
   ]
  },
  {
   "cell_type": "code",
   "execution_count": 91,
   "metadata": {},
   "outputs": [
    {
     "data": {
      "text/html": [
       "<div>\n",
       "<style scoped>\n",
       "    .dataframe tbody tr th:only-of-type {\n",
       "        vertical-align: middle;\n",
       "    }\n",
       "\n",
       "    .dataframe tbody tr th {\n",
       "        vertical-align: top;\n",
       "    }\n",
       "\n",
       "    .dataframe thead th {\n",
       "        text-align: right;\n",
       "    }\n",
       "</style>\n",
       "<table border=\"1\" class=\"dataframe\">\n",
       "  <thead>\n",
       "    <tr style=\"text-align: right;\">\n",
       "      <th></th>\n",
       "      <th>pct_of_ratings</th>\n",
       "    </tr>\n",
       "    <tr>\n",
       "      <th>title</th>\n",
       "      <th></th>\n",
       "    </tr>\n",
       "  </thead>\n",
       "  <tbody>\n",
       "    <tr>\n",
       "      <th>[규빈 낭독] 배꼽 (단편)</th>\n",
       "      <td>1.000000</td>\n",
       "    </tr>\n",
       "    <tr>\n",
       "      <th>[혁 낭독] 이상한 용손 이야기 (단편)</th>\n",
       "      <td>1.000000</td>\n",
       "    </tr>\n",
       "    <tr>\n",
       "      <th>[성진환 낭독] 나조차 나를 사랑하지 못하고</th>\n",
       "      <td>0.981982</td>\n",
       "    </tr>\n",
       "  </tbody>\n",
       "</table>\n",
       "</div>"
      ],
      "text/plain": [
       "                          pct_of_ratings\n",
       "title                                   \n",
       "[규빈 낭독] 배꼽 (단편)                 1.000000\n",
       "[혁 낭독] 이상한 용손 이야기 (단편)          1.000000\n",
       "[성진환 낭독] 나조차 나를 사랑하지 못하고        0.981982"
      ]
     },
     "execution_count": 91,
     "metadata": {},
     "output_type": "execute_result"
    }
   ],
   "source": [
    "good_count_ratings = pd.DataFrame(good_count, columns = ['pct_of_ratings'])\n",
    "good_count_ratings.sample(3)"
   ]
  },
  {
   "cell_type": "code",
   "execution_count": 96,
   "metadata": {},
   "outputs": [
    {
     "data": {
      "text/html": [
       "<div>\n",
       "<style scoped>\n",
       "    .dataframe tbody tr th:only-of-type {\n",
       "        vertical-align: middle;\n",
       "    }\n",
       "\n",
       "    .dataframe tbody tr th {\n",
       "        vertical-align: top;\n",
       "    }\n",
       "\n",
       "    .dataframe thead th {\n",
       "        text-align: right;\n",
       "    }\n",
       "</style>\n",
       "<table border=\"1\" class=\"dataframe\">\n",
       "  <thead>\n",
       "    <tr style=\"text-align: right;\">\n",
       "      <th></th>\n",
       "      <th>no_of_ratings</th>\n",
       "    </tr>\n",
       "    <tr>\n",
       "      <th>title</th>\n",
       "      <th></th>\n",
       "    </tr>\n",
       "  </thead>\n",
       "  <tbody>\n",
       "    <tr>\n",
       "      <th>유인촌이 읽는 안수길의 제3인간형</th>\n",
       "      <td>2</td>\n",
       "    </tr>\n",
       "    <tr>\n",
       "      <th>달려라, 아비</th>\n",
       "      <td>1</td>\n",
       "    </tr>\n",
       "    <tr>\n",
       "      <th>나의 월급 독립 프로젝트</th>\n",
       "      <td>337</td>\n",
       "    </tr>\n",
       "  </tbody>\n",
       "</table>\n",
       "</div>"
      ],
      "text/plain": [
       "                    no_of_ratings\n",
       "title                            \n",
       "유인촌이 읽는 안수길의 제3인간형              2\n",
       "달려라, 아비                         1\n",
       "나의 월급 독립 프로젝트                 337"
      ]
     },
     "execution_count": 96,
     "metadata": {},
     "output_type": "execute_result"
    }
   ],
   "source": [
    "count_ratings = pd.DataFrame(count, columns = ['no_of_ratings'])\n",
    "count_ratings.sample(3)"
   ]
  },
  {
   "cell_type": "code",
   "execution_count": 102,
   "metadata": {},
   "outputs": [
    {
     "data": {
      "text/html": [
       "<div>\n",
       "<style scoped>\n",
       "    .dataframe tbody tr th:only-of-type {\n",
       "        vertical-align: middle;\n",
       "    }\n",
       "\n",
       "    .dataframe tbody tr th {\n",
       "        vertical-align: top;\n",
       "    }\n",
       "\n",
       "    .dataframe thead th {\n",
       "        text-align: right;\n",
       "    }\n",
       "</style>\n",
       "<table border=\"1\" class=\"dataframe\">\n",
       "  <thead>\n",
       "    <tr style=\"text-align: right;\">\n",
       "      <th></th>\n",
       "      <th>pct_of_ratings</th>\n",
       "      <th>no_of_ratings</th>\n",
       "    </tr>\n",
       "    <tr>\n",
       "      <th>title</th>\n",
       "      <th></th>\n",
       "      <th></th>\n",
       "    </tr>\n",
       "  </thead>\n",
       "  <tbody>\n",
       "    <tr>\n",
       "      <th>오만과 편견(요약본)</th>\n",
       "      <td>1.000000</td>\n",
       "      <td>106</td>\n",
       "    </tr>\n",
       "    <tr>\n",
       "      <th>열하일기 첫걸음</th>\n",
       "      <td>0.997159</td>\n",
       "      <td>352</td>\n",
       "    </tr>\n",
       "    <tr>\n",
       "      <th>세계는 왜 싸우는가</th>\n",
       "      <td>0.996815</td>\n",
       "      <td>314</td>\n",
       "    </tr>\n",
       "  </tbody>\n",
       "</table>\n",
       "</div>"
      ],
      "text/plain": [
       "             pct_of_ratings  no_of_ratings\n",
       "title                                     \n",
       "오만과 편견(요약본)        1.000000            106\n",
       "열하일기 첫걸음           0.997159            352\n",
       "세계는 왜 싸우는가         0.996815            314"
      ]
     },
     "execution_count": 102,
     "metadata": {},
     "output_type": "execute_result"
    }
   ],
   "source": [
    "ratings_pct_no = good_count_ratings.merge(count_ratings,left_index=True,right_index=True,how = \"inner\")\n",
    "\n",
    "ratings_pct_no.query('no_of_ratings > 100').sort_values(by='pct_of_ratings', ascending=False).head(3)"
   ]
  },
  {
   "cell_type": "code",
   "execution_count": null,
   "metadata": {},
   "outputs": [],
   "source": []
  },
  {
   "cell_type": "code",
   "execution_count": null,
   "metadata": {},
   "outputs": [],
   "source": []
  },
  {
   "cell_type": "code",
   "execution_count": null,
   "metadata": {},
   "outputs": [],
   "source": []
  },
  {
   "cell_type": "code",
   "execution_count": null,
   "metadata": {},
   "outputs": [],
   "source": []
  },
  {
   "cell_type": "code",
   "execution_count": null,
   "metadata": {},
   "outputs": [],
   "source": []
  },
  {
   "cell_type": "markdown",
   "metadata": {},
   "source": [
    "# 3. Split Data<a class=\"anchor\" id=\"bullet3\"></a>"
   ]
  },
  {
   "cell_type": "markdown",
   "metadata": {},
   "source": [
    "# 4. Similarity - with kNN<a class=\"anchor\" id=\"bullet4\"></a>"
   ]
  },
  {
   "cell_type": "markdown",
   "metadata": {},
   "source": [
    "# 5. Make Predictions<a class=\"anchor\" id=\"bullet5\"></a>"
   ]
  },
  {
   "cell_type": "markdown",
   "metadata": {},
   "source": []
  }
 ],
 "metadata": {
  "kernelspec": {
   "display_name": "Python 3",
   "language": "python",
   "name": "python3"
  },
  "language_info": {
   "codemirror_mode": {
    "name": "ipython",
    "version": 3
   },
   "file_extension": ".py",
   "mimetype": "text/x-python",
   "name": "python",
   "nbconvert_exporter": "python",
   "pygments_lexer": "ipython3",
   "version": "3.8.3"
  }
 },
 "nbformat": 4,
 "nbformat_minor": 2
}
