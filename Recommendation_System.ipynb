{
 "cells": [
  {
   "cell_type": "markdown",
   "metadata": {},
   "source": [
    "## 2020년 11월 30일  ver."
   ]
  },
  {
   "cell_type": "markdown",
   "metadata": {},
   "source": [
    "# table of contents\n",
    "[1. 필요한 파일 불러오기 및 정리](#bullet1)<br>\n",
    "[2. 데이터 EDA](#bullet2)<br>\n",
    "[3. Prediction With Surprise](#bullet3)<br>"
   ]
  },
  {
   "cell_type": "markdown",
   "metadata": {},
   "source": [
    "# 1. 필요한 파일 불러오기 및 정리<a class=\"anchor\" id=\"bullet1\"></a>\n"
   ]
  },
  {
   "cell_type": "code",
   "execution_count": 1,
   "metadata": {},
   "outputs": [],
   "source": [
    "from scipy.stats import pearsonr\n",
    "from datetime import datetime\n",
    "import pandas as pd\n",
    "import numpy as np\n",
    "import seaborn as sns\n",
    "import os\n",
    "import random\n",
    "import matplotlib\n",
    "import matplotlib.pyplot as plt\n",
    "from scipy import sparse\n",
    "from sklearn.metrics.pairwise import cosine_similarity\n",
    "from sklearn.metrics import mean_squared_error\n",
    "%matplotlib inline"
   ]
  },
  {
   "cell_type": "code",
   "execution_count": 12,
   "metadata": {},
   "outputs": [
    {
     "data": {
      "text/html": [
       "<div>\n",
       "<style scoped>\n",
       "    .dataframe tbody tr th:only-of-type {\n",
       "        vertical-align: middle;\n",
       "    }\n",
       "\n",
       "    .dataframe tbody tr th {\n",
       "        vertical-align: top;\n",
       "    }\n",
       "\n",
       "    .dataframe thead th {\n",
       "        text-align: right;\n",
       "    }\n",
       "</style>\n",
       "<table border=\"1\" class=\"dataframe\">\n",
       "  <thead>\n",
       "    <tr style=\"text-align: right;\">\n",
       "      <th></th>\n",
       "      <th>nickname</th>\n",
       "      <th>rating</th>\n",
       "      <th>title</th>\n",
       "      <th>voice</th>\n",
       "      <th>author</th>\n",
       "      <th>review</th>\n",
       "      <th>created</th>\n",
       "      <th>publish</th>\n",
       "      <th>genre</th>\n",
       "    </tr>\n",
       "  </thead>\n",
       "  <tbody>\n",
       "    <tr>\n",
       "      <th>14667</th>\n",
       "      <td>자라32</td>\n",
       "      <td>90</td>\n",
       "      <td>[EBS 세계문학전집] 장발장</td>\n",
       "      <td>정형석</td>\n",
       "      <td>빅토르 위고</td>\n",
       "      <td>잼나예요\\r\\n잘 들었어요</td>\n",
       "      <td>2020.02.21</td>\n",
       "      <td>한국교육방송공사</td>\n",
       "      <td>어린이동화</td>\n",
       "    </tr>\n",
       "  </tbody>\n",
       "</table>\n",
       "</div>"
      ],
      "text/plain": [
       "      nickname  rating             title voice  author          review  \\\n",
       "14667     자라32      90  [EBS 세계문학전집] 장발장   정형석  빅토르 위고  잼나예요\\r\\n잘 들었어요   \n",
       "\n",
       "          created   publish  genre  \n",
       "14667  2020.02.21  한국교육방송공사  어린이동화  "
      ]
     },
     "execution_count": 12,
     "metadata": {},
     "output_type": "execute_result"
    }
   ],
   "source": [
    "all_review = pd.read_csv('data/댓글합.csv',index_col = 0)\n",
    "all_review.drop_duplicates(inplace=True)\n",
    "all_review.sample()"
   ]
  },
  {
   "cell_type": "code",
   "execution_count": 13,
   "metadata": {},
   "outputs": [
    {
     "data": {
      "text/html": [
       "<div>\n",
       "<style scoped>\n",
       "    .dataframe tbody tr th:only-of-type {\n",
       "        vertical-align: middle;\n",
       "    }\n",
       "\n",
       "    .dataframe tbody tr th {\n",
       "        vertical-align: top;\n",
       "    }\n",
       "\n",
       "    .dataframe thead th {\n",
       "        text-align: right;\n",
       "    }\n",
       "</style>\n",
       "<table border=\"1\" class=\"dataframe\">\n",
       "  <thead>\n",
       "    <tr style=\"text-align: right;\">\n",
       "      <th></th>\n",
       "      <th>title</th>\n",
       "      <th>voice</th>\n",
       "      <th>author</th>\n",
       "      <th>publish</th>\n",
       "      <th>genre</th>\n",
       "    </tr>\n",
       "  </thead>\n",
       "  <tbody>\n",
       "    <tr>\n",
       "      <th>983</th>\n",
       "      <td>언어의 온도</td>\n",
       "      <td>박모건</td>\n",
       "      <td>이기주</td>\n",
       "      <td>말글터</td>\n",
       "      <td>인문교양</td>\n",
       "    </tr>\n",
       "  </tbody>\n",
       "</table>\n",
       "</div>"
      ],
      "text/plain": [
       "      title voice author publish genre\n",
       "983  언어의 온도   박모건    이기주     말글터  인문교양"
      ]
     },
     "execution_count": 13,
     "metadata": {},
     "output_type": "execute_result"
    }
   ],
   "source": [
    "all_book = pd.read_csv('data/전체합.csv', index_col = 0)\n",
    "all_book.sample()"
   ]
  },
  {
   "cell_type": "code",
   "execution_count": 41,
   "metadata": {},
   "outputs": [],
   "source": []
  },
  {
   "cell_type": "code",
   "execution_count": null,
   "metadata": {},
   "outputs": [],
   "source": []
  },
  {
   "cell_type": "markdown",
   "metadata": {},
   "source": [
    "## 1.1 title_df, user_df 만들기<a class=\"anchor\" id=\"bullet1.1\"></a>"
   ]
  },
  {
   "cell_type": "code",
   "execution_count": 13,
   "metadata": {},
   "outputs": [],
   "source": [
    "# user_df = pd.DataFrame(list(df.nickname\t.unique()), columns = ['nickname'])\n",
    "# user_df['usr_id'] = random.sample(range(1,len(user_df)+1), len(user_df))\n",
    "\n",
    "# title_df = pd.DataFrame(list(df.title.unique()), columns = ['title'])\n",
    "# title_df['ttl_id'] = random.sample(range(1,len(title_df)+1), len(title_df))\n",
    "\n",
    "# df = df.merge(user_df, how = 'left' )\n",
    "# df = df.merge(title_df, how = 'left' )\n",
    "# df.columns = ['user', 'title', 'rating', 'usr_id', 'ttl_id']\n",
    "# df.sample()"
   ]
  },
  {
   "cell_type": "code",
   "execution_count": 14,
   "metadata": {},
   "outputs": [],
   "source": [
    "# pivot_df = df.pivot_table('rating', index = 'user', columns = 'title')\n",
    "# pivot_df.sample(4)"
   ]
  },
  {
   "cell_type": "markdown",
   "metadata": {},
   "source": [
    "# 2. 데이터 EDA<a class=\"anchor\" id=\"bullet2\"></a>"
   ]
  },
  {
   "cell_type": "markdown",
   "metadata": {},
   "source": [
    "- **장르의 평점 많은 순 정렬, (평점 개수와 함께) 평점 높은 순 정렬 [@최미리](https://4-rdb2294.slack.com/team/U01841JSBPD)**\n",
    "- **팟빵 오디오북 유저들의 장르 취향 파악: 한 우물형 vs 포도송이형 @김현진**\n",
    "- **별점의 분포가 넓은 유저들의 특징과 리뷰를 많이 작성하는 유저들의 별점 분포 [@김연주](https://4-rdb2294.slack.com/team/U0188K64VQV)**\n",
    "- **기간에 따른 리뷰 댓글 수 차이 비교 (시계열 분석) @박지현**\n",
    "- **책 내용을 녹음한 목소리의 주인이 누구인지에 따라 평점 수, 평균 비교 [@김한나](https://4-rdb2294.slack.com/team/U017X3BRY0N)**"
   ]
  },
  {
   "cell_type": "markdown",
   "metadata": {},
   "source": [
    "### 유명인이 읽어주는 경우 vs 작가가 읽어주는 경우 vs 일반성우"
   ]
  },
  {
   "cell_type": "markdown",
   "metadata": {},
   "source": [
    "**null값을 찾자**"
   ]
  },
  {
   "cell_type": "code",
   "execution_count": 15,
   "metadata": {},
   "outputs": [
    {
     "name": "stdout",
     "output_type": "stream",
     "text": [
      "전체 책 수는 : 1719\n"
     ]
    }
   ],
   "source": [
    "print(f\"전체 책 수는 : {len(all_book.title.unique())}\")"
   ]
  },
  {
   "cell_type": "markdown",
   "metadata": {},
   "source": [
    "작가가 없는 책 찾기"
   ]
  },
  {
   "cell_type": "code",
   "execution_count": 16,
   "metadata": {},
   "outputs": [
    {
     "data": {
      "text/plain": [
       "array(['우리나라 삼국지 5권', '[김동식 단편] 흐르는 물이 되어', '100인의 배우, 우리 문학을 읽다'],\n",
       "      dtype=object)"
      ]
     },
     "execution_count": 16,
     "metadata": {},
     "output_type": "execute_result"
    }
   ],
   "source": [
    "all_book[all_book['author'].isnull()].title.unique()"
   ]
  },
  {
   "cell_type": "markdown",
   "metadata": {},
   "source": [
    "**왜 작가가 없을까**<br>\n",
    "1) 우리나라 삼국지 5권: 저자 - 임동주. 시리즈 1-4권 까지는 임동주로 나와있음. <br>\n",
    "2) 흐르는 물이 되어: 작가 - 김동식. <br>\n",
    "1,2번은 오류로 빠진듯. 데이터에 추가해야 함 <br>\n",
    "\n",
    "3) 100인의 배우, 우리 문학을 읽다: 여러 책을 함께 담은 시리즈이기 때문에 한 명의 작가는 없음 <br>\n",
    "[100인 책 페이지](http://m.podbbang.com/audiobook/channel?id=1769055)를 들어가보면 목차 안으로 들어가야 각 책의 제목, 목소리, 작가를 알 수 있음 <br>\n",
    "그런데 이 목차 안의 콘텐츠를 따로 빼서 제공하는 중이기도 함"
   ]
  },
  {
   "cell_type": "code",
   "execution_count": 17,
   "metadata": {},
   "outputs": [
    {
     "data": {
      "text/plain": [
       "array(['우리나라 삼국지 5권', '[김동식 단편] 흐르는 물이 되어', '100인의 배우, 우리 문학을 읽다'],\n",
       "      dtype=object)"
      ]
     },
     "execution_count": 17,
     "metadata": {},
     "output_type": "execute_result"
    }
   ],
   "source": [
    "all_book[all_book['author'].isnull()].title.unique()"
   ]
  },
  {
   "cell_type": "code",
   "execution_count": 18,
   "metadata": {},
   "outputs": [
    {
     "data": {
      "text/html": [
       "<div>\n",
       "<style scoped>\n",
       "    .dataframe tbody tr th:only-of-type {\n",
       "        vertical-align: middle;\n",
       "    }\n",
       "\n",
       "    .dataframe tbody tr th {\n",
       "        vertical-align: top;\n",
       "    }\n",
       "\n",
       "    .dataframe thead th {\n",
       "        text-align: right;\n",
       "    }\n",
       "</style>\n",
       "<table border=\"1\" class=\"dataframe\">\n",
       "  <thead>\n",
       "    <tr style=\"text-align: right;\">\n",
       "      <th></th>\n",
       "      <th>title</th>\n",
       "      <th>voice</th>\n",
       "      <th>author</th>\n",
       "      <th>publish</th>\n",
       "      <th>genre</th>\n",
       "    </tr>\n",
       "  </thead>\n",
       "  <tbody>\n",
       "    <tr>\n",
       "      <th>171</th>\n",
       "      <td>우리나라 삼국지 5권</td>\n",
       "      <td>NaN</td>\n",
       "      <td>NaN</td>\n",
       "      <td>임동주</td>\n",
       "      <td>소설문학</td>\n",
       "    </tr>\n",
       "    <tr>\n",
       "      <th>455</th>\n",
       "      <td>[김동식 단편] 흐르는 물이 되어</td>\n",
       "      <td>이준우</td>\n",
       "      <td>NaN</td>\n",
       "      <td>김동식</td>\n",
       "      <td>소설문학</td>\n",
       "    </tr>\n",
       "  </tbody>\n",
       "</table>\n",
       "</div>"
      ],
      "text/plain": [
       "                  title voice author publish genre\n",
       "171         우리나라 삼국지 5권   NaN    NaN     임동주  소설문학\n",
       "455  [김동식 단편] 흐르는 물이 되어   이준우    NaN     김동식  소설문학"
      ]
     },
     "execution_count": 18,
     "metadata": {},
     "output_type": "execute_result"
    }
   ],
   "source": [
    "all_book[all_book['title'].isin(['우리나라 삼국지 5권', '[김동식 단편] 흐르는 물이 되어'])]"
   ]
  },
  {
   "cell_type": "code",
   "execution_count": 19,
   "metadata": {},
   "outputs": [],
   "source": [
    "all_book.iloc[171, 3] = \"임동주\"\n",
    "all_book.iloc[455, 3] = \"김동식\""
   ]
  },
  {
   "cell_type": "code",
   "execution_count": 20,
   "metadata": {},
   "outputs": [
    {
     "data": {
      "text/html": [
       "<div>\n",
       "<style scoped>\n",
       "    .dataframe tbody tr th:only-of-type {\n",
       "        vertical-align: middle;\n",
       "    }\n",
       "\n",
       "    .dataframe tbody tr th {\n",
       "        vertical-align: top;\n",
       "    }\n",
       "\n",
       "    .dataframe thead th {\n",
       "        text-align: right;\n",
       "    }\n",
       "</style>\n",
       "<table border=\"1\" class=\"dataframe\">\n",
       "  <thead>\n",
       "    <tr style=\"text-align: right;\">\n",
       "      <th></th>\n",
       "      <th>title</th>\n",
       "      <th>voice</th>\n",
       "      <th>author</th>\n",
       "      <th>publish</th>\n",
       "      <th>genre</th>\n",
       "    </tr>\n",
       "  </thead>\n",
       "  <tbody>\n",
       "    <tr>\n",
       "      <th>171</th>\n",
       "      <td>우리나라 삼국지 5권</td>\n",
       "      <td>NaN</td>\n",
       "      <td>NaN</td>\n",
       "      <td>임동주</td>\n",
       "      <td>소설문학</td>\n",
       "    </tr>\n",
       "    <tr>\n",
       "      <th>455</th>\n",
       "      <td>[김동식 단편] 흐르는 물이 되어</td>\n",
       "      <td>이준우</td>\n",
       "      <td>NaN</td>\n",
       "      <td>김동식</td>\n",
       "      <td>소설문학</td>\n",
       "    </tr>\n",
       "  </tbody>\n",
       "</table>\n",
       "</div>"
      ],
      "text/plain": [
       "                  title voice author publish genre\n",
       "171         우리나라 삼국지 5권   NaN    NaN     임동주  소설문학\n",
       "455  [김동식 단편] 흐르는 물이 되어   이준우    NaN     김동식  소설문학"
      ]
     },
     "execution_count": 20,
     "metadata": {},
     "output_type": "execute_result"
    }
   ],
   "source": [
    "all_book[all_book['title'].isin(['우리나라 삼국지 5권', '[김동식 단편] 흐르는 물이 되어'])]"
   ]
  },
  {
   "cell_type": "markdown",
   "metadata": {},
   "source": [
    "목소리가 잘 들어간 걸 볼 수 있다!"
   ]
  },
  {
   "cell_type": "code",
   "execution_count": null,
   "metadata": {},
   "outputs": [],
   "source": []
  },
  {
   "cell_type": "markdown",
   "metadata": {},
   "source": [
    "다시 3번으로 돌아와서, 100권 시리즈 외에 한 권씩 따로 서비스 하는 중인지 확인해봤음"
   ]
  },
  {
   "cell_type": "code",
   "execution_count": 21,
   "metadata": {},
   "outputs": [
    {
     "data": {
      "text/html": [
       "<div>\n",
       "<style scoped>\n",
       "    .dataframe tbody tr th:only-of-type {\n",
       "        vertical-align: middle;\n",
       "    }\n",
       "\n",
       "    .dataframe tbody tr th {\n",
       "        vertical-align: top;\n",
       "    }\n",
       "\n",
       "    .dataframe thead th {\n",
       "        text-align: right;\n",
       "    }\n",
       "</style>\n",
       "<table border=\"1\" class=\"dataframe\">\n",
       "  <thead>\n",
       "    <tr style=\"text-align: right;\">\n",
       "      <th></th>\n",
       "      <th>title</th>\n",
       "      <th>voice</th>\n",
       "      <th>author</th>\n",
       "      <th>publish</th>\n",
       "      <th>genre</th>\n",
       "    </tr>\n",
       "  </thead>\n",
       "  <tbody>\n",
       "    <tr>\n",
       "      <th>724</th>\n",
       "      <td>길해연이 읽는 양귀자의 원미동 시인</td>\n",
       "      <td>길해연</td>\n",
       "      <td>양귀자</td>\n",
       "      <td>커뮤니케이션북스</td>\n",
       "      <td>오디오북스</td>\n",
       "    </tr>\n",
       "  </tbody>\n",
       "</table>\n",
       "</div>"
      ],
      "text/plain": [
       "                   title voice author   publish  genre\n",
       "724  길해연이 읽는 양귀자의 원미동 시인   길해연    양귀자  커뮤니케이션북스  오디오북스"
      ]
     },
     "execution_count": 21,
     "metadata": {},
     "output_type": "execute_result"
    }
   ],
   "source": [
    "all_book[all_book['title'].str.contains('원미동')]"
   ]
  },
  {
   "cell_type": "markdown",
   "metadata": {},
   "source": [
    "그러면 이 오디오북 시리즈에 대한 리뷰 따로, 특정 책에 대한 리뷰는 따로 해야할 듯"
   ]
  },
  {
   "cell_type": "markdown",
   "metadata": {},
   "source": [
    "**voice가 없는 책 찾기**"
   ]
  },
  {
   "cell_type": "code",
   "execution_count": 22,
   "metadata": {},
   "outputs": [
    {
     "name": "stdout",
     "output_type": "stream",
     "text": [
      "전체 책 수는 : 1719\n",
      "voice가 없는 책 수는 : 846\n"
     ]
    }
   ],
   "source": [
    "print(f\"전체 책 수는 : {len(all_book.title.unique())}\")\n",
    "print(f\"voice가 없는 책 수는 : {len(all_book[all_book['voice'].isnull()].title.unique())}\")"
   ]
  },
  {
   "cell_type": "markdown",
   "metadata": {},
   "source": [
    "<div class=\"alert alert-warning\">\n",
    "기계가 녹음한 경우 voice가 없을 수 있는데 과연 그게 다일지는 모르겠음 <br>\n",
    "어떻게 우리가 확인할 수 있을까? -> 일단 나중에 고민하고 우선은 Nan == 기계음 으로 생각하자\n",
    "</div>"
   ]
  },
  {
   "cell_type": "markdown",
   "metadata": {},
   "source": [
    "**voice tag를 구분하자!**"
   ]
  },
  {
   "cell_type": "code",
   "execution_count": 23,
   "metadata": {},
   "outputs": [
    {
     "data": {
      "text/html": [
       "<div>\n",
       "<style scoped>\n",
       "    .dataframe tbody tr th:only-of-type {\n",
       "        vertical-align: middle;\n",
       "    }\n",
       "\n",
       "    .dataframe tbody tr th {\n",
       "        vertical-align: top;\n",
       "    }\n",
       "\n",
       "    .dataframe thead th {\n",
       "        text-align: right;\n",
       "    }\n",
       "</style>\n",
       "<table border=\"1\" class=\"dataframe\">\n",
       "  <thead>\n",
       "    <tr style=\"text-align: right;\">\n",
       "      <th></th>\n",
       "      <th>title</th>\n",
       "      <th>voice</th>\n",
       "      <th>author</th>\n",
       "      <th>publish</th>\n",
       "      <th>genre</th>\n",
       "    </tr>\n",
       "  </thead>\n",
       "  <tbody>\n",
       "    <tr>\n",
       "      <th>1253</th>\n",
       "      <td>저듸, 곰새기</td>\n",
       "      <td>NaN</td>\n",
       "      <td>장수진</td>\n",
       "      <td>아이들은자연이다</td>\n",
       "      <td>어린이동화</td>\n",
       "    </tr>\n",
       "  </tbody>\n",
       "</table>\n",
       "</div>"
      ],
      "text/plain": [
       "        title voice author   publish  genre\n",
       "1253  저듸, 곰새기   NaN    장수진  아이들은자연이다  어린이동화"
      ]
     },
     "execution_count": 23,
     "metadata": {},
     "output_type": "execute_result"
    }
   ],
   "source": [
    "all_book.sample()"
   ]
  },
  {
   "cell_type": "code",
   "execution_count": 24,
   "metadata": {},
   "outputs": [],
   "source": [
    "titles = all_book.title.unique() #모든 책 제목을 titles 리스트에 담아서 아래와 같이 구분"
   ]
  },
  {
   "cell_type": "code",
   "execution_count": 63,
   "metadata": {},
   "outputs": [],
   "source": [
    "read_by_none = all_book[all_book['voice'].isnull()].title.unique()\n",
    "read_by_author = list(all_book.query('voice == author').title.unique())\n",
    "read_by_celeb = [title for title in titles if (\"낭독\" in title) or (\"읽는\" in title) or (\"배우\" in title)]\n",
    "read_by_someone = [title for title in titles if title not in read_by_celeb and title not in read_by_author and title not in read_by_none]"
   ]
  },
  {
   "cell_type": "code",
   "execution_count": 64,
   "metadata": {},
   "outputs": [
    {
     "data": {
      "text/html": [
       "<div>\n",
       "<style scoped>\n",
       "    .dataframe tbody tr th:only-of-type {\n",
       "        vertical-align: middle;\n",
       "    }\n",
       "\n",
       "    .dataframe tbody tr th {\n",
       "        vertical-align: top;\n",
       "    }\n",
       "\n",
       "    .dataframe thead th {\n",
       "        text-align: right;\n",
       "    }\n",
       "</style>\n",
       "<table border=\"1\" class=\"dataframe\">\n",
       "  <thead>\n",
       "    <tr style=\"text-align: right;\">\n",
       "      <th></th>\n",
       "      <th>title</th>\n",
       "      <th>voice</th>\n",
       "      <th>author</th>\n",
       "      <th>publish</th>\n",
       "      <th>genre</th>\n",
       "      <th>read_by</th>\n",
       "    </tr>\n",
       "  </thead>\n",
       "  <tbody>\n",
       "    <tr>\n",
       "      <th>1224</th>\n",
       "      <td>나 홀로 버스</td>\n",
       "      <td>NaN</td>\n",
       "      <td>남강한</td>\n",
       "      <td>도서출판 북극곰</td>\n",
       "      <td>어린이동화</td>\n",
       "      <td>robot</td>\n",
       "    </tr>\n",
       "    <tr>\n",
       "      <th>300</th>\n",
       "      <td>[단편] 삼인행</td>\n",
       "      <td>NaN</td>\n",
       "      <td>권여선</td>\n",
       "      <td>창비</td>\n",
       "      <td>소설문학</td>\n",
       "      <td>robot</td>\n",
       "    </tr>\n",
       "    <tr>\n",
       "      <th>69</th>\n",
       "      <td>김약국의 딸들</td>\n",
       "      <td>홍영란</td>\n",
       "      <td>박경리</td>\n",
       "      <td>와미디어</td>\n",
       "      <td>소설문학</td>\n",
       "      <td>someone</td>\n",
       "    </tr>\n",
       "    <tr>\n",
       "      <th>840</th>\n",
       "      <td>1등은 당신처럼 공부하지 않았다</td>\n",
       "      <td>NaN</td>\n",
       "      <td>김도윤</td>\n",
       "      <td>쌤앤파커스</td>\n",
       "      <td>자기계발</td>\n",
       "      <td>robot</td>\n",
       "    </tr>\n",
       "    <tr>\n",
       "      <th>196</th>\n",
       "      <td>[김도연 낭독] 림 로드 (단편)</td>\n",
       "      <td>김도연 (위키미키)</td>\n",
       "      <td>배미주</td>\n",
       "      <td>창비</td>\n",
       "      <td>소설문학</td>\n",
       "      <td>celeb</td>\n",
       "    </tr>\n",
       "  </tbody>\n",
       "</table>\n",
       "</div>"
      ],
      "text/plain": [
       "                   title       voice author   publish  genre  read_by\n",
       "1224             나 홀로 버스         NaN    남강한  도서출판 북극곰  어린이동화    robot\n",
       "300             [단편] 삼인행         NaN    권여선        창비   소설문학    robot\n",
       "69               김약국의 딸들         홍영란    박경리      와미디어   소설문학  someone\n",
       "840    1등은 당신처럼 공부하지 않았다         NaN    김도윤     쌤앤파커스   자기계발    robot\n",
       "196   [김도연 낭독] 림 로드 (단편)  김도연 (위키미키)    배미주        창비   소설문학    celeb"
      ]
     },
     "execution_count": 64,
     "metadata": {},
     "output_type": "execute_result"
    }
   ],
   "source": [
    "all_book['read_by'] = \"\"\n",
    "\n",
    "all_book['read_by'] = all_book['title'].apply(lambda x : \"celeb\" if x in read_by_celeb else (\"author\" if x in read_by_author else (\"someone\" if x in read_by_someone else \"robot\")))\n",
    "\n",
    "all_book.sample(5)"
   ]
  },
  {
   "cell_type": "markdown",
   "metadata": {},
   "source": [
    "#### 목소리별 평점 "
   ]
  },
  {
   "cell_type": "code",
   "execution_count": 67,
   "metadata": {},
   "outputs": [
    {
     "data": {
      "text/html": [
       "<div>\n",
       "<style scoped>\n",
       "    .dataframe tbody tr th:only-of-type {\n",
       "        vertical-align: middle;\n",
       "    }\n",
       "\n",
       "    .dataframe tbody tr th {\n",
       "        vertical-align: top;\n",
       "    }\n",
       "\n",
       "    .dataframe thead th {\n",
       "        text-align: right;\n",
       "    }\n",
       "</style>\n",
       "<table border=\"1\" class=\"dataframe\">\n",
       "  <thead>\n",
       "    <tr style=\"text-align: right;\">\n",
       "      <th></th>\n",
       "      <th>title</th>\n",
       "      <th>voice</th>\n",
       "      <th>author</th>\n",
       "      <th>publish</th>\n",
       "      <th>genre</th>\n",
       "      <th>read_by</th>\n",
       "    </tr>\n",
       "  </thead>\n",
       "  <tbody>\n",
       "    <tr>\n",
       "      <th>0</th>\n",
       "      <td>매향리, 평화가 오다</td>\n",
       "      <td>이미나</td>\n",
       "      <td>화성시(기획),전혜진(글),김준현(사진)</td>\n",
       "      <td>화성시</td>\n",
       "      <td>소설문학</td>\n",
       "      <td>someone</td>\n",
       "    </tr>\n",
       "    <tr>\n",
       "      <th>1</th>\n",
       "      <td>[이유영 낭독] 다정한 유전 _작은책</td>\n",
       "      <td>이유영</td>\n",
       "      <td>강화길</td>\n",
       "      <td>아르테</td>\n",
       "      <td>소설문학</td>\n",
       "      <td>celeb</td>\n",
       "    </tr>\n",
       "    <tr>\n",
       "      <th>2</th>\n",
       "      <td>저스트 어 모멘트</td>\n",
       "      <td>이나리</td>\n",
       "      <td>이경화</td>\n",
       "      <td>탐</td>\n",
       "      <td>소설문학</td>\n",
       "      <td>someone</td>\n",
       "    </tr>\n",
       "    <tr>\n",
       "      <th>3</th>\n",
       "      <td>사춘기라서 그래</td>\n",
       "      <td>조현정</td>\n",
       "      <td>이명랑</td>\n",
       "      <td>탐</td>\n",
       "      <td>소설문학</td>\n",
       "      <td>someone</td>\n",
       "    </tr>\n",
       "    <tr>\n",
       "      <th>4</th>\n",
       "      <td>[단편] 헤엄치는 밤</td>\n",
       "      <td>최인영</td>\n",
       "      <td>한유주</td>\n",
       "      <td>미디어창비</td>\n",
       "      <td>소설문학</td>\n",
       "      <td>someone</td>\n",
       "    </tr>\n",
       "    <tr>\n",
       "      <th>...</th>\n",
       "      <td>...</td>\n",
       "      <td>...</td>\n",
       "      <td>...</td>\n",
       "      <td>...</td>\n",
       "      <td>...</td>\n",
       "      <td>...</td>\n",
       "    </tr>\n",
       "    <tr>\n",
       "      <th>1718</th>\n",
       "      <td>땍때굴</td>\n",
       "      <td>NaN</td>\n",
       "      <td>김이구</td>\n",
       "      <td>창비</td>\n",
       "      <td>어린이동화</td>\n",
       "      <td>robot</td>\n",
       "    </tr>\n",
       "    <tr>\n",
       "      <th>1719</th>\n",
       "      <td>꿈틀꿈틀</td>\n",
       "      <td>NaN</td>\n",
       "      <td>김이구</td>\n",
       "      <td>창비</td>\n",
       "      <td>어린이동화</td>\n",
       "      <td>robot</td>\n",
       "    </tr>\n",
       "    <tr>\n",
       "      <th>1720</th>\n",
       "      <td>어린이를 위한 안데르센 영어동화</td>\n",
       "      <td>NaN</td>\n",
       "      <td>한스 크리스티안 안데르센</td>\n",
       "      <td>팟빵북스</td>\n",
       "      <td>어린이동화</td>\n",
       "      <td>robot</td>\n",
       "    </tr>\n",
       "    <tr>\n",
       "      <th>1721</th>\n",
       "      <td>7년 동안의 잠</td>\n",
       "      <td>유경선</td>\n",
       "      <td>박완서</td>\n",
       "      <td>어린이작가정신</td>\n",
       "      <td>어린이동화</td>\n",
       "      <td>someone</td>\n",
       "    </tr>\n",
       "    <tr>\n",
       "      <th>1722</th>\n",
       "      <td>잠자고 싶은 토끼</td>\n",
       "      <td>은정</td>\n",
       "      <td>칼요한포셴엘린</td>\n",
       "      <td>쌤앤파커스</td>\n",
       "      <td>어린이동화</td>\n",
       "      <td>someone</td>\n",
       "    </tr>\n",
       "  </tbody>\n",
       "</table>\n",
       "<p>1721 rows × 6 columns</p>\n",
       "</div>"
      ],
      "text/plain": [
       "                     title voice                  author  publish  genre  \\\n",
       "0              매향리, 평화가 오다   이미나  화성시(기획),전혜진(글),김준현(사진)      화성시   소설문학   \n",
       "1     [이유영 낭독] 다정한 유전 _작은책   이유영                     강화길      아르테   소설문학   \n",
       "2                저스트 어 모멘트   이나리                     이경화        탐   소설문학   \n",
       "3                 사춘기라서 그래   조현정                     이명랑        탐   소설문학   \n",
       "4              [단편] 헤엄치는 밤   최인영                     한유주    미디어창비   소설문학   \n",
       "...                    ...   ...                     ...      ...    ...   \n",
       "1718                   땍때굴   NaN                     김이구       창비  어린이동화   \n",
       "1719                  꿈틀꿈틀   NaN                     김이구       창비  어린이동화   \n",
       "1720     어린이를 위한 안데르센 영어동화   NaN           한스 크리스티안 안데르센     팟빵북스  어린이동화   \n",
       "1721              7년 동안의 잠   유경선                     박완서  어린이작가정신  어린이동화   \n",
       "1722             잠자고 싶은 토끼    은정                 칼요한포셴엘린    쌤앤파커스  어린이동화   \n",
       "\n",
       "      read_by  \n",
       "0     someone  \n",
       "1       celeb  \n",
       "2     someone  \n",
       "3     someone  \n",
       "4     someone  \n",
       "...       ...  \n",
       "1718    robot  \n",
       "1719    robot  \n",
       "1720    robot  \n",
       "1721  someone  \n",
       "1722  someone  \n",
       "\n",
       "[1721 rows x 6 columns]"
      ]
     },
     "execution_count": 67,
     "metadata": {},
     "output_type": "execute_result"
    }
   ],
   "source": [
    "all_book"
   ]
  },
  {
   "cell_type": "code",
   "execution_count": 68,
   "metadata": {},
   "outputs": [
    {
     "data": {
      "text/html": [
       "<div>\n",
       "<style scoped>\n",
       "    .dataframe tbody tr th:only-of-type {\n",
       "        vertical-align: middle;\n",
       "    }\n",
       "\n",
       "    .dataframe tbody tr th {\n",
       "        vertical-align: top;\n",
       "    }\n",
       "\n",
       "    .dataframe thead th {\n",
       "        text-align: right;\n",
       "    }\n",
       "</style>\n",
       "<table border=\"1\" class=\"dataframe\">\n",
       "  <thead>\n",
       "    <tr style=\"text-align: right;\">\n",
       "      <th>read_by</th>\n",
       "      <th>author</th>\n",
       "      <th>celeb</th>\n",
       "      <th>robot</th>\n",
       "      <th>someone</th>\n",
       "    </tr>\n",
       "    <tr>\n",
       "      <th>nickname</th>\n",
       "      <th></th>\n",
       "      <th></th>\n",
       "      <th></th>\n",
       "      <th></th>\n",
       "    </tr>\n",
       "  </thead>\n",
       "  <tbody>\n",
       "    <tr>\n",
       "      <th>00young</th>\n",
       "      <td>NaN</td>\n",
       "      <td>NaN</td>\n",
       "      <td>NaN</td>\n",
       "      <td>100.0</td>\n",
       "    </tr>\n",
       "    <tr>\n",
       "      <th>015bc603</th>\n",
       "      <td>NaN</td>\n",
       "      <td>100.0</td>\n",
       "      <td>NaN</td>\n",
       "      <td>NaN</td>\n",
       "    </tr>\n",
       "    <tr>\n",
       "      <th>027</th>\n",
       "      <td>NaN</td>\n",
       "      <td>NaN</td>\n",
       "      <td>NaN</td>\n",
       "      <td>100.0</td>\n",
       "    </tr>\n",
       "    <tr>\n",
       "      <th>091222</th>\n",
       "      <td>NaN</td>\n",
       "      <td>NaN</td>\n",
       "      <td>NaN</td>\n",
       "      <td>90.0</td>\n",
       "    </tr>\n",
       "    <tr>\n",
       "      <th>09abc</th>\n",
       "      <td>100.0</td>\n",
       "      <td>NaN</td>\n",
       "      <td>100.0</td>\n",
       "      <td>100.0</td>\n",
       "    </tr>\n",
       "    <tr>\n",
       "      <th>...</th>\n",
       "      <td>...</td>\n",
       "      <td>...</td>\n",
       "      <td>...</td>\n",
       "      <td>...</td>\n",
       "    </tr>\n",
       "    <tr>\n",
       "      <th>히힛잉</th>\n",
       "      <td>100.0</td>\n",
       "      <td>100.0</td>\n",
       "      <td>100.0</td>\n",
       "      <td>90.0</td>\n",
       "    </tr>\n",
       "    <tr>\n",
       "      <th>힉스입자</th>\n",
       "      <td>NaN</td>\n",
       "      <td>NaN</td>\n",
       "      <td>100.0</td>\n",
       "      <td>100.0</td>\n",
       "    </tr>\n",
       "    <tr>\n",
       "      <th>힐데</th>\n",
       "      <td>NaN</td>\n",
       "      <td>100.0</td>\n",
       "      <td>NaN</td>\n",
       "      <td>NaN</td>\n",
       "    </tr>\n",
       "    <tr>\n",
       "      <th>힘좀내요</th>\n",
       "      <td>100.0</td>\n",
       "      <td>100.0</td>\n",
       "      <td>100.0</td>\n",
       "      <td>100.0</td>\n",
       "    </tr>\n",
       "    <tr>\n",
       "      <th>힙쬲</th>\n",
       "      <td>NaN</td>\n",
       "      <td>NaN</td>\n",
       "      <td>NaN</td>\n",
       "      <td>100.0</td>\n",
       "    </tr>\n",
       "  </tbody>\n",
       "</table>\n",
       "<p>4450 rows × 4 columns</p>\n",
       "</div>"
      ],
      "text/plain": [
       "read_by   author  celeb  robot  someone\n",
       "nickname                               \n",
       "00young      NaN    NaN    NaN    100.0\n",
       "015bc603     NaN  100.0    NaN      NaN\n",
       "027          NaN    NaN    NaN    100.0\n",
       "091222       NaN    NaN    NaN     90.0\n",
       "09abc      100.0    NaN  100.0    100.0\n",
       "...          ...    ...    ...      ...\n",
       "히힛잉        100.0  100.0  100.0     90.0\n",
       "힉스입자         NaN    NaN  100.0    100.0\n",
       "힐데           NaN  100.0    NaN      NaN\n",
       "힘좀내요       100.0  100.0  100.0    100.0\n",
       "힙쬲           NaN    NaN    NaN    100.0\n",
       "\n",
       "[4450 rows x 4 columns]"
      ]
     },
     "execution_count": 68,
     "metadata": {},
     "output_type": "execute_result"
    }
   ],
   "source": [
    "review_by_voice = all_review.merge(all_book[['title', 'read_by']], how='left').pivot_table(index = \"nickname\", columns = 'read_by', values = \"rating\", aggfunc = \"mean\")\n",
    "review_by_voice"
   ]
  },
  {
   "cell_type": "code",
   "execution_count": 69,
   "metadata": {},
   "outputs": [
    {
     "data": {
      "text/plain": [
       "count    2007.000000\n",
       "mean       97.897359\n",
       "std         8.351896\n",
       "min        10.000000\n",
       "25%       100.000000\n",
       "50%       100.000000\n",
       "75%       100.000000\n",
       "max       100.000000\n",
       "Name: rating, dtype: float64"
      ]
     },
     "execution_count": 69,
     "metadata": {},
     "output_type": "execute_result"
    }
   ],
   "source": [
    "all_review[all_review['title'].isin(read_by_author)].rating.describe()"
   ]
  },
  {
   "cell_type": "code",
   "execution_count": 70,
   "metadata": {},
   "outputs": [
    {
     "data": {
      "text/plain": [
       "count    4273.000000\n",
       "mean       93.859115\n",
       "std        12.270965\n",
       "min        10.000000\n",
       "25%        90.000000\n",
       "50%       100.000000\n",
       "75%       100.000000\n",
       "max       100.000000\n",
       "Name: rating, dtype: float64"
      ]
     },
     "execution_count": 70,
     "metadata": {},
     "output_type": "execute_result"
    }
   ],
   "source": [
    "all_review[all_review['title'].isin(read_by_celeb)].rating.describe()"
   ]
  },
  {
   "cell_type": "code",
   "execution_count": 71,
   "metadata": {},
   "outputs": [
    {
     "data": {
      "text/plain": [
       "count    6965.000000\n",
       "mean       94.983489\n",
       "std        12.113781\n",
       "min        10.000000\n",
       "25%       100.000000\n",
       "50%       100.000000\n",
       "75%       100.000000\n",
       "max       100.000000\n",
       "Name: rating, dtype: float64"
      ]
     },
     "execution_count": 71,
     "metadata": {},
     "output_type": "execute_result"
    }
   ],
   "source": [
    "all_review[all_review['title'].isin(read_by_someone)].rating.describe()"
   ]
  },
  {
   "cell_type": "code",
   "execution_count": 72,
   "metadata": {},
   "outputs": [
    {
     "data": {
      "text/plain": [
       "count    2283.000000\n",
       "mean       93.758213\n",
       "std        12.351742\n",
       "min        10.000000\n",
       "25%        90.000000\n",
       "50%       100.000000\n",
       "75%       100.000000\n",
       "max       100.000000\n",
       "Name: rating, dtype: float64"
      ]
     },
     "execution_count": 72,
     "metadata": {},
     "output_type": "execute_result"
    }
   ],
   "source": [
    "all_review[all_review['title'].isin(read_by_none)].rating.describe()"
   ]
  },
  {
   "cell_type": "code",
   "execution_count": 73,
   "metadata": {},
   "outputs": [
    {
     "data": {
      "text/plain": [
       "array(['100인의 배우, 우리 문학을 읽다'], dtype=object)"
      ]
     },
     "execution_count": 73,
     "metadata": {},
     "output_type": "execute_result"
    }
   ],
   "source": [
    "all_review[all_review.author.isnull()].title.unique()"
   ]
  },
  {
   "cell_type": "code",
   "execution_count": 74,
   "metadata": {},
   "outputs": [],
   "source": [
    "all_review = all_review.merge(all_book[['title', 'read_by']], how='left')"
   ]
  },
  {
   "cell_type": "code",
   "execution_count": 75,
   "metadata": {},
   "outputs": [
    {
     "data": {
      "text/html": [
       "<div>\n",
       "<style scoped>\n",
       "    .dataframe tbody tr th:only-of-type {\n",
       "        vertical-align: middle;\n",
       "    }\n",
       "\n",
       "    .dataframe tbody tr th {\n",
       "        vertical-align: top;\n",
       "    }\n",
       "\n",
       "    .dataframe thead th {\n",
       "        text-align: right;\n",
       "    }\n",
       "</style>\n",
       "<table border=\"1\" class=\"dataframe\">\n",
       "  <thead>\n",
       "    <tr style=\"text-align: right;\">\n",
       "      <th></th>\n",
       "      <th>nickname</th>\n",
       "      <th>rating</th>\n",
       "      <th>title</th>\n",
       "      <th>voice</th>\n",
       "      <th>author</th>\n",
       "      <th>review</th>\n",
       "      <th>created</th>\n",
       "      <th>publish</th>\n",
       "      <th>genre</th>\n",
       "      <th>read_by</th>\n",
       "    </tr>\n",
       "  </thead>\n",
       "  <tbody>\n",
       "    <tr>\n",
       "      <th>9020</th>\n",
       "      <td>김바위</td>\n",
       "      <td>80</td>\n",
       "      <td>최민식이 읽는 이범선의 오발탄</td>\n",
       "      <td>최민식</td>\n",
       "      <td>이범선</td>\n",
       "      <td>목소리 좋아요</td>\n",
       "      <td>2018.12.31</td>\n",
       "      <td>커뮤니케이션북스</td>\n",
       "      <td>오디오북스</td>\n",
       "      <td>celeb</td>\n",
       "    </tr>\n",
       "    <tr>\n",
       "      <th>4117</th>\n",
       "      <td>왓섭소유니</td>\n",
       "      <td>100</td>\n",
       "      <td>[공포괴담집] 무조건 모르는 척하세요</td>\n",
       "      <td>왓섭</td>\n",
       "      <td>문화류씨</td>\n",
       "      <td>드뎌 오디오북 2권 나왔군요 기쁜 마음에 바로 구입 완료했어요 정말 고생 많으셨습니...</td>\n",
       "      <td>2019.06.20</td>\n",
       "      <td>요다</td>\n",
       "      <td>소설문학</td>\n",
       "      <td>someone</td>\n",
       "    </tr>\n",
       "    <tr>\n",
       "      <th>685</th>\n",
       "      <td>나요저요</td>\n",
       "      <td>100</td>\n",
       "      <td>살고 싶다는 농담</td>\n",
       "      <td>신경선</td>\n",
       "      <td>허지웅</td>\n",
       "      <td>구독구독</td>\n",
       "      <td>2020.11.01</td>\n",
       "      <td>웅진지식하우스</td>\n",
       "      <td>소설문학</td>\n",
       "      <td>someone</td>\n",
       "    </tr>\n",
       "  </tbody>\n",
       "</table>\n",
       "</div>"
      ],
      "text/plain": [
       "     nickname  rating                 title voice author  \\\n",
       "9020      김바위      80      최민식이 읽는 이범선의 오발탄   최민식    이범선   \n",
       "4117    왓섭소유니     100  [공포괴담집] 무조건 모르는 척하세요    왓섭   문화류씨   \n",
       "685      나요저요     100             살고 싶다는 농담   신경선    허지웅   \n",
       "\n",
       "                                                 review     created   publish  \\\n",
       "9020                                            목소리 좋아요  2018.12.31  커뮤니케이션북스   \n",
       "4117  드뎌 오디오북 2권 나왔군요 기쁜 마음에 바로 구입 완료했어요 정말 고생 많으셨습니...  2019.06.20        요다   \n",
       "685                                                구독구독  2020.11.01   웅진지식하우스   \n",
       "\n",
       "      genre  read_by  \n",
       "9020  오디오북스    celeb  \n",
       "4117   소설문학  someone  \n",
       "685    소설문학  someone  "
      ]
     },
     "execution_count": 75,
     "metadata": {},
     "output_type": "execute_result"
    }
   ],
   "source": [
    "all_review.sample(3)"
   ]
  },
  {
   "cell_type": "code",
   "execution_count": 285,
   "metadata": {},
   "outputs": [
    {
     "data": {
      "text/plain": [
       "(array([  10.,    6.,    5.,    5.,    9.,   39.,   66.,  279.,  276.,\n",
       "        1594.]),\n",
       " array([ 10.,  19.,  28.,  37.,  46.,  55.,  64.,  73.,  82.,  91., 100.]),\n",
       " <BarContainer object of 10 artists>)"
      ]
     },
     "execution_count": 285,
     "metadata": {},
     "output_type": "execute_result"
    },
    {
     "data": {
      "image/png": "[encoded data removed]",
      "text/plain": [
       "<Figure size 432x288 with 1 Axes>"
      ]
     },
     "metadata": {
      "needs_background": "light"
     },
     "output_type": "display_data"
    }
   ],
   "source": [
    "# 따로 그리고 싶다.. 그러나 한 셀 안에..\n",
    "plt.hist(all_review.query('read_by == \"celeb\"')['rating'], alpha = 0.5, color = \"r\")\n",
    "plt.hist(all_review.query('read_by == \"author\"')['rating'], alpha = 0.5)\n",
    "plt.hist(all_review.query('read_by == \"someone\"')['rating'], alpha = 0.5)\n",
    "plt.hist(all_review.query('read_by == \"robot\"')['rating'], alpha = 0.5)"
   ]
  },
  {
   "cell_type": "code",
   "execution_count": 83,
   "metadata": {},
   "outputs": [],
   "source": [
    "from statsmodels.formula.api import ols"
   ]
  },
  {
   "cell_type": "code",
   "execution_count": 84,
   "metadata": {},
   "outputs": [
    {
     "data": {
      "text/html": [
       "<table class=\"simpletable\">\n",
       "<caption>OLS Regression Results</caption>\n",
       "<tr>\n",
       "  <th>Dep. Variable:</th>         <td>rating</td>      <th>  R-squared:         </th> <td>   0.011</td> \n",
       "</tr>\n",
       "<tr>\n",
       "  <th>Model:</th>                   <td>OLS</td>       <th>  Adj. R-squared:    </th> <td>   0.011</td> \n",
       "</tr>\n",
       "<tr>\n",
       "  <th>Method:</th>             <td>Least Squares</td>  <th>  F-statistic:       </th> <td>   55.93</td> \n",
       "</tr>\n",
       "<tr>\n",
       "  <th>Date:</th>             <td>Mon, 30 Nov 2020</td> <th>  Prob (F-statistic):</th> <td>5.97e-36</td> \n",
       "</tr>\n",
       "<tr>\n",
       "  <th>Time:</th>                 <td>15:33:21</td>     <th>  Log-Likelihood:    </th> <td> -60349.</td> \n",
       "</tr>\n",
       "<tr>\n",
       "  <th>No. Observations:</th>      <td> 15530</td>      <th>  AIC:               </th> <td>1.207e+05</td>\n",
       "</tr>\n",
       "<tr>\n",
       "  <th>Df Residuals:</th>          <td> 15526</td>      <th>  BIC:               </th> <td>1.207e+05</td>\n",
       "</tr>\n",
       "<tr>\n",
       "  <th>Df Model:</th>              <td>     3</td>      <th>                     </th>     <td> </td>    \n",
       "</tr>\n",
       "<tr>\n",
       "  <th>Covariance Type:</th>      <td>nonrobust</td>    <th>                     </th>     <td> </td>    \n",
       "</tr>\n",
       "</table>\n",
       "<table class=\"simpletable\">\n",
       "<tr>\n",
       "           <td></td>             <th>coef</th>     <th>std err</th>      <th>t</th>      <th>P>|t|</th>  <th>[0.025</th>    <th>0.975]</th>  \n",
       "</tr>\n",
       "<tr>\n",
       "  <th>Intercept</th>          <td>   97.8974</td> <td>    0.263</td> <td>  372.034</td> <td> 0.000</td> <td>   97.382</td> <td>   98.413</td>\n",
       "</tr>\n",
       "<tr>\n",
       "  <th>read_by[T.celeb]</th>   <td>   -3.7277</td> <td>    0.320</td> <td>  -11.635</td> <td> 0.000</td> <td>   -4.356</td> <td>   -3.100</td>\n",
       "</tr>\n",
       "<tr>\n",
       "  <th>read_by[T.robot]</th>   <td>   -4.1391</td> <td>    0.361</td> <td>  -11.475</td> <td> 0.000</td> <td>   -4.846</td> <td>   -3.432</td>\n",
       "</tr>\n",
       "<tr>\n",
       "  <th>read_by[T.someone]</th> <td>   -3.1198</td> <td>    0.298</td> <td>  -10.465</td> <td> 0.000</td> <td>   -3.704</td> <td>   -2.536</td>\n",
       "</tr>\n",
       "</table>\n",
       "<table class=\"simpletable\">\n",
       "<tr>\n",
       "  <th>Omnibus:</th>       <td>11528.393</td> <th>  Durbin-Watson:     </th>  <td>   1.651</td> \n",
       "</tr>\n",
       "<tr>\n",
       "  <th>Prob(Omnibus):</th>  <td> 0.000</td>   <th>  Jarque-Bera (JB):  </th> <td>206586.161</td>\n",
       "</tr>\n",
       "<tr>\n",
       "  <th>Skew:</th>           <td>-3.485</td>   <th>  Prob(JB):          </th>  <td>    0.00</td> \n",
       "</tr>\n",
       "<tr>\n",
       "  <th>Kurtosis:</th>       <td>19.452</td>   <th>  Cond. No.          </th>  <td>    6.75</td> \n",
       "</tr>\n",
       "</table><br/><br/>Notes:<br/>[1] Standard Errors assume that the covariance matrix of the errors is correctly specified."
      ],
      "text/plain": [
       "<class 'statsmodels.iolib.summary.Summary'>\n",
       "\"\"\"\n",
       "                            OLS Regression Results                            \n",
       "==============================================================================\n",
       "Dep. Variable:                 rating   R-squared:                       0.011\n",
       "Model:                            OLS   Adj. R-squared:                  0.011\n",
       "Method:                 Least Squares   F-statistic:                     55.93\n",
       "Date:                Mon, 30 Nov 2020   Prob (F-statistic):           5.97e-36\n",
       "Time:                        15:33:21   Log-Likelihood:                -60349.\n",
       "No. Observations:               15530   AIC:                         1.207e+05\n",
       "Df Residuals:                   15526   BIC:                         1.207e+05\n",
       "Df Model:                           3                                         \n",
       "Covariance Type:            nonrobust                                         \n",
       "======================================================================================\n",
       "                         coef    std err          t      P>|t|      [0.025      0.975]\n",
       "--------------------------------------------------------------------------------------\n",
       "Intercept             97.8974      0.263    372.034      0.000      97.382      98.413\n",
       "read_by[T.celeb]      -3.7277      0.320    -11.635      0.000      -4.356      -3.100\n",
       "read_by[T.robot]      -4.1391      0.361    -11.475      0.000      -4.846      -3.432\n",
       "read_by[T.someone]    -3.1198      0.298    -10.465      0.000      -3.704      -2.536\n",
       "==============================================================================\n",
       "Omnibus:                    11528.393   Durbin-Watson:                   1.651\n",
       "Prob(Omnibus):                  0.000   Jarque-Bera (JB):           206586.161\n",
       "Skew:                          -3.485   Prob(JB):                         0.00\n",
       "Kurtosis:                      19.452   Cond. No.                         6.75\n",
       "==============================================================================\n",
       "\n",
       "Notes:\n",
       "[1] Standard Errors assume that the covariance matrix of the errors is correctly specified.\n",
       "\"\"\""
      ]
     },
     "execution_count": 84,
     "metadata": {},
     "output_type": "execute_result"
    }
   ],
   "source": [
    "ols('rating ~ read_by', data = all_review).fit().summary()"
   ]
  },
  {
   "cell_type": "markdown",
   "metadata": {},
   "source": [
    "일반적으로 작가가 읽었을 때 가장 평점이 높음<br>\n",
    "근데 r제곱이 1퍼센트..^^"
   ]
  },
  {
   "cell_type": "code",
   "execution_count": 89,
   "metadata": {},
   "outputs": [
    {
     "data": {
      "text/plain": [
       "0.20     90.0\n",
       "0.25    100.0\n",
       "0.30    100.0\n",
       "0.35    100.0\n",
       "Name: rating, dtype: float64"
      ]
     },
     "execution_count": 89,
     "metadata": {},
     "output_type": "execute_result"
    }
   ],
   "source": [
    "all_review['rating'].quantile(np.arange(0.2, 0.4, 0.05))"
   ]
  },
  {
   "cell_type": "code",
   "execution_count": 139,
   "metadata": {},
   "outputs": [
    {
     "data": {
      "text/html": [
       "<div>\n",
       "<style scoped>\n",
       "    .dataframe tbody tr th:only-of-type {\n",
       "        vertical-align: middle;\n",
       "    }\n",
       "\n",
       "    .dataframe tbody tr th {\n",
       "        vertical-align: top;\n",
       "    }\n",
       "\n",
       "    .dataframe thead th {\n",
       "        text-align: right;\n",
       "    }\n",
       "</style>\n",
       "<table border=\"1\" class=\"dataframe\">\n",
       "  <thead>\n",
       "    <tr style=\"text-align: right;\">\n",
       "      <th></th>\n",
       "      <th>percentage</th>\n",
       "      <th>rating_value</th>\n",
       "    </tr>\n",
       "  </thead>\n",
       "  <tbody>\n",
       "    <tr>\n",
       "      <th>0</th>\n",
       "      <td>0.0</td>\n",
       "      <td>10.0</td>\n",
       "    </tr>\n",
       "    <tr>\n",
       "      <th>1</th>\n",
       "      <td>0.025</td>\n",
       "      <td>60.0</td>\n",
       "    </tr>\n",
       "    <tr>\n",
       "      <th>2</th>\n",
       "      <td>0.05</td>\n",
       "      <td>70.0</td>\n",
       "    </tr>\n",
       "    <tr>\n",
       "      <th>3</th>\n",
       "      <td>0.07500000000000001</td>\n",
       "      <td>80.0</td>\n",
       "    </tr>\n",
       "    <tr>\n",
       "      <th>4</th>\n",
       "      <td>0.1</td>\n",
       "      <td>80.0</td>\n",
       "    </tr>\n",
       "    <tr>\n",
       "      <th>5</th>\n",
       "      <td>0.125</td>\n",
       "      <td>80.0</td>\n",
       "    </tr>\n",
       "    <tr>\n",
       "      <th>6</th>\n",
       "      <td>0.15000000000000002</td>\n",
       "      <td>80.0</td>\n",
       "    </tr>\n",
       "    <tr>\n",
       "      <th>7</th>\n",
       "      <td>0.17500000000000002</td>\n",
       "      <td>90.0</td>\n",
       "    </tr>\n",
       "    <tr>\n",
       "      <th>8</th>\n",
       "      <td>0.2</td>\n",
       "      <td>90.0</td>\n",
       "    </tr>\n",
       "    <tr>\n",
       "      <th>9</th>\n",
       "      <td>0.225</td>\n",
       "      <td>90.0</td>\n",
       "    </tr>\n",
       "    <tr>\n",
       "      <th>10</th>\n",
       "      <td>0.25</td>\n",
       "      <td>100.0</td>\n",
       "    </tr>\n",
       "    <tr>\n",
       "      <th>11</th>\n",
       "      <td>0.275</td>\n",
       "      <td>100.0</td>\n",
       "    </tr>\n",
       "    <tr>\n",
       "      <th>12</th>\n",
       "      <td>0.30000000000000004</td>\n",
       "      <td>100.0</td>\n",
       "    </tr>\n",
       "    <tr>\n",
       "      <th>13</th>\n",
       "      <td>0.325</td>\n",
       "      <td>100.0</td>\n",
       "    </tr>\n",
       "    <tr>\n",
       "      <th>14</th>\n",
       "      <td>0.35000000000000003</td>\n",
       "      <td>100.0</td>\n",
       "    </tr>\n",
       "    <tr>\n",
       "      <th>15</th>\n",
       "      <td>0.375</td>\n",
       "      <td>100.0</td>\n",
       "    </tr>\n",
       "    <tr>\n",
       "      <th>16</th>\n",
       "      <td>0.4</td>\n",
       "      <td>100.0</td>\n",
       "    </tr>\n",
       "    <tr>\n",
       "      <th>17</th>\n",
       "      <td>0.42500000000000004</td>\n",
       "      <td>100.0</td>\n",
       "    </tr>\n",
       "  </tbody>\n",
       "</table>\n",
       "</div>"
      ],
      "text/plain": [
       "             percentage  rating_value\n",
       "0                   0.0          10.0\n",
       "1                 0.025          60.0\n",
       "2                  0.05          70.0\n",
       "3   0.07500000000000001          80.0\n",
       "4                   0.1          80.0\n",
       "5                 0.125          80.0\n",
       "6   0.15000000000000002          80.0\n",
       "7   0.17500000000000002          90.0\n",
       "8                   0.2          90.0\n",
       "9                 0.225          90.0\n",
       "10                 0.25         100.0\n",
       "11                0.275         100.0\n",
       "12  0.30000000000000004         100.0\n",
       "13                0.325         100.0\n",
       "14  0.35000000000000003         100.0\n",
       "15                0.375         100.0\n",
       "16                  0.4         100.0\n",
       "17  0.42500000000000004         100.0"
      ]
     },
     "execution_count": 139,
     "metadata": {},
     "output_type": "execute_result"
    }
   ],
   "source": [
    "for_plot.iloc[:18, :]"
   ]
  },
  {
   "cell_type": "code",
   "execution_count": 149,
   "metadata": {},
   "outputs": [],
   "source": [
    "a = 0.03023"
   ]
  },
  {
   "cell_type": "code",
   "execution_count": 151,
   "metadata": {},
   "outputs": [
    {
     "data": {
      "text/plain": [
       "0.03"
      ]
     },
     "execution_count": 151,
     "metadata": {},
     "output_type": "execute_result"
    }
   ],
   "source": [
    "round(a,3)"
   ]
  },
  {
   "cell_type": "code",
   "execution_count": 154,
   "metadata": {},
   "outputs": [],
   "source": [
    "for_plot = all_review['rating'].quantile(np.arange(0, 1, 0.025)).to_frame().reset_index()\n",
    "\n",
    "for_plot.columns = ['percentage', 'rating_value']\n",
    "\n",
    "for_plot['percentage'] = for_plot['percentage'].apply(lambda x : round(x, 3)).apply(str)"
   ]
  },
  {
   "cell_type": "code",
   "execution_count": 155,
   "metadata": {},
   "outputs": [
    {
     "data": {
      "text/plain": [
       "([0, 1, 2, 3, 4, 5, 6, 7, 8, 9, 10],\n",
       " [Text(0, 0, ''),\n",
       "  Text(0, 0, ''),\n",
       "  Text(0, 0, ''),\n",
       "  Text(0, 0, ''),\n",
       "  Text(0, 0, ''),\n",
       "  Text(0, 0, ''),\n",
       "  Text(0, 0, ''),\n",
       "  Text(0, 0, ''),\n",
       "  Text(0, 0, ''),\n",
       "  Text(0, 0, ''),\n",
       "  Text(0, 0, '')])"
      ]
     },
     "execution_count": 155,
     "metadata": {},
     "output_type": "execute_result"
    },
    {
     "data": {
      "image/png": "[encoded data removed]",
      "text/plain": [
       "<Figure size 432x288 with 1 Axes>"
      ]
     },
     "metadata": {
      "needs_background": "light"
     },
     "output_type": "display_data"
    }
   ],
   "source": [
    "plt.bar(for_plot.iloc[:11, :]['percentage'], for_plot.iloc[:11, :]['rating_value'], align = 'edge')\n",
    "plt.xticks(rotation = 45)"
   ]
  },
  {
   "cell_type": "code",
   "execution_count": 158,
   "metadata": {},
   "outputs": [],
   "source": [
    "plt.xticks?"
   ]
  },
  {
   "cell_type": "code",
   "execution_count": 168,
   "metadata": {},
   "outputs": [],
   "source": [
    "plt.bar?"
   ]
  },
  {
   "cell_type": "code",
   "execution_count": 170,
   "metadata": {},
   "outputs": [
    {
     "data": {
      "text/plain": [
       "([], [])"
      ]
     },
     "execution_count": 170,
     "metadata": {},
     "output_type": "execute_result"
    },
    {
     "data": {
      "image/png": "[encoded data removed]",
      "text/plain": [
       "<Figure size 432x288 with 1 Axes>"
      ]
     },
     "metadata": {
      "needs_background": "light"
     },
     "output_type": "display_data"
    }
   ],
   "source": [
    "plt.bar(for_plot['percentage'], for_plot['rating_value'], align = 'edge', width = 1)\n",
    "plt.axvline(x=9.8)\n",
    "plt.xticks([])"
   ]
  },
  {
   "cell_type": "code",
   "execution_count": null,
   "metadata": {},
   "outputs": [],
   "source": []
  },
  {
   "cell_type": "code",
   "execution_count": 173,
   "metadata": {},
   "outputs": [],
   "source": [
    "# sns.lmplot을 어떻게 잘 써볼 수 있을까..\n"
   ]
  },
  {
   "cell_type": "code",
   "execution_count": 77,
   "metadata": {},
   "outputs": [
    {
     "data": {
      "text/html": [
       "<div>\n",
       "<style scoped>\n",
       "    .dataframe tbody tr th:only-of-type {\n",
       "        vertical-align: middle;\n",
       "    }\n",
       "\n",
       "    .dataframe tbody tr th {\n",
       "        vertical-align: top;\n",
       "    }\n",
       "\n",
       "    .dataframe thead th {\n",
       "        text-align: right;\n",
       "    }\n",
       "</style>\n",
       "<table border=\"1\" class=\"dataframe\">\n",
       "  <thead>\n",
       "    <tr style=\"text-align: right;\">\n",
       "      <th>read_by</th>\n",
       "      <th>author</th>\n",
       "      <th>celeb</th>\n",
       "      <th>robot</th>\n",
       "      <th>someone</th>\n",
       "    </tr>\n",
       "    <tr>\n",
       "      <th>rating</th>\n",
       "      <th></th>\n",
       "      <th></th>\n",
       "      <th></th>\n",
       "      <th></th>\n",
       "    </tr>\n",
       "  </thead>\n",
       "  <tbody>\n",
       "    <tr>\n",
       "      <th>10</th>\n",
       "      <td>5.0</td>\n",
       "      <td>3.0</td>\n",
       "      <td>9.0</td>\n",
       "      <td>46.0</td>\n",
       "    </tr>\n",
       "    <tr>\n",
       "      <th>20</th>\n",
       "      <td>2.0</td>\n",
       "      <td>11.0</td>\n",
       "      <td>6.0</td>\n",
       "      <td>18.0</td>\n",
       "    </tr>\n",
       "    <tr>\n",
       "      <th>30</th>\n",
       "      <td>NaN</td>\n",
       "      <td>1.0</td>\n",
       "      <td>5.0</td>\n",
       "      <td>8.0</td>\n",
       "    </tr>\n",
       "    <tr>\n",
       "      <th>40</th>\n",
       "      <td>2.0</td>\n",
       "      <td>13.0</td>\n",
       "      <td>5.0</td>\n",
       "      <td>18.0</td>\n",
       "    </tr>\n",
       "    <tr>\n",
       "      <th>50</th>\n",
       "      <td>7.0</td>\n",
       "      <td>8.0</td>\n",
       "      <td>9.0</td>\n",
       "      <td>29.0</td>\n",
       "    </tr>\n",
       "    <tr>\n",
       "      <th>60</th>\n",
       "      <td>12.0</td>\n",
       "      <td>118.0</td>\n",
       "      <td>39.0</td>\n",
       "      <td>122.0</td>\n",
       "    </tr>\n",
       "    <tr>\n",
       "      <th>70</th>\n",
       "      <td>17.0</td>\n",
       "      <td>83.0</td>\n",
       "      <td>66.0</td>\n",
       "      <td>149.0</td>\n",
       "    </tr>\n",
       "    <tr>\n",
       "      <th>80</th>\n",
       "      <td>74.0</td>\n",
       "      <td>594.0</td>\n",
       "      <td>278.0</td>\n",
       "      <td>607.0</td>\n",
       "    </tr>\n",
       "    <tr>\n",
       "      <th>90</th>\n",
       "      <td>67.0</td>\n",
       "      <td>259.0</td>\n",
       "      <td>274.0</td>\n",
       "      <td>679.0</td>\n",
       "    </tr>\n",
       "    <tr>\n",
       "      <th>100</th>\n",
       "      <td>1817.0</td>\n",
       "      <td>3036.0</td>\n",
       "      <td>1590.0</td>\n",
       "      <td>5393.0</td>\n",
       "    </tr>\n",
       "  </tbody>\n",
       "</table>\n",
       "</div>"
      ],
      "text/plain": [
       "read_by  author   celeb   robot  someone\n",
       "rating                                  \n",
       "10          5.0     3.0     9.0     46.0\n",
       "20          2.0    11.0     6.0     18.0\n",
       "30          NaN     1.0     5.0      8.0\n",
       "40          2.0    13.0     5.0     18.0\n",
       "50          7.0     8.0     9.0     29.0\n",
       "60         12.0   118.0    39.0    122.0\n",
       "70         17.0    83.0    66.0    149.0\n",
       "80         74.0   594.0   278.0    607.0\n",
       "90         67.0   259.0   274.0    679.0\n",
       "100      1817.0  3036.0  1590.0   5393.0"
      ]
     },
     "execution_count": 77,
     "metadata": {},
     "output_type": "execute_result"
    }
   ],
   "source": [
    "review_count_read_by = all_review.pivot_table(index = \"rating\", columns = \"read_by\", values = \"review\", aggfunc = \"count\")\n",
    "review_count_read_by"
   ]
  },
  {
   "cell_type": "code",
   "execution_count": 78,
   "metadata": {},
   "outputs": [
    {
     "data": {
      "text/plain": [
       "2003.0"
      ]
     },
     "execution_count": 78,
     "metadata": {},
     "output_type": "execute_result"
    }
   ],
   "source": [
    "review_count_read_by.author.sum()"
   ]
  },
  {
   "cell_type": "code",
   "execution_count": 79,
   "metadata": {},
   "outputs": [
    {
     "data": {
      "text/plain": [
       "2007"
      ]
     },
     "execution_count": 79,
     "metadata": {},
     "output_type": "execute_result"
    }
   ],
   "source": [
    "# 확인하기\n",
    "len(all_review.query('read_by == \"author\"'))"
   ]
  },
  {
   "cell_type": "markdown",
   "metadata": {},
   "source": [
    "review로 count하면 review가 없는 경우도 있어서 안됨 <br>\n",
    "위의 테이블을 잘 확인하려면 with_review 테이블로 해야"
   ]
  },
  {
   "cell_type": "code",
   "execution_count": 152,
   "metadata": {},
   "outputs": [],
   "source": []
  },
  {
   "cell_type": "code",
   "execution_count": 80,
   "metadata": {},
   "outputs": [],
   "source": [
    "with_review = all_review.dropna(how = 'any',subset=[\"review\"], axis = 0) #rating만 있는 경우 drop"
   ]
  },
  {
   "cell_type": "code",
   "execution_count": 81,
   "metadata": {},
   "outputs": [
    {
     "name": "stderr",
     "output_type": "stream",
     "text": [
      "C:\\Users\\Hanna Kim\\Anaconda3\\lib\\site-packages\\ipykernel_launcher.py:1: SettingWithCopyWarning: \n",
      "A value is trying to be set on a copy of a slice from a DataFrame.\n",
      "Try using .loc[row_indexer,col_indexer] = value instead\n",
      "\n",
      "See the caveats in the documentation: https://pandas.pydata.org/pandas-docs/stable/user_guide/indexing.html#returning-a-view-versus-a-copy\n",
      "  \"\"\"Entry point for launching an IPython kernel.\n"
     ]
    },
    {
     "data": {
      "text/html": [
       "<div>\n",
       "<style scoped>\n",
       "    .dataframe tbody tr th:only-of-type {\n",
       "        vertical-align: middle;\n",
       "    }\n",
       "\n",
       "    .dataframe tbody tr th {\n",
       "        vertical-align: top;\n",
       "    }\n",
       "\n",
       "    .dataframe thead th {\n",
       "        text-align: right;\n",
       "    }\n",
       "</style>\n",
       "<table border=\"1\" class=\"dataframe\">\n",
       "  <thead>\n",
       "    <tr style=\"text-align: right;\">\n",
       "      <th></th>\n",
       "      <th>nickname</th>\n",
       "      <th>rating</th>\n",
       "      <th>title</th>\n",
       "      <th>voice</th>\n",
       "      <th>author</th>\n",
       "      <th>review</th>\n",
       "      <th>created</th>\n",
       "      <th>publish</th>\n",
       "      <th>genre</th>\n",
       "      <th>read_by</th>\n",
       "      <th>length</th>\n",
       "    </tr>\n",
       "  </thead>\n",
       "  <tbody>\n",
       "    <tr>\n",
       "      <th>2100</th>\n",
       "      <td>단밭빵퉷</td>\n",
       "      <td>80</td>\n",
       "      <td>담배만이 우리 세상</td>\n",
       "      <td>남도형</td>\n",
       "      <td>류연웅</td>\n",
       "      <td>학창시절 생각나네요 \\r\\n재밌게 잘들었습니다.</td>\n",
       "      <td>2019.09.29</td>\n",
       "      <td>안전가옥</td>\n",
       "      <td>소설문학</td>\n",
       "      <td>someone</td>\n",
       "      <td>24</td>\n",
       "    </tr>\n",
       "  </tbody>\n",
       "</table>\n",
       "</div>"
      ],
      "text/plain": [
       "     nickname  rating       title voice author                      review  \\\n",
       "2100     단밭빵퉷      80  담배만이 우리 세상   남도형    류연웅  학창시절 생각나네요 \\r\\n재밌게 잘들었습니다.   \n",
       "\n",
       "         created publish genre  read_by  length  \n",
       "2100  2019.09.29    안전가옥  소설문학  someone      24  "
      ]
     },
     "execution_count": 81,
     "metadata": {},
     "output_type": "execute_result"
    }
   ],
   "source": [
    "with_review[\"length\"] = with_review['review'].apply(len)\n",
    "with_review.sample()"
   ]
  },
  {
   "cell_type": "code",
   "execution_count": 142,
   "metadata": {},
   "outputs": [
    {
     "data": {
      "text/plain": [
       "array(['잘들었습니다.', '잘들었습니다', '잘 들었습니다'], dtype=object)"
      ]
     },
     "execution_count": 142,
     "metadata": {},
     "output_type": "execute_result"
    }
   ],
   "source": [
    "with_review[(with_review['review'].str.contains('들었습니다')) & (with_review['length'] < 10)].review.unique()[:3] #세개만 샘플로 뽑아봤어요"
   ]
  },
  {
   "cell_type": "markdown",
   "metadata": {},
   "source": [
    "## 유저별 평점 variance "
   ]
  },
  {
   "cell_type": "code",
   "execution_count": null,
   "metadata": {},
   "outputs": [],
   "source": []
  },
  {
   "cell_type": "code",
   "execution_count": null,
   "metadata": {},
   "outputs": [],
   "source": []
  },
  {
   "cell_type": "code",
   "execution_count": 184,
   "metadata": {},
   "outputs": [
    {
     "data": {
      "text/html": [
       "<div>\n",
       "<style scoped>\n",
       "    .dataframe tbody tr th:only-of-type {\n",
       "        vertical-align: middle;\n",
       "    }\n",
       "\n",
       "    .dataframe tbody tr th {\n",
       "        vertical-align: top;\n",
       "    }\n",
       "\n",
       "    .dataframe thead th {\n",
       "        text-align: right;\n",
       "    }\n",
       "</style>\n",
       "<table border=\"1\" class=\"dataframe\">\n",
       "  <thead>\n",
       "    <tr style=\"text-align: right;\">\n",
       "      <th></th>\n",
       "      <th>nickname</th>\n",
       "      <th>title</th>\n",
       "      <th>rating</th>\n",
       "    </tr>\n",
       "  </thead>\n",
       "  <tbody>\n",
       "    <tr>\n",
       "      <th>2169</th>\n",
       "      <td>hamsik</td>\n",
       "      <td>[EBS 세계문학전집] 15소년 표류기</td>\n",
       "      <td>100</td>\n",
       "    </tr>\n",
       "  </tbody>\n",
       "</table>\n",
       "</div>"
      ],
      "text/plain": [
       "     nickname                  title  rating\n",
       "2169   hamsik  [EBS 세계문학전집] 15소년 표류기     100"
      ]
     },
     "execution_count": 184,
     "metadata": {},
     "output_type": "execute_result"
    }
   ],
   "source": [
    "review_per_user = all_review.groupby(['nickname', 'title'])['rating'].first().to_frame().reset_index()\n",
    "review_per_user.sample()"
   ]
  },
  {
   "cell_type": "code",
   "execution_count": 241,
   "metadata": {},
   "outputs": [],
   "source": [
    "review_count = review_per_user.groupby('nickname')['rating'].count().to_frame()\n",
    "review_one = list(review_count.query('rating == 1').index)"
   ]
  },
  {
   "cell_type": "code",
   "execution_count": 245,
   "metadata": {},
   "outputs": [
    {
     "data": {
      "text/html": [
       "<div>\n",
       "<style scoped>\n",
       "    .dataframe tbody tr th:only-of-type {\n",
       "        vertical-align: middle;\n",
       "    }\n",
       "\n",
       "    .dataframe tbody tr th {\n",
       "        vertical-align: top;\n",
       "    }\n",
       "\n",
       "    .dataframe thead th {\n",
       "        text-align: right;\n",
       "    }\n",
       "</style>\n",
       "<table border=\"1\" class=\"dataframe\">\n",
       "  <thead>\n",
       "    <tr style=\"text-align: right;\">\n",
       "      <th></th>\n",
       "      <th>rating_variance</th>\n",
       "    </tr>\n",
       "    <tr>\n",
       "      <th>nickname</th>\n",
       "      <th></th>\n",
       "    </tr>\n",
       "  </thead>\n",
       "  <tbody>\n",
       "    <tr>\n",
       "      <th>반지하빌런</th>\n",
       "      <td>0.0</td>\n",
       "    </tr>\n",
       "  </tbody>\n",
       "</table>\n",
       "</div>"
      ],
      "text/plain": [
       "          rating_variance\n",
       "nickname                 \n",
       "반지하빌런                 0.0"
      ]
     },
     "execution_count": 245,
     "metadata": {},
     "output_type": "execute_result"
    }
   ],
   "source": [
    "review_var = review_per_user[~review_per_user['nickname'].isin(review_one)].groupby('nickname')['rating'].var(ddof = 0).to_frame()\n",
    "review_var.columns = ['rating_variance']\n",
    "review_var.sample()"
   ]
  },
  {
   "cell_type": "code",
   "execution_count": 232,
   "metadata": {},
   "outputs": [
    {
     "data": {
      "text/plain": [
       "0"
      ]
     },
     "execution_count": 232,
     "metadata": {},
     "output_type": "execute_result"
    }
   ],
   "source": [
    "review_var[review_var['rating_variance'].isnull()].shape[0]"
   ]
  },
  {
   "cell_type": "code",
   "execution_count": 233,
   "metadata": {},
   "outputs": [
    {
     "data": {
      "text/html": [
       "<div>\n",
       "<style scoped>\n",
       "    .dataframe tbody tr th:only-of-type {\n",
       "        vertical-align: middle;\n",
       "    }\n",
       "\n",
       "    .dataframe tbody tr th {\n",
       "        vertical-align: top;\n",
       "    }\n",
       "\n",
       "    .dataframe thead th {\n",
       "        text-align: right;\n",
       "    }\n",
       "</style>\n",
       "<table border=\"1\" class=\"dataframe\">\n",
       "  <thead>\n",
       "    <tr style=\"text-align: right;\">\n",
       "      <th></th>\n",
       "      <th>rating_variance</th>\n",
       "    </tr>\n",
       "    <tr>\n",
       "      <th>nickname</th>\n",
       "      <th></th>\n",
       "    </tr>\n",
       "  </thead>\n",
       "  <tbody>\n",
       "    <tr>\n",
       "      <th>amartia</th>\n",
       "      <td>25.0</td>\n",
       "    </tr>\n",
       "  </tbody>\n",
       "</table>\n",
       "</div>"
      ],
      "text/plain": [
       "          rating_variance\n",
       "nickname                 \n",
       "amartia              25.0"
      ]
     },
     "execution_count": 233,
     "metadata": {},
     "output_type": "execute_result"
    }
   ],
   "source": [
    "review_var.query('nickname == \"amartia\"')"
   ]
  },
  {
   "cell_type": "code",
   "execution_count": 214,
   "metadata": {},
   "outputs": [
    {
     "data": {
      "text/html": [
       "<div>\n",
       "<style scoped>\n",
       "    .dataframe tbody tr th:only-of-type {\n",
       "        vertical-align: middle;\n",
       "    }\n",
       "\n",
       "    .dataframe tbody tr th {\n",
       "        vertical-align: top;\n",
       "    }\n",
       "\n",
       "    .dataframe thead th {\n",
       "        text-align: right;\n",
       "    }\n",
       "</style>\n",
       "<table border=\"1\" class=\"dataframe\">\n",
       "  <thead>\n",
       "    <tr style=\"text-align: right;\">\n",
       "      <th></th>\n",
       "      <th>nickname</th>\n",
       "      <th>title</th>\n",
       "      <th>rating</th>\n",
       "    </tr>\n",
       "  </thead>\n",
       "  <tbody>\n",
       "    <tr>\n",
       "      <th>954</th>\n",
       "      <td>amartia</td>\n",
       "      <td>모두 거짓말을 한다</td>\n",
       "      <td>80</td>\n",
       "    </tr>\n",
       "    <tr>\n",
       "      <th>955</th>\n",
       "      <td>amartia</td>\n",
       "      <td>아몬드</td>\n",
       "      <td>90</td>\n",
       "    </tr>\n",
       "  </tbody>\n",
       "</table>\n",
       "</div>"
      ],
      "text/plain": [
       "    nickname       title  rating\n",
       "954  amartia  모두 거짓말을 한다      80\n",
       "955  amartia         아몬드      90"
      ]
     },
     "execution_count": 214,
     "metadata": {},
     "output_type": "execute_result"
    }
   ],
   "source": [
    "review_per_user.query('nickname == \"amartia\"')"
   ]
  },
  {
   "cell_type": "code",
   "execution_count": 246,
   "metadata": {},
   "outputs": [
    {
     "data": {
      "text/html": [
       "<div>\n",
       "<style scoped>\n",
       "    .dataframe tbody tr th:only-of-type {\n",
       "        vertical-align: middle;\n",
       "    }\n",
       "\n",
       "    .dataframe tbody tr th {\n",
       "        vertical-align: top;\n",
       "    }\n",
       "\n",
       "    .dataframe thead th {\n",
       "        text-align: right;\n",
       "    }\n",
       "</style>\n",
       "<table border=\"1\" class=\"dataframe\">\n",
       "  <thead>\n",
       "    <tr style=\"text-align: right;\">\n",
       "      <th></th>\n",
       "      <th>rating_variance</th>\n",
       "    </tr>\n",
       "    <tr>\n",
       "      <th>nickname</th>\n",
       "      <th></th>\n",
       "    </tr>\n",
       "  </thead>\n",
       "  <tbody>\n",
       "    <tr>\n",
       "      <th>djsjsjss</th>\n",
       "      <td>669.421488</td>\n",
       "    </tr>\n",
       "    <tr>\n",
       "      <th>그라닡</th>\n",
       "      <td>0.000000</td>\n",
       "    </tr>\n",
       "    <tr>\n",
       "      <th>Sky123000</th>\n",
       "      <td>0.000000</td>\n",
       "    </tr>\n",
       "  </tbody>\n",
       "</table>\n",
       "</div>"
      ],
      "text/plain": [
       "           rating_variance\n",
       "nickname                  \n",
       "djsjsjss        669.421488\n",
       "그라닡               0.000000\n",
       "Sky123000         0.000000"
      ]
     },
     "execution_count": 246,
     "metadata": {},
     "output_type": "execute_result"
    }
   ],
   "source": [
    "review_var.sample(3)"
   ]
  },
  {
   "cell_type": "code",
   "execution_count": 249,
   "metadata": {},
   "outputs": [
    {
     "data": {
      "text/plain": [
       "669.4214876033056"
      ]
     },
     "execution_count": 249,
     "metadata": {},
     "output_type": "execute_result"
    }
   ],
   "source": [
    "np.var(review_per_user.query(\"nickname == 'djsjsjss'\")['rating'])"
   ]
  },
  {
   "cell_type": "code",
   "execution_count": 255,
   "metadata": {},
   "outputs": [
    {
     "data": {
      "text/plain": [
       "{'whiskers': [<matplotlib.lines.Line2D at 0x1d08855ad08>,\n",
       "  <matplotlib.lines.Line2D at 0x1d088131d08>],\n",
       " 'caps': [<matplotlib.lines.Line2D at 0x1d08820f988>,\n",
       "  <matplotlib.lines.Line2D at 0x1d088335148>],\n",
       " 'boxes': [<matplotlib.lines.Line2D at 0x1d088454ac8>],\n",
       " 'medians': [<matplotlib.lines.Line2D at 0x1d088335308>],\n",
       " 'fliers': [<matplotlib.lines.Line2D at 0x1d08812ecc8>],\n",
       " 'means': []}"
      ]
     },
     "execution_count": 255,
     "metadata": {},
     "output_type": "execute_result"
    },
    {
     "data": {
      "image/png": "[encoded data removed]",
      "text/plain": [
       "<Figure size 432x288 with 1 Axes>"
      ]
     },
     "metadata": {
      "needs_background": "light"
     },
     "output_type": "display_data"
    }
   ],
   "source": [
    "plt.boxplot(review_var)"
   ]
  },
  {
   "cell_type": "code",
   "execution_count": 254,
   "metadata": {},
   "outputs": [
    {
     "data": {
      "text/plain": [
       "{'whiskers': [<matplotlib.lines.Line2D at 0x1d08850c288>,\n",
       "  <matplotlib.lines.Line2D at 0x1d088480588>],\n",
       " 'caps': [<matplotlib.lines.Line2D at 0x1d088480f88>,\n",
       "  <matplotlib.lines.Line2D at 0x1d08831aec8>],\n",
       " 'boxes': [<matplotlib.lines.Line2D at 0x1d08848e208>],\n",
       " 'medians': [<matplotlib.lines.Line2D at 0x1d08848b988>],\n",
       " 'fliers': [],\n",
       " 'means': []}"
      ]
     },
     "execution_count": 254,
     "metadata": {},
     "output_type": "execute_result"
    },
    {
     "data": {
      "image/png": "[encoded data removed]",
      "text/plain": [
       "<Figure size 432x288 with 1 Axes>"
      ]
     },
     "metadata": {
      "needs_background": "light"
     },
     "output_type": "display_data"
    }
   ],
   "source": [
    "plt.boxplot(review_var, showfliers=False)"
   ]
  },
  {
   "cell_type": "code",
   "execution_count": null,
   "metadata": {},
   "outputs": [],
   "source": []
  },
  {
   "cell_type": "code",
   "execution_count": null,
   "metadata": {},
   "outputs": [],
   "source": [
    "plt.boxplot(review_var, showfliers=False)"
   ]
  },
  {
   "cell_type": "code",
   "execution_count": 258,
   "metadata": {},
   "outputs": [
    {
     "data": {
      "text/plain": [
       "(array([1553.,   58.,    9.,    9.,    4.,    2.,    4.,    3.,    2.,\n",
       "           2.]),\n",
       " array([   0. ,  202.5,  405. ,  607.5,  810. , 1012.5, 1215. , 1417.5,\n",
       "        1620. , 1822.5, 2025. ]),\n",
       " <BarContainer object of 10 artists>)"
      ]
     },
     "execution_count": 258,
     "metadata": {},
     "output_type": "execute_result"
    },
    {
     "data": {
      "image/png": "[encoded data removed]",
      "text/plain": [
       "<Figure size 432x288 with 1 Axes>"
      ]
     },
     "metadata": {
      "needs_background": "light"
     },
     "output_type": "display_data"
    }
   ],
   "source": [
    "plt.hist(review_var)"
   ]
  },
  {
   "cell_type": "code",
   "execution_count": 266,
   "metadata": {},
   "outputs": [
    {
     "data": {
      "text/html": [
       "<div>\n",
       "<style scoped>\n",
       "    .dataframe tbody tr th:only-of-type {\n",
       "        vertical-align: middle;\n",
       "    }\n",
       "\n",
       "    .dataframe tbody tr th {\n",
       "        vertical-align: top;\n",
       "    }\n",
       "\n",
       "    .dataframe thead th {\n",
       "        text-align: right;\n",
       "    }\n",
       "</style>\n",
       "<table border=\"1\" class=\"dataframe\">\n",
       "  <thead>\n",
       "    <tr style=\"text-align: right;\">\n",
       "      <th></th>\n",
       "      <th>rating_variance</th>\n",
       "      <th>rating_count</th>\n",
       "    </tr>\n",
       "    <tr>\n",
       "      <th>nickname</th>\n",
       "      <th></th>\n",
       "      <th></th>\n",
       "    </tr>\n",
       "  </thead>\n",
       "  <tbody>\n",
       "    <tr>\n",
       "      <th>갯민숭달팽이</th>\n",
       "      <td>625.0</td>\n",
       "      <td>2</td>\n",
       "    </tr>\n",
       "  </tbody>\n",
       "</table>\n",
       "</div>"
      ],
      "text/plain": [
       "          rating_variance  rating_count\n",
       "nickname                               \n",
       "갯민숭달팽이              625.0             2"
      ]
     },
     "execution_count": 266,
     "metadata": {},
     "output_type": "execute_result"
    }
   ],
   "source": [
    "review_var_count = review_var.merge(review_count, left_index = True, right_index = True)\n",
    "review_var_count.columns = ['rating_variance', 'rating_count']\n",
    "review_var_count.sample()"
   ]
  },
  {
   "cell_type": "code",
   "execution_count": 260,
   "metadata": {},
   "outputs": [
    {
     "data": {
      "text/html": [
       "<div>\n",
       "<style scoped>\n",
       "    .dataframe tbody tr th:only-of-type {\n",
       "        vertical-align: middle;\n",
       "    }\n",
       "\n",
       "    .dataframe tbody tr th {\n",
       "        vertical-align: top;\n",
       "    }\n",
       "\n",
       "    .dataframe thead th {\n",
       "        text-align: right;\n",
       "    }\n",
       "</style>\n",
       "<table border=\"1\" class=\"dataframe\">\n",
       "  <thead>\n",
       "    <tr style=\"text-align: right;\">\n",
       "      <th></th>\n",
       "      <th>rating_variance</th>\n",
       "    </tr>\n",
       "  </thead>\n",
       "  <tbody>\n",
       "    <tr>\n",
       "      <th>count</th>\n",
       "      <td>1646.000000</td>\n",
       "    </tr>\n",
       "    <tr>\n",
       "      <th>mean</th>\n",
       "      <td>52.795470</td>\n",
       "    </tr>\n",
       "    <tr>\n",
       "      <th>std</th>\n",
       "      <td>165.269261</td>\n",
       "    </tr>\n",
       "    <tr>\n",
       "      <th>min</th>\n",
       "      <td>0.000000</td>\n",
       "    </tr>\n",
       "    <tr>\n",
       "      <th>25%</th>\n",
       "      <td>0.000000</td>\n",
       "    </tr>\n",
       "    <tr>\n",
       "      <th>50%</th>\n",
       "      <td>0.000000</td>\n",
       "    </tr>\n",
       "    <tr>\n",
       "      <th>75%</th>\n",
       "      <td>35.984375</td>\n",
       "    </tr>\n",
       "    <tr>\n",
       "      <th>max</th>\n",
       "      <td>2025.000000</td>\n",
       "    </tr>\n",
       "  </tbody>\n",
       "</table>\n",
       "</div>"
      ],
      "text/plain": [
       "       rating_variance\n",
       "count      1646.000000\n",
       "mean         52.795470\n",
       "std         165.269261\n",
       "min           0.000000\n",
       "25%           0.000000\n",
       "50%           0.000000\n",
       "75%          35.984375\n",
       "max        2025.000000"
      ]
     },
     "execution_count": 260,
     "metadata": {},
     "output_type": "execute_result"
    }
   ],
   "source": [
    "review_var.describe()"
   ]
  },
  {
   "cell_type": "code",
   "execution_count": 268,
   "metadata": {},
   "outputs": [
    {
     "data": {
      "text/html": [
       "<div>\n",
       "<style scoped>\n",
       "    .dataframe tbody tr th:only-of-type {\n",
       "        vertical-align: middle;\n",
       "    }\n",
       "\n",
       "    .dataframe tbody tr th {\n",
       "        vertical-align: top;\n",
       "    }\n",
       "\n",
       "    .dataframe thead th {\n",
       "        text-align: right;\n",
       "    }\n",
       "</style>\n",
       "<table border=\"1\" class=\"dataframe\">\n",
       "  <thead>\n",
       "    <tr style=\"text-align: right;\">\n",
       "      <th></th>\n",
       "      <th>rating_variance</th>\n",
       "      <th>rating_count</th>\n",
       "    </tr>\n",
       "    <tr>\n",
       "      <th>nickname</th>\n",
       "      <th></th>\n",
       "      <th></th>\n",
       "    </tr>\n",
       "  </thead>\n",
       "  <tbody>\n",
       "    <tr>\n",
       "      <th>091222</th>\n",
       "      <td>66.666667</td>\n",
       "      <td>3</td>\n",
       "    </tr>\n",
       "    <tr>\n",
       "      <th>09abc</th>\n",
       "      <td>0.000000</td>\n",
       "      <td>5</td>\n",
       "    </tr>\n",
       "    <tr>\n",
       "      <th>0오공0</th>\n",
       "      <td>75.000000</td>\n",
       "      <td>16</td>\n",
       "    </tr>\n",
       "    <tr>\n",
       "      <th>1025khd</th>\n",
       "      <td>0.000000</td>\n",
       "      <td>8</td>\n",
       "    </tr>\n",
       "    <tr>\n",
       "      <th>12최정</th>\n",
       "      <td>75.000000</td>\n",
       "      <td>4</td>\n",
       "    </tr>\n",
       "    <tr>\n",
       "      <th>...</th>\n",
       "      <td>...</td>\n",
       "      <td>...</td>\n",
       "    </tr>\n",
       "    <tr>\n",
       "      <th>히풋러</th>\n",
       "      <td>55.555556</td>\n",
       "      <td>6</td>\n",
       "    </tr>\n",
       "    <tr>\n",
       "      <th>히히덕</th>\n",
       "      <td>0.000000</td>\n",
       "      <td>25</td>\n",
       "    </tr>\n",
       "    <tr>\n",
       "      <th>히힛잉</th>\n",
       "      <td>69.135802</td>\n",
       "      <td>9</td>\n",
       "    </tr>\n",
       "    <tr>\n",
       "      <th>힉스입자</th>\n",
       "      <td>0.000000</td>\n",
       "      <td>5</td>\n",
       "    </tr>\n",
       "    <tr>\n",
       "      <th>힘좀내요</th>\n",
       "      <td>0.000000</td>\n",
       "      <td>16</td>\n",
       "    </tr>\n",
       "  </tbody>\n",
       "</table>\n",
       "<p>1646 rows × 2 columns</p>\n",
       "</div>"
      ],
      "text/plain": [
       "          rating_variance  rating_count\n",
       "nickname                               \n",
       "091222          66.666667             3\n",
       "09abc            0.000000             5\n",
       "0오공0            75.000000            16\n",
       "1025khd          0.000000             8\n",
       "12최정            75.000000             4\n",
       "...                   ...           ...\n",
       "히풋러             55.555556             6\n",
       "히히덕              0.000000            25\n",
       "히힛잉             69.135802             9\n",
       "힉스입자             0.000000             5\n",
       "힘좀내요             0.000000            16\n",
       "\n",
       "[1646 rows x 2 columns]"
      ]
     },
     "execution_count": 268,
     "metadata": {},
     "output_type": "execute_result"
    }
   ],
   "source": [
    "review_var_count"
   ]
  },
  {
   "cell_type": "code",
   "execution_count": null,
   "metadata": {},
   "outputs": [],
   "source": []
  },
  {
   "cell_type": "code",
   "execution_count": null,
   "metadata": {},
   "outputs": [],
   "source": []
  },
  {
   "cell_type": "markdown",
   "metadata": {},
   "source": [
    "## general EDA"
   ]
  },
  {
   "cell_type": "code",
   "execution_count": 330,
   "metadata": {},
   "outputs": [
    {
     "name": "stdout",
     "output_type": "stream",
     "text": [
      "리뷰데이터의 크기는             : (15533, 11)\n",
      "리뷰데이터에 포함된 유저의 수는 : 4450 명\n",
      "리뷰데이터에 포함된 책의 수는   : 195 권\n"
     ]
    }
   ],
   "source": [
    "print(f\"리뷰데이터의 크기는             : {all_review.shape}\")\n",
    "print(f\"리뷰데이터에 포함된 유저의 수는 : {len(all_review['nickname'].unique())} 명\")\n",
    "print(f\"리뷰데이터에 포함된 책의 수는   : {len(all_review['title'].unique())} 권\")"
   ]
  },
  {
   "cell_type": "code",
   "execution_count": 143,
   "metadata": {},
   "outputs": [
    {
     "name": "stderr",
     "output_type": "stream",
     "text": [
      "C:\\Users\\Hanna Kim\\Anaconda3\\lib\\site-packages\\ipykernel_launcher.py:3: UserWarning: FixedFormatter should only be used together with FixedLocator\n",
      "  This is separate from the ipykernel package so we can avoid doing imports until\n"
     ]
    },
    {
     "data": {
      "image/png": "[encoded data removed]",
      "text/plain": [
       "<Figure size 864x576 with 1 Axes>"
      ]
     },
     "metadata": {
      "needs_background": "light"
     },
     "output_type": "display_data"
    }
   ],
   "source": [
    "plt.figure(figsize = (12, 8))\n",
    "ax = sns.countplot(x=\"rating\", data=all_review)\n",
    "ax.set_yticklabels([num for num in ax.get_yticks()])\n",
    "plt.tick_params(labelsize = 15)\n",
    "plt.title(\"Count Ratings in  data\", fontsize = 20)\n",
    "plt.xlabel(\"Ratings\", fontsize = 20)\n",
    "plt.ylabel(\"Number of Ratings\", fontsize = 20)\n",
    "plt.show()"
   ]
  },
  {
   "cell_type": "markdown",
   "metadata": {},
   "source": [
    "일단 가장 높은 n개의 값만 보여주는 함수를 만듭니다."
   ]
  },
  {
   "cell_type": "code",
   "execution_count": 336,
   "metadata": {},
   "outputs": [],
   "source": [
    "def return_best_n(statistics, n):\n",
    "    # statistics: array of size review.shape[1] containing one statistic calculated from the dataset\n",
    "    # n: number of indices to be returned\n",
    "    # returns: array of size *n* containing the indices of the best scored statistics\n",
    "    statistics = pd.DataFrame({'statistic':statistics})\n",
    "    return statistics.sort_values('statistic', ascending = False).iloc[:n]"
   ]
  },
  {
   "cell_type": "markdown",
   "metadata": {},
   "source": [
    "### Mean Rating <a class=\"anchor\" id=\"bullet2.1\"></a>\n"
   ]
  },
  {
   "cell_type": "code",
   "execution_count": 337,
   "metadata": {},
   "outputs": [
    {
     "data": {
      "text/html": [
       "<div>\n",
       "<style scoped>\n",
       "    .dataframe tbody tr th:only-of-type {\n",
       "        vertical-align: middle;\n",
       "    }\n",
       "\n",
       "    .dataframe tbody tr th {\n",
       "        vertical-align: top;\n",
       "    }\n",
       "\n",
       "    .dataframe thead th {\n",
       "        text-align: right;\n",
       "    }\n",
       "</style>\n",
       "<table border=\"1\" class=\"dataframe\">\n",
       "  <thead>\n",
       "    <tr style=\"text-align: right;\">\n",
       "      <th></th>\n",
       "      <th>statistic</th>\n",
       "    </tr>\n",
       "    <tr>\n",
       "      <th>title</th>\n",
       "      <th></th>\n",
       "    </tr>\n",
       "  </thead>\n",
       "  <tbody>\n",
       "    <tr>\n",
       "      <th>달려라, 아비</th>\n",
       "      <td>100.0</td>\n",
       "    </tr>\n",
       "    <tr>\n",
       "      <th>[와우 낭독] 지금 아니면 못 할 일 (단편)</th>\n",
       "      <td>100.0</td>\n",
       "    </tr>\n",
       "    <tr>\n",
       "      <th>이원승이 읽는 현진건의 운수 좋은 날</th>\n",
       "      <td>100.0</td>\n",
       "    </tr>\n",
       "    <tr>\n",
       "      <th>김의성이 읽는 최인호의 타인의 방</th>\n",
       "      <td>100.0</td>\n",
       "    </tr>\n",
       "    <tr>\n",
       "      <th>김용 대하역사무협 신조협려 하이라이트</th>\n",
       "      <td>100.0</td>\n",
       "    </tr>\n",
       "    <tr>\n",
       "      <th>김영민이 읽는 현경준의 탁류</th>\n",
       "      <td>100.0</td>\n",
       "    </tr>\n",
       "    <tr>\n",
       "      <th>길해연이 읽는 양귀자의 원미동 시인</th>\n",
       "      <td>100.0</td>\n",
       "    </tr>\n",
       "    <tr>\n",
       "      <th>기주봉이 읽는 하근찬의 수난이대</th>\n",
       "      <td>100.0</td>\n",
       "    </tr>\n",
       "    <tr>\n",
       "      <th>공룡 이야기 마을_고집 센 벨로키랍토르(영어)</th>\n",
       "      <td>100.0</td>\n",
       "    </tr>\n",
       "    <tr>\n",
       "      <th>강신일이 읽는 최서해의 탈출기</th>\n",
       "      <td>100.0</td>\n",
       "    </tr>\n",
       "  </tbody>\n",
       "</table>\n",
       "</div>"
      ],
      "text/plain": [
       "                           statistic\n",
       "title                               \n",
       "달려라, 아비                        100.0\n",
       "[와우 낭독] 지금 아니면 못 할 일 (단편)      100.0\n",
       "이원승이 읽는 현진건의 운수 좋은 날           100.0\n",
       "김의성이 읽는 최인호의 타인의 방             100.0\n",
       "김용 대하역사무협 신조협려 하이라이트           100.0\n",
       "김영민이 읽는 현경준의 탁류                100.0\n",
       "길해연이 읽는 양귀자의 원미동 시인            100.0\n",
       "기주봉이 읽는 하근찬의 수난이대              100.0\n",
       "공룡 이야기 마을_고집 센 벨로키랍토르(영어)      100.0\n",
       "강신일이 읽는 최서해의 탈출기               100.0"
      ]
     },
     "execution_count": 337,
     "metadata": {},
     "output_type": "execute_result"
    }
   ],
   "source": [
    "means = all_review.pivot_table(columns='title', index = 'nickname', values = 'rating').iloc[:,2:].apply(np.mean)\n",
    "return_best_n(means,10)"
   ]
  },
  {
   "cell_type": "code",
   "execution_count": null,
   "metadata": {},
   "outputs": [],
   "source": []
  },
  {
   "cell_type": "markdown",
   "metadata": {},
   "source": [
    "### Rating Count<a class=\"anchor\" id=\"bullet2.2\"></a>\n"
   ]
  },
  {
   "cell_type": "code",
   "execution_count": 223,
   "metadata": {},
   "outputs": [
    {
     "ename": "NameError",
     "evalue": "name 'return_best_n' is not defined",
     "output_type": "error",
     "traceback": [
      "\u001b[1;31m---------------------------------------------------------------------------\u001b[0m",
      "\u001b[1;31mNameError\u001b[0m                                 Traceback (most recent call last)",
      "\u001b[1;32m<ipython-input-223-06a2e1401455>\u001b[0m in \u001b[0;36m<module>\u001b[1;34m\u001b[0m\n\u001b[0;32m      2\u001b[0m \u001b[1;33m\u001b[0m\u001b[0m\n\u001b[0;32m      3\u001b[0m \u001b[1;31m# return_best_n(count,10).index 를 구하면 제목만 뽑을 수 있음\u001b[0m\u001b[1;33m\u001b[0m\u001b[1;33m\u001b[0m\u001b[1;33m\u001b[0m\u001b[0m\n\u001b[1;32m----> 4\u001b[1;33m \u001b[0mreturn_best_n\u001b[0m\u001b[1;33m(\u001b[0m\u001b[0mcount\u001b[0m\u001b[1;33m,\u001b[0m\u001b[1;36m10\u001b[0m\u001b[1;33m)\u001b[0m\u001b[1;33m\u001b[0m\u001b[1;33m\u001b[0m\u001b[0m\n\u001b[0m",
      "\u001b[1;31mNameError\u001b[0m: name 'return_best_n' is not defined"
     ]
    }
   ],
   "source": [
    "count = all_review.pivot_table(columns='title', index = 'nickname', values = 'rating').iloc[:,2:].apply(lambda col : np.sum(~np.isnan(col)))\n",
    "\n",
    "# return_best_n(count,10).index 를 구하면 제목만 뽑을 수 있음\n",
    "return_best_n(count,10)"
   ]
  },
  {
   "cell_type": "code",
   "execution_count": 222,
   "metadata": {},
   "outputs": [
    {
     "ename": "NameError",
     "evalue": "name 'count' is not defined",
     "output_type": "error",
     "traceback": [
      "\u001b[1;31m---------------------------------------------------------------------------\u001b[0m",
      "\u001b[1;31mNameError\u001b[0m                                 Traceback (most recent call last)",
      "\u001b[1;32m<ipython-input-222-26780ddf2751>\u001b[0m in \u001b[0;36m<module>\u001b[1;34m\u001b[0m\n\u001b[1;32m----> 1\u001b[1;33m \u001b[0mcount\u001b[0m\u001b[1;33m\u001b[0m\u001b[1;33m\u001b[0m\u001b[0m\n\u001b[0m",
      "\u001b[1;31mNameError\u001b[0m: name 'count' is not defined"
     ]
    }
   ],
   "source": [
    "count"
   ]
  },
  {
   "cell_type": "markdown",
   "metadata": {},
   "source": [
    "평균 평점 top10의 책은 몇개의 리뷰가 있을까?"
   ]
  },
  {
   "cell_type": "code",
   "execution_count": 339,
   "metadata": {},
   "outputs": [
    {
     "data": {
      "text/plain": [
       "title\n",
       "달려라, 아비                      1\n",
       "[와우 낭독] 지금 아니면 못 할 일 (단편)    1\n",
       "이원승이 읽는 현진건의 운수 좋은 날         2\n",
       "김의성이 읽는 최인호의 타인의 방           5\n",
       "김용 대하역사무협 신조협려 하이라이트         2\n",
       "김영민이 읽는 현경준의 탁류              1\n",
       "길해연이 읽는 양귀자의 원미동 시인          1\n",
       "기주봉이 읽는 하근찬의 수난이대            1\n",
       "공룡 이야기 마을_고집 센 벨로키랍토르(영어)    1\n",
       "강신일이 읽는 최서해의 탈출기             1\n",
       "dtype: int64"
      ]
     },
     "execution_count": 339,
     "metadata": {},
     "output_type": "execute_result"
    }
   ],
   "source": [
    "top10_avg_ratings = return_best_n(means,10).index\n",
    "count.loc[top10_avg_ratings]"
   ]
  },
  {
   "cell_type": "markdown",
   "metadata": {},
   "source": [
    "### Percentage of Good Ratings<a class=\"anchor\" id=\"bullet2.3\"></a>\n"
   ]
  },
  {
   "cell_type": "markdown",
   "metadata": {},
   "source": [
    " "
   ]
  },
  {
   "cell_type": "code",
   "execution_count": 340,
   "metadata": {},
   "outputs": [
    {
     "data": {
      "text/html": [
       "<div>\n",
       "<style scoped>\n",
       "    .dataframe tbody tr th:only-of-type {\n",
       "        vertical-align: middle;\n",
       "    }\n",
       "\n",
       "    .dataframe tbody tr th {\n",
       "        vertical-align: top;\n",
       "    }\n",
       "\n",
       "    .dataframe thead th {\n",
       "        text-align: right;\n",
       "    }\n",
       "</style>\n",
       "<table border=\"1\" class=\"dataframe\">\n",
       "  <thead>\n",
       "    <tr style=\"text-align: right;\">\n",
       "      <th></th>\n",
       "      <th>statistic</th>\n",
       "    </tr>\n",
       "    <tr>\n",
       "      <th>title</th>\n",
       "      <th></th>\n",
       "    </tr>\n",
       "  </thead>\n",
       "  <tbody>\n",
       "    <tr>\n",
       "      <th>&lt;테이크아웃 오디오북&gt; 목견</th>\n",
       "      <td>1.0</td>\n",
       "    </tr>\n",
       "    <tr>\n",
       "      <th>눈물을 자르는 눈꺼풀처럼(시 10편)</th>\n",
       "      <td>1.0</td>\n",
       "    </tr>\n",
       "    <tr>\n",
       "      <th>신경 끄기의 기술 (완독)</th>\n",
       "      <td>1.0</td>\n",
       "    </tr>\n",
       "  </tbody>\n",
       "</table>\n",
       "</div>"
      ],
      "text/plain": [
       "                      statistic\n",
       "title                          \n",
       "<테이크아웃 오디오북> 목견             1.0\n",
       "눈물을 자르는 눈꺼풀처럼(시 10편)        1.0\n",
       "신경 끄기의 기술 (완독)              1.0"
      ]
     },
     "execution_count": 340,
     "metadata": {},
     "output_type": "execute_result"
    }
   ],
   "source": [
    "good_count = all_review.pivot_table(columns='title', index = 'nickname', values = 'rating').iloc[:,2:].apply(lambda col : np.sum(col >=  80)/np.sum(~np.isnan(col)))\n",
    "return_best_n(good_count,3)"
   ]
  },
  {
   "cell_type": "code",
   "execution_count": 13,
   "metadata": {},
   "outputs": [
    {
     "name": "stdout",
     "output_type": "stream",
     "text": [
      "387\n",
      "391\n"
     ]
    }
   ],
   "source": [
    "#위 코드 이해하기\n",
    "col = pivot_df.iloc[:,2:]['나는 왠지 대박날 것만 같아!']\n",
    "print(np.sum(col >= 80))\n",
    "print(np.sum(~np.isnan(col)))"
   ]
  },
  {
   "cell_type": "markdown",
   "metadata": {},
   "source": [
    "애초에 리뷰가 한개인 경우는 리뷰 수 대비 좋은 리뷰 값이 1로 나옴<br>\n",
    "이걸 해결하기 위해서 리뷰 숫자가 충분한 경우만 확인"
   ]
  },
  {
   "cell_type": "code",
   "execution_count": 341,
   "metadata": {},
   "outputs": [
    {
     "data": {
      "text/html": [
       "<div>\n",
       "<style scoped>\n",
       "    .dataframe tbody tr th:only-of-type {\n",
       "        vertical-align: middle;\n",
       "    }\n",
       "\n",
       "    .dataframe tbody tr th {\n",
       "        vertical-align: top;\n",
       "    }\n",
       "\n",
       "    .dataframe thead th {\n",
       "        text-align: right;\n",
       "    }\n",
       "</style>\n",
       "<table border=\"1\" class=\"dataframe\">\n",
       "  <thead>\n",
       "    <tr style=\"text-align: right;\">\n",
       "      <th></th>\n",
       "      <th>rating_avg</th>\n",
       "      <th>no_of_ratings</th>\n",
       "      <th>over_80_ratio</th>\n",
       "    </tr>\n",
       "    <tr>\n",
       "      <th>title</th>\n",
       "      <th></th>\n",
       "      <th></th>\n",
       "      <th></th>\n",
       "    </tr>\n",
       "  </thead>\n",
       "  <tbody>\n",
       "    <tr>\n",
       "      <th>[김병관 낭독] 못 먹어도 go! (단편)</th>\n",
       "      <td>100.000000</td>\n",
       "      <td>1</td>\n",
       "      <td>1.000000</td>\n",
       "    </tr>\n",
       "    <tr>\n",
       "      <th>남편을 죽이는 서른 가지 방법</th>\n",
       "      <td>55.000000</td>\n",
       "      <td>2</td>\n",
       "      <td>0.500000</td>\n",
       "    </tr>\n",
       "    <tr>\n",
       "      <th>[세계환상문학선] 아서 새빌 경의 범죄</th>\n",
       "      <td>89.142857</td>\n",
       "      <td>35</td>\n",
       "      <td>0.885714</td>\n",
       "    </tr>\n",
       "  </tbody>\n",
       "</table>\n",
       "</div>"
      ],
      "text/plain": [
       "                         rating_avg  no_of_ratings  over_80_ratio\n",
       "title                                                            \n",
       "[김병관 낭독] 못 먹어도 go! (단편)  100.000000              1       1.000000\n",
       "남편을 죽이는 서른 가지 방법          55.000000              2       0.500000\n",
       "[세계환상문학선] 아서 새빌 경의 범죄     89.142857             35       0.885714"
      ]
     },
     "execution_count": 341,
     "metadata": {},
     "output_type": "execute_result"
    }
   ],
   "source": [
    "means = pd.DataFrame(means, columns = ['rating_avg'])\n",
    "count = pd.DataFrame(count, columns = ['no_of_ratings'])\n",
    "rating_pct = pd.DataFrame(good_count, columns = ['over_80_ratio'])\n",
    "\n",
    "ratings = pd.merge(left=means, right=count, how='left',left_index=True,right_index=True)\n",
    "\n",
    "ratings = ratings.merge(rating_pct, how='left',left_index=True,right_index=True)\n",
    "\n",
    "ratings.sample(3)"
   ]
  },
  {
   "cell_type": "code",
   "execution_count": 342,
   "metadata": {},
   "outputs": [
    {
     "data": {
      "text/html": [
       "<div>\n",
       "<style scoped>\n",
       "    .dataframe tbody tr th:only-of-type {\n",
       "        vertical-align: middle;\n",
       "    }\n",
       "\n",
       "    .dataframe tbody tr th {\n",
       "        vertical-align: top;\n",
       "    }\n",
       "\n",
       "    .dataframe thead th {\n",
       "        text-align: right;\n",
       "    }\n",
       "</style>\n",
       "<table border=\"1\" class=\"dataframe\">\n",
       "  <thead>\n",
       "    <tr style=\"text-align: right;\">\n",
       "      <th></th>\n",
       "      <th>rating_avg</th>\n",
       "      <th>no_of_ratings</th>\n",
       "      <th>over_80_ratio</th>\n",
       "    </tr>\n",
       "    <tr>\n",
       "      <th>title</th>\n",
       "      <th></th>\n",
       "      <th></th>\n",
       "      <th></th>\n",
       "    </tr>\n",
       "  </thead>\n",
       "  <tbody>\n",
       "    <tr>\n",
       "      <th>오만과 편견(요약본)</th>\n",
       "      <td>99.339623</td>\n",
       "      <td>106</td>\n",
       "      <td>1.000000</td>\n",
       "    </tr>\n",
       "    <tr>\n",
       "      <th>열하일기 첫걸음</th>\n",
       "      <td>99.545455</td>\n",
       "      <td>352</td>\n",
       "      <td>0.997159</td>\n",
       "    </tr>\n",
       "    <tr>\n",
       "      <th>세계는 왜 싸우는가</th>\n",
       "      <td>99.171975</td>\n",
       "      <td>314</td>\n",
       "      <td>0.996815</td>\n",
       "    </tr>\n",
       "  </tbody>\n",
       "</table>\n",
       "</div>"
      ],
      "text/plain": [
       "             rating_avg  no_of_ratings  over_80_ratio\n",
       "title                                                \n",
       "오만과 편견(요약본)   99.339623            106       1.000000\n",
       "열하일기 첫걸음      99.545455            352       0.997159\n",
       "세계는 왜 싸우는가    99.171975            314       0.996815"
      ]
     },
     "execution_count": 342,
     "metadata": {},
     "output_type": "execute_result"
    }
   ],
   "source": [
    "ratings.query('no_of_ratings > 100').sort_values(by='over_80_ratio', ascending=False).head(3)"
   ]
  },
  {
   "cell_type": "code",
   "execution_count": 343,
   "metadata": {},
   "outputs": [
    {
     "data": {
      "text/plain": [
       "<AxesSubplot:>"
      ]
     },
     "execution_count": 343,
     "metadata": {},
     "output_type": "execute_result"
    },
    {
     "data": {
      "image/png": "[encoded data removed]",
      "text/plain": [
       "<Figure size 1440x288 with 1 Axes>"
      ]
     },
     "metadata": {
      "needs_background": "light"
     },
     "output_type": "display_data"
    }
   ],
   "source": [
    "plt.figure(figsize = (20,4))\n",
    "ratings['no_of_ratings'].hist(bins=100,color='c')"
   ]
  },
  {
   "cell_type": "code",
   "execution_count": 344,
   "metadata": {},
   "outputs": [
    {
     "data": {
      "text/plain": [
       "<AxesSubplot:>"
      ]
     },
     "execution_count": 344,
     "metadata": {},
     "output_type": "execute_result"
    },
    {
     "data": {
      "image/png": "[encoded data removed]",
      "text/plain": [
       "<Figure size 1440x288 with 1 Axes>"
      ]
     },
     "metadata": {
      "needs_background": "light"
     },
     "output_type": "display_data"
    }
   ],
   "source": [
    "plt.figure(figsize = (20,4))\n",
    "ratings['rating_avg'].hist(bins=20,color='c')"
   ]
  },
  {
   "cell_type": "code",
   "execution_count": 345,
   "metadata": {},
   "outputs": [
    {
     "data": {
      "text/plain": [
       "<seaborn.axisgrid.JointGrid at 0x2be3c260e08>"
      ]
     },
     "execution_count": 345,
     "metadata": {},
     "output_type": "execute_result"
    },
    {
     "data": {
      "image/png": "[encoded data removed]",
      "text/plain": [
       "<Figure size 432x432 with 3 Axes>"
      ]
     },
     "metadata": {
      "needs_background": "light"
     },
     "output_type": "display_data"
    }
   ],
   "source": [
    "sns.jointplot(x='rating_avg', y='no_of_ratings', data= ratings, alpha = 0.5, color='c')"
   ]
  },
  {
   "cell_type": "markdown",
   "metadata": {},
   "source": [
    "<div class=\"alert alert-warning\">\n",
    "분석에서 아래와 같이 rating이 몇개 이상인 책만 뽑아서 봐도 되는것...?\n",
    "</div>"
   ]
  },
  {
   "cell_type": "code",
   "execution_count": 346,
   "metadata": {},
   "outputs": [
    {
     "data": {
      "text/plain": [
       "count     193.000000\n",
       "mean       79.528497\n",
       "std       157.730190\n",
       "min         1.000000\n",
       "25%         1.000000\n",
       "50%         4.000000\n",
       "75%        86.000000\n",
       "max      1445.000000\n",
       "Name: no_of_ratings, dtype: float64"
      ]
     },
     "execution_count": 346,
     "metadata": {},
     "output_type": "execute_result"
    }
   ],
   "source": [
    "ratings['no_of_ratings'].describe()"
   ]
  },
  {
   "cell_type": "markdown",
   "metadata": {},
   "source": [
    "하위 50%의 분포를 살펴보면: 1~4정도임"
   ]
  },
  {
   "cell_type": "code",
   "execution_count": 347,
   "metadata": {},
   "outputs": [
    {
     "data": {
      "text/plain": [
       "0.00    1.0\n",
       "0.05    1.0\n",
       "0.10    1.0\n",
       "0.15    1.0\n",
       "0.20    1.0\n",
       "0.25    1.0\n",
       "0.30    1.0\n",
       "0.35    2.0\n",
       "0.40    2.0\n",
       "0.45    2.0\n",
       "Name: no_of_ratings, dtype: float64"
      ]
     },
     "execution_count": 347,
     "metadata": {},
     "output_type": "execute_result"
    }
   ],
   "source": [
    "ratings['no_of_ratings'].quantile(np.arange(0, 0.5, 0.05))"
   ]
  },
  {
   "cell_type": "markdown",
   "metadata": {},
   "source": [
    "그렇다면 평가를 n개 이하 했던 inactive user 에 대해서도?"
   ]
  },
  {
   "cell_type": "code",
   "execution_count": 348,
   "metadata": {},
   "outputs": [
    {
     "data": {
      "text/html": [
       "<div>\n",
       "<style scoped>\n",
       "    .dataframe tbody tr th:only-of-type {\n",
       "        vertical-align: middle;\n",
       "    }\n",
       "\n",
       "    .dataframe tbody tr th {\n",
       "        vertical-align: top;\n",
       "    }\n",
       "\n",
       "    .dataframe thead th {\n",
       "        text-align: right;\n",
       "    }\n",
       "</style>\n",
       "<table border=\"1\" class=\"dataframe\">\n",
       "  <thead>\n",
       "    <tr style=\"text-align: right;\">\n",
       "      <th></th>\n",
       "      <th>statistic</th>\n",
       "    </tr>\n",
       "    <tr>\n",
       "      <th>nickname</th>\n",
       "      <th></th>\n",
       "    </tr>\n",
       "  </thead>\n",
       "  <tbody>\n",
       "    <tr>\n",
       "      <th>마임</th>\n",
       "      <td>65</td>\n",
       "    </tr>\n",
       "    <tr>\n",
       "      <th>대룡리말바위</th>\n",
       "      <td>54</td>\n",
       "    </tr>\n",
       "    <tr>\n",
       "      <th>고트프리트</th>\n",
       "      <td>52</td>\n",
       "    </tr>\n",
       "    <tr>\n",
       "      <th>swagger</th>\n",
       "      <td>51</td>\n",
       "    </tr>\n",
       "    <tr>\n",
       "      <th>kwonjkim</th>\n",
       "      <td>47</td>\n",
       "    </tr>\n",
       "    <tr>\n",
       "      <th>코끼리311</th>\n",
       "      <td>46</td>\n",
       "    </tr>\n",
       "    <tr>\n",
       "      <th>initialj</th>\n",
       "      <td>46</td>\n",
       "    </tr>\n",
       "    <tr>\n",
       "      <th>미다진구</th>\n",
       "      <td>46</td>\n",
       "    </tr>\n",
       "    <tr>\n",
       "      <th>던힐발란스</th>\n",
       "      <td>45</td>\n",
       "    </tr>\n",
       "    <tr>\n",
       "      <th>쌀까마</th>\n",
       "      <td>45</td>\n",
       "    </tr>\n",
       "  </tbody>\n",
       "</table>\n",
       "</div>"
      ],
      "text/plain": [
       "          statistic\n",
       "nickname           \n",
       "마임               65\n",
       "대룡리말바위           54\n",
       "고트프리트            52\n",
       "swagger          51\n",
       "kwonjkim         47\n",
       "코끼리311           46\n",
       "initialj         46\n",
       "미다진구             46\n",
       "던힐발란스            45\n",
       "쌀까마              45"
      ]
     },
     "execution_count": 348,
     "metadata": {},
     "output_type": "execute_result"
    }
   ],
   "source": [
    "count_user_rating = all_review.pivot_table(index='title', columns = 'nickname', values = 'rating').iloc[:,2:].apply(lambda col : np.sum(~np.isnan(col)))\n",
    "\n",
    "# return_best_n(count,10).index 를 구하면 제목만 뽑을 수 있음\n",
    "return_best_n(count_user_rating,10)"
   ]
  },
  {
   "cell_type": "code",
   "execution_count": 354,
   "metadata": {},
   "outputs": [],
   "source": [
    "count_user_rating = pd.DataFrame(count_user_rating)\n",
    "count_user_rating.columns = ['user_rating_cnt']"
   ]
  },
  {
   "cell_type": "code",
   "execution_count": 357,
   "metadata": {},
   "outputs": [
    {
     "data": {
      "text/plain": [
       "count    4448.000000\n",
       "mean        3.490333\n",
       "std         6.102040\n",
       "min         1.000000\n",
       "25%         1.000000\n",
       "50%         1.000000\n",
       "75%         3.000000\n",
       "max        65.000000\n",
       "Name: user_rating_cnt, dtype: float64"
      ]
     },
     "execution_count": 357,
     "metadata": {},
     "output_type": "execute_result"
    }
   ],
   "source": [
    "count_user_rating['user_rating_cnt'].describe()"
   ]
  },
  {
   "cell_type": "code",
   "execution_count": 356,
   "metadata": {},
   "outputs": [
    {
     "data": {
      "text/plain": [
       "0.00    1.0\n",
       "0.05    1.0\n",
       "0.10    1.0\n",
       "0.15    1.0\n",
       "0.20    1.0\n",
       "0.25    1.0\n",
       "0.30    1.0\n",
       "0.35    1.0\n",
       "0.40    1.0\n",
       "0.45    1.0\n",
       "Name: user_rating_cnt, dtype: float64"
      ]
     },
     "execution_count": 356,
     "metadata": {},
     "output_type": "execute_result"
    }
   ],
   "source": [
    "count_user_rating['user_rating_cnt'].quantile(np.arange(0, 0.5, 0.05))"
   ]
  },
  {
   "cell_type": "code",
   "execution_count": 358,
   "metadata": {},
   "outputs": [
    {
     "data": {
      "text/plain": [
       "(array([3.934e+03, 2.360e+02, 1.460e+02, 5.700e+01, 2.700e+01, 2.100e+01,\n",
       "        1.900e+01, 6.000e+00, 1.000e+00, 1.000e+00]),\n",
       " array([ 1. ,  7.4, 13.8, 20.2, 26.6, 33. , 39.4, 45.8, 52.2, 58.6, 65. ]),\n",
       " <BarContainer object of 10 artists>)"
      ]
     },
     "execution_count": 358,
     "metadata": {},
     "output_type": "execute_result"
    },
    {
     "data": {
      "image/png": "[encoded data removed]",
      "text/plain": [
       "<Figure size 432x288 with 1 Axes>"
      ]
     },
     "metadata": {
      "needs_background": "light"
     },
     "output_type": "display_data"
    }
   ],
   "source": [
    "plt.hist(count_user_rating)"
   ]
  },
  {
   "cell_type": "code",
   "execution_count": 361,
   "metadata": {},
   "outputs": [
    {
     "data": {
      "text/plain": [
       "{'whiskers': [<matplotlib.lines.Line2D at 0x2be3a174948>,\n",
       "  <matplotlib.lines.Line2D at 0x2be3cc69f08>],\n",
       " 'caps': [<matplotlib.lines.Line2D at 0x2be3cc69e88>,\n",
       "  <matplotlib.lines.Line2D at 0x2be3cc79848>],\n",
       " 'boxes': [<matplotlib.lines.Line2D at 0x2be3cc695c8>],\n",
       " 'medians': [<matplotlib.lines.Line2D at 0x2be3cc79d08>],\n",
       " 'fliers': [<matplotlib.lines.Line2D at 0x2be3cc79cc8>],\n",
       " 'means': []}"
      ]
     },
     "execution_count": 361,
     "metadata": {},
     "output_type": "execute_result"
    },
    {
     "data": {
      "image/png": "[encoded data removed]",
      "text/plain": [
       "<Figure size 432x288 with 1 Axes>"
      ]
     },
     "metadata": {
      "needs_background": "light"
     },
     "output_type": "display_data"
    }
   ],
   "source": [
    "plt.boxplot(data = count_user_rating, x='user_rating_cnt')"
   ]
  },
  {
   "cell_type": "code",
   "execution_count": 21,
   "metadata": {},
   "outputs": [
    {
     "data": {
      "text/html": [
       "<div>\n",
       "<style scoped>\n",
       "    .dataframe tbody tr th:only-of-type {\n",
       "        vertical-align: middle;\n",
       "    }\n",
       "\n",
       "    .dataframe tbody tr th {\n",
       "        vertical-align: top;\n",
       "    }\n",
       "\n",
       "    .dataframe thead th {\n",
       "        text-align: right;\n",
       "    }\n",
       "</style>\n",
       "<table border=\"1\" class=\"dataframe\">\n",
       "  <thead>\n",
       "    <tr style=\"text-align: right;\">\n",
       "      <th></th>\n",
       "      <th>rating_avg</th>\n",
       "      <th>no_of_ratings</th>\n",
       "      <th>over_80_ratio</th>\n",
       "    </tr>\n",
       "    <tr>\n",
       "      <th>title</th>\n",
       "      <th></th>\n",
       "      <th></th>\n",
       "      <th></th>\n",
       "    </tr>\n",
       "  </thead>\n",
       "  <tbody>\n",
       "    <tr>\n",
       "      <th>[강연형] 제국대학의 조센징</th>\n",
       "      <td>95.441767</td>\n",
       "      <td>498</td>\n",
       "      <td>0.945783</td>\n",
       "    </tr>\n",
       "    <tr>\n",
       "      <th>[공포괴담집] 무조건 모르는 척하세요</th>\n",
       "      <td>93.908629</td>\n",
       "      <td>197</td>\n",
       "      <td>0.949239</td>\n",
       "    </tr>\n",
       "    <tr>\n",
       "      <th>[공포괴담집] 저승에서 돌아온 남자</th>\n",
       "      <td>94.405286</td>\n",
       "      <td>227</td>\n",
       "      <td>0.964758</td>\n",
       "    </tr>\n",
       "  </tbody>\n",
       "</table>\n",
       "</div>"
      ],
      "text/plain": [
       "                      rating_avg  no_of_ratings  over_80_ratio\n",
       "title                                                         \n",
       "[강연형] 제국대학의 조센징        95.441767            498       0.945783\n",
       "[공포괴담집] 무조건 모르는 척하세요   93.908629            197       0.949239\n",
       "[공포괴담집] 저승에서 돌아온 남자    94.405286            227       0.964758"
      ]
     },
     "execution_count": 21,
     "metadata": {},
     "output_type": "execute_result"
    }
   ],
   "source": [
    "ratings_min_6 = ratings.query('no_of_ratings >= 6')\n",
    "ratings_min_6.head(3)"
   ]
  },
  {
   "cell_type": "markdown",
   "metadata": {},
   "source": [
    "<div class=\"alert alert-warning\">\n",
    "근본적으로 우리가 책이 200권 정도밖에 없는데, <br>\n",
    "리뷰 5개 이상인 책으로 바꾸면 그게 반토막 나게됨<br>\n",
    "그렇게 데이터 수를 희생하면서 봐도 되는 것인지..?<br>\n",
    "</div>"
   ]
  },
  {
   "cell_type": "code",
   "execution_count": null,
   "metadata": {},
   "outputs": [],
   "source": []
  },
  {
   "cell_type": "markdown",
   "metadata": {},
   "source": [
    "# 3. Prediction With Surprise<a class=\"anchor\" id=\"bullet3\"></a>"
   ]
  },
  {
   "cell_type": "code",
   "execution_count": null,
   "metadata": {},
   "outputs": [],
   "source": []
  },
  {
   "cell_type": "code",
   "execution_count": 176,
   "metadata": {},
   "outputs": [],
   "source": [
    "from surprise import Reader\n",
    "from surprise import Dataset\n",
    "from surprise import accuracy\n",
    "from surprise.model_selection import KFold\n",
    "from surprise import SVD\n",
    "from surprise import NMF\n",
    "from surprise import KNNBasic\n",
    "from surprise import KNNBaseline\n",
    "from surprise.model_selection import cross_validate"
   ]
  },
  {
   "cell_type": "code",
   "execution_count": 177,
   "metadata": {},
   "outputs": [
    {
     "data": {
      "text/html": [
       "<div>\n",
       "<style scoped>\n",
       "    .dataframe tbody tr th:only-of-type {\n",
       "        vertical-align: middle;\n",
       "    }\n",
       "\n",
       "    .dataframe tbody tr th {\n",
       "        vertical-align: top;\n",
       "    }\n",
       "\n",
       "    .dataframe thead th {\n",
       "        text-align: right;\n",
       "    }\n",
       "</style>\n",
       "<table border=\"1\" class=\"dataframe\">\n",
       "  <thead>\n",
       "    <tr style=\"text-align: right;\">\n",
       "      <th></th>\n",
       "      <th>nickname</th>\n",
       "      <th>rating</th>\n",
       "      <th>title</th>\n",
       "      <th>voice</th>\n",
       "      <th>author</th>\n",
       "      <th>review</th>\n",
       "      <th>created</th>\n",
       "      <th>publish</th>\n",
       "      <th>genre</th>\n",
       "      <th>read_by</th>\n",
       "    </tr>\n",
       "  </thead>\n",
       "  <tbody>\n",
       "    <tr>\n",
       "      <th>9969</th>\n",
       "      <td>ljhljh</td>\n",
       "      <td>100</td>\n",
       "      <td>안재욱이 읽는 유항림의 마권</td>\n",
       "      <td>안재욱</td>\n",
       "      <td>유항림</td>\n",
       "      <td>재욱이형님 목소리를 이렇게 듣게되네요 ^^\\r\\n너무 행복합니다</td>\n",
       "      <td>2018.12.20</td>\n",
       "      <td>커뮤니케이션북스</td>\n",
       "      <td>오디오북스</td>\n",
       "      <td>celeb</td>\n",
       "    </tr>\n",
       "  </tbody>\n",
       "</table>\n",
       "</div>"
      ],
      "text/plain": [
       "     nickname  rating            title voice author  \\\n",
       "9969   ljhljh     100  안재욱이 읽는 유항림의 마권   안재욱    유항림   \n",
       "\n",
       "                                   review     created   publish  genre read_by  \n",
       "9969  재욱이형님 목소리를 이렇게 듣게되네요 ^^\\r\\n너무 행복합니다  2018.12.20  커뮤니케이션북스  오디오북스   celeb  "
      ]
     },
     "execution_count": 177,
     "metadata": {},
     "output_type": "execute_result"
    }
   ],
   "source": [
    "all_review.sample()"
   ]
  },
  {
   "cell_type": "code",
   "execution_count": 178,
   "metadata": {},
   "outputs": [
    {
     "data": {
      "text/plain": [
       "array([100,  60,  80,  90,  70,  20,  30,  10,  40,  50], dtype=int64)"
      ]
     },
     "execution_count": 178,
     "metadata": {},
     "output_type": "execute_result"
    }
   ],
   "source": [
    "all_review['rating'].unique()"
   ]
  },
  {
   "cell_type": "code",
   "execution_count": 179,
   "metadata": {},
   "outputs": [
    {
     "data": {
      "text/plain": [
       "array([10.,  6.,  8.,  9.,  7.,  2.,  3.,  1.,  4.,  5.])"
      ]
     },
     "execution_count": 179,
     "metadata": {},
     "output_type": "execute_result"
    }
   ],
   "source": [
    "all_review['new_rating'] = all_review['rating'].apply(lambda x : x/10)\n",
    "all_review['new_rating'].unique()"
   ]
  },
  {
   "cell_type": "code",
   "execution_count": 180,
   "metadata": {},
   "outputs": [
    {
     "data": {
      "text/html": [
       "<div>\n",
       "<style scoped>\n",
       "    .dataframe tbody tr th:only-of-type {\n",
       "        vertical-align: middle;\n",
       "    }\n",
       "\n",
       "    .dataframe tbody tr th {\n",
       "        vertical-align: top;\n",
       "    }\n",
       "\n",
       "    .dataframe thead th {\n",
       "        text-align: right;\n",
       "    }\n",
       "</style>\n",
       "<table border=\"1\" class=\"dataframe\">\n",
       "  <thead>\n",
       "    <tr style=\"text-align: right;\">\n",
       "      <th></th>\n",
       "      <th>nickname</th>\n",
       "      <th>rating</th>\n",
       "      <th>title</th>\n",
       "      <th>voice</th>\n",
       "      <th>author</th>\n",
       "      <th>review</th>\n",
       "      <th>created</th>\n",
       "      <th>publish</th>\n",
       "      <th>genre</th>\n",
       "      <th>read_by</th>\n",
       "      <th>new_rating</th>\n",
       "    </tr>\n",
       "  </thead>\n",
       "  <tbody>\n",
       "    <tr>\n",
       "      <th>3778</th>\n",
       "      <td>spp</td>\n",
       "      <td>80</td>\n",
       "      <td>[윤덕원 낭독] 해피 아포칼립스! _ 작은책</td>\n",
       "      <td>윤덕원</td>\n",
       "      <td>백민석</td>\n",
       "      <td>목소리 좋아요</td>\n",
       "      <td>2019.07.05</td>\n",
       "      <td>아르테</td>\n",
       "      <td>소설문학</td>\n",
       "      <td>celeb</td>\n",
       "      <td>8.0</td>\n",
       "    </tr>\n",
       "  </tbody>\n",
       "</table>\n",
       "</div>"
      ],
      "text/plain": [
       "     nickname  rating                     title voice author   review  \\\n",
       "3778      spp      80  [윤덕원 낭독] 해피 아포칼립스! _ 작은책   윤덕원    백민석  목소리 좋아요   \n",
       "\n",
       "         created publish genre read_by  new_rating  \n",
       "3778  2019.07.05     아르테  소설문학   celeb         8.0  "
      ]
     },
     "execution_count": 180,
     "metadata": {},
     "output_type": "execute_result"
    }
   ],
   "source": [
    "all_review.sample()"
   ]
  },
  {
   "cell_type": "code",
   "execution_count": 181,
   "metadata": {},
   "outputs": [],
   "source": [
    "reader = Reader(rating_scale=(1, 10))\n",
    "data = Dataset.load_from_df(all_review[['nickname', 'title', 'new_rating']], reader)"
   ]
  },
  {
   "cell_type": "code",
   "execution_count": 456,
   "metadata": {},
   "outputs": [
    {
     "name": "stdout",
     "output_type": "stream",
     "text": [
      "Evaluating RMSE, MAE of algorithm SVD on 5 split(s).\n",
      "\n",
      "                  Fold 1  Fold 2  Fold 3  Fold 4  Fold 5  Mean    Std     \n",
      "RMSE (testset)    1.0437  1.0048  1.0761  1.0133  1.0116  1.0299  0.0267  \n",
      "MAE (testset)     0.6036  0.5808  0.6103  0.5737  0.5872  0.5911  0.0138  \n",
      "Fit time          2.19    2.05    3.03    1.91    2.14    2.26    0.40    \n",
      "Test time         0.09    0.05    0.13    0.05    0.11    0.08    0.03    \n",
      "Evaluating RMSE, MAE of algorithm NMF on 5 split(s).\n",
      "\n",
      "                  Fold 1  Fold 2  Fold 3  Fold 4  Fold 5  Mean    Std     \n",
      "RMSE (testset)    3.0313  3.1503  3.2178  3.1443  3.1365  3.1360  0.0599  \n",
      "MAE (testset)     2.7475  2.8646  2.9327  2.8662  2.8539  2.8530  0.0596  \n",
      "Fit time          3.87    3.15    3.65    2.88    3.40    3.39    0.35    \n",
      "Test time         0.10    0.10    0.04    0.07    0.03    0.07    0.03    \n",
      "Computing the msd similarity matrix...\n",
      "Done computing similarity matrix.\n",
      "Computing the msd similarity matrix...\n",
      "Done computing similarity matrix.\n",
      "Computing the msd similarity matrix...\n",
      "Done computing similarity matrix.\n",
      "Computing the msd similarity matrix...\n",
      "Done computing similarity matrix.\n",
      "Computing the msd similarity matrix...\n",
      "Done computing similarity matrix.\n",
      "Evaluating RMSE, MAE of algorithm KNNBasic on 5 split(s).\n",
      "\n",
      "                  Fold 1  Fold 2  Fold 3  Fold 4  Fold 5  Mean    Std     \n",
      "RMSE (testset)    1.0241  1.1153  1.0336  1.1440  1.0840  1.0802  0.0461  \n",
      "MAE (testset)     0.5239  0.5559  0.5397  0.5604  0.5375  0.5435  0.0132  \n",
      "Fit time          1.10    2.24    1.51    1.13    1.54    1.50    0.41    \n",
      "Test time         3.48    2.03    3.49    1.62    3.37    2.80    0.81    \n",
      "Estimating biases using als...\n",
      "Computing the msd similarity matrix...\n",
      "Done computing similarity matrix.\n",
      "Estimating biases using als...\n",
      "Computing the msd similarity matrix...\n",
      "Done computing similarity matrix.\n",
      "Estimating biases using als...\n",
      "Computing the msd similarity matrix...\n",
      "Done computing similarity matrix.\n",
      "Estimating biases using als...\n",
      "Computing the msd similarity matrix...\n",
      "Done computing similarity matrix.\n",
      "Estimating biases using als...\n",
      "Computing the msd similarity matrix...\n",
      "Done computing similarity matrix.\n",
      "Evaluating RMSE, MAE of algorithm KNNBaseline on 5 split(s).\n",
      "\n",
      "                  Fold 1  Fold 2  Fold 3  Fold 4  Fold 5  Mean    Std     \n",
      "RMSE (testset)    0.9975  1.0410  1.0351  0.9750  1.0713  1.0240  0.0339  \n",
      "MAE (testset)     0.5256  0.5481  0.5439  0.5246  0.5457  0.5376  0.0103  \n",
      "Fit time          1.25    1.88    1.89    1.64    1.46    1.63    0.25    \n",
      "Test time         3.17    1.95    2.76    4.38    2.34    2.92    0.84    \n"
     ]
    }
   ],
   "source": [
    "for algo in [SVD(), NMF(), KNNBasic(), KNNBaseline()]:\n",
    "    cross_validate(algo, data, measures=['RMSE', 'MAE'], cv=5, verbose=True)"
   ]
  },
  {
   "cell_type": "markdown",
   "metadata": {},
   "source": [
    "<div class=\"alert alert-warning\">\n",
    "이건 cosine similarity로 kNN 구하기<br>\n",
    "안해도됨\n",
    "</div>"
   ]
  },
  {
   "cell_type": "code",
   "execution_count": null,
   "metadata": {},
   "outputs": [],
   "source": [
    "sim_options = {'name': 'cosine',\n",
    "               'user_based': False  # compute  similarities between items\n",
    "               }\n",
    "algo = KNNBasic(sim_options=sim_options)\n",
    "cross_validate(algo, data, measures=['RMSE', 'MAE'], cv=5, verbose=True)"
   ]
  },
  {
   "cell_type": "code",
   "execution_count": 183,
   "metadata": {},
   "outputs": [
    {
     "name": "stdout",
     "output_type": "stream",
     "text": [
      "Computing the msd similarity matrix...\n",
      "Done computing similarity matrix.\n",
      "Computing the msd similarity matrix...\n",
      "Done computing similarity matrix.\n",
      "Computing the msd similarity matrix...\n",
      "Done computing similarity matrix.\n"
     ]
    },
    {
     "data": {
      "text/html": [
       "<div>\n",
       "<style scoped>\n",
       "    .dataframe tbody tr th:only-of-type {\n",
       "        vertical-align: middle;\n",
       "    }\n",
       "\n",
       "    .dataframe tbody tr th {\n",
       "        vertical-align: top;\n",
       "    }\n",
       "\n",
       "    .dataframe thead th {\n",
       "        text-align: right;\n",
       "    }\n",
       "</style>\n",
       "<table border=\"1\" class=\"dataframe\">\n",
       "  <thead>\n",
       "    <tr style=\"text-align: right;\">\n",
       "      <th></th>\n",
       "      <th>test_rmse</th>\n",
       "      <th>test_mae</th>\n",
       "      <th>fit_time</th>\n",
       "      <th>test_time</th>\n",
       "    </tr>\n",
       "    <tr>\n",
       "      <th>Algorithm</th>\n",
       "      <th></th>\n",
       "      <th></th>\n",
       "      <th></th>\n",
       "      <th></th>\n",
       "    </tr>\n",
       "  </thead>\n",
       "  <tbody>\n",
       "    <tr>\n",
       "      <th>SVD</th>\n",
       "      <td>1.047612</td>\n",
       "      <td>0.605319</td>\n",
       "      <td>1.642606</td>\n",
       "      <td>0.143283</td>\n",
       "    </tr>\n",
       "    <tr>\n",
       "      <th>KNNBasic</th>\n",
       "      <td>1.090485</td>\n",
       "      <td>0.560712</td>\n",
       "      <td>0.990017</td>\n",
       "      <td>2.791874</td>\n",
       "    </tr>\n",
       "    <tr>\n",
       "      <th>NMF</th>\n",
       "      <td>3.120457</td>\n",
       "      <td>2.825224</td>\n",
       "      <td>2.614339</td>\n",
       "      <td>0.071487</td>\n",
       "    </tr>\n",
       "  </tbody>\n",
       "</table>\n",
       "</div>"
      ],
      "text/plain": [
       "           test_rmse  test_mae  fit_time  test_time\n",
       "Algorithm                                          \n",
       "SVD         1.047612  0.605319  1.642606   0.143283\n",
       "KNNBasic    1.090485  0.560712  0.990017   2.791874\n",
       "NMF         3.120457  2.825224  2.614339   0.071487"
      ]
     },
     "execution_count": 183,
     "metadata": {},
     "output_type": "execute_result"
    }
   ],
   "source": [
    "calc = []\n",
    "# Iterate over all algorithms\n",
    "for algorithm in [SVD(), NMF(), KNNBasic()]:\n",
    "    # Perform cross validation\n",
    "    results = cross_validate(algorithm, data, measures=['RMSE', 'MAE'], cv=3, verbose=False)\n",
    "    \n",
    "    # Get results & append algorithm name\n",
    "    tmp = pd.DataFrame.from_dict(results).mean(axis=0)\n",
    "    tmp = tmp.append(pd.Series([str(algorithm).split(' ')[0].split('.')[-1]], index=['Algorithm']))\n",
    "    calc.append(tmp)\n",
    "    \n",
    "pod_SVD = pd.DataFrame(calc).set_index('Algorithm').sort_values('test_rmse') \n",
    "pod_SVD"
   ]
  },
  {
   "cell_type": "markdown",
   "metadata": {},
   "source": [
    "<div class=\"alert alert-warning\">\n",
    "이건 우리만의 알고리즘 만들떄 필요한거<br>\n",
    "안해도됨\n",
    "</div>"
   ]
  },
  {
   "cell_type": "code",
   "execution_count": 393,
   "metadata": {},
   "outputs": [],
   "source": [
    "# from __future__ import (absolute_import, division, print_function,\n",
    "#                         unicode_literals)\n",
    "# import numpy as np\n",
    "# from six import iteritems\n",
    "# import heapq\n",
    "\n",
    "# from surprise.prediction_algorithms.predictions import PredictionImpossible\n",
    "# from surprise.prediction_algorithms.algo_base import AlgoBase"
   ]
  },
  {
   "cell_type": "code",
   "execution_count": null,
   "metadata": {},
   "outputs": [],
   "source": []
  },
  {
   "cell_type": "code",
   "execution_count": 316,
   "metadata": {},
   "outputs": [
    {
     "name": "stdout",
     "output_type": "stream",
     "text": [
      "RMSE: 76.8622\n",
      "RMSE: 76.8241\n",
      "RMSE: 76.8932\n"
     ]
    }
   ],
   "source": [
    "# kf = KFold(n_splits=3)\n",
    "\n",
    "# algo = NMF() #이걸 SVD, KNNBasic으로 바꿔가며 결과 비교\n",
    "\n",
    "# for trainset, testset in kf.split(data):\n",
    "#     # train and test algorithm.\n",
    "#     algo.fit(trainset)\n",
    "#     predictions = algo.test(testset)\n",
    "\n",
    "#     # Compute and print Root Mean Squared Error\n",
    "#     accuracy.rmse(predictions, verbose=True)"
   ]
  },
  {
   "cell_type": "code",
   "execution_count": 395,
   "metadata": {},
   "outputs": [],
   "source": [
    "def get_Iu(uid):\n",
    "    \"\"\"Return the number of items rated by given user\n",
    "    \n",
    "    Args:\n",
    "        uid: The raw id of the user.\n",
    "    Returns:\n",
    "        The number of items rated by the user.\n",
    "    \"\"\"\n",
    "    \n",
    "    try:\n",
    "        return len(trainset.ur[trainset.to_inner_uid(uid)])\n",
    "    except ValueError:  # user was not part of the trainset\n",
    "        return 0\n",
    "    \n",
    "def get_Ui(iid):\n",
    "    \"\"\"Return the number of users that have rated given item\n",
    "    \n",
    "    Args:\n",
    "        iid: The raw id of the item.\n",
    "    Returns:\n",
    "        The number of users that have rated the item.\n",
    "    \"\"\"\n",
    "    \n",
    "    try:\n",
    "        return len(trainset.ir[trainset.to_inner_iid(iid)])\n",
    "    except ValueError:  # item was not part of the trainset\n",
    "        return 0\n",
    "\n",
    "df = pd.DataFrame(predictions, columns=['uid', 'iid', 'rui', 'est', 'details'])    \n",
    "df['Iu'] = df.uid.apply(get_Iu)\n",
    "df['Ui'] = df.iid.apply(get_Ui)\n",
    "df['err'] = abs(df.est - df.rui)"
   ]
  },
  {
   "cell_type": "code",
   "execution_count": 185,
   "metadata": {},
   "outputs": [],
   "source": [
    "mydramalist = pd.read_csv('C:/Users/Hanna Kim/Desktop/drama_recommendation/reviews_to_top_40.csv', index_col = 0)"
   ]
  },
  {
   "cell_type": "code",
   "execution_count": 187,
   "metadata": {},
   "outputs": [
    {
     "data": {
      "text/html": [
       "<div>\n",
       "<style scoped>\n",
       "    .dataframe tbody tr th:only-of-type {\n",
       "        vertical-align: middle;\n",
       "    }\n",
       "\n",
       "    .dataframe tbody tr th {\n",
       "        vertical-align: top;\n",
       "    }\n",
       "\n",
       "    .dataframe thead th {\n",
       "        text-align: right;\n",
       "    }\n",
       "</style>\n",
       "<table border=\"1\" class=\"dataframe\">\n",
       "  <thead>\n",
       "    <tr style=\"text-align: right;\">\n",
       "      <th></th>\n",
       "      <th>title</th>\n",
       "      <th>reviewer</th>\n",
       "      <th>overall</th>\n",
       "      <th>story</th>\n",
       "      <th>acting</th>\n",
       "      <th>music</th>\n",
       "      <th>rewatch</th>\n",
       "    </tr>\n",
       "  </thead>\n",
       "  <tbody>\n",
       "    <tr>\n",
       "      <th>11493</th>\n",
       "      <td>Page Turner</td>\n",
       "      <td>purplenette</td>\n",
       "      <td>6.0</td>\n",
       "      <td>5.0</td>\n",
       "      <td>7.0</td>\n",
       "      <td>10.0</td>\n",
       "      <td>1.0</td>\n",
       "    </tr>\n",
       "  </tbody>\n",
       "</table>\n",
       "</div>"
      ],
      "text/plain": [
       "             title     reviewer  overall  story  acting  music  rewatch\n",
       "11493  Page Turner  purplenette      6.0    5.0     7.0   10.0      1.0"
      ]
     },
     "execution_count": 187,
     "metadata": {},
     "output_type": "execute_result"
    }
   ],
   "source": [
    "mydramalist.sample()"
   ]
  },
  {
   "cell_type": "code",
   "execution_count": 188,
   "metadata": {},
   "outputs": [],
   "source": [
    "reader = Reader(rating_scale=(1, 10))\n",
    "\n",
    "data = Dataset.load_from_df(mydramalist[['reviewer', 'title', 'overall']], reader)"
   ]
  },
  {
   "cell_type": "code",
   "execution_count": 464,
   "metadata": {},
   "outputs": [],
   "source": [
    "from surprise import accuracy"
   ]
  },
  {
   "cell_type": "code",
   "execution_count": 189,
   "metadata": {},
   "outputs": [
    {
     "name": "stdout",
     "output_type": "stream",
     "text": [
      "Computing the msd similarity matrix...\n",
      "Done computing similarity matrix.\n",
      "Computing the msd similarity matrix...\n",
      "Done computing similarity matrix.\n",
      "Computing the msd similarity matrix...\n",
      "Done computing similarity matrix.\n"
     ]
    },
    {
     "data": {
      "text/html": [
       "<div>\n",
       "<style scoped>\n",
       "    .dataframe tbody tr th:only-of-type {\n",
       "        vertical-align: middle;\n",
       "    }\n",
       "\n",
       "    .dataframe tbody tr th {\n",
       "        vertical-align: top;\n",
       "    }\n",
       "\n",
       "    .dataframe thead th {\n",
       "        text-align: right;\n",
       "    }\n",
       "</style>\n",
       "<table border=\"1\" class=\"dataframe\">\n",
       "  <thead>\n",
       "    <tr style=\"text-align: right;\">\n",
       "      <th></th>\n",
       "      <th>test_rmse</th>\n",
       "      <th>test_mae</th>\n",
       "      <th>fit_time</th>\n",
       "      <th>test_time</th>\n",
       "    </tr>\n",
       "    <tr>\n",
       "      <th>Algorithm</th>\n",
       "      <th></th>\n",
       "      <th></th>\n",
       "      <th></th>\n",
       "      <th></th>\n",
       "    </tr>\n",
       "  </thead>\n",
       "  <tbody>\n",
       "    <tr>\n",
       "      <th>SVD</th>\n",
       "      <td>1.443960</td>\n",
       "      <td>1.043970</td>\n",
       "      <td>3.305328</td>\n",
       "      <td>0.140624</td>\n",
       "    </tr>\n",
       "    <tr>\n",
       "      <th>KNNBasic</th>\n",
       "      <td>1.667899</td>\n",
       "      <td>1.150982</td>\n",
       "      <td>0.273602</td>\n",
       "      <td>1.787231</td>\n",
       "    </tr>\n",
       "    <tr>\n",
       "      <th>NMF</th>\n",
       "      <td>2.567722</td>\n",
       "      <td>2.253064</td>\n",
       "      <td>4.469056</td>\n",
       "      <td>0.241675</td>\n",
       "    </tr>\n",
       "  </tbody>\n",
       "</table>\n",
       "</div>"
      ],
      "text/plain": [
       "           test_rmse  test_mae  fit_time  test_time\n",
       "Algorithm                                          \n",
       "SVD         1.443960  1.043970  3.305328   0.140624\n",
       "KNNBasic    1.667899  1.150982  0.273602   1.787231\n",
       "NMF         2.567722  2.253064  4.469056   0.241675"
      ]
     },
     "execution_count": 189,
     "metadata": {},
     "output_type": "execute_result"
    }
   ],
   "source": [
    "data = Dataset.load_from_df(mydramalist[['reviewer', 'title', 'overall']], reader)\n",
    "\n",
    "calc = []\n",
    "# Iterate over all algorithms\n",
    "for algorithm in [SVD(), NMF(), KNNBasic()]:\n",
    "    # Perform cross validation\n",
    "    results = cross_validate(algorithm, data, measures=['RMSE', 'MAE'], cv=3, verbose=False)\n",
    "    \n",
    "    # Get results & append algorithm name\n",
    "    tmp = pd.DataFrame.from_dict(results).mean(axis=0)\n",
    "    tmp = tmp.append(pd.Series([str(algorithm).split(' ')[0].split('.')[-1]], index=['Algorithm']))\n",
    "    calc.append(tmp)\n",
    "    \n",
    "mdl_overall = pd.DataFrame(calc).set_index('Algorithm').sort_values('test_rmse') \n",
    "mdl_overall"
   ]
  },
  {
   "cell_type": "code",
   "execution_count": 190,
   "metadata": {},
   "outputs": [
    {
     "name": "stdout",
     "output_type": "stream",
     "text": [
      "Computing the msd similarity matrix...\n",
      "Done computing similarity matrix.\n",
      "Computing the msd similarity matrix...\n",
      "Done computing similarity matrix.\n",
      "Computing the msd similarity matrix...\n",
      "Done computing similarity matrix.\n"
     ]
    },
    {
     "data": {
      "text/html": [
       "<div>\n",
       "<style scoped>\n",
       "    .dataframe tbody tr th:only-of-type {\n",
       "        vertical-align: middle;\n",
       "    }\n",
       "\n",
       "    .dataframe tbody tr th {\n",
       "        vertical-align: top;\n",
       "    }\n",
       "\n",
       "    .dataframe thead th {\n",
       "        text-align: right;\n",
       "    }\n",
       "</style>\n",
       "<table border=\"1\" class=\"dataframe\">\n",
       "  <thead>\n",
       "    <tr style=\"text-align: right;\">\n",
       "      <th></th>\n",
       "      <th>test_rmse</th>\n",
       "      <th>test_mae</th>\n",
       "      <th>fit_time</th>\n",
       "      <th>test_time</th>\n",
       "    </tr>\n",
       "    <tr>\n",
       "      <th>Algorithm</th>\n",
       "      <th></th>\n",
       "      <th></th>\n",
       "      <th></th>\n",
       "      <th></th>\n",
       "    </tr>\n",
       "  </thead>\n",
       "  <tbody>\n",
       "    <tr>\n",
       "      <th>SVD</th>\n",
       "      <td>1.499974</td>\n",
       "      <td>1.084920</td>\n",
       "      <td>2.927170</td>\n",
       "      <td>0.244683</td>\n",
       "    </tr>\n",
       "    <tr>\n",
       "      <th>KNNBasic</th>\n",
       "      <td>1.689910</td>\n",
       "      <td>1.176318</td>\n",
       "      <td>0.319478</td>\n",
       "      <td>1.805504</td>\n",
       "    </tr>\n",
       "    <tr>\n",
       "      <th>NMF</th>\n",
       "      <td>2.573527</td>\n",
       "      <td>2.244179</td>\n",
       "      <td>5.427482</td>\n",
       "      <td>0.241686</td>\n",
       "    </tr>\n",
       "  </tbody>\n",
       "</table>\n",
       "</div>"
      ],
      "text/plain": [
       "           test_rmse  test_mae  fit_time  test_time\n",
       "Algorithm                                          \n",
       "SVD         1.499974  1.084920  2.927170   0.244683\n",
       "KNNBasic    1.689910  1.176318  0.319478   1.805504\n",
       "NMF         2.573527  2.244179  5.427482   0.241686"
      ]
     },
     "execution_count": 190,
     "metadata": {},
     "output_type": "execute_result"
    }
   ],
   "source": [
    "data = Dataset.load_from_df(mydramalist[['reviewer', 'title', 'story']], reader)\n",
    "\n",
    "calc = []\n",
    "# Iterate over all algorithms\n",
    "for algorithm in [SVD(), NMF(), KNNBasic()]:\n",
    "    # Perform cross validation\n",
    "    results = cross_validate(algorithm, data, measures=['RMSE', 'MAE'], cv=3, verbose=False)\n",
    "    \n",
    "    # Get results & append algorithm name\n",
    "    tmp = pd.DataFrame.from_dict(results).mean(axis=0)\n",
    "    tmp = tmp.append(pd.Series([str(algorithm).split(' ')[0].split('.')[-1]], index=['Algorithm']))\n",
    "    calc.append(tmp)\n",
    "    \n",
    "mdl_story = pd.DataFrame(calc).set_index('Algorithm').sort_values('test_rmse') \n",
    "mdl_story"
   ]
  },
  {
   "cell_type": "code",
   "execution_count": 191,
   "metadata": {},
   "outputs": [
    {
     "name": "stdout",
     "output_type": "stream",
     "text": [
      "Computing the msd similarity matrix...\n",
      "Done computing similarity matrix.\n",
      "Computing the msd similarity matrix...\n",
      "Done computing similarity matrix.\n",
      "Computing the msd similarity matrix...\n",
      "Done computing similarity matrix.\n"
     ]
    },
    {
     "data": {
      "text/html": [
       "<div>\n",
       "<style scoped>\n",
       "    .dataframe tbody tr th:only-of-type {\n",
       "        vertical-align: middle;\n",
       "    }\n",
       "\n",
       "    .dataframe tbody tr th {\n",
       "        vertical-align: top;\n",
       "    }\n",
       "\n",
       "    .dataframe thead th {\n",
       "        text-align: right;\n",
       "    }\n",
       "</style>\n",
       "<table border=\"1\" class=\"dataframe\">\n",
       "  <thead>\n",
       "    <tr style=\"text-align: right;\">\n",
       "      <th></th>\n",
       "      <th>test_rmse</th>\n",
       "      <th>test_mae</th>\n",
       "      <th>fit_time</th>\n",
       "      <th>test_time</th>\n",
       "    </tr>\n",
       "    <tr>\n",
       "      <th>Algorithm</th>\n",
       "      <th></th>\n",
       "      <th></th>\n",
       "      <th></th>\n",
       "      <th></th>\n",
       "    </tr>\n",
       "  </thead>\n",
       "  <tbody>\n",
       "    <tr>\n",
       "      <th>SVD</th>\n",
       "      <td>1.523111</td>\n",
       "      <td>1.114940</td>\n",
       "      <td>3.230026</td>\n",
       "      <td>0.172205</td>\n",
       "    </tr>\n",
       "    <tr>\n",
       "      <th>KNNBasic</th>\n",
       "      <td>1.816377</td>\n",
       "      <td>1.282025</td>\n",
       "      <td>0.356715</td>\n",
       "      <td>2.045194</td>\n",
       "    </tr>\n",
       "    <tr>\n",
       "      <th>NMF</th>\n",
       "      <td>2.560522</td>\n",
       "      <td>2.208450</td>\n",
       "      <td>7.153865</td>\n",
       "      <td>0.172209</td>\n",
       "    </tr>\n",
       "  </tbody>\n",
       "</table>\n",
       "</div>"
      ],
      "text/plain": [
       "           test_rmse  test_mae  fit_time  test_time\n",
       "Algorithm                                          \n",
       "SVD         1.523111  1.114940  3.230026   0.172205\n",
       "KNNBasic    1.816377  1.282025  0.356715   2.045194\n",
       "NMF         2.560522  2.208450  7.153865   0.172209"
      ]
     },
     "execution_count": 191,
     "metadata": {},
     "output_type": "execute_result"
    }
   ],
   "source": [
    "data = Dataset.load_from_df(mydramalist[['reviewer', 'title', 'music']], reader)\n",
    "\n",
    "calc = []\n",
    "# Iterate over all algorithms\n",
    "for algorithm in [SVD(), NMF(), KNNBasic()]:\n",
    "    # Perform cross validation\n",
    "    results = cross_validate(algorithm, data, measures=['RMSE', 'MAE'], cv=3, verbose=False)\n",
    "    \n",
    "    # Get results & append algorithm name\n",
    "    tmp = pd.DataFrame.from_dict(results).mean(axis=0)\n",
    "    tmp = tmp.append(pd.Series([str(algorithm).split(' ')[0].split('.')[-1]], index=['Algorithm']))\n",
    "    calc.append(tmp)\n",
    "    \n",
    "mdl_music = pd.DataFrame(calc).set_index('Algorithm').sort_values('test_rmse') \n",
    "mdl_music"
   ]
  },
  {
   "cell_type": "code",
   "execution_count": 192,
   "metadata": {},
   "outputs": [
    {
     "name": "stdout",
     "output_type": "stream",
     "text": [
      "Computing the msd similarity matrix...\n",
      "Done computing similarity matrix.\n",
      "Computing the msd similarity matrix...\n",
      "Done computing similarity matrix.\n",
      "Computing the msd similarity matrix...\n",
      "Done computing similarity matrix.\n"
     ]
    },
    {
     "data": {
      "text/html": [
       "<div>\n",
       "<style scoped>\n",
       "    .dataframe tbody tr th:only-of-type {\n",
       "        vertical-align: middle;\n",
       "    }\n",
       "\n",
       "    .dataframe tbody tr th {\n",
       "        vertical-align: top;\n",
       "    }\n",
       "\n",
       "    .dataframe thead th {\n",
       "        text-align: right;\n",
       "    }\n",
       "</style>\n",
       "<table border=\"1\" class=\"dataframe\">\n",
       "  <thead>\n",
       "    <tr style=\"text-align: right;\">\n",
       "      <th></th>\n",
       "      <th>test_rmse</th>\n",
       "      <th>test_mae</th>\n",
       "      <th>fit_time</th>\n",
       "      <th>test_time</th>\n",
       "    </tr>\n",
       "    <tr>\n",
       "      <th>Algorithm</th>\n",
       "      <th></th>\n",
       "      <th></th>\n",
       "      <th></th>\n",
       "      <th></th>\n",
       "    </tr>\n",
       "  </thead>\n",
       "  <tbody>\n",
       "    <tr>\n",
       "      <th>SVD</th>\n",
       "      <td>1.260538</td>\n",
       "      <td>0.884254</td>\n",
       "      <td>3.702428</td>\n",
       "      <td>0.355718</td>\n",
       "    </tr>\n",
       "    <tr>\n",
       "      <th>KNNBasic</th>\n",
       "      <td>1.417649</td>\n",
       "      <td>0.961363</td>\n",
       "      <td>0.328785</td>\n",
       "      <td>1.594746</td>\n",
       "    </tr>\n",
       "    <tr>\n",
       "      <th>NMF</th>\n",
       "      <td>2.795942</td>\n",
       "      <td>2.533747</td>\n",
       "      <td>5.541843</td>\n",
       "      <td>0.196143</td>\n",
       "    </tr>\n",
       "  </tbody>\n",
       "</table>\n",
       "</div>"
      ],
      "text/plain": [
       "           test_rmse  test_mae  fit_time  test_time\n",
       "Algorithm                                          \n",
       "SVD         1.260538  0.884254  3.702428   0.355718\n",
       "KNNBasic    1.417649  0.961363  0.328785   1.594746\n",
       "NMF         2.795942  2.533747  5.541843   0.196143"
      ]
     },
     "execution_count": 192,
     "metadata": {},
     "output_type": "execute_result"
    }
   ],
   "source": [
    "data = Dataset.load_from_df(mydramalist[['reviewer', 'title', 'acting']], reader)\n",
    "\n",
    "calc = []\n",
    "# Iterate over all algorithms\n",
    "for algorithm in [SVD(), NMF(), KNNBasic()]:\n",
    "    # Perform cross validation\n",
    "    results = cross_validate(algorithm, data, measures=['RMSE', 'MAE'], cv=3, verbose=False)\n",
    "    \n",
    "    # Get results & append algorithm name\n",
    "    tmp = pd.DataFrame.from_dict(results).mean(axis=0)\n",
    "    tmp = tmp.append(pd.Series([str(algorithm).split(' ')[0].split('.')[-1]], index=['Algorithm']))\n",
    "    calc.append(tmp)\n",
    "    \n",
    "mdl_acting = pd.DataFrame(calc).set_index('Algorithm').sort_values('test_rmse') \n",
    "mdl_acting"
   ]
  },
  {
   "cell_type": "code",
   "execution_count": 193,
   "metadata": {},
   "outputs": [
    {
     "name": "stdout",
     "output_type": "stream",
     "text": [
      "Computing the msd similarity matrix...\n",
      "Done computing similarity matrix.\n",
      "Computing the msd similarity matrix...\n",
      "Done computing similarity matrix.\n",
      "Computing the msd similarity matrix...\n",
      "Done computing similarity matrix.\n"
     ]
    },
    {
     "data": {
      "text/html": [
       "<div>\n",
       "<style scoped>\n",
       "    .dataframe tbody tr th:only-of-type {\n",
       "        vertical-align: middle;\n",
       "    }\n",
       "\n",
       "    .dataframe tbody tr th {\n",
       "        vertical-align: top;\n",
       "    }\n",
       "\n",
       "    .dataframe thead th {\n",
       "        text-align: right;\n",
       "    }\n",
       "</style>\n",
       "<table border=\"1\" class=\"dataframe\">\n",
       "  <thead>\n",
       "    <tr style=\"text-align: right;\">\n",
       "      <th></th>\n",
       "      <th>test_rmse</th>\n",
       "      <th>test_mae</th>\n",
       "      <th>fit_time</th>\n",
       "      <th>test_time</th>\n",
       "    </tr>\n",
       "    <tr>\n",
       "      <th>Algorithm</th>\n",
       "      <th></th>\n",
       "      <th></th>\n",
       "      <th></th>\n",
       "      <th></th>\n",
       "    </tr>\n",
       "  </thead>\n",
       "  <tbody>\n",
       "    <tr>\n",
       "      <th>SVD</th>\n",
       "      <td>2.163973</td>\n",
       "      <td>1.616850</td>\n",
       "      <td>4.622301</td>\n",
       "      <td>0.479717</td>\n",
       "    </tr>\n",
       "    <tr>\n",
       "      <th>KNNBasic</th>\n",
       "      <td>2.537376</td>\n",
       "      <td>1.821015</td>\n",
       "      <td>0.812491</td>\n",
       "      <td>2.657557</td>\n",
       "    </tr>\n",
       "  </tbody>\n",
       "</table>\n",
       "</div>"
      ],
      "text/plain": [
       "           test_rmse  test_mae  fit_time  test_time\n",
       "Algorithm                                          \n",
       "SVD         2.163973  1.616850  4.622301   0.479717\n",
       "KNNBasic    2.537376  1.821015  0.812491   2.657557"
      ]
     },
     "execution_count": 193,
     "metadata": {},
     "output_type": "execute_result"
    }
   ],
   "source": [
    "data = Dataset.load_from_df(mydramalist[['reviewer', 'title', 'rewatch']], reader)\n",
    "\n",
    "calc = []\n",
    "# Iterate over all algorithms\n",
    "for algorithm in [SVD(), KNNBasic()]:\n",
    "    # Perform cross validation\n",
    "    results = cross_validate(algorithm, data, measures=['RMSE', 'MAE'], cv=3, verbose=False)\n",
    "    \n",
    "    # Get results & append algorithm name\n",
    "    tmp = pd.DataFrame.from_dict(results).mean(axis=0)\n",
    "    tmp = tmp.append(pd.Series([str(algorithm).split(' ')[0].split('.')[-1]], index=['Algorithm']))\n",
    "    calc.append(tmp)\n",
    "    \n",
    "mdl_rewatch = pd.DataFrame(calc).set_index('Algorithm').sort_values('test_rmse') \n",
    "mdl_rewatch"
   ]
  },
  {
   "cell_type": "code",
   "execution_count": 194,
   "metadata": {},
   "outputs": [
    {
     "data": {
      "text/html": [
       "<div>\n",
       "<style scoped>\n",
       "    .dataframe tbody tr th:only-of-type {\n",
       "        vertical-align: middle;\n",
       "    }\n",
       "\n",
       "    .dataframe tbody tr th {\n",
       "        vertical-align: top;\n",
       "    }\n",
       "\n",
       "    .dataframe thead th {\n",
       "        text-align: right;\n",
       "    }\n",
       "</style>\n",
       "<table border=\"1\" class=\"dataframe\">\n",
       "  <thead>\n",
       "    <tr style=\"text-align: right;\">\n",
       "      <th></th>\n",
       "      <th>title</th>\n",
       "      <th>reviewer</th>\n",
       "      <th>overall</th>\n",
       "      <th>story</th>\n",
       "      <th>acting</th>\n",
       "      <th>music</th>\n",
       "      <th>rewatch</th>\n",
       "    </tr>\n",
       "  </thead>\n",
       "  <tbody>\n",
       "  </tbody>\n",
       "</table>\n",
       "</div>"
      ],
      "text/plain": [
       "Empty DataFrame\n",
       "Columns: [title, reviewer, overall, story, acting, music, rewatch]\n",
       "Index: []"
      ]
     },
     "execution_count": 194,
     "metadata": {},
     "output_type": "execute_result"
    }
   ],
   "source": [
    "mydramalist[mydramalist.isna().any(axis=1)]"
   ]
  },
  {
   "cell_type": "code",
   "execution_count": 195,
   "metadata": {},
   "outputs": [],
   "source": [
    "mydramalist['mean'] = (mydramalist.iloc[:, 2:]).apply(np.mean, axis=1)"
   ]
  },
  {
   "cell_type": "code",
   "execution_count": 196,
   "metadata": {},
   "outputs": [
    {
     "data": {
      "text/html": [
       "<div>\n",
       "<style scoped>\n",
       "    .dataframe tbody tr th:only-of-type {\n",
       "        vertical-align: middle;\n",
       "    }\n",
       "\n",
       "    .dataframe tbody tr th {\n",
       "        vertical-align: top;\n",
       "    }\n",
       "\n",
       "    .dataframe thead th {\n",
       "        text-align: right;\n",
       "    }\n",
       "</style>\n",
       "<table border=\"1\" class=\"dataframe\">\n",
       "  <thead>\n",
       "    <tr style=\"text-align: right;\">\n",
       "      <th></th>\n",
       "      <th>title</th>\n",
       "      <th>reviewer</th>\n",
       "      <th>overall</th>\n",
       "      <th>story</th>\n",
       "      <th>acting</th>\n",
       "      <th>music</th>\n",
       "      <th>rewatch</th>\n",
       "      <th>mean</th>\n",
       "    </tr>\n",
       "  </thead>\n",
       "  <tbody>\n",
       "    <tr>\n",
       "      <th>11458</th>\n",
       "      <td>Ghost</td>\n",
       "      <td>purplenette</td>\n",
       "      <td>8.0</td>\n",
       "      <td>8.0</td>\n",
       "      <td>9.0</td>\n",
       "      <td>8.0</td>\n",
       "      <td>6.0</td>\n",
       "      <td>7.8</td>\n",
       "    </tr>\n",
       "  </tbody>\n",
       "</table>\n",
       "</div>"
      ],
      "text/plain": [
       "       title     reviewer  overall  story  acting  music  rewatch  mean\n",
       "11458  Ghost  purplenette      8.0    8.0     9.0    8.0      6.0   7.8"
      ]
     },
     "execution_count": 196,
     "metadata": {},
     "output_type": "execute_result"
    }
   ],
   "source": [
    "mydramalist.sample()"
   ]
  },
  {
   "cell_type": "code",
   "execution_count": 197,
   "metadata": {},
   "outputs": [
    {
     "name": "stdout",
     "output_type": "stream",
     "text": [
      "Computing the msd similarity matrix...\n",
      "Done computing similarity matrix.\n",
      "Computing the msd similarity matrix...\n",
      "Done computing similarity matrix.\n",
      "Computing the msd similarity matrix...\n",
      "Done computing similarity matrix.\n"
     ]
    },
    {
     "data": {
      "text/html": [
       "<div>\n",
       "<style scoped>\n",
       "    .dataframe tbody tr th:only-of-type {\n",
       "        vertical-align: middle;\n",
       "    }\n",
       "\n",
       "    .dataframe tbody tr th {\n",
       "        vertical-align: top;\n",
       "    }\n",
       "\n",
       "    .dataframe thead th {\n",
       "        text-align: right;\n",
       "    }\n",
       "</style>\n",
       "<table border=\"1\" class=\"dataframe\">\n",
       "  <thead>\n",
       "    <tr style=\"text-align: right;\">\n",
       "      <th></th>\n",
       "      <th>test_rmse</th>\n",
       "      <th>test_mae</th>\n",
       "      <th>fit_time</th>\n",
       "      <th>test_time</th>\n",
       "    </tr>\n",
       "    <tr>\n",
       "      <th>Algorithm</th>\n",
       "      <th></th>\n",
       "      <th></th>\n",
       "      <th></th>\n",
       "      <th></th>\n",
       "    </tr>\n",
       "  </thead>\n",
       "  <tbody>\n",
       "    <tr>\n",
       "      <th>SVD</th>\n",
       "      <td>1.362060</td>\n",
       "      <td>1.000769</td>\n",
       "      <td>2.817463</td>\n",
       "      <td>0.176194</td>\n",
       "    </tr>\n",
       "    <tr>\n",
       "      <th>KNNBasic</th>\n",
       "      <td>1.572859</td>\n",
       "      <td>1.124550</td>\n",
       "      <td>0.343728</td>\n",
       "      <td>1.587420</td>\n",
       "    </tr>\n",
       "  </tbody>\n",
       "</table>\n",
       "</div>"
      ],
      "text/plain": [
       "           test_rmse  test_mae  fit_time  test_time\n",
       "Algorithm                                          \n",
       "SVD         1.362060  1.000769  2.817463   0.176194\n",
       "KNNBasic    1.572859  1.124550  0.343728   1.587420"
      ]
     },
     "execution_count": 197,
     "metadata": {},
     "output_type": "execute_result"
    }
   ],
   "source": [
    "mydramalist['mean'] = (mydramalist.iloc[:, 2:]).apply(np.mean, axis=1)\n",
    "data = Dataset.load_from_df(mydramalist[['reviewer', 'title', 'mean']], reader)\n",
    "\n",
    "calc = []\n",
    "# Iterate over all algorithms\n",
    "for algorithm in [SVD(), KNNBasic()]:\n",
    "    # Perform cross validation\n",
    "    results = cross_validate(algorithm, data, measures=['RMSE', 'MAE'], cv=3, verbose=False)\n",
    "    \n",
    "    # Get results & append algorithm name\n",
    "    tmp = pd.DataFrame.from_dict(results).mean(axis=0)\n",
    "    tmp = tmp.append(pd.Series([str(algorithm).split(' ')[0].split('.')[-1]], index=['Algorithm']))\n",
    "    calc.append(tmp)\n",
    "    \n",
    "mdl_mean = pd.DataFrame(calc).set_index('Algorithm').sort_values('test_rmse') \n",
    "mdl_mean"
   ]
  },
  {
   "cell_type": "markdown",
   "metadata": {},
   "source": [
    "직관적으로는 팟빵 평점 데이터가 별로일 것 같은데, `"
   ]
  },
  {
   "cell_type": "code",
   "execution_count": 33,
   "metadata": {},
   "outputs": [
    {
     "data": {
      "text/plain": [
       "Text(0.5, 1.0, 'MyDramaList Ratings')"
      ]
     },
     "execution_count": 33,
     "metadata": {},
     "output_type": "execute_result"
    },
    {
     "data": {
      "image/png": "[encoded data removed]",
      "text/plain": [
       "<Figure size 432x288 with 1 Axes>"
      ]
     },
     "metadata": {
      "needs_background": "light"
     },
     "output_type": "display_data"
    }
   ],
   "source": [
    "plt.hist(mydramalist['overall'], bins = 10)\n",
    "plt.title(\"MyDramaList Ratings\", fontsize = 20)"
   ]
  },
  {
   "cell_type": "code",
   "execution_count": 31,
   "metadata": {},
   "outputs": [
    {
     "data": {
      "text/plain": [
       "Text(0.5, 1.0, 'Podbbang Ratings')"
      ]
     },
     "execution_count": 31,
     "metadata": {},
     "output_type": "execute_result"
    },
    {
     "data": {
      "image/png": "[encoded data removed]",
      "text/plain": [
       "<Figure size 432x288 with 1 Axes>"
      ]
     },
     "metadata": {
      "needs_background": "light"
     },
     "output_type": "display_data"
    }
   ],
   "source": [
    "plt.hist(all_review['new_rating'], bins = 10)\n",
    "plt.title(\"Podbbang Ratings\", fontsize = 20)"
   ]
  },
  {
   "cell_type": "markdown",
   "metadata": {},
   "source": [
    "# 난 너무 화가 난다"
   ]
  },
  {
   "cell_type": "markdown",
   "metadata": {},
   "source": [
    "이럴거면 그냥 다 10점 주는 알고리즘 만들자"
   ]
  },
  {
   "cell_type": "code",
   "execution_count": 174,
   "metadata": {},
   "outputs": [],
   "source": [
    "from surprise import AlgoBase\n",
    "from surprise import Dataset\n",
    "from surprise.model_selection import cross_validate\n",
    "\n",
    "\n",
    "class all_10(AlgoBase):\n",
    "\n",
    "    def __init__(self):\n",
    "\n",
    "        # Always call base method before doing anything.\n",
    "        AlgoBase.__init__(self)\n",
    "\n",
    "    def estimate(self, u, i):\n",
    "\n",
    "        return 10"
   ]
  },
  {
   "cell_type": "markdown",
   "metadata": {},
   "source": [
    "all_10으로 팟빵 예측한 결과는"
   ]
  },
  {
   "cell_type": "code",
   "execution_count": 198,
   "metadata": {},
   "outputs": [
    {
     "data": {
      "text/html": [
       "<div>\n",
       "<style scoped>\n",
       "    .dataframe tbody tr th:only-of-type {\n",
       "        vertical-align: middle;\n",
       "    }\n",
       "\n",
       "    .dataframe tbody tr th {\n",
       "        vertical-align: top;\n",
       "    }\n",
       "\n",
       "    .dataframe thead th {\n",
       "        text-align: right;\n",
       "    }\n",
       "</style>\n",
       "<table border=\"1\" class=\"dataframe\">\n",
       "  <thead>\n",
       "    <tr style=\"text-align: right;\">\n",
       "      <th></th>\n",
       "      <th>test_rmse</th>\n",
       "      <th>test_mae</th>\n",
       "      <th>fit_time</th>\n",
       "      <th>test_time</th>\n",
       "    </tr>\n",
       "    <tr>\n",
       "      <th>Algorithm</th>\n",
       "      <th></th>\n",
       "      <th></th>\n",
       "      <th></th>\n",
       "      <th></th>\n",
       "    </tr>\n",
       "  </thead>\n",
       "  <tbody>\n",
       "    <tr>\n",
       "      <th>all_10</th>\n",
       "      <td>2.735595</td>\n",
       "      <td>2.098703</td>\n",
       "      <td>0.003991</td>\n",
       "      <td>0.085447</td>\n",
       "    </tr>\n",
       "  </tbody>\n",
       "</table>\n",
       "</div>"
      ],
      "text/plain": [
       "           test_rmse  test_mae  fit_time  test_time\n",
       "Algorithm                                          \n",
       "all_10      2.735595  2.098703  0.003991   0.085447"
      ]
     },
     "execution_count": 198,
     "metadata": {},
     "output_type": "execute_result"
    }
   ],
   "source": [
    "calc = []\n",
    "# Perform cross validation\n",
    "algorithm = all_10()\n",
    "results = cross_validate(algorithm, data, measures=['RMSE', 'MAE'], cv=3, verbose=False)\n",
    "\n",
    "# Get results & append algorithm name\n",
    "tmp = pd.DataFrame.from_dict(results).mean(axis=0)\n",
    "tmp = tmp.append(pd.Series([str(algorithm).split(' ')[0].split('.')[-1]], index=['Algorithm']))\n",
    "calc.append(tmp)\n",
    "    \n",
    "pod_all_10 = pd.DataFrame(calc).set_index('Algorithm').sort_values('test_rmse') \n",
    "pod_all_10"
   ]
  },
  {
   "cell_type": "markdown",
   "metadata": {},
   "source": [
    "근데 그래도 pod_SVD가 예측 더 잘함...why"
   ]
  },
  {
   "cell_type": "code",
   "execution_count": 569,
   "metadata": {},
   "outputs": [],
   "source": []
  },
  {
   "cell_type": "markdown",
   "metadata": {},
   "source": [
    "팟빵 데이터에도 10점이 아닌게 있으니 다 10점을 때려버리면 안될듯 <br>\n",
    "그러면 전체 데이터의 평균(global mean)을 사용해서 예측한다면?"
   ]
  },
  {
   "cell_type": "code",
   "execution_count": 175,
   "metadata": {},
   "outputs": [],
   "source": [
    "class GlobalMean(AlgoBase):\n",
    "\n",
    "    def __init__(self):\n",
    "\n",
    "        # Always call base method before doing anything.\n",
    "        AlgoBase.__init__(self)\n",
    "\n",
    "    def fit(self, trainset):\n",
    "\n",
    "        # Here again: call base method before doing anything.\n",
    "        AlgoBase.fit(self, trainset)\n",
    "\n",
    "        # Compute the average rating. We might as well use the\n",
    "        # trainset.global_mean attribute ;)\n",
    "        self.the_mean = np.mean([r for (_, _, r) in\n",
    "                                 self.trainset.all_ratings()])\n",
    "\n",
    "        return self\n",
    "\n",
    "    def estimate(self, u, i):\n",
    "\n",
    "        return self.the_mean"
   ]
  },
  {
   "cell_type": "code",
   "execution_count": 182,
   "metadata": {},
   "outputs": [
    {
     "data": {
      "text/html": [
       "<div>\n",
       "<style scoped>\n",
       "    .dataframe tbody tr th:only-of-type {\n",
       "        vertical-align: middle;\n",
       "    }\n",
       "\n",
       "    .dataframe tbody tr th {\n",
       "        vertical-align: top;\n",
       "    }\n",
       "\n",
       "    .dataframe thead th {\n",
       "        text-align: right;\n",
       "    }\n",
       "</style>\n",
       "<table border=\"1\" class=\"dataframe\">\n",
       "  <thead>\n",
       "    <tr style=\"text-align: right;\">\n",
       "      <th></th>\n",
       "      <th>test_rmse</th>\n",
       "      <th>test_mae</th>\n",
       "      <th>fit_time</th>\n",
       "      <th>test_time</th>\n",
       "    </tr>\n",
       "    <tr>\n",
       "      <th>Algorithm</th>\n",
       "      <th></th>\n",
       "      <th></th>\n",
       "      <th></th>\n",
       "      <th></th>\n",
       "    </tr>\n",
       "  </thead>\n",
       "  <tbody>\n",
       "    <tr>\n",
       "      <th>GlobalMean</th>\n",
       "      <td>1.18641</td>\n",
       "      <td>0.786285</td>\n",
       "      <td>0.012964</td>\n",
       "      <td>0.04355</td>\n",
       "    </tr>\n",
       "  </tbody>\n",
       "</table>\n",
       "</div>"
      ],
      "text/plain": [
       "            test_rmse  test_mae  fit_time  test_time\n",
       "Algorithm                                           \n",
       "GlobalMean    1.18641  0.786285  0.012964    0.04355"
      ]
     },
     "execution_count": 182,
     "metadata": {},
     "output_type": "execute_result"
    }
   ],
   "source": [
    "data = Dataset.load_from_df(all_review[['nickname', 'title', 'new_rating']], reader)\n",
    "\n",
    "\n",
    "calc = []\n",
    "# Perform cross validation\n",
    "algorithm = GlobalMean()\n",
    "results = cross_validate(algorithm, data, measures=['RMSE', 'MAE'], cv=3, verbose=False)\n",
    "\n",
    "# Get results & append algorithm name\n",
    "tmp = pd.DataFrame.from_dict(results).mean(axis=0)\n",
    "tmp = tmp.append(pd.Series([str(algorithm).split(' ')[0].split('.')[-1]], index=['Algorithm']))\n",
    "calc.append(tmp)\n",
    "    \n",
    "pod_global_mean = pd.DataFrame(calc).set_index('Algorithm').sort_values('test_rmse') \n",
    "pod_global_mean"
   ]
  },
  {
   "cell_type": "code",
   "execution_count": 201,
   "metadata": {},
   "outputs": [
    {
     "data": {
      "text/html": [
       "<div>\n",
       "<style scoped>\n",
       "    .dataframe tbody tr th:only-of-type {\n",
       "        vertical-align: middle;\n",
       "    }\n",
       "\n",
       "    .dataframe tbody tr th {\n",
       "        vertical-align: top;\n",
       "    }\n",
       "\n",
       "    .dataframe thead th {\n",
       "        text-align: right;\n",
       "    }\n",
       "</style>\n",
       "<table border=\"1\" class=\"dataframe\">\n",
       "  <thead>\n",
       "    <tr style=\"text-align: right;\">\n",
       "      <th></th>\n",
       "      <th>title</th>\n",
       "      <th>reviewer</th>\n",
       "      <th>overall</th>\n",
       "      <th>story</th>\n",
       "      <th>acting</th>\n",
       "      <th>music</th>\n",
       "      <th>rewatch</th>\n",
       "      <th>mean</th>\n",
       "    </tr>\n",
       "  </thead>\n",
       "  <tbody>\n",
       "    <tr>\n",
       "      <th>9974</th>\n",
       "      <td>Drama Special Series Season 1: White Christmas</td>\n",
       "      <td>maymaymaymay</td>\n",
       "      <td>10.0</td>\n",
       "      <td>10.0</td>\n",
       "      <td>9.0</td>\n",
       "      <td>10.0</td>\n",
       "      <td>7.0</td>\n",
       "      <td>9.2</td>\n",
       "    </tr>\n",
       "  </tbody>\n",
       "</table>\n",
       "</div>"
      ],
      "text/plain": [
       "                                               title      reviewer  overall  \\\n",
       "9974  Drama Special Series Season 1: White Christmas  maymaymaymay     10.0   \n",
       "\n",
       "      story  acting  music  rewatch  mean  \n",
       "9974   10.0     9.0   10.0      7.0   9.2  "
      ]
     },
     "execution_count": 201,
     "metadata": {},
     "output_type": "execute_result"
    }
   ],
   "source": [
    "mydramalist.sample()"
   ]
  },
  {
   "cell_type": "code",
   "execution_count": 215,
   "metadata": {},
   "outputs": [
    {
     "data": {
      "text/html": [
       "<div>\n",
       "<style scoped>\n",
       "    .dataframe tbody tr th:only-of-type {\n",
       "        vertical-align: middle;\n",
       "    }\n",
       "\n",
       "    .dataframe tbody tr th {\n",
       "        vertical-align: top;\n",
       "    }\n",
       "\n",
       "    .dataframe thead th {\n",
       "        text-align: right;\n",
       "    }\n",
       "</style>\n",
       "<table border=\"1\" class=\"dataframe\">\n",
       "  <thead>\n",
       "    <tr style=\"text-align: right;\">\n",
       "      <th></th>\n",
       "      <th>test_rmse</th>\n",
       "      <th>test_mae</th>\n",
       "      <th>fit_time</th>\n",
       "      <th>test_time</th>\n",
       "    </tr>\n",
       "    <tr>\n",
       "      <th>Algorithm</th>\n",
       "      <th></th>\n",
       "      <th></th>\n",
       "      <th></th>\n",
       "      <th></th>\n",
       "    </tr>\n",
       "  </thead>\n",
       "  <tbody>\n",
       "    <tr>\n",
       "      <th>GlobalMean</th>\n",
       "      <td>1.830709</td>\n",
       "      <td>1.400354</td>\n",
       "      <td>0.017295</td>\n",
       "      <td>0.075132</td>\n",
       "    </tr>\n",
       "  </tbody>\n",
       "</table>\n",
       "</div>"
      ],
      "text/plain": [
       "            test_rmse  test_mae  fit_time  test_time\n",
       "Algorithm                                           \n",
       "GlobalMean   1.830709  1.400354  0.017295   0.075132"
      ]
     },
     "execution_count": 215,
     "metadata": {},
     "output_type": "execute_result"
    }
   ],
   "source": [
    "data = Dataset.load_from_df(mydramalist[['reviewer', 'title', 'overall']], reader)\n",
    "\n",
    "\n",
    "calc = []\n",
    "# Perform cross validation\n",
    "algorithm = GlobalMean()\n",
    "results = cross_validate(algorithm, data, measures=['RMSE', 'MAE'], cv=3, verbose=False)\n",
    "\n",
    "# Get results & append algorithm name\n",
    "tmp = pd.DataFrame.from_dict(results).mean(axis=0)\n",
    "tmp = tmp.append(pd.Series([str(algorithm).split(' ')[0].split('.')[-1]], index=['Algorithm']))\n",
    "calc.append(tmp)\n",
    "    \n",
    "mdl_global_mean = pd.DataFrame(calc).set_index('Algorithm').sort_values('test_rmse') \n",
    "mdl_global_mean"
   ]
  },
  {
   "cell_type": "code",
   "execution_count": 203,
   "metadata": {},
   "outputs": [],
   "source": [
    "a = pd.DataFrame(np.array([mdl_acting.iloc[0, :]]), columns = mdl_acting.iloc[0, :].index, index = ['mdl_acting_SVD'])\n",
    "\n",
    "b = pd.DataFrame(np.array([mdl_story.iloc[0, :]]), columns = mdl_acting.iloc[0, :].index, index = ['mdl_story_SVD'])\n",
    "\n",
    "c = pd.DataFrame(np.array([mdl_mean.iloc[0, :]]), columns = mdl_acting.iloc[0, :].index, index = ['mdl_mean_SVD'])\n",
    "\n",
    "d = pd.DataFrame(np.array([pod_SVD.iloc[0, :]]), columns = mdl_acting.iloc[0, :].index, index = ['pod_SVD'])\n",
    "\n",
    "e = pd.DataFrame(np.array([pod_all_10.iloc[0, :]]), columns = mdl_acting.iloc[0, :].index, index = ['pod_all_10'])\n",
    "\n",
    "f = pd.DataFrame(np.array([pod_global_mean.iloc[0, :]]), columns = mdl_acting.iloc[0, :].index, index = ['pod_global_mean'])\n",
    "\n",
    "g = pd.DataFrame(np.array([mdl_global_mean.iloc[0, :]]), columns = mdl_acting.iloc[0, :].index, index = ['mdl_global_mean'])"
   ]
  },
  {
   "cell_type": "code",
   "execution_count": 206,
   "metadata": {},
   "outputs": [
    {
     "data": {
      "text/html": [
       "<div>\n",
       "<style scoped>\n",
       "    .dataframe tbody tr th:only-of-type {\n",
       "        vertical-align: middle;\n",
       "    }\n",
       "\n",
       "    .dataframe tbody tr th {\n",
       "        vertical-align: top;\n",
       "    }\n",
       "\n",
       "    .dataframe thead th {\n",
       "        text-align: right;\n",
       "    }\n",
       "</style>\n",
       "<table border=\"1\" class=\"dataframe\">\n",
       "  <thead>\n",
       "    <tr style=\"text-align: right;\">\n",
       "      <th></th>\n",
       "      <th>test_rmse</th>\n",
       "      <th>test_mae</th>\n",
       "      <th>fit_time</th>\n",
       "      <th>test_time</th>\n",
       "    </tr>\n",
       "  </thead>\n",
       "  <tbody>\n",
       "    <tr>\n",
       "      <th>mdl_acting_SVD</th>\n",
       "      <td>1.260538</td>\n",
       "      <td>0.884254</td>\n",
       "      <td>3.702428</td>\n",
       "      <td>0.355718</td>\n",
       "    </tr>\n",
       "    <tr>\n",
       "      <th>mdl_story_SVD</th>\n",
       "      <td>1.499974</td>\n",
       "      <td>1.084920</td>\n",
       "      <td>2.927170</td>\n",
       "      <td>0.244683</td>\n",
       "    </tr>\n",
       "    <tr>\n",
       "      <th>mdl_mean_SVD</th>\n",
       "      <td>1.362060</td>\n",
       "      <td>1.000769</td>\n",
       "      <td>2.817463</td>\n",
       "      <td>0.176194</td>\n",
       "    </tr>\n",
       "    <tr>\n",
       "      <th>pod_SVD</th>\n",
       "      <td>1.047612</td>\n",
       "      <td>0.605319</td>\n",
       "      <td>1.642606</td>\n",
       "      <td>0.143283</td>\n",
       "    </tr>\n",
       "    <tr>\n",
       "      <th>pod_all_10</th>\n",
       "      <td>2.735595</td>\n",
       "      <td>2.098703</td>\n",
       "      <td>0.003991</td>\n",
       "      <td>0.085447</td>\n",
       "    </tr>\n",
       "    <tr>\n",
       "      <th>pod_global_mean</th>\n",
       "      <td>1.186410</td>\n",
       "      <td>0.786285</td>\n",
       "      <td>0.012964</td>\n",
       "      <td>0.043550</td>\n",
       "    </tr>\n",
       "    <tr>\n",
       "      <th>mdl_global_mean</th>\n",
       "      <td>1.830818</td>\n",
       "      <td>1.400521</td>\n",
       "      <td>0.018617</td>\n",
       "      <td>0.101727</td>\n",
       "    </tr>\n",
       "  </tbody>\n",
       "</table>\n",
       "</div>"
      ],
      "text/plain": [
       "                 test_rmse  test_mae  fit_time  test_time\n",
       "mdl_acting_SVD    1.260538  0.884254  3.702428   0.355718\n",
       "mdl_story_SVD     1.499974  1.084920  2.927170   0.244683\n",
       "mdl_mean_SVD      1.362060  1.000769  2.817463   0.176194\n",
       "pod_SVD           1.047612  0.605319  1.642606   0.143283\n",
       "pod_all_10        2.735595  2.098703  0.003991   0.085447\n",
       "pod_global_mean   1.186410  0.786285  0.012964   0.043550\n",
       "mdl_global_mean   1.830818  1.400521  0.018617   0.101727"
      ]
     },
     "execution_count": 206,
     "metadata": {},
     "output_type": "execute_result"
    }
   ],
   "source": [
    "all_algo = pd.concat([a,b,c,d,e,f,g], axis = 0)\n",
    "all_algo"
   ]
  },
  {
   "cell_type": "code",
   "execution_count": 210,
   "metadata": {},
   "outputs": [
    {
     "data": {
      "text/html": [
       "<div>\n",
       "<style scoped>\n",
       "    .dataframe tbody tr th:only-of-type {\n",
       "        vertical-align: middle;\n",
       "    }\n",
       "\n",
       "    .dataframe tbody tr th {\n",
       "        vertical-align: top;\n",
       "    }\n",
       "\n",
       "    .dataframe thead th {\n",
       "        text-align: right;\n",
       "    }\n",
       "</style>\n",
       "<table border=\"1\" class=\"dataframe\">\n",
       "  <thead>\n",
       "    <tr style=\"text-align: right;\">\n",
       "      <th></th>\n",
       "      <th>test_rmse</th>\n",
       "      <th>test_mae</th>\n",
       "      <th>fit_time</th>\n",
       "      <th>test_time</th>\n",
       "    </tr>\n",
       "  </thead>\n",
       "  <tbody>\n",
       "    <tr>\n",
       "      <th>mdl_global_mean</th>\n",
       "      <td>1.830818</td>\n",
       "      <td>1.400521</td>\n",
       "      <td>0.018617</td>\n",
       "      <td>0.101727</td>\n",
       "    </tr>\n",
       "    <tr>\n",
       "      <th>mdl_acting_SVD</th>\n",
       "      <td>1.260538</td>\n",
       "      <td>0.884254</td>\n",
       "      <td>3.702428</td>\n",
       "      <td>0.355718</td>\n",
       "    </tr>\n",
       "  </tbody>\n",
       "</table>\n",
       "</div>"
      ],
      "text/plain": [
       "                 test_rmse  test_mae  fit_time  test_time\n",
       "mdl_global_mean   1.830818  1.400521  0.018617   0.101727\n",
       "mdl_acting_SVD    1.260538  0.884254  3.702428   0.355718"
      ]
     },
     "execution_count": 210,
     "metadata": {},
     "output_type": "execute_result"
    }
   ],
   "source": [
    "all_algo.loc[['mdl_global_mean', 'mdl_acting_SVD']]"
   ]
  },
  {
   "cell_type": "code",
   "execution_count": null,
   "metadata": {},
   "outputs": [],
   "source": []
  },
  {
   "cell_type": "code",
   "execution_count": 212,
   "metadata": {},
   "outputs": [
    {
     "data": {
      "text/html": [
       "<div>\n",
       "<style scoped>\n",
       "    .dataframe tbody tr th:only-of-type {\n",
       "        vertical-align: middle;\n",
       "    }\n",
       "\n",
       "    .dataframe tbody tr th {\n",
       "        vertical-align: top;\n",
       "    }\n",
       "\n",
       "    .dataframe thead th {\n",
       "        text-align: right;\n",
       "    }\n",
       "</style>\n",
       "<table border=\"1\" class=\"dataframe\">\n",
       "  <thead>\n",
       "    <tr style=\"text-align: right;\">\n",
       "      <th></th>\n",
       "      <th>test_rmse</th>\n",
       "      <th>test_mae</th>\n",
       "      <th>fit_time</th>\n",
       "      <th>test_time</th>\n",
       "    </tr>\n",
       "  </thead>\n",
       "  <tbody>\n",
       "    <tr>\n",
       "      <th>pod_global_mean</th>\n",
       "      <td>1.186410</td>\n",
       "      <td>0.786285</td>\n",
       "      <td>0.012964</td>\n",
       "      <td>0.043550</td>\n",
       "    </tr>\n",
       "    <tr>\n",
       "      <th>pod_SVD</th>\n",
       "      <td>1.047612</td>\n",
       "      <td>0.605319</td>\n",
       "      <td>1.642606</td>\n",
       "      <td>0.143283</td>\n",
       "    </tr>\n",
       "  </tbody>\n",
       "</table>\n",
       "</div>"
      ],
      "text/plain": [
       "                 test_rmse  test_mae  fit_time  test_time\n",
       "pod_global_mean   1.186410  0.786285  0.012964   0.043550\n",
       "pod_SVD           1.047612  0.605319  1.642606   0.143283"
      ]
     },
     "execution_count": 212,
     "metadata": {},
     "output_type": "execute_result"
    }
   ],
   "source": [
    "all_algo.loc[['pod_global_mean', 'pod_SVD']]"
   ]
  },
  {
   "cell_type": "markdown",
   "metadata": {},
   "source": [
    "mdl과 다르게 pod은 바보같아 보이는 global_mean을 적용하나 똑똑한 SVD를 적용하나 error의 차이가 크지 않아요.<br>\n",
    "애초에 데이터가 10점에 몰려있으니 그게 그거겟죠? <br>\n",
    "**그러면 우리는 팟빵의 오디오북 퀄리티가 높아서 이런 결과가 나왔다고 할 수 있을까?**<br>\n",
    "### 놉"
   ]
  },
  {
   "cell_type": "code",
   "execution_count": 220,
   "metadata": {},
   "outputs": [
    {
     "data": {
      "text/plain": [
       "1.8308176341614588"
      ]
     },
     "execution_count": 220,
     "metadata": {},
     "output_type": "execute_result"
    }
   ],
   "source": [
    "all_algo.iloc[6,0] - all_algo.iloc[6,0]"
   ]
  },
  {
   "cell_type": "code",
   "execution_count": 221,
   "metadata": {},
   "outputs": [
    {
     "data": {
      "text/html": [
       "<div>\n",
       "<style scoped>\n",
       "    .dataframe tbody tr th:only-of-type {\n",
       "        vertical-align: middle;\n",
       "    }\n",
       "\n",
       "    .dataframe tbody tr th {\n",
       "        vertical-align: top;\n",
       "    }\n",
       "\n",
       "    .dataframe thead th {\n",
       "        text-align: right;\n",
       "    }\n",
       "</style>\n",
       "<table border=\"1\" class=\"dataframe\">\n",
       "  <thead>\n",
       "    <tr style=\"text-align: right;\">\n",
       "      <th></th>\n",
       "      <th>test_rmse</th>\n",
       "      <th>test_mae</th>\n",
       "      <th>fit_time</th>\n",
       "      <th>test_time</th>\n",
       "    </tr>\n",
       "  </thead>\n",
       "  <tbody>\n",
       "    <tr>\n",
       "      <th>mdl_acting_SVD</th>\n",
       "      <td>1.260538</td>\n",
       "      <td>0.884254</td>\n",
       "      <td>3.702428</td>\n",
       "      <td>0.355718</td>\n",
       "    </tr>\n",
       "    <tr>\n",
       "      <th>mdl_story_SVD</th>\n",
       "      <td>1.499974</td>\n",
       "      <td>1.084920</td>\n",
       "      <td>2.927170</td>\n",
       "      <td>0.244683</td>\n",
       "    </tr>\n",
       "    <tr>\n",
       "      <th>mdl_mean_SVD</th>\n",
       "      <td>1.362060</td>\n",
       "      <td>1.000769</td>\n",
       "      <td>2.817463</td>\n",
       "      <td>0.176194</td>\n",
       "    </tr>\n",
       "    <tr>\n",
       "      <th>pod_SVD</th>\n",
       "      <td>1.047612</td>\n",
       "      <td>0.605319</td>\n",
       "      <td>1.642606</td>\n",
       "      <td>0.143283</td>\n",
       "    </tr>\n",
       "    <tr>\n",
       "      <th>pod_all_10</th>\n",
       "      <td>2.735595</td>\n",
       "      <td>2.098703</td>\n",
       "      <td>0.003991</td>\n",
       "      <td>0.085447</td>\n",
       "    </tr>\n",
       "    <tr>\n",
       "      <th>pod_global_mean</th>\n",
       "      <td>1.186410</td>\n",
       "      <td>0.786285</td>\n",
       "      <td>0.012964</td>\n",
       "      <td>0.043550</td>\n",
       "    </tr>\n",
       "    <tr>\n",
       "      <th>mdl_global_mean</th>\n",
       "      <td>1.830818</td>\n",
       "      <td>1.400521</td>\n",
       "      <td>0.018617</td>\n",
       "      <td>0.101727</td>\n",
       "    </tr>\n",
       "  </tbody>\n",
       "</table>\n",
       "</div>"
      ],
      "text/plain": [
       "                 test_rmse  test_mae  fit_time  test_time\n",
       "mdl_acting_SVD    1.260538  0.884254  3.702428   0.355718\n",
       "mdl_story_SVD     1.499974  1.084920  2.927170   0.244683\n",
       "mdl_mean_SVD      1.362060  1.000769  2.817463   0.176194\n",
       "pod_SVD           1.047612  0.605319  1.642606   0.143283\n",
       "pod_all_10        2.735595  2.098703  0.003991   0.085447\n",
       "pod_global_mean   1.186410  0.786285  0.012964   0.043550\n",
       "mdl_global_mean   1.830818  1.400521  0.018617   0.101727"
      ]
     },
     "execution_count": 221,
     "metadata": {},
     "output_type": "execute_result"
    }
   ],
   "source": [
    "all_algo"
   ]
  },
  {
   "cell_type": "code",
   "execution_count": 42,
   "metadata": {},
   "outputs": [
    {
     "data": {
      "text/html": [
       "<div>\n",
       "<style scoped>\n",
       "    .dataframe tbody tr th:only-of-type {\n",
       "        vertical-align: middle;\n",
       "    }\n",
       "\n",
       "    .dataframe tbody tr th {\n",
       "        vertical-align: top;\n",
       "    }\n",
       "\n",
       "    .dataframe thead th {\n",
       "        text-align: right;\n",
       "    }\n",
       "</style>\n",
       "<table border=\"1\" class=\"dataframe\">\n",
       "  <thead>\n",
       "    <tr style=\"text-align: right;\">\n",
       "      <th></th>\n",
       "      <th>nickname</th>\n",
       "      <th>rating</th>\n",
       "      <th>title</th>\n",
       "      <th>voice</th>\n",
       "      <th>author</th>\n",
       "      <th>review</th>\n",
       "      <th>created</th>\n",
       "      <th>publish</th>\n",
       "      <th>genre</th>\n",
       "      <th>read_by</th>\n",
       "    </tr>\n",
       "  </thead>\n",
       "  <tbody>\n",
       "    <tr>\n",
       "      <th>0</th>\n",
       "      <td>유노창민</td>\n",
       "      <td>100</td>\n",
       "      <td>저스트 어 모멘트</td>\n",
       "      <td>이나리</td>\n",
       "      <td>이경화</td>\n",
       "      <td>잘들었습니다.</td>\n",
       "      <td>2020.11.06</td>\n",
       "      <td>탐</td>\n",
       "      <td>소설문학</td>\n",
       "      <td>someone</td>\n",
       "    </tr>\n",
       "    <tr>\n",
       "      <th>1</th>\n",
       "      <td>나이스가이72</td>\n",
       "      <td>100</td>\n",
       "      <td>[단편] 헤엄치는 밤</td>\n",
       "      <td>최인영</td>\n",
       "      <td>한유주</td>\n",
       "      <td>내용 목소리 넘 좋습니다.</td>\n",
       "      <td>2020.10.29</td>\n",
       "      <td>미디어창비</td>\n",
       "      <td>소설문학</td>\n",
       "      <td>someone</td>\n",
       "    </tr>\n",
       "    <tr>\n",
       "      <th>2</th>\n",
       "      <td>하브</td>\n",
       "      <td>100</td>\n",
       "      <td>[단편] 헤엄치는 밤</td>\n",
       "      <td>최인영</td>\n",
       "      <td>한유주</td>\n",
       "      <td>완전 내용도 장난 아니게 좋네요!! 그리고 목소리도 너무 좋아 집중해서 잘 들을 수...</td>\n",
       "      <td>2020.10.29</td>\n",
       "      <td>미디어창비</td>\n",
       "      <td>소설문학</td>\n",
       "      <td>someone</td>\n",
       "    </tr>\n",
       "    <tr>\n",
       "      <th>3</th>\n",
       "      <td>양수</td>\n",
       "      <td>100</td>\n",
       "      <td>[단편] 헤엄치는 밤</td>\n",
       "      <td>최인영</td>\n",
       "      <td>한유주</td>\n",
       "      <td>빠져드는 목소리입니다^^</td>\n",
       "      <td>2020.10.29</td>\n",
       "      <td>미디어창비</td>\n",
       "      <td>소설문학</td>\n",
       "      <td>someone</td>\n",
       "    </tr>\n",
       "    <tr>\n",
       "      <th>4</th>\n",
       "      <td>티씨지는부산더락</td>\n",
       "      <td>100</td>\n",
       "      <td>[단편] 헤엄치는 밤</td>\n",
       "      <td>최인영</td>\n",
       "      <td>한유주</td>\n",
       "      <td>목소리 너무 좋아요</td>\n",
       "      <td>2020.10.28</td>\n",
       "      <td>미디어창비</td>\n",
       "      <td>소설문학</td>\n",
       "      <td>someone</td>\n",
       "    </tr>\n",
       "    <tr>\n",
       "      <th>...</th>\n",
       "      <td>...</td>\n",
       "      <td>...</td>\n",
       "      <td>...</td>\n",
       "      <td>...</td>\n",
       "      <td>...</td>\n",
       "      <td>...</td>\n",
       "      <td>...</td>\n",
       "      <td>...</td>\n",
       "      <td>...</td>\n",
       "      <td>...</td>\n",
       "    </tr>\n",
       "    <tr>\n",
       "      <th>15526</th>\n",
       "      <td>kay333</td>\n",
       "      <td>100</td>\n",
       "      <td>명작동화 영한대역 I</td>\n",
       "      <td>박미경,손선희</td>\n",
       "      <td>그림 형제</td>\n",
       "      <td>유명한 그림 형제 동화를 한국어ᆞ영어로 동시에 듣고, 색다른 정보도 알게 되네요. ^^</td>\n",
       "      <td>2019.07.05</td>\n",
       "      <td>왓북</td>\n",
       "      <td>어린이동화</td>\n",
       "      <td>someone</td>\n",
       "    </tr>\n",
       "    <tr>\n",
       "      <th>15527</th>\n",
       "      <td>자연에서</td>\n",
       "      <td>100</td>\n",
       "      <td>명작동화 영한대역 I</td>\n",
       "      <td>박미경,손선희</td>\n",
       "      <td>그림 형제</td>\n",
       "      <td>아이 잠자리에서 영한대역으로 틀어주면 좋을거 같아요. 영어 난이도가 쉽진 않지만 자...</td>\n",
       "      <td>2019.07.01</td>\n",
       "      <td>왓북</td>\n",
       "      <td>어린이동화</td>\n",
       "      <td>someone</td>\n",
       "    </tr>\n",
       "    <tr>\n",
       "      <th>15528</th>\n",
       "      <td>후후후크</td>\n",
       "      <td>90</td>\n",
       "      <td>[단편] 햇볕 동동 구리 동동</td>\n",
       "      <td>NaN</td>\n",
       "      <td>윤기현</td>\n",
       "      <td>애들 재울때 들으려고 샀는데\\r\\n아빠가 더 재밌네요 옛날 생각도 나고</td>\n",
       "      <td>2020.01.19</td>\n",
       "      <td>창비</td>\n",
       "      <td>어린이동화</td>\n",
       "      <td>robot</td>\n",
       "    </tr>\n",
       "    <tr>\n",
       "      <th>15531</th>\n",
       "      <td>소민맘</td>\n",
       "      <td>100</td>\n",
       "      <td>마법사 똥맨</td>\n",
       "      <td>NaN</td>\n",
       "      <td>송언</td>\n",
       "      <td>재밌어요</td>\n",
       "      <td>2019.12.19</td>\n",
       "      <td>창비</td>\n",
       "      <td>어린이동화</td>\n",
       "      <td>robot</td>\n",
       "    </tr>\n",
       "    <tr>\n",
       "      <th>15532</th>\n",
       "      <td>유노창민</td>\n",
       "      <td>100</td>\n",
       "      <td>어린이를 위한 안데르센 영어동화</td>\n",
       "      <td>NaN</td>\n",
       "      <td>한스 크리스티안 안데르센</td>\n",
       "      <td>잘들었습니다</td>\n",
       "      <td>2020.11.05</td>\n",
       "      <td>팟빵북스</td>\n",
       "      <td>어린이동화</td>\n",
       "      <td>robot</td>\n",
       "    </tr>\n",
       "  </tbody>\n",
       "</table>\n",
       "<p>15528 rows × 10 columns</p>\n",
       "</div>"
      ],
      "text/plain": [
       "       nickname  rating              title    voice         author  \\\n",
       "0          유노창민     100          저스트 어 모멘트      이나리            이경화   \n",
       "1       나이스가이72     100        [단편] 헤엄치는 밤      최인영            한유주   \n",
       "2            하브     100        [단편] 헤엄치는 밤      최인영            한유주   \n",
       "3            양수     100        [단편] 헤엄치는 밤      최인영            한유주   \n",
       "4      티씨지는부산더락     100        [단편] 헤엄치는 밤      최인영            한유주   \n",
       "...         ...     ...                ...      ...            ...   \n",
       "15526    kay333     100        명작동화 영한대역 I  박미경,손선희          그림 형제   \n",
       "15527      자연에서     100        명작동화 영한대역 I  박미경,손선희          그림 형제   \n",
       "15528      후후후크      90   [단편] 햇볕 동동 구리 동동      NaN            윤기현   \n",
       "15531       소민맘     100             마법사 똥맨      NaN             송언   \n",
       "15532      유노창민     100  어린이를 위한 안데르센 영어동화      NaN  한스 크리스티안 안데르센   \n",
       "\n",
       "                                                  review     created publish  \\\n",
       "0                                                잘들었습니다.  2020.11.06       탐   \n",
       "1                                         내용 목소리 넘 좋습니다.  2020.10.29   미디어창비   \n",
       "2      완전 내용도 장난 아니게 좋네요!! 그리고 목소리도 너무 좋아 집중해서 잘 들을 수...  2020.10.29   미디어창비   \n",
       "3                                          빠져드는 목소리입니다^^  2020.10.29   미디어창비   \n",
       "4                                             목소리 너무 좋아요  2020.10.28   미디어창비   \n",
       "...                                                  ...         ...     ...   \n",
       "15526   유명한 그림 형제 동화를 한국어ᆞ영어로 동시에 듣고, 색다른 정보도 알게 되네요. ^^  2019.07.05      왓북   \n",
       "15527  아이 잠자리에서 영한대역으로 틀어주면 좋을거 같아요. 영어 난이도가 쉽진 않지만 자...  2019.07.01      왓북   \n",
       "15528            애들 재울때 들으려고 샀는데\\r\\n아빠가 더 재밌네요 옛날 생각도 나고  2020.01.19      창비   \n",
       "15531                                               재밌어요  2019.12.19      창비   \n",
       "15532                                             잘들었습니다  2020.11.05    팟빵북스   \n",
       "\n",
       "       genre  read_by  \n",
       "0       소설문학  someone  \n",
       "1       소설문학  someone  \n",
       "2       소설문학  someone  \n",
       "3       소설문학  someone  \n",
       "4       소설문학  someone  \n",
       "...      ...      ...  \n",
       "15526  어린이동화  someone  \n",
       "15527  어린이동화  someone  \n",
       "15528  어린이동화    robot  \n",
       "15531  어린이동화    robot  \n",
       "15532  어린이동화    robot  \n",
       "\n",
       "[15528 rows x 10 columns]"
      ]
     },
     "execution_count": 42,
     "metadata": {},
     "output_type": "execute_result"
    }
   ],
   "source": [
    "all_review"
   ]
  },
  {
   "cell_type": "code",
   "execution_count": 45,
   "metadata": {},
   "outputs": [],
   "source": [
    "pivot_review = all_review.pivot_table(index= 'nickname', columns = 'title', values = 'rating')"
   ]
  },
  {
   "cell_type": "code",
   "execution_count": 55,
   "metadata": {},
   "outputs": [
    {
     "name": "stdout",
     "output_type": "stream",
     "text": [
      "데이터 sparsity : 0.9821065975223279\n"
     ]
    }
   ],
   "source": [
    "#sparsity\n",
    "print(f\"데이터 sparsity : {1 - (pivot_review.count().sum() / (pivot_review.shape[0]*pivot_review.shape[1]))}\")"
   ]
  },
  {
   "cell_type": "code",
   "execution_count": 58,
   "metadata": {},
   "outputs": [
    {
     "name": "stderr",
     "output_type": "stream",
     "text": [
      "C:\\Users\\Hanna Kim\\Anaconda3\\lib\\site-packages\\ipykernel_launcher.py:2: SettingWithCopyWarning: \n",
      "A value is trying to be set on a copy of a slice from a DataFrame.\n",
      "Try using .loc[row_indexer,col_indexer] = value instead\n",
      "\n",
      "See the caveats in the documentation: https://pandas.pydata.org/pandas-docs/stable/user_guide/indexing.html#returning-a-view-versus-a-copy\n",
      "  \n"
     ]
    },
    {
     "data": {
      "text/html": [
       "<div>\n",
       "<style scoped>\n",
       "    .dataframe tbody tr th:only-of-type {\n",
       "        vertical-align: middle;\n",
       "    }\n",
       "\n",
       "    .dataframe tbody tr th {\n",
       "        vertical-align: top;\n",
       "    }\n",
       "\n",
       "    .dataframe thead th {\n",
       "        text-align: right;\n",
       "    }\n",
       "</style>\n",
       "<table border=\"1\" class=\"dataframe\">\n",
       "  <thead>\n",
       "    <tr style=\"text-align: right;\">\n",
       "      <th></th>\n",
       "      <th>nickname</th>\n",
       "      <th>title</th>\n",
       "      <th>rating</th>\n",
       "    </tr>\n",
       "  </thead>\n",
       "  <tbody>\n",
       "    <tr>\n",
       "      <th>13484</th>\n",
       "      <td>213626</td>\n",
       "      <td>어른이 되면 괜찮을 줄 알았다</td>\n",
       "      <td>10.0</td>\n",
       "    </tr>\n",
       "    <tr>\n",
       "      <th>14024</th>\n",
       "      <td>sooozy</td>\n",
       "      <td>[EBS 세계문학전집] 걸리버 여행기</td>\n",
       "      <td>10.0</td>\n",
       "    </tr>\n",
       "    <tr>\n",
       "      <th>10736</th>\n",
       "      <td>꾸우레복검</td>\n",
       "      <td>나는 왠지 대박날 것만 같아!</td>\n",
       "      <td>10.0</td>\n",
       "    </tr>\n",
       "  </tbody>\n",
       "</table>\n",
       "</div>"
      ],
      "text/plain": [
       "      nickname                 title  rating\n",
       "13484   213626      어른이 되면 괜찮을 줄 알았다    10.0\n",
       "14024   sooozy  [EBS 세계문학전집] 걸리버 여행기    10.0\n",
       "10736    꾸우레복검      나는 왠지 대박날 것만 같아!    10.0"
      ]
     },
     "execution_count": 58,
     "metadata": {},
     "output_type": "execute_result"
    }
   ],
   "source": [
    "rate = all_review[['nickname', 'title', 'rating']]\n",
    "rate['rating'] /= 10\n",
    "rate.sample(3)"
   ]
  },
  {
   "cell_type": "code",
   "execution_count": 60,
   "metadata": {},
   "outputs": [
    {
     "data": {
      "text/html": [
       "<div>\n",
       "<style scoped>\n",
       "    .dataframe tbody tr th:only-of-type {\n",
       "        vertical-align: middle;\n",
       "    }\n",
       "\n",
       "    .dataframe tbody tr th {\n",
       "        vertical-align: top;\n",
       "    }\n",
       "\n",
       "    .dataframe thead th {\n",
       "        text-align: right;\n",
       "    }\n",
       "</style>\n",
       "<table border=\"1\" class=\"dataframe\">\n",
       "  <thead>\n",
       "    <tr style=\"text-align: right;\">\n",
       "      <th></th>\n",
       "      <th>user</th>\n",
       "      <th>title</th>\n",
       "      <th>rating</th>\n",
       "      <th>usr_id</th>\n",
       "      <th>ttl_id</th>\n",
       "    </tr>\n",
       "  </thead>\n",
       "  <tbody>\n",
       "    <tr>\n",
       "      <th>3586</th>\n",
       "      <td>이궁우궁</td>\n",
       "      <td>[이승열 낭독] 모든 곳에 존재하는 로마니의 황제 퀴에크 _ 작은책</td>\n",
       "      <td>8.0</td>\n",
       "      <td>81</td>\n",
       "      <td>108</td>\n",
       "    </tr>\n",
       "  </tbody>\n",
       "</table>\n",
       "</div>"
      ],
      "text/plain": [
       "      user                                  title  rating  usr_id  ttl_id\n",
       "3586  이궁우궁  [이승열 낭독] 모든 곳에 존재하는 로마니의 황제 퀴에크 _ 작은책     8.0      81     108"
      ]
     },
     "execution_count": 60,
     "metadata": {},
     "output_type": "execute_result"
    }
   ],
   "source": [
    "user_df = pd.DataFrame(list(rate.nickname\t.unique()), columns = ['nickname'])\n",
    "user_df['usr_id'] = random.sample(range(1,len(user_df)+1), len(user_df))\n",
    "\n",
    "title_df = pd.DataFrame(list(rate.title.unique()), columns = ['title'])\n",
    "title_df['ttl_id'] = random.sample(range(1,len(title_df)+1), len(title_df))\n",
    "\n",
    "rate = rate.merge(user_df, how = 'left' )\n",
    "rate = rate.merge(title_df, how = 'left' )\n",
    "rate.columns = ['user', 'title', 'rating', 'usr_id', 'ttl_id']\n",
    "rate.sample()"
   ]
  },
  {
   "cell_type": "code",
   "execution_count": 82,
   "metadata": {},
   "outputs": [
    {
     "data": {
      "text/html": [
       "<div>\n",
       "<style scoped>\n",
       "    .dataframe tbody tr th:only-of-type {\n",
       "        vertical-align: middle;\n",
       "    }\n",
       "\n",
       "    .dataframe tbody tr th {\n",
       "        vertical-align: top;\n",
       "    }\n",
       "\n",
       "    .dataframe thead th {\n",
       "        text-align: right;\n",
       "    }\n",
       "</style>\n",
       "<table border=\"1\" class=\"dataframe\">\n",
       "  <thead>\n",
       "    <tr style=\"text-align: right;\">\n",
       "      <th></th>\n",
       "      <th>user</th>\n",
       "      <th>title</th>\n",
       "      <th>rating</th>\n",
       "      <th>usr_id</th>\n",
       "      <th>ttl_id</th>\n",
       "    </tr>\n",
       "  </thead>\n",
       "  <tbody>\n",
       "    <tr>\n",
       "      <th>0</th>\n",
       "      <td>유노창민</td>\n",
       "      <td>저스트 어 모멘트</td>\n",
       "      <td>10.0</td>\n",
       "      <td>300</td>\n",
       "      <td>15</td>\n",
       "    </tr>\n",
       "    <tr>\n",
       "      <th>1</th>\n",
       "      <td>나이스가이72</td>\n",
       "      <td>[단편] 헤엄치는 밤</td>\n",
       "      <td>10.0</td>\n",
       "      <td>3753</td>\n",
       "      <td>50</td>\n",
       "    </tr>\n",
       "    <tr>\n",
       "      <th>2</th>\n",
       "      <td>하브</td>\n",
       "      <td>[단편] 헤엄치는 밤</td>\n",
       "      <td>10.0</td>\n",
       "      <td>545</td>\n",
       "      <td>50</td>\n",
       "    </tr>\n",
       "    <tr>\n",
       "      <th>3</th>\n",
       "      <td>양수</td>\n",
       "      <td>[단편] 헤엄치는 밤</td>\n",
       "      <td>10.0</td>\n",
       "      <td>2419</td>\n",
       "      <td>50</td>\n",
       "    </tr>\n",
       "    <tr>\n",
       "      <th>4</th>\n",
       "      <td>티씨지는부산더락</td>\n",
       "      <td>[단편] 헤엄치는 밤</td>\n",
       "      <td>10.0</td>\n",
       "      <td>1072</td>\n",
       "      <td>50</td>\n",
       "    </tr>\n",
       "    <tr>\n",
       "      <th>...</th>\n",
       "      <td>...</td>\n",
       "      <td>...</td>\n",
       "      <td>...</td>\n",
       "      <td>...</td>\n",
       "      <td>...</td>\n",
       "    </tr>\n",
       "    <tr>\n",
       "      <th>15523</th>\n",
       "      <td>kay333</td>\n",
       "      <td>명작동화 영한대역 I</td>\n",
       "      <td>10.0</td>\n",
       "      <td>988</td>\n",
       "      <td>72</td>\n",
       "    </tr>\n",
       "    <tr>\n",
       "      <th>15524</th>\n",
       "      <td>자연에서</td>\n",
       "      <td>명작동화 영한대역 I</td>\n",
       "      <td>10.0</td>\n",
       "      <td>3134</td>\n",
       "      <td>72</td>\n",
       "    </tr>\n",
       "    <tr>\n",
       "      <th>15525</th>\n",
       "      <td>후후후크</td>\n",
       "      <td>[단편] 햇볕 동동 구리 동동</td>\n",
       "      <td>9.0</td>\n",
       "      <td>2553</td>\n",
       "      <td>149</td>\n",
       "    </tr>\n",
       "    <tr>\n",
       "      <th>15526</th>\n",
       "      <td>소민맘</td>\n",
       "      <td>마법사 똥맨</td>\n",
       "      <td>10.0</td>\n",
       "      <td>1869</td>\n",
       "      <td>101</td>\n",
       "    </tr>\n",
       "    <tr>\n",
       "      <th>15527</th>\n",
       "      <td>유노창민</td>\n",
       "      <td>어린이를 위한 안데르센 영어동화</td>\n",
       "      <td>10.0</td>\n",
       "      <td>300</td>\n",
       "      <td>25</td>\n",
       "    </tr>\n",
       "  </tbody>\n",
       "</table>\n",
       "<p>15528 rows × 5 columns</p>\n",
       "</div>"
      ],
      "text/plain": [
       "           user              title  rating  usr_id  ttl_id\n",
       "0          유노창민          저스트 어 모멘트    10.0     300      15\n",
       "1       나이스가이72        [단편] 헤엄치는 밤    10.0    3753      50\n",
       "2            하브        [단편] 헤엄치는 밤    10.0     545      50\n",
       "3            양수        [단편] 헤엄치는 밤    10.0    2419      50\n",
       "4      티씨지는부산더락        [단편] 헤엄치는 밤    10.0    1072      50\n",
       "...         ...                ...     ...     ...     ...\n",
       "15523    kay333        명작동화 영한대역 I    10.0     988      72\n",
       "15524      자연에서        명작동화 영한대역 I    10.0    3134      72\n",
       "15525      후후후크   [단편] 햇볕 동동 구리 동동     9.0    2553     149\n",
       "15526       소민맘             마법사 똥맨    10.0    1869     101\n",
       "15527      유노창민  어린이를 위한 안데르센 영어동화    10.0     300      25\n",
       "\n",
       "[15528 rows x 5 columns]"
      ]
     },
     "execution_count": 82,
     "metadata": {},
     "output_type": "execute_result"
    }
   ],
   "source": [
    "rate"
   ]
  },
  {
   "cell_type": "code",
   "execution_count": 270,
   "metadata": {},
   "outputs": [
    {
     "data": {
      "text/plain": [
       "count    1646.000000\n",
       "mean        7.729648\n",
       "std         8.491895\n",
       "min         2.000000\n",
       "25%         2.000000\n",
       "50%         4.000000\n",
       "75%        10.000000\n",
       "max        65.000000\n",
       "Name: rating_count, dtype: float64"
      ]
     },
     "execution_count": 270,
     "metadata": {},
     "output_type": "execute_result"
    }
   ],
   "source": [
    "review_var_count[review_var_count['rating_count']>=10]"
   ]
  },
  {
   "cell_type": "code",
   "execution_count": null,
   "metadata": {},
   "outputs": [],
   "source": []
  }
 ],
 "metadata": {
  "kernelspec": {
   "display_name": "Python 3",
   "language": "python",
   "name": "python3"
  },
  "language_info": {
   "codemirror_mode": {
    "name": "ipython",
    "version": 3
   },
   "file_extension": ".py",
   "mimetype": "text/x-python",
   "name": "python",
   "nbconvert_exporter": "python",
   "pygments_lexer": "ipython3",
   "version": "3.7.4"
  }
 },
 "nbformat": 4,
 "nbformat_minor": 2
}
