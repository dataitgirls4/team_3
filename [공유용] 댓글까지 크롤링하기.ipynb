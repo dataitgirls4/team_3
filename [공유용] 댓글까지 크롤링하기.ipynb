{
 "cells": [
  {
   "cell_type": "markdown",
   "metadata": {},
   "source": [
    "- 연주) 소설문학 http://m.podbbang.com/audiobooks?category_id=100\n",
    "- 연주) 오디오북스 http://m.podbbang.com/audiobooks?category_id=111\n",
    "- 연주) 자기계발 http://m.podbbang.com/audiobooks?category_id=101\n",
    "- 지현) 경제경영 http://m.podbbang.com/audiobooks?category_id=103\n",
    "- 지현) 인문교양 http://m.podbbang.com/audiobooks?category_id=104\n",
    "- 지현) 역사 http://m.podbbang.com/audiobooks?category_id=105\n",
    "- 지현) 어린이동화 http://m.podbbang.com/audiobooks?category_id=106"
   ]
  },
  {
   "cell_type": "code",
   "execution_count": null,
   "metadata": {},
   "outputs": [],
   "source": [
    "from selenium import webdriver\n",
    "from bs4 import BeautifulSoup\n",
    "import pandas as pd\n",
    "import time\n",
    "from selenium.webdriver.support.ui import WebDriverWait"
   ]
  },
  {
   "cell_type": "code",
   "execution_count": null,
   "metadata": {},
   "outputs": [],
   "source": [
    "def scroll(driver, timeout):\n",
    "    scroll_pause_time = timeout\n",
    "\n",
    "    # Get scroll height\n",
    "    last_height = driver.execute_script(\"return document.body.scrollHeight\")\n",
    "\n",
    "    while True:\n",
    "        # Scroll down to bottom\n",
    "        driver.execute_script(\"window.scrollTo(0, document.body.scrollHeight);\")\n",
    "\n",
    "        # Wait to load page\n",
    "        time.sleep(scroll_pause_time)\n",
    "\n",
    "        # Calculate new scroll height and compare with last scroll height\n",
    "        new_height = driver.execute_script(\"return document.body.scrollHeight\")\n",
    "        if new_height == last_height:\n",
    "            # If heights are the same it will exit the function\n",
    "            break\n",
    "        last_height = new_height"
   ]
  },
  {
   "cell_type": "code",
   "execution_count": null,
   "metadata": {},
   "outputs": [],
   "source": [
    "driver = webdriver.Chrome('C:/Users/USER/Desktop/데잇걸즈/파이썬/[어수웅] 파이썬 프로그래밍/chromedriver') #각자 chromedriver가 설치되어있는 주소를 입력해주세요\n",
    "driver.implicitly_wait(5)\n",
    "driver.get(\"http://m.podbbang.com/audiobooks?category_id=103\") #각자 맡은 카테고리 페이지 url을 입력해주세요\n",
    "scroll(driver, 1) #스크롤 끝까지 내려\n",
    "html = driver.page_source\n",
    "soup = BeautifulSoup(html, 'html.parser')"
   ]
  },
  {
   "cell_type": "code",
   "execution_count": null,
   "metadata": {},
   "outputs": [],
   "source": [
    "nums = []\n",
    "for i in range(len(soup.select('div.thumb'))):\n",
    "    a = soup.select('div.thumb')[i].get('style')[67:74]\n",
    "    nums.append(a)"
   ]
  },
  {
   "cell_type": "code",
   "execution_count": null,
   "metadata": {},
   "outputs": [],
   "source": [
    "url=[]\n",
    "for i in nums:\n",
    "    b = f'http://m.podbbang.com/audiobook/channel?id={i}'\n",
    "    url.append(b)"
   ]
  },
  {
   "cell_type": "code",
   "execution_count": null,
   "metadata": {},
   "outputs": [],
   "source": [
    "nickname = []\n",
    "rating = []\n",
    "title=[]\n",
    "voice=[]\n",
    "author=[]\n",
    "review = []"
   ]
  },
  {
   "cell_type": "code",
   "execution_count": null,
   "metadata": {},
   "outputs": [],
   "source": [
    "driver = webdriver.Chrome('C:/Users/USER/Desktop/데잇걸즈/파이썬/[어수웅] 파이썬 프로그래밍/chromedriver') #각자 chromedriver가 설치되어있는 주소를 입력해주세요\n",
    "driver.implicitly_wait(5)\n",
    "for i in url:\n",
    "    driver.get(f'{i}') #각자 맡은 카테고리 페이지 url을 입력해주세요\n",
    "    WebDriverWait(driver, 3)\n",
    "    scroll(driver, 1) #스크롤 끝까지 내려\n",
    "    html = driver.page_source\n",
    "    soup = BeautifulSoup(html, 'html.parser')\n",
    "    time.sleep(1)\n",
    "    n = int(soup.select('div.audiobook-reviews-component>h3.title>span')[0].text.split(' ')[1].strip('명')) #n정의\n",
    "    for i in range((n-3)//12+1):\n",
    "        더보기 = driver.find_element_by_xpath('//*[@id=\"audiobookDetails\"]/div[5]/div/button[1]')\n",
    "        더보기.click()\n",
    "    time.sleep(1)\n",
    "    html = driver.page_source\n",
    "    soup3 = BeautifulSoup(html, 'html.parser') #댓글 다 나와있는 soup\n",
    "    time.sleep(1)\n",
    "    for i in range(n):\n",
    "        c=soup3.select('dt.title')[0].text\n",
    "        a=soup3.select('h3.nickname')[i].text\n",
    "        b=soup3.select('div.star_rating>span')[i].get('style').split(' ')[1][:-2]\n",
    "        d=soup3.select('dl.audiobook-details__info>dd')[1].text[3:]\n",
    "        e=soup3.select('dl.audiobook-details__info>dd')[2].text[2:]\n",
    "        f=soup3.select('li.audiobook-review-list-item>p.message')[i].text\n",
    "        nickname.append(a)\n",
    "        rating.append(b)\n",
    "        title.append(c)\n",
    "        voice.append(d)\n",
    "        author.append(e)\n",
    "        review.append(f)"
   ]
  },
  {
   "cell_type": "code",
   "execution_count": null,
   "metadata": {},
   "outputs": [],
   "source": [
    "booklist = pd.DataFrame({\n",
    "    'title': title,\n",
    "    'nickname':nickname,\n",
    "    'rating':rating,\n",
    "    'voice': voice,\n",
    "    'author': author,\n",
    "    'review': review\n",
    "    \n",
    "})\n",
    "\n",
    "booklist"
   ]
  },
  {
   "cell_type": "code",
   "execution_count": null,
   "metadata": {},
   "outputs": [],
   "source": [
    "booklist.to_csv('C:/Users/USER/Desktop/깃헙코웤/team_3/문서제목.csv', encoding='utf-8') #각자 저장할 주소를 적어주세요"
   ]
  },
  {
   "cell_type": "code",
   "execution_count": null,
   "metadata": {},
   "outputs": [],
   "source": []
  },
  {
   "cell_type": "code",
   "execution_count": null,
   "metadata": {},
   "outputs": [],
   "source": []
  },
  {
   "cell_type": "code",
   "execution_count": null,
   "metadata": {},
   "outputs": [],
   "source": []
  }
 ],
 "metadata": {
  "kernelspec": {
   "display_name": "Python 3",
   "language": "python",
   "name": "python3"
  },
  "language_info": {
   "codemirror_mode": {
    "name": "ipython",
    "version": 3
   },
   "file_extension": ".py",
   "mimetype": "text/x-python",
   "name": "python",
   "nbconvert_exporter": "python",
   "pygments_lexer": "ipython3",
   "version": "3.8.3"
  }
 },
 "nbformat": 4,
 "nbformat_minor": 4
}
