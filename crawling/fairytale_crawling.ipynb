{
 "cells": [
  {
   "cell_type": "code",
   "execution_count": 1,
   "metadata": {},
   "outputs": [],
   "source": [
    "from selenium import webdriver\n",
    "from bs4 import BeautifulSoup\n",
    "import pandas as pd\n",
    "import time"
   ]
  },
  {
   "cell_type": "code",
   "execution_count": 2,
   "metadata": {},
   "outputs": [],
   "source": [
    "nickname = []\n",
    "rating = []\n",
    "title= []\n",
    "voice=[]\n",
    "author=[]\n",
    "review = []"
   ]
  },
  {
   "cell_type": "code",
   "execution_count": 3,
   "metadata": {},
   "outputs": [],
   "source": [
    "def scroll(driver, timeout):\n",
    "    scroll_pause_time = timeout\n",
    "\n",
    "    # Get scroll height\n",
    "    last_height = driver.execute_script(\"return document.body.scrollHeight\")\n",
    "\n",
    "    while True:\n",
    "        # Scroll down to bottom\n",
    "        driver.execute_script(\"window.scrollTo(0, document.body.scrollHeight);\")\n",
    "\n",
    "        # Wait to load page\n",
    "        time.sleep(scroll_pause_time)\n",
    "\n",
    "        # Calculate new scroll height and compare with last scroll height\n",
    "        new_height = driver.execute_script(\"return document.body.scrollHeight\")\n",
    "        if new_height == last_height:\n",
    "            # If heights are the same it will exit the function\n",
    "            break\n",
    "        last_height = new_height"
   ]
  },
  {
   "cell_type": "markdown",
   "metadata": {},
   "source": [
    "- 지현) 소설문학 http://m.podbbang.com/audiobooks?category_id=100\n",
    "- 미리) 오디오북스 http://m.podbbang.com/audiobooks?category_id=111\n",
    "- 미리) 자기계발 http://m.podbbang.com/audiobooks?category_id=101\n",
    "- 현진) 경제경영 http://m.podbbang.com/audiobooks?category_id=103\n",
    "- 현진) 인문교양 http://m.podbbang.com/audiobooks?category_id=104\n",
    "- 연주) 역사 http://m.podbbang.com/audiobooks?category_id=105\n",
    "- 연주) 어린이동화 http://m.podbbang.com/audiobooks?category_id=106\n"
   ]
  },
  {
   "cell_type": "code",
   "execution_count": 4,
   "metadata": {},
   "outputs": [],
   "source": [
    "driver = webdriver.Chrome('C:/Users/Lg/Desktop/데잇걸즈/파이썬/chromedriver') #각자 chromedriver가 설치되어있는 주소를 입력해주세요\n",
    "driver.implicitly_wait(3)\n",
    "driver.get(\"http://m.podbbang.com/audiobooks?category_id=106\") #각자 맡은 카테고리 페이지 url을 입력해주세요\n",
    "scroll(driver, 0.6) #스크롤 끝까지 내려\n",
    "html = driver.page_source\n",
    "soup = BeautifulSoup(html, 'html.parser')"
   ]
  },
  {
   "cell_type": "code",
   "execution_count": 17,
   "metadata": {},
   "outputs": [],
   "source": [
    "for i in range(1,len(soup.select('ul .audiobook-list-component__list>li .audiobook-list-item-component>h3 .title'))):\n",
    "    element = driver.find_element_by_xpath(f'//*[@id=\"audiobookIndex\"]/div[2]/div/ul/li[{i}]/h3')\n",
    "    driver.execute_script(\"arguments[0].click();\", element)\n",
    "    scroll(driver, 0.6)\n",
    "    html = driver.page_source\n",
    "    soup2 = BeautifulSoup(html, 'html.parser')\n",
    "    n = int(soup2.select('div.audiobook-reviews-component>h3.title>span')[0].text.split(' ')[1].strip('명')) #n정의\n",
    "    for i in range((n-3)//12+1):\n",
    "        더보기 = driver.find_element_by_xpath('//*[@id=\"audiobookDetails\"]/div[5]/div/button[1]')\n",
    "        더보기.click()\n",
    "    time.sleep(1)\n",
    "    html = driver.page_source\n",
    "    soup3 = BeautifulSoup(html, 'html.parser') #댓글 다 나와있는 soup\n",
    "    for i in range(n):\n",
    "        c=soup3.select('dt.title')[0].text\n",
    "        a=soup3.select('h3.nickname')[i].text\n",
    "        b=soup3.select('div.star_rating>span')[i].get('style').split(' ')[1][:-2]\n",
    "        d=soup3.select('dl.audiobook-details__info>dd')[1].text[3:]\n",
    "        e=soup3.select('dl.audiobook-details__info>dd')[2].text[2:]\n",
    "        f=soup3.select('li.audiobook-review-list-item>p.message')[i].text\n",
    "        nickname.append(a)\n",
    "        rating.append(b)\n",
    "        title.append(c)\n",
    "        voice.append(d)\n",
    "        author.append(e)\n",
    "        review.append(f)\n",
    "    driver.back() # 책 목록으로 돌아가\n",
    "    scroll(driver, 0.6) #스크롤 끝까지 내려"
   ]
  },
  {
   "cell_type": "code",
   "execution_count": 18,
   "metadata": {},
   "outputs": [
    {
     "data": {
      "text/html": [
       "<div>\n",
       "<style scoped>\n",
       "    .dataframe tbody tr th:only-of-type {\n",
       "        vertical-align: middle;\n",
       "    }\n",
       "\n",
       "    .dataframe tbody tr th {\n",
       "        vertical-align: top;\n",
       "    }\n",
       "\n",
       "    .dataframe thead th {\n",
       "        text-align: right;\n",
       "    }\n",
       "</style>\n",
       "<table border=\"1\" class=\"dataframe\">\n",
       "  <thead>\n",
       "    <tr style=\"text-align: right;\">\n",
       "      <th></th>\n",
       "      <th>title</th>\n",
       "      <th>nickname</th>\n",
       "      <th>rating</th>\n",
       "      <th>voice</th>\n",
       "      <th>author</th>\n",
       "      <th>review</th>\n",
       "    </tr>\n",
       "  </thead>\n",
       "  <tbody>\n",
       "    <tr>\n",
       "      <th>0</th>\n",
       "      <td>홍당무</td>\n",
       "      <td>유노창민</td>\n",
       "      <td>100</td>\n",
       "      <td>심규영,장세윤</td>\n",
       "      <td>쥘 르나르</td>\n",
       "      <td>잘들었습니다.</td>\n",
       "    </tr>\n",
       "    <tr>\n",
       "      <th>1</th>\n",
       "      <td>어느 날 우리 반에 공룡이 전학 왔다</td>\n",
       "      <td>쭈루쭈루쭈루</td>\n",
       "      <td>50</td>\n",
       "      <td>이지현</td>\n",
       "      <td>서지원</td>\n",
       "      <td>기대가 됩니다</td>\n",
       "    </tr>\n",
       "    <tr>\n",
       "      <th>2</th>\n",
       "      <td>내 꿈은 누가 정해요?</td>\n",
       "      <td>쭈루쭈루쭈루</td>\n",
       "      <td>100</td>\n",
       "      <td>김소형</td>\n",
       "      <td>김효</td>\n",
       "      <td>기데되네요</td>\n",
       "    </tr>\n",
       "    <tr>\n",
       "      <th>3</th>\n",
       "      <td>공룡 이야기 마을_고집 센 벨로키랍토르(영어)</td>\n",
       "      <td>유노창민</td>\n",
       "      <td>100</td>\n",
       "      <td></td>\n",
       "      <td>김성진 외</td>\n",
       "      <td>좋습니다. 잘봤습니다</td>\n",
       "    </tr>\n",
       "  </tbody>\n",
       "</table>\n",
       "</div>"
      ],
      "text/plain": [
       "                       title nickname rating    voice author       review\n",
       "0                        홍당무     유노창민    100  심규영,장세윤  쥘 르나르      잘들었습니다.\n",
       "1       어느 날 우리 반에 공룡이 전학 왔다   쭈루쭈루쭈루     50      이지현    서지원      기대가 됩니다\n",
       "2               내 꿈은 누가 정해요?   쭈루쭈루쭈루    100      김소형     김효        기데되네요\n",
       "3  공룡 이야기 마을_고집 센 벨로키랍토르(영어)     유노창민    100           김성진 외  좋습니다. 잘봤습니다"
      ]
     },
     "execution_count": 18,
     "metadata": {},
     "output_type": "execute_result"
    }
   ],
   "source": [
    "booklist_fairytale = pd.DataFrame({\n",
    "    'title': title,\n",
    "    'nickname':nickname,\n",
    "    'rating':rating,\n",
    "    'voice': voice,\n",
    "    'author': author,\n",
    "    'review': review\n",
    "    \n",
    "})\n",
    "\n",
    "booklist_fairytale"
   ]
  },
  {
   "cell_type": "code",
   "execution_count": 19,
   "metadata": {},
   "outputs": [],
   "source": [
    "booklist_fairytale.to_csv('C:/Users/Lg/Desktop/dataitgirls4/team_3/booklist_fairytale.csv', encoding='utf-8') #각자 저장할 주소를 적어주세요"
   ]
  },
  {
   "cell_type": "code",
   "execution_count": null,
   "metadata": {},
   "outputs": [],
   "source": []
  }
 ],
 "metadata": {
  "kernelspec": {
   "display_name": "Python 3",
   "language": "python",
   "name": "python3"
  },
  "language_info": {
   "codemirror_mode": {
    "name": "ipython",
    "version": 3
   },
   "file_extension": ".py",
   "mimetype": "text/x-python",
   "name": "python",
   "nbconvert_exporter": "python",
   "pygments_lexer": "ipython3",
   "version": "3.8.3"
  }
 },
 "nbformat": 4,
 "nbformat_minor": 4
}
