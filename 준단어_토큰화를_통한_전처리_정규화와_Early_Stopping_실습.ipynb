{
  "nbformat": 4,
  "nbformat_minor": 0,
  "metadata": {
    "colab": {
      "name": "준단어 토큰화를 통한 전처리/정규화와 Early Stopping 실습.ipynb",
      "provenance": [],
      "collapsed_sections": [],
      "authorship_tag": "ABX9TyMX49eggarTWnnyeZbtOjgz",
      "include_colab_link": true
    },
    "kernelspec": {
      "name": "python3",
      "display_name": "Python 3"
    }
  },
  "cells": [
    {
      "cell_type": "markdown",
      "metadata": {
        "id": "view-in-github",
        "colab_type": "text"
      },
      "source": [
        "<a href=\"https://colab.research.google.com/github/dataitgirls4/team_3/blob/miree/%EC%A4%80%EB%8B%A8%EC%96%B4_%ED%86%A0%ED%81%B0%ED%99%94%EB%A5%BC_%ED%86%B5%ED%95%9C_%EC%A0%84%EC%B2%98%EB%A6%AC_%EC%A0%95%EA%B7%9C%ED%99%94%EC%99%80_Early_Stopping_%EC%8B%A4%EC%8A%B5.ipynb\" target=\"_parent\"><img src=\"https://colab.research.google.com/assets/colab-badge.svg\" alt=\"Open In Colab\"/></a>"
      ]
    },
    {
      "cell_type": "markdown",
      "metadata": {
        "id": "8O4NROBmX-GW"
      },
      "source": [
        "# 데이터 열기"
      ]
    },
    {
      "cell_type": "markdown",
      "metadata": {
        "id": "XXWM_GJiYCCD"
      },
      "source": [
        "네이버 영화평 데이터를 연다."
      ]
    },
    {
      "cell_type": "code",
      "metadata": {
        "id": "22UpGNeUX2_4"
      },
      "source": [
        "import pandas as pd"
      ],
      "execution_count": 1,
      "outputs": []
    },
    {
      "cell_type": "markdown",
      "metadata": {
        "id": "0jAlPxF9YFjG"
      },
      "source": [
        "# 파일 열기"
      ]
    },
    {
      "cell_type": "code",
      "metadata": {
        "id": "4rdoBZA1YErT"
      },
      "source": [
        "nsmc = pd.read_csv('https://github.com/e9t/nsmc/raw/master/ratings_train.txt', sep='\\t')"
      ],
      "execution_count": 2,
      "outputs": []
    },
    {
      "cell_type": "markdown",
      "metadata": {
        "id": "92ZMchNEYOCi"
      },
      "source": [
        "데이터의 초반 5개를 확인한다."
      ]
    },
    {
      "cell_type": "code",
      "metadata": {
        "colab": {
          "base_uri": "https://localhost:8080/",
          "height": 202
        },
        "id": "mGZ03gIbYKik",
        "outputId": "f49d9eb8-567f-4a0c-8184-f8a9b2bbdd15"
      },
      "source": [
        "nsmc.head()"
      ],
      "execution_count": 3,
      "outputs": [
        {
          "output_type": "execute_result",
          "data": {
            "text/html": [
              "<div>\n",
              "<style scoped>\n",
              "    .dataframe tbody tr th:only-of-type {\n",
              "        vertical-align: middle;\n",
              "    }\n",
              "\n",
              "    .dataframe tbody tr th {\n",
              "        vertical-align: top;\n",
              "    }\n",
              "\n",
              "    .dataframe thead th {\n",
              "        text-align: right;\n",
              "    }\n",
              "</style>\n",
              "<table border=\"1\" class=\"dataframe\">\n",
              "  <thead>\n",
              "    <tr style=\"text-align: right;\">\n",
              "      <th></th>\n",
              "      <th>id</th>\n",
              "      <th>document</th>\n",
              "      <th>label</th>\n",
              "    </tr>\n",
              "  </thead>\n",
              "  <tbody>\n",
              "    <tr>\n",
              "      <th>0</th>\n",
              "      <td>9976970</td>\n",
              "      <td>아 더빙.. 진짜 짜증나네요 목소리</td>\n",
              "      <td>0</td>\n",
              "    </tr>\n",
              "    <tr>\n",
              "      <th>1</th>\n",
              "      <td>3819312</td>\n",
              "      <td>흠...포스터보고 초딩영화줄....오버연기조차 가볍지 않구나</td>\n",
              "      <td>1</td>\n",
              "    </tr>\n",
              "    <tr>\n",
              "      <th>2</th>\n",
              "      <td>10265843</td>\n",
              "      <td>너무재밓었다그래서보는것을추천한다</td>\n",
              "      <td>0</td>\n",
              "    </tr>\n",
              "    <tr>\n",
              "      <th>3</th>\n",
              "      <td>9045019</td>\n",
              "      <td>교도소 이야기구먼 ..솔직히 재미는 없다..평점 조정</td>\n",
              "      <td>0</td>\n",
              "    </tr>\n",
              "    <tr>\n",
              "      <th>4</th>\n",
              "      <td>6483659</td>\n",
              "      <td>사이몬페그의 익살스런 연기가 돋보였던 영화!스파이더맨에서 늙어보이기만 했던 커스틴 ...</td>\n",
              "      <td>1</td>\n",
              "    </tr>\n",
              "  </tbody>\n",
              "</table>\n",
              "</div>"
            ],
            "text/plain": [
              "         id                                           document  label\n",
              "0   9976970                                아 더빙.. 진짜 짜증나네요 목소리      0\n",
              "1   3819312                  흠...포스터보고 초딩영화줄....오버연기조차 가볍지 않구나      1\n",
              "2  10265843                                  너무재밓었다그래서보는것을추천한다      0\n",
              "3   9045019                      교도소 이야기구먼 ..솔직히 재미는 없다..평점 조정      0\n",
              "4   6483659  사이몬페그의 익살스런 연기가 돋보였던 영화!스파이더맨에서 늙어보이기만 했던 커스틴 ...      1"
            ]
          },
          "metadata": {
            "tags": []
          },
          "execution_count": 3
        }
      ]
    },
    {
      "cell_type": "markdown",
      "metadata": {
        "id": "R1tBO_cxYiDU"
      },
      "source": [
        "데이터의 크기를 확인한다."
      ]
    },
    {
      "cell_type": "code",
      "metadata": {
        "colab": {
          "base_uri": "https://localhost:8080/"
        },
        "id": "te6m2xo-Ye2o",
        "outputId": "450c0f9e-f511-4fcd-c499-a2b2f006e14a"
      },
      "source": [
        "nsmc.shape"
      ],
      "execution_count": 4,
      "outputs": [
        {
          "output_type": "execute_result",
          "data": {
            "text/plain": [
              "(150000, 3)"
            ]
          },
          "metadata": {
            "tags": []
          },
          "execution_count": 4
        }
      ]
    },
    {
      "cell_type": "markdown",
      "metadata": {
        "id": "d3c5jU3DYmG5"
      },
      "source": [
        "여기서는 2000개만으로 감성분석 실습을 진행한다."
      ]
    },
    {
      "cell_type": "code",
      "metadata": {
        "id": "jpxXWfDSYkjH"
      },
      "source": [
        "nsmc = nsmc.loc[:1999]"
      ],
      "execution_count": 5,
      "outputs": []
    },
    {
      "cell_type": "markdown",
      "metadata": {
        "id": "xkkiFW0qgUT2"
      },
      "source": [
        ""
      ]
    },
    {
      "cell_type": "markdown",
      "metadata": {
        "id": "iNvG5vyBYpU2"
      },
      "source": [
        "# 준단어 토큰화"
      ]
    },
    {
      "cell_type": "markdown",
      "metadata": {
        "id": "lIonR8FmZNPc"
      },
      "source": [
        "인터넷 글들은 맞춤법이나 띄어쓰기를 잘 지키지 않으므로 형태소 분석 대신 `sentencepiece`를 이용해서 준단어 토큰화를 한다.\n",
        "영화평을 `nsmc.txt` 파일로 저장합니다."
      ]
    },
    {
      "cell_type": "code",
      "metadata": {
        "id": "UhPTQDJoYoJt"
      },
      "source": [
        "with open('nsmc.txt', 'w', encoding='utf8') as f:\n",
        "    f.write('\\n'.join(nsmc['document']))"
      ],
      "execution_count": 6,
      "outputs": []
    },
    {
      "cell_type": "markdown",
      "metadata": {
        "id": "G9wM1fc8ZS74"
      },
      "source": [
        "준단어 토큰을 학습한다. 토큰의 종류는 총 3000개로 한다."
      ]
    },
    {
      "cell_type": "code",
      "metadata": {
        "colab": {
          "base_uri": "https://localhost:8080/"
        },
        "id": "5xQUwYwFZgDD",
        "outputId": "ab3ed19f-7b4f-4009-87c1-6f065a84ce8f"
      },
      "source": [
        "pip install sentencepiece"
      ],
      "execution_count": 7,
      "outputs": [
        {
          "output_type": "stream",
          "text": [
            "Collecting sentencepiece\n",
            "\u001b[?25l  Downloading https://files.pythonhosted.org/packages/e5/2d/6d4ca4bef9a67070fa1cac508606328329152b1df10bdf31fb6e4e727894/sentencepiece-0.1.94-cp36-cp36m-manylinux2014_x86_64.whl (1.1MB)\n",
            "\u001b[K     |████████████████████████████████| 1.1MB 6.9MB/s \n",
            "\u001b[?25hInstalling collected packages: sentencepiece\n",
            "Successfully installed sentencepiece-0.1.94\n"
          ],
          "name": "stdout"
        }
      ]
    },
    {
      "cell_type": "code",
      "metadata": {
        "id": "ENfQE0v4ZKTS"
      },
      "source": [
        "from sentencepiece import SentencePieceTrainer\n",
        "SentencePieceTrainer.Train('--input=nsmc.txt --model_prefix=nsmc --vocab_size=3000')"
      ],
      "execution_count": 8,
      "outputs": []
    },
    {
      "cell_type": "code",
      "metadata": {
        "colab": {
          "base_uri": "https://localhost:8080/"
        },
        "id": "-cgBoOqVaAX2",
        "outputId": "7468a0f4-e93a-4f19-b51e-128a604f37d8"
      },
      "source": [
        "from sentencepiece import SentencePieceProcessor\n",
        "sp = SentencePieceProcessor()\n",
        "sp.Load(\"nsmc.model\")"
      ],
      "execution_count": 9,
      "outputs": [
        {
          "output_type": "execute_result",
          "data": {
            "text/plain": [
              "True"
            ]
          },
          "metadata": {
            "tags": []
          },
          "execution_count": 9
        }
      ]
    },
    {
      "cell_type": "code",
      "metadata": {
        "colab": {
          "base_uri": "https://localhost:8080/"
        },
        "id": "QlU2_JmTZWjK",
        "outputId": "e834a49d-8cb4-43ce-e6a4-51fb69f5d9a6"
      },
      "source": [
        "sp.encode_as_pieces(nsmc.loc[0, 'document'])"
      ],
      "execution_count": 10,
      "outputs": [
        {
          "output_type": "execute_result",
          "data": {
            "text/plain": [
              "['▁아', '▁더빙', '..', '▁진짜', '▁짜증나', '네요', '▁목소리']"
            ]
          },
          "metadata": {
            "tags": []
          },
          "execution_count": 10
        }
      ]
    },
    {
      "cell_type": "markdown",
      "metadata": {
        "id": "hXTZB1qtauVr"
      },
      "source": [
        "# 단어 문서 행렬(TDM) 만들기"
      ]
    },
    {
      "cell_type": "code",
      "metadata": {
        "id": "koEVBeD0Z9rV"
      },
      "source": [
        "from sklearn.feature_extraction.text import CountVectorizer"
      ],
      "execution_count": 11,
      "outputs": []
    },
    {
      "cell_type": "markdown",
      "metadata": {
        "id": "6gT5GvaNa1KU"
      },
      "source": [
        "옵션 가운데 `lowercase=False`로 설정하면 영어의 대문자를 소문자로 변환을 하지 않는다.\n"
      ]
    },
    {
      "cell_type": "code",
      "metadata": {
        "id": "TUpsSbCYazzH"
      },
      "source": [
        "cv = CountVectorizer(lowercase=False, tokenizer=sp.encode_as_pieces)"
      ],
      "execution_count": 12,
      "outputs": []
    },
    {
      "cell_type": "code",
      "metadata": {
        "id": "IvxKEjDna7Mk"
      },
      "source": [
        "tdm = cv.fit_transform(nsmc['document'])"
      ],
      "execution_count": 13,
      "outputs": []
    },
    {
      "cell_type": "markdown",
      "metadata": {
        "id": "fxKdhkjma-t3"
      },
      "source": [
        "# 훈련용 데이터와 테스트용 데이터 나누기"
      ]
    },
    {
      "cell_type": "markdown",
      "metadata": {
        "id": "2uKICRmxbJUR"
      },
      "source": [
        "새로운 데이터가 얼마나 일반화되어 있는지 측정하기 위해 훈련용과 테스트용 데이터를 나눈다.\n",
        "- `x_train` : 훈련용 데이터 (리뷰)\n",
        "- `y_train` : 훈련용 데이터 (0, 1로 분류된 감정)\n",
        "- `x_test` : 테스트용 데이터 (리뷰)\n",
        "- `y_test` : 테스트용 데이터 (0, 1로 분류된 감정)\n",
        "`sklearn.model_selection`의 `train_test_split` 모듈을 사용한다.\n",
        "\n"
      ]
    },
    {
      "cell_type": "code",
      "metadata": {
        "id": "eI0ckoywa8y7"
      },
      "source": [
        "from sklearn.model_selection import train_test_split"
      ],
      "execution_count": 14,
      "outputs": []
    },
    {
      "cell_type": "code",
      "metadata": {
        "id": "dYfY7ucHcqPG"
      },
      "source": [
        "x = tdm\n",
        "y = nsmc['label']"
      ],
      "execution_count": 34,
      "outputs": []
    },
    {
      "cell_type": "markdown",
      "metadata": {
        "id": "b9Phe8uNctm4"
      },
      "source": [
        "전체 데이터의 20%를 테스트용 데이터로 분할한다."
      ]
    },
    {
      "cell_type": "code",
      "metadata": {
        "id": "mQu6Ljr9csXp"
      },
      "source": [
        "x_train, x_test, y_train, y_test = train_test_split(x, y, test_size=0.2, random_state=42)"
      ],
      "execution_count": 16,
      "outputs": []
    },
    {
      "cell_type": "markdown",
      "metadata": {
        "id": "7rqj0_cwcw9k"
      },
      "source": [
        "# 저장"
      ]
    },
    {
      "cell_type": "markdown",
      "metadata": {
        "id": "RY35xfIHczY9"
      },
      "source": [
        "전처리 결과를 저장한다."
      ]
    },
    {
      "cell_type": "code",
      "metadata": {
        "id": "e4Nvc7jPcv6K"
      },
      "source": [
        "import joblib"
      ],
      "execution_count": 17,
      "outputs": []
    },
    {
      "cell_type": "markdown",
      "metadata": {
        "id": "ALlWaTXIc5hI"
      },
      "source": [
        "`cv`에서 `tokenizer`로 사용하고 있는 `sp.encode_as_pieces`는 C++ 언어로 작성된 함수를 Python에서 불러와 사용하는 것으로 `joblib`으로 저장할 수 없다. 따라서 여기서는 빈 값(`None`)으로 바꾸어놓는다."
      ]
    },
    {
      "cell_type": "code",
      "metadata": {
        "id": "AsP4Zfw4c2om"
      },
      "source": [
        "cv.tokenizer = None"
      ],
      "execution_count": 18,
      "outputs": []
    },
    {
      "cell_type": "markdown",
      "metadata": {
        "id": "QKPwaNQ_dDpq"
      },
      "source": [
        "`joblib`으로 저장한다."
      ]
    },
    {
      "cell_type": "code",
      "metadata": {
        "colab": {
          "base_uri": "https://localhost:8080/"
        },
        "id": "2-MI-bPHdCbQ",
        "outputId": "e388f0c7-f430-406f-dffa-ab0ccd7b745b"
      },
      "source": [
        "joblib.dump((cv, x_train, x_test, y_train, y_test), 'nsmc.pkl')"
      ],
      "execution_count": 19,
      "outputs": [
        {
          "output_type": "execute_result",
          "data": {
            "text/plain": [
              "['nsmc.pkl']"
            ]
          },
          "metadata": {
            "tags": []
          },
          "execution_count": 19
        }
      ]
    },
    {
      "cell_type": "markdown",
      "metadata": {
        "id": "oQXbX3DBd0ds"
      },
      "source": [
        "# 데이터 불러오기"
      ]
    },
    {
      "cell_type": "code",
      "metadata": {
        "id": "HZp5OvZOdHUt"
      },
      "source": [
        "import joblib\n",
        "\n",
        "cv, x_train, x_test, y_train, y_test = joblib.load('nsmc.pkl')"
      ],
      "execution_count": 20,
      "outputs": []
    },
    {
      "cell_type": "code",
      "metadata": {
        "colab": {
          "base_uri": "https://localhost:8080/"
        },
        "id": "XirzaLzXd2wF",
        "outputId": "b174aa96-a8d1-49ec-c806-c036069f3140"
      },
      "source": [
        "x_train.shape"
      ],
      "execution_count": 21,
      "outputs": [
        {
          "output_type": "execute_result",
          "data": {
            "text/plain": [
              "(1600, 3019)"
            ]
          },
          "metadata": {
            "tags": []
          },
          "execution_count": 21
        }
      ]
    },
    {
      "cell_type": "markdown",
      "metadata": {
        "id": "A1q0LdN9d9Yy"
      },
      "source": [
        "# 모형"
      ]
    },
    {
      "cell_type": "code",
      "metadata": {
        "id": "0uOKtA2Cd8G0"
      },
      "source": [
        "import tensorflow as tf"
      ],
      "execution_count": 22,
      "outputs": []
    },
    {
      "cell_type": "markdown",
      "metadata": {
        "id": "nvUaneXPeEde"
      },
      "source": [
        "`kernel_regularizer`에는 정규화를 위한 페널티 항을 추가한다. `l1`, `l2` 그리고 `l1_l2`를 사용할 수 있다."
      ]
    },
    {
      "cell_type": "code",
      "metadata": {
        "id": "5kieiDjyd_wP"
      },
      "source": [
        "model = tf.keras.models.Sequential()\n",
        "model.add(\n",
        "    tf.keras.layers.Dense(\n",
        "        1, \n",
        "        input_shape=(3019,), \n",
        "        activation='sigmoid',\n",
        "        kernel_regularizer=tf.keras.regularizers.l2(0.001)))"
      ],
      "execution_count": 41,
      "outputs": []
    },
    {
      "cell_type": "code",
      "metadata": {
        "colab": {
          "base_uri": "https://localhost:8080/"
        },
        "id": "LVWYkzr1eLko",
        "outputId": "3b5b2ec1-dfe2-4c6e-aa52-11d1d935f7d8"
      },
      "source": [
        "model.summary()\n"
      ],
      "execution_count": 46,
      "outputs": [
        {
          "output_type": "stream",
          "text": [
            "Model: \"sequential_1\"\n",
            "_________________________________________________________________\n",
            "Layer (type)                 Output Shape              Param #   \n",
            "=================================================================\n",
            "dense_1 (Dense)              (None, 1)                 3020      \n",
            "=================================================================\n",
            "Total params: 3,020\n",
            "Trainable params: 3,020\n",
            "Non-trainable params: 0\n",
            "_________________________________________________________________\n"
          ],
          "name": "stdout"
        }
      ]
    },
    {
      "cell_type": "code",
      "metadata": {
        "id": "X4GevydBeNAS"
      },
      "source": [
        "model.compile(optimizer='adam', loss='binary_crossentropy', metrics=['accuracy'])"
      ],
      "execution_count": 47,
      "outputs": []
    },
    {
      "cell_type": "markdown",
      "metadata": {
        "id": "r-sJEe1reP1p"
      },
      "source": [
        "# 학습"
      ]
    },
    {
      "cell_type": "code",
      "metadata": {
        "colab": {
          "base_uri": "https://localhost:8080/"
        },
        "id": "jx9Bxd2876ds",
        "outputId": "13a2413e-0569-4d8a-b478-9c9d5a550add"
      },
      "source": [
        "x_train.toarray().shape"
      ],
      "execution_count": 48,
      "outputs": [
        {
          "output_type": "execute_result",
          "data": {
            "text/plain": [
              "(1600, 3019)"
            ]
          },
          "metadata": {
            "tags": []
          },
          "execution_count": 48
        }
      ]
    },
    {
      "cell_type": "markdown",
      "metadata": {
        "id": "rW_W3rS48ZOn"
      },
      "source": [
        ""
      ]
    },
    {
      "cell_type": "code",
      "metadata": {
        "colab": {
          "base_uri": "https://localhost:8080/"
        },
        "id": "enWjhAK97-4H",
        "outputId": "14fd30c0-2c89-4544-ef1a-d4afdff83f68"
      },
      "source": [
        "y_train.values.shape"
      ],
      "execution_count": 49,
      "outputs": [
        {
          "output_type": "execute_result",
          "data": {
            "text/plain": [
              "(1600,)"
            ]
          },
          "metadata": {
            "tags": []
          },
          "execution_count": 49
        }
      ]
    },
    {
      "cell_type": "code",
      "metadata": {
        "colab": {
          "base_uri": "https://localhost:8080/"
        },
        "id": "OooprY6X8Bzr",
        "outputId": "d1db6e8b-22b4-4382-9260-785e7b7ab144"
      },
      "source": [
        "callbacks"
      ],
      "execution_count": 50,
      "outputs": [
        {
          "output_type": "execute_result",
          "data": {
            "text/plain": [
              "0"
            ]
          },
          "metadata": {
            "tags": []
          },
          "execution_count": 50
        }
      ]
    },
    {
      "cell_type": "code",
      "metadata": {
        "colab": {
          "base_uri": "https://localhost:8080/"
        },
        "id": "sc-5QrdNeOtF",
        "outputId": "89fe7cd1-1bf1-4e27-d3b7-1818b4c07d86"
      },
      "source": [
        "model.fit(x_train.toarray(), y_train.values, epochs=100, validation_split=0.1,\n",
        "          callbacks=[tf.keras.callbacks.EarlyStopping()])"
      ],
      "execution_count": 51,
      "outputs": [
        {
          "output_type": "stream",
          "text": [
            "Epoch 1/100\n",
            "45/45 [==============================] - 0s 4ms/step - loss: 0.4350 - accuracy: 0.9361 - val_loss: 0.5800 - val_accuracy: 0.7312\n",
            "Epoch 2/100\n",
            "45/45 [==============================] - 0s 2ms/step - loss: 0.4302 - accuracy: 0.9382 - val_loss: 0.5800 - val_accuracy: 0.7375\n",
            "Epoch 3/100\n",
            "45/45 [==============================] - 0s 2ms/step - loss: 0.4273 - accuracy: 0.9396 - val_loss: 0.5803 - val_accuracy: 0.7312\n"
          ],
          "name": "stdout"
        },
        {
          "output_type": "execute_result",
          "data": {
            "text/plain": [
              "<tensorflow.python.keras.callbacks.History at 0x7fd7a2dcb160>"
            ]
          },
          "metadata": {
            "tags": []
          },
          "execution_count": 51
        }
      ]
    },
    {
      "cell_type": "code",
      "metadata": {
        "colab": {
          "base_uri": "https://localhost:8080/"
        },
        "id": "opOxh0kbeSM2",
        "outputId": "0f2b1218-582b-481d-cfa7-0a35b061a44d"
      },
      "source": [
        "model.evaluate(x_test.toarray(), y_test.values, verbose=0)"
      ],
      "execution_count": 52,
      "outputs": [
        {
          "output_type": "execute_result",
          "data": {
            "text/plain": [
              "[0.63648521900177, 0.7124999761581421]"
            ]
          },
          "metadata": {
            "tags": []
          },
          "execution_count": 52
        }
      ]
    },
    {
      "cell_type": "markdown",
      "metadata": {
        "id": "2zaO0usU-ju7"
      },
      "source": [
        "# 모형 평가"
      ]
    },
    {
      "cell_type": "code",
      "metadata": {
        "colab": {
          "base_uri": "https://localhost:8080/"
        },
        "id": "k6fjC5W0-P95",
        "outputId": "94f636b8-5cb0-4a13-d62c-70a8eab00c91"
      },
      "source": [
        "model.evaluate(x_test.toarray(), y_test.values, verbose=0)"
      ],
      "execution_count": 53,
      "outputs": [
        {
          "output_type": "execute_result",
          "data": {
            "text/plain": [
              "[0.63648521900177, 0.7124999761581421]"
            ]
          },
          "metadata": {
            "tags": []
          },
          "execution_count": 53
        }
      ]
    },
    {
      "cell_type": "markdown",
      "metadata": {
        "id": "Djh6rzak-uzo"
      },
      "source": [
        "# 계수 확인"
      ]
    },
    {
      "cell_type": "code",
      "metadata": {
        "id": "ws8biCisgmRF"
      },
      "source": [
        "weights, _ = model.trainable_weights"
      ],
      "execution_count": 55,
      "outputs": []
    },
    {
      "cell_type": "code",
      "metadata": {
        "id": "t-EhdwuB7GdA"
      },
      "source": [
        "import pandas as pd\n",
        "token_weight = pd.DataFrame({'토큰': cv.get_feature_names(), '가중치':weights.numpy().flat})"
      ],
      "execution_count": 56,
      "outputs": []
    },
    {
      "cell_type": "markdown",
      "metadata": {
        "id": "9AM--vS2_Ltl"
      },
      "source": [
        "부정단어를 확인한다."
      ]
    },
    {
      "cell_type": "code",
      "metadata": {
        "colab": {
          "base_uri": "https://localhost:8080/",
          "height": 202
        },
        "id": "MRssiw4B_Kry",
        "outputId": "d0cf35e7-44cf-405c-df83-b7aba0173e2e"
      },
      "source": [
        "token_weight.sort_values('가중치').head()"
      ],
      "execution_count": 57,
      "outputs": [
        {
          "output_type": "execute_result",
          "data": {
            "text/html": [
              "<div>\n",
              "<style scoped>\n",
              "    .dataframe tbody tr th:only-of-type {\n",
              "        vertical-align: middle;\n",
              "    }\n",
              "\n",
              "    .dataframe tbody tr th {\n",
              "        vertical-align: top;\n",
              "    }\n",
              "\n",
              "    .dataframe thead th {\n",
              "        text-align: right;\n",
              "    }\n",
              "</style>\n",
              "<table border=\"1\" class=\"dataframe\">\n",
              "  <thead>\n",
              "    <tr style=\"text-align: right;\">\n",
              "      <th></th>\n",
              "      <th>토큰</th>\n",
              "      <th>가중치</th>\n",
              "    </tr>\n",
              "  </thead>\n",
              "  <tbody>\n",
              "    <tr>\n",
              "      <th>1568</th>\n",
              "      <td>냐</td>\n",
              "      <td>-0.514057</td>\n",
              "    </tr>\n",
              "    <tr>\n",
              "      <th>774</th>\n",
              "      <td>▁쓰레기</td>\n",
              "      <td>-0.457692</td>\n",
              "    </tr>\n",
              "    <tr>\n",
              "      <th>779</th>\n",
              "      <td>▁아까운</td>\n",
              "      <td>-0.434306</td>\n",
              "    </tr>\n",
              "    <tr>\n",
              "      <th>1204</th>\n",
              "      <td>▁최악의</td>\n",
              "      <td>-0.425058</td>\n",
              "    </tr>\n",
              "    <tr>\n",
              "      <th>443</th>\n",
              "      <td>▁돈</td>\n",
              "      <td>-0.414684</td>\n",
              "    </tr>\n",
              "  </tbody>\n",
              "</table>\n",
              "</div>"
            ],
            "text/plain": [
              "        토큰       가중치\n",
              "1568     냐 -0.514057\n",
              "774   ▁쓰레기 -0.457692\n",
              "779   ▁아까운 -0.434306\n",
              "1204  ▁최악의 -0.425058\n",
              "443     ▁돈 -0.414684"
            ]
          },
          "metadata": {
            "tags": []
          },
          "execution_count": 57
        }
      ]
    },
    {
      "cell_type": "markdown",
      "metadata": {
        "id": "bIDKRP0P_Tef"
      },
      "source": [
        "긍정단어를 확인한다."
      ]
    },
    {
      "cell_type": "code",
      "metadata": {
        "colab": {
          "base_uri": "https://localhost:8080/",
          "height": 202
        },
        "id": "KJRCMdVK_R5S",
        "outputId": "9fbbe661-d716-4d95-debd-368f15e79d47"
      },
      "source": [
        "token_weight.sort_values('가중치').tail()"
      ],
      "execution_count": 58,
      "outputs": [
        {
          "output_type": "execute_result",
          "data": {
            "text/html": [
              "<div>\n",
              "<style scoped>\n",
              "    .dataframe tbody tr th:only-of-type {\n",
              "        vertical-align: middle;\n",
              "    }\n",
              "\n",
              "    .dataframe tbody tr th {\n",
              "        vertical-align: top;\n",
              "    }\n",
              "\n",
              "    .dataframe thead th {\n",
              "        text-align: right;\n",
              "    }\n",
              "</style>\n",
              "<table border=\"1\" class=\"dataframe\">\n",
              "  <thead>\n",
              "    <tr style=\"text-align: right;\">\n",
              "      <th></th>\n",
              "      <th>토큰</th>\n",
              "      <th>가중치</th>\n",
              "    </tr>\n",
              "  </thead>\n",
              "  <tbody>\n",
              "    <tr>\n",
              "      <th>1094</th>\n",
              "      <td>▁정말</td>\n",
              "      <td>0.433496</td>\n",
              "    </tr>\n",
              "    <tr>\n",
              "      <th>1</th>\n",
              "      <td>!!</td>\n",
              "      <td>0.475573</td>\n",
              "    </tr>\n",
              "    <tr>\n",
              "      <th>536</th>\n",
              "      <td>▁명작</td>\n",
              "      <td>0.504365</td>\n",
              "    </tr>\n",
              "    <tr>\n",
              "      <th>1202</th>\n",
              "      <td>▁최고의</td>\n",
              "      <td>0.509873</td>\n",
              "    </tr>\n",
              "    <tr>\n",
              "      <th>1201</th>\n",
              "      <td>▁최고</td>\n",
              "      <td>0.581895</td>\n",
              "    </tr>\n",
              "  </tbody>\n",
              "</table>\n",
              "</div>"
            ],
            "text/plain": [
              "        토큰       가중치\n",
              "1094   ▁정말  0.433496\n",
              "1       !!  0.475573\n",
              "536    ▁명작  0.504365\n",
              "1202  ▁최고의  0.509873\n",
              "1201   ▁최고  0.581895"
            ]
          },
          "metadata": {
            "tags": []
          },
          "execution_count": 58
        }
      ]
    },
    {
      "cell_type": "markdown",
      "metadata": {
        "id": "gArU53bI_brJ"
      },
      "source": [
        "# 새로운 데이터에 적용"
      ]
    },
    {
      "cell_type": "markdown",
      "metadata": {
        "id": "RhhddTUH_dpe"
      },
      "source": [
        "새로운 데이터"
      ]
    },
    {
      "cell_type": "code",
      "metadata": {
        "id": "jlIVQo1m_Zwb"
      },
      "source": [
        "new_data = ['뽀로로는 정말 재미있는 영화다.', '이런 영화를 만들다니 감독은 무슨 생각이냐?']"
      ],
      "execution_count": 59,
      "outputs": []
    },
    {
      "cell_type": "markdown",
      "metadata": {
        "id": "-AOYwvne_j7O"
      },
      "source": [
        "토큰화 데이터 불러오기"
      ]
    },
    {
      "cell_type": "code",
      "metadata": {
        "colab": {
          "base_uri": "https://localhost:8080/"
        },
        "id": "Kc_Dnxo8_i2r",
        "outputId": "6a688708-3e20-4c71-ff7e-bad459a540e3"
      },
      "source": [
        "from sentencepiece import SentencePieceProcessor\n",
        "sp = SentencePieceProcessor()\n",
        "sp.Load(\"nsmc.model\")"
      ],
      "execution_count": 62,
      "outputs": [
        {
          "output_type": "execute_result",
          "data": {
            "text/plain": [
              "True"
            ]
          },
          "metadata": {
            "tags": []
          },
          "execution_count": 62
        }
      ]
    },
    {
      "cell_type": "markdown",
      "metadata": {
        "id": "XR16TZ2P_zAm"
      },
      "source": [
        "`cv`를 저장할 때 `.tokenizer`를 비우고 저장하지 않았으므로 다시 설정해준다."
      ]
    },
    {
      "cell_type": "code",
      "metadata": {
        "id": "rq7jv6Zr_rxh"
      },
      "source": [
        "cv.tokenizer = sp.encode_as_pieces"
      ],
      "execution_count": 63,
      "outputs": []
    },
    {
      "cell_type": "markdown",
      "metadata": {
        "id": "lS4-iZrS_7ST"
      },
      "source": [
        "새로운 데이터를 TDM으로 변환한다. 이미 TDM의 형식이 정해져있으므로 `fit_transform` 대신 `transform`을 사용한다."
      ]
    },
    {
      "cell_type": "code",
      "metadata": {
        "id": "QuDUwugq_6c1"
      },
      "source": [
        "x_new = cv.transform(new_data)"
      ],
      "execution_count": 64,
      "outputs": []
    },
    {
      "cell_type": "markdown",
      "metadata": {
        "id": "5M7-pEY4AGjF"
      },
      "source": [
        "새로운 데이터에서 각 리뷰가 긍정(`1`)일 확률을 예측한다."
      ]
    },
    {
      "cell_type": "code",
      "metadata": {
        "colab": {
          "base_uri": "https://localhost:8080/"
        },
        "id": "Kx3_FR4zAFju",
        "outputId": "90cce02a-9d73-46cf-feec-4371d721ed30"
      },
      "source": [
        "model.predict(x_new.toarray())"
      ],
      "execution_count": 65,
      "outputs": [
        {
          "output_type": "execute_result",
          "data": {
            "text/plain": [
              "array([[0.7371192 ],\n",
              "       [0.33626053]], dtype=float32)"
            ]
          },
          "metadata": {
            "tags": []
          },
          "execution_count": 65
        }
      ]
    },
    {
      "cell_type": "code",
      "metadata": {
        "colab": {
          "base_uri": "https://localhost:8080/"
        },
        "id": "EVkmOHm0AMYh",
        "outputId": "89380ce9-0620-41e7-9f83-edbbe0745726"
      },
      "source": [
        "model.predict_classes(x_new.toarray())"
      ],
      "execution_count": 66,
      "outputs": [
        {
          "output_type": "stream",
          "text": [
            "WARNING:tensorflow:From <ipython-input-66-b0fc39ebf170>:1: Sequential.predict_classes (from tensorflow.python.keras.engine.sequential) is deprecated and will be removed after 2021-01-01.\n",
            "Instructions for updating:\n",
            "Please use instead:* `np.argmax(model.predict(x), axis=-1)`,   if your model does multi-class classification   (e.g. if it uses a `softmax` last-layer activation).* `(model.predict(x) > 0.5).astype(\"int32\")`,   if your model does binary classification   (e.g. if it uses a `sigmoid` last-layer activation).\n"
          ],
          "name": "stdout"
        },
        {
          "output_type": "execute_result",
          "data": {
            "text/plain": [
              "array([[1],\n",
              "       [0]], dtype=int32)"
            ]
          },
          "metadata": {
            "tags": []
          },
          "execution_count": 66
        }
      ]
    }
  ]
}