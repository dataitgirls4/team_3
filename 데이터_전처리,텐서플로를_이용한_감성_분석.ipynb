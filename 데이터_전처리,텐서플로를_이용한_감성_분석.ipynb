{
  "nbformat": 4,
  "nbformat_minor": 0,
  "metadata": {
    "colab": {
      "name": "데이터 전처리,텐서플로를 이용한 감성 분석.ipynb",
      "provenance": [],
      "collapsed_sections": [],
      "authorship_tag": "ABX9TyPztr32SHwknBEa8d127Juc",
      "include_colab_link": true
    },
    "kernelspec": {
      "name": "python3",
      "display_name": "Python 3"
    }
  },
  "cells": [
    {
      "cell_type": "markdown",
      "metadata": {
        "id": "view-in-github",
        "colab_type": "text"
      },
      "source": [
        "<a href=\"https://colab.research.google.com/github/dataitgirls4/team_3/blob/miree/%EB%8D%B0%EC%9D%B4%ED%84%B0_%EC%A0%84%EC%B2%98%EB%A6%AC%2C%ED%85%90%EC%84%9C%ED%94%8C%EB%A1%9C%EB%A5%BC_%EC%9D%B4%EC%9A%A9%ED%95%9C_%EA%B0%90%EC%84%B1_%EB%B6%84%EC%84%9D.ipynb\" target=\"_parent\"><img src=\"https://colab.research.google.com/assets/colab-badge.svg\" alt=\"Open In Colab\"/></a>"
      ]
    },
    {
      "cell_type": "markdown",
      "metadata": {
        "id": "n0DodlWfzhA8"
      },
      "source": [
        "# 데이터열기"
      ]
    },
    {
      "cell_type": "code",
      "metadata": {
        "id": "1dW3M_KGzVt2"
      },
      "source": [
        "import pandas as pd\n",
        "df = pd.read_csv('https://github.com/euphoris/datasets/raw/master/imdb.zip')"
      ],
      "execution_count": 2,
      "outputs": []
    },
    {
      "cell_type": "code",
      "metadata": {
        "colab": {
          "base_uri": "https://localhost:8080/",
          "height": 202
        },
        "id": "0A-lHa25zocl",
        "outputId": "580f086b-60e2-4155-df23-c5d02ec72e8b"
      },
      "source": [
        "df.head()\n",
        "#sentiment가 0이면 부정, 1이면 긍정"
      ],
      "execution_count": 3,
      "outputs": [
        {
          "output_type": "execute_result",
          "data": {
            "text/html": [
              "<div>\n",
              "<style scoped>\n",
              "    .dataframe tbody tr th:only-of-type {\n",
              "        vertical-align: middle;\n",
              "    }\n",
              "\n",
              "    .dataframe tbody tr th {\n",
              "        vertical-align: top;\n",
              "    }\n",
              "\n",
              "    .dataframe thead th {\n",
              "        text-align: right;\n",
              "    }\n",
              "</style>\n",
              "<table border=\"1\" class=\"dataframe\">\n",
              "  <thead>\n",
              "    <tr style=\"text-align: right;\">\n",
              "      <th></th>\n",
              "      <th>review</th>\n",
              "      <th>sentiment</th>\n",
              "    </tr>\n",
              "  </thead>\n",
              "  <tbody>\n",
              "    <tr>\n",
              "      <th>0</th>\n",
              "      <td>A very, very, very slow-moving, aimless movie ...</td>\n",
              "      <td>0</td>\n",
              "    </tr>\n",
              "    <tr>\n",
              "      <th>1</th>\n",
              "      <td>Not sure who was more lost - the flat characte...</td>\n",
              "      <td>0</td>\n",
              "    </tr>\n",
              "    <tr>\n",
              "      <th>2</th>\n",
              "      <td>Attempting artiness with black &amp; white and cle...</td>\n",
              "      <td>0</td>\n",
              "    </tr>\n",
              "    <tr>\n",
              "      <th>3</th>\n",
              "      <td>Very little music or anything to speak of.</td>\n",
              "      <td>0</td>\n",
              "    </tr>\n",
              "    <tr>\n",
              "      <th>4</th>\n",
              "      <td>The best scene in the movie was when Gerardo i...</td>\n",
              "      <td>1</td>\n",
              "    </tr>\n",
              "  </tbody>\n",
              "</table>\n",
              "</div>"
            ],
            "text/plain": [
              "                                              review  sentiment\n",
              "0  A very, very, very slow-moving, aimless movie ...          0\n",
              "1  Not sure who was more lost - the flat characte...          0\n",
              "2  Attempting artiness with black & white and cle...          0\n",
              "3         Very little music or anything to speak of.          0\n",
              "4  The best scene in the movie was when Gerardo i...          1"
            ]
          },
          "metadata": {
            "tags": []
          },
          "execution_count": 3
        }
      ]
    },
    {
      "cell_type": "markdown",
      "metadata": {
        "id": "1AYHA9L2zuCr"
      },
      "source": [
        "# 단어 문서 행렬 만들기"
      ]
    },
    {
      "cell_type": "markdown",
      "metadata": {
        "id": "cu06nZQFzxYI"
      },
      "source": [
        "`CountVectorizer`를 사용하여 단어 문서 행렬을 만듭니다."
      ]
    },
    {
      "cell_type": "code",
      "metadata": {
        "id": "Tlk73Aaizx3V"
      },
      "source": [
        "from sklearn.feature_extraction.text import CountVectorizer"
      ],
      "execution_count": 4,
      "outputs": []
    },
    {
      "cell_type": "markdown",
      "metadata": {
        "id": "WFx_wXbQz2rY"
      },
      "source": [
        "- `max_features = 1000` : 피처의 개수는 1000개로 설정합니다.\n",
        "- 영어 데이터이므로 `stop_words='english'`를 통해 관사 등을 제거합니다."
      ]
    },
    {
      "cell_type": "code",
      "metadata": {
        "id": "eAX5qzLUz0jD"
      },
      "source": [
        "cv = CountVectorizer(max_features=1000, stop_words='english')"
      ],
      "execution_count": 5,
      "outputs": []
    },
    {
      "cell_type": "code",
      "metadata": {
        "id": "mhp5osgDz4g6"
      },
      "source": [
        "#단어별로 분할\n",
        "tdm = cv.fit_transform(df['review'])"
      ],
      "execution_count": 6,
      "outputs": []
    },
    {
      "cell_type": "markdown",
      "metadata": {
        "id": "oOraSx_5z8NY"
      },
      "source": [
        "# 데이터 분할"
      ]
    },
    {
      "cell_type": "markdown",
      "metadata": {
        "id": "CJyYlif8z-Zh"
      },
      "source": [
        "`review`로 만든 단어 문서 행렬을 `x`로 `sentiment`를 `y`에 할당한다."
      ]
    },
    {
      "cell_type": "code",
      "metadata": {
        "id": "2kbueOc1z6B7"
      },
      "source": [
        "x=tdm\n",
        "y=df['sentiment']"
      ],
      "execution_count": 7,
      "outputs": []
    },
    {
      "cell_type": "markdown",
      "metadata": {
        "id": "LP9D-oYp0FYl"
      },
      "source": [
        "`x`와 `y`를 훈련용과 테스트용으로 분할한다. -> 나누지 않으면 훈련용이 과대평가될 수 있다.\n",
        "- `test_size=0.2` : 20%를 무작위로 테스트용 데이터로 할당한다.\n",
        "- `random_state` : 데이터를 할당할 때 생성할 난수의 씨앗값을 정한다. 재현가능한 결과를 위하여 하나의 숫자(예:42)로 고정한다."
      ]
    },
    {
      "cell_type": "code",
      "metadata": {
        "id": "d3e8fBcz0AJq"
      },
      "source": [
        "from sklearn.model_selection import train_test_split\n",
        "x_train, x_test, y_train, y_test = train_test_split(x, y, test_size=0.2, random_state=42)"
      ],
      "execution_count": 8,
      "outputs": []
    },
    {
      "cell_type": "markdown",
      "metadata": {
        "id": "B97Saa7Z0MI-"
      },
      "source": [
        "`x_train` 은 `x`의 훈련용 데이터이다."
      ]
    },
    {
      "cell_type": "code",
      "metadata": {
        "colab": {
          "base_uri": "https://localhost:8080/"
        },
        "id": "vmVunc7e0Hv9",
        "outputId": "4b54a062-c92c-4fa5-a48b-48fb0a79a74d"
      },
      "source": [
        "x_train.shape\n",
        "#review의 개수가 800개"
      ],
      "execution_count": 9,
      "outputs": [
        {
          "output_type": "execute_result",
          "data": {
            "text/plain": [
              "(800, 1000)"
            ]
          },
          "metadata": {
            "tags": []
          },
          "execution_count": 9
        }
      ]
    },
    {
      "cell_type": "markdown",
      "metadata": {
        "id": "H4U2povG0QKO"
      },
      "source": [
        "`x_test`는 `x`의 테스트용 데이터이다."
      ]
    },
    {
      "cell_type": "code",
      "metadata": {
        "colab": {
          "base_uri": "https://localhost:8080/"
        },
        "id": "vwI7ZSef0Obq",
        "outputId": "48d24a9f-3841-4a1e-c141-734f6f693bd1"
      },
      "source": [
        "x_test"
      ],
      "execution_count": 10,
      "outputs": [
        {
          "output_type": "execute_result",
          "data": {
            "text/plain": [
              "<200x1000 sparse matrix of type '<class 'numpy.int64'>'\n",
              "\twith 928 stored elements in Compressed Sparse Row format>"
            ]
          },
          "metadata": {
            "tags": []
          },
          "execution_count": 10
        }
      ]
    },
    {
      "cell_type": "markdown",
      "metadata": {
        "id": "Xlh68HiU0TaR"
      },
      "source": [
        "`y_train`은 `y`의 훈련용 데이터이다."
      ]
    },
    {
      "cell_type": "code",
      "metadata": {
        "colab": {
          "base_uri": "https://localhost:8080/"
        },
        "id": "JLjJRNGF0R86",
        "outputId": "6ce6fecd-c216-4fbb-89ef-2a6a0f500129"
      },
      "source": [
        "y_train"
      ],
      "execution_count": 11,
      "outputs": [
        {
          "output_type": "execute_result",
          "data": {
            "text/plain": [
              "29     1\n",
              "535    0\n",
              "695    1\n",
              "557    0\n",
              "836    0\n",
              "      ..\n",
              "106    1\n",
              "270    1\n",
              "860    1\n",
              "435    1\n",
              "102    0\n",
              "Name: sentiment, Length: 800, dtype: int64"
            ]
          },
          "metadata": {
            "tags": []
          },
          "execution_count": 11
        }
      ]
    },
    {
      "cell_type": "markdown",
      "metadata": {
        "id": "KEJjRExH0aSD"
      },
      "source": [
        "`y_test`는 `y`의 테스트용 데이터이다."
      ]
    },
    {
      "cell_type": "code",
      "metadata": {
        "colab": {
          "base_uri": "https://localhost:8080/"
        },
        "id": "SjEdT3iq0WDn",
        "outputId": "7c8693c1-cf91-4979-b6a6-85777624611c"
      },
      "source": [
        "y_test"
      ],
      "execution_count": 12,
      "outputs": [
        {
          "output_type": "execute_result",
          "data": {
            "text/plain": [
              "521    0\n",
              "737    0\n",
              "740    1\n",
              "660    1\n",
              "411    1\n",
              "      ..\n",
              "408    1\n",
              "332    0\n",
              "208    0\n",
              "613    1\n",
              "78     1\n",
              "Name: sentiment, Length: 200, dtype: int64"
            ]
          },
          "metadata": {
            "tags": []
          },
          "execution_count": 12
        }
      ]
    },
    {
      "cell_type": "markdown",
      "metadata": {
        "id": "O3jOemxx0fGg"
      },
      "source": [
        "# 저장"
      ]
    },
    {
      "cell_type": "markdown",
      "metadata": {
        "id": "0--r1JTE0hPq"
      },
      "source": [
        "이후의 분석에 사용하기 위해 전처리된 데이터를 저장한다."
      ]
    },
    {
      "cell_type": "code",
      "metadata": {
        "colab": {
          "base_uri": "https://localhost:8080/"
        },
        "id": "eVI3eH7O0cZW",
        "outputId": "b3104c9e-9972-4ec5-c141-bf2fc7c6ea0c"
      },
      "source": [
        "import joblib\n",
        "joblib.dump((cv, x_train, x_test, y_train, y_test), 'imdb.pkl')"
      ],
      "execution_count": 13,
      "outputs": [
        {
          "output_type": "execute_result",
          "data": {
            "text/plain": [
              "['imdb.pkl']"
            ]
          },
          "metadata": {
            "tags": []
          },
          "execution_count": 13
        }
      ]
    },
    {
      "cell_type": "code",
      "metadata": {
        "id": "W0VG9ilN0jYe"
      },
      "source": [
        "#cv저장이유: 단어 목록을 담아놔야 참고를 할 수 있기 때문에"
      ],
      "execution_count": 14,
      "outputs": []
    },
    {
      "cell_type": "markdown",
      "metadata": {
        "id": "-A-WmKHV0nBm"
      },
      "source": [
        "# 텐서플로 설치"
      ]
    },
    {
      "cell_type": "markdown",
      "metadata": {
        "id": "4bqNOufq0pWz"
      },
      "source": [
        "Tensorflow는 딥러닝 등 머신러닝을 위한 라이브러리이다. colab에서는 설치가 되어 있으므로 추가 설치가 필요없다. 아나콘다에서는 주피터 노트북에 다음과 같이 입력한다. (또는 !를 제외하고 명령창에 입력한다)"
      ]
    },
    {
      "cell_type": "code",
      "metadata": {
        "colab": {
          "base_uri": "https://localhost:8080/"
        },
        "id": "CE6cOSEv0lIO",
        "outputId": "d1d1a420-3462-49a4-f927-8ba464081d66"
      },
      "source": [
        "!pip install tensorflow"
      ],
      "execution_count": 15,
      "outputs": [
        {
          "output_type": "stream",
          "text": [
            "Requirement already satisfied: tensorflow in /usr/local/lib/python3.6/dist-packages (2.3.0)\n",
            "Requirement already satisfied: google-pasta>=0.1.8 in /usr/local/lib/python3.6/dist-packages (from tensorflow) (0.2.0)\n",
            "Requirement already satisfied: tensorboard<3,>=2.3.0 in /usr/local/lib/python3.6/dist-packages (from tensorflow) (2.3.0)\n",
            "Requirement already satisfied: wrapt>=1.11.1 in /usr/local/lib/python3.6/dist-packages (from tensorflow) (1.12.1)\n",
            "Requirement already satisfied: absl-py>=0.7.0 in /usr/local/lib/python3.6/dist-packages (from tensorflow) (0.10.0)\n",
            "Requirement already satisfied: astunparse==1.6.3 in /usr/local/lib/python3.6/dist-packages (from tensorflow) (1.6.3)\n",
            "Requirement already satisfied: termcolor>=1.1.0 in /usr/local/lib/python3.6/dist-packages (from tensorflow) (1.1.0)\n",
            "Requirement already satisfied: wheel>=0.26 in /usr/local/lib/python3.6/dist-packages (from tensorflow) (0.35.1)\n",
            "Requirement already satisfied: six>=1.12.0 in /usr/local/lib/python3.6/dist-packages (from tensorflow) (1.15.0)\n",
            "Requirement already satisfied: grpcio>=1.8.6 in /usr/local/lib/python3.6/dist-packages (from tensorflow) (1.33.2)\n",
            "Requirement already satisfied: keras-preprocessing<1.2,>=1.1.1 in /usr/local/lib/python3.6/dist-packages (from tensorflow) (1.1.2)\n",
            "Requirement already satisfied: numpy<1.19.0,>=1.16.0 in /usr/local/lib/python3.6/dist-packages (from tensorflow) (1.18.5)\n",
            "Requirement already satisfied: opt-einsum>=2.3.2 in /usr/local/lib/python3.6/dist-packages (from tensorflow) (3.3.0)\n",
            "Requirement already satisfied: tensorflow-estimator<2.4.0,>=2.3.0 in /usr/local/lib/python3.6/dist-packages (from tensorflow) (2.3.0)\n",
            "Requirement already satisfied: scipy==1.4.1 in /usr/local/lib/python3.6/dist-packages (from tensorflow) (1.4.1)\n",
            "Requirement already satisfied: gast==0.3.3 in /usr/local/lib/python3.6/dist-packages (from tensorflow) (0.3.3)\n",
            "Requirement already satisfied: h5py<2.11.0,>=2.10.0 in /usr/local/lib/python3.6/dist-packages (from tensorflow) (2.10.0)\n",
            "Requirement already satisfied: protobuf>=3.9.2 in /usr/local/lib/python3.6/dist-packages (from tensorflow) (3.12.4)\n",
            "Requirement already satisfied: google-auth<2,>=1.6.3 in /usr/local/lib/python3.6/dist-packages (from tensorboard<3,>=2.3.0->tensorflow) (1.17.2)\n",
            "Requirement already satisfied: setuptools>=41.0.0 in /usr/local/lib/python3.6/dist-packages (from tensorboard<3,>=2.3.0->tensorflow) (50.3.2)\n",
            "Requirement already satisfied: markdown>=2.6.8 in /usr/local/lib/python3.6/dist-packages (from tensorboard<3,>=2.3.0->tensorflow) (3.3.3)\n",
            "Requirement already satisfied: requests<3,>=2.21.0 in /usr/local/lib/python3.6/dist-packages (from tensorboard<3,>=2.3.0->tensorflow) (2.23.0)\n",
            "Requirement already satisfied: google-auth-oauthlib<0.5,>=0.4.1 in /usr/local/lib/python3.6/dist-packages (from tensorboard<3,>=2.3.0->tensorflow) (0.4.2)\n",
            "Requirement already satisfied: tensorboard-plugin-wit>=1.6.0 in /usr/local/lib/python3.6/dist-packages (from tensorboard<3,>=2.3.0->tensorflow) (1.7.0)\n",
            "Requirement already satisfied: werkzeug>=0.11.15 in /usr/local/lib/python3.6/dist-packages (from tensorboard<3,>=2.3.0->tensorflow) (1.0.1)\n",
            "Requirement already satisfied: cachetools<5.0,>=2.0.0 in /usr/local/lib/python3.6/dist-packages (from google-auth<2,>=1.6.3->tensorboard<3,>=2.3.0->tensorflow) (4.1.1)\n",
            "Requirement already satisfied: rsa<5,>=3.1.4; python_version >= \"3\" in /usr/local/lib/python3.6/dist-packages (from google-auth<2,>=1.6.3->tensorboard<3,>=2.3.0->tensorflow) (4.6)\n",
            "Requirement already satisfied: pyasn1-modules>=0.2.1 in /usr/local/lib/python3.6/dist-packages (from google-auth<2,>=1.6.3->tensorboard<3,>=2.3.0->tensorflow) (0.2.8)\n",
            "Requirement already satisfied: importlib-metadata; python_version < \"3.8\" in /usr/local/lib/python3.6/dist-packages (from markdown>=2.6.8->tensorboard<3,>=2.3.0->tensorflow) (2.0.0)\n",
            "Requirement already satisfied: idna<3,>=2.5 in /usr/local/lib/python3.6/dist-packages (from requests<3,>=2.21.0->tensorboard<3,>=2.3.0->tensorflow) (2.10)\n",
            "Requirement already satisfied: certifi>=2017.4.17 in /usr/local/lib/python3.6/dist-packages (from requests<3,>=2.21.0->tensorboard<3,>=2.3.0->tensorflow) (2020.11.8)\n",
            "Requirement already satisfied: chardet<4,>=3.0.2 in /usr/local/lib/python3.6/dist-packages (from requests<3,>=2.21.0->tensorboard<3,>=2.3.0->tensorflow) (3.0.4)\n",
            "Requirement already satisfied: urllib3!=1.25.0,!=1.25.1,<1.26,>=1.21.1 in /usr/local/lib/python3.6/dist-packages (from requests<3,>=2.21.0->tensorboard<3,>=2.3.0->tensorflow) (1.24.3)\n",
            "Requirement already satisfied: requests-oauthlib>=0.7.0 in /usr/local/lib/python3.6/dist-packages (from google-auth-oauthlib<0.5,>=0.4.1->tensorboard<3,>=2.3.0->tensorflow) (1.3.0)\n",
            "Requirement already satisfied: pyasn1>=0.1.3 in /usr/local/lib/python3.6/dist-packages (from rsa<5,>=3.1.4; python_version >= \"3\"->google-auth<2,>=1.6.3->tensorboard<3,>=2.3.0->tensorflow) (0.4.8)\n",
            "Requirement already satisfied: zipp>=0.5 in /usr/local/lib/python3.6/dist-packages (from importlib-metadata; python_version < \"3.8\"->markdown>=2.6.8->tensorboard<3,>=2.3.0->tensorflow) (3.4.0)\n",
            "Requirement already satisfied: oauthlib>=3.0.0 in /usr/local/lib/python3.6/dist-packages (from requests-oauthlib>=0.7.0->google-auth-oauthlib<0.5,>=0.4.1->tensorboard<3,>=2.3.0->tensorflow) (3.1.0)\n"
          ],
          "name": "stdout"
        }
      ]
    },
    {
      "cell_type": "markdown",
      "metadata": {
        "id": "nHBlHLis0t98"
      },
      "source": [
        "# 텐서플로를 이용한 감성 분석 실습"
      ]
    },
    {
      "cell_type": "code",
      "metadata": {
        "id": "s8Q5fahj0xIU"
      },
      "source": [
        "#데이터불러오기\n",
        "cv, x_train, x_test, y_train, y_test = joblib.load('imdb.pkl')"
      ],
      "execution_count": 16,
      "outputs": []
    },
    {
      "cell_type": "markdown",
      "metadata": {
        "id": "djO6uu2t01uN"
      },
      "source": [
        "# 로지스틱 회귀분석"
      ]
    },
    {
      "cell_type": "code",
      "metadata": {
        "id": "8vTWicO30rmg"
      },
      "source": [
        "import tensorflow as tf"
      ],
      "execution_count": 17,
      "outputs": []
    },
    {
      "cell_type": "code",
      "metadata": {
        "id": "THsclHgt03oh"
      },
      "source": [
        "model = tf.keras.models.Sequential()"
      ],
      "execution_count": 18,
      "outputs": []
    },
    {
      "cell_type": "code",
      "metadata": {
        "id": "KeXw2tCL1lDP"
      },
      "source": [
        "model.add(tf.keras.layers.Dense(\n",
        "    1,  #출력은 긍정(1)/부정(0) 하나\n",
        "    input_shape = (1000,),  #입력은 단어 수\n",
        "    activation='sigmoid'\n",
        "))"
      ],
      "execution_count": 19,
      "outputs": []
    },
    {
      "cell_type": "markdown",
      "metadata": {
        "id": "GGZ-fmtS11cv"
      },
      "source": [
        "모형 요약"
      ]
    },
    {
      "cell_type": "code",
      "metadata": {
        "colab": {
          "base_uri": "https://localhost:8080/"
        },
        "id": "jYECebhj1yMf",
        "outputId": "e45123e3-d7dd-4eb3-f1e2-bfc775ffa880"
      },
      "source": [
        "model.summary()"
      ],
      "execution_count": 20,
      "outputs": [
        {
          "output_type": "stream",
          "text": [
            "Model: \"sequential\"\n",
            "_________________________________________________________________\n",
            "Layer (type)                 Output Shape              Param #   \n",
            "=================================================================\n",
            "dense (Dense)                (None, 1)                 1001      \n",
            "=================================================================\n",
            "Total params: 1,001\n",
            "Trainable params: 1,001\n",
            "Non-trainable params: 0\n",
            "_________________________________________________________________\n"
          ],
          "name": "stdout"
        }
      ]
    },
    {
      "cell_type": "markdown",
      "metadata": {
        "id": "zkIL8CfL14Me"
      },
      "source": [
        "- 학습 알고리즘(`optimizer`)는 경사하강법의 일종인 `adam`\n",
        "- 손실함수(`loss`)는 교차엔트로피(`binary_crossentropy`)\n",
        "- 보조적인 지표로 정확도(`accuracy`)를 사용한다. 정확도란 전체 사례 중 맞은 사례의 비율이다."
      ]
    },
    {
      "cell_type": "code",
      "metadata": {
        "id": "04gmWYC010N6"
      },
      "source": [
        "model.compile(optimizer='adam', loss='binary_crossentropy', metrics=['accuracy'])"
      ],
      "execution_count": 21,
      "outputs": []
    },
    {
      "cell_type": "markdown",
      "metadata": {
        "id": "Mag72P4G2-NU"
      },
      "source": [
        "# 모형학습"
      ]
    },
    {
      "cell_type": "markdown",
      "metadata": {
        "id": "L8dIfEr33H4-"
      },
      "source": [
        "- `batch_size`는 한 번에 데이터를 입력하는 크기로 여기서는 한 번에 32개의 데이터를 입력한다.\n",
        "- 모든 데이터를 한 번 입력하는 것을 1 에포크(epoch)라고 한다. 아래는 `epochs=10`이므로 총 10에포크를 진행한다."
      ]
    },
    {
      "cell_type": "code",
      "metadata": {
        "colab": {
          "base_uri": "https://localhost:8080/"
        },
        "id": "k7kJcFh-29Ni",
        "outputId": "6faeb1cf-1c87-418a-92a2-bed7d244adc7"
      },
      "source": [
        "model.fit(x_train.toarray(), y_train.values, batch_size=32, epochs=10)"
      ],
      "execution_count": 22,
      "outputs": [
        {
          "output_type": "stream",
          "text": [
            "Epoch 1/10\n",
            "25/25 [==============================] - 0s 1ms/step - loss: 0.6892 - accuracy: 0.5337\n",
            "Epoch 2/10\n",
            "25/25 [==============================] - 0s 1ms/step - loss: 0.6778 - accuracy: 0.6175\n",
            "Epoch 3/10\n",
            "25/25 [==============================] - 0s 1ms/step - loss: 0.6671 - accuracy: 0.6862\n",
            "Epoch 4/10\n",
            "25/25 [==============================] - 0s 1ms/step - loss: 0.6568 - accuracy: 0.7325\n",
            "Epoch 5/10\n",
            "25/25 [==============================] - 0s 1ms/step - loss: 0.6468 - accuracy: 0.7688\n",
            "Epoch 6/10\n",
            "25/25 [==============================] - 0s 1ms/step - loss: 0.6368 - accuracy: 0.7962\n",
            "Epoch 7/10\n",
            "25/25 [==============================] - 0s 1ms/step - loss: 0.6273 - accuracy: 0.8200\n",
            "Epoch 8/10\n",
            "25/25 [==============================] - 0s 1ms/step - loss: 0.6181 - accuracy: 0.8438\n",
            "Epoch 9/10\n",
            "25/25 [==============================] - 0s 1ms/step - loss: 0.6092 - accuracy: 0.8612\n",
            "Epoch 10/10\n",
            "25/25 [==============================] - 0s 1ms/step - loss: 0.6006 - accuracy: 0.8687\n"
          ],
          "name": "stdout"
        },
        {
          "output_type": "execute_result",
          "data": {
            "text/plain": [
              "<tensorflow.python.keras.callbacks.History at 0x7fc38e745a58>"
            ]
          },
          "metadata": {
            "tags": []
          },
          "execution_count": 22
        }
      ]
    },
    {
      "cell_type": "markdown",
      "metadata": {
        "id": "NcY9AVPq3lQt"
      },
      "source": [
        "각 에포크마다 손실(`loss`)가 감소하고, 그에 따라 정확도(`accuracy`)가 증가하는 것을 볼 수 있다.\n",
        "\n",
        "`ValueError: A Scipy sparse matrix was passed to a model that expects dense inputs. Please densify your inputs first, such as calling x.toarray()`와 같은 에러가 발생할 수 있다. 이때는 `x_train`을 `x_train.toarray()`로 바꿔준다."
      ]
    },
    {
      "cell_type": "markdown",
      "metadata": {
        "id": "-Fn7nntk3uPP"
      },
      "source": [
        "# 모형 평가"
      ]
    },
    {
      "cell_type": "markdown",
      "metadata": {
        "id": "sa8Csqt43v1O"
      },
      "source": [
        "테스트용 데이터로 모형을 평가한다.\n",
        "\n"
      ]
    },
    {
      "cell_type": "code",
      "metadata": {
        "colab": {
          "base_uri": "https://localhost:8080/"
        },
        "id": "dCbM2sor3hyv",
        "outputId": "c5d805e0-ca1a-43f0-c3dd-ca509127593f"
      },
      "source": [
        "model.evaluate(x_test.toarray(), y_test.values, verbose=0)\n"
      ],
      "execution_count": 23,
      "outputs": [
        {
          "output_type": "execute_result",
          "data": {
            "text/plain": [
              "[0.649187445640564, 0.7400000095367432]"
            ]
          },
          "metadata": {
            "tags": []
          },
          "execution_count": 23
        }
      ]
    },
    {
      "cell_type": "markdown",
      "metadata": {
        "id": "OjenfG5l3y53"
      },
      "source": [
        "훈련 때보다 테스트에서 손실은 높고, 정확도는 낮다. 이를 통해 과적합이 발생하였음을 알 수 있다.\n",
        "\n"
      ]
    },
    {
      "cell_type": "markdown",
      "metadata": {
        "id": "teTGVgD030ey"
      },
      "source": [
        "# 모형 저장\n"
      ]
    },
    {
      "cell_type": "code",
      "metadata": {
        "colab": {
          "base_uri": "https://localhost:8080/"
        },
        "id": "bC0snbGW3x1n",
        "outputId": "3080400f-b0c3-4daf-e196-663de08e524b"
      },
      "source": [
        "model.save('imdb-sentiment.krs')\n"
      ],
      "execution_count": 24,
      "outputs": [
        {
          "output_type": "stream",
          "text": [
            "WARNING:tensorflow:From /usr/local/lib/python3.6/dist-packages/tensorflow/python/training/tracking/tracking.py:111: Model.state_updates (from tensorflow.python.keras.engine.training) is deprecated and will be removed in a future version.\n",
            "Instructions for updating:\n",
            "This property should not be used in TensorFlow 2.0, as updates are applied automatically.\n",
            "WARNING:tensorflow:From /usr/local/lib/python3.6/dist-packages/tensorflow/python/training/tracking/tracking.py:111: Layer.updates (from tensorflow.python.keras.engine.base_layer) is deprecated and will be removed in a future version.\n",
            "Instructions for updating:\n",
            "This property should not be used in TensorFlow 2.0, as updates are applied automatically.\n",
            "INFO:tensorflow:Assets written to: imdb-sentiment.krs/assets\n"
          ],
          "name": "stdout"
        }
      ]
    },
    {
      "cell_type": "code",
      "metadata": {
        "id": "r_u2_1Fk32K6"
      },
      "source": [
        ""
      ],
      "execution_count": null,
      "outputs": []
    }
  ]
}