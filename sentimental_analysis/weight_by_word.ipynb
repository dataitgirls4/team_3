{
 "cells": [
  {
   "cell_type": "markdown",
   "metadata": {
    "colab_type": "text",
    "id": "view-in-github"
   },
   "source": [
    "<a href=\"https://colab.research.google.com/github/dataitgirls4/team_3/blob/miree/%EB%8B%A8%EC%96%B4%EB%B3%84_%EA%B0%80%EC%A4%91%EC%B9%98.ipynb\" target=\"_parent\"><img src=\"https://colab.research.google.com/assets/colab-badge.svg\" alt=\"Open In Colab\"/></a>"
   ]
  },
  {
   "cell_type": "markdown",
   "metadata": {
    "id": "jE-qwa2S4J_c"
   },
   "source": [
    "# 데이터와 모형 불러오기"
   ]
  },
  {
   "cell_type": "code",
   "execution_count": 14,
   "metadata": {
    "id": "gIdl8D15PO-t"
   },
   "outputs": [],
   "source": [
    "import pandas as pd\n",
    "df = pd.read_csv('https://github.com/euphoris/datasets/raw/master/imdb.zip')"
   ]
  },
  {
   "cell_type": "code",
   "execution_count": 15,
   "metadata": {
    "id": "lpiDKcaPPbsC"
   },
   "outputs": [],
   "source": [
    "from sklearn.feature_extraction.text import CountVectorizer"
   ]
  },
  {
   "cell_type": "code",
   "execution_count": 16,
   "metadata": {
    "id": "MXtIljCtPc1D"
   },
   "outputs": [],
   "source": [
    "cv = CountVectorizer(max_features=1000, stop_words='english')"
   ]
  },
  {
   "cell_type": "code",
   "execution_count": 17,
   "metadata": {
    "id": "wgYNDUL7Pfus"
   },
   "outputs": [],
   "source": [
    "tdm = cv.fit_transform(df['review'])"
   ]
  },
  {
   "cell_type": "code",
   "execution_count": 18,
   "metadata": {
    "id": "1E5KqJstPiDe"
   },
   "outputs": [],
   "source": [
    "x=tdm\n",
    "y=df['sentiment']"
   ]
  },
  {
   "cell_type": "code",
   "execution_count": 19,
   "metadata": {
    "id": "7fyqYGg8PrNr"
   },
   "outputs": [],
   "source": [
    "from sklearn.model_selection import train_test_split\n",
    "x_train, x_test, y_train, y_test = train_test_split(x, y, test_size=0.2, random_state=42)"
   ]
  },
  {
   "cell_type": "code",
   "execution_count": 20,
   "metadata": {
    "colab": {
     "base_uri": "https://localhost:8080/"
    },
    "id": "AAihGHsG4Pz0",
    "outputId": "cfcb6fe5-662d-406c-8b17-639f8c71d311"
   },
   "outputs": [
    {
     "data": {
      "text/plain": [
       "['imdb.pkl']"
      ]
     },
     "execution_count": 20,
     "metadata": {
      "tags": []
     },
     "output_type": "execute_result"
    }
   ],
   "source": [
    "import joblib\n",
    "joblib.dump((cv, x_train, x_test, y_train, y_test), 'imdb.pkl')"
   ]
  },
  {
   "cell_type": "code",
   "execution_count": 21,
   "metadata": {
    "id": "V6nhebVH4RRE"
   },
   "outputs": [],
   "source": [
    "cv, *_ = joblib.load('imdb.pkl')"
   ]
  },
  {
   "cell_type": "code",
   "execution_count": 22,
   "metadata": {
    "id": "RSi_fEl04Uyc"
   },
   "outputs": [],
   "source": [
    "import tensorflow as tf"
   ]
  },
  {
   "cell_type": "code",
   "execution_count": 24,
   "metadata": {
    "id": "xcxlSOKiQkNL"
   },
   "outputs": [],
   "source": [
    "model = tf.keras.models.Sequential()"
   ]
  },
  {
   "cell_type": "code",
   "execution_count": 25,
   "metadata": {
    "id": "UFfYzzLKQmmv"
   },
   "outputs": [],
   "source": [
    "model.add(tf.keras.layers.Dense(\n",
    "    1,\n",
    "    input_shape = (1000,),\n",
    "    activation='sigmoid'\n",
    "))"
   ]
  },
  {
   "cell_type": "code",
   "execution_count": 26,
   "metadata": {
    "id": "KEZ7dfznQ1Ts"
   },
   "outputs": [],
   "source": [
    "model.compile(optimizer='adam', loss='binary_crossentropy', metrics=['accuracy'])"
   ]
  },
  {
   "cell_type": "code",
   "execution_count": 27,
   "metadata": {
    "colab": {
     "base_uri": "https://localhost:8080/"
    },
    "id": "SSfqRyEPQ5pR",
    "outputId": "bdcbab6b-5606-43f5-c8a0-17a4d9258402"
   },
   "outputs": [
    {
     "name": "stdout",
     "output_type": "stream",
     "text": [
      "Epoch 1/10\n",
      "25/25 [==============================] - 0s 1ms/step - loss: 0.6907 - accuracy: 0.5188\n",
      "Epoch 2/10\n",
      "25/25 [==============================] - 0s 1ms/step - loss: 0.6791 - accuracy: 0.5950\n",
      "Epoch 3/10\n",
      "25/25 [==============================] - 0s 1ms/step - loss: 0.6684 - accuracy: 0.6600\n",
      "Epoch 4/10\n",
      "25/25 [==============================] - 0s 1ms/step - loss: 0.6580 - accuracy: 0.7250\n",
      "Epoch 5/10\n",
      "25/25 [==============================] - 0s 1ms/step - loss: 0.6479 - accuracy: 0.7725\n",
      "Epoch 6/10\n",
      "25/25 [==============================] - 0s 1ms/step - loss: 0.6380 - accuracy: 0.8037\n",
      "Epoch 7/10\n",
      "25/25 [==============================] - 0s 1ms/step - loss: 0.6285 - accuracy: 0.8363\n",
      "Epoch 8/10\n",
      "25/25 [==============================] - 0s 1ms/step - loss: 0.6194 - accuracy: 0.8562\n",
      "Epoch 9/10\n",
      "25/25 [==============================] - 0s 1ms/step - loss: 0.6102 - accuracy: 0.8637\n",
      "Epoch 10/10\n",
      "25/25 [==============================] - 0s 1ms/step - loss: 0.6017 - accuracy: 0.8737\n"
     ]
    },
    {
     "data": {
      "text/plain": [
       "<tensorflow.python.keras.callbacks.History at 0x7f0fc6a91630>"
      ]
     },
     "execution_count": 27,
     "metadata": {
      "tags": []
     },
     "output_type": "execute_result"
    }
   ],
   "source": [
    "model.fit(x_train.toarray(), y_train.values, batch_size=32, epochs=10)"
   ]
  },
  {
   "cell_type": "code",
   "execution_count": 28,
   "metadata": {
    "colab": {
     "base_uri": "https://localhost:8080/"
    },
    "id": "AJsS_qUNRBT5",
    "outputId": "37a3b599-1a00-4d2f-95a7-46d2ced10530"
   },
   "outputs": [
    {
     "data": {
      "text/plain": [
       "[0.6459567546844482, 0.7250000238418579]"
      ]
     },
     "execution_count": 28,
     "metadata": {
      "tags": []
     },
     "output_type": "execute_result"
    }
   ],
   "source": [
    "model.evaluate(x_test.toarray(), y_test.values, verbose=0)"
   ]
  },
  {
   "cell_type": "code",
   "execution_count": 29,
   "metadata": {
    "colab": {
     "base_uri": "https://localhost:8080/"
    },
    "id": "HMu9rzaKRD-q",
    "outputId": "e959b59b-1205-46e6-c4ea-44edca05a7a7"
   },
   "outputs": [
    {
     "name": "stdout",
     "output_type": "stream",
     "text": [
      "WARNING:tensorflow:From /usr/local/lib/python3.6/dist-packages/tensorflow/python/training/tracking/tracking.py:111: Model.state_updates (from tensorflow.python.keras.engine.training) is deprecated and will be removed in a future version.\n",
      "Instructions for updating:\n",
      "This property should not be used in TensorFlow 2.0, as updates are applied automatically.\n",
      "WARNING:tensorflow:From /usr/local/lib/python3.6/dist-packages/tensorflow/python/training/tracking/tracking.py:111: Layer.updates (from tensorflow.python.keras.engine.base_layer) is deprecated and will be removed in a future version.\n",
      "Instructions for updating:\n",
      "This property should not be used in TensorFlow 2.0, as updates are applied automatically.\n",
      "INFO:tensorflow:Assets written to: imdb-sentiment.krs/assets\n"
     ]
    }
   ],
   "source": [
    "model.save('imdb-sentiment.krs')"
   ]
  },
  {
   "cell_type": "code",
   "execution_count": 30,
   "metadata": {
    "id": "7bGTeaUjFt7j"
   },
   "outputs": [],
   "source": [
    "model = tf.keras.models.load_model('imdb-sentiment.krs')"
   ]
  },
  {
   "cell_type": "markdown",
   "metadata": {
    "id": "fnsn607rRI8b"
   },
   "source": [
    "# 파라미터"
   ]
  },
  {
   "cell_type": "markdown",
   "metadata": {
    "id": "k6TiiiDORRtK"
   },
   "source": [
    "모형의 파라미터는 각 단어에 대한 가중치(`weight`)와 y절편(`bias`)이다."
   ]
  },
  {
   "cell_type": "code",
   "execution_count": 31,
   "metadata": {
    "id": "iIlwk_eyFyxi"
   },
   "outputs": [],
   "source": [
    "weight, bias = model.trainable_weights"
   ]
  },
  {
   "cell_type": "markdown",
   "metadata": {
    "id": "AdaTOiyTRfth"
   },
   "source": [
    "단어와 가중치의 쌍을 표로 정리한다."
   ]
  },
  {
   "cell_type": "code",
   "execution_count": 32,
   "metadata": {
    "id": "TGtoZbXAReSe"
   },
   "outputs": [],
   "source": [
    "import pandas as pd\n",
    "\n",
    "word_weight = pd.DataFrame({\n",
    "    '단어': cv.get_feature_names(),\n",
    "    '가중치': weight.numpy().flat\n",
    "})"
   ]
  },
  {
   "cell_type": "markdown",
   "metadata": {
    "id": "SQVTfXEYRkjS"
   },
   "source": [
    "# 부정 단어"
   ]
  },
  {
   "cell_type": "markdown",
   "metadata": {
    "id": "AcUEl3BaRl_u"
   },
   "source": [
    "음의 가중치를 가지는 단어가 많으면, 리뷰가 부정(0)으로 분류된다. 따라서 이들 단어는 부정 단어라고 할 수 있다.\n",
    "\n"
   ]
  },
  {
   "cell_type": "code",
   "execution_count": 33,
   "metadata": {
    "colab": {
     "base_uri": "https://localhost:8080/",
     "height": 202
    },
    "id": "2LSArbv8RjlR",
    "outputId": "81a080cb-f12e-48ee-b8f5-288464a3cffd"
   },
   "outputs": [
    {
     "data": {
      "text/html": [
       "<div>\n",
       "<style scoped>\n",
       "    .dataframe tbody tr th:only-of-type {\n",
       "        vertical-align: middle;\n",
       "    }\n",
       "\n",
       "    .dataframe tbody tr th {\n",
       "        vertical-align: top;\n",
       "    }\n",
       "\n",
       "    .dataframe thead th {\n",
       "        text-align: right;\n",
       "    }\n",
       "</style>\n",
       "<table border=\"1\" class=\"dataframe\">\n",
       "  <thead>\n",
       "    <tr style=\"text-align: right;\">\n",
       "      <th></th>\n",
       "      <th>단어</th>\n",
       "      <th>가중치</th>\n",
       "    </tr>\n",
       "  </thead>\n",
       "  <tbody>\n",
       "    <tr>\n",
       "      <th>653</th>\n",
       "      <td>plot</td>\n",
       "      <td>-0.209479</td>\n",
       "    </tr>\n",
       "    <tr>\n",
       "      <th>66</th>\n",
       "      <td>awful</td>\n",
       "      <td>-0.188789</td>\n",
       "    </tr>\n",
       "    <tr>\n",
       "      <th>415</th>\n",
       "      <td>horrible</td>\n",
       "      <td>-0.176297</td>\n",
       "    </tr>\n",
       "    <tr>\n",
       "      <th>843</th>\n",
       "      <td>stupid</td>\n",
       "      <td>-0.172196</td>\n",
       "    </tr>\n",
       "    <tr>\n",
       "      <th>896</th>\n",
       "      <td>torture</td>\n",
       "      <td>-0.164562</td>\n",
       "    </tr>\n",
       "  </tbody>\n",
       "</table>\n",
       "</div>"
      ],
      "text/plain": [
       "           단어       가중치\n",
       "653      plot -0.209479\n",
       "66      awful -0.188789\n",
       "415  horrible -0.176297\n",
       "843    stupid -0.172196\n",
       "896   torture -0.164562"
      ]
     },
     "execution_count": 33,
     "metadata": {
      "tags": []
     },
     "output_type": "execute_result"
    }
   ],
   "source": [
    "word_weight.sort_values('가중치').head()\n"
   ]
  },
  {
   "cell_type": "markdown",
   "metadata": {
    "id": "wcjb2xhSSKp0"
   },
   "source": [
    "나쁜(bad), 끔찍한(awful), 낭비(waste) 등이 강한 음의 가중치를 가진다.\n",
    "\n"
   ]
  },
  {
   "cell_type": "markdown",
   "metadata": {
    "id": "92QQ_eV_SQH6"
   },
   "source": [
    "# 긍정 단어"
   ]
  },
  {
   "cell_type": "markdown",
   "metadata": {
    "id": "zCc-WrTrSR0c"
   },
   "source": [
    "양의 가중치를 가지는 단어가 많으면, 리뷰가 긍정(1)으로 분류된다. 따라서 이들 단어는 긍정 단어라고 할 수 있다.\n",
    "\n"
   ]
  },
  {
   "cell_type": "code",
   "execution_count": 34,
   "metadata": {
    "colab": {
     "base_uri": "https://localhost:8080/",
     "height": 202
    },
    "id": "zinTfow0RotM",
    "outputId": "8c11472e-3671-4b6b-8a24-0ac47cfc9e72"
   },
   "outputs": [
    {
     "data": {
      "text/html": [
       "<div>\n",
       "<style scoped>\n",
       "    .dataframe tbody tr th:only-of-type {\n",
       "        vertical-align: middle;\n",
       "    }\n",
       "\n",
       "    .dataframe tbody tr th {\n",
       "        vertical-align: top;\n",
       "    }\n",
       "\n",
       "    .dataframe thead th {\n",
       "        text-align: right;\n",
       "    }\n",
       "</style>\n",
       "<table border=\"1\" class=\"dataframe\">\n",
       "  <thead>\n",
       "    <tr style=\"text-align: right;\">\n",
       "      <th></th>\n",
       "      <th>단어</th>\n",
       "      <th>가중치</th>\n",
       "    </tr>\n",
       "  </thead>\n",
       "  <tbody>\n",
       "    <tr>\n",
       "      <th>629</th>\n",
       "      <td>perfect</td>\n",
       "      <td>0.160040</td>\n",
       "    </tr>\n",
       "    <tr>\n",
       "      <th>321</th>\n",
       "      <td>film</td>\n",
       "      <td>0.173138</td>\n",
       "    </tr>\n",
       "    <tr>\n",
       "      <th>456</th>\n",
       "      <td>job</td>\n",
       "      <td>0.187191</td>\n",
       "    </tr>\n",
       "    <tr>\n",
       "      <th>976</th>\n",
       "      <td>wonderful</td>\n",
       "      <td>0.196044</td>\n",
       "    </tr>\n",
       "    <tr>\n",
       "      <th>524</th>\n",
       "      <td>love</td>\n",
       "      <td>0.213824</td>\n",
       "    </tr>\n",
       "  </tbody>\n",
       "</table>\n",
       "</div>"
      ],
      "text/plain": [
       "            단어       가중치\n",
       "629    perfect  0.160040\n",
       "321       film  0.173138\n",
       "456        job  0.187191\n",
       "976  wonderful  0.196044\n",
       "524       love  0.213824"
      ]
     },
     "execution_count": 34,
     "metadata": {
      "tags": []
     },
     "output_type": "execute_result"
    }
   ],
   "source": [
    "word_weight.sort_values('가중치').tail()\n"
   ]
  },
  {
   "cell_type": "markdown",
   "metadata": {
    "id": "27rHjdFkSXzz"
   },
   "source": [
    "좋은(fine), 유쾌한(hilarious), 흥미로운(interesting) 등이 강한 양의 가중치를 가진다.\n",
    "\n"
   ]
  }
 ],
 "metadata": {
  "colab": {
   "authorship_tag": "ABX9TyMSGTafK22c+zFDNyQGgPCE",
   "include_colab_link": true,
   "name": "단어별 가중치.ipynb",
   "provenance": [],
   "toc_visible": true
  },
  "kernelspec": {
   "display_name": "Python 3",
   "language": "python",
   "name": "python3"
  },
  "language_info": {
   "codemirror_mode": {
    "name": "ipython",
    "version": 3
   },
   "file_extension": ".py",
   "mimetype": "text/x-python",
   "name": "python",
   "nbconvert_exporter": "python",
   "pygments_lexer": "ipython3",
   "version": "3.8.3"
  }
 },
 "nbformat": 4,
 "nbformat_minor": 1
}
