{
 "cells": [
  {
   "cell_type": "markdown",
   "metadata": {},
   "source": [
    "# Table of Contents\n",
    "[1-1. 데이터 로드 - '댓글합' as review_all](#bullet1)<br>\n",
    "[1-2 데이터 로드 '전체합' as total_all](#bullet2)<br>\n",
    "[2-1 유저의 장르별 리뷰 개수 피벗 테이블 생성 as table](#bullet3)<br>\n",
    "[3. 장르별 리뷰 개수 합 및 차지 비중 계산 (review_all)](#bullet4)<br>\n",
    "[4. 장르별 컨텐츠 개수 합 및 차지 비중 계산 (total_all)](#bullet5)<br>\n",
    "[5. 장르별 리뷰 개수 많은순 정렬](#bullet6)<br>\n",
    "[6. 장르별 리뷰 개수 countplot](#bullet7)<br>\n",
    "[7. 장르별 리뷰 개수 distplot (분포)](#bullet8a)<br>\n",
    "[8. 장르별 리뷰 개수 boxplot](#bullet9)"
   ]
  },
  {
   "cell_type": "code",
   "execution_count": 1,
   "metadata": {},
   "outputs": [],
   "source": [
    "import pandas as pd\n",
    "import numpy as np\n",
    "import seaborn as sns\n",
    "import matplotlib.pyplot as plt\n",
    "from matplotlib import font_manager, rc\n",
    "font_name = font_manager.FontProperties(fname=\"c:/Windows/Fonts/malgun.ttf\").get_name()\n",
    "rc('font', family=font_name)"
   ]
  },
  {
   "cell_type": "code",
   "execution_count": 2,
   "metadata": {},
   "outputs": [],
   "source": [
    "pd.set_option('max_columns',None) #None, 칼럼은 다 보이게. row는 취향에 따라 'max_rows', None으로 하고 head로 조절"
   ]
  },
  {
   "cell_type": "code",
   "execution_count": 3,
   "metadata": {},
   "outputs": [],
   "source": [
    "import warnings\n",
    "warnings.filterwarnings('ignore')"
   ]
  },
  {
   "cell_type": "markdown",
   "metadata": {},
   "source": [
    "## 1-1. 데이터 로드: '댓글합' as review_all<a class=\"anchor\" id=\"bullet1\"></a>"
   ]
  },
  {
   "cell_type": "code",
   "execution_count": 8,
   "metadata": {},
   "outputs": [
    {
     "data": {
      "text/html": [
       "<div>\n",
       "<style scoped>\n",
       "    .dataframe tbody tr th:only-of-type {\n",
       "        vertical-align: middle;\n",
       "    }\n",
       "\n",
       "    .dataframe tbody tr th {\n",
       "        vertical-align: top;\n",
       "    }\n",
       "\n",
       "    .dataframe thead th {\n",
       "        text-align: right;\n",
       "    }\n",
       "</style>\n",
       "<table border=\"1\" class=\"dataframe\">\n",
       "  <thead>\n",
       "    <tr style=\"text-align: right;\">\n",
       "      <th></th>\n",
       "      <th>Unnamed: 0</th>\n",
       "      <th>nickname</th>\n",
       "      <th>rating</th>\n",
       "      <th>title</th>\n",
       "      <th>voice</th>\n",
       "      <th>author</th>\n",
       "      <th>review</th>\n",
       "      <th>created</th>\n",
       "      <th>publish</th>\n",
       "      <th>genre</th>\n",
       "    </tr>\n",
       "  </thead>\n",
       "  <tbody>\n",
       "    <tr>\n",
       "      <th>0</th>\n",
       "      <td>0</td>\n",
       "      <td>유노창민</td>\n",
       "      <td>100</td>\n",
       "      <td>저스트 어 모멘트</td>\n",
       "      <td>이나리</td>\n",
       "      <td>이경화</td>\n",
       "      <td>잘들었습니다.</td>\n",
       "      <td>2020.11.06</td>\n",
       "      <td>탐</td>\n",
       "      <td>소설문학</td>\n",
       "    </tr>\n",
       "    <tr>\n",
       "      <th>1</th>\n",
       "      <td>1</td>\n",
       "      <td>나이스가이72</td>\n",
       "      <td>100</td>\n",
       "      <td>[단편] 헤엄치는 밤</td>\n",
       "      <td>최인영</td>\n",
       "      <td>한유주</td>\n",
       "      <td>내용 목소리 넘 좋습니다.</td>\n",
       "      <td>2020.10.29</td>\n",
       "      <td>미디어창비</td>\n",
       "      <td>소설문학</td>\n",
       "    </tr>\n",
       "    <tr>\n",
       "      <th>2</th>\n",
       "      <td>2</td>\n",
       "      <td>하브</td>\n",
       "      <td>100</td>\n",
       "      <td>[단편] 헤엄치는 밤</td>\n",
       "      <td>최인영</td>\n",
       "      <td>한유주</td>\n",
       "      <td>완전 내용도 장난 아니게 좋네요!! 그리고 목소리도 너무 좋아 집중해서 잘 들을 수...</td>\n",
       "      <td>2020.10.29</td>\n",
       "      <td>미디어창비</td>\n",
       "      <td>소설문학</td>\n",
       "    </tr>\n",
       "    <tr>\n",
       "      <th>3</th>\n",
       "      <td>3</td>\n",
       "      <td>양수</td>\n",
       "      <td>100</td>\n",
       "      <td>[단편] 헤엄치는 밤</td>\n",
       "      <td>최인영</td>\n",
       "      <td>한유주</td>\n",
       "      <td>빠져드는 목소리입니다^^</td>\n",
       "      <td>2020.10.29</td>\n",
       "      <td>미디어창비</td>\n",
       "      <td>소설문학</td>\n",
       "    </tr>\n",
       "    <tr>\n",
       "      <th>4</th>\n",
       "      <td>4</td>\n",
       "      <td>티씨지는부산더락</td>\n",
       "      <td>100</td>\n",
       "      <td>[단편] 헤엄치는 밤</td>\n",
       "      <td>최인영</td>\n",
       "      <td>한유주</td>\n",
       "      <td>목소리 너무 좋아요</td>\n",
       "      <td>2020.10.28</td>\n",
       "      <td>미디어창비</td>\n",
       "      <td>소설문학</td>\n",
       "    </tr>\n",
       "  </tbody>\n",
       "</table>\n",
       "</div>"
      ],
      "text/plain": [
       "   Unnamed: 0  nickname  rating        title voice author  \\\n",
       "0           0      유노창민     100    저스트 어 모멘트   이나리    이경화   \n",
       "1           1   나이스가이72     100  [단편] 헤엄치는 밤   최인영    한유주   \n",
       "2           2        하브     100  [단편] 헤엄치는 밤   최인영    한유주   \n",
       "3           3        양수     100  [단편] 헤엄치는 밤   최인영    한유주   \n",
       "4           4  티씨지는부산더락     100  [단편] 헤엄치는 밤   최인영    한유주   \n",
       "\n",
       "                                              review     created publish genre  \n",
       "0                                            잘들었습니다.  2020.11.06       탐  소설문학  \n",
       "1                                     내용 목소리 넘 좋습니다.  2020.10.29   미디어창비  소설문학  \n",
       "2  완전 내용도 장난 아니게 좋네요!! 그리고 목소리도 너무 좋아 집중해서 잘 들을 수...  2020.10.29   미디어창비  소설문학  \n",
       "3                                      빠져드는 목소리입니다^^  2020.10.29   미디어창비  소설문학  \n",
       "4                                         목소리 너무 좋아요  2020.10.28   미디어창비  소설문학  "
      ]
     },
     "execution_count": 8,
     "metadata": {},
     "output_type": "execute_result"
    }
   ],
   "source": [
    "review_all = pd.read_csv('data/댓글합.csv')\n",
    "review_all.head()"
   ]
  },
  {
   "cell_type": "code",
   "execution_count": 9,
   "metadata": {},
   "outputs": [
    {
     "name": "stdout",
     "output_type": "stream",
     "text": [
      "(15531, 10)\n",
      "<class 'pandas.core.frame.DataFrame'>\n",
      "RangeIndex: 15531 entries, 0 to 15530\n",
      "Data columns (total 10 columns):\n",
      " #   Column      Non-Null Count  Dtype \n",
      "---  ------      --------------  ----- \n",
      " 0   Unnamed: 0  15531 non-null  int64 \n",
      " 1   nickname    15531 non-null  object\n",
      " 2   rating      15531 non-null  int64 \n",
      " 3   title       15531 non-null  object\n",
      " 4   voice       13246 non-null  object\n",
      " 5   author      15419 non-null  object\n",
      " 6   review      15480 non-null  object\n",
      " 7   created     15531 non-null  object\n",
      " 8   publish     15386 non-null  object\n",
      " 9   genre       15531 non-null  object\n",
      "dtypes: int64(2), object(8)\n",
      "memory usage: 1.2+ MB\n"
     ]
    }
   ],
   "source": [
    "print(review_all.shape)\n",
    "#print(df.isnull().sum())\n",
    "review_all.info()"
   ]
  },
  {
   "cell_type": "markdown",
   "metadata": {},
   "source": [
    "## 1-2 데이터 로드 '전체합' as total_all<a class=\"anchor\" id=\"bullet2\"></a>"
   ]
  },
  {
   "cell_type": "code",
   "execution_count": 10,
   "metadata": {},
   "outputs": [
    {
     "data": {
      "text/html": [
       "<div>\n",
       "<style scoped>\n",
       "    .dataframe tbody tr th:only-of-type {\n",
       "        vertical-align: middle;\n",
       "    }\n",
       "\n",
       "    .dataframe tbody tr th {\n",
       "        vertical-align: top;\n",
       "    }\n",
       "\n",
       "    .dataframe thead th {\n",
       "        text-align: right;\n",
       "    }\n",
       "</style>\n",
       "<table border=\"1\" class=\"dataframe\">\n",
       "  <thead>\n",
       "    <tr style=\"text-align: right;\">\n",
       "      <th></th>\n",
       "      <th>Unnamed: 0</th>\n",
       "      <th>title</th>\n",
       "      <th>voice</th>\n",
       "      <th>author</th>\n",
       "      <th>publish</th>\n",
       "      <th>genre</th>\n",
       "    </tr>\n",
       "  </thead>\n",
       "  <tbody>\n",
       "    <tr>\n",
       "      <th>0</th>\n",
       "      <td>0</td>\n",
       "      <td>매향리, 평화가 오다</td>\n",
       "      <td>이미나</td>\n",
       "      <td>화성시(기획),전혜진(글),김준현(사진)</td>\n",
       "      <td>화성시</td>\n",
       "      <td>소설문학</td>\n",
       "    </tr>\n",
       "    <tr>\n",
       "      <th>1</th>\n",
       "      <td>1</td>\n",
       "      <td>[이유영 낭독] 다정한 유전 _작은책</td>\n",
       "      <td>이유영</td>\n",
       "      <td>강화길</td>\n",
       "      <td>아르테</td>\n",
       "      <td>소설문학</td>\n",
       "    </tr>\n",
       "    <tr>\n",
       "      <th>2</th>\n",
       "      <td>2</td>\n",
       "      <td>저스트 어 모멘트</td>\n",
       "      <td>이나리</td>\n",
       "      <td>이경화</td>\n",
       "      <td>탐</td>\n",
       "      <td>소설문학</td>\n",
       "    </tr>\n",
       "    <tr>\n",
       "      <th>3</th>\n",
       "      <td>3</td>\n",
       "      <td>사춘기라서 그래</td>\n",
       "      <td>조현정</td>\n",
       "      <td>이명랑</td>\n",
       "      <td>탐</td>\n",
       "      <td>소설문학</td>\n",
       "    </tr>\n",
       "    <tr>\n",
       "      <th>4</th>\n",
       "      <td>4</td>\n",
       "      <td>[단편] 헤엄치는 밤</td>\n",
       "      <td>최인영</td>\n",
       "      <td>한유주</td>\n",
       "      <td>미디어창비</td>\n",
       "      <td>소설문학</td>\n",
       "    </tr>\n",
       "  </tbody>\n",
       "</table>\n",
       "</div>"
      ],
      "text/plain": [
       "   Unnamed: 0                 title voice                  author publish  \\\n",
       "0           0           매향리, 평화가 오다   이미나  화성시(기획),전혜진(글),김준현(사진)     화성시   \n",
       "1           1  [이유영 낭독] 다정한 유전 _작은책   이유영                     강화길     아르테   \n",
       "2           2             저스트 어 모멘트   이나리                     이경화       탐   \n",
       "3           3              사춘기라서 그래   조현정                     이명랑       탐   \n",
       "4           4           [단편] 헤엄치는 밤   최인영                     한유주   미디어창비   \n",
       "\n",
       "  genre  \n",
       "0  소설문학  \n",
       "1  소설문학  \n",
       "2  소설문학  \n",
       "3  소설문학  \n",
       "4  소설문학  "
      ]
     },
     "execution_count": 10,
     "metadata": {},
     "output_type": "execute_result"
    }
   ],
   "source": [
    "total_all = pd.read_csv('data/전체합.csv')\n",
    "total_all.head()"
   ]
  },
  {
   "cell_type": "code",
   "execution_count": null,
   "metadata": {},
   "outputs": [],
   "source": [
    "print(total_all.shape)\n",
    "total_all.info()"
   ]
  },
  {
   "cell_type": "markdown",
   "metadata": {},
   "source": [
    "## 2-1 유저의 장르별 리뷰 개수 피벗 테이블 생성 as table<a class=\"anchor\" id=\"bullet3\"></a>"
   ]
  },
  {
   "cell_type": "code",
   "execution_count": null,
   "metadata": {},
   "outputs": [],
   "source": [
    "table = pd.pivot_table(review_all, index='nickname', columns='genre', values='title', aggfunc='count')\n",
    "table"
   ]
  },
  {
   "cell_type": "code",
   "execution_count": null,
   "metadata": {},
   "outputs": [],
   "source": [
    "table.loc[:, 'Total'] = table.sum(axis=1)\n",
    "table"
   ]
  },
  {
   "cell_type": "code",
   "execution_count": null,
   "metadata": {},
   "outputs": [],
   "source": [
    "table.describe()"
   ]
  },
  {
   "cell_type": "markdown",
   "metadata": {},
   "source": [
    "## 3. 장르별 리뷰 개수 합 및 차지 비중 계산 <a class=\"anchor\" id=\"bullet4\"></a>"
   ]
  },
  {
   "cell_type": "code",
   "execution_count": null,
   "metadata": {},
   "outputs": [],
   "source": [
    "review_sum_table = table.sum(axis=0).to_frame()\n",
    "review_sum_table"
   ]
  },
  {
   "cell_type": "code",
   "execution_count": null,
   "metadata": {},
   "outputs": [],
   "source": [
    "print(f\"전체 리뷰 중 경제경영 리뷰의 비중은 {review_sum_table.loc['경제경영'].values*100/review_sum_table.loc['Total'].values}%\")\n",
    "print(f\"전체 리뷰 중 소설문학 리뷰의 비중은 {review_sum_table.loc['소설문학'].values*100/review_sum_table.loc['Total'].values}%\")\n",
    "print(f\"전체 리뷰 중 어린이동화 리뷰의 비중은 {review_sum_table.loc['어린이동화'].values*100 / review_sum_table.loc['Total'].values}%\")\n",
    "print(f\"전체 리뷰 중 오디오북스 리뷰의 비중은 {review_sum_table.loc['오디오북스'].values*100/ review_sum_table.loc['Total'].values}%\")\n",
    "print(f\"전체 리뷰 중 인문교양 리뷰의 비중은 {review_sum_table.loc['인문교양'].values*100/review_sum_table.loc['Total'].values}%\")\n",
    "print(f\"전체 리뷰 중 자기계발 리뷰의 비중은 {review_sum_table.loc['자기계발'].values*100/review_sum_table.loc['Total'].values}%\")"
   ]
  },
  {
   "cell_type": "markdown",
   "metadata": {},
   "source": [
    "## 4. 장르별 컨텐츠 개수 합 및 차지 비중 계산 (total_all)<a class=\"anchor\" id=\"bullet5\"></a>"
   ]
  },
  {
   "cell_type": "code",
   "execution_count": null,
   "metadata": {},
   "outputs": [],
   "source": [
    "table_all = pd.pivot_table(total_all, columns='genre', values='title', aggfunc='count')\n",
    "table_all"
   ]
  },
  {
   "cell_type": "code",
   "execution_count": null,
   "metadata": {},
   "outputs": [],
   "source": [
    "table_all.loc[:, 'Total'] = table_all.sum(axis=1)\n",
    "table_all"
   ]
  },
  {
   "cell_type": "code",
   "execution_count": null,
   "metadata": {},
   "outputs": [],
   "source": [
    "print(f\"전체 컨텐츠 중 경제경영 컨텐츠의 비중은 {table_all['경제경영'].values*100/table_all['Total'].values}%\")\n",
    "print(f\"전체 컨텐츠 중 소설문학 컨텐츠의 비중은 {table_all['소설문학'].values*100/table_all['Total'].values}%\")\n",
    "print(f\"전체 컨텐츠 중 어린이동화 컨텐츠의 비중은 {table_all['어린이동화'].values*100/table_all['Total'].values}%\")\n",
    "print(f\"전체 컨텐츠 중 역사 컨텐츠의 비중은 {table_all['역사'].values*100/table_all['Total'].values}%\")\n",
    "print(f\"전체 컨텐츠 중 오디오북스 컨텐츠의 비중은 {table_all['오디오북스'].values*100/table_all['Total'].values}%\")\n",
    "print(f\"전체 컨텐츠 중 인문교양 컨텐츠의 비중은 {table_all['인문교양'].values*100/table_all['Total'].values}%\")\n",
    "print(f\"전체 컨텐츠 중 자기계발 컨텐츠의 비중은 {table_all['자기계발'].values*100/table_all['Total'].values}%\")"
   ]
  },
  {
   "cell_type": "markdown",
   "metadata": {},
   "source": [
    "## 5. 장르별 리뷰 개수 많은순 정렬<a class=\"anchor\" id=\"bullet6\"></a>"
   ]
  },
  {
   "cell_type": "markdown",
   "metadata": {},
   "source": [
    "### Total순 정렬"
   ]
  },
  {
   "cell_type": "code",
   "execution_count": null,
   "metadata": {},
   "outputs": [],
   "source": [
    "table_sorted_by_sum = table.sort_values(by='Total', ascending=False)\n",
    "table_sorted_by_sum.head(10)"
   ]
  },
  {
   "cell_type": "markdown",
   "metadata": {},
   "source": [
    "<div class=\"alert alert-warning\">\n",
    "1. 명예의 전당 탑텐은 전체 리뷰의 반 이상, 높게는 2/3까지 소설문학에 편중 <br>\n",
    "2. 나머지 장르도 다른 멤버와 비슷한 개수의 리뷰를 작성한 것이 눈에 띈다 <br>\n",
    "3. 전체 리뷰 내 장르 분포와 비교했을 때 <br>\n",
    "    3-1 경제경영: 전체는 1% 미만인데 여기서는 2% 정도, 열심히 쓰시네들 <br>\n",
    "    3-2 소설문학: 전체 47%인데 여기서는 더 높음! 헤비유저들은 소설 많이 들음 <br>\n",
    "    3-3 어린이문학: 전체 10%와 비슷함 <br>\n",
    "    3-4 오디오북스: 전체 20%인데 여긴 10%: 이벤트가 있어야만 리뷰를 쓰는 사람들과 이벤트가 없어도 리뷰를 쓰느 사람들의 그룹이 나눠진다면 Hall of Fame은 후자일 것 같다. 텍스트 분석이 가장 먼저 이루어져야할 장르. 이벤트 관련 키워드가 들어가있는지 확인해야겠다. <br>\n",
    "    3-5 인문교양: 전체 9%, 얼추 비슷 <br>\n",
    "    3-6 자기계발: 전체 13%, 얼추 비슷\n",
    "</div>"
   ]
  },
  {
   "cell_type": "markdown",
   "metadata": {},
   "source": [
    "### 경제경영순 정렬"
   ]
  },
  {
   "cell_type": "code",
   "execution_count": null,
   "metadata": {},
   "outputs": [],
   "source": [
    "table_sorted_by_econ = table.sort_values(by=['경제경영','Total'], ascending=False)\n",
    "table_sorted_by_econ.head(10)"
   ]
  },
  {
   "cell_type": "markdown",
   "metadata": {},
   "source": [
    "### 소설문학순 정렬"
   ]
  },
  {
   "cell_type": "code",
   "execution_count": null,
   "metadata": {},
   "outputs": [],
   "source": [
    "table_sorted_by_lit = table.sort_values(by=['소설문학', 'Total'], ascending=False)\n",
    "table_sorted_by_lit.head(10)"
   ]
  },
  {
   "cell_type": "markdown",
   "metadata": {},
   "source": [
    "### 어린이동화순 정렬"
   ]
  },
  {
   "cell_type": "code",
   "execution_count": null,
   "metadata": {},
   "outputs": [],
   "source": [
    "table_sorted_by_children = table.sort_values(by=['어린이동화', 'Total'], ascending=False)\n",
    "table_sorted_by_children.head(10)"
   ]
  },
  {
   "cell_type": "markdown",
   "metadata": {},
   "source": [
    "### 오디오북스순 정렬"
   ]
  },
  {
   "cell_type": "code",
   "execution_count": null,
   "metadata": {},
   "outputs": [],
   "source": [
    "table_sorted_by_audiobooks = table.sort_values(by=['오디오북스', 'Total'], ascending=False)\n",
    "table_sorted_by_audiobooks.head(10)"
   ]
  },
  {
   "cell_type": "markdown",
   "metadata": {},
   "source": [
    "### 인문교양순 정렬"
   ]
  },
  {
   "cell_type": "code",
   "execution_count": null,
   "metadata": {},
   "outputs": [],
   "source": [
    "table_sorted_by_humanities = table.sort_values(by=['인문교양', 'Total'], ascending=False)\n",
    "table_sorted_by_humanities.head(10)"
   ]
  },
  {
   "cell_type": "markdown",
   "metadata": {},
   "source": [
    "### 자기계발순 정렬"
   ]
  },
  {
   "cell_type": "code",
   "execution_count": null,
   "metadata": {},
   "outputs": [],
   "source": [
    "table_sorted_by_selfdev = table.sort_values(by=['자기계발', 'Total'], ascending=False)\n",
    "table_sorted_by_selfdev.head(10)"
   ]
  },
  {
   "cell_type": "markdown",
   "metadata": {},
   "source": [
    "## 6. 장르별 리뷰 개수 countplot<a class=\"anchor\" id=\"bullet7\"></a>\n",
    "### y축: <장르>의 컨텐츠를 n개 리뷰한 유저의 수"
   ]
  },
  {
   "cell_type": "code",
   "execution_count": null,
   "metadata": {},
   "outputs": [],
   "source": [
    "sns.countplot(x = '경제경영', data=table)"
   ]
  },
  {
   "cell_type": "code",
   "execution_count": null,
   "metadata": {},
   "outputs": [],
   "source": [
    "sns.countplot(x = '소설문학', data=table)"
   ]
  },
  {
   "cell_type": "code",
   "execution_count": null,
   "metadata": {},
   "outputs": [],
   "source": [
    "sns.countplot(x = '어린이동화', data=table)"
   ]
  },
  {
   "cell_type": "code",
   "execution_count": null,
   "metadata": {},
   "outputs": [],
   "source": [
    "sns.countplot(x = '오디오북스', data=table)"
   ]
  },
  {
   "cell_type": "code",
   "execution_count": null,
   "metadata": {},
   "outputs": [],
   "source": [
    "sns.countplot(x = '인문교양', data=table)"
   ]
  },
  {
   "cell_type": "code",
   "execution_count": null,
   "metadata": {},
   "outputs": [],
   "source": [
    "sns.countplot(x = '자기계발', data=table)"
   ]
  },
  {
   "cell_type": "markdown",
   "metadata": {},
   "source": [
    "## 7. 장르별 리뷰 개수 distplot (분포)<a class=\"anchor\" id=\"bullet8\"></a>"
   ]
  },
  {
   "cell_type": "code",
   "execution_count": null,
   "metadata": {},
   "outputs": [],
   "source": [
    "sns.distplot(table['경제경영'])"
   ]
  },
  {
   "cell_type": "code",
   "execution_count": null,
   "metadata": {},
   "outputs": [],
   "source": [
    "sns.distplot(table['소설문학'])"
   ]
  },
  {
   "cell_type": "code",
   "execution_count": null,
   "metadata": {},
   "outputs": [],
   "source": [
    "sns.distplot(table['어린이동화'])"
   ]
  },
  {
   "cell_type": "code",
   "execution_count": null,
   "metadata": {},
   "outputs": [],
   "source": [
    "sns.distplot(table['오디오북스'])"
   ]
  },
  {
   "cell_type": "code",
   "execution_count": null,
   "metadata": {},
   "outputs": [],
   "source": [
    "sns.distplot(table['인문교양'])"
   ]
  },
  {
   "cell_type": "code",
   "execution_count": null,
   "metadata": {},
   "outputs": [],
   "source": [
    "sns.distplot(table['자기계발'])"
   ]
  },
  {
   "cell_type": "markdown",
   "metadata": {},
   "source": [
    "## 8. 장르별 리뷰 개수 boxplot<a class=\"anchor\" id=\"bullet9\"></a>"
   ]
  },
  {
   "cell_type": "code",
   "execution_count": null,
   "metadata": {},
   "outputs": [],
   "source": [
    "sns.boxplot(x=table['경제경영'])"
   ]
  },
  {
   "cell_type": "code",
   "execution_count": null,
   "metadata": {},
   "outputs": [],
   "source": [
    "sns.boxplot(x=table['소설문학'])"
   ]
  },
  {
   "cell_type": "code",
   "execution_count": null,
   "metadata": {},
   "outputs": [],
   "source": [
    "sns.boxplot(x=table['어린이동화'])"
   ]
  },
  {
   "cell_type": "code",
   "execution_count": null,
   "metadata": {},
   "outputs": [],
   "source": [
    "sns.boxplot(x=table['오디오북스'])"
   ]
  },
  {
   "cell_type": "code",
   "execution_count": null,
   "metadata": {},
   "outputs": [],
   "source": [
    "sns.boxplot(x=table['인문교양'])"
   ]
  },
  {
   "cell_type": "code",
   "execution_count": null,
   "metadata": {},
   "outputs": [],
   "source": [
    "sns.boxplot(x=table['자기계발'])"
   ]
  },
  {
   "cell_type": "markdown",
   "metadata": {},
   "source": [
    "## 9. 장르별 컨텐츠의 리뷰 많은 순 정렬"
   ]
  },
  {
   "cell_type": "code",
   "execution_count": null,
   "metadata": {},
   "outputs": [],
   "source": [
    "# review_all 경제경영 genre만 가지고,\n",
    "# 책 제목 리뷰 개수  \n",
    "# 투자1      7"
   ]
  },
  {
   "cell_type": "code",
   "execution_count": null,
   "metadata": {},
   "outputs": [],
   "source": [
    "reviewed_econ = review_all[review_all['genre'].str.contains('경제경영')]\n",
    "reviewed_econ"
   ]
  },
  {
   "cell_type": "code",
   "execution_count": null,
   "metadata": {},
   "outputs": [],
   "source": [
    "reviewed_econ_count = reviewed_econ.groupby(['title']).agg({'rating':'count'}).sort_values(by='rating', ascending=False)\n",
    "reviewed_econ_count"
   ]
  },
  {
   "cell_type": "code",
   "execution_count": null,
   "metadata": {},
   "outputs": [],
   "source": [
    "reviewed_lit = review_all[review_all['genre'].str.contains('소설문학')]\n",
    "reviewed_lit"
   ]
  },
  {
   "cell_type": "code",
   "execution_count": null,
   "metadata": {},
   "outputs": [],
   "source": [
    "reviewed_lit_count = reviewed_lit.groupby(['title']).agg({'rating':'count'}).sort_values(by='rating', ascending=False)\n",
    "reviewed_lit_count.head(40)"
   ]
  },
  {
   "cell_type": "code",
   "execution_count": null,
   "metadata": {},
   "outputs": [],
   "source": [
    "reviewed_lit_count.describe()"
   ]
  },
  {
   "cell_type": "code",
   "execution_count": null,
   "metadata": {},
   "outputs": [],
   "source": [
    "reviewed_children = review_all[review_all['genre'].str.contains('어린이동화')]\n",
    "reviewed_children"
   ]
  },
  {
   "cell_type": "code",
   "execution_count": null,
   "metadata": {},
   "outputs": [],
   "source": [
    "reviewed_children_count = reviewed_children.groupby(['title']).agg({'rating':'count'}).sort_values(by='rating', ascending=False)\n",
    "reviewed_children_count"
   ]
  },
  {
   "cell_type": "code",
   "execution_count": null,
   "metadata": {},
   "outputs": [],
   "source": [
    "reviewed_audiobooks = review_all[review_all['genre'].str.contains('오디오북스')]\n",
    "reviewed_audiobooks"
   ]
  },
  {
   "cell_type": "code",
   "execution_count": null,
   "metadata": {},
   "outputs": [],
   "source": [
    "reviewed_audiobooks_count = reviewed_audiobooks.groupby(['title']).agg({'rating':'count'}).sort_values(by='rating', ascending=False)\n",
    "reviewed_audiobooks_count"
   ]
  },
  {
   "cell_type": "code",
   "execution_count": null,
   "metadata": {},
   "outputs": [],
   "source": [
    "reviewed_humanities = review_all[review_all['genre'].str.contains('인문교양')]\n",
    "reviewed_humanities"
   ]
  },
  {
   "cell_type": "code",
   "execution_count": null,
   "metadata": {},
   "outputs": [],
   "source": [
    "reviewed_humanities_count = reviewed_humanities.groupby(['title']).agg({'rating':'count'}).sort_values(by='rating', ascending=False)\n",
    "reviewed_humanities_count"
   ]
  },
  {
   "cell_type": "code",
   "execution_count": null,
   "metadata": {},
   "outputs": [],
   "source": [
    "reviewed_selfdev = review_all[review_all['genre'].str.contains('자기계발')]\n",
    "reviewed_selfdev"
   ]
  },
  {
   "cell_type": "code",
   "execution_count": null,
   "metadata": {},
   "outputs": [],
   "source": [
    "reviewed_selfdev_count = reviewed_selfdev.groupby(['title']).agg({'rating':'count'}).sort_values(by='rating', ascending=False)\n",
    "reviewed_selfdev_count"
   ]
  },
  {
   "cell_type": "code",
   "execution_count": null,
   "metadata": {},
   "outputs": [],
   "source": []
  }
 ],
 "metadata": {
  "kernelspec": {
   "display_name": "Python 3",
   "language": "python",
   "name": "python3"
  },
  "language_info": {
   "codemirror_mode": {
    "name": "ipython",
    "version": 3
   },
   "file_extension": ".py",
   "mimetype": "text/x-python",
   "name": "python",
   "nbconvert_exporter": "python",
   "pygments_lexer": "ipython3",
   "version": "3.7.6"
  }
 },
 "nbformat": 4,
 "nbformat_minor": 4
}
