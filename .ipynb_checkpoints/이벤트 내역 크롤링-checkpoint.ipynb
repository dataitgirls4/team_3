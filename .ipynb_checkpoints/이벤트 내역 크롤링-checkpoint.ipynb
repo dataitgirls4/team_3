{
 "cells": [
  {
   "cell_type": "code",
   "execution_count": 1,
   "metadata": {},
   "outputs": [],
   "source": [
    "from selenium import webdriver\n",
    "from bs4 import BeautifulSoup\n",
    "import pandas as pd\n",
    "import time\n",
    "from selenium.webdriver.support.ui import WebDriverWait"
   ]
  },
  {
   "cell_type": "code",
   "execution_count": 2,
   "metadata": {},
   "outputs": [],
   "source": [
    "def scroll(driver, timeout):\n",
    "    scroll_pause_time = timeout\n",
    "\n",
    "    # Get scroll height\n",
    "    last_height = driver.execute_script(\"return document.body.scrollHeight\")\n",
    "\n",
    "    while True:\n",
    "        # Scroll down to bottom\n",
    "        driver.execute_script(\"window.scrollTo(0, document.body.scrollHeight);\")\n",
    "\n",
    "        # Wait to load page\n",
    "        time.sleep(scroll_pause_time)\n",
    "\n",
    "        # Calculate new scroll height and compare with last scroll height\n",
    "        new_height = driver.execute_script(\"return document.body.scrollHeight\")\n",
    "        if new_height == last_height:\n",
    "            # If heights are the same it will exit the function\n",
    "            break\n",
    "        last_height = new_height"
   ]
  },
  {
   "cell_type": "code",
   "execution_count": 3,
   "metadata": {},
   "outputs": [],
   "source": [
    "driver = webdriver.Chrome('C:/Users/Hanna Kim/Desktop/patop/chromedriver') #각자 chromedriver가 설치되어있는 주소를 입력해주세요\n",
    "driver.implicitly_wait(5)\n",
    "driver.get(\"http://m.podbbang.com/event\") #각자 맡은 카테고리 페이지 url을 입력해주세요\n"
   ]
  },
  {
   "cell_type": "markdown",
   "metadata": {},
   "source": [
    "페이지에서 종료된 이벤트 클릭..ㅎ"
   ]
  },
  {
   "cell_type": "code",
   "execution_count": 8,
   "metadata": {},
   "outputs": [],
   "source": [
    "scroll(driver, 1) #스크롤 끝까지 내려"
   ]
  },
  {
   "cell_type": "code",
   "execution_count": 9,
   "metadata": {},
   "outputs": [],
   "source": [
    "html = driver.page_source\n",
    "soup = BeautifulSoup(html, 'html.parser')"
   ]
  },
  {
   "cell_type": "code",
   "execution_count": 22,
   "metadata": {},
   "outputs": [
    {
     "data": {
      "text/plain": [
       "<li class=\"event-list-item end\"><div class=\"image loaded\" style='height: 523.12px; background-image: url(\"http://dimg.podbbang.com/ch/worldliterature_1600066999327300.jpeg\");'><div class=\"dim\"></div></div><!-- --><h3 class=\"title\">세계문학 오디오북 리뷰 이벤트</h3><span class=\"period\">2020.09.18~2020.09.24</span></li>"
      ]
     },
     "execution_count": 22,
     "metadata": {},
     "output_type": "execute_result"
    }
   ],
   "source": [
    "box  = soup.select(\"li.event-list-item.end\")[]\n",
    "box"
   ]
  },
  {
   "cell_type": "code",
   "execution_count": 21,
   "metadata": {},
   "outputs": [
    {
     "data": {
      "text/plain": [
       "'[11월 추천 방송 구독 이벤트]'"
      ]
     },
     "execution_count": 21,
     "metadata": {},
     "output_type": "execute_result"
    }
   ],
   "source": [
    "box.select(\"h3\")[0].text"
   ]
  },
  {
   "cell_type": "code",
   "execution_count": 19,
   "metadata": {},
   "outputs": [
    {
     "data": {
      "text/plain": [
       "'2020.11.10~2020.11.30'"
      ]
     },
     "execution_count": 19,
     "metadata": {},
     "output_type": "execute_result"
    }
   ],
   "source": [
    "box.select(\"span\")[0].text"
   ]
  },
  {
   "cell_type": "code",
   "execution_count": 24,
   "metadata": {},
   "outputs": [
    {
     "data": {
      "text/html": [
       "<div>\n",
       "<style scoped>\n",
       "    .dataframe tbody tr th:only-of-type {\n",
       "        vertical-align: middle;\n",
       "    }\n",
       "\n",
       "    .dataframe tbody tr th {\n",
       "        vertical-align: top;\n",
       "    }\n",
       "\n",
       "    .dataframe thead th {\n",
       "        text-align: right;\n",
       "    }\n",
       "</style>\n",
       "<table border=\"1\" class=\"dataframe\">\n",
       "  <thead>\n",
       "    <tr style=\"text-align: right;\">\n",
       "      <th></th>\n",
       "      <th>event_name</th>\n",
       "      <th>event_period</th>\n",
       "    </tr>\n",
       "  </thead>\n",
       "  <tbody>\n",
       "  </tbody>\n",
       "</table>\n",
       "</div>"
      ],
      "text/plain": [
       "Empty DataFrame\n",
       "Columns: [event_name, event_period]\n",
       "Index: []"
      ]
     },
     "execution_count": 24,
     "metadata": {},
     "output_type": "execute_result"
    }
   ],
   "source": [
    "event = pd.DataFrame({'event_name': [], 'event_period':[]})\n",
    "event"
   ]
  },
  {
   "cell_type": "code",
   "execution_count": 27,
   "metadata": {},
   "outputs": [],
   "source": [
    "for box in soup.select(\"li.event-list-item.end\"):\n",
    "        imsi = pd.DataFrame({'event_name': [box.select(\"h3\")[0].text], 'event_period':[box.select(\"span\")[0].text]})\n",
    "        event = pd.concat([event, imsi])"
   ]
  },
  {
   "cell_type": "code",
   "execution_count": 29,
   "metadata": {},
   "outputs": [
    {
     "data": {
      "text/html": [
       "<div>\n",
       "<style scoped>\n",
       "    .dataframe tbody tr th:only-of-type {\n",
       "        vertical-align: middle;\n",
       "    }\n",
       "\n",
       "    .dataframe tbody tr th {\n",
       "        vertical-align: top;\n",
       "    }\n",
       "\n",
       "    .dataframe thead th {\n",
       "        text-align: right;\n",
       "    }\n",
       "</style>\n",
       "<table border=\"1\" class=\"dataframe\">\n",
       "  <thead>\n",
       "    <tr style=\"text-align: right;\">\n",
       "      <th></th>\n",
       "      <th>event_name</th>\n",
       "      <th>event_period</th>\n",
       "    </tr>\n",
       "  </thead>\n",
       "  <tbody>\n",
       "    <tr>\n",
       "      <th>0</th>\n",
       "      <td>[11월 추천 방송 구독 이벤트]</td>\n",
       "      <td>2020.11.10~2020.11.30</td>\n",
       "    </tr>\n",
       "  </tbody>\n",
       "</table>\n",
       "</div>"
      ],
      "text/plain": [
       "           event_name           event_period\n",
       "0  [11월 추천 방송 구독 이벤트]  2020.11.10~2020.11.30"
      ]
     },
     "execution_count": 29,
     "metadata": {},
     "output_type": "execute_result"
    }
   ],
   "source": [
    "event.head(1)"
   ]
  },
  {
   "cell_type": "code",
   "execution_count": 30,
   "metadata": {},
   "outputs": [
    {
     "data": {
      "text/html": [
       "<div>\n",
       "<style scoped>\n",
       "    .dataframe tbody tr th:only-of-type {\n",
       "        vertical-align: middle;\n",
       "    }\n",
       "\n",
       "    .dataframe tbody tr th {\n",
       "        vertical-align: top;\n",
       "    }\n",
       "\n",
       "    .dataframe thead th {\n",
       "        text-align: right;\n",
       "    }\n",
       "</style>\n",
       "<table border=\"1\" class=\"dataframe\">\n",
       "  <thead>\n",
       "    <tr style=\"text-align: right;\">\n",
       "      <th></th>\n",
       "      <th>event_name</th>\n",
       "      <th>event_period</th>\n",
       "    </tr>\n",
       "  </thead>\n",
       "  <tbody>\n",
       "    <tr>\n",
       "      <th>0</th>\n",
       "      <td>11월 오리지널 ES구독하기 이벤트</td>\n",
       "      <td>2019.11.01~2019.11.10</td>\n",
       "    </tr>\n",
       "  </tbody>\n",
       "</table>\n",
       "</div>"
      ],
      "text/plain": [
       "            event_name           event_period\n",
       "0  11월 오리지널 ES구독하기 이벤트  2019.11.01~2019.11.10"
      ]
     },
     "execution_count": 30,
     "metadata": {},
     "output_type": "execute_result"
    }
   ],
   "source": [
    "event.tail(1)"
   ]
  },
  {
   "cell_type": "code",
   "execution_count": 34,
   "metadata": {},
   "outputs": [
    {
     "data": {
      "text/html": [
       "<div>\n",
       "<style scoped>\n",
       "    .dataframe tbody tr th:only-of-type {\n",
       "        vertical-align: middle;\n",
       "    }\n",
       "\n",
       "    .dataframe tbody tr th {\n",
       "        vertical-align: top;\n",
       "    }\n",
       "\n",
       "    .dataframe thead th {\n",
       "        text-align: right;\n",
       "    }\n",
       "</style>\n",
       "<table border=\"1\" class=\"dataframe\">\n",
       "  <thead>\n",
       "    <tr style=\"text-align: right;\">\n",
       "      <th></th>\n",
       "      <th>event_name</th>\n",
       "      <th>event_period</th>\n",
       "    </tr>\n",
       "  </thead>\n",
       "  <tbody>\n",
       "    <tr>\n",
       "      <th>0</th>\n",
       "      <td>[살고 싶다는 농담]오디오북 리뷰 이벤트!</td>\n",
       "      <td>2020.10.30~2020.11.05</td>\n",
       "    </tr>\n",
       "    <tr>\n",
       "      <th>0</th>\n",
       "      <td>[들어본 이야기]오디오북 이벤트!</td>\n",
       "      <td>2020.10.23~2020.10.29</td>\n",
       "    </tr>\n",
       "    <tr>\n",
       "      <th>0</th>\n",
       "      <td>[초등 감정 사용법] 오디오북 리뷰 이벤트!</td>\n",
       "      <td>2020.10.16~2020.10.22</td>\n",
       "    </tr>\n",
       "    <tr>\n",
       "      <th>0</th>\n",
       "      <td>[나는 왠지 대박날 것만 같아]오디오북 이벤트</td>\n",
       "      <td>2020.10.09~2020.10.15</td>\n",
       "    </tr>\n",
       "    <tr>\n",
       "      <th>0</th>\n",
       "      <td>추석맞이 오디오북 이벤트~!</td>\n",
       "      <td>2020.09.30~2020.10.04</td>\n",
       "    </tr>\n",
       "    <tr>\n",
       "      <th>0</th>\n",
       "      <td>세계문학 오디오북 리뷰 이벤트</td>\n",
       "      <td>2020.09.18~2020.09.24</td>\n",
       "    </tr>\n",
       "    <tr>\n",
       "      <th>0</th>\n",
       "      <td>[미스터리 오디오북 퀴즈 이벤트]</td>\n",
       "      <td>2020.09.04~2020.09.10</td>\n",
       "    </tr>\n",
       "    <tr>\n",
       "      <th>0</th>\n",
       "      <td>데일 카네기 인간관계론 오디오북 이벤트!</td>\n",
       "      <td>2020.08.14~2020.08.20</td>\n",
       "    </tr>\n",
       "    <tr>\n",
       "      <th>0</th>\n",
       "      <td>「좀머 씨 이야기」오디오북 구독 이벤트 !</td>\n",
       "      <td>2020.08.07~2020.08.13</td>\n",
       "    </tr>\n",
       "    <tr>\n",
       "      <th>0</th>\n",
       "      <td>오디오북 대여 최대 90% 할인!</td>\n",
       "      <td>2020.06.18~2020.07.31</td>\n",
       "    </tr>\n",
       "    <tr>\n",
       "      <th>0</th>\n",
       "      <td>오디오북  &lt;운명이다&gt; 이벤트</td>\n",
       "      <td>2020.05.18~2020.05.24</td>\n",
       "    </tr>\n",
       "    <tr>\n",
       "      <th>0</th>\n",
       "      <td>3.1절 특별 기획 '제국대학의 조센징' 오디오북 구독 이벤트</td>\n",
       "      <td>2020.03.01~2020.03.07</td>\n",
       "    </tr>\n",
       "    <tr>\n",
       "      <th>0</th>\n",
       "      <td>EBS 세계문학전집을 오디오북으로 만나보세요.</td>\n",
       "      <td>2020.02.19~2020.02.26</td>\n",
       "    </tr>\n",
       "    <tr>\n",
       "      <th>0</th>\n",
       "      <td>오디오북 &lt;어른이 되면 괜찮을줄 알았다&gt;</td>\n",
       "      <td>2019.12.05~2019.12.11</td>\n",
       "    </tr>\n",
       "  </tbody>\n",
       "</table>\n",
       "</div>"
      ],
      "text/plain": [
       "                           event_name           event_period\n",
       "0             [살고 싶다는 농담]오디오북 리뷰 이벤트!  2020.10.30~2020.11.05\n",
       "0                  [들어본 이야기]오디오북 이벤트!  2020.10.23~2020.10.29\n",
       "0            [초등 감정 사용법] 오디오북 리뷰 이벤트!  2020.10.16~2020.10.22\n",
       "0           [나는 왠지 대박날 것만 같아]오디오북 이벤트  2020.10.09~2020.10.15\n",
       "0                     추석맞이 오디오북 이벤트~!  2020.09.30~2020.10.04\n",
       "0                    세계문학 오디오북 리뷰 이벤트  2020.09.18~2020.09.24\n",
       "0                  [미스터리 오디오북 퀴즈 이벤트]  2020.09.04~2020.09.10\n",
       "0              데일 카네기 인간관계론 오디오북 이벤트!  2020.08.14~2020.08.20\n",
       "0             「좀머 씨 이야기」오디오북 구독 이벤트 !  2020.08.07~2020.08.13\n",
       "0                  오디오북 대여 최대 90% 할인!  2020.06.18~2020.07.31\n",
       "0                    오디오북  <운명이다> 이벤트  2020.05.18~2020.05.24\n",
       "0  3.1절 특별 기획 '제국대학의 조센징' 오디오북 구독 이벤트  2020.03.01~2020.03.07\n",
       "0           EBS 세계문학전집을 오디오북으로 만나보세요.  2020.02.19~2020.02.26\n",
       "0              오디오북 <어른이 되면 괜찮을줄 알았다>  2019.12.05~2019.12.11"
      ]
     },
     "execution_count": 34,
     "metadata": {},
     "output_type": "execute_result"
    }
   ],
   "source": [
    "event[event['event_name'].str.contains('오디오북')]"
   ]
  },
  {
   "cell_type": "code",
   "execution_count": 32,
   "metadata": {},
   "outputs": [],
   "source": [
    "event.to_csv('data/podbbang_event.csv')"
   ]
  },
  {
   "cell_type": "code",
   "execution_count": null,
   "metadata": {},
   "outputs": [],
   "source": []
  }
 ],
 "metadata": {
  "kernelspec": {
   "display_name": "Python 3",
   "language": "python",
   "name": "python3"
  },
  "language_info": {
   "codemirror_mode": {
    "name": "ipython",
    "version": 3
   },
   "file_extension": ".py",
   "mimetype": "text/x-python",
   "name": "python",
   "nbconvert_exporter": "python",
   "pygments_lexer": "ipython3",
   "version": "3.7.4"
  },
  "toc": {
   "base_numbering": 1,
   "nav_menu": {},
   "number_sections": true,
   "sideBar": true,
   "skip_h1_title": false,
   "title_cell": "Table of Contents",
   "title_sidebar": "Contents",
   "toc_cell": false,
   "toc_position": {},
   "toc_section_display": true,
   "toc_window_display": false
  }
 },
 "nbformat": 4,
 "nbformat_minor": 2
}
