{
 "cells": [
  {
   "cell_type": "markdown",
   "metadata": {
    "colab_type": "text",
    "id": "view-in-github"
   },
   "source": [
    "<a href=\"https://colab.research.google.com/github/dataitgirls4/team_3/blob/miree/%EB%84%A4%EC%9D%B4%EB%B2%84_%EC%98%81%ED%99%94_%EB%A6%AC%EB%B7%B0_%EC%88%98%EC%A7%91.ipynb\" target=\"_parent\"><img src=\"https://colab.research.google.com/assets/colab-badge.svg\" alt=\"Open In Colab\"/></a>"
   ]
  },
  {
   "cell_type": "code",
   "execution_count": 1,
   "metadata": {
    "id": "eT6P9SlBUDwo"
   },
   "outputs": [],
   "source": [
    "import requests\n",
    "import lxml.html"
   ]
  },
  {
   "cell_type": "markdown",
   "metadata": {
    "id": "Qtr8JIoBUWpP"
   },
   "source": [
    "네이버 영화의 관객 리뷰는 프레임 안에 들어있으므로, 프레임의 주소를 받아와야 한다.\n",
    "\n"
   ]
  },
  {
   "cell_type": "code",
   "execution_count": 2,
   "metadata": {
    "id": "cY7_dAbrUL_Y"
   },
   "outputs": [],
   "source": [
    "res = requests.get('https://movie.naver.com/movie/bi/mi/pointWriteFormList.nhn?code=169349&type=after&isActualPointWriteExecute=false&isMileageSubscriptionAlready=false&isMileageSubscriptionReject=false')\n"
   ]
  },
  {
   "cell_type": "markdown",
   "metadata": {
    "id": "bxBgcXArUZqT"
   },
   "source": [
    "HTML을 처리한다.\n",
    "\n"
   ]
  },
  {
   "cell_type": "code",
   "execution_count": 3,
   "metadata": {
    "id": "qg8UHPAVUUoH"
   },
   "outputs": [],
   "source": [
    "root = lxml.html.fromstring(res.text)\n"
   ]
  },
  {
   "cell_type": "markdown",
   "metadata": {
    "id": "i3oupieuUfaE"
   },
   "source": [
    "관객 리뷰와 별점을 수집한다.\n",
    "\n"
   ]
  },
  {
   "cell_type": "code",
   "execution_count": 9,
   "metadata": {
    "colab": {
     "base_uri": "https://localhost:8080/"
    },
    "id": "qsbYnOaSWqlZ",
    "outputId": "02dfa990-a78d-48bf-b7ed-8a8bbb08fe3d"
   },
   "outputs": [
    {
     "name": "stdout",
     "output_type": "stream",
     "text": [
      "Collecting cssselect\n",
      "  Downloading https://files.pythonhosted.org/packages/3b/d4/3b5c17f00cce85b9a1e6f91096e1cc8e8ede2e1be8e96b87ce1ed09e92c5/cssselect-1.1.0-py2.py3-none-any.whl\n",
      "Installing collected packages: cssselect\n",
      "Successfully installed cssselect-1.1.0\n"
     ]
    }
   ],
   "source": [
    "pip install cssselect"
   ]
  },
  {
   "cell_type": "code",
   "execution_count": 10,
   "metadata": {
    "id": "NFY2BUrKUdmS"
   },
   "outputs": [],
   "source": [
    "reviews = root.cssselect('.score_reple p')\n",
    "stars = root.cssselect('.star_score')"
   ]
  },
  {
   "cell_type": "markdown",
   "metadata": {
    "id": "VIQlLWC5W1p7"
   },
   "source": [
    "리뷰 텍스트를 추출하고, 별점은 정수(int)로 변환 후 5점을 넘으면 긍정(1), 5점 이하는 부정(0)으로 처리한다.\n",
    "\n"
   ]
  },
  {
   "cell_type": "code",
   "execution_count": 11,
   "metadata": {
    "id": "dlw-uTYAUoOg"
   },
   "outputs": [],
   "source": [
    "data = []\n",
    "for review, star in zip(reviews, stars):\n",
    "    text = review.text_content().strip()\n",
    "    score = int(star.text_content().strip())\n",
    "    sentiment = 1 if score > 5 else 0\n",
    "    data.append((text, sentiment))"
   ]
  },
  {
   "cell_type": "markdown",
   "metadata": {
    "id": "_NNU8RRCW6_E"
   },
   "source": [
    "pandas의 데이터 프레임으로 변환한다.\n",
    "\n"
   ]
  },
  {
   "cell_type": "code",
   "execution_count": 12,
   "metadata": {
    "id": "bOuYy2VSW5NH"
   },
   "outputs": [],
   "source": [
    "import pandas as pd\n",
    "df = pd.DataFrame(data, columns=['document', 'label'])"
   ]
  },
  {
   "cell_type": "code",
   "execution_count": 13,
   "metadata": {
    "colab": {
     "base_uri": "https://localhost:8080/",
     "height": 355
    },
    "id": "MMXx-z5pW81x",
    "outputId": "f0a14953-19bc-4a77-ec45-8b4b7dec2d8b"
   },
   "outputs": [
    {
     "data": {
      "text/html": [
       "<div>\n",
       "<style scoped>\n",
       "    .dataframe tbody tr th:only-of-type {\n",
       "        vertical-align: middle;\n",
       "    }\n",
       "\n",
       "    .dataframe tbody tr th {\n",
       "        vertical-align: top;\n",
       "    }\n",
       "\n",
       "    .dataframe thead th {\n",
       "        text-align: right;\n",
       "    }\n",
       "</style>\n",
       "<table border=\"1\" class=\"dataframe\">\n",
       "  <thead>\n",
       "    <tr style=\"text-align: right;\">\n",
       "      <th></th>\n",
       "      <th>document</th>\n",
       "      <th>label</th>\n",
       "    </tr>\n",
       "  </thead>\n",
       "  <tbody>\n",
       "    <tr>\n",
       "      <th>0</th>\n",
       "      <td>자네가 어린이들의 대통령인가?</td>\n",
       "      <td>1</td>\n",
       "    </tr>\n",
       "    <tr>\n",
       "      <th>1</th>\n",
       "      <td>조카 데리고 갔다가 내가 더 빠져서 봄ㅋㅋㅋㅋ 뽀통령 장기집권 가능할듯..ㅋㅋㅋㅋ</td>\n",
       "      <td>1</td>\n",
       "    </tr>\n",
       "    <tr>\n",
       "      <th>2</th>\n",
       "      <td>애들보다 내가 더 재밌게 봤네....</td>\n",
       "      <td>1</td>\n",
       "    </tr>\n",
       "    <tr>\n",
       "      <th>3</th>\n",
       "      <td>어린이들 방학이라 그래요</td>\n",
       "      <td>1</td>\n",
       "    </tr>\n",
       "    <tr>\n",
       "      <th>4</th>\n",
       "      <td>일단 10점 박고 시작하자</td>\n",
       "      <td>1</td>\n",
       "    </tr>\n",
       "    <tr>\n",
       "      <th>5</th>\n",
       "      <td>3선에 성공하신 뽀통령님. 4선도 무난 하실듯.</td>\n",
       "      <td>1</td>\n",
       "    </tr>\n",
       "    <tr>\n",
       "      <th>6</th>\n",
       "      <td>뽀로로는 언제나 정답 이다^^</td>\n",
       "      <td>1</td>\n",
       "    </tr>\n",
       "    <tr>\n",
       "      <th>7</th>\n",
       "      <td>역시 뽀통령... 뽀통령의 위엄은 여전히 대단하군요!!!</td>\n",
       "      <td>1</td>\n",
       "    </tr>\n",
       "    <tr>\n",
       "      <th>8</th>\n",
       "      <td>진짜 정말 재밌어요 !!!</td>\n",
       "      <td>1</td>\n",
       "    </tr>\n",
       "    <tr>\n",
       "      <th>9</th>\n",
       "      <td>미친...조용하던 우리딸래미 난리났다...</td>\n",
       "      <td>1</td>\n",
       "    </tr>\n",
       "  </tbody>\n",
       "</table>\n",
       "</div>"
      ],
      "text/plain": [
       "                                        document  label\n",
       "0                               자네가 어린이들의 대통령인가?      1\n",
       "1  조카 데리고 갔다가 내가 더 빠져서 봄ㅋㅋㅋㅋ 뽀통령 장기집권 가능할듯..ㅋㅋㅋㅋ      1\n",
       "2                           애들보다 내가 더 재밌게 봤네....      1\n",
       "3                                  어린이들 방학이라 그래요      1\n",
       "4                                 일단 10점 박고 시작하자      1\n",
       "5                     3선에 성공하신 뽀통령님. 4선도 무난 하실듯.      1\n",
       "6                               뽀로로는 언제나 정답 이다^^      1\n",
       "7                역시 뽀통령... 뽀통령의 위엄은 여전히 대단하군요!!!      1\n",
       "8                                 진짜 정말 재밌어요 !!!      1\n",
       "9                        미친...조용하던 우리딸래미 난리났다...      1"
      ]
     },
     "execution_count": 13,
     "metadata": {
      "tags": []
     },
     "output_type": "execute_result"
    }
   ],
   "source": [
    "df"
   ]
  },
  {
   "cell_type": "markdown",
   "metadata": {
    "id": "WFirrmQzXBag"
   },
   "source": [
    "csv 파일로 저장한다.\n",
    "\n"
   ]
  },
  {
   "cell_type": "code",
   "execution_count": 14,
   "metadata": {
    "id": "rqWa9BnfW9mT"
   },
   "outputs": [],
   "source": [
    "df.to_csv('naver-review.csv')\n"
   ]
  },
  {
   "cell_type": "code",
   "execution_count": null,
   "metadata": {
    "id": "CWRxNoSoXDuw"
   },
   "outputs": [],
   "source": []
  }
 ],
 "metadata": {
  "colab": {
   "authorship_tag": "ABX9TyPY9z9QezsnNk/YrhLN6cMc",
   "include_colab_link": true,
   "name": "네이버 영화 리뷰 수집.ipynb",
   "provenance": []
  },
  "kernelspec": {
   "display_name": "Python 3",
   "language": "python",
   "name": "python3"
  },
  "language_info": {
   "codemirror_mode": {
    "name": "ipython",
    "version": 3
   },
   "file_extension": ".py",
   "mimetype": "text/x-python",
   "name": "python",
   "nbconvert_exporter": "python",
   "pygments_lexer": "ipython3",
   "version": "3.8.3"
  }
 },
 "nbformat": 4,
 "nbformat_minor": 1
}
