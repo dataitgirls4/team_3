{
 "cells": [
  {
   "cell_type": "code",
   "execution_count": 122,
   "metadata": {},
   "outputs": [],
   "source": [
    "import pandas as pd\n",
    "import numpy as np\n",
    "import seaborn as sns\n",
    "import matplotlib\n",
    "import matplotlib.pyplot as plt\n",
    "\n",
    "%matplotlib inline\n",
    "from matplotlib import font_manager, rc\n",
    "font_name = font_manager.FontProperties(fname=\"c:/Windows/Fonts/NanumSquareB.ttf\").get_name()\n",
    "rc('font', family=font_name)"
   ]
  },
  {
   "cell_type": "markdown",
   "metadata": {},
   "source": [
    "# Open Data"
   ]
  },
  {
   "cell_type": "code",
   "execution_count": 19,
   "metadata": {},
   "outputs": [],
   "source": [
    "pb_review = pd.read_csv('data/Podbbang_review.csv',index_col = 0)\n",
    "pb_book = pd.read_csv('data/Podbbang_book.csv', index_col = 0)\n",
    "pb_event=pd.read_csv('data/Podbbang_audio_review_event.csv',encoding = 'cp949',index_col = 0)\n",
    "nv_review = pd.read_csv('data/Naver_review.csv',index_col = 0)\n",
    "wl_review = pd.read_csv('data/Welaa_review.csv',index_col = 0)"
   ]
  },
  {
   "cell_type": "code",
   "execution_count": 20,
   "metadata": {},
   "outputs": [
    {
     "data": {
      "text/html": [
       "<div>\n",
       "<style scoped>\n",
       "    .dataframe tbody tr th:only-of-type {\n",
       "        vertical-align: middle;\n",
       "    }\n",
       "\n",
       "    .dataframe tbody tr th {\n",
       "        vertical-align: top;\n",
       "    }\n",
       "\n",
       "    .dataframe thead th {\n",
       "        text-align: right;\n",
       "    }\n",
       "</style>\n",
       "<table border=\"1\" class=\"dataframe\">\n",
       "  <thead>\n",
       "    <tr style=\"text-align: right;\">\n",
       "      <th></th>\n",
       "      <th>nickname</th>\n",
       "      <th>rating</th>\n",
       "      <th>title</th>\n",
       "      <th>voice</th>\n",
       "      <th>author</th>\n",
       "      <th>review</th>\n",
       "      <th>created</th>\n",
       "      <th>publish</th>\n",
       "      <th>genre</th>\n",
       "    </tr>\n",
       "  </thead>\n",
       "  <tbody>\n",
       "    <tr>\n",
       "      <th>12086</th>\n",
       "      <td>어리굴젓좋아</td>\n",
       "      <td>100</td>\n",
       "      <td>초등 감정 사용법</td>\n",
       "      <td>NaN</td>\n",
       "      <td>한혜원</td>\n",
       "      <td>도움이 될것 같아요</td>\n",
       "      <td>2020.10.17</td>\n",
       "      <td>생각정원</td>\n",
       "      <td>자기계발</td>\n",
       "    </tr>\n",
       "  </tbody>\n",
       "</table>\n",
       "</div>"
      ],
      "text/plain": [
       "      nickname  rating      title voice author      review     created  \\\n",
       "12086   어리굴젓좋아     100  초등 감정 사용법   NaN    한혜원  도움이 될것 같아요  2020.10.17   \n",
       "\n",
       "      publish genre  \n",
       "12086    생각정원  자기계발  "
      ]
     },
     "execution_count": 20,
     "metadata": {},
     "output_type": "execute_result"
    }
   ],
   "source": [
    "pb_review.sample()"
   ]
  },
  {
   "cell_type": "code",
   "execution_count": 21,
   "metadata": {},
   "outputs": [
    {
     "data": {
      "text/html": [
       "<div>\n",
       "<style scoped>\n",
       "    .dataframe tbody tr th:only-of-type {\n",
       "        vertical-align: middle;\n",
       "    }\n",
       "\n",
       "    .dataframe tbody tr th {\n",
       "        vertical-align: top;\n",
       "    }\n",
       "\n",
       "    .dataframe thead th {\n",
       "        text-align: right;\n",
       "    }\n",
       "</style>\n",
       "<table border=\"1\" class=\"dataframe\">\n",
       "  <thead>\n",
       "    <tr style=\"text-align: right;\">\n",
       "      <th></th>\n",
       "      <th>nickname</th>\n",
       "      <th>rating</th>\n",
       "      <th>title</th>\n",
       "      <th>voice</th>\n",
       "      <th>author</th>\n",
       "      <th>review</th>\n",
       "      <th>created</th>\n",
       "      <th>publish</th>\n",
       "      <th>genre</th>\n",
       "    </tr>\n",
       "  </thead>\n",
       "  <tbody>\n",
       "    <tr>\n",
       "      <th>11508</th>\n",
       "      <td>지삼출</td>\n",
       "      <td>10.0</td>\n",
       "      <td>딜리트</td>\n",
       "      <td>NaN</td>\n",
       "      <td>김유열</td>\n",
       "      <td>좋네요....♥♥</td>\n",
       "      <td>2019.11.27</td>\n",
       "      <td>쌤앤파커스</td>\n",
       "      <td>자기계발</td>\n",
       "    </tr>\n",
       "  </tbody>\n",
       "</table>\n",
       "</div>"
      ],
      "text/plain": [
       "      nickname  rating title voice author     review     created publish genre\n",
       "11508      지삼출    10.0   딜리트   NaN    김유열  좋네요....♥♥  2019.11.27   쌤앤파커스  자기계발"
      ]
     },
     "execution_count": 21,
     "metadata": {},
     "output_type": "execute_result"
    }
   ],
   "source": [
    "pb_review['rating'] = pb_review['rating'].apply(lambda x : x/10)\n",
    "pb_review.sample()"
   ]
  },
  {
   "cell_type": "markdown",
   "metadata": {},
   "source": [
    "기계가 읽은 경우 Voice가 NaN 값으로 나옴"
   ]
  },
  {
   "cell_type": "code",
   "execution_count": 47,
   "metadata": {},
   "outputs": [
    {
     "name": "stdout",
     "output_type": "stream",
     "text": [
      "리뷰 데이터의 크기는             : (15531, 9)\n",
      "리뷰 데이터에 포함된 유저의 수는 : 4450 명\n",
      "리뷰 데이터에 포함된 책의 수는   : 195 권\n"
     ]
    }
   ],
   "source": [
    "print(f\"리뷰 데이터의 크기는             : {pb_review.shape}\")\n",
    "print(f\"리뷰 데이터에 포함된 유저의 수는 : {len(pb_review['nickname'].unique())} 명\")\n",
    "print(f\"리뷰 데이터에 포함된 책의 수는   : {len(pb_review['title'].unique())} 권\")"
   ]
  },
  {
   "cell_type": "code",
   "execution_count": null,
   "metadata": {},
   "outputs": [],
   "source": []
  },
  {
   "cell_type": "markdown",
   "metadata": {},
   "source": [
    "# Distribution of Ratings"
   ]
  },
  {
   "cell_type": "code",
   "execution_count": 23,
   "metadata": {},
   "outputs": [
    {
     "data": {
      "text/html": [
       "<div>\n",
       "<style scoped>\n",
       "    .dataframe tbody tr th:only-of-type {\n",
       "        vertical-align: middle;\n",
       "    }\n",
       "\n",
       "    .dataframe tbody tr th {\n",
       "        vertical-align: top;\n",
       "    }\n",
       "\n",
       "    .dataframe thead th {\n",
       "        text-align: right;\n",
       "    }\n",
       "</style>\n",
       "<table border=\"1\" class=\"dataframe\">\n",
       "  <thead>\n",
       "    <tr style=\"text-align: right;\">\n",
       "      <th></th>\n",
       "      <th>title</th>\n",
       "    </tr>\n",
       "    <tr>\n",
       "      <th>rating</th>\n",
       "      <th></th>\n",
       "    </tr>\n",
       "  </thead>\n",
       "  <tbody>\n",
       "    <tr>\n",
       "      <th>1.0</th>\n",
       "      <td>64</td>\n",
       "    </tr>\n",
       "    <tr>\n",
       "      <th>2.0</th>\n",
       "      <td>37</td>\n",
       "    </tr>\n",
       "    <tr>\n",
       "      <th>3.0</th>\n",
       "      <td>14</td>\n",
       "    </tr>\n",
       "    <tr>\n",
       "      <th>4.0</th>\n",
       "      <td>39</td>\n",
       "    </tr>\n",
       "    <tr>\n",
       "      <th>5.0</th>\n",
       "      <td>53</td>\n",
       "    </tr>\n",
       "    <tr>\n",
       "      <th>6.0</th>\n",
       "      <td>291</td>\n",
       "    </tr>\n",
       "    <tr>\n",
       "      <th>7.0</th>\n",
       "      <td>315</td>\n",
       "    </tr>\n",
       "    <tr>\n",
       "      <th>8.0</th>\n",
       "      <td>1561</td>\n",
       "    </tr>\n",
       "    <tr>\n",
       "      <th>9.0</th>\n",
       "      <td>1280</td>\n",
       "    </tr>\n",
       "    <tr>\n",
       "      <th>10.0</th>\n",
       "      <td>11877</td>\n",
       "    </tr>\n",
       "  </tbody>\n",
       "</table>\n",
       "</div>"
      ],
      "text/plain": [
       "        title\n",
       "rating       \n",
       "1.0        64\n",
       "2.0        37\n",
       "3.0        14\n",
       "4.0        39\n",
       "5.0        53\n",
       "6.0       291\n",
       "7.0       315\n",
       "8.0      1561\n",
       "9.0      1280\n",
       "10.0    11877"
      ]
     },
     "execution_count": 23,
     "metadata": {},
     "output_type": "execute_result"
    }
   ],
   "source": [
    "pb_review.groupby('rating')['title'].count().to_frame()"
   ]
  },
  {
   "cell_type": "code",
   "execution_count": 26,
   "metadata": {},
   "outputs": [
    {
     "data": {
      "image/png": "[encoded data removed]",
      "text/plain": [
       "<Figure size 432x288 with 1 Axes>"
      ]
     },
     "metadata": {
      "needs_background": "light"
     },
     "output_type": "display_data"
    }
   ],
   "source": [
    "plt.figure(figsize=(6,4))\n",
    "\n",
    "plt.hist(pb_review['rating']\n",
    "         ,bins = 10\n",
    "         ,color = '#54CAEA'\n",
    "         ,ec = \"#E6F0F8\"\n",
    "        )\n",
    "\n",
    "plt.gca().set_facecolor('#E6F0F8')\n",
    "plt.gca().spines['right'].set_visible(False)\n",
    "plt.gca().spines['top'].set_visible(False)\n",
    "plt.gca().spines['bottom'].set_visible(False)\n",
    "plt.gca().spines['left'].set_visible(False)\n",
    "plt.yticks() #ticks= []\n",
    "plt.xticks(color='#00517C', fontsize =15)\n",
    "\n",
    "plt.title(\"팟빵 평점 히스토그램\", size = 20, color = \"#00517C\", position = (0.5, 1.3))\n",
    "plt.show()"
   ]
  },
  {
   "cell_type": "code",
   "execution_count": null,
   "metadata": {},
   "outputs": [],
   "source": []
  },
  {
   "cell_type": "markdown",
   "metadata": {},
   "source": [
    "# Daily Review Count"
   ]
  },
  {
   "cell_type": "code",
   "execution_count": 30,
   "metadata": {},
   "outputs": [
    {
     "data": {
      "text/html": [
       "<div>\n",
       "<style scoped>\n",
       "    .dataframe tbody tr th:only-of-type {\n",
       "        vertical-align: middle;\n",
       "    }\n",
       "\n",
       "    .dataframe tbody tr th {\n",
       "        vertical-align: top;\n",
       "    }\n",
       "\n",
       "    .dataframe thead th {\n",
       "        text-align: right;\n",
       "    }\n",
       "</style>\n",
       "<table border=\"1\" class=\"dataframe\">\n",
       "  <thead>\n",
       "    <tr style=\"text-align: right;\">\n",
       "      <th></th>\n",
       "      <th>nickname</th>\n",
       "      <th>rating</th>\n",
       "      <th>title</th>\n",
       "      <th>voice</th>\n",
       "      <th>author</th>\n",
       "      <th>review</th>\n",
       "      <th>created</th>\n",
       "      <th>publish</th>\n",
       "      <th>genre</th>\n",
       "    </tr>\n",
       "  </thead>\n",
       "  <tbody>\n",
       "    <tr>\n",
       "      <th>13199</th>\n",
       "      <td>변경닉네임</td>\n",
       "      <td>10.0</td>\n",
       "      <td>열하일기 첫걸음</td>\n",
       "      <td>NaN</td>\n",
       "      <td>박수밀</td>\n",
       "      <td>좋은 내용입니다</td>\n",
       "      <td>2020.09.11</td>\n",
       "      <td>(주)돌베개</td>\n",
       "      <td>인문교양</td>\n",
       "    </tr>\n",
       "  </tbody>\n",
       "</table>\n",
       "</div>"
      ],
      "text/plain": [
       "      nickname  rating     title voice author    review     created publish  \\\n",
       "13199    변경닉네임    10.0  열하일기 첫걸음   NaN    박수밀  좋은 내용입니다  2020.09.11  (주)돌베개   \n",
       "\n",
       "      genre  \n",
       "13199  인문교양  "
      ]
     },
     "execution_count": 30,
     "metadata": {},
     "output_type": "execute_result"
    }
   ],
   "source": [
    "pb_review.sample()"
   ]
  },
  {
   "cell_type": "code",
   "execution_count": 33,
   "metadata": {},
   "outputs": [
    {
     "data": {
      "text/html": [
       "<div>\n",
       "<style scoped>\n",
       "    .dataframe tbody tr th:only-of-type {\n",
       "        vertical-align: middle;\n",
       "    }\n",
       "\n",
       "    .dataframe tbody tr th {\n",
       "        vertical-align: top;\n",
       "    }\n",
       "\n",
       "    .dataframe thead th {\n",
       "        text-align: right;\n",
       "    }\n",
       "</style>\n",
       "<table border=\"1\" class=\"dataframe\">\n",
       "  <thead>\n",
       "    <tr style=\"text-align: right;\">\n",
       "      <th></th>\n",
       "      <th>date</th>\n",
       "      <th>rating_count</th>\n",
       "      <th>review_count</th>\n",
       "      <th>month</th>\n",
       "    </tr>\n",
       "  </thead>\n",
       "  <tbody>\n",
       "    <tr>\n",
       "      <th>421</th>\n",
       "      <td>2020.11.12</td>\n",
       "      <td>5</td>\n",
       "      <td>5</td>\n",
       "      <td>2020.11</td>\n",
       "    </tr>\n",
       "    <tr>\n",
       "      <th>422</th>\n",
       "      <td>2020.11.13</td>\n",
       "      <td>1</td>\n",
       "      <td>1</td>\n",
       "      <td>2020.11</td>\n",
       "    </tr>\n",
       "    <tr>\n",
       "      <th>423</th>\n",
       "      <td>2020.11.21</td>\n",
       "      <td>1</td>\n",
       "      <td>0</td>\n",
       "      <td>2020.11</td>\n",
       "    </tr>\n",
       "  </tbody>\n",
       "</table>\n",
       "</div>"
      ],
      "text/plain": [
       "           date  rating_count  review_count    month\n",
       "421  2020.11.12             5             5  2020.11\n",
       "422  2020.11.13             1             1  2020.11\n",
       "423  2020.11.21             1             0  2020.11"
      ]
     },
     "execution_count": 33,
     "metadata": {},
     "output_type": "execute_result"
    }
   ],
   "source": [
    "rating_dates = pb_review.groupby('created')[['rating', 'review']].count().reset_index()\n",
    "rating_dates.columns = ['date','rating_count', 'review_count']\n",
    "rating_dates['date'] = rating_dates['date'].apply(str)\n",
    "rating_dates['month'] = rating_dates['date'].apply(lambda x : x[:-3])\n",
    "rating_dates.tail(3)"
   ]
  },
  {
   "cell_type": "code",
   "execution_count": 37,
   "metadata": {},
   "outputs": [
    {
     "data": {
      "text/html": [
       "<div>\n",
       "<style scoped>\n",
       "    .dataframe tbody tr th:only-of-type {\n",
       "        vertical-align: middle;\n",
       "    }\n",
       "\n",
       "    .dataframe tbody tr th {\n",
       "        vertical-align: top;\n",
       "    }\n",
       "\n",
       "    .dataframe thead th {\n",
       "        text-align: right;\n",
       "    }\n",
       "</style>\n",
       "<table border=\"1\" class=\"dataframe\">\n",
       "  <thead>\n",
       "    <tr style=\"text-align: right;\">\n",
       "      <th></th>\n",
       "      <th>month</th>\n",
       "      <th>rating_count</th>\n",
       "      <th>review_count</th>\n",
       "    </tr>\n",
       "  </thead>\n",
       "  <tbody>\n",
       "    <tr>\n",
       "      <th>14</th>\n",
       "      <td>2020.01</td>\n",
       "      <td>6</td>\n",
       "      <td>6</td>\n",
       "    </tr>\n",
       "    <tr>\n",
       "      <th>15</th>\n",
       "      <td>2020.02</td>\n",
       "      <td>1288</td>\n",
       "      <td>1288</td>\n",
       "    </tr>\n",
       "    <tr>\n",
       "      <th>16</th>\n",
       "      <td>2020.03</td>\n",
       "      <td>10</td>\n",
       "      <td>10</td>\n",
       "    </tr>\n",
       "    <tr>\n",
       "      <th>17</th>\n",
       "      <td>2020.04</td>\n",
       "      <td>3</td>\n",
       "      <td>3</td>\n",
       "    </tr>\n",
       "    <tr>\n",
       "      <th>18</th>\n",
       "      <td>2020.05</td>\n",
       "      <td>3</td>\n",
       "      <td>3</td>\n",
       "    </tr>\n",
       "    <tr>\n",
       "      <th>19</th>\n",
       "      <td>2020.06</td>\n",
       "      <td>3</td>\n",
       "      <td>3</td>\n",
       "    </tr>\n",
       "    <tr>\n",
       "      <th>20</th>\n",
       "      <td>2020.07</td>\n",
       "      <td>6</td>\n",
       "      <td>6</td>\n",
       "    </tr>\n",
       "    <tr>\n",
       "      <th>21</th>\n",
       "      <td>2020.08</td>\n",
       "      <td>787</td>\n",
       "      <td>787</td>\n",
       "    </tr>\n",
       "    <tr>\n",
       "      <th>22</th>\n",
       "      <td>2020.09</td>\n",
       "      <td>1440</td>\n",
       "      <td>1439</td>\n",
       "    </tr>\n",
       "    <tr>\n",
       "      <th>23</th>\n",
       "      <td>2020.10</td>\n",
       "      <td>2629</td>\n",
       "      <td>2628</td>\n",
       "    </tr>\n",
       "    <tr>\n",
       "      <th>24</th>\n",
       "      <td>2020.11</td>\n",
       "      <td>198</td>\n",
       "      <td>197</td>\n",
       "    </tr>\n",
       "  </tbody>\n",
       "</table>\n",
       "</div>"
      ],
      "text/plain": [
       "      month  rating_count  review_count\n",
       "14  2020.01             6             6\n",
       "15  2020.02          1288          1288\n",
       "16  2020.03            10            10\n",
       "17  2020.04             3             3\n",
       "18  2020.05             3             3\n",
       "19  2020.06             3             3\n",
       "20  2020.07             6             6\n",
       "21  2020.08           787           787\n",
       "22  2020.09          1440          1439\n",
       "23  2020.10          2629          2628\n",
       "24  2020.11           198           197"
      ]
     },
     "execution_count": 37,
     "metadata": {},
     "output_type": "execute_result"
    }
   ],
   "source": [
    "rating_months = rating_dates.groupby('month')[['rating_count', 'review_count']].sum().reset_index()\n",
    "rating_months.tail(11)"
   ]
  },
  {
   "cell_type": "code",
   "execution_count": 38,
   "metadata": {},
   "outputs": [
    {
     "data": {
      "text/plain": [
       "Text(0.5, 1.0, '월별 댓글 수(2018년 11월 ~ 2020년 11월)')"
      ]
     },
     "execution_count": 38,
     "metadata": {},
     "output_type": "execute_result"
    },
    {
     "data": {
      "image/png": "[encoded data removed]",
      "text/plain": [
       "<Figure size 1440x576 with 1 Axes>"
      ]
     },
     "metadata": {
      "needs_background": "light"
     },
     "output_type": "display_data"
    }
   ],
   "source": [
    "plt.figure(figsize=(20,8))\n",
    "\n",
    "sns.lineplot(data = rating_months, x='month', y = 'review_count', linewidth = 7.5, color = '#54CAEA')\n",
    "\n",
    "plt.gca().set_facecolor('#E6F0F8')\n",
    "\n",
    "plt.gca().spines['left'].set_visible(False)\n",
    "plt.gca().spines['right'].set_visible(False)\n",
    "plt.gca().spines['top'].set_visible(False)\n",
    "plt.gca().spines['bottom'].set_visible(False)\n",
    "\n",
    "plt.xticks(color='#00517C', fontsize =10, rotation = 45)\n",
    "plt.yticks(color='#00517C', fontsize =20)\n",
    "plt.xlabel('')\n",
    "plt.ylabel('')\n",
    "\n",
    "plt.title('월별 댓글 수(2018년 11월 ~ 2020년 11월)', size = 40, color = '#00517C')"
   ]
  },
  {
   "cell_type": "markdown",
   "metadata": {},
   "source": [
    "2-7월에 거의 0에 가까운 평점/댓글 수 <br>\n",
    "오디오북 댓글 리뷰 이벤트 빈도/기간과 비교해봄"
   ]
  },
  {
   "cell_type": "code",
   "execution_count": null,
   "metadata": {},
   "outputs": [],
   "source": []
  },
  {
   "cell_type": "markdown",
   "metadata": {},
   "source": [
    "# Audio Book Review Event"
   ]
  },
  {
   "cell_type": "code",
   "execution_count": 41,
   "metadata": {},
   "outputs": [
    {
     "data": {
      "text/html": [
       "<div>\n",
       "<style scoped>\n",
       "    .dataframe tbody tr th:only-of-type {\n",
       "        vertical-align: middle;\n",
       "    }\n",
       "\n",
       "    .dataframe tbody tr th {\n",
       "        vertical-align: top;\n",
       "    }\n",
       "\n",
       "    .dataframe thead th {\n",
       "        text-align: right;\n",
       "    }\n",
       "</style>\n",
       "<table border=\"1\" class=\"dataframe\">\n",
       "  <thead>\n",
       "    <tr style=\"text-align: right;\">\n",
       "      <th></th>\n",
       "      <th>event_name</th>\n",
       "      <th>event_period</th>\n",
       "      <th>event_book</th>\n",
       "    </tr>\n",
       "  </thead>\n",
       "  <tbody>\n",
       "    <tr>\n",
       "      <th>20</th>\n",
       "      <td>「좀머 씨 이야기」오디오북 구독 이벤트 !</td>\n",
       "      <td>2020.08.07~2020.08.13</td>\n",
       "      <td>좀머 씨 이야기</td>\n",
       "    </tr>\n",
       "  </tbody>\n",
       "</table>\n",
       "</div>"
      ],
      "text/plain": [
       "                 event_name           event_period event_book\n",
       "20  「좀머 씨 이야기」오디오북 구독 이벤트 !  2020.08.07~2020.08.13   좀머 씨 이야기"
      ]
     },
     "execution_count": 41,
     "metadata": {},
     "output_type": "execute_result"
    }
   ],
   "source": [
    "review_event = pd.read_csv('data/podbbang_audio_review_event.csv', encoding = 'cp949', index_col = 0)\n",
    "review_event.sample()"
   ]
  },
  {
   "cell_type": "code",
   "execution_count": 42,
   "metadata": {},
   "outputs": [
    {
     "data": {
      "text/html": [
       "<div>\n",
       "<style scoped>\n",
       "    .dataframe tbody tr th:only-of-type {\n",
       "        vertical-align: middle;\n",
       "    }\n",
       "\n",
       "    .dataframe tbody tr th {\n",
       "        vertical-align: top;\n",
       "    }\n",
       "\n",
       "    .dataframe thead th {\n",
       "        text-align: right;\n",
       "    }\n",
       "</style>\n",
       "<table border=\"1\" class=\"dataframe\">\n",
       "  <thead>\n",
       "    <tr style=\"text-align: right;\">\n",
       "      <th></th>\n",
       "      <th>event_name</th>\n",
       "      <th>event_period</th>\n",
       "      <th>event_book</th>\n",
       "      <th>event_start</th>\n",
       "      <th>event_end</th>\n",
       "    </tr>\n",
       "  </thead>\n",
       "  <tbody>\n",
       "    <tr>\n",
       "      <th>16</th>\n",
       "      <td>[미스터리 오디오북 퀴즈 이벤트]</td>\n",
       "      <td>2020.09.04~2020.09.10</td>\n",
       "      <td>슬리피 할로우의 전설</td>\n",
       "      <td>2020.09.04</td>\n",
       "      <td>2020.09.10</td>\n",
       "    </tr>\n",
       "  </tbody>\n",
       "</table>\n",
       "</div>"
      ],
      "text/plain": [
       "            event_name           event_period   event_book event_start  \\\n",
       "16  [미스터리 오디오북 퀴즈 이벤트]  2020.09.04~2020.09.10  슬리피 할로우의 전설  2020.09.04   \n",
       "\n",
       "     event_end  \n",
       "16  2020.09.10  "
      ]
     },
     "execution_count": 42,
     "metadata": {},
     "output_type": "execute_result"
    }
   ],
   "source": [
    "review_event['event_start'] =review_event['event_period'].apply(lambda x : x.split(\"~\")[0])\n",
    "review_event['event_end'] =review_event['event_period'].apply(lambda x : x.split(\"~\")[1])\n",
    "review_event.sample()"
   ]
  },
  {
   "cell_type": "markdown",
   "metadata": {},
   "source": [
    "<종료된 이벤트> 사이트에 기재된 이벤트 중 오디오북 리뷰 이벤트는 아래와 같음"
   ]
  },
  {
   "cell_type": "code",
   "execution_count": 106,
   "metadata": {},
   "outputs": [
    {
     "name": "stdout",
     "output_type": "stream",
     "text": [
      "earliest event start : 2019.12.05\n",
      "last event end : 2020.11.05\n"
     ]
    }
   ],
   "source": [
    "print(f\"earliest event start : {min(review_event['event_start'])}\")\n",
    "      \n",
    "print(f\"last event end : {max(review_event['event_end'])}\")"
   ]
  },
  {
   "cell_type": "code",
   "execution_count": 107,
   "metadata": {},
   "outputs": [
    {
     "name": "stdout",
     "output_type": "stream",
     "text": [
      "2019.12 - 2020.11의 기간 동안 이벤트 대상 도서는 :26 권\n"
     ]
    }
   ],
   "source": [
    "print(f\"2019.12 - 2020.11의 기간 동안 이벤트 대상 도서는 :{len(review_event['event_book'].unique())} 권\")"
   ]
  },
  {
   "cell_type": "code",
   "execution_count": null,
   "metadata": {},
   "outputs": [],
   "source": []
  },
  {
   "cell_type": "markdown",
   "metadata": {},
   "source": [
    "이벤트 대상도서 리뷰에 이벤트 기간 정보 merge 후 아래와 같이 분리<br>\n",
    "+ 대상 도서에 대해) 이벤트 기간에 남겨진 리뷰\n",
    "+ 대상 도서에 대해) 이벤트 기간 외에 남겨진 리뷰"
   ]
  },
  {
   "cell_type": "code",
   "execution_count": 51,
   "metadata": {},
   "outputs": [],
   "source": [
    "event_only = pb_review.merge(review_event, left_on = 'title', right_on = 'event_book', how = 'inner')\n",
    "review_during_event = event_only[(event_only['created'] >= event_only['event_start']) & (event_only['created'] <= event_only['event_end'])]\n",
    "review_bef_aft_event = event_only[~(event_only['created'] >= event_only['event_start']) & (event_only['created'] <= event_only['event_end'])]"
   ]
  },
  {
   "cell_type": "code",
   "execution_count": 56,
   "metadata": {},
   "outputs": [
    {
     "data": {
      "text/html": [
       "<div>\n",
       "<style scoped>\n",
       "    .dataframe tbody tr th:only-of-type {\n",
       "        vertical-align: middle;\n",
       "    }\n",
       "\n",
       "    .dataframe tbody tr th {\n",
       "        vertical-align: top;\n",
       "    }\n",
       "\n",
       "    .dataframe thead th {\n",
       "        text-align: right;\n",
       "    }\n",
       "</style>\n",
       "<table border=\"1\" class=\"dataframe\">\n",
       "  <thead>\n",
       "    <tr style=\"text-align: right;\">\n",
       "      <th></th>\n",
       "      <th>nickname</th>\n",
       "      <th>rating</th>\n",
       "      <th>title</th>\n",
       "      <th>voice</th>\n",
       "      <th>author</th>\n",
       "      <th>review</th>\n",
       "      <th>created</th>\n",
       "      <th>publish</th>\n",
       "      <th>genre</th>\n",
       "      <th>event_name</th>\n",
       "      <th>event_period</th>\n",
       "      <th>event_book</th>\n",
       "      <th>event_start</th>\n",
       "      <th>event_end</th>\n",
       "    </tr>\n",
       "  </thead>\n",
       "  <tbody>\n",
       "    <tr>\n",
       "      <th>798</th>\n",
       "      <td>가을아침더뉴스룸</td>\n",
       "      <td>10.0</td>\n",
       "      <td>좀머 씨 이야기</td>\n",
       "      <td>유석</td>\n",
       "      <td>파트리크 쥐스킨트</td>\n",
       "      <td>좋아요</td>\n",
       "      <td>2020.08.08</td>\n",
       "      <td>(주)열린책들</td>\n",
       "      <td>소설문학</td>\n",
       "      <td>「좀머 씨 이야기」오디오북 구독 이벤트 !</td>\n",
       "      <td>2020.08.07~2020.08.13</td>\n",
       "      <td>좀머 씨 이야기</td>\n",
       "      <td>2020.08.07</td>\n",
       "      <td>2020.08.13</td>\n",
       "    </tr>\n",
       "  </tbody>\n",
       "</table>\n",
       "</div>"
      ],
      "text/plain": [
       "     nickname  rating     title voice     author review     created  publish  \\\n",
       "798  가을아침더뉴스룸    10.0  좀머 씨 이야기    유석  파트리크 쥐스킨트    좋아요  2020.08.08  (주)열린책들   \n",
       "\n",
       "    genre               event_name           event_period event_book  \\\n",
       "798  소설문학  「좀머 씨 이야기」오디오북 구독 이벤트 !  2020.08.07~2020.08.13   좀머 씨 이야기   \n",
       "\n",
       "    event_start   event_end  \n",
       "798  2020.08.07  2020.08.13  "
      ]
     },
     "execution_count": 56,
     "metadata": {},
     "output_type": "execute_result"
    }
   ],
   "source": [
    "review_during_event.sample()"
   ]
  },
  {
   "cell_type": "code",
   "execution_count": 57,
   "metadata": {},
   "outputs": [
    {
     "data": {
      "text/html": [
       "<div>\n",
       "<style scoped>\n",
       "    .dataframe tbody tr th:only-of-type {\n",
       "        vertical-align: middle;\n",
       "    }\n",
       "\n",
       "    .dataframe tbody tr th {\n",
       "        vertical-align: top;\n",
       "    }\n",
       "\n",
       "    .dataframe thead th {\n",
       "        text-align: right;\n",
       "    }\n",
       "</style>\n",
       "<table border=\"1\" class=\"dataframe\">\n",
       "  <thead>\n",
       "    <tr style=\"text-align: right;\">\n",
       "      <th></th>\n",
       "      <th>nickname</th>\n",
       "      <th>rating</th>\n",
       "      <th>title</th>\n",
       "      <th>voice</th>\n",
       "      <th>author</th>\n",
       "      <th>review</th>\n",
       "      <th>created</th>\n",
       "      <th>publish</th>\n",
       "      <th>genre</th>\n",
       "      <th>event_name</th>\n",
       "      <th>event_period</th>\n",
       "      <th>event_book</th>\n",
       "      <th>event_start</th>\n",
       "      <th>event_end</th>\n",
       "    </tr>\n",
       "  </thead>\n",
       "  <tbody>\n",
       "    <tr>\n",
       "      <th>5852</th>\n",
       "      <td>우짜야</td>\n",
       "      <td>10.0</td>\n",
       "      <td>[EBS 세계문학전집] 15소년 표류기</td>\n",
       "      <td>정형석,박지윤</td>\n",
       "      <td>쥘 베른</td>\n",
       "      <td>참여완료,너무 기대되네요</td>\n",
       "      <td>2019.12.09</td>\n",
       "      <td>한국교육방송공사</td>\n",
       "      <td>어린이동화</td>\n",
       "      <td>EBS 세계문학전집을 오디오북으로 만나보세요.</td>\n",
       "      <td>2020.02.19~2020.02.26</td>\n",
       "      <td>[EBS 세계문학전집] 15소년 표류기</td>\n",
       "      <td>2020.02.19</td>\n",
       "      <td>2020.02.26</td>\n",
       "    </tr>\n",
       "  </tbody>\n",
       "</table>\n",
       "</div>"
      ],
      "text/plain": [
       "     nickname  rating                  title    voice author         review  \\\n",
       "5852      우짜야    10.0  [EBS 세계문학전집] 15소년 표류기  정형석,박지윤   쥘 베른  참여완료,너무 기대되네요   \n",
       "\n",
       "         created   publish  genre                 event_name  \\\n",
       "5852  2019.12.09  한국교육방송공사  어린이동화  EBS 세계문학전집을 오디오북으로 만나보세요.   \n",
       "\n",
       "               event_period             event_book event_start   event_end  \n",
       "5852  2020.02.19~2020.02.26  [EBS 세계문학전집] 15소년 표류기  2020.02.19  2020.02.26  "
      ]
     },
     "execution_count": 57,
     "metadata": {},
     "output_type": "execute_result"
    }
   ],
   "source": [
    "review_bef_aft_event.sample()"
   ]
  },
  {
   "cell_type": "code",
   "execution_count": null,
   "metadata": {},
   "outputs": [],
   "source": []
  },
  {
   "cell_type": "code",
   "execution_count": 61,
   "metadata": {},
   "outputs": [
    {
     "name": "stdout",
     "output_type": "stream",
     "text": [
      "이벤트 기간에 이벤트 대상 도서에 남겨진 댓글 :5794\n",
      "이벤트 기간 외에 이벤트 대상 도서에 남겨진 댓글 :59\n"
     ]
    }
   ],
   "source": [
    "print(f\"이벤트 기간에 이벤트 대상 도서에 남겨진 댓글 :{review_during_event['review'].count()}\")\n",
    "      \n",
    "print(f\"이벤트 기간 외에 이벤트 대상 도서에 남겨진 댓글 :{review_bef_aft_event['review'].count()}\")"
   ]
  },
  {
   "cell_type": "code",
   "execution_count": 67,
   "metadata": {},
   "outputs": [
    {
     "data": {
      "text/plain": [
       "Text(0.5, 1.0, '이벤트 대상 도서에 남겨진 댓글')"
      ]
     },
     "execution_count": 67,
     "metadata": {},
     "output_type": "execute_result"
    },
    {
     "data": {
      "image/png": "[encoded data removed]",
      "text/plain": [
       "<Figure size 288x360 with 1 Axes>"
      ]
     },
     "metadata": {
      "needs_background": "light"
     },
     "output_type": "display_data"
    }
   ],
   "source": [
    "plt.figure(figsize=(4, 5))\n",
    "x = plt.bar(['이벤트 기간 동안', '이벤트 기간 외']\n",
    "        , [review_during_event['review'].count(),review_bef_aft_event['review'].count() ]\n",
    "        , color = ['#54CAEA', '#00517C']\n",
    "        , width = 0.6)\n",
    "\n",
    "# Plot Formatting\n",
    "plt.gca().set_facecolor('#E6F0F8')\n",
    "\n",
    "plt.gca().spines['left'].set_visible(False)\n",
    "plt.gca().spines['right'].set_visible(False)\n",
    "plt.gca().spines['top'].set_visible(False)\n",
    "plt.gca().spines['bottom'].set_visible(False)\n",
    "\n",
    "\n",
    "for p in x.patches:\n",
    "    left, bottom, width, height = p.get_bbox().bounds\n",
    "    plt.annotate(f\"{int(height)}\",(left+width/2, height+100), ha = 'center', size =15, color = '#00517C')\n",
    "    \n",
    "    \n",
    "plt.yticks(ticks= [])\n",
    "plt.xticks(color='#00517C', fontsize =15)\n",
    "\n",
    "\n",
    "plt.title(\"이벤트 대상 도서에 남겨진 댓글\", fontsize = 18, color='#00517C')\n"
   ]
  },
  {
   "cell_type": "code",
   "execution_count": 83,
   "metadata": {},
   "outputs": [
    {
     "name": "stdout",
     "output_type": "stream",
     "text": [
      "earliest event start : 2019.12.05\n",
      "last event end : 2020.11.05\n"
     ]
    }
   ],
   "source": [
    "print(f\"earliest event start : {min(review_event['event_start'])}\")\n",
    "      \n",
    "print(f\"last event end : {max(review_event['event_end'])}\")"
   ]
  },
  {
   "cell_type": "code",
   "execution_count": 116,
   "metadata": {},
   "outputs": [
    {
     "data": {
      "text/plain": [
       "5796"
      ]
     },
     "execution_count": 116,
     "metadata": {},
     "output_type": "execute_result"
    }
   ],
   "source": [
    "len(review_during_event)"
   ]
  },
  {
   "cell_type": "code",
   "execution_count": 117,
   "metadata": {},
   "outputs": [],
   "source": [
    "all_review_during_event = len(pb_review[(pb_review['created'] >= '2019.12.05') & (pb_review['created'] <= '2020.11.05')])\n",
    "review_event_review = len(review_during_event)"
   ]
  },
  {
   "cell_type": "code",
   "execution_count": null,
   "metadata": {},
   "outputs": [],
   "source": []
  },
  {
   "cell_type": "code",
   "execution_count": 137,
   "metadata": {},
   "outputs": [
    {
     "data": {
      "text/plain": [
       "Text(0.5, 1.0, '이벤트 기간 동안 댓글')"
      ]
     },
     "execution_count": 137,
     "metadata": {},
     "output_type": "execute_result"
    },
    {
     "data": {
      "image/png": "[encoded data removed]",
      "text/plain": [
       "<Figure size 432x288 with 1 Axes>"
      ]
     },
     "metadata": {},
     "output_type": "display_data"
    }
   ],
   "source": [
    "plt.pie([review_event_review, (all_review_during_event - review_event_review)]\n",
    "        , colors = ['#54CAEA', '#E6F0F8']\n",
    "        , explode = [0, 0.2]\n",
    "        ,labels = ['이벤트 대상 도서에 작성된 댓글', '그 외 도서에 작성된 댓글']\n",
    "        , autopct='%.1f%%' \n",
    "       )\n",
    "\n",
    "plt.legend(bbox_to_anchor=(1, 0, 0.5, 1))\n",
    "plt.title(\"이벤트 기간 동안 댓글\", fontsize = 18, color='#00517C')\n"
   ]
  },
  {
   "cell_type": "code",
   "execution_count": 74,
   "metadata": {},
   "outputs": [
    {
     "data": {
      "text/plain": [
       "Text(0.5, 1.0, '<살고 싶다는 농담> 댓글 수')"
      ]
     },
     "execution_count": 74,
     "metadata": {},
     "output_type": "execute_result"
    },
    {
     "data": {
      "image/png": "[encoded data removed]",
      "text/plain": [
       "<Figure size 288x360 with 1 Axes>"
      ]
     },
     "metadata": {
      "needs_background": "light"
     },
     "output_type": "display_data"
    }
   ],
   "source": [
    "plt.figure(figsize=(4, 5))\n",
    "x = plt.bar(['이벤트 기간 동안', '이벤트 기간 외']\n",
    "        , [len(review_during_event.query('title == \"살고 싶다는 농담\"')), len(review_bef_aft_event.query('title == \"살고 싶다는 농담\"'))]\n",
    "        , color = ['#54CAEA', '#00517C']\n",
    "        , width = 0.6)\n",
    "\n",
    "# Plot Formatting\n",
    "plt.gca().set_facecolor('#E6F0F8')\n",
    "plt.gca().spines['left'].set_visible(False)\n",
    "plt.gca().spines['right'].set_visible(False)\n",
    "plt.gca().spines['top'].set_visible(False)\n",
    "plt.gca().spines['bottom'].set_visible(False)\n",
    "\n",
    "\n",
    "for p in x.patches:\n",
    "    left, bottom, width, height = p.get_bbox().bounds\n",
    "    plt.annotate(f\"{int(height)}\",(left+width/2, height+10), ha = 'center', size =15, color = '#00517C')\n",
    "    \n",
    "    \n",
    "plt.yticks(ticks= [])\n",
    "plt.xticks(color='#00517C', fontsize =15)\n",
    "\n",
    "plt.title('<살고 싶다는 농담> 댓글 수', color = \"#00517C\", size = 20)"
   ]
  },
  {
   "cell_type": "code",
   "execution_count": 143,
   "metadata": {},
   "outputs": [
    {
     "data": {
      "text/plain": [
       "0    2020.10.30~2020.11.05\n",
       "Name: event_period, dtype: object"
      ]
     },
     "execution_count": 143,
     "metadata": {},
     "output_type": "execute_result"
    }
   ],
   "source": [
    "review_event.query('event_book == \"살고 싶다는 농담\"')['event_period']"
   ]
  },
  {
   "cell_type": "markdown",
   "metadata": {},
   "source": [
    "2020.10.30 ~ 2020.11.05 동안 댓글 이벤트가 진행된 \"살고 싶다는 농담\"에 해당 기간 외에 달린 댓글은 0개"
   ]
  },
  {
   "cell_type": "code",
   "execution_count": null,
   "metadata": {},
   "outputs": [],
   "source": []
  },
  {
   "cell_type": "markdown",
   "metadata": {},
   "source": [
    "# 서비스간 비교"
   ]
  },
  {
   "cell_type": "markdown",
   "metadata": {},
   "source": [
    "**팟빵, 네이버, 윌라** <br>\n",
    "서비스별로 600개의 댓글 랜덤 추출하여 비교"
   ]
  },
  {
   "cell_type": "markdown",
   "metadata": {},
   "source": [
    "평점만 있고 댓글은 없는 경우가 있어서 제외하고 진행"
   ]
  },
  {
   "cell_type": "code",
   "execution_count": 147,
   "metadata": {},
   "outputs": [
    {
     "name": "stderr",
     "output_type": "stream",
     "text": [
      "C:\\Users\\Hanna Kim\\Anaconda3\\lib\\site-packages\\ipykernel_launcher.py:2: SettingWithCopyWarning: \n",
      "A value is trying to be set on a copy of a slice from a DataFrame.\n",
      "Try using .loc[row_indexer,col_indexer] = value instead\n",
      "\n",
      "See the caveats in the documentation: https://pandas.pydata.org/pandas-docs/stable/user_guide/indexing.html#returning-a-view-versus-a-copy\n",
      "  \n"
     ]
    },
    {
     "data": {
      "text/html": [
       "<div>\n",
       "<style scoped>\n",
       "    .dataframe tbody tr th:only-of-type {\n",
       "        vertical-align: middle;\n",
       "    }\n",
       "\n",
       "    .dataframe tbody tr th {\n",
       "        vertical-align: top;\n",
       "    }\n",
       "\n",
       "    .dataframe thead th {\n",
       "        text-align: right;\n",
       "    }\n",
       "</style>\n",
       "<table border=\"1\" class=\"dataframe\">\n",
       "  <thead>\n",
       "    <tr style=\"text-align: right;\">\n",
       "      <th></th>\n",
       "      <th>nickname</th>\n",
       "      <th>rating</th>\n",
       "      <th>title</th>\n",
       "      <th>voice</th>\n",
       "      <th>author</th>\n",
       "      <th>review</th>\n",
       "      <th>created</th>\n",
       "      <th>publish</th>\n",
       "      <th>genre</th>\n",
       "      <th>length</th>\n",
       "    </tr>\n",
       "  </thead>\n",
       "  <tbody>\n",
       "    <tr>\n",
       "      <th>524</th>\n",
       "      <td>호드도어</td>\n",
       "      <td>10.0</td>\n",
       "      <td>들어본 이야기</td>\n",
       "      <td>구병모,권여선,김보나,박솔뫼,최인영</td>\n",
       "      <td>구병모,권여선,듀나,박솔뫼,한유주</td>\n",
       "      <td>잘들어보겟습니다</td>\n",
       "      <td>2020.10.23</td>\n",
       "      <td>미디어창비</td>\n",
       "      <td>소설문학</td>\n",
       "      <td>8</td>\n",
       "    </tr>\n",
       "  </tbody>\n",
       "</table>\n",
       "</div>"
      ],
      "text/plain": [
       "    nickname  rating    title                voice              author  \\\n",
       "524     호드도어    10.0  들어본 이야기  구병모,권여선,김보나,박솔뫼,최인영  구병모,권여선,듀나,박솔뫼,한유주   \n",
       "\n",
       "       review     created publish genre  length  \n",
       "524  잘들어보겟습니다  2020.10.23   미디어창비  소설문학       8  "
      ]
     },
     "execution_count": 147,
     "metadata": {},
     "output_type": "execute_result"
    }
   ],
   "source": [
    "pb_with_review = pb_review.dropna(how = 'any',subset=[\"review\"], axis = 0)\n",
    "pb_with_review[\"length\"] = pb_with_review['review'].apply(len)\n",
    "pb_with_review = pb_with_review.sample(600)\n",
    "pb_with_review.sample()"
   ]
  },
  {
   "cell_type": "code",
   "execution_count": 145,
   "metadata": {},
   "outputs": [
    {
     "name": "stderr",
     "output_type": "stream",
     "text": [
      "C:\\Users\\Hanna Kim\\Anaconda3\\lib\\site-packages\\ipykernel_launcher.py:2: SettingWithCopyWarning: \n",
      "A value is trying to be set on a copy of a slice from a DataFrame.\n",
      "Try using .loc[row_indexer,col_indexer] = value instead\n",
      "\n",
      "See the caveats in the documentation: https://pandas.pydata.org/pandas-docs/stable/user_guide/indexing.html#returning-a-view-versus-a-copy\n",
      "  \n"
     ]
    },
    {
     "data": {
      "text/html": [
       "<div>\n",
       "<style scoped>\n",
       "    .dataframe tbody tr th:only-of-type {\n",
       "        vertical-align: middle;\n",
       "    }\n",
       "\n",
       "    .dataframe tbody tr th {\n",
       "        vertical-align: top;\n",
       "    }\n",
       "\n",
       "    .dataframe thead th {\n",
       "        text-align: right;\n",
       "    }\n",
       "</style>\n",
       "<table border=\"1\" class=\"dataframe\">\n",
       "  <thead>\n",
       "    <tr style=\"text-align: right;\">\n",
       "      <th></th>\n",
       "      <th>nickname</th>\n",
       "      <th>created</th>\n",
       "      <th>review</th>\n",
       "      <th>length</th>\n",
       "    </tr>\n",
       "  </thead>\n",
       "  <tbody>\n",
       "    <tr>\n",
       "      <th>304</th>\n",
       "      <td>Jiwoo's mom</td>\n",
       "      <td>2020.10.31 11:52</td>\n",
       "      <td>사람은 말이야...그 아이를 세상에 남겨놓은 이상은 죽어도 아주 죽는게 아니래......</td>\n",
       "      <td>93</td>\n",
       "    </tr>\n",
       "  </tbody>\n",
       "</table>\n",
       "</div>"
      ],
      "text/plain": [
       "        nickname           created  \\\n",
       "304  Jiwoo's mom  2020.10.31 11:52   \n",
       "\n",
       "                                                review  length  \n",
       "304  사람은 말이야...그 아이를 세상에 남겨놓은 이상은 죽어도 아주 죽는게 아니래......      93  "
      ]
     },
     "execution_count": 145,
     "metadata": {},
     "output_type": "execute_result"
    }
   ],
   "source": [
    "wl_with_review = wl_review.dropna(how = 'any',subset=[\"review\"], axis = 0)\n",
    "wl_with_review[\"length\"] = wl_with_review['review'].apply(len)\n",
    "wl_with_review = wl_with_review.sample(600)\n",
    "wl_with_review.sample()"
   ]
  },
  {
   "cell_type": "code",
   "execution_count": 148,
   "metadata": {},
   "outputs": [
    {
     "name": "stderr",
     "output_type": "stream",
     "text": [
      "C:\\Users\\Hanna Kim\\Anaconda3\\lib\\site-packages\\ipykernel_launcher.py:2: SettingWithCopyWarning: \n",
      "A value is trying to be set on a copy of a slice from a DataFrame.\n",
      "Try using .loc[row_indexer,col_indexer] = value instead\n",
      "\n",
      "See the caveats in the documentation: https://pandas.pydata.org/pandas-docs/stable/user_guide/indexing.html#returning-a-view-versus-a-copy\n",
      "  \n"
     ]
    },
    {
     "data": {
      "text/html": [
       "<div>\n",
       "<style scoped>\n",
       "    .dataframe tbody tr th:only-of-type {\n",
       "        vertical-align: middle;\n",
       "    }\n",
       "\n",
       "    .dataframe tbody tr th {\n",
       "        vertical-align: top;\n",
       "    }\n",
       "\n",
       "    .dataframe thead th {\n",
       "        text-align: right;\n",
       "    }\n",
       "</style>\n",
       "<table border=\"1\" class=\"dataframe\">\n",
       "  <thead>\n",
       "    <tr style=\"text-align: right;\">\n",
       "      <th></th>\n",
       "      <th>nickname</th>\n",
       "      <th>created</th>\n",
       "      <th>review</th>\n",
       "      <th>title</th>\n",
       "      <th>author</th>\n",
       "      <th>voice</th>\n",
       "      <th>length</th>\n",
       "    </tr>\n",
       "  </thead>\n",
       "  <tbody>\n",
       "    <tr>\n",
       "      <th>3</th>\n",
       "      <td>방구</td>\n",
       "      <td>2020-11-18 22:39</td>\n",
       "      <td>너무좋아요</td>\n",
       "      <td>꼬마 백만장자 삐삐</td>\n",
       "      <td>아스트리드 린드그렌</td>\n",
       "      <td>김영은</td>\n",
       "      <td>5</td>\n",
       "    </tr>\n",
       "  </tbody>\n",
       "</table>\n",
       "</div>"
      ],
      "text/plain": [
       "  nickname           created review       title      author voice  length\n",
       "3       방구  2020-11-18 22:39  너무좋아요  꼬마 백만장자 삐삐  아스트리드 린드그렌   김영은       5"
      ]
     },
     "execution_count": 148,
     "metadata": {},
     "output_type": "execute_result"
    }
   ],
   "source": [
    "nv_with_review = nv_review.dropna(how = 'any',subset=[\"review\"], axis = 0) #rating만 있는 경우 drop\n",
    "nv_with_review[\"length\"] = nv_with_review['review'].apply(len)\n",
    "nv_with_review = nv_with_review.sample(600)\n",
    "nv_with_review.sample()"
   ]
  },
  {
   "cell_type": "markdown",
   "metadata": {},
   "source": [
    "## 댓글 길이 비교"
   ]
  },
  {
   "cell_type": "code",
   "execution_count": 154,
   "metadata": {},
   "outputs": [
    {
     "data": {
      "text/plain": [
       "Text(0.5, 1.0, '플랫폼별 댓글 평균 길이')"
      ]
     },
     "execution_count": 154,
     "metadata": {},
     "output_type": "execute_result"
    },
    {
     "data": {
      "image/png": "[encoded data removed]",
      "text/plain": [
       "<Figure size 432x288 with 1 Axes>"
      ]
     },
     "metadata": {
      "needs_background": "light"
     },
     "output_type": "display_data"
    }
   ],
   "source": [
    "x = plt.bar(x=[\"팟빵\", \"윌라\", \"오디오클립\"]\n",
    "        ,height = [np.mean(pb_with_review['length']), \n",
    "                   np.mean(wl_with_review['length']),np.mean(nv_with_review['length'])]\n",
    "        ,color = [\"#54CAEA\",  \"gold\", \"#22C463\"]\n",
    "        , linewidth = 0\n",
    "       )\n",
    "\n",
    "# Plot Formatting\n",
    "plt.gca().spines['left'].set_visible(False)\n",
    "plt.gca().spines['right'].set_visible(False)\n",
    "plt.gca().spines['top'].set_visible(False)\n",
    "plt.gca().set_facecolor('#E6F0F8')\n",
    "plt.gca().grid(False)\n",
    "plt.gca().spines['left'].set_color('#00517C')\n",
    "plt.gca().spines['bottom'].set_color('#00517C')\n",
    "\n",
    "for p in x.patches:\n",
    "    left, bottom, width, height = p.get_bbox().bounds\n",
    "    plt.annotate(f\"{round(height,1)} 자\",(left+width/2, height+1), ha = 'center', size =15, color = '#00517C')\n",
    "\n",
    "plt.yticks(ticks= [])\n",
    "plt.xticks(color= '#00517C')\n",
    "\n",
    "plt.title(\"플랫폼별 댓글 평균 길이\", color = '#00517C', size=20)"
   ]
  },
  {
   "cell_type": "code",
   "execution_count": 155,
   "metadata": {},
   "outputs": [
    {
     "data": {
      "image/png": "[encoded data removed]",
      "text/plain": [
       "<Figure size 648x504 with 1 Axes>"
      ]
     },
     "metadata": {
      "needs_background": "light"
     },
     "output_type": "display_data"
    }
   ],
   "source": [
    "# 데이터\n",
    "x1 = pb_with_review['length']\n",
    "x2 = nv_with_review['length']\n",
    "x3 = wl_with_review['length']\n",
    "\n",
    "\n",
    "# 색과 라벨 붙이기\n",
    "colors = ['#54CAEA', '#22C463', 'gold']\n",
    "names = ['팟빵', '오디오클립', '윌라']\n",
    "         \n",
    "plt.figure(figsize = (9,7))\n",
    "plt.hist([x1, x2, x3]\n",
    "         , bins = range(1,300, 50)\n",
    "         , color = colors\n",
    "         , label=names\n",
    "        , linewidth = 0)\n",
    "\n",
    "# Plot formatting\n",
    "l = plt.legend(fontsize = 20)\n",
    "for text in l.get_texts():\n",
    "    text.set_color('#00517C')\n",
    "\n",
    "plt.gca().set_facecolor('#E6F0F8')\n",
    "plt.gca().grid(False)\n",
    "plt.gca().spines['right'].set_visible(False)\n",
    "plt.gca().spines['top'].set_visible(False)\n",
    "\n",
    "#plt.yticks(ticks= [])\n",
    "plt.gca().spines['bottom'].set_color('#00517C')\n",
    "plt.gca().spines['left'].set_color('#00517C')\n",
    "plt.xticks(color='#00517C', fontsize =15)\n",
    "plt.yticks(color='#00517C', fontsize =15)\n",
    "\n",
    "plt.xlabel('(자)', loc = 'right', size =13, color = '#00517C')\n",
    "plt.ylabel('빈도', size =13, color = '#00517C')\n",
    "\n",
    "plt.title('플랫폼별 댓글 길이 히스토그램', color = \"#00517C\", size = 30)\n",
    "plt.show()\n"
   ]
  },
  {
   "cell_type": "markdown",
   "metadata": {},
   "source": [
    "아래 조건으로 댓글 필터링:\n",
    "+ 댓글 길이가 10자 미만\n",
    "+ <잘|들었습니다|좋아요|좋습니다|최고|재밌|감사|굿|고마|고맙> 포함\n"
   ]
  },
  {
   "cell_type": "markdown",
   "metadata": {},
   "source": [
    "## 댓글 필터링"
   ]
  },
  {
   "cell_type": "code",
   "execution_count": 167,
   "metadata": {},
   "outputs": [],
   "source": [
    "pb_fit = pb_with_review[(pb_with_review['length'] < 10) & (pb_with_review['review'].str.contains('잘|들었습니다|좋아요|좋습니다|최고|재밌|감사|굿|고마|고맙'))]\n",
    "\n",
    "nv_fit = nv_with_review[(nv_with_review['length'] < 10) & (nv_with_review['review'].str.contains('잘|들었습니다|좋아요|좋습니다|최고|재밌|감사|굿|고마|고맙'))]\n",
    "\n",
    "wl_fit = wl_with_review[(wl_with_review['length'] < 10) & (wl_with_review['review'].str.contains('잘|들었습니다|좋아요|좋습니다|최고|재밌|감사|굿|고마|고맙'))]"
   ]
  },
  {
   "cell_type": "code",
   "execution_count": 185,
   "metadata": {},
   "outputs": [
    {
     "data": {
      "image/png": "[encoded data removed]",
      "text/plain": [
       "<Figure size 432x288 with 1 Axes>"
      ]
     },
     "metadata": {
      "needs_background": "light"
     },
     "output_type": "display_data"
    }
   ],
   "source": [
    "x = plt.bar(x = ['팟빵', '윌라', '네이버']\n",
    "            , height = [len(pb_fit)/600*100,len(wl_fit)/600*100, len(nv_fit)/600*100]\n",
    "            ,color = [\"#54CAEA\",  \"gold\", \"#22C463\"]\n",
    "            ,linewidth = 0\n",
    "            \n",
    "           )\n",
    "\n",
    "\n",
    "for p in x.patches:\n",
    "    left, bottom, width, height = p.get_bbox().bounds\n",
    "    plt.annotate(f\"{round(height,2)}%\",(left+width/2, height+1), ha = 'center', size =15, color = '#00517C')\n",
    "\n",
    "plt.gca().grid(False)\n",
    "plt.yticks(ticks= [])\n",
    "plt.xticks(color='#00517C')\n",
    "plt.ylabel('')\n",
    "\n",
    "    \n",
    "plt.title(\"플랫폼별 전체 댓글 대비 해당 케이스 비율\", color = \"#00517C\", size = 18)\n",
    "plt.show()"
   ]
  },
  {
   "cell_type": "code",
   "execution_count": 166,
   "metadata": {},
   "outputs": [],
   "source": []
  },
  {
   "cell_type": "markdown",
   "metadata": {},
   "source": [
    "frequency analysis를 통해 플랫폼별 댓글의 명사, 형태소 분석 진행함 <br>\n",
    "이를 토대로 명사, 형태소 가짓수를 구함"
   ]
  },
  {
   "cell_type": "code",
   "execution_count": 187,
   "metadata": {},
   "outputs": [
    {
     "data": {
      "text/plain": [
       "Text(0.5, 1.0, '플랫폼별 댓글 명사 개수')"
      ]
     },
     "execution_count": 187,
     "metadata": {},
     "output_type": "execute_result"
    },
    {
     "data": {
      "image/png": "[encoded data removed]",
      "text/plain": [
       "<Figure size 432x288 with 1 Axes>"
      ]
     },
     "metadata": {
      "needs_background": "light"
     },
     "output_type": "display_data"
    }
   ],
   "source": [
    "x = plt.bar(x=[\"팟빵\", \"윌라\", \"오디오클립\"]\n",
    "        ,height = [492, 1237, 1224]\n",
    "        ,color = [\"#54CAEA\",  \"gold\", \"#22C463\"]\n",
    "        ,linewidth = 0\n",
    "       )\n",
    "\n",
    "\n",
    "plt.gca().spines['left'].set_visible(False)\n",
    "plt.gca().spines['right'].set_visible(False)\n",
    "plt.gca().spines['top'].set_visible(False)\n",
    "\n",
    "plt.gca().set_facecolor('#E6F0F8')\n",
    "plt.gca().spines['left'].set_color('#00517C')\n",
    "plt.gca().spines['bottom'].set_color('#00517C')\n",
    "plt.gca().grid(False)\n",
    "\n",
    "for p in x.patches:\n",
    "    left, bottom, width, height = p.get_bbox().bounds\n",
    "    plt.annotate(f\"{int(height)}\",(left+width/2, height+35), ha = 'center', size =15, color = '#00517C')\n",
    "    \n",
    "    \n",
    "plt.yticks(ticks= [])\n",
    "plt.xticks(color= '#00517C')\n",
    "\n",
    "plt.title(\"플랫폼별 댓글 명사 개수\", color = '#00517C', size=20)"
   ]
  },
  {
   "cell_type": "code",
   "execution_count": null,
   "metadata": {},
   "outputs": [],
   "source": []
  },
  {
   "cell_type": "markdown",
   "metadata": {},
   "source": [
    "## 좋아요, 잘들었어요, 감사합니다"
   ]
  },
  {
   "cell_type": "code",
   "execution_count": 189,
   "metadata": {},
   "outputs": [
    {
     "name": "stdout",
     "output_type": "stream",
     "text": [
      "'좋아요' : 1361      |  전체 댓글 대비 '좋아요' 비율 : 8.76%\n",
      "'잘들었습니다' : 982 |  전체 댓글 대비 '잘들었습니다' 비율 : 6.32%\n",
      "'감사합니다' : 257   |  전체 댓글 대비 '감사합니다' 비율 : 1.65%\n"
     ]
    }
   ],
   "source": [
    "good = [\"좋아요\", \"좋네요\", \"좋습니다\"]\n",
    "good_len  = len(pb_review[pb_review['review'].isin(good)])\n",
    "\n",
    "listen = [\"잘들었습니다\", \"잘 들었습니다\", \"잘들었어요\", \"잘 들었어요\"]\n",
    "listen_len = len(pb_review[pb_review['review'].isin(listen)])\n",
    "\n",
    "thanks = [\"감사합니다\", \"감사해요\", \"고맙습니다\", \"고마워요\"]\n",
    "thanks_len = len(pb_review[pb_review['review'].isin(thanks)])\n",
    "\n",
    "print(f\"'좋아요' : {good_len}      |  전체 댓글 대비 '좋아요' 비율 : {round(good_len/len(pb_review)*100,2)}%\")\n",
    "print(f\"'잘들었습니다' : {listen_len} |  전체 댓글 대비 '잘들었습니다' 비율 : {round(listen_len/len(pb_review)*100,2)}%\")\n",
    "print(f\"'감사합니다' : {thanks_len}   |  전체 댓글 대비 '감사합니다' 비율 : {round(thanks_len/len(pb_review)*100,2)}%\")"
   ]
  },
  {
   "cell_type": "code",
   "execution_count": 191,
   "metadata": {},
   "outputs": [],
   "source": [
    "rest_len = len(pb_review) - (listen_len + thanks_len + good_len)"
   ]
  },
  {
   "cell_type": "code",
   "execution_count": 200,
   "metadata": {},
   "outputs": [
    {
     "data": {
      "text/plain": [
       "Text(0.5, 1.0, '좋아요잘들었어요감사합니다')"
      ]
     },
     "execution_count": 200,
     "metadata": {},
     "output_type": "execute_result"
    },
    {
     "data": {
      "image/png": "[encoded data removed]",
      "text/plain": [
       "<Figure size 432x288 with 1 Axes>"
      ]
     },
     "metadata": {},
     "output_type": "display_data"
    }
   ],
   "source": [
    "plt.pie([listen_len+thanks_len+good_len, rest_len], \n",
    "        labels = [\"좋아요잘들었어요감사합니다\",\"그 외\"], \n",
    "        autopct='%.1f%%',\n",
    "        colors = [\"#54CAEA\", \"#E6F0F8\"],\n",
    "        wedgeprops={'width': 0.7, 'edgecolor': 'w', 'linewidth': 1}\n",
    "       )\n",
    "\n",
    "\n",
    "plt.legend(bbox_to_anchor=(1, 0, 0.5, 1))\n",
    "\n",
    "plt.title(\"좋아요잘들었어요감사합니다\", fontdict = {'color': '#00517C', 'size': 17})"
   ]
  },
  {
   "cell_type": "markdown",
   "metadata": {},
   "source": [
    "타사와 비교"
   ]
  },
  {
   "cell_type": "code",
   "execution_count": 203,
   "metadata": {},
   "outputs": [
    {
     "name": "stdout",
     "output_type": "stream",
     "text": [
      "'좋아요' : 34      |  전체 댓글 대비 '좋아요' 비율 : 0.84%\n",
      "'잘들었습니다' : 10 |  전체 댓글 대비 '잘들었습니다' 비율 : 0.25%\n",
      "'감사합니다' : 2   |  전체 댓글 대비 '감사합니다' 비율 : 0.05%\n"
     ]
    }
   ],
   "source": [
    "good = [\"좋아요\", \"좋네요\", \"좋습니다\"]\n",
    "good_len  = len(wl_review[wl_review['review'].isin(good)])\n",
    "\n",
    "listen = [\"잘들었습니다\", \"잘 들었습니다\", \"잘들었어요\", \"잘 들었어요\"]\n",
    "listen_len = len(wl_review[wl_review['review'].isin(listen)])\n",
    "\n",
    "thanks = [\"감사합니다\", \"감사해요\", \"고맙습니다\", \"고마워요\"]\n",
    "thanks_len = len(wl_review[wl_review['review'].isin(thanks)])\n",
    "\n",
    "print(f\"'좋아요' : {good_len}      |  전체 댓글 대비 '좋아요' 비율 : {round(good_len/len(wl_review)*100,2)}%\")\n",
    "print(f\"'잘들었습니다' : {listen_len} |  전체 댓글 대비 '잘들었습니다' 비율 : {round(listen_len/len(wl_review)*100,2)}%\")\n",
    "print(f\"'감사합니다' : {thanks_len}   |  전체 댓글 대비 '감사합니다' 비율 : {round(thanks_len/len(wl_review)*100,2)}%\")"
   ]
  },
  {
   "cell_type": "code",
   "execution_count": 204,
   "metadata": {},
   "outputs": [
    {
     "name": "stdout",
     "output_type": "stream",
     "text": [
      "'좋아요' : 5      |  전체 댓글 대비 '좋아요' 비율 : 0.37%\n",
      "'잘들었습니다' : 6 |  전체 댓글 대비 '잘들었습니다' 비율 : 0.44%\n",
      "'감사합니다' : 5   |  전체 댓글 대비 '감사합니다' 비율 : 0.37%\n"
     ]
    }
   ],
   "source": [
    "good = [\"좋아요\", \"좋네요\", \"좋습니다\"]\n",
    "good_len  = len(nv_review[nv_review['review'].isin(good)])\n",
    "\n",
    "listen = [\"잘들었습니다\", \"잘 들었습니다\", \"잘들었어요\", \"잘 들었어요\"]\n",
    "listen_len = len(nv_review[nv_review['review'].isin(listen)])\n",
    "\n",
    "thanks = [\"감사합니다\", \"감사해요\", \"고맙습니다\", \"고마워요\"]\n",
    "thanks_len = len(nv_review[nv_review['review'].isin(thanks)])\n",
    "\n",
    "print(f\"'좋아요' : {good_len}      |  전체 댓글 대비 '좋아요' 비율 : {round(good_len/len(nv_review)*100,2)}%\")\n",
    "print(f\"'잘들었습니다' : {listen_len} |  전체 댓글 대비 '잘들었습니다' 비율 : {round(listen_len/len(nv_review)*100,2)}%\")\n",
    "print(f\"'감사합니다' : {thanks_len}   |  전체 댓글 대비 '감사합니다' 비율 : {round(thanks_len/len(nv_review)*100,2)}%\")"
   ]
  },
  {
   "cell_type": "code",
   "execution_count": null,
   "metadata": {},
   "outputs": [],
   "source": []
  }
 ],
 "metadata": {
  "kernelspec": {
   "display_name": "Python 3",
   "language": "python",
   "name": "python3"
  },
  "language_info": {
   "codemirror_mode": {
    "name": "ipython",
    "version": 3
   },
   "file_extension": ".py",
   "mimetype": "text/x-python",
   "name": "python",
   "nbconvert_exporter": "python",
   "pygments_lexer": "ipython3",
   "version": "3.7.4"
  },
  "toc": {
   "base_numbering": 1,
   "nav_menu": {},
   "number_sections": true,
   "sideBar": true,
   "skip_h1_title": false,
   "title_cell": "Table of Contents",
   "title_sidebar": "Contents",
   "toc_cell": false,
   "toc_position": {
    "height": "calc(100% - 180px)",
    "left": "10px",
    "top": "150px",
    "width": "150.075px"
   },
   "toc_section_display": true,
   "toc_window_display": true
  }
 },
 "nbformat": 4,
 "nbformat_minor": 2
}
