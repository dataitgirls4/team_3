{
 "cells": [
  {
   "cell_type": "code",
   "execution_count": null,
   "metadata": {},
   "outputs": [],
   "source": [
    "from selenium import webdriver\n",
    "from bs4 import BeautifulSoup\n",
    "import pandas as pd\n",
    "import time"
   ]
  },
  {
   "cell_type": "code",
   "execution_count": null,
   "metadata": {},
   "outputs": [],
   "source": [
    "nickname = []\n",
    "rating = []\n",
    "title=[]\n",
    "voice=[]\n",
    "author=[]\n",
    "review = []"
   ]
  },
  {
   "cell_type": "code",
   "execution_count": null,
   "metadata": {},
   "outputs": [],
   "source": [
    "def scroll(driver, timeout):\n",
    "    scroll_pause_time = timeout\n",
    "\n",
    "    # Get scroll height\n",
    "    last_height = driver.execute_script(\"return document.body.scrollHeight\")\n",
    "\n",
    "    while True:\n",
    "        # Scroll down to bottom\n",
    "        driver.execute_script(\"window.scrollTo(0, document.body.scrollHeight);\")\n",
    "\n",
    "        # Wait to load page\n",
    "        time.sleep(scroll_pause_time)\n",
    "\n",
    "        # Calculate new scroll height and compare with last scroll height\n",
    "        new_height = driver.execute_script(\"return document.body.scrollHeight\")\n",
    "        if new_height == last_height:\n",
    "            # If heights are the same it will exit the function\n",
    "            break\n",
    "        last_height = new_height"
   ]
  },
  {
   "cell_type": "markdown",
   "metadata": {},
   "source": [
    "- 지현) 소설문학 http://m.podbbang.com/audiobooks?category_id=100\n",
    "- 미리) 오디오북스 http://m.podbbang.com/audiobooks?category_id=111\n",
    "- 미리) 자기계발 http://m.podbbang.com/audiobooks?category_id=101\n",
    "- 현진) 경제경영 http://m.podbbang.com/audiobooks?category_id=103\n",
    "- 현진) 인문교양 http://m.podbbang.com/audiobooks?category_id=104\n",
    "- 연주) 역사 http://m.podbbang.com/audiobooks?category_id=105\n",
    "- 연주) 어린이동화 http://m.podbbang.com/audiobooks?category_id=106\n"
   ]
  },
  {
   "cell_type": "code",
   "execution_count": null,
   "metadata": {},
   "outputs": [],
   "source": [
    "driver = webdriver.Chrome('C:/Users/USER/Desktop/데잇걸즈/파이썬/[어수웅] 파이썬 프로그래밍/chromedriver') #각자 chromedriver가 설치되어있는 주소를 입력해주세요\n",
    "driver.implicitly_wait(3)\n",
    "driver.get(\"http://m.podbbang.com/audiobooks?category_id=100\") #각자 맡은 카테고리 페이지 url을 입력해주세요\n",
    "scroll(driver, 0.6) #스크롤 끝까지 내려\n",
    "html = driver.page_source\n",
    "soup = BeautifulSoup(html, 'html.parser')"
   ]
  },
  {
   "cell_type": "code",
   "execution_count": null,
   "metadata": {},
   "outputs": [],
   "source": [
    "for i in range(1,len(soup.select('ul.audiobook-list-component__list>li.audiobook-list-item-component>h3.title'))):\n",
    "    element = driver.find_element_by_xpath(f'//*[@id=\"audiobookIndex\"]/div[2]/div/ul/li[{i}]') #특정 책으로 들어가\n",
    "    driver.execute_script(\"arguments[0].click();\", element)\n",
    "    scroll(driver, 0.6) #스크롤 끝까지 내려\n",
    "    html = driver.page_source\n",
    "    soup2 = BeautifulSoup(html, 'html.parser') #특정 책 soup\n",
    "    n = int(soup2.select('div.audiobook-reviews-component>h3.title>span')[0].text.split(' ')[1].strip('명')) #n정의\n",
    "    for i in range((n-3)//12+1):\n",
    "        더보기 = driver.find_element_by_xpath('//*[@id=\"audiobookDetails\"]/div[5]/div/button[1]')\n",
    "        더보기.click()\n",
    "    time.sleep(1)\n",
    "    html = driver.page_source\n",
    "    soup3 = BeautifulSoup(html, 'html.parser') #댓글 다 나와있는 soup\n",
    "    for i in range(n):\n",
    "        c=soup3.select('dt.title')[0].text\n",
    "        a=soup3.select('h3.nickname')[i].text\n",
    "        b=soup3.select('div.star_rating>span')[i].get('style').split(' ')[1][:-2]\n",
    "        d=soup3.select('dl.audiobook-details__info>dd')[1].text[3:]\n",
    "        e=soup3.select('dl.audiobook-details__info>dd')[2].text[2:]\n",
    "        f=soup3.select('li.audiobook-review-list-item>p.message')[0].text\n",
    "        nickname.append(a)\n",
    "        rating.append(b)\n",
    "        title.append(c)\n",
    "        voice.append(d)\n",
    "        author.append(e)\n",
    "        review.append(f)\n",
    "    driver.back() # 책 목록으로 돌아가\n",
    "    scroll(driver, 0.6) #스크롤 끝까지 내려"
   ]
  },
  {
   "cell_type": "code",
   "execution_count": null,
   "metadata": {},
   "outputs": [],
   "source": [
    "booklist = pd.DataFrame({\n",
    "    'title': title,\n",
    "    'nickname':nickname,\n",
    "    'rating':rating,\n",
    "    'voice': voice,\n",
    "    'author': author,\n",
    "    'review': review\n",
    "    \n",
    "})\n",
    "\n",
    "booklist"
   ]
  },
  {
   "cell_type": "code",
   "execution_count": null,
   "metadata": {},
   "outputs": [],
   "source": [
    "booklist.to_csv('C:/Users/USER/Desktop/깃헙코웤/team_3/문서제목.csv', encoding='cp949') #각자 저장할 주소를 적어주세요"
   ]
  },
  {
   "cell_type": "code",
   "execution_count": null,
   "metadata": {},
   "outputs": [],
   "source": []
  }
 ],
 "metadata": {
  "kernelspec": {
   "display_name": "Python 3",
   "language": "python",
   "name": "python3"
  },
  "language_info": {
   "codemirror_mode": {
    "name": "ipython",
    "version": 3
   },
   "file_extension": ".py",
   "mimetype": "text/x-python",
   "name": "python",
   "nbconvert_exporter": "python",
   "pygments_lexer": "ipython3",
   "version": "3.8.3"
  }
 },
 "nbformat": 4,
 "nbformat_minor": 4
}
