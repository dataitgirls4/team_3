{
 "cells": [
  {
   "cell_type": "markdown",
   "metadata": {},
   "source": [
    "# table of contents\n",
    "[1. 필요한 파일 불러오기 및 정리](#bullet1)<br>\n",
    "[2. 데이터 EDA](#bullet2)<br>\n",
    "[3. Split Data](#bullet3)<br>\n",
    "[4. Similarity - with kNN](#bullet4)<br>\n",
    "[5. Make Predictions](#bullet5)<br>"
   ]
  },
  {
   "cell_type": "markdown",
   "metadata": {},
   "source": [
    "# 1. 필요한 파일 불러오기 및 정리<a class=\"anchor\" id=\"bullet1\"></a>\n"
   ]
  },
  {
   "cell_type": "code",
   "execution_count": 13,
   "metadata": {},
   "outputs": [],
   "source": [
    "from scipy.stats import pearsonr\n",
    "from datetime import datetime\n",
    "import pandas as pd\n",
    "import numpy as np\n",
    "import seaborn as sns\n",
    "import os\n",
    "import random\n",
    "import matplotlib\n",
    "import matplotlib.pyplot as plt\n",
    "from scipy import sparse\n",
    "from sklearn.metrics.pairwise import cosine_similarity\n",
    "from sklearn.metrics import mean_squared_error\n"
   ]
  },
  {
   "cell_type": "code",
   "execution_count": 10,
   "metadata": {},
   "outputs": [
    {
     "data": {
      "text/html": [
       "<div>\n",
       "<style scoped>\n",
       "    .dataframe tbody tr th:only-of-type {\n",
       "        vertical-align: middle;\n",
       "    }\n",
       "\n",
       "    .dataframe tbody tr th {\n",
       "        vertical-align: top;\n",
       "    }\n",
       "\n",
       "    .dataframe thead th {\n",
       "        text-align: right;\n",
       "    }\n",
       "</style>\n",
       "<table border=\"1\" class=\"dataframe\">\n",
       "  <thead>\n",
       "    <tr style=\"text-align: right;\">\n",
       "      <th></th>\n",
       "      <th>nickname</th>\n",
       "      <th>title</th>\n",
       "      <th>rating</th>\n",
       "    </tr>\n",
       "  </thead>\n",
       "  <tbody>\n",
       "    <tr>\n",
       "      <th>14244</th>\n",
       "      <td>ddorg321</td>\n",
       "      <td>골든아워2</td>\n",
       "      <td>80</td>\n",
       "    </tr>\n",
       "    <tr>\n",
       "      <th>13507</th>\n",
       "      <td>날윤</td>\n",
       "      <td>열하일기 첫걸음</td>\n",
       "      <td>100</td>\n",
       "    </tr>\n",
       "    <tr>\n",
       "      <th>11054</th>\n",
       "      <td>힉스입자</td>\n",
       "      <td>딜리트</td>\n",
       "      <td>100</td>\n",
       "    </tr>\n",
       "    <tr>\n",
       "      <th>11926</th>\n",
       "      <td>완벽완전팟방</td>\n",
       "      <td>초등 감정 사용법</td>\n",
       "      <td>100</td>\n",
       "    </tr>\n",
       "    <tr>\n",
       "      <th>7660</th>\n",
       "      <td>kban</td>\n",
       "      <td>[세계환상문학선] 오스카 와일드의 환상문학선</td>\n",
       "      <td>90</td>\n",
       "    </tr>\n",
       "  </tbody>\n",
       "</table>\n",
       "</div>"
      ],
      "text/plain": [
       "       nickname                     title  rating\n",
       "14244  ddorg321                     골든아워2      80\n",
       "13507        날윤                  열하일기 첫걸음     100\n",
       "11054      힉스입자                       딜리트     100\n",
       "11926    완벽완전팟방                 초등 감정 사용법     100\n",
       "7660       kban  [세계환상문학선] 오스카 와일드의 환상문학선      90"
      ]
     },
     "execution_count": 10,
     "metadata": {},
     "output_type": "execute_result"
    }
   ],
   "source": [
    "raw = pd.read_csv('booklist.csv', encoding='cp949', index_col = False)\n",
    "\n",
    "df = raw[['nickname', 'title',  'rating']]\n",
    "\n",
    "df.sample(5)"
   ]
  },
  {
   "cell_type": "markdown",
   "metadata": {},
   "source": [
    "## 1.1 title_df, user_df 만들기<a class=\"anchor\" id=\"bullet1.1\"></a>"
   ]
  },
  {
   "cell_type": "code",
   "execution_count": 15,
   "metadata": {},
   "outputs": [
    {
     "data": {
      "text/html": [
       "<div>\n",
       "<style scoped>\n",
       "    .dataframe tbody tr th:only-of-type {\n",
       "        vertical-align: middle;\n",
       "    }\n",
       "\n",
       "    .dataframe tbody tr th {\n",
       "        vertical-align: top;\n",
       "    }\n",
       "\n",
       "    .dataframe thead th {\n",
       "        text-align: right;\n",
       "    }\n",
       "</style>\n",
       "<table border=\"1\" class=\"dataframe\">\n",
       "  <thead>\n",
       "    <tr style=\"text-align: right;\">\n",
       "      <th></th>\n",
       "      <th>nickname</th>\n",
       "      <th>title</th>\n",
       "      <th>rating</th>\n",
       "      <th>usr_id</th>\n",
       "      <th>ttl_id</th>\n",
       "    </tr>\n",
       "  </thead>\n",
       "  <tbody>\n",
       "    <tr>\n",
       "      <th>15245</th>\n",
       "      <td>meiting</td>\n",
       "      <td>운명이다</td>\n",
       "      <td>100</td>\n",
       "      <td>1590</td>\n",
       "      <td>63</td>\n",
       "    </tr>\n",
       "    <tr>\n",
       "      <th>7576</th>\n",
       "      <td>율리맘</td>\n",
       "      <td>빨강머리 앤 : 에이번리 이야기</td>\n",
       "      <td>100</td>\n",
       "      <td>4326</td>\n",
       "      <td>19</td>\n",
       "    </tr>\n",
       "    <tr>\n",
       "      <th>8300</th>\n",
       "      <td>노브레끼</td>\n",
       "      <td>100인의 배우, 우리 문학을 읽다</td>\n",
       "      <td>60</td>\n",
       "      <td>4125</td>\n",
       "      <td>104</td>\n",
       "    </tr>\n",
       "    <tr>\n",
       "      <th>5419</th>\n",
       "      <td>빛나라둥이둥둥이</td>\n",
       "      <td>[공포괴담집] 저승에서 돌아온 남자</td>\n",
       "      <td>100</td>\n",
       "      <td>2018</td>\n",
       "      <td>56</td>\n",
       "    </tr>\n",
       "    <tr>\n",
       "      <th>1918</th>\n",
       "      <td>퐁이퐁퐁</td>\n",
       "      <td>블랙코미디</td>\n",
       "      <td>60</td>\n",
       "      <td>4088</td>\n",
       "      <td>126</td>\n",
       "    </tr>\n",
       "  </tbody>\n",
       "</table>\n",
       "</div>"
      ],
      "text/plain": [
       "       nickname                title  rating  usr_id  ttl_id\n",
       "15245   meiting                 운명이다     100    1590      63\n",
       "7576        율리맘    빨강머리 앤 : 에이번리 이야기     100    4326      19\n",
       "8300       노브레끼  100인의 배우, 우리 문학을 읽다      60    4125     104\n",
       "5419   빛나라둥이둥둥이  [공포괴담집] 저승에서 돌아온 남자     100    2018      56\n",
       "1918       퐁이퐁퐁                블랙코미디      60    4088     126"
      ]
     },
     "execution_count": 15,
     "metadata": {},
     "output_type": "execute_result"
    }
   ],
   "source": [
    "user_df = pd.DataFrame(list(df.nickname\t.unique()), columns = ['nickname'])\n",
    "user_df['usr_id'] = random.sample(range(1,len(user_df)+1), len(user_df))\n",
    "\n",
    "title_df = pd.DataFrame(list(df.title.unique()), columns = ['title'])\n",
    "title_df['ttl_id'] = random.sample(range(1,len(title_df)+1), len(title_df))\n",
    "\n",
    "df = df.merge(user_df, how = 'left' )\n",
    "df = df.merge(title_df, how = 'left' )\n",
    "\n",
    "df.sample(5)"
   ]
  },
  {
   "cell_type": "markdown",
   "metadata": {},
   "source": [
    "# 2. 데이터 EDA<a class=\"anchor\" id=\"bullet2\"></a>"
   ]
  },
  {
   "cell_type": "markdown",
   "metadata": {},
   "source": [
    "# 3. Split Data<a class=\"anchor\" id=\"bullet3\"></a>"
   ]
  },
  {
   "cell_type": "markdown",
   "metadata": {},
   "source": [
    "# 4. Similarity - with kNN<a class=\"anchor\" id=\"bullet4\"></a>"
   ]
  },
  {
   "cell_type": "markdown",
   "metadata": {},
   "source": [
    "# 5. Make Predictions<a class=\"anchor\" id=\"bullet5\"></a>"
   ]
  },
  {
   "cell_type": "markdown",
   "metadata": {},
   "source": []
  }
 ],
 "metadata": {
  "kernelspec": {
   "display_name": "Python 3",
   "language": "python",
   "name": "python3"
  },
  "language_info": {
   "codemirror_mode": {
    "name": "ipython",
    "version": 3
   },
   "file_extension": ".py",
   "mimetype": "text/x-python",
   "name": "python",
   "nbconvert_exporter": "python",
   "pygments_lexer": "ipython3",
   "version": "3.7.4"
  }
 },
 "nbformat": 4,
 "nbformat_minor": 2
}
