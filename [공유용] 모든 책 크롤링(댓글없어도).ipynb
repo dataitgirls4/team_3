{
 "cells": [
  {
   "cell_type": "markdown",
   "metadata": {},
   "source": [
    "- 연주) 소설문학 http://m.podbbang.com/audiobooks?category_id=100\n",
    "- 연주) 오디오북스 http://m.podbbang.com/audiobooks?category_id=111\n",
    "- 연주) 자기계발 http://m.podbbang.com/audiobooks?category_id=101\n",
    "- 지현) 경제경영 http://m.podbbang.com/audiobooks?category_id=103\n",
    "- 지현) 인문교양 http://m.podbbang.com/audiobooks?category_id=104\n",
    "- 지현) 역사 http://m.podbbang.com/audiobooks?category_id=105\n",
    "- 지현) 어린이동화 http://m.podbbang.com/audiobooks?category_id=106"
   ]
  },
  {
   "cell_type": "code",
   "execution_count": null,
   "metadata": {},
   "outputs": [],
   "source": [
    "from selenium import webdriver\n",
    "from bs4 import BeautifulSoup\n",
    "import pandas as pd\n",
    "import time\n",
    "from selenium.webdriver.support.ui import WebDriverWait"
   ]
  },
  {
   "cell_type": "code",
   "execution_count": null,
   "metadata": {},
   "outputs": [],
   "source": [
    "def scroll(driver, timeout):\n",
    "    scroll_pause_time = timeout\n",
    "\n",
    "    # Get scroll height\n",
    "    last_height = driver.execute_script(\"return document.body.scrollHeight\")\n",
    "\n",
    "    while True:\n",
    "        # Scroll down to bottom\n",
    "        driver.execute_script(\"window.scrollTo(0, document.body.scrollHeight);\")\n",
    "\n",
    "        # Wait to load page\n",
    "        time.sleep(scroll_pause_time)\n",
    "\n",
    "        # Calculate new scroll height and compare with last scroll height\n",
    "        new_height = driver.execute_script(\"return document.body.scrollHeight\")\n",
    "        if new_height == last_height:\n",
    "            # If heights are the same it will exit the function\n",
    "            break\n",
    "        last_height = new_height"
   ]
  },
  {
   "cell_type": "code",
   "execution_count": null,
   "metadata": {},
   "outputs": [],
   "source": [
    "driver = webdriver.Chrome('C:/Users/USER/Desktop/데잇걸즈/파이썬/[어수웅] 파이썬 프로그래밍/chromedriver') #각자 chromedriver가 설치되어있는 주소를 입력해주세요\n",
    "driver.implicitly_wait(5)\n",
    "driver.get(\"http://m.podbbang.com/audiobooks?category_id=100\") #각자 맡은 카테고리 페이지 url을 입력해주세요\n",
    "scroll(driver, 1) #스크롤 끝까지 내려\n",
    "html = driver.page_source\n",
    "soup = BeautifulSoup(html, 'html.parser')"
   ]
  },
  {
   "cell_type": "code",
   "execution_count": null,
   "metadata": {},
   "outputs": [],
   "source": [
    "nums = []\n",
    "for i in range(len(soup.select('div.thumb'))):\n",
    "    a = soup.select('div.thumb')[i].get('style')[67:74]\n",
    "    nums.append(a)"
   ]
  },
  {
   "cell_type": "code",
   "execution_count": null,
   "metadata": {},
   "outputs": [],
   "source": [
    "url=[]\n",
    "for i in nums:\n",
    "    b = f'http://m.podbbang.com/audiobook/channel?id={i}'\n",
    "    url.append(b)"
   ]
  },
  {
   "cell_type": "code",
   "execution_count": null,
   "metadata": {},
   "outputs": [],
   "source": [
    "title = []\n",
    "author = []\n",
    "voice = []\n",
    "publish = []"
   ]
  },
  {
   "cell_type": "code",
   "execution_count": null,
   "metadata": {},
   "outputs": [],
   "source": [
    "driver = webdriver.Chrome('C:/Users/USER/Desktop/데잇걸즈/파이썬/[어수웅] 파이썬 프로그래밍/chromedriver') #각자 chromedriver가 설치되어있는 주소를 입력해주세요\n",
    "driver.implicitly_wait(5)\n",
    "for i in url:\n",
    "    driver.get(f'{i}') #각자 맡은 카테고리 페이지 url을 입력해주세요\n",
    "    WebDriverWait(driver, 3)\n",
    "    html = driver.page_source\n",
    "    soup = BeautifulSoup(html, 'html.parser')\n",
    "    time.sleep(1)\n",
    "    a=soup.select('dt.title')[0].text\n",
    "    b=soup.select('dl.audiobook-details__info>dd')[1].text[3:]\n",
    "    c=soup.select('dl.audiobook-details__info>dd')[2].text[2:]\n",
    "    d=soup.select('dl.audiobook-details__info>dd')[3].text[3:]\n",
    "    title.append(a)\n",
    "    voice.append(b)\n",
    "    author.append(c)\n",
    "    publish.append(d)"
   ]
  },
  {
   "cell_type": "code",
   "execution_count": null,
   "metadata": {},
   "outputs": [],
   "source": [
    "booklist = pd.DataFrame({\n",
    "    'title':title,\n",
    "    'voice':voice,\n",
    "    'author':author,\n",
    "    'publish':publish\n",
    "})\n",
    "\n",
    "booklist"
   ]
  },
  {
   "cell_type": "code",
   "execution_count": null,
   "metadata": {},
   "outputs": [],
   "source": [
    "booklist.to_csv('C:/Users/USER/Desktop/깃헙코웤/team_3/문서제목.csv', encoding='utf-8') #각자 저장할 주소를 적어주세요"
   ]
  },
  {
   "cell_type": "code",
   "execution_count": null,
   "metadata": {},
   "outputs": [],
   "source": []
  },
  {
   "cell_type": "code",
   "execution_count": null,
   "metadata": {},
   "outputs": [],
   "source": []
  },
  {
   "cell_type": "code",
   "execution_count": null,
   "metadata": {},
   "outputs": [],
   "source": []
  }
 ],
 "metadata": {
  "kernelspec": {
   "display_name": "Python 3",
   "language": "python",
   "name": "python3"
  },
  "language_info": {
   "codemirror_mode": {
    "name": "ipython",
    "version": 3
   },
   "file_extension": ".py",
   "mimetype": "text/x-python",
   "name": "python",
   "nbconvert_exporter": "python",
   "pygments_lexer": "ipython3",
   "version": "3.7.4"
  },
  "toc": {
   "base_numbering": 1,
   "nav_menu": {},
   "number_sections": true,
   "sideBar": true,
   "skip_h1_title": false,
   "title_cell": "Table of Contents",
   "title_sidebar": "Contents",
   "toc_cell": false,
   "toc_position": {},
   "toc_section_display": true,
   "toc_window_display": false
  }
 },
 "nbformat": 4,
 "nbformat_minor": 4
}
