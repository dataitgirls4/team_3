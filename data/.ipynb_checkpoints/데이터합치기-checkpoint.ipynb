{
 "cells": [
  {
   "cell_type": "code",
   "execution_count": 1,
   "metadata": {},
   "outputs": [],
   "source": [
    "import pandas as pd"
   ]
  },
  {
   "cell_type": "code",
   "execution_count": 2,
   "metadata": {},
   "outputs": [],
   "source": [
    "b1 = pd.read_csv('전체1.소설문학.csv', encoding='utf-8')\n",
    "b2 = pd.read_csv('전체2.오디오북스.csv', encoding='utf-8')\n",
    "b3 = pd.read_csv('전체3.자기계발.csv', encoding='utf-8')\n",
    "b4 = pd.read_csv('전체4.경제경영.csv', encoding='utf-8')\n",
    "b5 = pd.read_csv('전체5.인문교양.csv', encoding='utf-8')\n",
    "b6 = pd.read_csv('전체6.역사.csv', encoding='utf-8')\n",
    "b7 = pd.read_csv('전체7.어린이동화.csv', encoding='utf-8')"
   ]
  },
  {
   "cell_type": "code",
   "execution_count": 3,
   "metadata": {},
   "outputs": [],
   "source": [
    "total = pd.concat([b1,b2,b3,b4,b5,b6,b7])"
   ]
  },
  {
   "cell_type": "code",
   "execution_count": 4,
   "metadata": {},
   "outputs": [
    {
     "data": {
      "text/html": [
       "<div>\n",
       "<style scoped>\n",
       "    .dataframe tbody tr th:only-of-type {\n",
       "        vertical-align: middle;\n",
       "    }\n",
       "\n",
       "    .dataframe tbody tr th {\n",
       "        vertical-align: top;\n",
       "    }\n",
       "\n",
       "    .dataframe thead th {\n",
       "        text-align: right;\n",
       "    }\n",
       "</style>\n",
       "<table border=\"1\" class=\"dataframe\">\n",
       "  <thead>\n",
       "    <tr style=\"text-align: right;\">\n",
       "      <th></th>\n",
       "      <th>title</th>\n",
       "      <th>voice</th>\n",
       "      <th>author</th>\n",
       "      <th>publish</th>\n",
       "    </tr>\n",
       "  </thead>\n",
       "  <tbody>\n",
       "    <tr>\n",
       "      <th>0</th>\n",
       "      <td>매향리, 평화가 오다</td>\n",
       "      <td>이미나</td>\n",
       "      <td>화성시(기획),전혜진(글),김준현(사진)</td>\n",
       "      <td>화성시</td>\n",
       "    </tr>\n",
       "    <tr>\n",
       "      <th>1</th>\n",
       "      <td>[이유영 낭독] 다정한 유전 _작은책</td>\n",
       "      <td>이유영</td>\n",
       "      <td>강화길</td>\n",
       "      <td>아르테</td>\n",
       "    </tr>\n",
       "    <tr>\n",
       "      <th>2</th>\n",
       "      <td>저스트 어 모멘트</td>\n",
       "      <td>이나리</td>\n",
       "      <td>이경화</td>\n",
       "      <td>탐</td>\n",
       "    </tr>\n",
       "    <tr>\n",
       "      <th>3</th>\n",
       "      <td>사춘기라서 그래</td>\n",
       "      <td>조현정</td>\n",
       "      <td>이명랑</td>\n",
       "      <td>탐</td>\n",
       "    </tr>\n",
       "    <tr>\n",
       "      <th>4</th>\n",
       "      <td>[단편] 헤엄치는 밤</td>\n",
       "      <td>최인영</td>\n",
       "      <td>한유주</td>\n",
       "      <td>미디어창비</td>\n",
       "    </tr>\n",
       "    <tr>\n",
       "      <th>...</th>\n",
       "      <td>...</td>\n",
       "      <td>...</td>\n",
       "      <td>...</td>\n",
       "      <td>...</td>\n",
       "    </tr>\n",
       "    <tr>\n",
       "      <th>1718</th>\n",
       "      <td>땍때굴</td>\n",
       "      <td>NaN</td>\n",
       "      <td>김이구</td>\n",
       "      <td>창비</td>\n",
       "    </tr>\n",
       "    <tr>\n",
       "      <th>1719</th>\n",
       "      <td>꿈틀꿈틀</td>\n",
       "      <td>NaN</td>\n",
       "      <td>김이구</td>\n",
       "      <td>창비</td>\n",
       "    </tr>\n",
       "    <tr>\n",
       "      <th>1720</th>\n",
       "      <td>어린이를 위한 안데르센 영어동화</td>\n",
       "      <td>NaN</td>\n",
       "      <td>한스 크리스티안 안데르센</td>\n",
       "      <td>팟빵북스</td>\n",
       "    </tr>\n",
       "    <tr>\n",
       "      <th>1721</th>\n",
       "      <td>7년 동안의 잠</td>\n",
       "      <td>유경선</td>\n",
       "      <td>박완서</td>\n",
       "      <td>어린이작가정신</td>\n",
       "    </tr>\n",
       "    <tr>\n",
       "      <th>1722</th>\n",
       "      <td>잠자고 싶은 토끼</td>\n",
       "      <td>은정</td>\n",
       "      <td>칼요한포셴엘린</td>\n",
       "      <td>쌤앤파커스</td>\n",
       "    </tr>\n",
       "  </tbody>\n",
       "</table>\n",
       "<p>1723 rows × 4 columns</p>\n",
       "</div>"
      ],
      "text/plain": [
       "                     title voice                  author  publish\n",
       "0              매향리, 평화가 오다   이미나  화성시(기획),전혜진(글),김준현(사진)      화성시\n",
       "1     [이유영 낭독] 다정한 유전 _작은책   이유영                     강화길      아르테\n",
       "2                저스트 어 모멘트   이나리                     이경화        탐\n",
       "3                 사춘기라서 그래   조현정                     이명랑        탐\n",
       "4              [단편] 헤엄치는 밤   최인영                     한유주    미디어창비\n",
       "...                    ...   ...                     ...      ...\n",
       "1718                   땍때굴   NaN                     김이구       창비\n",
       "1719                  꿈틀꿈틀   NaN                     김이구       창비\n",
       "1720     어린이를 위한 안데르센 영어동화   NaN           한스 크리스티안 안데르센     팟빵북스\n",
       "1721              7년 동안의 잠   유경선                     박완서  어린이작가정신\n",
       "1722             잠자고 싶은 토끼    은정                 칼요한포셴엘린    쌤앤파커스\n",
       "\n",
       "[1723 rows x 4 columns]"
      ]
     },
     "execution_count": 4,
     "metadata": {},
     "output_type": "execute_result"
    }
   ],
   "source": [
    "total = total.drop('Unnamed: 0', axis=1).reset_index()\n",
    "total = total.drop('index', axis=1)\n",
    "total"
   ]
  },
  {
   "cell_type": "code",
   "execution_count": 6,
   "metadata": {},
   "outputs": [],
   "source": [
    "total.to_csv('전체합.csv', encoding='utf-8')"
   ]
  },
  {
   "cell_type": "code",
   "execution_count": null,
   "metadata": {},
   "outputs": [],
   "source": []
  }
 ],
 "metadata": {
  "kernelspec": {
   "display_name": "Python 3",
   "language": "python",
   "name": "python3"
  },
  "language_info": {
   "codemirror_mode": {
    "name": "ipython",
    "version": 3
   },
   "file_extension": ".py",
   "mimetype": "text/x-python",
   "name": "python",
   "nbconvert_exporter": "python",
   "pygments_lexer": "ipython3",
   "version": "3.8.3"
  }
 },
 "nbformat": 4,
 "nbformat_minor": 4
}
